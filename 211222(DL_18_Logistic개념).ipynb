{
 "cells": [
  {
   "cell_type": "code",
   "execution_count": 1,
   "id": "9e2c5408",
   "metadata": {},
   "outputs": [],
   "source": [
    "import tensorflow as tf\n",
    "import numpy as np\n",
    "import matplotlib.pyplot as plt\n",
    "plt.style.use(\"ggplot\")"
   ]
  },
  {
   "cell_type": "code",
   "execution_count": 2,
   "id": "bfc9fe2f",
   "metadata": {},
   "outputs": [],
   "source": [
    "# x_data1 = [1, 2, 3]\n",
    "# y_data1 = [1, 2, 3]\n",
    "x_data1 = np.array( [1,2,3,4,2,6,7,8,9,10] ) #출석 일수\n",
    "y_data1 = np.array( [0,0,0,0,0,1,1,1,1,1] ) #합격 여부"
   ]
  },
  {
   "cell_type": "code",
   "execution_count": 3,
   "id": "2ec5e81c",
   "metadata": {},
   "outputs": [],
   "source": [
    "def cost(x,y,w):\n",
    "#     hx = w*x\n",
    "    z = w*x\n",
    "    hx = tf.nn.sigmoid( z ) # 0~1사이값\n",
    "    cost = - tf.reduce_mean( y * tf.math.log(hx) + (1 - y) * (tf.math.log(1 - hx)) )\n",
    "# #     cost = tf.reduce_mean( (hx-y)**2)\n",
    "# #     cost = -tf.reduce_mean( y * tf.math.log(hx) + (1 - y) * (tf.math.log(1 - hx)) )\n",
    "#     cost_i = -( y * tf.math.log(hx) + (1 - y) * (tf.math.log(1 - hx)) )\n",
    "# #     cost_i = tf.nn.sigmoid_cross_entropy_with_logits(labels=y, logits=z)\n",
    "#     cost = tf.reduce_mean( cost_i )\n",
    "    return cost.numpy()"
   ]
  },
  {
   "cell_type": "code",
   "execution_count": 4,
   "id": "52d7ed8c",
   "metadata": {},
   "outputs": [],
   "source": [
    "x_data1 = tf.constant(x_data1, tf.float32)\n",
    "y_data1 = tf.constant(y_data1, tf.float32)"
   ]
  },
  {
   "cell_type": "code",
   "execution_count": 5,
   "id": "01d78b98",
   "metadata": {},
   "outputs": [
    {
     "data": {
      "text/plain": [
       "nan"
      ]
     },
     "execution_count": 5,
     "metadata": {},
     "output_type": "execute_result"
    }
   ],
   "source": [
    "cost(x_data1, y_data1, 3)"
   ]
  },
  {
   "cell_type": "code",
   "execution_count": 6,
   "id": "a7e22f1d",
   "metadata": {},
   "outputs": [
    {
     "data": {
      "image/png": "[encoded data removed]",
      "text/plain": [
       "<Figure size 432x288 with 1 Axes>"
      ]
     },
     "metadata": {},
     "output_type": "display_data"
    }
   ],
   "source": [
    "# for w in np.linspace(-3, 5, 50):\n",
    "for w in np.linspace(-1, 5, 50):\n",
    "    c = cost(x_data1, y_data1, w)\n",
    "    plt.plot(w, c, 'ro')\n",
    "plt.show()"
   ]
  }
 ],
 "metadata": {
  "kernelspec": {
   "display_name": "Python 3",
   "language": "python",
   "name": "python3"
  },
  "language_info": {
   "codemirror_mode": {
    "name": "ipython",
    "version": 3
   },
   "file_extension": ".py",
   "mimetype": "text/x-python",
   "name": "python",
   "nbconvert_exporter": "python",
   "pygments_lexer": "ipython3",
   "version": "3.8.8"
  }
 },
 "nbformat": 4,
 "nbformat_minor": 5
}
