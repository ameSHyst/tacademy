{
 "cells": [
  {
   "cell_type": "code",
   "execution_count": 5,
   "id": "725dba79",
   "metadata": {},
   "outputs": [],
   "source": [
    "import tensorflow as tf\n",
    "import numpy as np\n",
    "import pandas as pd\n",
    "import matplotlib.pyplot as plt\n",
    "plt.style.use('ggplot')\n",
    "from tensorflow.keras.optimizers import Adam\n",
    "from tensorflow.keras import Sequential\n",
    "from tensorflow.keras.layers import Dense, Flatten\n",
    "from tensorflow.keras.datasets.mnist import load_data\n",
    "from tensorflow.keras.utils import to_categorical"
   ]
  },
  {
   "cell_type": "code",
   "execution_count": 3,
   "id": "9ecce7d2",
   "metadata": {},
   "outputs": [],
   "source": [
    "mnistData = load_data()"
   ]
  },
  {
   "cell_type": "code",
   "execution_count": 4,
   "id": "f1530f3d",
   "metadata": {},
   "outputs": [],
   "source": [
    "(x_train, y_train), (x_test, y_test) = mnistData #( (x_train, y_train), (x_test, y_test) )"
   ]
  },
  {
   "cell_type": "code",
   "execution_count": 6,
   "id": "e195e119",
   "metadata": {},
   "outputs": [
    {
     "data": {
      "text/plain": [
       "(60000, 28, 28)"
      ]
     },
     "execution_count": 6,
     "metadata": {},
     "output_type": "execute_result"
    }
   ],
   "source": [
    "x_train.shape"
   ]
  },
  {
   "cell_type": "code",
   "execution_count": 7,
   "id": "7fd1a08a",
   "metadata": {},
   "outputs": [
    {
     "name": "stdout",
     "output_type": "stream",
     "text": [
      "Epoch 1/10\n",
      "1875/1875 [==============================] - 2s 748us/step - loss: 1.6353 - acc: 0.6515\n",
      "Epoch 2/10\n",
      "1875/1875 [==============================] - 1s 725us/step - loss: 0.4819 - acc: 0.8675\n",
      "Epoch 3/10\n",
      "1875/1875 [==============================] - 1s 737us/step - loss: 0.3104 - acc: 0.9162\n",
      "Epoch 4/10\n",
      "1875/1875 [==============================] - 1s 739us/step - loss: 0.2248 - acc: 0.9400\n",
      "Epoch 5/10\n",
      "1875/1875 [==============================] - 1s 730us/step - loss: 0.1771 - acc: 0.9517\n",
      "Epoch 6/10\n",
      "1875/1875 [==============================] - 1s 739us/step - loss: 0.1481 - acc: 0.9590\n",
      "Epoch 7/10\n",
      "1875/1875 [==============================] - 1s 736us/step - loss: 0.1305 - acc: 0.9635\n",
      "Epoch 8/10\n",
      "1875/1875 [==============================] - 1s 737us/step - loss: 0.1225 - acc: 0.9660\n",
      "Epoch 9/10\n",
      "1875/1875 [==============================] - 1s 732us/step - loss: 0.1067 - acc: 0.9704\n",
      "Epoch 10/10\n",
      "1875/1875 [==============================] - 1s 741us/step - loss: 0.1031 - acc: 0.9721\n"
     ]
    },
    {
     "data": {
      "text/plain": [
       "<keras.callbacks.History at 0x2ca63b2f9d0>"
      ]
     },
     "execution_count": 7,
     "metadata": {},
     "output_type": "execute_result"
    }
   ],
   "source": [
    "model = Sequential()\n",
    "model.add( Flatten( input_shape=(28, 28) ) ) #3차원 -> 2차원\n",
    "model.add( Dense( units=64, activation='relu' ) ) #vanishing gradient 방지\n",
    "model.add( Dense( units=32, activation='relu' ) )\n",
    "model.add( Dense( units=10, activation='softmax' ) )\n",
    "model.compile(loss='sparse_categorical_crossentropy', optimizer='Adam', metrics=['acc']) #원핫 안해도 됨\n",
    "model.fit(x_train, y_train, epochs=10)"
   ]
  },
  {
   "cell_type": "code",
   "execution_count": 9,
   "id": "7fe20640",
   "metadata": {},
   "outputs": [
    {
     "data": {
      "text/plain": [
       "(28, 28)"
      ]
     },
     "execution_count": 9,
     "metadata": {},
     "output_type": "execute_result"
    }
   ],
   "source": [
    "x_test[0].shape"
   ]
  },
  {
   "cell_type": "code",
   "execution_count": 11,
   "id": "30e5e626",
   "metadata": {},
   "outputs": [
    {
     "data": {
      "text/plain": [
       "array([7], dtype=int64)"
      ]
     },
     "execution_count": 11,
     "metadata": {},
     "output_type": "execute_result"
    }
   ],
   "source": [
    "model.predict(x_test[0].reshape(1, 28, 28)).argmax(axis=1)"
   ]
  },
  {
   "cell_type": "code",
   "execution_count": 13,
   "id": "547fda3e",
   "metadata": {},
   "outputs": [
    {
     "data": {
      "text/plain": [
       "array([7, 2, 1, ..., 4, 5, 6], dtype=int64)"
      ]
     },
     "execution_count": 13,
     "metadata": {},
     "output_type": "execute_result"
    }
   ],
   "source": [
    "model.predict(x_test).argmax(axis=1)"
   ]
  },
  {
   "cell_type": "code",
   "execution_count": 14,
   "id": "2aac251d",
   "metadata": {},
   "outputs": [
    {
     "name": "stdout",
     "output_type": "stream",
     "text": [
      "313/313 [==============================] - 0s 628us/step - loss: 0.1902 - acc: 0.9586\n"
     ]
    },
    {
     "data": {
      "text/plain": [
       "[0.19018559157848358, 0.9585999846458435]"
      ]
     },
     "execution_count": 14,
     "metadata": {},
     "output_type": "execute_result"
    }
   ],
   "source": [
    "model.evaluate(x_test, y_test)"
   ]
  }
 ],
 "metadata": {
  "kernelspec": {
   "display_name": "Python 3",
   "language": "python",
   "name": "python3"
  },
  "language_info": {
   "codemirror_mode": {
    "name": "ipython",
    "version": 3
   },
   "file_extension": ".py",
   "mimetype": "text/x-python",
   "name": "python",
   "nbconvert_exporter": "python",
   "pygments_lexer": "ipython3",
   "version": "3.8.8"
  }
 },
 "nbformat": 4,
 "nbformat_minor": 5
}
