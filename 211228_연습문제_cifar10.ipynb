{
 "cells": [
  {
   "cell_type": "markdown",
   "id": "1155cd1c",
   "metadata": {},
   "source": [
    "### CNN & 딥러닝 학습\n",
    "    샘플이미지 분류 확인\n",
    "    Confusion matrix\n",
    "    F1 score"
   ]
  },
  {
   "cell_type": "code",
   "execution_count": 32,
   "id": "d6647adb",
   "metadata": {},
   "outputs": [],
   "source": [
    "import tensorflow as tf\n",
    "import numpy as np\n",
    "import pandas as pd\n",
    "import matplotlib.pyplot as plt\n",
    "plt.style.use('ggplot')\n",
    "\n",
    "from tensorflow.keras.optimizers import Adam\n",
    "from tensorflow.keras import Sequential\n",
    "from tensorflow.keras.layers import Dense, Flatten, Conv2D, MaxPool2D\n",
    "from tensorflow.keras.datasets.mnist import load_data\n",
    "from tensorflow.keras.utils import to_categorical\n",
    "\n",
    "import seaborn as sns\n",
    "from sklearn.metrics import confusion_matrix, f1_score"
   ]
  },
  {
   "cell_type": "code",
   "execution_count": 1,
   "id": "af4f6664",
   "metadata": {},
   "outputs": [],
   "source": [
    "from tensorflow.keras.datasets import cifar10"
   ]
  },
  {
   "cell_type": "code",
   "execution_count": 2,
   "id": "e222e04f",
   "metadata": {},
   "outputs": [
    {
     "name": "stdout",
     "output_type": "stream",
     "text": [
      "Downloading data from https://www.cs.toronto.edu/~kriz/cifar-10-python.tar.gz\n",
      "170500096/170498071 [==============================] - 118s 1us/step\n",
      "170508288/170498071 [==============================] - 118s 1us/step\n"
     ]
    }
   ],
   "source": [
    "(X_train, y_train), (X_test, y_test) = cifar10.load_data()"
   ]
  },
  {
   "cell_type": "code",
   "execution_count": null,
   "id": "6c0f9343",
   "metadata": {},
   "outputs": [],
   "source": [
    "from sklearn.model_selection import train_test_split\n",
    "x_test, x_valid, y_test, y_valid = train_test_split(x_test, y_test, test_size=0.2, stratify= y_test)"
   ]
  },
  {
   "cell_type": "code",
   "execution_count": 4,
   "id": "7a077ea5",
   "metadata": {},
   "outputs": [
    {
     "data": {
      "text/plain": [
       "(50000, 32, 32, 3)"
      ]
     },
     "execution_count": 4,
     "metadata": {},
     "output_type": "execute_result"
    }
   ],
   "source": [
    "x_train.shape"
   ]
  },
  {
   "cell_type": "code",
   "execution_count": 5,
   "id": "50254058",
   "metadata": {},
   "outputs": [
    {
     "data": {
      "text/plain": [
       "(50000, 1)"
      ]
     },
     "execution_count": 5,
     "metadata": {},
     "output_type": "execute_result"
    }
   ],
   "source": [
    "y_train.shape"
   ]
  },
  {
   "cell_type": "markdown",
   "id": "a6aa40b7",
   "metadata": {},
   "source": [
    "### CNN"
   ]
  },
  {
   "cell_type": "code",
   "execution_count": 45,
   "id": "0a56010d",
   "metadata": {},
   "outputs": [
    {
     "name": "stdout",
     "output_type": "stream",
     "text": [
      "Epoch 1/20\n",
      "1563/1563 [==============================] - 45s 29ms/step - loss: 2.2065 - acc: 0.4180\n",
      "Epoch 2/20\n",
      "1563/1563 [==============================] - 43s 28ms/step - loss: 1.1984 - acc: 0.5777\n",
      "Epoch 3/20\n",
      "1563/1563 [==============================] - 44s 28ms/step - loss: 0.9736 - acc: 0.6586\n",
      "Epoch 4/20\n",
      "1563/1563 [==============================] - 43s 27ms/step - loss: 0.8087 - acc: 0.7176\n",
      "Epoch 5/20\n",
      "1563/1563 [==============================] - 43s 27ms/step - loss: 0.6609 - acc: 0.7680\n",
      "Epoch 6/20\n",
      "1563/1563 [==============================] - 43s 27ms/step - loss: 0.5478 - acc: 0.8077\n",
      "Epoch 7/20\n",
      "1563/1563 [==============================] - 43s 28ms/step - loss: 0.4468 - acc: 0.8445\n",
      "Epoch 8/20\n",
      "1563/1563 [==============================] - 43s 27ms/step - loss: 0.3835 - acc: 0.8696\n",
      "Epoch 9/20\n",
      "1563/1563 [==============================] - 43s 27ms/step - loss: 0.3291 - acc: 0.8881\n",
      "Epoch 10/20\n",
      "1563/1563 [==============================] - 43s 28ms/step - loss: 0.2795 - acc: 0.9037\n",
      "Epoch 11/20\n",
      "1563/1563 [==============================] - 43s 27ms/step - loss: 0.2624 - acc: 0.9119\n",
      "Epoch 12/20\n",
      "1563/1563 [==============================] - 43s 28ms/step - loss: 0.2330 - acc: 0.9238\n",
      "Epoch 13/20\n",
      "1563/1563 [==============================] - 43s 28ms/step - loss: 0.2119 - acc: 0.9316\n",
      "Epoch 14/20\n",
      "1563/1563 [==============================] - 43s 28ms/step - loss: 0.2074 - acc: 0.9335\n",
      "Epoch 15/20\n",
      "1563/1563 [==============================] - 44s 28ms/step - loss: 0.1939 - acc: 0.9377\n",
      "Epoch 16/20\n",
      "1563/1563 [==============================] - 43s 28ms/step - loss: 0.1783 - acc: 0.9442\n",
      "Epoch 17/20\n",
      "1563/1563 [==============================] - 43s 28ms/step - loss: 0.1707 - acc: 0.9479\n",
      "Epoch 18/20\n",
      "1563/1563 [==============================] - 43s 28ms/step - loss: 0.1726 - acc: 0.9487\n",
      "Epoch 19/20\n",
      "1563/1563 [==============================] - 44s 28ms/step - loss: 0.1549 - acc: 0.9555 1s - loss\n",
      "Epoch 20/20\n",
      "1563/1563 [==============================] - 43s 28ms/step - loss: 0.1646 - acc: 0.9535\n"
     ]
    },
    {
     "data": {
      "text/plain": [
       "<keras.callbacks.History at 0x1fe4ae889d0>"
      ]
     },
     "execution_count": 45,
     "metadata": {},
     "output_type": "execute_result"
    }
   ],
   "source": [
    "model = Sequential()\n",
    "              #필터 갯수  #필터 사이즈  #몇칸씩 이동\n",
    "model.add( Conv2D(32, kernel_size=(3, 3), strides=1, input_shape=(32, 32, 3),\n",
    "                 activation = 'relu', padding='same') )\n",
    "model.add( Conv2D(64, kernel_size=(3, 3), activation='relu') )\n",
    "model.add( MaxPool2D(pool_size=(3, 3) ) )\n",
    "model.add( Flatten() )\n",
    "model.add( Dense( units=64, activation='relu'))\n",
    "model.add( Dense( units=10, activation='softmax'))\n",
    "model.compile(loss='sparse_categorical_crossentropy', optimizer='Adam', metrics=['acc'])\n",
    "model.fit(x_train.reshape(50000, 32, 32, 3), y_trainOne, epochs=20, validation_data= (x_valid, y_valid), callbacks= [earlyStop], workers= -1)"
   ]
  },
  {
   "cell_type": "markdown",
   "id": "12391d2b",
   "metadata": {},
   "source": [
    "#### test"
   ]
  },
  {
   "cell_type": "code",
   "execution_count": 69,
   "id": "8059d81c",
   "metadata": {
    "collapsed": true
   },
   "outputs": [
    {
     "data": {
      "text/plain": [
       "array([[[[0.61960784, 0.43921569, 0.19215686],\n",
       "         [0.62352941, 0.43529412, 0.18431373],\n",
       "         [0.64705882, 0.45490196, 0.2       ],\n",
       "         ...,\n",
       "         [0.5372549 , 0.37254902, 0.14117647],\n",
       "         [0.49411765, 0.35686275, 0.14117647],\n",
       "         [0.45490196, 0.33333333, 0.12941176]],\n",
       "\n",
       "        [[0.59607843, 0.43921569, 0.2       ],\n",
       "         [0.59215686, 0.43137255, 0.15686275],\n",
       "         [0.62352941, 0.44705882, 0.17647059],\n",
       "         ...,\n",
       "         [0.53333333, 0.37254902, 0.12156863],\n",
       "         [0.49019608, 0.35686275, 0.1254902 ],\n",
       "         [0.46666667, 0.34509804, 0.13333333]],\n",
       "\n",
       "        [[0.59215686, 0.43137255, 0.18431373],\n",
       "         [0.59215686, 0.42745098, 0.12941176],\n",
       "         [0.61960784, 0.43529412, 0.14117647],\n",
       "         ...,\n",
       "         [0.54509804, 0.38431373, 0.13333333],\n",
       "         [0.50980392, 0.37254902, 0.13333333],\n",
       "         [0.47058824, 0.34901961, 0.12941176]],\n",
       "\n",
       "        ...,\n",
       "\n",
       "        [[0.26666667, 0.48627451, 0.69411765],\n",
       "         [0.16470588, 0.39215686, 0.58039216],\n",
       "         [0.12156863, 0.34509804, 0.5372549 ],\n",
       "         ...,\n",
       "         [0.14901961, 0.38039216, 0.57254902],\n",
       "         [0.05098039, 0.25098039, 0.42352941],\n",
       "         [0.15686275, 0.33333333, 0.49803922]],\n",
       "\n",
       "        [[0.23921569, 0.45490196, 0.65882353],\n",
       "         [0.19215686, 0.4       , 0.58039216],\n",
       "         [0.1372549 , 0.33333333, 0.51764706],\n",
       "         ...,\n",
       "         [0.10196078, 0.32156863, 0.50980392],\n",
       "         [0.11372549, 0.32156863, 0.49411765],\n",
       "         [0.07843137, 0.25098039, 0.41960784]],\n",
       "\n",
       "        [[0.21176471, 0.41960784, 0.62745098],\n",
       "         [0.21960784, 0.41176471, 0.58431373],\n",
       "         [0.17647059, 0.34901961, 0.51764706],\n",
       "         ...,\n",
       "         [0.09411765, 0.30196078, 0.48627451],\n",
       "         [0.13333333, 0.32941176, 0.50588235],\n",
       "         [0.08235294, 0.2627451 , 0.43137255]]],\n",
       "\n",
       "\n",
       "       [[[0.92156863, 0.92156863, 0.92156863],\n",
       "         [0.90588235, 0.90588235, 0.90588235],\n",
       "         [0.90980392, 0.90980392, 0.90980392],\n",
       "         ...,\n",
       "         [0.91372549, 0.91372549, 0.91372549],\n",
       "         [0.91372549, 0.91372549, 0.91372549],\n",
       "         [0.90980392, 0.90980392, 0.90980392]],\n",
       "\n",
       "        [[0.93333333, 0.93333333, 0.93333333],\n",
       "         [0.92156863, 0.92156863, 0.92156863],\n",
       "         [0.92156863, 0.92156863, 0.92156863],\n",
       "         ...,\n",
       "         [0.9254902 , 0.9254902 , 0.9254902 ],\n",
       "         [0.9254902 , 0.9254902 , 0.9254902 ],\n",
       "         [0.92156863, 0.92156863, 0.92156863]],\n",
       "\n",
       "        [[0.92941176, 0.92941176, 0.92941176],\n",
       "         [0.91764706, 0.91764706, 0.91764706],\n",
       "         [0.91764706, 0.91764706, 0.91764706],\n",
       "         ...,\n",
       "         [0.92156863, 0.92156863, 0.92156863],\n",
       "         [0.92156863, 0.92156863, 0.92156863],\n",
       "         [0.91764706, 0.91764706, 0.91764706]],\n",
       "\n",
       "        ...,\n",
       "\n",
       "        [[0.34117647, 0.38823529, 0.34901961],\n",
       "         [0.16862745, 0.2       , 0.14509804],\n",
       "         [0.0745098 , 0.09019608, 0.04313725],\n",
       "         ...,\n",
       "         [0.6627451 , 0.72156863, 0.70196078],\n",
       "         [0.71372549, 0.77254902, 0.75686275],\n",
       "         [0.7372549 , 0.79215686, 0.78823529]],\n",
       "\n",
       "        [[0.32156863, 0.37647059, 0.32156863],\n",
       "         [0.18039216, 0.22352941, 0.14117647],\n",
       "         [0.14117647, 0.17254902, 0.08627451],\n",
       "         ...,\n",
       "         [0.68235294, 0.74117647, 0.71764706],\n",
       "         [0.7254902 , 0.78431373, 0.76862745],\n",
       "         [0.73333333, 0.79215686, 0.78431373]],\n",
       "\n",
       "        [[0.33333333, 0.39607843, 0.3254902 ],\n",
       "         [0.24313725, 0.29411765, 0.18823529],\n",
       "         [0.22745098, 0.2627451 , 0.14901961],\n",
       "         ...,\n",
       "         [0.65882353, 0.71764706, 0.69803922],\n",
       "         [0.70588235, 0.76470588, 0.74901961],\n",
       "         [0.72941176, 0.78431373, 0.78039216]]],\n",
       "\n",
       "\n",
       "       [[[0.61960784, 0.74509804, 0.87058824],\n",
       "         [0.61960784, 0.73333333, 0.85490196],\n",
       "         [0.54509804, 0.65098039, 0.76078431],\n",
       "         ...,\n",
       "         [0.89411765, 0.90588235, 0.91764706],\n",
       "         [0.92941176, 0.9372549 , 0.95294118],\n",
       "         [0.93333333, 0.94509804, 0.96470588]],\n",
       "\n",
       "        [[0.66666667, 0.78431373, 0.89803922],\n",
       "         [0.6745098 , 0.78039216, 0.88627451],\n",
       "         [0.59215686, 0.69019608, 0.78823529],\n",
       "         ...,\n",
       "         [0.90980392, 0.90980392, 0.9254902 ],\n",
       "         [0.96470588, 0.96470588, 0.98039216],\n",
       "         [0.96470588, 0.96862745, 0.98431373]],\n",
       "\n",
       "        [[0.68235294, 0.78823529, 0.88235294],\n",
       "         [0.69019608, 0.78431373, 0.87058824],\n",
       "         [0.61568627, 0.70196078, 0.78039216],\n",
       "         ...,\n",
       "         [0.90196078, 0.89803922, 0.90980392],\n",
       "         [0.98039216, 0.97647059, 0.98431373],\n",
       "         [0.96078431, 0.95686275, 0.96862745]],\n",
       "\n",
       "        ...,\n",
       "\n",
       "        [[0.12156863, 0.15686275, 0.17647059],\n",
       "         [0.11764706, 0.15294118, 0.17254902],\n",
       "         [0.10196078, 0.1372549 , 0.15686275],\n",
       "         ...,\n",
       "         [0.14509804, 0.15686275, 0.18039216],\n",
       "         [0.03529412, 0.05098039, 0.05490196],\n",
       "         [0.01568627, 0.02745098, 0.01960784]],\n",
       "\n",
       "        [[0.09019608, 0.13333333, 0.15294118],\n",
       "         [0.10588235, 0.14901961, 0.16862745],\n",
       "         [0.09803922, 0.14117647, 0.16078431],\n",
       "         ...,\n",
       "         [0.0745098 , 0.07843137, 0.09411765],\n",
       "         [0.01568627, 0.02352941, 0.01176471],\n",
       "         [0.01960784, 0.02745098, 0.01176471]],\n",
       "\n",
       "        [[0.10980392, 0.16078431, 0.18431373],\n",
       "         [0.11764706, 0.16862745, 0.19607843],\n",
       "         [0.1254902 , 0.17647059, 0.20392157],\n",
       "         ...,\n",
       "         [0.01960784, 0.02352941, 0.03137255],\n",
       "         [0.01568627, 0.01960784, 0.01176471],\n",
       "         [0.02745098, 0.03137255, 0.02745098]]],\n",
       "\n",
       "\n",
       "       ...,\n",
       "\n",
       "\n",
       "       [[[0.07843137, 0.05882353, 0.04705882],\n",
       "         [0.0745098 , 0.05490196, 0.04313725],\n",
       "         [0.05882353, 0.05490196, 0.04313725],\n",
       "         ...,\n",
       "         [0.03921569, 0.03529412, 0.02745098],\n",
       "         [0.04705882, 0.04313725, 0.03529412],\n",
       "         [0.05098039, 0.04705882, 0.03921569]],\n",
       "\n",
       "        [[0.08235294, 0.0627451 , 0.05098039],\n",
       "         [0.07843137, 0.0627451 , 0.05098039],\n",
       "         [0.07058824, 0.06666667, 0.04705882],\n",
       "         ...,\n",
       "         [0.03921569, 0.03529412, 0.02745098],\n",
       "         [0.03921569, 0.03529412, 0.02745098],\n",
       "         [0.04705882, 0.04313725, 0.03529412]],\n",
       "\n",
       "        [[0.08235294, 0.0627451 , 0.05098039],\n",
       "         [0.08235294, 0.06666667, 0.04705882],\n",
       "         [0.07843137, 0.07058824, 0.04313725],\n",
       "         ...,\n",
       "         [0.04705882, 0.04313725, 0.03529412],\n",
       "         [0.04705882, 0.04313725, 0.03529412],\n",
       "         [0.05098039, 0.04705882, 0.03921569]],\n",
       "\n",
       "        ...,\n",
       "\n",
       "        [[0.12941176, 0.09803922, 0.05098039],\n",
       "         [0.13333333, 0.10196078, 0.05882353],\n",
       "         [0.13333333, 0.10196078, 0.05882353],\n",
       "         ...,\n",
       "         [0.10980392, 0.09803922, 0.20392157],\n",
       "         [0.11372549, 0.09803922, 0.22745098],\n",
       "         [0.09019608, 0.07843137, 0.16470588]],\n",
       "\n",
       "        [[0.12941176, 0.09803922, 0.05490196],\n",
       "         [0.13333333, 0.10196078, 0.05882353],\n",
       "         [0.13333333, 0.10196078, 0.05882353],\n",
       "         ...,\n",
       "         [0.10588235, 0.09411765, 0.20392157],\n",
       "         [0.10588235, 0.09411765, 0.21960784],\n",
       "         [0.09803922, 0.08627451, 0.18431373]],\n",
       "\n",
       "        [[0.12156863, 0.09019608, 0.04705882],\n",
       "         [0.1254902 , 0.09411765, 0.05098039],\n",
       "         [0.12941176, 0.09803922, 0.05490196],\n",
       "         ...,\n",
       "         [0.09411765, 0.09019608, 0.19607843],\n",
       "         [0.10196078, 0.09019608, 0.20784314],\n",
       "         [0.09803922, 0.07843137, 0.18431373]]],\n",
       "\n",
       "\n",
       "       [[[0.09803922, 0.15686275, 0.04705882],\n",
       "         [0.05882353, 0.14117647, 0.01176471],\n",
       "         [0.09019608, 0.16078431, 0.07058824],\n",
       "         ...,\n",
       "         [0.23921569, 0.32156863, 0.30588235],\n",
       "         [0.36078431, 0.44313725, 0.43921569],\n",
       "         [0.29411765, 0.34901961, 0.36078431]],\n",
       "\n",
       "        [[0.04705882, 0.09803922, 0.02352941],\n",
       "         [0.07843137, 0.14509804, 0.02745098],\n",
       "         [0.09411765, 0.14117647, 0.05882353],\n",
       "         ...,\n",
       "         [0.45098039, 0.5254902 , 0.54117647],\n",
       "         [0.58431373, 0.65882353, 0.69411765],\n",
       "         [0.40784314, 0.45882353, 0.51372549]],\n",
       "\n",
       "        [[0.04705882, 0.09803922, 0.04313725],\n",
       "         [0.05882353, 0.11372549, 0.02352941],\n",
       "         [0.13333333, 0.15686275, 0.09411765],\n",
       "         ...,\n",
       "         [0.60392157, 0.6745098 , 0.71372549],\n",
       "         [0.61568627, 0.68627451, 0.75294118],\n",
       "         [0.45490196, 0.50588235, 0.59215686]],\n",
       "\n",
       "        ...,\n",
       "\n",
       "        [[0.39215686, 0.50588235, 0.31764706],\n",
       "         [0.40392157, 0.51764706, 0.32941176],\n",
       "         [0.40784314, 0.5254902 , 0.3372549 ],\n",
       "         ...,\n",
       "         [0.38039216, 0.50196078, 0.32941176],\n",
       "         [0.38431373, 0.49411765, 0.32941176],\n",
       "         [0.35686275, 0.4745098 , 0.30980392]],\n",
       "\n",
       "        [[0.40392157, 0.51764706, 0.3254902 ],\n",
       "         [0.40784314, 0.51372549, 0.3254902 ],\n",
       "         [0.41960784, 0.52941176, 0.34117647],\n",
       "         ...,\n",
       "         [0.39607843, 0.51764706, 0.34117647],\n",
       "         [0.38823529, 0.49803922, 0.32941176],\n",
       "         [0.36078431, 0.4745098 , 0.30980392]],\n",
       "\n",
       "        [[0.37254902, 0.49411765, 0.30588235],\n",
       "         [0.37254902, 0.48235294, 0.29803922],\n",
       "         [0.39607843, 0.50196078, 0.31764706],\n",
       "         ...,\n",
       "         [0.36470588, 0.48627451, 0.31372549],\n",
       "         [0.37254902, 0.48235294, 0.31764706],\n",
       "         [0.36078431, 0.47058824, 0.31372549]]],\n",
       "\n",
       "\n",
       "       [[[0.28627451, 0.30588235, 0.29411765],\n",
       "         [0.38431373, 0.40392157, 0.44313725],\n",
       "         [0.38823529, 0.41568627, 0.44705882],\n",
       "         ...,\n",
       "         [0.52941176, 0.58823529, 0.59607843],\n",
       "         [0.52941176, 0.58431373, 0.60392157],\n",
       "         [0.79607843, 0.84313725, 0.8745098 ]],\n",
       "\n",
       "        [[0.27058824, 0.28627451, 0.2745098 ],\n",
       "         [0.32941176, 0.34901961, 0.38039216],\n",
       "         [0.26666667, 0.29411765, 0.31764706],\n",
       "         ...,\n",
       "         [0.33333333, 0.37254902, 0.34901961],\n",
       "         [0.27843137, 0.32156863, 0.31372549],\n",
       "         [0.47058824, 0.52156863, 0.52941176]],\n",
       "\n",
       "        [[0.27058824, 0.28627451, 0.2745098 ],\n",
       "         [0.35294118, 0.37254902, 0.39215686],\n",
       "         [0.24313725, 0.27843137, 0.29019608],\n",
       "         ...,\n",
       "         [0.29019608, 0.31764706, 0.2745098 ],\n",
       "         [0.20784314, 0.24313725, 0.21176471],\n",
       "         [0.24313725, 0.29019608, 0.27058824]],\n",
       "\n",
       "        ...,\n",
       "\n",
       "        [[0.48235294, 0.50196078, 0.37647059],\n",
       "         [0.51764706, 0.51764706, 0.4       ],\n",
       "         [0.50588235, 0.50196078, 0.39215686],\n",
       "         ...,\n",
       "         [0.42352941, 0.41960784, 0.34509804],\n",
       "         [0.24313725, 0.23529412, 0.21568627],\n",
       "         [0.10588235, 0.10588235, 0.10980392]],\n",
       "\n",
       "        [[0.45098039, 0.4745098 , 0.35686275],\n",
       "         [0.48235294, 0.48627451, 0.37254902],\n",
       "         [0.50588235, 0.49411765, 0.38823529],\n",
       "         ...,\n",
       "         [0.45098039, 0.45490196, 0.36862745],\n",
       "         [0.25882353, 0.25490196, 0.23137255],\n",
       "         [0.10588235, 0.10588235, 0.10588235]],\n",
       "\n",
       "        [[0.45490196, 0.47058824, 0.35294118],\n",
       "         [0.4745098 , 0.47843137, 0.36862745],\n",
       "         [0.50588235, 0.50196078, 0.39607843],\n",
       "         ...,\n",
       "         [0.45490196, 0.45098039, 0.36862745],\n",
       "         [0.26666667, 0.25490196, 0.22745098],\n",
       "         [0.10588235, 0.10196078, 0.10196078]]]])"
      ]
     },
     "execution_count": 69,
     "metadata": {},
     "output_type": "execute_result"
    }
   ],
   "source": [
    "x_test.reshape(-1,32,32,3)"
   ]
  },
  {
   "cell_type": "code",
   "execution_count": 70,
   "id": "53deaca4",
   "metadata": {},
   "outputs": [],
   "source": [
    "pred = model.predict(x_test.reshape(-1,32,32,3)/255).argmax(axis=1)"
   ]
  },
  {
   "cell_type": "code",
   "execution_count": 71,
   "id": "20755812",
   "metadata": {},
   "outputs": [
    {
     "data": {
      "text/plain": [
       "array([3, 8, 0, ..., 5, 1, 7], dtype=int64)"
      ]
     },
     "execution_count": 71,
     "metadata": {},
     "output_type": "execute_result"
    }
   ],
   "source": [
    "pred"
   ]
  },
  {
   "cell_type": "code",
   "execution_count": 72,
   "id": "2f02276b",
   "metadata": {},
   "outputs": [
    {
     "data": {
      "text/plain": [
       "array([3], dtype=uint8)"
      ]
     },
     "execution_count": 72,
     "metadata": {},
     "output_type": "execute_result"
    }
   ],
   "source": [
    "y_test[0]"
   ]
  },
  {
   "cell_type": "markdown",
   "id": "2c0f8236",
   "metadata": {},
   "source": [
    "#### confusion matrix"
   ]
  },
  {
   "cell_type": "code",
   "execution_count": 73,
   "id": "36315bde",
   "metadata": {},
   "outputs": [
    {
     "data": {
      "text/plain": [
       "array([[677,  32,  64,  21,  27,  10,  12,  17,  74,  66],\n",
       "       [ 51, 779,   6,  11,   3,   6,   5,  12,  23, 104],\n",
       "       [ 94,  19, 499,  65,  97,  84,  47,  51,  26,  18],\n",
       "       [ 44,  33, 109, 325, 105, 186,  56,  69,  26,  47],\n",
       "       [ 53,  13, 107,  87, 497,  71,  44,  97,  12,  19],\n",
       "       [ 23,  15,  93, 154,  63, 510,  27,  71,  23,  21],\n",
       "       [ 20,  21,  76,  87, 114,  65, 566,  23,  10,  18],\n",
       "       [ 30,  20,  52,  37,  62,  82,   8, 657,   6,  46],\n",
       "       [119,  56,  27,  18,  12,  10,   6,   7, 684,  61],\n",
       "       [ 53, 134,  10,  12,  12,  11,   4,  15,  29, 720]], dtype=int64)"
      ]
     },
     "execution_count": 73,
     "metadata": {},
     "output_type": "execute_result"
    }
   ],
   "source": [
    "conf_mat = confusion_matrix( y_test, model.predict( x_test.reshape(-1,32,32,3)/255 ).argmax(axis=1))\n",
    "conf_mat"
   ]
  },
  {
   "cell_type": "code",
   "execution_count": 74,
   "id": "b27c06a6",
   "metadata": {},
   "outputs": [
    {
     "data": {
      "image/png": "[encoded data removed]",
      "text/plain": [
       "<Figure size 432x288 with 2 Axes>"
      ]
     },
     "metadata": {},
     "output_type": "display_data"
    }
   ],
   "source": [
    "sns.heatmap( conf_mat, annot=True, fmt='d', cmap='Blues')\n",
    "plt.show()"
   ]
  },
  {
   "cell_type": "code",
   "execution_count": 75,
   "id": "8c6a4697",
   "metadata": {},
   "outputs": [
    {
     "data": {
      "text/plain": [
       "((10000, 1), (10000, 1))"
      ]
     },
     "execution_count": 75,
     "metadata": {},
     "output_type": "execute_result"
    }
   ],
   "source": [
    "y_test.shape, pred.reshape(-1,1).shape"
   ]
  },
  {
   "cell_type": "code",
   "execution_count": 76,
   "id": "11bd948e",
   "metadata": {},
   "outputs": [
    {
     "data": {
      "text/plain": [
       "(10000, 1)"
      ]
     },
     "execution_count": 76,
     "metadata": {},
     "output_type": "execute_result"
    }
   ],
   "source": [
    "y_test.shape"
   ]
  },
  {
   "cell_type": "code",
   "execution_count": 77,
   "id": "1ccce276",
   "metadata": {},
   "outputs": [
    {
     "data": {
      "text/plain": [
       "(10000,)"
      ]
     },
     "execution_count": 77,
     "metadata": {},
     "output_type": "execute_result"
    }
   ],
   "source": [
    "pred.shape"
   ]
  },
  {
   "cell_type": "markdown",
   "id": "1416086a",
   "metadata": {},
   "source": [
    "#### f1 score"
   ]
  },
  {
   "cell_type": "code",
   "execution_count": 78,
   "id": "6a4b14e6",
   "metadata": {},
   "outputs": [
    {
     "name": "stdout",
     "output_type": "stream",
     "text": [
      "f1 score : 0.5889276646271739\n"
     ]
    }
   ],
   "source": [
    "f1 = f1_score(y_test, pred.reshape(-1,1), average= \"macro\")\n",
    "print('f1 score :', f1)"
   ]
  },
  {
   "cell_type": "markdown",
   "id": "926de49d",
   "metadata": {},
   "source": [
    "### 다른 모델(keras)"
   ]
  },
  {
   "cell_type": "code",
   "execution_count": 33,
   "id": "06cef510",
   "metadata": {},
   "outputs": [],
   "source": [
    "model2 = Sequential()\n",
    "model2.add( Flatten(input_shape = (32,32,3)))\n",
    "model2.add( Dense( units=128, activation='relu' ))\n",
    "model2.add( Dense( units=64, activation='relu' ))\n",
    "model2.add( Dense( units=32, activation='relu' ))\n",
    "model2.add( Dense( units=10, activation='softmax' ))\n",
    "model2.compile( loss='sparse_categorical_crossentropy', optimizer='adam', metrics=['acc'] )\n",
    "h2 = model2.fit(x_train, y_train, epochs= 20, workers = -1)"
   ]
  },
  {
   "cell_type": "markdown",
   "id": "a393c889",
   "metadata": {},
   "source": [
    "#### test"
   ]
  },
  {
   "cell_type": "code",
   "execution_count": null,
   "id": "1540279b",
   "metadata": {},
   "outputs": [],
   "source": [
    "pred2 = model.predict(x_test.reshape(-1,32,32,3)/255).argmax(axis=1)"
   ]
  },
  {
   "cell_type": "code",
   "execution_count": null,
   "id": "9ae0c421",
   "metadata": {},
   "outputs": [],
   "source": [
    "pred2"
   ]
  },
  {
   "cell_type": "code",
   "execution_count": null,
   "id": "3fd1a385",
   "metadata": {},
   "outputs": [],
   "source": [
    "y_test[0]"
   ]
  },
  {
   "cell_type": "markdown",
   "id": "e204ee03",
   "metadata": {},
   "source": [
    "#### confusion matrix"
   ]
  },
  {
   "cell_type": "code",
   "execution_count": null,
   "id": "a933e6b4",
   "metadata": {},
   "outputs": [],
   "source": [
    "conf_mat2 = confusion_matrix( y_test, model.predict( x_test.reshape(-1,32,32,3)/255 ).argmax(axis=1))\n",
    "conf_mat2"
   ]
  },
  {
   "cell_type": "code",
   "execution_count": null,
   "id": "3cc12ee2",
   "metadata": {},
   "outputs": [],
   "source": [
    "sns.heatmap( conf_mat2, annot=True, fmt='d', cmap='Blues')\n",
    "plt.show()"
   ]
  },
  {
   "cell_type": "markdown",
   "id": "b2bac57a",
   "metadata": {},
   "source": [
    "#### f1 score"
   ]
  },
  {
   "cell_type": "code",
   "execution_count": null,
   "id": "56002eb3",
   "metadata": {},
   "outputs": [],
   "source": [
    "f1 = f1_score(y_test, pred2.reshape(-1,1), average= \"macro\")\n",
    "print('f1 score :', f1)"
   ]
  }
 ],
 "metadata": {
  "kernelspec": {
   "display_name": "Python 3",
   "language": "python",
   "name": "python3"
  },
  "language_info": {
   "codemirror_mode": {
    "name": "ipython",
    "version": 3
   },
   "file_extension": ".py",
   "mimetype": "text/x-python",
   "name": "python",
   "nbconvert_exporter": "python",
   "pygments_lexer": "ipython3",
   "version": "3.8.8"
  }
 },
 "nbformat": 4,
 "nbformat_minor": 5
}
