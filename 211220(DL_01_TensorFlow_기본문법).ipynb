{
 "cells": [
  {
   "cell_type": "code",
   "execution_count": 1,
   "id": "8062ed11",
   "metadata": {},
   "outputs": [],
   "source": [
    "import tensorflow as tf\n",
    "import numpy as np"
   ]
  },
  {
   "cell_type": "markdown",
   "id": "6c4e8155",
   "metadata": {},
   "source": [
    "#### scalar data"
   ]
  },
  {
   "cell_type": "code",
   "execution_count": null,
   "id": "f4e845c6",
   "metadata": {},
   "outputs": [],
   "source": [
    "s1 = 10\n",
    "s2 = 'abc'\n",
    "s3 = 3.14"
   ]
  },
  {
   "cell_type": "markdown",
   "id": "85437967",
   "metadata": {},
   "source": [
    "#### vector data"
   ]
  },
  {
   "cell_type": "code",
   "execution_count": null,
   "id": "ac720950",
   "metadata": {},
   "outputs": [],
   "source": [
    "v = [10, 20, 30]"
   ]
  },
  {
   "cell_type": "markdown",
   "id": "0ac1c869",
   "metadata": {},
   "source": [
    "#### matrix data"
   ]
  },
  {
   "cell_type": "code",
   "execution_count": null,
   "id": "e3a36853",
   "metadata": {},
   "outputs": [],
   "source": [
    "# 2 X 3\n",
    "m = [ [10 20, 30], [40, 50, 60] ] "
   ]
  },
  {
   "cell_type": "markdown",
   "id": "2f06f641",
   "metadata": {},
   "source": [
    "#### 3d tensor"
   ]
  },
  {
   "cell_type": "code",
   "execution_count": null,
   "id": "2ee6696e",
   "metadata": {},
   "outputs": [],
   "source": [
    "# 2 X 2 X 3\n",
    "d3 =[ [[10 20, 30], [40, 50, 60]], [[10 20, 30], [40, 50, 60]] ]"
   ]
  },
  {
   "cell_type": "markdown",
   "id": "8f9d977c",
   "metadata": {},
   "source": [
    "#### 4d tensor"
   ]
  },
  {
   "cell_type": "code",
   "execution_count": 4,
   "id": "98c2d8b6",
   "metadata": {},
   "outputs": [],
   "source": [
    "# 2 X 2 X 2 X 3\n",
    "d4 = [ [ [[10 20, 30], [40, 50, 60]], [[10 20, 30], [40, 50, 60]] ],\n",
    "[ [[10 20, 30], [40, 50, 60]], [[10 20, 30], [40, 50, 60]] ] ]"
   ]
  },
  {
   "cell_type": "markdown",
   "id": "8bcb02ff",
   "metadata": {},
   "source": [
    "#### 텐서 데이터 노드 정의하는 방법\n",
    "\n",
    "    1) constant : 읽기 전용\n",
    "    2) variable : 읽기 + 쓰기"
   ]
  },
  {
   "cell_type": "code",
   "execution_count": 5,
   "id": "61e3918c",
   "metadata": {},
   "outputs": [
    {
     "data": {
      "text/plain": [
       "<tf.Tensor: shape=(), dtype=int32, numpy=10>"
      ]
     },
     "execution_count": 5,
     "metadata": {},
     "output_type": "execute_result"
    }
   ],
   "source": [
    "s1 = 10\n",
    "c1 = tf.constant(s1)\n",
    "c1 #텐서 객체"
   ]
  },
  {
   "cell_type": "code",
   "execution_count": 6,
   "id": "ca05cd13",
   "metadata": {},
   "outputs": [
    {
     "data": {
      "text/plain": [
       "10"
      ]
     },
     "execution_count": 6,
     "metadata": {},
     "output_type": "execute_result"
    }
   ],
   "source": [
    "c1.numpy()"
   ]
  },
  {
   "cell_type": "code",
   "execution_count": 7,
   "id": "f34cb092",
   "metadata": {},
   "outputs": [
    {
     "data": {
      "text/plain": [
       "<tf.Tensor: shape=(3,), dtype=int32, numpy=array([10, 20, 30])>"
      ]
     },
     "execution_count": 7,
     "metadata": {},
     "output_type": "execute_result"
    }
   ],
   "source": [
    "v1 = [10, 20, 30] #ndarray\n",
    "t1 = tf.constant(v1)\n",
    "t1"
   ]
  },
  {
   "cell_type": "code",
   "execution_count": 9,
   "id": "72d9b04b",
   "metadata": {},
   "outputs": [
    {
     "data": {
      "text/plain": [
       "tensorflow.python.framework.ops.EagerTensor"
      ]
     },
     "execution_count": 9,
     "metadata": {},
     "output_type": "execute_result"
    }
   ],
   "source": [
    "type(t1)"
   ]
  },
  {
   "cell_type": "code",
   "execution_count": 8,
   "id": "8fc4976f",
   "metadata": {},
   "outputs": [
    {
     "data": {
      "text/plain": [
       "array([10, 20, 30])"
      ]
     },
     "execution_count": 8,
     "metadata": {},
     "output_type": "execute_result"
    }
   ],
   "source": [
    "t1.numpy()"
   ]
  },
  {
   "cell_type": "code",
   "execution_count": 10,
   "id": "ee97ffd1",
   "metadata": {},
   "outputs": [
    {
     "data": {
      "text/plain": [
       "<tf.Tensor: shape=(2, 3), dtype=int32, numpy=\n",
       "array([[10, 20, 30],\n",
       "       [40, 50, 60]])>"
      ]
     },
     "execution_count": 10,
     "metadata": {},
     "output_type": "execute_result"
    }
   ],
   "source": [
    "m = [[10, 20, 30], [40, 50, 60]]\n",
    "t2 = tf.constant(m)\n",
    "t2"
   ]
  },
  {
   "cell_type": "markdown",
   "id": "db873dd8",
   "metadata": {},
   "source": [
    "#### 연산 : element wise (요소별)"
   ]
  },
  {
   "cell_type": "code",
   "execution_count": 11,
   "id": "6b2acc3b",
   "metadata": {},
   "outputs": [],
   "source": [
    "a = tf.constant(3)\n",
    "b = tf.constant([1, 2, 3])"
   ]
  },
  {
   "cell_type": "code",
   "execution_count": 12,
   "id": "6c0eabd7",
   "metadata": {},
   "outputs": [
    {
     "data": {
      "text/plain": [
       "<tf.Tensor: shape=(3,), dtype=int32, numpy=array([3, 6, 9])>"
      ]
     },
     "execution_count": 12,
     "metadata": {},
     "output_type": "execute_result"
    }
   ],
   "source": [
    "c = tf.multiply(a, b) #a X b\n",
    "c"
   ]
  },
  {
   "cell_type": "code",
   "execution_count": 13,
   "id": "da5a8657",
   "metadata": {},
   "outputs": [
    {
     "data": {
      "text/plain": [
       "array([3, 6, 9])"
      ]
     },
     "execution_count": 13,
     "metadata": {},
     "output_type": "execute_result"
    }
   ],
   "source": [
    "c.numpy()"
   ]
  },
  {
   "cell_type": "code",
   "execution_count": 14,
   "id": "78bbc4c4",
   "metadata": {
    "scrolled": true
   },
   "outputs": [
    {
     "data": {
      "text/plain": [
       "<tf.Tensor: shape=(3,), dtype=int32, numpy=array([4, 5, 6])>"
      ]
     },
     "execution_count": 14,
     "metadata": {},
     "output_type": "execute_result"
    }
   ],
   "source": [
    "d = tf.add(a, b) #a + b\n",
    "d"
   ]
  },
  {
   "cell_type": "code",
   "execution_count": 15,
   "id": "f8c386af",
   "metadata": {},
   "outputs": [
    {
     "data": {
      "text/plain": [
       "<tf.Tensor: shape=(3,), dtype=int32, numpy=array([ 4,  8, 12])>"
      ]
     },
     "execution_count": 15,
     "metadata": {},
     "output_type": "execute_result"
    }
   ],
   "source": [
    "e = tf.add(c, b)\n",
    "e"
   ]
  },
  {
   "cell_type": "markdown",
   "id": "747cac6b",
   "metadata": {},
   "source": [
    "#### broad casting"
   ]
  },
  {
   "cell_type": "code",
   "execution_count": 16,
   "id": "22a70bf1",
   "metadata": {},
   "outputs": [],
   "source": [
    "f = tf.constant([1, 2, 3])\n",
    "g = tf.constant( [ [1, 2, 3], [4, 5, 6], [7, 8, 9] ] )\n",
    "h = f + g #tf.add(f, g)"
   ]
  },
  {
   "cell_type": "code",
   "execution_count": 17,
   "id": "9c661c9c",
   "metadata": {},
   "outputs": [
    {
     "data": {
      "text/plain": [
       "array([[ 2,  4,  6],\n",
       "       [ 5,  7,  9],\n",
       "       [ 8, 10, 12]])"
      ]
     },
     "execution_count": 17,
     "metadata": {},
     "output_type": "execute_result"
    }
   ],
   "source": [
    "h.numpy()"
   ]
  },
  {
   "cell_type": "code",
   "execution_count": 18,
   "id": "a3fb4dde",
   "metadata": {},
   "outputs": [],
   "source": [
    "i = tf.constant( [ [1], [2], [3] ] ) # 3 X 1\n",
    "j = tf.constant( [ [1, 2, 3], [4, 5, 6], [7, 8, 9] ] )\n",
    "k = i * j #tf.multify(i, j)"
   ]
  },
  {
   "cell_type": "code",
   "execution_count": 19,
   "id": "b378c4ff",
   "metadata": {},
   "outputs": [
    {
     "data": {
      "text/plain": [
       "array([[ 1,  2,  3],\n",
       "       [ 8, 10, 12],\n",
       "       [21, 24, 27]])"
      ]
     },
     "execution_count": 19,
     "metadata": {},
     "output_type": "execute_result"
    }
   ],
   "source": [
    "k.numpy()"
   ]
  },
  {
   "cell_type": "code",
   "execution_count": 26,
   "id": "1cd973b2",
   "metadata": {},
   "outputs": [],
   "source": [
    "# l = tf.constant([ [1], [2] ])\n",
    "# m = tf.constant( [ [1, 2, 3], [4, 5, 6], [7, 8, 9] ] )\n",
    "# n = l - m #tf.substract(l, m)\n",
    "#shape error"
   ]
  },
  {
   "cell_type": "markdown",
   "id": "741d42f7",
   "metadata": {},
   "source": [
    "#### 행렬곱 : 앞의 열, 뒤의 행 수가 같아야 가능"
   ]
  },
  {
   "cell_type": "code",
   "execution_count": 21,
   "id": "4efa3dd0",
   "metadata": {},
   "outputs": [],
   "source": [
    "o = tf.constant( [ [1, 2], [3, 4] ] ) #2 X 2\n",
    "p = tf.constant( [ [5, 6], [7, 8] ] ) #2 X 2\n",
    "q = tf.multiply(o, p)\n",
    "r = tf.matmul(o, p) #★★★★★ 중요"
   ]
  },
  {
   "cell_type": "code",
   "execution_count": 22,
   "id": "cc5a317f",
   "metadata": {},
   "outputs": [
    {
     "data": {
      "text/plain": [
       "array([[ 5, 12],\n",
       "       [21, 32]])"
      ]
     },
     "execution_count": 22,
     "metadata": {},
     "output_type": "execute_result"
    }
   ],
   "source": [
    "q.numpy()"
   ]
  },
  {
   "cell_type": "code",
   "execution_count": 23,
   "id": "be49ea87",
   "metadata": {},
   "outputs": [
    {
     "data": {
      "text/plain": [
       "array([[19, 22],\n",
       "       [43, 50]])"
      ]
     },
     "execution_count": 23,
     "metadata": {},
     "output_type": "execute_result"
    }
   ],
   "source": [
    "r.numpy()"
   ]
  },
  {
   "cell_type": "markdown",
   "id": "6e3941b0",
   "metadata": {},
   "source": [
    "#### 많이 사용하는 operation"
   ]
  },
  {
   "cell_type": "code",
   "execution_count": 24,
   "id": "5c1d9ad0",
   "metadata": {},
   "outputs": [
    {
     "data": {
      "text/plain": [
       "<tf.Tensor: shape=(3,), dtype=int32, numpy=array([1, 4, 9])>"
      ]
     },
     "execution_count": 24,
     "metadata": {},
     "output_type": "execute_result"
    }
   ],
   "source": [
    "s = [1, 2, 3]\n",
    "t = tf.square(s) #s**2\n",
    "t"
   ]
  },
  {
   "cell_type": "code",
   "execution_count": 25,
   "id": "d617b08e",
   "metadata": {},
   "outputs": [
    {
     "data": {
      "text/plain": [
       "<tf.Tensor: shape=(), dtype=int32, numpy=2>"
      ]
     },
     "execution_count": 25,
     "metadata": {},
     "output_type": "execute_result"
    }
   ],
   "source": [
    "u = tf.reduce_mean(s) #(누적)평균\n",
    "u"
   ]
  },
  {
   "cell_type": "markdown",
   "id": "46c60f88",
   "metadata": {},
   "source": [
    "#### Variable"
   ]
  },
  {
   "cell_type": "code",
   "execution_count": 28,
   "id": "1e5efb1d",
   "metadata": {},
   "outputs": [
    {
     "data": {
      "text/plain": [
       "<tf.Variable 'Variable:0' shape=() dtype=int32, numpy=10>"
      ]
     },
     "execution_count": 28,
     "metadata": {},
     "output_type": "execute_result"
    }
   ],
   "source": [
    "v = tf.Variable(10)\n",
    "v\n",
    "#값이 고정되지 않음"
   ]
  },
  {
   "cell_type": "code",
   "execution_count": null,
   "id": "b04ea902",
   "metadata": {},
   "outputs": [],
   "source": [
    "#v = 20 이런 식으로 변경 X"
   ]
  },
  {
   "cell_type": "code",
   "execution_count": null,
   "id": "37ac9287",
   "metadata": {},
   "outputs": [],
   "source": [
    "#v.assign(3) #3으로 변경\n",
    "#v.assign_add(3) #기존값 + 3\n",
    "v.assign_sub(3) #기존값 - 3"
   ]
  }
 ],
 "metadata": {
  "kernelspec": {
   "display_name": "Python 3",
   "language": "python",
   "name": "python3"
  },
  "language_info": {
   "codemirror_mode": {
    "name": "ipython",
    "version": 3
   },
   "file_extension": ".py",
   "mimetype": "text/x-python",
   "name": "python",
   "nbconvert_exporter": "python",
   "pygments_lexer": "ipython3",
   "version": "3.8.8"
  }
 },
 "nbformat": 4,
 "nbformat_minor": 5
}
