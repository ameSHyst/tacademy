{
 "cells": [
  {
   "cell_type": "markdown",
   "id": "d4436e63",
   "metadata": {},
   "source": [
    "1. 3개의 데이터를 병합하시요.\n",
    "====이후문제는 병합한 데이터프레임을 이용 ===========\n",
    "2. 인덱스를 datetime 으로 만드시요\n",
    "\n",
    "3. 년도 및 월별, 분기별, 평균 사망자를 보여주시요\n",
    "\n",
    "4.  2016년 사고대비 사망율을 구하시요\n",
    "\n",
    "5. 2014년도 월별 사망, 부상 데이터를 바차트로 보여주시요\n",
    "\n",
    "6. 2015년 대비  사망이 가장 많이 증가한 2016년도 월을 구하시요"
   ]
  },
  {
   "cell_type": "code",
   "execution_count": 1,
   "id": "ed769ca0",
   "metadata": {},
   "outputs": [],
   "source": [
    "import pandas as pd\n",
    "import matplotlib.pyplot as plt\n",
    "import numpy as np\n",
    "from datetime import datetime\n",
    "from pandas_datareader import data\n",
    "plt.style.use('ggplot')"
   ]
  },
  {
   "cell_type": "code",
   "execution_count": 93,
   "id": "fc4fefc7",
   "metadata": {},
   "outputs": [],
   "source": [
    "df1 = pd.read_csv('2014년 졸음운전 교통사고.csv', encoding='euc-kr', index_col='구분')\n",
    "df2 = pd.read_csv('2015년 졸음운전 교통사고.csv', encoding='euc-kr', index_col='구분')\n",
    "df3 = pd.read_csv('2016년 졸음운전 교통사고.csv', encoding='euc-kr', index_col='구분')"
   ]
  },
  {
   "cell_type": "markdown",
   "id": "5460c867",
   "metadata": {},
   "source": [
    "#### 데이터 병합"
   ]
  },
  {
   "cell_type": "code",
   "execution_count": 34,
   "id": "c21c7895",
   "metadata": {},
   "outputs": [
    {
     "data": {
      "text/html": [
       "<div>\n",
       "<style scoped>\n",
       "    .dataframe tbody tr th:only-of-type {\n",
       "        vertical-align: middle;\n",
       "    }\n",
       "\n",
       "    .dataframe tbody tr th {\n",
       "        vertical-align: top;\n",
       "    }\n",
       "\n",
       "    .dataframe thead th {\n",
       "        text-align: right;\n",
       "    }\n",
       "</style>\n",
       "<table border=\"1\" class=\"dataframe\">\n",
       "  <thead>\n",
       "    <tr style=\"text-align: right;\">\n",
       "      <th></th>\n",
       "      <th>사고(건)</th>\n",
       "      <th>사망(명)</th>\n",
       "      <th>부상(명)</th>\n",
       "    </tr>\n",
       "    <tr>\n",
       "      <th>구분</th>\n",
       "      <th></th>\n",
       "      <th></th>\n",
       "      <th></th>\n",
       "    </tr>\n",
       "  </thead>\n",
       "  <tbody>\n",
       "    <tr>\n",
       "      <th>2014년1월</th>\n",
       "      <td>169</td>\n",
       "      <td>7</td>\n",
       "      <td>347</td>\n",
       "    </tr>\n",
       "    <tr>\n",
       "      <th>2014년2월</th>\n",
       "      <td>145</td>\n",
       "      <td>3</td>\n",
       "      <td>268</td>\n",
       "    </tr>\n",
       "    <tr>\n",
       "      <th>2014년3월</th>\n",
       "      <td>206</td>\n",
       "      <td>12</td>\n",
       "      <td>358</td>\n",
       "    </tr>\n",
       "    <tr>\n",
       "      <th>2014년4월</th>\n",
       "      <td>182</td>\n",
       "      <td>4</td>\n",
       "      <td>360</td>\n",
       "    </tr>\n",
       "    <tr>\n",
       "      <th>2014년5월</th>\n",
       "      <td>218</td>\n",
       "      <td>17</td>\n",
       "      <td>474</td>\n",
       "    </tr>\n",
       "    <tr>\n",
       "      <th>2014년6월</th>\n",
       "      <td>233</td>\n",
       "      <td>13</td>\n",
       "      <td>457</td>\n",
       "    </tr>\n",
       "    <tr>\n",
       "      <th>2014년7월</th>\n",
       "      <td>229</td>\n",
       "      <td>14</td>\n",
       "      <td>431</td>\n",
       "    </tr>\n",
       "    <tr>\n",
       "      <th>2014년8월</th>\n",
       "      <td>222</td>\n",
       "      <td>9</td>\n",
       "      <td>447</td>\n",
       "    </tr>\n",
       "    <tr>\n",
       "      <th>2014년9월</th>\n",
       "      <td>225</td>\n",
       "      <td>15</td>\n",
       "      <td>430</td>\n",
       "    </tr>\n",
       "    <tr>\n",
       "      <th>2014년10월</th>\n",
       "      <td>210</td>\n",
       "      <td>14</td>\n",
       "      <td>392</td>\n",
       "    </tr>\n",
       "    <tr>\n",
       "      <th>2014년11월</th>\n",
       "      <td>209</td>\n",
       "      <td>10</td>\n",
       "      <td>386</td>\n",
       "    </tr>\n",
       "    <tr>\n",
       "      <th>2014년12월</th>\n",
       "      <td>178</td>\n",
       "      <td>12</td>\n",
       "      <td>329</td>\n",
       "    </tr>\n",
       "    <tr>\n",
       "      <th>2015년1월</th>\n",
       "      <td>205</td>\n",
       "      <td>8</td>\n",
       "      <td>375</td>\n",
       "    </tr>\n",
       "    <tr>\n",
       "      <th>2015년2월</th>\n",
       "      <td>175</td>\n",
       "      <td>8</td>\n",
       "      <td>375</td>\n",
       "    </tr>\n",
       "    <tr>\n",
       "      <th>2015년3월</th>\n",
       "      <td>237</td>\n",
       "      <td>4</td>\n",
       "      <td>492</td>\n",
       "    </tr>\n",
       "    <tr>\n",
       "      <th>2015년4월</th>\n",
       "      <td>227</td>\n",
       "      <td>10</td>\n",
       "      <td>486</td>\n",
       "    </tr>\n",
       "    <tr>\n",
       "      <th>2015년5월</th>\n",
       "      <td>231</td>\n",
       "      <td>9</td>\n",
       "      <td>504</td>\n",
       "    </tr>\n",
       "    <tr>\n",
       "      <th>2015년6월</th>\n",
       "      <td>207</td>\n",
       "      <td>8</td>\n",
       "      <td>401</td>\n",
       "    </tr>\n",
       "    <tr>\n",
       "      <th>2015년7월</th>\n",
       "      <td>273</td>\n",
       "      <td>7</td>\n",
       "      <td>556</td>\n",
       "    </tr>\n",
       "    <tr>\n",
       "      <th>2015년8월</th>\n",
       "      <td>268</td>\n",
       "      <td>19</td>\n",
       "      <td>534</td>\n",
       "    </tr>\n",
       "    <tr>\n",
       "      <th>2015년9월</th>\n",
       "      <td>252</td>\n",
       "      <td>10</td>\n",
       "      <td>501</td>\n",
       "    </tr>\n",
       "    <tr>\n",
       "      <th>2015년10월</th>\n",
       "      <td>214</td>\n",
       "      <td>14</td>\n",
       "      <td>475</td>\n",
       "    </tr>\n",
       "    <tr>\n",
       "      <th>2015년11월</th>\n",
       "      <td>199</td>\n",
       "      <td>3</td>\n",
       "      <td>398</td>\n",
       "    </tr>\n",
       "    <tr>\n",
       "      <th>2015년12월</th>\n",
       "      <td>213</td>\n",
       "      <td>8</td>\n",
       "      <td>428</td>\n",
       "    </tr>\n",
       "    <tr>\n",
       "      <th>2016년1월</th>\n",
       "      <td>192</td>\n",
       "      <td>5</td>\n",
       "      <td>387</td>\n",
       "    </tr>\n",
       "    <tr>\n",
       "      <th>2016년2월</th>\n",
       "      <td>174</td>\n",
       "      <td>6</td>\n",
       "      <td>328</td>\n",
       "    </tr>\n",
       "    <tr>\n",
       "      <th>2016년3월</th>\n",
       "      <td>217</td>\n",
       "      <td>7</td>\n",
       "      <td>435</td>\n",
       "    </tr>\n",
       "    <tr>\n",
       "      <th>2016년4월</th>\n",
       "      <td>216</td>\n",
       "      <td>7</td>\n",
       "      <td>419</td>\n",
       "    </tr>\n",
       "    <tr>\n",
       "      <th>2016년5월</th>\n",
       "      <td>239</td>\n",
       "      <td>13</td>\n",
       "      <td>522</td>\n",
       "    </tr>\n",
       "    <tr>\n",
       "      <th>2016년6월</th>\n",
       "      <td>200</td>\n",
       "      <td>12</td>\n",
       "      <td>362</td>\n",
       "    </tr>\n",
       "    <tr>\n",
       "      <th>2016년7월</th>\n",
       "      <td>227</td>\n",
       "      <td>9</td>\n",
       "      <td>460</td>\n",
       "    </tr>\n",
       "    <tr>\n",
       "      <th>2016년8월</th>\n",
       "      <td>230</td>\n",
       "      <td>7</td>\n",
       "      <td>490</td>\n",
       "    </tr>\n",
       "    <tr>\n",
       "      <th>2016년9월</th>\n",
       "      <td>187</td>\n",
       "      <td>13</td>\n",
       "      <td>347</td>\n",
       "    </tr>\n",
       "    <tr>\n",
       "      <th>2016년10월</th>\n",
       "      <td>183</td>\n",
       "      <td>10</td>\n",
       "      <td>367</td>\n",
       "    </tr>\n",
       "    <tr>\n",
       "      <th>2016년11월</th>\n",
       "      <td>200</td>\n",
       "      <td>5</td>\n",
       "      <td>418</td>\n",
       "    </tr>\n",
       "    <tr>\n",
       "      <th>2016년12월</th>\n",
       "      <td>168</td>\n",
       "      <td>4</td>\n",
       "      <td>364</td>\n",
       "    </tr>\n",
       "  </tbody>\n",
       "</table>\n",
       "</div>"
      ],
      "text/plain": [
       "          사고(건)  사망(명)  부상(명)\n",
       "구분                           \n",
       "2014년1월     169      7    347\n",
       "2014년2월     145      3    268\n",
       "2014년3월     206     12    358\n",
       "2014년4월     182      4    360\n",
       "2014년5월     218     17    474\n",
       "2014년6월     233     13    457\n",
       "2014년7월     229     14    431\n",
       "2014년8월     222      9    447\n",
       "2014년9월     225     15    430\n",
       "2014년10월    210     14    392\n",
       "2014년11월    209     10    386\n",
       "2014년12월    178     12    329\n",
       "2015년1월     205      8    375\n",
       "2015년2월     175      8    375\n",
       "2015년3월     237      4    492\n",
       "2015년4월     227     10    486\n",
       "2015년5월     231      9    504\n",
       "2015년6월     207      8    401\n",
       "2015년7월     273      7    556\n",
       "2015년8월     268     19    534\n",
       "2015년9월     252     10    501\n",
       "2015년10월    214     14    475\n",
       "2015년11월    199      3    398\n",
       "2015년12월    213      8    428\n",
       "2016년1월     192      5    387\n",
       "2016년2월     174      6    328\n",
       "2016년3월     217      7    435\n",
       "2016년4월     216      7    419\n",
       "2016년5월     239     13    522\n",
       "2016년6월     200     12    362\n",
       "2016년7월     227      9    460\n",
       "2016년8월     230      7    490\n",
       "2016년9월     187     13    347\n",
       "2016년10월    183     10    367\n",
       "2016년11월    200      5    418\n",
       "2016년12월    168      4    364"
      ]
     },
     "execution_count": 34,
     "metadata": {},
     "output_type": "execute_result"
    }
   ],
   "source": [
    "df = pd.concat([df1, df2, df3])\n",
    "df"
   ]
  },
  {
   "cell_type": "markdown",
   "id": "6e1e93dc",
   "metadata": {},
   "source": [
    "#### 인덱스 datetime으로"
   ]
  },
  {
   "cell_type": "code",
   "execution_count": 35,
   "id": "ed081249",
   "metadata": {},
   "outputs": [
    {
     "data": {
      "text/plain": [
       "Index(['2014년1월', '2014년2월', '2014년3월', '2014년4월', '2014년5월', '2014년6월',\n",
       "       '2014년7월', '2014년8월', '2014년9월', '2014년10월', '2014년11월', '2014년12월',\n",
       "       '2015년1월', '2015년2월', '2015년3월', '2015년4월', '2015년5월', '2015년6월',\n",
       "       '2015년7월', '2015년8월', '2015년9월', '2015년10월', '2015년11월', '2015년12월',\n",
       "       '2016년1월', '2016년2월', '2016년3월', '2016년4월', '2016년5월', '2016년6월',\n",
       "       '2016년7월', '2016년8월', '2016년9월', '2016년10월', '2016년11월', '2016년12월'],\n",
       "      dtype='object', name='구분')"
      ]
     },
     "execution_count": 35,
     "metadata": {},
     "output_type": "execute_result"
    }
   ],
   "source": [
    "df.index"
   ]
  },
  {
   "cell_type": "code",
   "execution_count": 36,
   "id": "308e6be4",
   "metadata": {},
   "outputs": [],
   "source": [
    "df.index = pd.to_datetime(df.index, format='%Y년%m월')"
   ]
  },
  {
   "cell_type": "code",
   "execution_count": 48,
   "id": "fc1953fd",
   "metadata": {},
   "outputs": [
    {
     "data": {
      "text/plain": [
       "DatetimeIndex(['2014-01-01', '2014-02-01', '2014-03-01', '2014-04-01',\n",
       "               '2014-05-01', '2014-06-01', '2014-07-01', '2014-08-01',\n",
       "               '2014-09-01', '2014-10-01', '2014-11-01', '2014-12-01',\n",
       "               '2015-01-01', '2015-02-01', '2015-03-01', '2015-04-01',\n",
       "               '2015-05-01', '2015-06-01', '2015-07-01', '2015-08-01',\n",
       "               '2015-09-01', '2015-10-01', '2015-11-01', '2015-12-01',\n",
       "               '2016-01-01', '2016-02-01', '2016-03-01', '2016-04-01',\n",
       "               '2016-05-01', '2016-06-01', '2016-07-01', '2016-08-01',\n",
       "               '2016-09-01', '2016-10-01', '2016-11-01', '2016-12-01'],\n",
       "              dtype='datetime64[ns]', name='구분', freq=None)"
      ]
     },
     "execution_count": 48,
     "metadata": {},
     "output_type": "execute_result"
    }
   ],
   "source": [
    "df.index"
   ]
  },
  {
   "cell_type": "markdown",
   "id": "64bf673b",
   "metadata": {},
   "source": [
    "#### 년도 및 월별 평균 사망자"
   ]
  },
  {
   "cell_type": "code",
   "execution_count": 78,
   "id": "df21ecd0",
   "metadata": {},
   "outputs": [
    {
     "data": {
      "text/plain": [
       "구분    구분\n",
       "2014  1      7\n",
       "      2      3\n",
       "      3     12\n",
       "      4      4\n",
       "      5     17\n",
       "      6     13\n",
       "      7     14\n",
       "      8      9\n",
       "      9     15\n",
       "      10    14\n",
       "      11    10\n",
       "      12    12\n",
       "2015  1      8\n",
       "      2      8\n",
       "      3      4\n",
       "      4     10\n",
       "      5      9\n",
       "      6      8\n",
       "      7      7\n",
       "      8     19\n",
       "      9     10\n",
       "      10    14\n",
       "      11     3\n",
       "      12     8\n",
       "2016  1      5\n",
       "      2      6\n",
       "      3      7\n",
       "      4      7\n",
       "      5     13\n",
       "      6     12\n",
       "      7      9\n",
       "      8      7\n",
       "      9     13\n",
       "      10    10\n",
       "      11     5\n",
       "      12     4\n",
       "Name: 사망(명), dtype: int64"
      ]
     },
     "execution_count": 78,
     "metadata": {},
     "output_type": "execute_result"
    }
   ],
   "source": [
    "df['사망(명)'].groupby([df.index.year, df.index.month]).mean()"
   ]
  },
  {
   "cell_type": "markdown",
   "id": "e7c9266d",
   "metadata": {},
   "source": [
    "#### 분기별 평균 사망자"
   ]
  },
  {
   "cell_type": "code",
   "execution_count": 43,
   "id": "a4e8ab1d",
   "metadata": {},
   "outputs": [
    {
     "data": {
      "text/plain": [
       "구분\n",
       "2014-03-31     7.333333\n",
       "2014-06-30    11.333333\n",
       "2014-09-30    12.666667\n",
       "2014-12-31    12.000000\n",
       "2015-03-31     6.666667\n",
       "2015-06-30     9.000000\n",
       "2015-09-30    12.000000\n",
       "2015-12-31     8.333333\n",
       "2016-03-31     6.000000\n",
       "2016-06-30    10.666667\n",
       "2016-09-30     9.666667\n",
       "2016-12-31     6.333333\n",
       "Freq: Q-DEC, Name: 사망(명), dtype: float64"
      ]
     },
     "execution_count": 43,
     "metadata": {},
     "output_type": "execute_result"
    }
   ],
   "source": [
    "df.resample(rule='Q').mean()['사망(명)']"
   ]
  },
  {
   "cell_type": "markdown",
   "id": "d14473e0",
   "metadata": {},
   "source": [
    "#### 2016년 사고대비 사망률"
   ]
  },
  {
   "cell_type": "code",
   "execution_count": 80,
   "id": "59f81b92",
   "metadata": {},
   "outputs": [
    {
     "data": {
      "text/plain": [
       "구분\n",
       "2016-01    2.604167\n",
       "2016-02    3.448276\n",
       "2016-03    3.225806\n",
       "2016-04    3.240741\n",
       "2016-05    5.439331\n",
       "2016-06    6.000000\n",
       "2016-07    3.964758\n",
       "2016-08    3.043478\n",
       "2016-09    6.951872\n",
       "2016-10    5.464481\n",
       "2016-11    2.500000\n",
       "2016-12    2.380952\n",
       "Freq: M, dtype: float64"
      ]
     },
     "execution_count": 80,
     "metadata": {},
     "output_type": "execute_result"
    }
   ],
   "source": [
    "df.loc['2016', '사망(명)']/df.loc['2016', '사고(건)']*100"
   ]
  },
  {
   "cell_type": "markdown",
   "id": "b374582b",
   "metadata": {},
   "source": [
    "#### 2014년도 월별 사망, 부상 데이터 바차트로"
   ]
  },
  {
   "cell_type": "code",
   "execution_count": 92,
   "id": "4bdc7970",
   "metadata": {},
   "outputs": [
    {
     "data": {
      "text/plain": [
       "<AxesSubplot:ylabel='구분'>"
      ]
     },
     "execution_count": 92,
     "metadata": {},
     "output_type": "execute_result"
    },
    {
     "data": {
      "image/png": "[encoded data removed]",
      "text/plain": [
       "<Figure size 432x288 with 1 Axes>"
      ]
     },
     "metadata": {},
     "output_type": "display_data"
    }
   ],
   "source": [
    "df.loc['2014']['사망(명)'].plot(kind='barh')"
   ]
  },
  {
   "cell_type": "code",
   "execution_count": 73,
   "id": "238ace16",
   "metadata": {},
   "outputs": [
    {
     "data": {
      "text/plain": [
       "<AxesSubplot:ylabel='구분'>"
      ]
     },
     "execution_count": 73,
     "metadata": {},
     "output_type": "execute_result"
    },
    {
     "data": {
      "image/png": "[encoded data removed]",
      "text/plain": [
       "<Figure size 432x288 with 1 Axes>"
      ]
     },
     "metadata": {},
     "output_type": "display_data"
    }
   ],
   "source": [
    "df.loc['2014']['부상(명)'].plot(kind='barh')"
   ]
  },
  {
   "cell_type": "markdown",
   "id": "31365348",
   "metadata": {},
   "source": [
    "#### 2015년 대비 사망이 가장 많이 증가한 2016년도 월"
   ]
  },
  {
   "cell_type": "code",
   "execution_count": 86,
   "id": "5915df6f",
   "metadata": {},
   "outputs": [
    {
     "data": {
      "text/plain": [
       "array([ -3,  -2,   3,  -3,   4,   4,   2, -12,   3,  -4,   2,  -4],\n",
       "      dtype=int64)"
      ]
     },
     "execution_count": 86,
     "metadata": {},
     "output_type": "execute_result"
    }
   ],
   "source": [
    "result = df.loc['2016', '사망(명)'].values - df.loc['2015', '사망(명)'].values\n",
    "result"
   ]
  },
  {
   "cell_type": "code",
   "execution_count": 90,
   "id": "330bea8b",
   "metadata": {},
   "outputs": [
    {
     "data": {
      "text/plain": [
       "Int64Index([5, 6], dtype='int64')"
      ]
     },
     "execution_count": 90,
     "metadata": {},
     "output_type": "execute_result"
    }
   ],
   "source": [
    "sr = pd.Series(result, index=range(1, 13))\n",
    "sr.nlargest(1, keep='all').index #series of dataframe"
   ]
  }
 ],
 "metadata": {
  "kernelspec": {
   "display_name": "Python 3",
   "language": "python",
   "name": "python3"
  },
  "language_info": {
   "codemirror_mode": {
    "name": "ipython",
    "version": 3
   },
   "file_extension": ".py",
   "mimetype": "text/x-python",
   "name": "python",
   "nbconvert_exporter": "python",
   "pygments_lexer": "ipython3",
   "version": "3.8.8"
  }
 },
 "nbformat": 4,
 "nbformat_minor": 5
}
