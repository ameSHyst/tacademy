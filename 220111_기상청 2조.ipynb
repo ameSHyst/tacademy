{
 "cells": [
  {
   "cell_type": "code",
   "execution_count": 2,
   "id": "6514fcd3",
   "metadata": {
    "ExecuteTime": {
     "end_time": "2022-01-11T10:58:44.472127Z",
     "start_time": "2022-01-11T10:58:44.462116Z"
    }
   },
   "outputs": [],
   "source": [
    "import pandas as pd\n",
    "from bs4 import BeautifulSoup\n",
    "import requests\n",
    "import matplotlib.pyplot as plt\n",
    "plt.style.use('ggplot')\n",
    "from datetime import datetime\n",
    "import warnings\n",
    "warnings.filterwarnings('ignore')\n",
    "from matplotlib import font_manager, rc\n",
    "\n",
    "font_name = font_manager.FontProperties(fname=\"c:/Windows/Fonts/malgun.ttf\").get_name()\n",
    "rc('font', family=font_name)"
   ]
  },
  {
   "cell_type": "markdown",
   "id": "e5886a00",
   "metadata": {},
   "source": [
    "서울,인천,수원,~ 여주 주간\n",
    "1. data frame\n",
    "- 도시, 날짜 멀티인덱스\n",
    "- 날씨, 최저, 최고\n",
    "2. EDA 데이터분석"
   ]
  },
  {
   "cell_type": "markdown",
   "id": "34417446",
   "metadata": {},
   "source": [
    "# cralwling"
   ]
  },
  {
   "cell_type": "markdown",
   "id": "faad9182",
   "metadata": {},
   "source": [
    "### 지원씨의 더 나은 크롤링 방식"
   ]
  },
  {
   "cell_type": "code",
   "execution_count": 3,
   "id": "9aebfa08",
   "metadata": {},
   "outputs": [
    {
     "data": {
      "text/html": [
       "<div>\n",
       "<style scoped>\n",
       "    .dataframe tbody tr th:only-of-type {\n",
       "        vertical-align: middle;\n",
       "    }\n",
       "\n",
       "    .dataframe tbody tr th {\n",
       "        vertical-align: top;\n",
       "    }\n",
       "\n",
       "    .dataframe thead th {\n",
       "        text-align: right;\n",
       "    }\n",
       "</style>\n",
       "<table border=\"1\" class=\"dataframe\">\n",
       "  <thead>\n",
       "    <tr style=\"text-align: right;\">\n",
       "      <th></th>\n",
       "      <th>도시</th>\n",
       "      <th>날짜</th>\n",
       "      <th>날씨</th>\n",
       "      <th>최저</th>\n",
       "      <th>최고</th>\n",
       "    </tr>\n",
       "  </thead>\n",
       "  <tbody>\n",
       "    <tr>\n",
       "      <th>0</th>\n",
       "      <td>서울</td>\n",
       "      <td>2022-01-15 00:00</td>\n",
       "      <td>구름많음</td>\n",
       "      <td>-5</td>\n",
       "      <td>4</td>\n",
       "    </tr>\n",
       "    <tr>\n",
       "      <th>1</th>\n",
       "      <td>서울</td>\n",
       "      <td>2022-01-15 12:00</td>\n",
       "      <td>흐림</td>\n",
       "      <td>-5</td>\n",
       "      <td>4</td>\n",
       "    </tr>\n",
       "    <tr>\n",
       "      <th>2</th>\n",
       "      <td>서울</td>\n",
       "      <td>2022-01-16 00:00</td>\n",
       "      <td>구름많고 비/눈</td>\n",
       "      <td>-2</td>\n",
       "      <td>1</td>\n",
       "    </tr>\n",
       "    <tr>\n",
       "      <th>3</th>\n",
       "      <td>서울</td>\n",
       "      <td>2022-01-16 12:00</td>\n",
       "      <td>맑음</td>\n",
       "      <td>-2</td>\n",
       "      <td>1</td>\n",
       "    </tr>\n",
       "    <tr>\n",
       "      <th>4</th>\n",
       "      <td>서울</td>\n",
       "      <td>2022-01-17 00:00</td>\n",
       "      <td>맑음</td>\n",
       "      <td>-9</td>\n",
       "      <td>-1</td>\n",
       "    </tr>\n",
       "    <tr>\n",
       "      <th>...</th>\n",
       "      <td>...</td>\n",
       "      <td>...</td>\n",
       "      <td>...</td>\n",
       "      <td>...</td>\n",
       "      <td>...</td>\n",
       "    </tr>\n",
       "    <tr>\n",
       "      <th>450</th>\n",
       "      <td>여주</td>\n",
       "      <td>2022-01-19 00:00</td>\n",
       "      <td>맑음</td>\n",
       "      <td>-7</td>\n",
       "      <td>1</td>\n",
       "    </tr>\n",
       "    <tr>\n",
       "      <th>451</th>\n",
       "      <td>여주</td>\n",
       "      <td>2022-01-19 12:00</td>\n",
       "      <td>맑음</td>\n",
       "      <td>-7</td>\n",
       "      <td>1</td>\n",
       "    </tr>\n",
       "    <tr>\n",
       "      <th>452</th>\n",
       "      <td>여주</td>\n",
       "      <td>2022-01-20 00:00</td>\n",
       "      <td>맑음</td>\n",
       "      <td>-11</td>\n",
       "      <td>0</td>\n",
       "    </tr>\n",
       "    <tr>\n",
       "      <th>453</th>\n",
       "      <td>여주</td>\n",
       "      <td>2022-01-21 00:00</td>\n",
       "      <td>맑음</td>\n",
       "      <td>-9</td>\n",
       "      <td>1</td>\n",
       "    </tr>\n",
       "    <tr>\n",
       "      <th>454</th>\n",
       "      <td>여주</td>\n",
       "      <td>2022-01-22 00:00</td>\n",
       "      <td>구름많음</td>\n",
       "      <td>-8</td>\n",
       "      <td>1</td>\n",
       "    </tr>\n",
       "  </tbody>\n",
       "</table>\n",
       "<p>455 rows × 5 columns</p>\n",
       "</div>"
      ],
      "text/plain": [
       "     도시                날짜        날씨   최저  최고\n",
       "0    서울  2022-01-15 00:00      구름많음   -5   4\n",
       "1    서울  2022-01-15 12:00        흐림   -5   4\n",
       "2    서울  2022-01-16 00:00  구름많고 비/눈   -2   1\n",
       "3    서울  2022-01-16 12:00        맑음   -2   1\n",
       "4    서울  2022-01-17 00:00        맑음   -9  -1\n",
       "..   ..               ...       ...  ...  ..\n",
       "450  여주  2022-01-19 00:00        맑음   -7   1\n",
       "451  여주  2022-01-19 12:00        맑음   -7   1\n",
       "452  여주  2022-01-20 00:00        맑음  -11   0\n",
       "453  여주  2022-01-21 00:00        맑음   -9   1\n",
       "454  여주  2022-01-22 00:00      구름많음   -8   1\n",
       "\n",
       "[455 rows x 5 columns]"
      ]
     },
     "execution_count": 3,
     "metadata": {},
     "output_type": "execute_result"
    }
   ],
   "source": [
    "from bs4 import BeautifulSoup\n",
    "import urllib.request as MyURL\n",
    "\n",
    "#서울 / 경기도 RSS \n",
    "japi = 'http://www.kma.go.kr/weather/forecast/mid-term-rss3.jsp?stnId=109'\n",
    "\n",
    "response = MyURL.urlopen(japi)\n",
    "weather = BeautifulSoup(response, \"html.parser\") #html5lib 사용하면 종료태그 닫히지 않을 수 있는 부분 개선\n",
    "                                                    #xml은 딱히 상관 없으나 html 사용 시 추천\n",
    "\n",
    "wdata = []\n",
    "for location in weather.select('location'):          #html 경우 findAll 대신 select('선택자')\n",
    "    for data in location.select('data'):\n",
    "        wdata.append({'도시':location.city.string,\n",
    "                     '날짜':data.tmef.string,\n",
    "                     '날씨':data.wf.string,\n",
    "                     '최저':data.tmn.string,\n",
    "                     '최고':data.tmx.string} )\n",
    "\n",
    "wdf = pd.DataFrame( wdata )\n",
    "wdf"
   ]
  },
  {
   "cell_type": "markdown",
   "id": "079ccb82",
   "metadata": {},
   "source": [
    "### 2번째 방식"
   ]
  },
  {
   "cell_type": "code",
   "execution_count": 6,
   "id": "3572a6ea",
   "metadata": {
    "ExecuteTime": {
     "end_time": "2022-01-11T10:39:45.775951Z",
     "start_time": "2022-01-11T10:39:45.761932Z"
    }
   },
   "outputs": [],
   "source": [
    "temp1 = []\n",
    "def parse(url):\n",
    "    r = requests.get(url)\n",
    "    soup = BeautifulSoup(r.text, 'lxml')\n",
    "    allweek = soup.find_all('location')\n",
    "    for location_df in allweek:\n",
    "        time = [location_df.find('city').text +' - ' + a.text for a in location_df.find_all('tmef')]      \n",
    "        low_tem = [a.text for a in location_df.find_all('tmn')]\n",
    "        max_tem = [a.text for a in location_df.find_all('tmx')]\n",
    "        wf = [a.text for a in location_df.find_all('wf')]\n",
    "        temp = [time, low_tem, max_tem, wf]\n",
    "        \n",
    "        seper_df = pd.DataFrame(temp)\n",
    "        temp1.append(seper_df)\n",
    "    return temp1"
   ]
  },
  {
   "cell_type": "code",
   "execution_count": 7,
   "id": "38fb8eb5",
   "metadata": {
    "ExecuteTime": {
     "end_time": "2022-01-11T10:39:46.016823Z",
     "start_time": "2022-01-11T10:39:45.777946Z"
    }
   },
   "outputs": [],
   "source": [
    "all_list = parse('https://www.kma.go.kr/weather/forecast/mid-term-rss3.jsp?stnId=109')\n",
    "df = pd.concat(all_list, axis=1).T"
   ]
  },
  {
   "cell_type": "code",
   "execution_count": 8,
   "id": "9d0a8d5d",
   "metadata": {
    "ExecuteTime": {
     "end_time": "2022-01-11T10:39:46.031835Z",
     "start_time": "2022-01-11T10:39:46.017823Z"
    }
   },
   "outputs": [],
   "source": [
    "df.columns = [\"city\", 'low_tem', \"max_tem\", \"weather\"]"
   ]
  },
  {
   "cell_type": "code",
   "execution_count": 9,
   "id": "70865aa5",
   "metadata": {
    "ExecuteTime": {
     "end_time": "2022-01-11T10:39:46.046834Z",
     "start_time": "2022-01-11T10:39:46.033830Z"
    }
   },
   "outputs": [],
   "source": [
    "df.index = pd.to_datetime(df.index)"
   ]
  },
  {
   "cell_type": "markdown",
   "id": "e6a3547c",
   "metadata": {},
   "source": [
    "# EDA"
   ]
  },
  {
   "cell_type": "markdown",
   "id": "1d2a355e",
   "metadata": {},
   "source": [
    "### 1. 도시와 날짜를 인덱스로 설정하시요"
   ]
  },
  {
   "cell_type": "code",
   "execution_count": 10,
   "id": "432e0a4e",
   "metadata": {
    "ExecuteTime": {
     "end_time": "2022-01-11T10:39:46.091851Z",
     "start_time": "2022-01-11T10:39:46.078840Z"
    }
   },
   "outputs": [],
   "source": [
    "df[['city_name', 'time']] = df['city'].str.split(' - ', 1, expand=True)"
   ]
  },
  {
   "cell_type": "code",
   "execution_count": 11,
   "id": "53bbce9e",
   "metadata": {
    "ExecuteTime": {
     "end_time": "2022-01-11T10:39:46.106854Z",
     "start_time": "2022-01-11T10:39:46.093852Z"
    }
   },
   "outputs": [],
   "source": [
    "df = df.set_index(['city_name','time']) "
   ]
  },
  {
   "cell_type": "markdown",
   "id": "e2061115",
   "metadata": {},
   "source": [
    "### 2. 도시별 최고, 최저기온 평균을 구하시요.구름많고 비/눈"
   ]
  },
  {
   "cell_type": "code",
   "execution_count": 12,
   "id": "100cc40a",
   "metadata": {
    "ExecuteTime": {
     "end_time": "2022-01-11T10:39:46.121857Z",
     "start_time": "2022-01-11T10:39:46.109842Z"
    }
   },
   "outputs": [],
   "source": [
    "df.low_tem = pd.to_numeric(df.low_tem)\n",
    "df.max_tem = pd.to_numeric(df.max_tem)"
   ]
  },
  {
   "cell_type": "code",
   "execution_count": 13,
   "id": "50a814ba",
   "metadata": {
    "ExecuteTime": {
     "end_time": "2022-01-11T10:39:46.136860Z",
     "start_time": "2022-01-11T10:39:46.123849Z"
    }
   },
   "outputs": [],
   "source": [
    "df.drop(['city'], axis = True, inplace = True)"
   ]
  },
  {
   "cell_type": "markdown",
   "id": "c29ef167",
   "metadata": {},
   "source": [
    "### 도시별 최고, 최저기온 평균을 구하시요."
   ]
  },
  {
   "cell_type": "code",
   "execution_count": 14,
   "id": "fc2310c6",
   "metadata": {},
   "outputs": [
    {
     "data": {
      "text/html": [
       "<div>\n",
       "<style scoped>\n",
       "    .dataframe tbody tr th:only-of-type {\n",
       "        vertical-align: middle;\n",
       "    }\n",
       "\n",
       "    .dataframe tbody tr th {\n",
       "        vertical-align: top;\n",
       "    }\n",
       "\n",
       "    .dataframe thead th {\n",
       "        text-align: right;\n",
       "    }\n",
       "</style>\n",
       "<table border=\"1\" class=\"dataframe\">\n",
       "  <thead>\n",
       "    <tr style=\"text-align: right;\">\n",
       "      <th></th>\n",
       "      <th>low_tem</th>\n",
       "      <th>max_tem</th>\n",
       "    </tr>\n",
       "    <tr>\n",
       "      <th>city_name</th>\n",
       "      <th></th>\n",
       "      <th></th>\n",
       "    </tr>\n",
       "  </thead>\n",
       "  <tbody>\n",
       "    <tr>\n",
       "      <th>연천</th>\n",
       "      <td>-11.769231</td>\n",
       "      <td>-1.846154</td>\n",
       "    </tr>\n",
       "    <tr>\n",
       "      <th>가평</th>\n",
       "      <td>-11.307692</td>\n",
       "      <td>0.615385</td>\n",
       "    </tr>\n",
       "    <tr>\n",
       "      <th>파주</th>\n",
       "      <td>-10.076923</td>\n",
       "      <td>0.000000</td>\n",
       "    </tr>\n",
       "    <tr>\n",
       "      <th>양주</th>\n",
       "      <td>-10.000000</td>\n",
       "      <td>0.000000</td>\n",
       "    </tr>\n",
       "    <tr>\n",
       "      <th>포천</th>\n",
       "      <td>-9.846154</td>\n",
       "      <td>0.076923</td>\n",
       "    </tr>\n",
       "    <tr>\n",
       "      <th>남양주</th>\n",
       "      <td>-9.076923</td>\n",
       "      <td>-0.076923</td>\n",
       "    </tr>\n",
       "    <tr>\n",
       "      <th>의정부</th>\n",
       "      <td>-8.769231</td>\n",
       "      <td>0.000000</td>\n",
       "    </tr>\n",
       "    <tr>\n",
       "      <th>동두천</th>\n",
       "      <td>-8.769231</td>\n",
       "      <td>0.769231</td>\n",
       "    </tr>\n",
       "    <tr>\n",
       "      <th>광주</th>\n",
       "      <td>-8.538462</td>\n",
       "      <td>0.615385</td>\n",
       "    </tr>\n",
       "    <tr>\n",
       "      <th>이천</th>\n",
       "      <td>-8.230769</td>\n",
       "      <td>1.153846</td>\n",
       "    </tr>\n",
       "    <tr>\n",
       "      <th>고양</th>\n",
       "      <td>-8.153846</td>\n",
       "      <td>0.769231</td>\n",
       "    </tr>\n",
       "    <tr>\n",
       "      <th>의왕</th>\n",
       "      <td>-8.000000</td>\n",
       "      <td>-0.153846</td>\n",
       "    </tr>\n",
       "    <tr>\n",
       "      <th>양평</th>\n",
       "      <td>-7.923077</td>\n",
       "      <td>0.615385</td>\n",
       "    </tr>\n",
       "    <tr>\n",
       "      <th>강화</th>\n",
       "      <td>-7.769231</td>\n",
       "      <td>-0.153846</td>\n",
       "    </tr>\n",
       "    <tr>\n",
       "      <th>용인</th>\n",
       "      <td>-7.769231</td>\n",
       "      <td>1.153846</td>\n",
       "    </tr>\n",
       "    <tr>\n",
       "      <th>여주</th>\n",
       "      <td>-7.692308</td>\n",
       "      <td>0.615385</td>\n",
       "    </tr>\n",
       "    <tr>\n",
       "      <th>오산</th>\n",
       "      <td>-7.615385</td>\n",
       "      <td>0.538462</td>\n",
       "    </tr>\n",
       "    <tr>\n",
       "      <th>안성</th>\n",
       "      <td>-7.538462</td>\n",
       "      <td>1.615385</td>\n",
       "    </tr>\n",
       "    <tr>\n",
       "      <th>과천</th>\n",
       "      <td>-7.461538</td>\n",
       "      <td>0.923077</td>\n",
       "    </tr>\n",
       "    <tr>\n",
       "      <th>구리</th>\n",
       "      <td>-7.307692</td>\n",
       "      <td>0.769231</td>\n",
       "    </tr>\n",
       "    <tr>\n",
       "      <th>수원</th>\n",
       "      <td>-7.230769</td>\n",
       "      <td>1.538462</td>\n",
       "    </tr>\n",
       "    <tr>\n",
       "      <th>하남</th>\n",
       "      <td>-7.076923</td>\n",
       "      <td>0.846154</td>\n",
       "    </tr>\n",
       "    <tr>\n",
       "      <th>성남</th>\n",
       "      <td>-6.923077</td>\n",
       "      <td>0.923077</td>\n",
       "    </tr>\n",
       "    <tr>\n",
       "      <th>시흥</th>\n",
       "      <td>-6.923077</td>\n",
       "      <td>0.615385</td>\n",
       "    </tr>\n",
       "    <tr>\n",
       "      <th>김포</th>\n",
       "      <td>-6.923077</td>\n",
       "      <td>0.923077</td>\n",
       "    </tr>\n",
       "    <tr>\n",
       "      <th>평택</th>\n",
       "      <td>-6.692308</td>\n",
       "      <td>0.769231</td>\n",
       "    </tr>\n",
       "    <tr>\n",
       "      <th>안산</th>\n",
       "      <td>-6.692308</td>\n",
       "      <td>0.923077</td>\n",
       "    </tr>\n",
       "    <tr>\n",
       "      <th>서울</th>\n",
       "      <td>-6.307692</td>\n",
       "      <td>0.538462</td>\n",
       "    </tr>\n",
       "    <tr>\n",
       "      <th>군포</th>\n",
       "      <td>-6.307692</td>\n",
       "      <td>0.230769</td>\n",
       "    </tr>\n",
       "    <tr>\n",
       "      <th>화성</th>\n",
       "      <td>-6.307692</td>\n",
       "      <td>0.923077</td>\n",
       "    </tr>\n",
       "    <tr>\n",
       "      <th>안양</th>\n",
       "      <td>-6.230769</td>\n",
       "      <td>0.076923</td>\n",
       "    </tr>\n",
       "    <tr>\n",
       "      <th>광명</th>\n",
       "      <td>-5.692308</td>\n",
       "      <td>0.000000</td>\n",
       "    </tr>\n",
       "    <tr>\n",
       "      <th>부천</th>\n",
       "      <td>-5.538462</td>\n",
       "      <td>0.615385</td>\n",
       "    </tr>\n",
       "    <tr>\n",
       "      <th>인천</th>\n",
       "      <td>-5.384615</td>\n",
       "      <td>-0.076923</td>\n",
       "    </tr>\n",
       "    <tr>\n",
       "      <th>백령도</th>\n",
       "      <td>-2.000000</td>\n",
       "      <td>1.153846</td>\n",
       "    </tr>\n",
       "  </tbody>\n",
       "</table>\n",
       "</div>"
      ],
      "text/plain": [
       "             low_tem   max_tem\n",
       "city_name                     \n",
       "연천        -11.769231 -1.846154\n",
       "가평        -11.307692  0.615385\n",
       "파주        -10.076923  0.000000\n",
       "양주        -10.000000  0.000000\n",
       "포천         -9.846154  0.076923\n",
       "남양주        -9.076923 -0.076923\n",
       "의정부        -8.769231  0.000000\n",
       "동두천        -8.769231  0.769231\n",
       "광주         -8.538462  0.615385\n",
       "이천         -8.230769  1.153846\n",
       "고양         -8.153846  0.769231\n",
       "의왕         -8.000000 -0.153846\n",
       "양평         -7.923077  0.615385\n",
       "강화         -7.769231 -0.153846\n",
       "용인         -7.769231  1.153846\n",
       "여주         -7.692308  0.615385\n",
       "오산         -7.615385  0.538462\n",
       "안성         -7.538462  1.615385\n",
       "과천         -7.461538  0.923077\n",
       "구리         -7.307692  0.769231\n",
       "수원         -7.230769  1.538462\n",
       "하남         -7.076923  0.846154\n",
       "성남         -6.923077  0.923077\n",
       "시흥         -6.923077  0.615385\n",
       "김포         -6.923077  0.923077\n",
       "평택         -6.692308  0.769231\n",
       "안산         -6.692308  0.923077\n",
       "서울         -6.307692  0.538462\n",
       "군포         -6.307692  0.230769\n",
       "화성         -6.307692  0.923077\n",
       "안양         -6.230769  0.076923\n",
       "광명         -5.692308  0.000000\n",
       "부천         -5.538462  0.615385\n",
       "인천         -5.384615 -0.076923\n",
       "백령도        -2.000000  1.153846"
      ]
     },
     "execution_count": 14,
     "metadata": {},
     "output_type": "execute_result"
    }
   ],
   "source": [
    "df.groupby(['city_name'], sort=False).mean().sort_values(by='low_tem')"
   ]
  },
  {
   "cell_type": "markdown",
   "id": "9aee1d7f",
   "metadata": {
    "ExecuteTime": {
     "end_time": "2022-01-11T08:20:04.158025Z",
     "start_time": "2022-01-11T08:20:04.135034Z"
    }
   },
   "source": [
    "### '눈'이 오는 도시 날짜 날씨를 구하시요"
   ]
  },
  {
   "cell_type": "code",
   "execution_count": 15,
   "id": "158f77bf",
   "metadata": {},
   "outputs": [
    {
     "data": {
      "text/html": [
       "<div>\n",
       "<style scoped>\n",
       "    .dataframe tbody tr th:only-of-type {\n",
       "        vertical-align: middle;\n",
       "    }\n",
       "\n",
       "    .dataframe tbody tr th {\n",
       "        vertical-align: top;\n",
       "    }\n",
       "\n",
       "    .dataframe thead th {\n",
       "        text-align: right;\n",
       "    }\n",
       "</style>\n",
       "<table border=\"1\" class=\"dataframe\">\n",
       "  <thead>\n",
       "    <tr style=\"text-align: right;\">\n",
       "      <th></th>\n",
       "      <th></th>\n",
       "      <th>weather</th>\n",
       "    </tr>\n",
       "    <tr>\n",
       "      <th>city_name</th>\n",
       "      <th>time</th>\n",
       "      <th></th>\n",
       "    </tr>\n",
       "  </thead>\n",
       "  <tbody>\n",
       "    <tr>\n",
       "      <th>서울</th>\n",
       "      <th>2022-01-16 00:00</th>\n",
       "      <td>구름많고 비/눈</td>\n",
       "    </tr>\n",
       "    <tr>\n",
       "      <th>인천</th>\n",
       "      <th>2022-01-16 00:00</th>\n",
       "      <td>구름많고 비/눈</td>\n",
       "    </tr>\n",
       "    <tr>\n",
       "      <th>수원</th>\n",
       "      <th>2022-01-16 00:00</th>\n",
       "      <td>구름많고 비/눈</td>\n",
       "    </tr>\n",
       "    <tr>\n",
       "      <th>파주</th>\n",
       "      <th>2022-01-16 00:00</th>\n",
       "      <td>구름많고 비/눈</td>\n",
       "    </tr>\n",
       "    <tr>\n",
       "      <th>이천</th>\n",
       "      <th>2022-01-16 00:00</th>\n",
       "      <td>구름많고 비/눈</td>\n",
       "    </tr>\n",
       "    <tr>\n",
       "      <th>평택</th>\n",
       "      <th>2022-01-16 00:00</th>\n",
       "      <td>구름많고 비/눈</td>\n",
       "    </tr>\n",
       "    <tr>\n",
       "      <th>백령도</th>\n",
       "      <th>2022-01-16 00:00</th>\n",
       "      <td>구름많고 비/눈</td>\n",
       "    </tr>\n",
       "    <tr>\n",
       "      <th>과천</th>\n",
       "      <th>2022-01-16 00:00</th>\n",
       "      <td>구름많고 비/눈</td>\n",
       "    </tr>\n",
       "    <tr>\n",
       "      <th>광명</th>\n",
       "      <th>2022-01-16 00:00</th>\n",
       "      <td>구름많고 비/눈</td>\n",
       "    </tr>\n",
       "    <tr>\n",
       "      <th>강화</th>\n",
       "      <th>2022-01-16 00:00</th>\n",
       "      <td>구름많고 비/눈</td>\n",
       "    </tr>\n",
       "    <tr>\n",
       "      <th>김포</th>\n",
       "      <th>2022-01-16 00:00</th>\n",
       "      <td>구름많고 비/눈</td>\n",
       "    </tr>\n",
       "    <tr>\n",
       "      <th>시흥</th>\n",
       "      <th>2022-01-16 00:00</th>\n",
       "      <td>구름많고 비/눈</td>\n",
       "    </tr>\n",
       "    <tr>\n",
       "      <th>안산</th>\n",
       "      <th>2022-01-16 00:00</th>\n",
       "      <td>구름많고 비/눈</td>\n",
       "    </tr>\n",
       "    <tr>\n",
       "      <th>부천</th>\n",
       "      <th>2022-01-16 00:00</th>\n",
       "      <td>구름많고 비/눈</td>\n",
       "    </tr>\n",
       "    <tr>\n",
       "      <th>의정부</th>\n",
       "      <th>2022-01-16 00:00</th>\n",
       "      <td>구름많고 비/눈</td>\n",
       "    </tr>\n",
       "    <tr>\n",
       "      <th>고양</th>\n",
       "      <th>2022-01-16 00:00</th>\n",
       "      <td>구름많고 비/눈</td>\n",
       "    </tr>\n",
       "    <tr>\n",
       "      <th>양주</th>\n",
       "      <th>2022-01-16 00:00</th>\n",
       "      <td>구름많고 비/눈</td>\n",
       "    </tr>\n",
       "    <tr>\n",
       "      <th>동두천</th>\n",
       "      <th>2022-01-16 00:00</th>\n",
       "      <td>구름많고 비/눈</td>\n",
       "    </tr>\n",
       "    <tr>\n",
       "      <th>연천</th>\n",
       "      <th>2022-01-16 00:00</th>\n",
       "      <td>구름많고 비/눈</td>\n",
       "    </tr>\n",
       "    <tr>\n",
       "      <th>포천</th>\n",
       "      <th>2022-01-16 00:00</th>\n",
       "      <td>구름많고 비/눈</td>\n",
       "    </tr>\n",
       "    <tr>\n",
       "      <th>가평</th>\n",
       "      <th>2022-01-16 00:00</th>\n",
       "      <td>구름많고 비/눈</td>\n",
       "    </tr>\n",
       "    <tr>\n",
       "      <th>구리</th>\n",
       "      <th>2022-01-16 00:00</th>\n",
       "      <td>구름많고 비/눈</td>\n",
       "    </tr>\n",
       "    <tr>\n",
       "      <th>남양주</th>\n",
       "      <th>2022-01-16 00:00</th>\n",
       "      <td>구름많고 비/눈</td>\n",
       "    </tr>\n",
       "    <tr>\n",
       "      <th>양평</th>\n",
       "      <th>2022-01-16 00:00</th>\n",
       "      <td>구름많고 비/눈</td>\n",
       "    </tr>\n",
       "    <tr>\n",
       "      <th>하남</th>\n",
       "      <th>2022-01-16 00:00</th>\n",
       "      <td>구름많고 비/눈</td>\n",
       "    </tr>\n",
       "    <tr>\n",
       "      <th>안양</th>\n",
       "      <th>2022-01-16 00:00</th>\n",
       "      <td>구름많고 비/눈</td>\n",
       "    </tr>\n",
       "    <tr>\n",
       "      <th>오산</th>\n",
       "      <th>2022-01-16 00:00</th>\n",
       "      <td>구름많고 비/눈</td>\n",
       "    </tr>\n",
       "    <tr>\n",
       "      <th>화성</th>\n",
       "      <th>2022-01-16 00:00</th>\n",
       "      <td>구름많고 비/눈</td>\n",
       "    </tr>\n",
       "    <tr>\n",
       "      <th>성남</th>\n",
       "      <th>2022-01-16 00:00</th>\n",
       "      <td>구름많고 비/눈</td>\n",
       "    </tr>\n",
       "    <tr>\n",
       "      <th>의왕</th>\n",
       "      <th>2022-01-16 00:00</th>\n",
       "      <td>구름많고 비/눈</td>\n",
       "    </tr>\n",
       "    <tr>\n",
       "      <th>군포</th>\n",
       "      <th>2022-01-16 00:00</th>\n",
       "      <td>구름많고 비/눈</td>\n",
       "    </tr>\n",
       "    <tr>\n",
       "      <th>안성</th>\n",
       "      <th>2022-01-16 00:00</th>\n",
       "      <td>구름많고 비/눈</td>\n",
       "    </tr>\n",
       "    <tr>\n",
       "      <th>용인</th>\n",
       "      <th>2022-01-16 00:00</th>\n",
       "      <td>구름많고 비/눈</td>\n",
       "    </tr>\n",
       "    <tr>\n",
       "      <th>광주</th>\n",
       "      <th>2022-01-16 00:00</th>\n",
       "      <td>구름많고 비/눈</td>\n",
       "    </tr>\n",
       "    <tr>\n",
       "      <th>여주</th>\n",
       "      <th>2022-01-16 00:00</th>\n",
       "      <td>구름많고 비/눈</td>\n",
       "    </tr>\n",
       "  </tbody>\n",
       "</table>\n",
       "</div>"
      ],
      "text/plain": [
       "                             weather\n",
       "city_name time                      \n",
       "서울        2022-01-16 00:00  구름많고 비/눈\n",
       "인천        2022-01-16 00:00  구름많고 비/눈\n",
       "수원        2022-01-16 00:00  구름많고 비/눈\n",
       "파주        2022-01-16 00:00  구름많고 비/눈\n",
       "이천        2022-01-16 00:00  구름많고 비/눈\n",
       "평택        2022-01-16 00:00  구름많고 비/눈\n",
       "백령도       2022-01-16 00:00  구름많고 비/눈\n",
       "과천        2022-01-16 00:00  구름많고 비/눈\n",
       "광명        2022-01-16 00:00  구름많고 비/눈\n",
       "강화        2022-01-16 00:00  구름많고 비/눈\n",
       "김포        2022-01-16 00:00  구름많고 비/눈\n",
       "시흥        2022-01-16 00:00  구름많고 비/눈\n",
       "안산        2022-01-16 00:00  구름많고 비/눈\n",
       "부천        2022-01-16 00:00  구름많고 비/눈\n",
       "의정부       2022-01-16 00:00  구름많고 비/눈\n",
       "고양        2022-01-16 00:00  구름많고 비/눈\n",
       "양주        2022-01-16 00:00  구름많고 비/눈\n",
       "동두천       2022-01-16 00:00  구름많고 비/눈\n",
       "연천        2022-01-16 00:00  구름많고 비/눈\n",
       "포천        2022-01-16 00:00  구름많고 비/눈\n",
       "가평        2022-01-16 00:00  구름많고 비/눈\n",
       "구리        2022-01-16 00:00  구름많고 비/눈\n",
       "남양주       2022-01-16 00:00  구름많고 비/눈\n",
       "양평        2022-01-16 00:00  구름많고 비/눈\n",
       "하남        2022-01-16 00:00  구름많고 비/눈\n",
       "안양        2022-01-16 00:00  구름많고 비/눈\n",
       "오산        2022-01-16 00:00  구름많고 비/눈\n",
       "화성        2022-01-16 00:00  구름많고 비/눈\n",
       "성남        2022-01-16 00:00  구름많고 비/눈\n",
       "의왕        2022-01-16 00:00  구름많고 비/눈\n",
       "군포        2022-01-16 00:00  구름많고 비/눈\n",
       "안성        2022-01-16 00:00  구름많고 비/눈\n",
       "용인        2022-01-16 00:00  구름많고 비/눈\n",
       "광주        2022-01-16 00:00  구름많고 비/눈\n",
       "여주        2022-01-16 00:00  구름많고 비/눈"
      ]
     },
     "execution_count": 15,
     "metadata": {},
     "output_type": "execute_result"
    }
   ],
   "source": [
    "df[ df['weather'].str.contains('눈') ][['weather']]"
   ]
  },
  {
   "cell_type": "markdown",
   "id": "6c44856d",
   "metadata": {},
   "source": [
    "### 최저기온이 가장 낮은 도시, 날짜, 최고기온을 구하시요"
   ]
  },
  {
   "cell_type": "code",
   "execution_count": 16,
   "id": "0545334e",
   "metadata": {
    "ExecuteTime": {
     "end_time": "2022-01-11T10:39:46.181870Z",
     "start_time": "2022-01-11T10:39:46.168861Z"
    }
   },
   "outputs": [
    {
     "data": {
      "text/html": [
       "<div>\n",
       "<style scoped>\n",
       "    .dataframe tbody tr th:only-of-type {\n",
       "        vertical-align: middle;\n",
       "    }\n",
       "\n",
       "    .dataframe tbody tr th {\n",
       "        vertical-align: top;\n",
       "    }\n",
       "\n",
       "    .dataframe thead th {\n",
       "        text-align: right;\n",
       "    }\n",
       "</style>\n",
       "<table border=\"1\" class=\"dataframe\">\n",
       "  <thead>\n",
       "    <tr style=\"text-align: right;\">\n",
       "      <th></th>\n",
       "      <th></th>\n",
       "      <th>max_tem</th>\n",
       "    </tr>\n",
       "    <tr>\n",
       "      <th>city_name</th>\n",
       "      <th>time</th>\n",
       "      <th></th>\n",
       "    </tr>\n",
       "  </thead>\n",
       "  <tbody>\n",
       "    <tr>\n",
       "      <th rowspan=\"4\" valign=\"top\">연천</th>\n",
       "      <th>2022-01-17 00:00</th>\n",
       "      <td>-4</td>\n",
       "    </tr>\n",
       "    <tr>\n",
       "      <th>2022-01-17 12:00</th>\n",
       "      <td>-4</td>\n",
       "    </tr>\n",
       "    <tr>\n",
       "      <th>2022-01-18 00:00</th>\n",
       "      <td>-2</td>\n",
       "    </tr>\n",
       "    <tr>\n",
       "      <th>2022-01-18 12:00</th>\n",
       "      <td>-2</td>\n",
       "    </tr>\n",
       "  </tbody>\n",
       "</table>\n",
       "</div>"
      ],
      "text/plain": [
       "                            max_tem\n",
       "city_name time                     \n",
       "연천        2022-01-17 00:00       -4\n",
       "          2022-01-17 12:00       -4\n",
       "          2022-01-18 00:00       -2\n",
       "          2022-01-18 12:00       -2"
      ]
     },
     "execution_count": 16,
     "metadata": {},
     "output_type": "execute_result"
    }
   ],
   "source": [
    "df.nsmallest(1, 'low_tem', keep='all')[['max_tem']]"
   ]
  },
  {
   "cell_type": "markdown",
   "id": "0fb0a3ee",
   "metadata": {},
   "source": [
    " ### 서울지역의 날짜별 최고 최저기온을 바차트로 그리시요"
   ]
  },
  {
   "cell_type": "code",
   "execution_count": 22,
   "id": "8ce87a2d",
   "metadata": {
    "collapsed": true
   },
   "outputs": [
    {
     "ename": "AttributeError",
     "evalue": "'MultiIndex' object has no attribute 'day'",
     "output_type": "error",
     "traceback": [
      "\u001b[1;31m---------------------------------------------------------------------------\u001b[0m",
      "\u001b[1;31mAttributeError\u001b[0m                            Traceback (most recent call last)",
      "\u001b[1;32m<ipython-input-22-565faa72e767>\u001b[0m in \u001b[0;36m<module>\u001b[1;34m\u001b[0m\n\u001b[0;32m      1\u001b[0m \u001b[0mseoul_tem\u001b[0m \u001b[1;33m=\u001b[0m \u001b[0mdf\u001b[0m\u001b[1;33m.\u001b[0m\u001b[0mloc\u001b[0m\u001b[1;33m[\u001b[0m\u001b[1;34m'서울'\u001b[0m\u001b[1;33m]\u001b[0m\u001b[1;33m\u001b[0m\u001b[1;33m\u001b[0m\u001b[0m\n\u001b[1;32m----> 2\u001b[1;33m \u001b[0mseoul_tem\u001b[0m\u001b[1;33m.\u001b[0m\u001b[0mgroupby\u001b[0m\u001b[1;33m(\u001b[0m\u001b[0mdf\u001b[0m\u001b[1;33m.\u001b[0m\u001b[0mindex\u001b[0m\u001b[1;33m.\u001b[0m\u001b[0mday\u001b[0m\u001b[1;33m)\u001b[0m\u001b[1;33m.\u001b[0m\u001b[0mmean\u001b[0m\u001b[1;33m(\u001b[0m\u001b[1;33m)\u001b[0m\u001b[1;33m.\u001b[0m\u001b[0mplot\u001b[0m\u001b[1;33m(\u001b[0m\u001b[0mkind\u001b[0m\u001b[1;33m=\u001b[0m\u001b[1;34m'bar'\u001b[0m\u001b[1;33m)\u001b[0m\u001b[1;33m\u001b[0m\u001b[1;33m\u001b[0m\u001b[0m\n\u001b[0m",
      "\u001b[1;31mAttributeError\u001b[0m: 'MultiIndex' object has no attribute 'day'"
     ]
    }
   ],
   "source": [
    "seoul_tem = df.loc['서울']\n",
    "seoul_tem.groupby(seoul_tem.index.day).mean().plot(kind='bar')"
   ]
  },
  {
   "cell_type": "markdown",
   "id": "e595d2e4",
   "metadata": {
    "ExecuteTime": {
     "end_time": "2022-01-11T08:31:01.875215Z",
     "start_time": "2022-01-11T08:31:01.838207Z"
    }
   },
   "source": [
    "###  여주 지역 최저기온이 -10 도 이하인 데이터를 구하시요"
   ]
  },
  {
   "cell_type": "code",
   "execution_count": 24,
   "id": "f34635b8",
   "metadata": {},
   "outputs": [
    {
     "data": {
      "text/html": [
       "<div>\n",
       "<style scoped>\n",
       "    .dataframe tbody tr th:only-of-type {\n",
       "        vertical-align: middle;\n",
       "    }\n",
       "\n",
       "    .dataframe tbody tr th {\n",
       "        vertical-align: top;\n",
       "    }\n",
       "\n",
       "    .dataframe thead th {\n",
       "        text-align: right;\n",
       "    }\n",
       "</style>\n",
       "<table border=\"1\" class=\"dataframe\">\n",
       "  <thead>\n",
       "    <tr style=\"text-align: right;\">\n",
       "      <th></th>\n",
       "      <th>low_tem</th>\n",
       "      <th>max_tem</th>\n",
       "      <th>weather</th>\n",
       "    </tr>\n",
       "    <tr>\n",
       "      <th>time</th>\n",
       "      <th></th>\n",
       "      <th></th>\n",
       "      <th></th>\n",
       "    </tr>\n",
       "  </thead>\n",
       "  <tbody>\n",
       "    <tr>\n",
       "      <th>2022-01-17 00:00</th>\n",
       "      <td>-10</td>\n",
       "      <td>-1</td>\n",
       "      <td>맑음</td>\n",
       "    </tr>\n",
       "    <tr>\n",
       "      <th>2022-01-17 12:00</th>\n",
       "      <td>-10</td>\n",
       "      <td>-1</td>\n",
       "      <td>맑음</td>\n",
       "    </tr>\n",
       "    <tr>\n",
       "      <th>2022-01-18 00:00</th>\n",
       "      <td>-10</td>\n",
       "      <td>-1</td>\n",
       "      <td>맑음</td>\n",
       "    </tr>\n",
       "    <tr>\n",
       "      <th>2022-01-18 12:00</th>\n",
       "      <td>-10</td>\n",
       "      <td>-1</td>\n",
       "      <td>맑음</td>\n",
       "    </tr>\n",
       "    <tr>\n",
       "      <th>2022-01-20 00:00</th>\n",
       "      <td>-11</td>\n",
       "      <td>0</td>\n",
       "      <td>맑음</td>\n",
       "    </tr>\n",
       "  </tbody>\n",
       "</table>\n",
       "</div>"
      ],
      "text/plain": [
       "                  low_tem  max_tem weather\n",
       "time                                      \n",
       "2022-01-17 00:00      -10       -1      맑음\n",
       "2022-01-17 12:00      -10       -1      맑음\n",
       "2022-01-18 00:00      -10       -1      맑음\n",
       "2022-01-18 12:00      -10       -1      맑음\n",
       "2022-01-20 00:00      -11        0      맑음"
      ]
     },
     "execution_count": 24,
     "metadata": {},
     "output_type": "execute_result"
    }
   ],
   "source": [
    "yeojoo= df.loc['여주']\n",
    "# yeojoo[ yeojoo['low_tem'] <= -10 ]\n",
    "yeojoo.query( 'low_tem <= -10' )"
   ]
  },
  {
   "cell_type": "markdown",
   "id": "f3b7d195",
   "metadata": {
    "ExecuteTime": {
     "end_time": "2022-01-11T10:27:16.336235Z",
     "start_time": "2022-01-11T10:27:16.324234Z"
    }
   },
   "source": [
    "### 여주지역 전체 최고기온 중 최고기온이 0 도 이상이 차지하는 비율"
   ]
  },
  {
   "cell_type": "code",
   "execution_count": 25,
   "id": "2f36138d",
   "metadata": {},
   "outputs": [
    {
     "name": "stdout",
     "output_type": "stream",
     "text": [
      "69.23%\n"
     ]
    }
   ],
   "source": [
    "result = len( yeojoo.query( 'max_tem >= 0' ) ) / len(yeojoo)\n",
    "print( f'{result*100:.2f}%' )"
   ]
  },
  {
   "cell_type": "markdown",
   "id": "e547270f",
   "metadata": {},
   "source": [
    "### 일교차 컬럼을 추가하고 <br> 최고기온과 최저기온의 차이가 가장높은 도시,날짜,최저,최고,일교차를 구하시요"
   ]
  },
  {
   "cell_type": "code",
   "execution_count": 26,
   "id": "a4da2af5",
   "metadata": {
    "ExecuteTime": {
     "end_time": "2022-01-11T10:39:46.811996Z",
     "start_time": "2022-01-11T10:39:46.797995Z"
    }
   },
   "outputs": [],
   "source": [
    "df['diurnal_temp'] = df.max_tem - df.low_tem"
   ]
  },
  {
   "cell_type": "code",
   "execution_count": 27,
   "id": "1ca87050",
   "metadata": {
    "ExecuteTime": {
     "end_time": "2022-01-11T10:39:46.827002Z",
     "start_time": "2022-01-11T10:39:46.812998Z"
    }
   },
   "outputs": [
    {
     "data": {
      "text/html": [
       "<div>\n",
       "<style scoped>\n",
       "    .dataframe tbody tr th:only-of-type {\n",
       "        vertical-align: middle;\n",
       "    }\n",
       "\n",
       "    .dataframe tbody tr th {\n",
       "        vertical-align: top;\n",
       "    }\n",
       "\n",
       "    .dataframe thead th {\n",
       "        text-align: right;\n",
       "    }\n",
       "</style>\n",
       "<table border=\"1\" class=\"dataframe\">\n",
       "  <thead>\n",
       "    <tr style=\"text-align: right;\">\n",
       "      <th></th>\n",
       "      <th></th>\n",
       "      <th>low_tem</th>\n",
       "      <th>max_tem</th>\n",
       "      <th>weather</th>\n",
       "      <th>diurnal_temp</th>\n",
       "    </tr>\n",
       "    <tr>\n",
       "      <th>city_name</th>\n",
       "      <th>time</th>\n",
       "      <th></th>\n",
       "      <th></th>\n",
       "      <th></th>\n",
       "      <th></th>\n",
       "    </tr>\n",
       "  </thead>\n",
       "  <tbody>\n",
       "    <tr>\n",
       "      <th rowspan=\"2\" valign=\"top\">포천</th>\n",
       "      <th>2022-01-18 00:00</th>\n",
       "      <td>-13</td>\n",
       "      <td>1</td>\n",
       "      <td>맑음</td>\n",
       "      <td>14</td>\n",
       "    </tr>\n",
       "    <tr>\n",
       "      <th>2022-01-18 12:00</th>\n",
       "      <td>-13</td>\n",
       "      <td>1</td>\n",
       "      <td>맑음</td>\n",
       "      <td>14</td>\n",
       "    </tr>\n",
       "    <tr>\n",
       "      <th rowspan=\"4\" valign=\"top\">가평</th>\n",
       "      <th>2022-01-18 00:00</th>\n",
       "      <td>-14</td>\n",
       "      <td>0</td>\n",
       "      <td>맑음</td>\n",
       "      <td>14</td>\n",
       "    </tr>\n",
       "    <tr>\n",
       "      <th>2022-01-18 12:00</th>\n",
       "      <td>-14</td>\n",
       "      <td>0</td>\n",
       "      <td>맑음</td>\n",
       "      <td>14</td>\n",
       "    </tr>\n",
       "    <tr>\n",
       "      <th>2022-01-20 00:00</th>\n",
       "      <td>-13</td>\n",
       "      <td>1</td>\n",
       "      <td>맑음</td>\n",
       "      <td>14</td>\n",
       "    </tr>\n",
       "    <tr>\n",
       "      <th>2022-01-22 00:00</th>\n",
       "      <td>-12</td>\n",
       "      <td>2</td>\n",
       "      <td>구름많음</td>\n",
       "      <td>14</td>\n",
       "    </tr>\n",
       "  </tbody>\n",
       "</table>\n",
       "</div>"
      ],
      "text/plain": [
       "                            low_tem  max_tem weather  diurnal_temp\n",
       "city_name time                                                    \n",
       "포천        2022-01-18 00:00      -13        1      맑음            14\n",
       "          2022-01-18 12:00      -13        1      맑음            14\n",
       "가평        2022-01-18 00:00      -14        0      맑음            14\n",
       "          2022-01-18 12:00      -14        0      맑음            14\n",
       "          2022-01-20 00:00      -13        1      맑음            14\n",
       "          2022-01-22 00:00      -12        2    구름많음            14"
      ]
     },
     "execution_count": 27,
     "metadata": {},
     "output_type": "execute_result"
    }
   ],
   "source": [
    "df.nlargest(1, 'diurnal_temp', keep='all')"
   ]
  },
  {
   "cell_type": "markdown",
   "id": "66ce4b07",
   "metadata": {},
   "source": [
    "## arima prediction"
   ]
  },
  {
   "cell_type": "code",
   "execution_count": 19,
   "id": "a9ab9083",
   "metadata": {
    "ExecuteTime": {
     "end_time": "2022-01-11T10:39:47.397190Z",
     "start_time": "2022-01-11T10:39:46.829001Z"
    }
   },
   "outputs": [],
   "source": [
    "from statsmodels.graphics.tsaplots import plot_acf, acf\n",
    "from statsmodels.tsa.ar_model import AR\n",
    "from statsmodels.tsa.arima_model import ARIMA\n",
    "\n",
    "from statsmodels.tsa.stattools import adfuller\n",
    "import pandas as pd\n",
    "import matplotlib.pyplot as plt\n",
    "import numpy as np\n",
    "from warnings import filterwarnings\n",
    "filterwarnings(\"ignore\")"
   ]
  },
  {
   "cell_type": "code",
   "execution_count": 65,
   "id": "de972269",
   "metadata": {
    "ExecuteTime": {
     "end_time": "2022-01-11T10:48:10.636138Z",
     "start_time": "2022-01-11T10:48:10.625136Z"
    }
   },
   "outputs": [
    {
     "data": {
      "text/plain": [
       "DatetimeIndex(['2022-01-14 00:00:00', '2022-01-14 12:00:00',\n",
       "               '2022-01-15 00:00:00', '2022-01-15 12:00:00',\n",
       "               '2022-01-16 00:00:00', '2022-01-16 12:00:00',\n",
       "               '2022-01-17 00:00:00', '2022-01-17 12:00:00',\n",
       "               '2022-01-18 00:00:00', '2022-01-18 12:00:00',\n",
       "               '2022-01-19 00:00:00', '2022-01-20 00:00:00',\n",
       "               '2022-01-21 00:00:00'],\n",
       "              dtype='datetime64[ns]', name='time', freq=None)"
      ]
     },
     "execution_count": 65,
     "metadata": {},
     "output_type": "execute_result"
    }
   ],
   "source": [
    "seoul = df.loc['서울']\n",
    "seoul.index = pd.to_datetime(seoul.index)\n",
    "seoul.index"
   ]
  },
  {
   "cell_type": "code",
   "execution_count": 66,
   "id": "c0d4e3b5",
   "metadata": {
    "ExecuteTime": {
     "end_time": "2022-01-11T10:48:14.702858Z",
     "start_time": "2022-01-11T10:48:14.538828Z"
    },
    "scrolled": true
   },
   "outputs": [
    {
     "data": {
      "image/png": "[encoded data removed]",
      "text/plain": [
       "<Figure size 432x288 with 1 Axes>"
      ]
     },
     "execution_count": 66,
     "metadata": {},
     "output_type": "execute_result"
    },
    {
     "data": {
      "image/png": "[encoded data removed]",
      "text/plain": [
       "<Figure size 432x288 with 1 Axes>"
      ]
     },
     "metadata": {
      "needs_background": "light"
     },
     "output_type": "display_data"
    }
   ],
   "source": [
    "plot_acf(seoul['max_tem'])"
   ]
  },
  {
   "cell_type": "code",
   "execution_count": 67,
   "id": "cb971bf3",
   "metadata": {
    "ExecuteTime": {
     "end_time": "2022-01-11T10:48:18.605764Z",
     "start_time": "2022-01-11T10:48:18.592748Z"
    }
   },
   "outputs": [
    {
     "name": "stdout",
     "output_type": "stream",
     "text": [
      "-1.6944422239425094\n",
      "0.43397826137744033\n"
     ]
    }
   ],
   "source": [
    "result = adfuller(seoul['max_tem'])\n",
    "print(result[0]) # 적을 수록 귀무가설을 기각시킬 가능성이 큼.\n",
    "print(result[1]) # pvalue"
   ]
  },
  {
   "cell_type": "code",
   "execution_count": 68,
   "id": "91dc9ca3",
   "metadata": {
    "ExecuteTime": {
     "end_time": "2022-01-11T10:48:22.492493Z",
     "start_time": "2022-01-11T10:48:22.478499Z"
    }
   },
   "outputs": [],
   "source": [
    "def arima_aic_check(data, order,sort = 'AIC'):\n",
    "    order_list = []\n",
    "    aic_list = []\n",
    "    bic_lsit = []\n",
    "    for p in range(order[0]):\n",
    "        for d in range(order[1]):\n",
    "            for q in range(order[2]):\n",
    "                model = ARIMA(data, order=(p,d,q))\n",
    "                try:\n",
    "                    model_fit = model.fit()\n",
    "                    c_order = f'p:{p} d:{d} q:{q}'\n",
    "                    aic = model_fit.aic\n",
    "                    bic = model_fit.bic\n",
    "                    order_list.append(c_order)\n",
    "                    aic_list.append(aic)\n",
    "                    bic_list.append(bic)\n",
    "                except:\n",
    "                    pass\n",
    "    result_df = pd.DataFrame(list(zip(order_list, aic_list)),columns=['order','AIC'])\n",
    "    result_df.sort_values(sort, inplace=True)\n",
    "    return result_df"
   ]
  },
  {
   "cell_type": "code",
   "execution_count": 69,
   "id": "055976fc",
   "metadata": {
    "ExecuteTime": {
     "end_time": "2022-01-11T10:48:26.664017Z",
     "start_time": "2022-01-11T10:48:26.349693Z"
    }
   },
   "outputs": [
    {
     "data": {
      "text/html": [
       "<div>\n",
       "<style scoped>\n",
       "    .dataframe tbody tr th:only-of-type {\n",
       "        vertical-align: middle;\n",
       "    }\n",
       "\n",
       "    .dataframe tbody tr th {\n",
       "        vertical-align: top;\n",
       "    }\n",
       "\n",
       "    .dataframe thead th {\n",
       "        text-align: right;\n",
       "    }\n",
       "</style>\n",
       "<table border=\"1\" class=\"dataframe\">\n",
       "  <thead>\n",
       "    <tr style=\"text-align: right;\">\n",
       "      <th></th>\n",
       "      <th>order</th>\n",
       "      <th>AIC</th>\n",
       "    </tr>\n",
       "  </thead>\n",
       "  <tbody>\n",
       "    <tr>\n",
       "      <th>1</th>\n",
       "      <td>p:0 d:0 q:1</td>\n",
       "      <td>48.230771</td>\n",
       "    </tr>\n",
       "    <tr>\n",
       "      <th>5</th>\n",
       "      <td>p:0 d:1 q:2</td>\n",
       "      <td>48.509234</td>\n",
       "    </tr>\n",
       "    <tr>\n",
       "      <th>3</th>\n",
       "      <td>p:0 d:1 q:0</td>\n",
       "      <td>48.608663</td>\n",
       "    </tr>\n",
       "    <tr>\n",
       "      <th>13</th>\n",
       "      <td>p:2 d:1 q:0</td>\n",
       "      <td>50.095544</td>\n",
       "    </tr>\n",
       "    <tr>\n",
       "      <th>2</th>\n",
       "      <td>p:0 d:0 q:2</td>\n",
       "      <td>50.175285</td>\n",
       "    </tr>\n",
       "    <tr>\n",
       "      <th>7</th>\n",
       "      <td>p:0 d:2 q:1</td>\n",
       "      <td>50.182645</td>\n",
       "    </tr>\n",
       "    <tr>\n",
       "      <th>9</th>\n",
       "      <td>p:1 d:0 q:0</td>\n",
       "      <td>50.311033</td>\n",
       "    </tr>\n",
       "    <tr>\n",
       "      <th>4</th>\n",
       "      <td>p:0 d:1 q:1</td>\n",
       "      <td>50.606532</td>\n",
       "    </tr>\n",
       "    <tr>\n",
       "      <th>10</th>\n",
       "      <td>p:1 d:1 q:0</td>\n",
       "      <td>50.608184</td>\n",
       "    </tr>\n",
       "    <tr>\n",
       "      <th>12</th>\n",
       "      <td>p:2 d:0 q:0</td>\n",
       "      <td>51.320080</td>\n",
       "    </tr>\n",
       "    <tr>\n",
       "      <th>6</th>\n",
       "      <td>p:0 d:2 q:0</td>\n",
       "      <td>51.464599</td>\n",
       "    </tr>\n",
       "    <tr>\n",
       "      <th>8</th>\n",
       "      <td>p:0 d:2 q:2</td>\n",
       "      <td>51.577875</td>\n",
       "    </tr>\n",
       "    <tr>\n",
       "      <th>14</th>\n",
       "      <td>p:2 d:2 q:0</td>\n",
       "      <td>51.963376</td>\n",
       "    </tr>\n",
       "    <tr>\n",
       "      <th>0</th>\n",
       "      <td>p:0 d:0 q:0</td>\n",
       "      <td>52.157596</td>\n",
       "    </tr>\n",
       "    <tr>\n",
       "      <th>11</th>\n",
       "      <td>p:1 d:2 q:0</td>\n",
       "      <td>52.751086</td>\n",
       "    </tr>\n",
       "  </tbody>\n",
       "</table>\n",
       "</div>"
      ],
      "text/plain": [
       "          order        AIC\n",
       "1   p:0 d:0 q:1  48.230771\n",
       "5   p:0 d:1 q:2  48.509234\n",
       "3   p:0 d:1 q:0  48.608663\n",
       "13  p:2 d:1 q:0  50.095544\n",
       "2   p:0 d:0 q:2  50.175285\n",
       "7   p:0 d:2 q:1  50.182645\n",
       "9   p:1 d:0 q:0  50.311033\n",
       "4   p:0 d:1 q:1  50.606532\n",
       "10  p:1 d:1 q:0  50.608184\n",
       "12  p:2 d:0 q:0  51.320080\n",
       "6   p:0 d:2 q:0  51.464599\n",
       "8   p:0 d:2 q:2  51.577875\n",
       "14  p:2 d:2 q:0  51.963376\n",
       "0   p:0 d:0 q:0  52.157596\n",
       "11  p:1 d:2 q:0  52.751086"
      ]
     },
     "execution_count": 69,
     "metadata": {},
     "output_type": "execute_result"
    }
   ],
   "source": [
    "arima_aic_check(seoul['max_tem'], [3,3,3])"
   ]
  },
  {
   "cell_type": "code",
   "execution_count": 70,
   "id": "659b2bbf",
   "metadata": {
    "ExecuteTime": {
     "end_time": "2022-01-11T10:48:30.579953Z",
     "start_time": "2022-01-11T10:48:30.521925Z"
    }
   },
   "outputs": [
    {
     "data": {
      "text/html": [
       "<table class=\"simpletable\">\n",
       "<caption>ARIMA Model Results</caption>\n",
       "<tr>\n",
       "  <th>Dep. Variable:</th>     <td>D.max_tem</td>    <th>  No. Observations:  </th>   <td>12</td>   \n",
       "</tr>\n",
       "<tr>\n",
       "  <th>Model:</th>          <td>ARIMA(0, 1, 2)</td>  <th>  Log Likelihood     </th> <td>-20.255</td>\n",
       "</tr>\n",
       "<tr>\n",
       "  <th>Method:</th>             <td>css-mle</td>     <th>  S.D. of innovations</th>  <td>1.113</td> \n",
       "</tr>\n",
       "<tr>\n",
       "  <th>Date:</th>          <td>Tue, 11 Jan 2022</td> <th>  AIC                </th> <td>48.509</td> \n",
       "</tr>\n",
       "<tr>\n",
       "  <th>Time:</th>              <td>19:48:30</td>     <th>  BIC                </th> <td>50.449</td> \n",
       "</tr>\n",
       "<tr>\n",
       "  <th>Sample:</th>                <td>1</td>        <th>  HQIC               </th> <td>47.791</td> \n",
       "</tr>\n",
       "<tr>\n",
       "  <th></th>                       <td> </td>        <th>                     </th>    <td> </td>   \n",
       "</tr>\n",
       "</table>\n",
       "<table class=\"simpletable\">\n",
       "<tr>\n",
       "         <td></td>            <th>coef</th>     <th>std err</th>      <th>z</th>      <th>P>|z|</th>  <th>[0.025</th>    <th>0.975]</th>  \n",
       "</tr>\n",
       "<tr>\n",
       "  <th>const</th>           <td>   -0.1429</td> <td>    0.149</td> <td>   -0.961</td> <td> 0.337</td> <td>   -0.434</td> <td>    0.149</td>\n",
       "</tr>\n",
       "<tr>\n",
       "  <th>ma.L1.D.max_tem</th> <td> 1.505e-08</td> <td>      nan</td> <td>      nan</td> <td>   nan</td> <td>      nan</td> <td>      nan</td>\n",
       "</tr>\n",
       "<tr>\n",
       "  <th>ma.L2.D.max_tem</th> <td>   -1.0000</td> <td>      nan</td> <td>      nan</td> <td>   nan</td> <td>      nan</td> <td>      nan</td>\n",
       "</tr>\n",
       "</table>\n",
       "<table class=\"simpletable\">\n",
       "<caption>Roots</caption>\n",
       "<tr>\n",
       "    <td></td>   <th>            Real</th>  <th>         Imaginary</th> <th>         Modulus</th>  <th>        Frequency</th>\n",
       "</tr>\n",
       "<tr>\n",
       "  <th>MA.1</th> <td>          -1.0000</td> <td>          +0.0000j</td> <td>           1.0000</td> <td>           0.5000</td>\n",
       "</tr>\n",
       "<tr>\n",
       "  <th>MA.2</th> <td>           1.0000</td> <td>          +0.0000j</td> <td>           1.0000</td> <td>           0.0000</td>\n",
       "</tr>\n",
       "</table>"
      ],
      "text/plain": [
       "<class 'statsmodels.iolib.summary.Summary'>\n",
       "\"\"\"\n",
       "                             ARIMA Model Results                              \n",
       "==============================================================================\n",
       "Dep. Variable:              D.max_tem   No. Observations:                   12\n",
       "Model:                 ARIMA(0, 1, 2)   Log Likelihood                 -20.255\n",
       "Method:                       css-mle   S.D. of innovations              1.113\n",
       "Date:                Tue, 11 Jan 2022   AIC                             48.509\n",
       "Time:                        19:48:30   BIC                             50.449\n",
       "Sample:                             1   HQIC                            47.791\n",
       "                                                                              \n",
       "===================================================================================\n",
       "                      coef    std err          z      P>|z|      [0.025      0.975]\n",
       "-----------------------------------------------------------------------------------\n",
       "const              -0.1429      0.149     -0.961      0.337      -0.434       0.149\n",
       "ma.L1.D.max_tem  1.505e-08        nan        nan        nan         nan         nan\n",
       "ma.L2.D.max_tem    -1.0000        nan        nan        nan         nan         nan\n",
       "                                    Roots                                    \n",
       "=============================================================================\n",
       "                  Real          Imaginary           Modulus         Frequency\n",
       "-----------------------------------------------------------------------------\n",
       "MA.1           -1.0000           +0.0000j            1.0000            0.5000\n",
       "MA.2            1.0000           +0.0000j            1.0000            0.0000\n",
       "-----------------------------------------------------------------------------\n",
       "\"\"\""
      ]
     },
     "execution_count": 70,
     "metadata": {},
     "output_type": "execute_result"
    }
   ],
   "source": [
    "order = (0,1,2)\n",
    "model = ARIMA(seoul['max_tem'].astype('float32'), order)\n",
    "\n",
    "rfit = model.fit()\n",
    "rfit.summary()"
   ]
  },
  {
   "cell_type": "markdown",
   "id": "7d14250c",
   "metadata": {},
   "source": [
    "##  3가지 시도\n",
    "### 실패한 방법 1"
   ]
  },
  {
   "cell_type": "code",
   "execution_count": 72,
   "id": "e275ac1a",
   "metadata": {
    "ExecuteTime": {
     "end_time": "2022-01-11T10:52:35.378913Z",
     "start_time": "2022-01-11T10:52:35.322910Z"
    },
    "scrolled": false
   },
   "outputs": [
    {
     "ename": "KeyError",
     "evalue": "'only integers, slices (`:`), ellipsis (`...`), numpy.newaxis (`None`) and integer or boolean arrays are valid indices'",
     "output_type": "error",
     "traceback": [
      "\u001b[1;31m---------------------------------------------------------------------------\u001b[0m",
      "\u001b[1;31mKeyError\u001b[0m                                  Traceback (most recent call last)",
      "\u001b[1;32m~\\anaconda3\\lib\\site-packages\\pandas\\_libs\\index.pyx\u001b[0m in \u001b[0;36mpandas._libs.index.DatetimeEngine.get_loc\u001b[1;34m()\u001b[0m\n",
      "\u001b[1;32mpandas\\_libs\\hashtable_class_helper.pxi\u001b[0m in \u001b[0;36mpandas._libs.hashtable.Int64HashTable.get_item\u001b[1;34m()\u001b[0m\n",
      "\u001b[1;32mpandas\\_libs\\hashtable_class_helper.pxi\u001b[0m in \u001b[0;36mpandas._libs.hashtable.Int64HashTable.get_item\u001b[1;34m()\u001b[0m\n",
      "\u001b[1;31mKeyError\u001b[0m: 1642809600000000000",
      "\nDuring handling of the above exception, another exception occurred:\n",
      "\u001b[1;31mKeyError\u001b[0m                                  Traceback (most recent call last)",
      "\u001b[1;32m~\\anaconda3\\lib\\site-packages\\pandas\\core\\indexes\\base.py\u001b[0m in \u001b[0;36mget_loc\u001b[1;34m(self, key, method, tolerance)\u001b[0m\n\u001b[0;32m   3360\u001b[0m             \u001b[1;32mtry\u001b[0m\u001b[1;33m:\u001b[0m\u001b[1;33m\u001b[0m\u001b[1;33m\u001b[0m\u001b[0m\n\u001b[1;32m-> 3361\u001b[1;33m                 \u001b[1;32mreturn\u001b[0m \u001b[0mself\u001b[0m\u001b[1;33m.\u001b[0m\u001b[0m_engine\u001b[0m\u001b[1;33m.\u001b[0m\u001b[0mget_loc\u001b[0m\u001b[1;33m(\u001b[0m\u001b[0mcasted_key\u001b[0m\u001b[1;33m)\u001b[0m\u001b[1;33m\u001b[0m\u001b[1;33m\u001b[0m\u001b[0m\n\u001b[0m\u001b[0;32m   3362\u001b[0m             \u001b[1;32mexcept\u001b[0m \u001b[0mKeyError\u001b[0m \u001b[1;32mas\u001b[0m \u001b[0merr\u001b[0m\u001b[1;33m:\u001b[0m\u001b[1;33m\u001b[0m\u001b[1;33m\u001b[0m\u001b[0m\n",
      "\u001b[1;32m~\\anaconda3\\lib\\site-packages\\pandas\\_libs\\index.pyx\u001b[0m in \u001b[0;36mpandas._libs.index.DatetimeEngine.get_loc\u001b[1;34m()\u001b[0m\n",
      "\u001b[1;32m~\\anaconda3\\lib\\site-packages\\pandas\\_libs\\index.pyx\u001b[0m in \u001b[0;36mpandas._libs.index.DatetimeEngine.get_loc\u001b[1;34m()\u001b[0m\n",
      "\u001b[1;31mKeyError\u001b[0m: Timestamp('2022-01-22 00:00:00')",
      "\nThe above exception was the direct cause of the following exception:\n",
      "\u001b[1;31mKeyError\u001b[0m                                  Traceback (most recent call last)",
      "\u001b[1;32m~\\anaconda3\\lib\\site-packages\\pandas\\core\\indexes\\datetimes.py\u001b[0m in \u001b[0;36mget_loc\u001b[1;34m(self, key, method, tolerance)\u001b[0m\n\u001b[0;32m    702\u001b[0m         \u001b[1;32mtry\u001b[0m\u001b[1;33m:\u001b[0m\u001b[1;33m\u001b[0m\u001b[1;33m\u001b[0m\u001b[0m\n\u001b[1;32m--> 703\u001b[1;33m             \u001b[1;32mreturn\u001b[0m \u001b[0mIndex\u001b[0m\u001b[1;33m.\u001b[0m\u001b[0mget_loc\u001b[0m\u001b[1;33m(\u001b[0m\u001b[0mself\u001b[0m\u001b[1;33m,\u001b[0m \u001b[0mkey\u001b[0m\u001b[1;33m,\u001b[0m \u001b[0mmethod\u001b[0m\u001b[1;33m,\u001b[0m \u001b[0mtolerance\u001b[0m\u001b[1;33m)\u001b[0m\u001b[1;33m\u001b[0m\u001b[1;33m\u001b[0m\u001b[0m\n\u001b[0m\u001b[0;32m    704\u001b[0m         \u001b[1;32mexcept\u001b[0m \u001b[0mKeyError\u001b[0m \u001b[1;32mas\u001b[0m \u001b[0merr\u001b[0m\u001b[1;33m:\u001b[0m\u001b[1;33m\u001b[0m\u001b[1;33m\u001b[0m\u001b[0m\n",
      "\u001b[1;32m~\\anaconda3\\lib\\site-packages\\pandas\\core\\indexes\\base.py\u001b[0m in \u001b[0;36mget_loc\u001b[1;34m(self, key, method, tolerance)\u001b[0m\n\u001b[0;32m   3362\u001b[0m             \u001b[1;32mexcept\u001b[0m \u001b[0mKeyError\u001b[0m \u001b[1;32mas\u001b[0m \u001b[0merr\u001b[0m\u001b[1;33m:\u001b[0m\u001b[1;33m\u001b[0m\u001b[1;33m\u001b[0m\u001b[0m\n\u001b[1;32m-> 3363\u001b[1;33m                 \u001b[1;32mraise\u001b[0m \u001b[0mKeyError\u001b[0m\u001b[1;33m(\u001b[0m\u001b[0mkey\u001b[0m\u001b[1;33m)\u001b[0m \u001b[1;32mfrom\u001b[0m \u001b[0merr\u001b[0m\u001b[1;33m\u001b[0m\u001b[1;33m\u001b[0m\u001b[0m\n\u001b[0m\u001b[0;32m   3364\u001b[0m \u001b[1;33m\u001b[0m\u001b[0m\n",
      "\u001b[1;31mKeyError\u001b[0m: Timestamp('2022-01-22 00:00:00')",
      "\nThe above exception was the direct cause of the following exception:\n",
      "\u001b[1;31mKeyError\u001b[0m                                  Traceback (most recent call last)",
      "\u001b[1;32m~\\anaconda3\\lib\\site-packages\\statsmodels\\tsa\\base\\tsa_model.py\u001b[0m in \u001b[0;36mget_index_label_loc\u001b[1;34m(key, index, row_labels)\u001b[0m\n\u001b[0;32m    223\u001b[0m             \u001b[1;32mif\u001b[0m \u001b[1;32mnot\u001b[0m \u001b[0misinstance\u001b[0m\u001b[1;33m(\u001b[0m\u001b[0mkey\u001b[0m\u001b[1;33m,\u001b[0m \u001b[1;33m(\u001b[0m\u001b[0mint\u001b[0m\u001b[1;33m,\u001b[0m \u001b[0mnp\u001b[0m\u001b[1;33m.\u001b[0m\u001b[0minteger\u001b[0m\u001b[1;33m)\u001b[0m\u001b[1;33m)\u001b[0m\u001b[1;33m:\u001b[0m\u001b[1;33m\u001b[0m\u001b[1;33m\u001b[0m\u001b[0m\n\u001b[1;32m--> 224\u001b[1;33m                 \u001b[0mloc\u001b[0m \u001b[1;33m=\u001b[0m \u001b[0mrow_labels\u001b[0m\u001b[1;33m.\u001b[0m\u001b[0mget_loc\u001b[0m\u001b[1;33m(\u001b[0m\u001b[0mkey\u001b[0m\u001b[1;33m)\u001b[0m\u001b[1;33m\u001b[0m\u001b[1;33m\u001b[0m\u001b[0m\n\u001b[0m\u001b[0;32m    225\u001b[0m             \u001b[1;32melse\u001b[0m\u001b[1;33m:\u001b[0m\u001b[1;33m\u001b[0m\u001b[1;33m\u001b[0m\u001b[0m\n",
      "\u001b[1;32m~\\anaconda3\\lib\\site-packages\\pandas\\core\\indexes\\datetimes.py\u001b[0m in \u001b[0;36mget_loc\u001b[1;34m(self, key, method, tolerance)\u001b[0m\n\u001b[0;32m    704\u001b[0m         \u001b[1;32mexcept\u001b[0m \u001b[0mKeyError\u001b[0m \u001b[1;32mas\u001b[0m \u001b[0merr\u001b[0m\u001b[1;33m:\u001b[0m\u001b[1;33m\u001b[0m\u001b[1;33m\u001b[0m\u001b[0m\n\u001b[1;32m--> 705\u001b[1;33m             \u001b[1;32mraise\u001b[0m \u001b[0mKeyError\u001b[0m\u001b[1;33m(\u001b[0m\u001b[0morig_key\u001b[0m\u001b[1;33m)\u001b[0m \u001b[1;32mfrom\u001b[0m \u001b[0merr\u001b[0m\u001b[1;33m\u001b[0m\u001b[1;33m\u001b[0m\u001b[0m\n\u001b[0m\u001b[0;32m    706\u001b[0m \u001b[1;33m\u001b[0m\u001b[0m\n",
      "\u001b[1;31mKeyError\u001b[0m: '2022-01-22 00:00'",
      "\nDuring handling of the above exception, another exception occurred:\n",
      "\u001b[1;31mKeyError\u001b[0m                                  Traceback (most recent call last)",
      "\u001b[1;32m~\\AppData\\Local\\Temp/ipykernel_39160/2852600754.py\u001b[0m in \u001b[0;36m<module>\u001b[1;34m\u001b[0m\n\u001b[1;32m----> 1\u001b[1;33m \u001b[0mpreds\u001b[0m \u001b[1;33m=\u001b[0m \u001b[0mrfit\u001b[0m\u001b[1;33m.\u001b[0m\u001b[0mpredict\u001b[0m\u001b[1;33m(\u001b[0m\u001b[1;34m'2022-01-22 00:00'\u001b[0m\u001b[1;33m,\u001b[0m \u001b[1;34m'2022-01-28 00:00'\u001b[0m\u001b[1;33m,\u001b[0m \u001b[0mtyp\u001b[0m \u001b[1;33m=\u001b[0m \u001b[1;34m'levels'\u001b[0m\u001b[1;33m)\u001b[0m\u001b[1;33m\u001b[0m\u001b[1;33m\u001b[0m\u001b[0m\n\u001b[0m",
      "\u001b[1;32m~\\anaconda3\\lib\\site-packages\\statsmodels\\base\\wrapper.py\u001b[0m in \u001b[0;36mwrapper\u001b[1;34m(self, *args, **kwargs)\u001b[0m\n\u001b[0;32m    111\u001b[0m             \u001b[0mobj\u001b[0m \u001b[1;33m=\u001b[0m \u001b[0mdata\u001b[0m\u001b[1;33m.\u001b[0m\u001b[0mwrap_output\u001b[0m\u001b[1;33m(\u001b[0m\u001b[0mfunc\u001b[0m\u001b[1;33m(\u001b[0m\u001b[0mresults\u001b[0m\u001b[1;33m,\u001b[0m \u001b[1;33m*\u001b[0m\u001b[0margs\u001b[0m\u001b[1;33m,\u001b[0m \u001b[1;33m**\u001b[0m\u001b[0mkwargs\u001b[0m\u001b[1;33m)\u001b[0m\u001b[1;33m,\u001b[0m \u001b[0mhow\u001b[0m\u001b[1;33m[\u001b[0m\u001b[1;36m0\u001b[0m\u001b[1;33m]\u001b[0m\u001b[1;33m,\u001b[0m \u001b[0mhow\u001b[0m\u001b[1;33m[\u001b[0m\u001b[1;36m1\u001b[0m\u001b[1;33m:\u001b[0m\u001b[1;33m]\u001b[0m\u001b[1;33m)\u001b[0m\u001b[1;33m\u001b[0m\u001b[1;33m\u001b[0m\u001b[0m\n\u001b[0;32m    112\u001b[0m         \u001b[1;32melif\u001b[0m \u001b[0mhow\u001b[0m\u001b[1;33m:\u001b[0m\u001b[1;33m\u001b[0m\u001b[1;33m\u001b[0m\u001b[0m\n\u001b[1;32m--> 113\u001b[1;33m             \u001b[0mobj\u001b[0m \u001b[1;33m=\u001b[0m \u001b[0mdata\u001b[0m\u001b[1;33m.\u001b[0m\u001b[0mwrap_output\u001b[0m\u001b[1;33m(\u001b[0m\u001b[0mfunc\u001b[0m\u001b[1;33m(\u001b[0m\u001b[0mresults\u001b[0m\u001b[1;33m,\u001b[0m \u001b[1;33m*\u001b[0m\u001b[0margs\u001b[0m\u001b[1;33m,\u001b[0m \u001b[1;33m**\u001b[0m\u001b[0mkwargs\u001b[0m\u001b[1;33m)\u001b[0m\u001b[1;33m,\u001b[0m \u001b[0mhow\u001b[0m\u001b[1;33m)\u001b[0m\u001b[1;33m\u001b[0m\u001b[1;33m\u001b[0m\u001b[0m\n\u001b[0m\u001b[0;32m    114\u001b[0m         \u001b[1;32mreturn\u001b[0m \u001b[0mobj\u001b[0m\u001b[1;33m\u001b[0m\u001b[1;33m\u001b[0m\u001b[0m\n\u001b[0;32m    115\u001b[0m \u001b[1;33m\u001b[0m\u001b[0m\n",
      "\u001b[1;32m~\\anaconda3\\lib\\site-packages\\statsmodels\\tsa\\arima_model.py\u001b[0m in \u001b[0;36mpredict\u001b[1;34m(self, start, end, exog, typ, dynamic)\u001b[0m\n\u001b[0;32m   1888\u001b[0m     def predict(self, start=None, end=None, exog=None, typ='linear',\n\u001b[0;32m   1889\u001b[0m                 dynamic=False):\n\u001b[1;32m-> 1890\u001b[1;33m         \u001b[1;32mreturn\u001b[0m \u001b[0mself\u001b[0m\u001b[1;33m.\u001b[0m\u001b[0mmodel\u001b[0m\u001b[1;33m.\u001b[0m\u001b[0mpredict\u001b[0m\u001b[1;33m(\u001b[0m\u001b[0mself\u001b[0m\u001b[1;33m.\u001b[0m\u001b[0mparams\u001b[0m\u001b[1;33m,\u001b[0m \u001b[0mstart\u001b[0m\u001b[1;33m,\u001b[0m \u001b[0mend\u001b[0m\u001b[1;33m,\u001b[0m \u001b[0mexog\u001b[0m\u001b[1;33m,\u001b[0m \u001b[0mtyp\u001b[0m\u001b[1;33m,\u001b[0m \u001b[0mdynamic\u001b[0m\u001b[1;33m)\u001b[0m\u001b[1;33m\u001b[0m\u001b[1;33m\u001b[0m\u001b[0m\n\u001b[0m\u001b[0;32m   1891\u001b[0m \u001b[1;33m\u001b[0m\u001b[0m\n\u001b[0;32m   1892\u001b[0m     \u001b[1;32mdef\u001b[0m \u001b[0m_forecast_error\u001b[0m\u001b[1;33m(\u001b[0m\u001b[0mself\u001b[0m\u001b[1;33m,\u001b[0m \u001b[0msteps\u001b[0m\u001b[1;33m)\u001b[0m\u001b[1;33m:\u001b[0m\u001b[1;33m\u001b[0m\u001b[1;33m\u001b[0m\u001b[0m\n",
      "\u001b[1;32m~\\anaconda3\\lib\\site-packages\\statsmodels\\tsa\\arima_model.py\u001b[0m in \u001b[0;36mpredict\u001b[1;34m(self, params, start, end, exog, typ, dynamic)\u001b[0m\n\u001b[0;32m   1247\u001b[0m         \u001b[1;31m# go ahead and convert to an index for easier checking\u001b[0m\u001b[1;33m\u001b[0m\u001b[1;33m\u001b[0m\u001b[0m\n\u001b[0;32m   1248\u001b[0m         \u001b[1;32mif\u001b[0m \u001b[0misinstance\u001b[0m\u001b[1;33m(\u001b[0m\u001b[0mstart\u001b[0m\u001b[1;33m,\u001b[0m \u001b[1;33m(\u001b[0m\u001b[0mstr\u001b[0m\u001b[1;33m,\u001b[0m \u001b[0mdatetime\u001b[0m\u001b[1;33m)\u001b[0m\u001b[1;33m)\u001b[0m\u001b[1;33m:\u001b[0m\u001b[1;33m\u001b[0m\u001b[1;33m\u001b[0m\u001b[0m\n\u001b[1;32m-> 1249\u001b[1;33m             \u001b[0mstart\u001b[0m\u001b[1;33m,\u001b[0m \u001b[0m_\u001b[0m\u001b[1;33m,\u001b[0m \u001b[0m_\u001b[0m \u001b[1;33m=\u001b[0m \u001b[0mself\u001b[0m\u001b[1;33m.\u001b[0m\u001b[0m_get_index_label_loc\u001b[0m\u001b[1;33m(\u001b[0m\u001b[0mstart\u001b[0m\u001b[1;33m)\u001b[0m\u001b[1;33m\u001b[0m\u001b[1;33m\u001b[0m\u001b[0m\n\u001b[0m\u001b[0;32m   1250\u001b[0m             \u001b[1;32mif\u001b[0m \u001b[0misinstance\u001b[0m\u001b[1;33m(\u001b[0m\u001b[0mstart\u001b[0m\u001b[1;33m,\u001b[0m \u001b[0mslice\u001b[0m\u001b[1;33m)\u001b[0m\u001b[1;33m:\u001b[0m\u001b[1;33m\u001b[0m\u001b[1;33m\u001b[0m\u001b[0m\n\u001b[0;32m   1251\u001b[0m                 \u001b[0mstart\u001b[0m \u001b[1;33m=\u001b[0m \u001b[0mstart\u001b[0m\u001b[1;33m.\u001b[0m\u001b[0mstart\u001b[0m\u001b[1;33m\u001b[0m\u001b[1;33m\u001b[0m\u001b[0m\n",
      "\u001b[1;32m~\\anaconda3\\lib\\site-packages\\statsmodels\\tsa\\base\\tsa_model.py\u001b[0m in \u001b[0;36m_get_index_label_loc\u001b[1;34m(self, key, base_index)\u001b[0m\n\u001b[0;32m    677\u001b[0m         \u001b[1;32mif\u001b[0m \u001b[0mbase_index\u001b[0m \u001b[1;32mis\u001b[0m \u001b[1;32mNone\u001b[0m\u001b[1;33m:\u001b[0m\u001b[1;33m\u001b[0m\u001b[1;33m\u001b[0m\u001b[0m\n\u001b[0;32m    678\u001b[0m             \u001b[0mbase_index\u001b[0m \u001b[1;33m=\u001b[0m \u001b[0mself\u001b[0m\u001b[1;33m.\u001b[0m\u001b[0m_index\u001b[0m\u001b[1;33m\u001b[0m\u001b[1;33m\u001b[0m\u001b[0m\n\u001b[1;32m--> 679\u001b[1;33m         \u001b[1;32mreturn\u001b[0m \u001b[0mget_index_label_loc\u001b[0m\u001b[1;33m(\u001b[0m\u001b[0mkey\u001b[0m\u001b[1;33m,\u001b[0m \u001b[0mbase_index\u001b[0m\u001b[1;33m,\u001b[0m \u001b[0mself\u001b[0m\u001b[1;33m.\u001b[0m\u001b[0mdata\u001b[0m\u001b[1;33m.\u001b[0m\u001b[0mrow_labels\u001b[0m\u001b[1;33m)\u001b[0m\u001b[1;33m\u001b[0m\u001b[1;33m\u001b[0m\u001b[0m\n\u001b[0m\u001b[0;32m    680\u001b[0m \u001b[1;33m\u001b[0m\u001b[0m\n\u001b[0;32m    681\u001b[0m     \u001b[1;32mdef\u001b[0m \u001b[0m_get_prediction_index\u001b[0m\u001b[1;33m(\u001b[0m\u001b[0mself\u001b[0m\u001b[1;33m,\u001b[0m \u001b[0mstart\u001b[0m\u001b[1;33m,\u001b[0m \u001b[0mend\u001b[0m\u001b[1;33m,\u001b[0m \u001b[0mindex\u001b[0m\u001b[1;33m=\u001b[0m\u001b[1;32mNone\u001b[0m\u001b[1;33m,\u001b[0m \u001b[0msilent\u001b[0m\u001b[1;33m=\u001b[0m\u001b[1;32mFalse\u001b[0m\u001b[1;33m)\u001b[0m\u001b[1;33m:\u001b[0m\u001b[1;33m\u001b[0m\u001b[1;33m\u001b[0m\u001b[0m\n",
      "\u001b[1;32m~\\anaconda3\\lib\\site-packages\\statsmodels\\tsa\\base\\tsa_model.py\u001b[0m in \u001b[0;36mget_index_label_loc\u001b[1;34m(key, index, row_labels)\u001b[0m\n\u001b[0;32m    254\u001b[0m             \u001b[0mindex_was_expanded\u001b[0m \u001b[1;33m=\u001b[0m \u001b[1;32mFalse\u001b[0m\u001b[1;33m\u001b[0m\u001b[1;33m\u001b[0m\u001b[0m\n\u001b[0;32m    255\u001b[0m         \u001b[1;32mexcept\u001b[0m\u001b[1;33m:\u001b[0m\u001b[1;33m\u001b[0m\u001b[1;33m\u001b[0m\u001b[0m\n\u001b[1;32m--> 256\u001b[1;33m             \u001b[1;32mraise\u001b[0m \u001b[0me\u001b[0m\u001b[1;33m\u001b[0m\u001b[1;33m\u001b[0m\u001b[0m\n\u001b[0m\u001b[0;32m    257\u001b[0m     \u001b[1;32mreturn\u001b[0m \u001b[0mloc\u001b[0m\u001b[1;33m,\u001b[0m \u001b[0mindex\u001b[0m\u001b[1;33m,\u001b[0m \u001b[0mindex_was_expanded\u001b[0m\u001b[1;33m\u001b[0m\u001b[1;33m\u001b[0m\u001b[0m\n\u001b[0;32m    258\u001b[0m \u001b[1;33m\u001b[0m\u001b[0m\n",
      "\u001b[1;32m~\\anaconda3\\lib\\site-packages\\statsmodels\\tsa\\base\\tsa_model.py\u001b[0m in \u001b[0;36mget_index_label_loc\u001b[1;34m(key, index, row_labels)\u001b[0m\n\u001b[0;32m    218\u001b[0m     \"\"\"\n\u001b[0;32m    219\u001b[0m     \u001b[1;32mtry\u001b[0m\u001b[1;33m:\u001b[0m\u001b[1;33m\u001b[0m\u001b[1;33m\u001b[0m\u001b[0m\n\u001b[1;32m--> 220\u001b[1;33m         \u001b[0mloc\u001b[0m\u001b[1;33m,\u001b[0m \u001b[0mindex\u001b[0m\u001b[1;33m,\u001b[0m \u001b[0mindex_was_expanded\u001b[0m \u001b[1;33m=\u001b[0m \u001b[0mget_index_loc\u001b[0m\u001b[1;33m(\u001b[0m\u001b[0mkey\u001b[0m\u001b[1;33m,\u001b[0m \u001b[0mindex\u001b[0m\u001b[1;33m)\u001b[0m\u001b[1;33m\u001b[0m\u001b[1;33m\u001b[0m\u001b[0m\n\u001b[0m\u001b[0;32m    221\u001b[0m     \u001b[1;32mexcept\u001b[0m \u001b[0mKeyError\u001b[0m \u001b[1;32mas\u001b[0m \u001b[0me\u001b[0m\u001b[1;33m:\u001b[0m\u001b[1;33m\u001b[0m\u001b[1;33m\u001b[0m\u001b[0m\n\u001b[0;32m    222\u001b[0m         \u001b[1;32mtry\u001b[0m\u001b[1;33m:\u001b[0m\u001b[1;33m\u001b[0m\u001b[1;33m\u001b[0m\u001b[0m\n",
      "\u001b[1;32m~\\anaconda3\\lib\\site-packages\\statsmodels\\tsa\\base\\tsa_model.py\u001b[0m in \u001b[0;36mget_index_loc\u001b[1;34m(key, index)\u001b[0m\n\u001b[0;32m    168\u001b[0m         \u001b[1;31m#   (as of Pandas 0.22)\u001b[0m\u001b[1;33m\u001b[0m\u001b[1;33m\u001b[0m\u001b[0m\n\u001b[0;32m    169\u001b[0m         \u001b[1;32mexcept\u001b[0m \u001b[1;33m(\u001b[0m\u001b[0mIndexError\u001b[0m\u001b[1;33m,\u001b[0m \u001b[0mValueError\u001b[0m\u001b[1;33m)\u001b[0m \u001b[1;32mas\u001b[0m \u001b[0me\u001b[0m\u001b[1;33m:\u001b[0m\u001b[1;33m\u001b[0m\u001b[1;33m\u001b[0m\u001b[0m\n\u001b[1;32m--> 170\u001b[1;33m             \u001b[1;32mraise\u001b[0m \u001b[0mKeyError\u001b[0m\u001b[1;33m(\u001b[0m\u001b[0mstr\u001b[0m\u001b[1;33m(\u001b[0m\u001b[0me\u001b[0m\u001b[1;33m)\u001b[0m\u001b[1;33m)\u001b[0m\u001b[1;33m\u001b[0m\u001b[1;33m\u001b[0m\u001b[0m\n\u001b[0m\u001b[0;32m    171\u001b[0m         \u001b[0mloc\u001b[0m \u001b[1;33m=\u001b[0m \u001b[0mkey\u001b[0m\u001b[1;33m\u001b[0m\u001b[1;33m\u001b[0m\u001b[0m\n\u001b[0;32m    172\u001b[0m     \u001b[1;32melse\u001b[0m\u001b[1;33m:\u001b[0m\u001b[1;33m\u001b[0m\u001b[1;33m\u001b[0m\u001b[0m\n",
      "\u001b[1;31mKeyError\u001b[0m: 'only integers, slices (`:`), ellipsis (`...`), numpy.newaxis (`None`) and integer or boolean arrays are valid indices'"
     ]
    }
   ],
   "source": [
    "preds = rfit.predict('2022-01-22 00:00', '2022-01-28 00:00', typ = 'levels', )"
   ]
  },
  {
   "cell_type": "markdown",
   "id": "f3c2af3a",
   "metadata": {},
   "source": [
    "### 시도2\n",
    "- 12:00으로 되어있는 시간이 혼선을 주는 것 같아서, 없앰.\n",
    "- 또한 실질적으로 12:00과 00:00 데이터가 동일함."
   ]
  },
  {
   "cell_type": "code",
   "execution_count": 74,
   "id": "b9b81499",
   "metadata": {
    "ExecuteTime": {
     "end_time": "2022-01-11T10:53:36.158713Z",
     "start_time": "2022-01-11T10:53:36.145703Z"
    }
   },
   "outputs": [],
   "source": [
    "seoul.index = seoul.index.to_period('d')"
   ]
  },
  {
   "cell_type": "code",
   "execution_count": 49,
   "id": "534070a7",
   "metadata": {
    "ExecuteTime": {
     "end_time": "2022-01-11T10:44:01.099151Z",
     "start_time": "2022-01-11T10:44:01.082146Z"
    }
   },
   "outputs": [],
   "source": [
    "index = seoul.index"
   ]
  },
  {
   "cell_type": "code",
   "execution_count": 51,
   "id": "1579fb12",
   "metadata": {
    "ExecuteTime": {
     "end_time": "2022-01-11T10:44:09.785717Z",
     "start_time": "2022-01-11T10:44:09.769715Z"
    }
   },
   "outputs": [],
   "source": [
    "new = seoul[~index.duplicated(keep='first')]"
   ]
  },
  {
   "cell_type": "code",
   "execution_count": 53,
   "id": "bc8d3385",
   "metadata": {
    "ExecuteTime": {
     "end_time": "2022-01-11T10:44:31.736925Z",
     "start_time": "2022-01-11T10:44:31.720909Z"
    }
   },
   "outputs": [
    {
     "data": {
      "text/html": [
       "<div>\n",
       "<style scoped>\n",
       "    .dataframe tbody tr th:only-of-type {\n",
       "        vertical-align: middle;\n",
       "    }\n",
       "\n",
       "    .dataframe tbody tr th {\n",
       "        vertical-align: top;\n",
       "    }\n",
       "\n",
       "    .dataframe thead th {\n",
       "        text-align: right;\n",
       "    }\n",
       "</style>\n",
       "<table border=\"1\" class=\"dataframe\">\n",
       "  <thead>\n",
       "    <tr style=\"text-align: right;\">\n",
       "      <th></th>\n",
       "      <th>low_tem</th>\n",
       "      <th>max_tem</th>\n",
       "      <th>weather</th>\n",
       "      <th>diurnal_temp</th>\n",
       "    </tr>\n",
       "    <tr>\n",
       "      <th>time</th>\n",
       "      <th></th>\n",
       "      <th></th>\n",
       "      <th></th>\n",
       "      <th></th>\n",
       "    </tr>\n",
       "  </thead>\n",
       "  <tbody>\n",
       "    <tr>\n",
       "      <th>2022-01-14</th>\n",
       "      <td>-11</td>\n",
       "      <td>1</td>\n",
       "      <td>맑음</td>\n",
       "      <td>12</td>\n",
       "    </tr>\n",
       "    <tr>\n",
       "      <th>2022-01-15</th>\n",
       "      <td>-5</td>\n",
       "      <td>4</td>\n",
       "      <td>구름많음</td>\n",
       "      <td>9</td>\n",
       "    </tr>\n",
       "    <tr>\n",
       "      <th>2022-01-16</th>\n",
       "      <td>-3</td>\n",
       "      <td>1</td>\n",
       "      <td>구름많고 비/눈</td>\n",
       "      <td>4</td>\n",
       "    </tr>\n",
       "    <tr>\n",
       "      <th>2022-01-17</th>\n",
       "      <td>-8</td>\n",
       "      <td>0</td>\n",
       "      <td>맑음</td>\n",
       "      <td>8</td>\n",
       "    </tr>\n",
       "    <tr>\n",
       "      <th>2022-01-18</th>\n",
       "      <td>-7</td>\n",
       "      <td>0</td>\n",
       "      <td>맑음</td>\n",
       "      <td>7</td>\n",
       "    </tr>\n",
       "    <tr>\n",
       "      <th>2022-01-19</th>\n",
       "      <td>-7</td>\n",
       "      <td>-1</td>\n",
       "      <td>맑음</td>\n",
       "      <td>6</td>\n",
       "    </tr>\n",
       "    <tr>\n",
       "      <th>2022-01-20</th>\n",
       "      <td>-9</td>\n",
       "      <td>-1</td>\n",
       "      <td>맑음</td>\n",
       "      <td>8</td>\n",
       "    </tr>\n",
       "    <tr>\n",
       "      <th>2022-01-21</th>\n",
       "      <td>-6</td>\n",
       "      <td>2</td>\n",
       "      <td>맑음</td>\n",
       "      <td>8</td>\n",
       "    </tr>\n",
       "  </tbody>\n",
       "</table>\n",
       "</div>"
      ],
      "text/plain": [
       "            low_tem  max_tem   weather  diurnal_temp\n",
       "time                                                \n",
       "2022-01-14      -11        1        맑음            12\n",
       "2022-01-15       -5        4      구름많음             9\n",
       "2022-01-16       -3        1  구름많고 비/눈             4\n",
       "2022-01-17       -8        0        맑음             8\n",
       "2022-01-18       -7        0        맑음             7\n",
       "2022-01-19       -7       -1        맑음             6\n",
       "2022-01-20       -9       -1        맑음             8\n",
       "2022-01-21       -6        2        맑음             8"
      ]
     },
     "execution_count": 53,
     "metadata": {},
     "output_type": "execute_result"
    }
   ],
   "source": [
    "# new는 12:00를 제외한 데이터\n",
    "new"
   ]
  },
  {
   "cell_type": "code",
   "execution_count": 78,
   "id": "98497992",
   "metadata": {
    "ExecuteTime": {
     "end_time": "2022-01-11T10:55:52.326727Z",
     "start_time": "2022-01-11T10:55:52.308724Z"
    }
   },
   "outputs": [
    {
     "name": "stdout",
     "output_type": "stream",
     "text": [
      "-1.6781728517429393\n",
      "0.44239210939672546\n"
     ]
    }
   ],
   "source": [
    "result = adfuller(new['max_tem'])\n",
    "print(result[0]) # 적을 수록 귀무가설을 기각시킬 가능성이 큼.\n",
    "print(result[1]) # pvalue"
   ]
  },
  {
   "cell_type": "code",
   "execution_count": 79,
   "id": "27e0c980",
   "metadata": {
    "ExecuteTime": {
     "end_time": "2022-01-11T10:55:56.409168Z",
     "start_time": "2022-01-11T10:55:56.245133Z"
    }
   },
   "outputs": [
    {
     "data": {
      "image/png": "[encoded data removed]",
      "text/plain": [
       "<Figure size 432x288 with 1 Axes>"
      ]
     },
     "execution_count": 79,
     "metadata": {},
     "output_type": "execute_result"
    },
    {
     "data": {
      "image/png": "[encoded data removed]",
      "text/plain": [
       "<Figure size 432x288 with 1 Axes>"
      ]
     },
     "metadata": {
      "needs_background": "light"
     },
     "output_type": "display_data"
    }
   ],
   "source": [
    "plot_acf(new['max_tem'])"
   ]
  },
  {
   "cell_type": "code",
   "execution_count": 80,
   "id": "1ced116f",
   "metadata": {
    "ExecuteTime": {
     "end_time": "2022-01-11T10:56:00.673380Z",
     "start_time": "2022-01-11T10:56:00.252557Z"
    }
   },
   "outputs": [
    {
     "data": {
      "text/html": [
       "<div>\n",
       "<style scoped>\n",
       "    .dataframe tbody tr th:only-of-type {\n",
       "        vertical-align: middle;\n",
       "    }\n",
       "\n",
       "    .dataframe tbody tr th {\n",
       "        vertical-align: top;\n",
       "    }\n",
       "\n",
       "    .dataframe thead th {\n",
       "        text-align: right;\n",
       "    }\n",
       "</style>\n",
       "<table border=\"1\" class=\"dataframe\">\n",
       "  <thead>\n",
       "    <tr style=\"text-align: right;\">\n",
       "      <th></th>\n",
       "      <th>order</th>\n",
       "      <th>AIC</th>\n",
       "    </tr>\n",
       "  </thead>\n",
       "  <tbody>\n",
       "    <tr>\n",
       "      <th>4</th>\n",
       "      <td>p:0 d:1 q:1</td>\n",
       "      <td>33.762511</td>\n",
       "    </tr>\n",
       "    <tr>\n",
       "      <th>3</th>\n",
       "      <td>p:0 d:1 q:0</td>\n",
       "      <td>33.780271</td>\n",
       "    </tr>\n",
       "    <tr>\n",
       "      <th>0</th>\n",
       "      <td>p:0 d:0 q:0</td>\n",
       "      <td>33.830800</td>\n",
       "    </tr>\n",
       "    <tr>\n",
       "      <th>6</th>\n",
       "      <td>p:0 d:2 q:0</td>\n",
       "      <td>33.984168</td>\n",
       "    </tr>\n",
       "    <tr>\n",
       "      <th>7</th>\n",
       "      <td>p:0 d:2 q:1</td>\n",
       "      <td>34.123296</td>\n",
       "    </tr>\n",
       "    <tr>\n",
       "      <th>9</th>\n",
       "      <td>p:1 d:1 q:0</td>\n",
       "      <td>35.163416</td>\n",
       "    </tr>\n",
       "    <tr>\n",
       "      <th>1</th>\n",
       "      <td>p:0 d:0 q:1</td>\n",
       "      <td>35.274118</td>\n",
       "    </tr>\n",
       "    <tr>\n",
       "      <th>10</th>\n",
       "      <td>p:1 d:2 q:0</td>\n",
       "      <td>35.300579</td>\n",
       "    </tr>\n",
       "    <tr>\n",
       "      <th>8</th>\n",
       "      <td>p:1 d:0 q:0</td>\n",
       "      <td>35.462482</td>\n",
       "    </tr>\n",
       "    <tr>\n",
       "      <th>13</th>\n",
       "      <td>p:2 d:2 q:0</td>\n",
       "      <td>35.474911</td>\n",
       "    </tr>\n",
       "    <tr>\n",
       "      <th>5</th>\n",
       "      <td>p:0 d:1 q:2</td>\n",
       "      <td>35.756771</td>\n",
       "    </tr>\n",
       "    <tr>\n",
       "      <th>2</th>\n",
       "      <td>p:0 d:0 q:2</td>\n",
       "      <td>36.020806</td>\n",
       "    </tr>\n",
       "    <tr>\n",
       "      <th>12</th>\n",
       "      <td>p:2 d:1 q:0</td>\n",
       "      <td>36.437581</td>\n",
       "    </tr>\n",
       "    <tr>\n",
       "      <th>11</th>\n",
       "      <td>p:2 d:0 q:0</td>\n",
       "      <td>36.681310</td>\n",
       "    </tr>\n",
       "  </tbody>\n",
       "</table>\n",
       "</div>"
      ],
      "text/plain": [
       "          order        AIC\n",
       "4   p:0 d:1 q:1  33.762511\n",
       "3   p:0 d:1 q:0  33.780271\n",
       "0   p:0 d:0 q:0  33.830800\n",
       "6   p:0 d:2 q:0  33.984168\n",
       "7   p:0 d:2 q:1  34.123296\n",
       "9   p:1 d:1 q:0  35.163416\n",
       "1   p:0 d:0 q:1  35.274118\n",
       "10  p:1 d:2 q:0  35.300579\n",
       "8   p:1 d:0 q:0  35.462482\n",
       "13  p:2 d:2 q:0  35.474911\n",
       "5   p:0 d:1 q:2  35.756771\n",
       "2   p:0 d:0 q:2  36.020806\n",
       "12  p:2 d:1 q:0  36.437581\n",
       "11  p:2 d:0 q:0  36.681310"
      ]
     },
     "execution_count": 80,
     "metadata": {},
     "output_type": "execute_result"
    }
   ],
   "source": [
    "arima_aic_check(new['max_tem'], [3,3,3])"
   ]
  },
  {
   "cell_type": "code",
   "execution_count": 81,
   "id": "459dfb3e",
   "metadata": {
    "ExecuteTime": {
     "end_time": "2022-01-11T10:56:04.559198Z",
     "start_time": "2022-01-11T10:56:04.530180Z"
    }
   },
   "outputs": [
    {
     "data": {
      "text/html": [
       "<table class=\"simpletable\">\n",
       "<caption>ARIMA Model Results</caption>\n",
       "<tr>\n",
       "  <th>Dep. Variable:</th>     <td>D.max_tem</td>    <th>  No. Observations:  </th>   <td>12</td>   \n",
       "</tr>\n",
       "<tr>\n",
       "  <th>Model:</th>          <td>ARIMA(0, 1, 1)</td>  <th>  Log Likelihood     </th> <td>-22.303</td>\n",
       "</tr>\n",
       "<tr>\n",
       "  <th>Method:</th>             <td>css-mle</td>     <th>  S.D. of innovations</th>  <td>1.552</td> \n",
       "</tr>\n",
       "<tr>\n",
       "  <th>Date:</th>          <td>Tue, 11 Jan 2022</td> <th>  AIC                </th> <td>50.607</td> \n",
       "</tr>\n",
       "<tr>\n",
       "  <th>Time:</th>              <td>19:56:04</td>     <th>  BIC                </th> <td>52.061</td> \n",
       "</tr>\n",
       "<tr>\n",
       "  <th>Sample:</th>           <td>01-14-2022</td>    <th>  HQIC               </th> <td>50.068</td> \n",
       "</tr>\n",
       "<tr>\n",
       "  <th></th>                 <td>- 01-21-2022</td>   <th>                     </th>    <td> </td>   \n",
       "</tr>\n",
       "</table>\n",
       "<table class=\"simpletable\">\n",
       "<tr>\n",
       "         <td></td>            <th>coef</th>     <th>std err</th>      <th>z</th>      <th>P>|z|</th>  <th>[0.025</th>    <th>0.975]</th>  \n",
       "</tr>\n",
       "<tr>\n",
       "  <th>const</th>           <td>    0.0906</td> <td>    0.486</td> <td>    0.187</td> <td> 0.852</td> <td>   -0.861</td> <td>    1.042</td>\n",
       "</tr>\n",
       "<tr>\n",
       "  <th>ma.L1.D.max_tem</th> <td>    0.0321</td> <td>    0.695</td> <td>    0.046</td> <td> 0.963</td> <td>   -1.330</td> <td>    1.394</td>\n",
       "</tr>\n",
       "</table>\n",
       "<table class=\"simpletable\">\n",
       "<caption>Roots</caption>\n",
       "<tr>\n",
       "    <td></td>   <th>            Real</th>  <th>         Imaginary</th> <th>         Modulus</th>  <th>        Frequency</th>\n",
       "</tr>\n",
       "<tr>\n",
       "  <th>MA.1</th> <td>         -31.1552</td> <td>          +0.0000j</td> <td>          31.1552</td> <td>           0.5000</td>\n",
       "</tr>\n",
       "</table>"
      ],
      "text/plain": [
       "<class 'statsmodels.iolib.summary.Summary'>\n",
       "\"\"\"\n",
       "                             ARIMA Model Results                              \n",
       "==============================================================================\n",
       "Dep. Variable:              D.max_tem   No. Observations:                   12\n",
       "Model:                 ARIMA(0, 1, 1)   Log Likelihood                 -22.303\n",
       "Method:                       css-mle   S.D. of innovations              1.552\n",
       "Date:                Tue, 11 Jan 2022   AIC                             50.607\n",
       "Time:                        19:56:04   BIC                             52.061\n",
       "Sample:                    01-14-2022   HQIC                            50.068\n",
       "                         - 01-21-2022                                         \n",
       "===================================================================================\n",
       "                      coef    std err          z      P>|z|      [0.025      0.975]\n",
       "-----------------------------------------------------------------------------------\n",
       "const               0.0906      0.486      0.187      0.852      -0.861       1.042\n",
       "ma.L1.D.max_tem     0.0321      0.695      0.046      0.963      -1.330       1.394\n",
       "                                    Roots                                    \n",
       "=============================================================================\n",
       "                  Real          Imaginary           Modulus         Frequency\n",
       "-----------------------------------------------------------------------------\n",
       "MA.1          -31.1552           +0.0000j           31.1552            0.5000\n",
       "-----------------------------------------------------------------------------\n",
       "\"\"\""
      ]
     },
     "execution_count": 81,
     "metadata": {},
     "output_type": "execute_result"
    }
   ],
   "source": [
    "order = (0,1,1)\n",
    "model = ARIMA(seoul['max_tem'], order)\n",
    "\n",
    "rfit = model.fit()\n",
    "rfit.summary()"
   ]
  },
  {
   "cell_type": "code",
   "execution_count": 84,
   "id": "2e2060d9",
   "metadata": {
    "ExecuteTime": {
     "end_time": "2022-01-11T10:56:16.216748Z",
     "start_time": "2022-01-11T10:56:16.203746Z"
    }
   },
   "outputs": [],
   "source": [
    "preds = rfit.predict('2022-01-22', '2022-01-28', typ = 'levels')"
   ]
  },
  {
   "cell_type": "code",
   "execution_count": 85,
   "id": "4481071d",
   "metadata": {
    "ExecuteTime": {
     "end_time": "2022-01-11T10:56:20.118510Z",
     "start_time": "2022-01-11T10:56:20.105501Z"
    },
    "scrolled": true
   },
   "outputs": [
    {
     "data": {
      "text/plain": [
       "2022-01-21    0.088843\n",
       "2022-01-22    0.087776\n",
       "2022-01-23    0.087810\n",
       "2022-01-24   -0.944288\n",
       "2022-01-25   -0.911160\n",
       "2022-01-26    2.184068\n",
       "2022-01-27    2.274696\n",
       "2022-01-28    2.365324\n",
       "Freq: D, dtype: float64"
      ]
     },
     "execution_count": 85,
     "metadata": {},
     "output_type": "execute_result"
    }
   ],
   "source": [
    "preds "
   ]
  },
  {
   "cell_type": "markdown",
   "id": "f2b22e27",
   "metadata": {},
   "source": [
    "### 3번째 시도(by 동환)"
   ]
  },
  {
   "cell_type": "code",
   "execution_count": 103,
   "id": "a6e674e0",
   "metadata": {
    "ExecuteTime": {
     "end_time": "2022-01-11T11:04:59.177431Z",
     "start_time": "2022-01-11T11:04:59.169429Z"
    }
   },
   "outputs": [
    {
     "data": {
      "text/plain": [
       "2022-01-21    0.088843\n",
       "2022-01-22    0.087776\n",
       "2022-01-23    0.087810\n",
       "2022-01-24   -0.944288\n",
       "2022-01-25   -0.911160\n",
       "2022-01-26    2.184068\n",
       "2022-01-27    2.274696\n",
       "2022-01-28    2.365324\n",
       "2022-01-29    2.455952\n",
       "2022-01-30    2.546580\n",
       "2022-01-31    2.637208\n",
       "2022-02-01    2.727836\n",
       "Freq: D, dtype: float64"
      ]
     },
     "execution_count": 103,
     "metadata": {},
     "output_type": "execute_result"
    }
   ],
   "source": [
    "rfit.predict(8,19 , typ='levels')"
   ]
  }
 ],
 "metadata": {
  "hide_input": false,
  "kernelspec": {
   "display_name": "Python 3",
   "language": "python",
   "name": "python3"
  },
  "language_info": {
   "codemirror_mode": {
    "name": "ipython",
    "version": 3
   },
   "file_extension": ".py",
   "mimetype": "text/x-python",
   "name": "python",
   "nbconvert_exporter": "python",
   "pygments_lexer": "ipython3",
   "version": "3.8.8"
  },
  "toc": {
   "base_numbering": 1,
   "nav_menu": {},
   "number_sections": true,
   "sideBar": true,
   "skip_h1_title": false,
   "title_cell": "Table of Contents",
   "title_sidebar": "Contents",
   "toc_cell": false,
   "toc_position": {},
   "toc_section_display": true,
   "toc_window_display": true
  },
  "varInspector": {
   "cols": {
    "lenName": 16,
    "lenType": 16,
    "lenVar": 40
   },
   "kernels_config": {
    "python": {
     "delete_cmd_postfix": "",
     "delete_cmd_prefix": "del ",
     "library": "var_list.py",
     "varRefreshCmd": "print(var_dic_list())"
    },
    "r": {
     "delete_cmd_postfix": ") ",
     "delete_cmd_prefix": "rm(",
     "library": "var_list.r",
     "varRefreshCmd": "cat(var_dic_list()) "
    }
   },
   "types_to_exclude": [
    "module",
    "function",
    "builtin_function_or_method",
    "instance",
    "_Feature"
   ],
   "window_display": false
  }
 },
 "nbformat": 4,
 "nbformat_minor": 5
}
