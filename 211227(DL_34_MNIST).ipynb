{
 "cells": [
  {
   "cell_type": "code",
   "execution_count": 14,
   "id": "a76e0ffd",
   "metadata": {},
   "outputs": [],
   "source": [
    "import tensorflow as tf\n",
    "import numpy as np\n",
    "import pandas as pd\n",
    "import matplotlib.pyplot as plt\n",
    "plt.style.use('ggplot')\n",
    "from tensorflow.keras.optimizers import Adam\n",
    "from tensorflow.keras import Sequential\n",
    "from tensorflow.keras.layers import Dense\n",
    "from tensorflow.keras.datasets.mnist import load_data\n",
    "from tensorflow.keras.utils import to_categorical"
   ]
  },
  {
   "cell_type": "code",
   "execution_count": 2,
   "id": "39a529bd",
   "metadata": {},
   "outputs": [
    {
     "name": "stdout",
     "output_type": "stream",
     "text": [
      "Downloading data from https://storage.googleapis.com/tensorflow/tf-keras-datasets/mnist.npz\n",
      "11493376/11490434 [==============================] - 10s 1us/step\n",
      "11501568/11490434 [==============================] - 10s 1us/step\n"
     ]
    }
   ],
   "source": [
    "mnistData = load_data()"
   ]
  },
  {
   "cell_type": "code",
   "execution_count": 4,
   "id": "69c2a213",
   "metadata": {},
   "outputs": [],
   "source": [
    "(x_train, y_train), (x_test, y_test) = mnistData #( (x_train, y_train), (x_test, y_test) )"
   ]
  },
  {
   "cell_type": "code",
   "execution_count": 5,
   "id": "c038577b",
   "metadata": {},
   "outputs": [
    {
     "data": {
      "text/plain": [
       "(60000, 28, 28)"
      ]
     },
     "execution_count": 5,
     "metadata": {},
     "output_type": "execute_result"
    }
   ],
   "source": [
    "x_train.shape"
   ]
  },
  {
   "cell_type": "code",
   "execution_count": 6,
   "id": "3d13029b",
   "metadata": {},
   "outputs": [
    {
     "data": {
      "text/plain": [
       "(60000,)"
      ]
     },
     "execution_count": 6,
     "metadata": {},
     "output_type": "execute_result"
    }
   ],
   "source": [
    "y_train.shape"
   ]
  },
  {
   "cell_type": "code",
   "execution_count": 7,
   "id": "51a41d8d",
   "metadata": {},
   "outputs": [
    {
     "data": {
      "text/plain": [
       "(10000, 28, 28)"
      ]
     },
     "execution_count": 7,
     "metadata": {},
     "output_type": "execute_result"
    }
   ],
   "source": [
    "x_test.shape"
   ]
  },
  {
   "cell_type": "code",
   "execution_count": 8,
   "id": "80989fd4",
   "metadata": {},
   "outputs": [
    {
     "data": {
      "text/plain": [
       "(10000,)"
      ]
     },
     "execution_count": 8,
     "metadata": {},
     "output_type": "execute_result"
    }
   ],
   "source": [
    "y_test.shape"
   ]
  },
  {
   "cell_type": "code",
   "execution_count": 11,
   "id": "fe2646f7",
   "metadata": {
    "scrolled": true
   },
   "outputs": [
    {
     "data": {
      "image/png": "[encoded data removed]",
      "text/plain": [
       "<Figure size 432x288 with 1 Axes>"
      ]
     },
     "metadata": {},
     "output_type": "display_data"
    }
   ],
   "source": [
    "plt.imshow(x_train[0]) #면, 행, 열\n",
    "plt.show()"
   ]
  },
  {
   "cell_type": "code",
   "execution_count": 12,
   "id": "a71038ac",
   "metadata": {},
   "outputs": [
    {
     "data": {
      "text/plain": [
       "5"
      ]
     },
     "execution_count": 12,
     "metadata": {},
     "output_type": "execute_result"
    }
   ],
   "source": [
    "y_train[0]"
   ]
  },
  {
   "cell_type": "code",
   "execution_count": 13,
   "id": "55b2a20a",
   "metadata": {},
   "outputs": [
    {
     "data": {
      "text/plain": [
       "array([5, 0, 4, ..., 5, 6, 8], dtype=uint8)"
      ]
     },
     "execution_count": 13,
     "metadata": {},
     "output_type": "execute_result"
    }
   ],
   "source": [
    "y_train"
   ]
  },
  {
   "cell_type": "code",
   "execution_count": 15,
   "id": "540295fb",
   "metadata": {},
   "outputs": [
    {
     "data": {
      "text/plain": [
       "array([[0., 0., 0., ..., 0., 0., 0.],\n",
       "       [1., 0., 0., ..., 0., 0., 0.],\n",
       "       [0., 0., 0., ..., 0., 0., 0.],\n",
       "       ...,\n",
       "       [0., 0., 0., ..., 0., 0., 0.],\n",
       "       [0., 0., 0., ..., 0., 0., 0.],\n",
       "       [0., 0., 0., ..., 0., 1., 0.]], dtype=float32)"
      ]
     },
     "execution_count": 15,
     "metadata": {},
     "output_type": "execute_result"
    }
   ],
   "source": [
    "y_trainOne = to_categorical(y_train)\n",
    "y_trainOne"
   ]
  },
  {
   "cell_type": "code",
   "execution_count": 16,
   "id": "91feffa2",
   "metadata": {},
   "outputs": [
    {
     "data": {
      "text/plain": [
       "(60000, 784)"
      ]
     },
     "execution_count": 16,
     "metadata": {},
     "output_type": "execute_result"
    }
   ],
   "source": [
    "x_trainM = x_train.reshape(60000, 28*28)\n",
    "# x_train.reshape(-1, 28*28)\n",
    "x_trainM.shape"
   ]
  },
  {
   "cell_type": "code",
   "execution_count": 18,
   "id": "d570665f",
   "metadata": {},
   "outputs": [
    {
     "name": "stdout",
     "output_type": "stream",
     "text": [
      "Epoch 1/10\n",
      "1875/1875 [==============================] - 2s 768us/step - loss: 1.7662 - acc: 0.7698\n",
      "Epoch 2/10\n",
      "1875/1875 [==============================] - 1s 746us/step - loss: 0.3670 - acc: 0.9040\n",
      "Epoch 3/10\n",
      "1875/1875 [==============================] - 1s 745us/step - loss: 0.2449 - acc: 0.9327\n",
      "Epoch 4/10\n",
      "1875/1875 [==============================] - 1s 749us/step - loss: 0.1905 - acc: 0.9455\n",
      "Epoch 5/10\n",
      "1875/1875 [==============================] - 1s 775us/step - loss: 0.1540 - acc: 0.9570\n",
      "Epoch 6/10\n",
      "1875/1875 [==============================] - 1s 747us/step - loss: 0.1374 - acc: 0.9608\n",
      "Epoch 7/10\n",
      "1875/1875 [==============================] - 1s 745us/step - loss: 0.1234 - acc: 0.9654\n",
      "Epoch 8/10\n",
      "1875/1875 [==============================] - 1s 762us/step - loss: 0.1081 - acc: 0.9693\n",
      "Epoch 9/10\n",
      "1875/1875 [==============================] - 1s 751us/step - loss: 0.1041 - acc: 0.9705\n",
      "Epoch 10/10\n",
      "1875/1875 [==============================] - 1s 753us/step - loss: 0.0951 - acc: 0.9733\n"
     ]
    },
    {
     "data": {
      "text/plain": [
       "<keras.callbacks.History at 0x16047555d00>"
      ]
     },
     "execution_count": 18,
     "metadata": {},
     "output_type": "execute_result"
    }
   ],
   "source": [
    "model = Sequential()\n",
    "model.add( Dense( units=64, input_dim=784, activation='relu' ) ) #vanishing gradient 방지\n",
    "model.add( Dense( units=32, input_dim=64, activation='relu' ) )\n",
    "model.add( Dense( units=10, input_dim=32, activation='softmax' ) )\n",
    "model.compile(loss='categorical_crossentropy', optimizer='Adam', metrics=['acc'])\n",
    "model.fit(x_trainM, y_trainOne, epochs=10)"
   ]
  },
  {
   "cell_type": "code",
   "execution_count": 19,
   "id": "0c98d42a",
   "metadata": {},
   "outputs": [
    {
     "data": {
      "image/png": "[encoded data removed]",
      "text/plain": [
       "<Figure size 432x288 with 1 Axes>"
      ]
     },
     "metadata": {},
     "output_type": "display_data"
    }
   ],
   "source": [
    "plt.imshow(x_test[0])\n",
    "plt.show()"
   ]
  },
  {
   "cell_type": "code",
   "execution_count": 20,
   "id": "d4ad27dd",
   "metadata": {},
   "outputs": [
    {
     "data": {
      "text/plain": [
       "7"
      ]
     },
     "execution_count": 20,
     "metadata": {},
     "output_type": "execute_result"
    }
   ],
   "source": [
    "y_test[0]"
   ]
  },
  {
   "cell_type": "code",
   "execution_count": 23,
   "id": "f6fef3b4",
   "metadata": {},
   "outputs": [
    {
     "data": {
      "text/plain": [
       "array([7], dtype=int64)"
      ]
     },
     "execution_count": 23,
     "metadata": {},
     "output_type": "execute_result"
    }
   ],
   "source": [
    "model.predict(x_test[0].reshape(1, 28*28)).argmax( axis=1 )"
   ]
  },
  {
   "cell_type": "code",
   "execution_count": 28,
   "id": "9246234b",
   "metadata": {},
   "outputs": [
    {
     "data": {
      "text/plain": [
       "array([7, 2, 1, ..., 4, 5, 6], dtype=int64)"
      ]
     },
     "execution_count": 28,
     "metadata": {},
     "output_type": "execute_result"
    }
   ],
   "source": [
    "model.predict(x_test.reshape(-1, 28*28)).argmax( axis=1 )"
   ]
  },
  {
   "cell_type": "code",
   "execution_count": 26,
   "id": "3d6015f5",
   "metadata": {},
   "outputs": [
    {
     "name": "stdout",
     "output_type": "stream",
     "text": [
      "313/313 [==============================] - 0s 883us/step - loss: 0.1519 - acc: 0.9641\n"
     ]
    },
    {
     "data": {
      "text/plain": [
       "[0.1519058644771576, 0.9641000032424927]"
      ]
     },
     "execution_count": 26,
     "metadata": {},
     "output_type": "execute_result"
    }
   ],
   "source": [
    "model.evaluate(x_test.reshape(-1, 28*28), to_categorical(y_test))"
   ]
  }
 ],
 "metadata": {
  "kernelspec": {
   "display_name": "Python 3",
   "language": "python",
   "name": "python3"
  },
  "language_info": {
   "codemirror_mode": {
    "name": "ipython",
    "version": 3
   },
   "file_extension": ".py",
   "mimetype": "text/x-python",
   "name": "python",
   "nbconvert_exporter": "python",
   "pygments_lexer": "ipython3",
   "version": "3.8.8"
  }
 },
 "nbformat": 4,
 "nbformat_minor": 5
}
