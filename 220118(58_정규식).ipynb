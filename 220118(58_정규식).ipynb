{
 "cells": [
  {
   "cell_type": "code",
   "execution_count": 1,
   "id": "04e6bbed",
   "metadata": {},
   "outputs": [],
   "source": [
    "import re"
   ]
  },
  {
   "cell_type": "markdown",
   "id": "06ccaa64",
   "metadata": {},
   "source": [
    "#### 정규식 : 문자열(통계, 웹파싱, 자연어)"
   ]
  },
  {
   "cell_type": "code",
   "execution_count": 3,
   "id": "e84c6412",
   "metadata": {},
   "outputs": [],
   "source": [
    "s1= 'apple kiwi banana'"
   ]
  },
  {
   "cell_type": "code",
   "execution_count": 8,
   "id": "9479a862",
   "metadata": {},
   "outputs": [
    {
     "name": "stdout",
     "output_type": "stream",
     "text": [
      "None\n",
      "Not Found\n"
     ]
    }
   ],
   "source": [
    "try:\n",
    "    match = re.search('straw', s1)\n",
    "    print(match)\n",
    "    print(match.group())\n",
    "    # print(match.span())\n",
    "except Exception as err:\n",
    "    print('Not Found')"
   ]
  },
  {
   "cell_type": "markdown",
   "id": "1830aeb2",
   "metadata": {},
   "source": [
    "#### 반복 메타 문자"
   ]
  },
  {
   "cell_type": "code",
   "execution_count": 14,
   "id": "b71e2f41",
   "metadata": {},
   "outputs": [
    {
     "name": "stdout",
     "output_type": "stream",
     "text": [
      "appple\n"
     ]
    }
   ],
   "source": [
    "s1= 'appple kiwi banana'\n",
    "try:\n",
    "    match = re.search('ap+le', s1) # * : 바로 앞에 있는 문자의 '0'회 이상 반복\n",
    "    print(match.group())           # + :                        1회 이상 반복\n",
    "except Exception as err:\n",
    "    print('Not Found')"
   ]
  },
  {
   "cell_type": "code",
   "execution_count": 18,
   "id": "41c1133f",
   "metadata": {},
   "outputs": [
    {
     "name": "stdout",
     "output_type": "stream",
     "text": [
      "Not Found\n"
     ]
    }
   ],
   "source": [
    "s1= 'apple kiwi banana'\n",
    "try:\n",
    "    match = re.search('ap?le', s1) # ? : 바로 앞에 있는 문자의 0 또는 1회 반복\n",
    "    print(match.group())           \n",
    "except Exception as err:\n",
    "    print('Not Found')"
   ]
  },
  {
   "cell_type": "code",
   "execution_count": 23,
   "id": "95c98f24",
   "metadata": {},
   "outputs": [
    {
     "name": "stdout",
     "output_type": "stream",
     "text": [
      "apple\n"
     ]
    }
   ],
   "source": [
    "s1= 'apple kiwi banana'\n",
    "try:\n",
    "    match = re.search('ap{2}le', s1) # {m}: 바로 앞에 있는 문자의 m회 반복\n",
    "    print(match.group())          \n",
    "except Exception as err:\n",
    "    print('Not Found')"
   ]
  },
  {
   "cell_type": "code",
   "execution_count": 28,
   "id": "e62e2456",
   "metadata": {},
   "outputs": [
    {
     "name": "stdout",
     "output_type": "stream",
     "text": [
      "Not Found\n"
     ]
    }
   ],
   "source": [
    "s1= 'aple kiwi banana'\n",
    "try:\n",
    "    match = re.search('ap{2, 4}le', s1) # {m, n}: 바로 앞에 있는 문자의 m회부터 n회까지 반복\n",
    "    print(match.group())                # 2 <= m <= 4\n",
    "except Exception as err:\n",
    "    print('Not Found')"
   ]
  },
  {
   "cell_type": "markdown",
   "id": "84450c1e",
   "metadata": {},
   "source": [
    "#### 매칭 메타 문자"
   ]
  },
  {
   "cell_type": "code",
   "execution_count": 35,
   "id": "71ea940b",
   "metadata": {},
   "outputs": [
    {
     "name": "stdout",
     "output_type": "stream",
     "text": [
      "kiabi\n"
     ]
    }
   ],
   "source": [
    "s1= 'apple kiabi banana'\n",
    "try:\n",
    "    match = re.search('ki..i', s1) # . : 줄바꿈을 제외한 모든 문자와 매칭\n",
    "    print(match.group())          \n",
    "except Exception as err:\n",
    "    print('Not Found')"
   ]
  },
  {
   "cell_type": "code",
   "execution_count": 37,
   "id": "623c1a02",
   "metadata": {},
   "outputs": [
    {
     "name": "stdout",
     "output_type": "stream",
     "text": [
      "app\n"
     ]
    }
   ],
   "source": [
    "s1= 'apple kiwi banana'\n",
    "try:\n",
    "#     match = re.search('^app', s1) # ^ : 문자열의 시작과 매치됨\n",
    "    match = re.search('^ap+', s1)\n",
    "    print(match.group())          \n",
    "except Exception as err:\n",
    "    print('Not Found')"
   ]
  },
  {
   "cell_type": "code",
   "execution_count": 39,
   "id": "83d084e8",
   "metadata": {},
   "outputs": [
    {
     "name": "stdout",
     "output_type": "stream",
     "text": [
      "Not Found\n"
     ]
    }
   ],
   "source": [
    "s1= 'apple kiwi banana'\n",
    "try:\n",
    "#     match = re.search('ana$', s1) # $ : 문자열의 마지막과 매치됨\n",
    "    match = re.search('wi$', s1)\n",
    "    print(match.group())          \n",
    "except Exception as err:\n",
    "    print('Not Found')"
   ]
  },
  {
   "cell_type": "code",
   "execution_count": 58,
   "id": "e42333f0",
   "metadata": {},
   "outputs": [
    {
     "name": "stdout",
     "output_type": "stream",
     "text": [
      "kiAi\n"
     ]
    }
   ],
   "source": [
    "s1= 'apple kiAi banana'\n",
    "try:\n",
    "#     match = re.search('ki[a-zA-Z0-9_. ]i', s1) # [] : 문자 집합 중 한 문자를 의미\n",
    "#     match = re.search('ki\\.i', s1) #이스케이프 키 : 다음 문자를 해당 문자 자체로 인식\n",
    "#     match = re.search('ki[vwx]+i', s1) # v or w or x가 1회 이상 반복\n",
    "#     match = re.search('ki[a-z]+i', s1)\n",
    "    match = re.search('ki[^a-z]+i', s1) # ^ : not\n",
    "    print(match.group())          \n",
    "except Exception as err:\n",
    "    print('Not Found')"
   ]
  },
  {
   "cell_type": "code",
   "execution_count": 64,
   "id": "b10b6bcc",
   "metadata": {},
   "outputs": [
    {
     "name": "stdout",
     "output_type": "stream",
     "text": [
      "서울꺆\n"
     ]
    }
   ],
   "source": [
    "s1= '서울꺆 은평구'\n",
    "try:\n",
    "#     match = re.search('서울[시은가]', s1)\n",
    "    match = re.search('서울[가-힣]', s1)\n",
    "    print(match.group())          \n",
    "except Exception as err:\n",
    "    print('Not Found')"
   ]
  },
  {
   "cell_type": "code",
   "execution_count": 66,
   "id": "f2a7fc7e",
   "metadata": {},
   "outputs": [
    {
     "name": "stdout",
     "output_type": "stream",
     "text": [
      "['apple', 'application']\n",
      "apple\n"
     ]
    }
   ],
   "source": [
    "s1= 'apple kiwi banana application'\n",
    "fList = re.findall('app[a-z]+', s1) #리스트로 반환\n",
    "print(fList)\n",
    "\n",
    "try:\n",
    "    match = re.search('app[a-z]+', s1) #처음 찾은 문자열만 출력\n",
    "    print(match.group())          \n",
    "except Exception as err:\n",
    "    print('Not Found')"
   ]
  },
  {
   "cell_type": "code",
   "execution_count": 68,
   "id": "86cdd1f8",
   "metadata": {},
   "outputs": [
    {
     "name": "stdout",
     "output_type": "stream",
     "text": [
      "apple\n"
     ]
    }
   ],
   "source": [
    "s1= 'apple kiwi banana straw'\n",
    "try:\n",
    "    match = re.search('ap+le|straw|melon', s1) # | : or\n",
    "    print(match.group())          \n",
    "except Exception as err:\n",
    "    print('Not Found')"
   ]
  },
  {
   "cell_type": "code",
   "execution_count": 72,
   "id": "6e1aa34d",
   "metadata": {},
   "outputs": [
    {
     "name": "stdout",
     "output_type": "stream",
     "text": [
      "kiai\n"
     ]
    }
   ],
   "source": [
    "s1= 'apple kiai banana'\n",
    "try:\n",
    "#     match = re.search('ki[0-9]i', s1)\n",
    "#     match = re.search('ki\\di', s1) 숫자면 됨\n",
    "#     match = re.search('ki[^0-9]i', s1)\n",
    "    match = re.search('ki\\Di', s1) #숫자가 아니면 됨\n",
    "    print(match.group())          \n",
    "except Exception as err:\n",
    "    print('Not Found')"
   ]
  },
  {
   "cell_type": "code",
   "execution_count": 76,
   "id": "a124bb3f",
   "metadata": {},
   "outputs": [
    {
     "name": "stdout",
     "output_type": "stream",
     "text": [
      "ki_i\n"
     ]
    }
   ],
   "source": [
    "s1= 'apple ki_i banana'\n",
    "try:\n",
    "    #  \\w : [a-zA-Z0-9가-힣_] /  \\W : [^a-zA-Z0-9가-힣_]\n",
    "#     match = re.search('ki\\wi', s1)\n",
    "    match = re.search('ki[\\w#]', s1) #[a-zA-Z0-9가-힣_#]\n",
    "    print(match.group())          \n",
    "except Exception as err:\n",
    "    print('Not Found')"
   ]
  },
  {
   "cell_type": "code",
   "execution_count": 82,
   "id": "f3fade41",
   "metadata": {},
   "outputs": [
    {
     "name": "stdout",
     "output_type": "stream",
     "text": [
      "123-abc\n",
      "('123', 'abc')\n",
      "123\n",
      "abc\n"
     ]
    }
   ],
   "source": [
    "s2 =\"123-abc def-ghi 346-Abc\"\n",
    "#숫자3개-소문자3개 찾기\n",
    "\n",
    "try:\n",
    "    match = re.search('([0-9]{3})-([a-z]{3})', s2)\n",
    "    print(match.group())          \n",
    "    print(match.groups())\n",
    "    print(match.group(1))\n",
    "    print(match.group(2))\n",
    "except Exception as err:\n",
    "    print('Not Found')"
   ]
  },
  {
   "cell_type": "code",
   "execution_count": 89,
   "id": "f75674bd",
   "metadata": {},
   "outputs": [
    {
     "name": "stdout",
     "output_type": "stream",
     "text": [
      "my.html\n"
     ]
    }
   ],
   "source": [
    "s3 ='<a href=\"my.html\">abcde</a><font class=\"a.aa\" size=\"10\">'\n",
    "#href 뒤에 있는 파일명 출력\n",
    "\n",
    "try:\n",
    "    match = re.search('href=\"([\\w.]+)\"', s3)\n",
    "    print(match.group(1))\n",
    "except Exception as err:\n",
    "    print('Not Found')"
   ]
  },
  {
   "cell_type": "code",
   "execution_count": 101,
   "id": "fd946fc1",
   "metadata": {},
   "outputs": [
    {
     "name": "stdout",
     "output_type": "stream",
     "text": [
      "['ab.bcd.def.kim@gmail.com', 'aa@bb.aa']\n",
      "['ab.bcd.def.kim', 'aa']\n"
     ]
    }
   ],
   "source": [
    "s4 =\"aaa ab.bcd.def.kim@gmail.com xxx aa@bb.aa\"\n",
    "#이메일 주소를 출력하시요\n",
    "mail = re.findall('[\\w.]+@[\\w.]+', s4)\n",
    "print(mail)\n",
    "#아이디만 출력하시요\n",
    "mid = re.findall('([\\w.]+)@', s4)\n",
    "print(mid)"
   ]
  },
  {
   "cell_type": "code",
   "execution_count": 102,
   "id": "f41bc214",
   "metadata": {},
   "outputs": [
    {
     "name": "stdout",
     "output_type": "stream",
     "text": [
      "ki#\n"
     ]
    }
   ],
   "source": [
    "s1= 'apple ki#i banana'\n",
    "try:\n",
    "    match = re.search('ki\\W', s1) #숫자 또는 문자가 아닌 것\n",
    "    print(match.group())          \n",
    "except Exception as err:\n",
    "    print('Not Found')"
   ]
  },
  {
   "cell_type": "code",
   "execution_count": 109,
   "id": "cd263275",
   "metadata": {},
   "outputs": [
    {
     "name": "stdout",
     "output_type": "stream",
     "text": [
      "ki      \n"
     ]
    }
   ],
   "source": [
    "s1= 'apple ki      i banana'\n",
    "try:\n",
    "    match = re.search('ki\\s+', s1) #[ \\t \\n \\r] 화이트 스페이스 문자\n",
    "    print(match.group())          \n",
    "except Exception as err:\n",
    "    print('Not Found')"
   ]
  },
  {
   "cell_type": "code",
   "execution_count": 111,
   "id": "b1ba13d8",
   "metadata": {},
   "outputs": [
    {
     "name": "stdout",
     "output_type": "stream",
     "text": [
      "kiwi\n"
     ]
    }
   ],
   "source": [
    "s1= 'apple kiwi banana'\n",
    "try:\n",
    "    match = re.search('ki\\S+', s1) #[^ \\t \\n \\r]\n",
    "    print(match.group())          \n",
    "except Exception as err:\n",
    "    print('Not Found')"
   ]
  },
  {
   "cell_type": "code",
   "execution_count": 117,
   "id": "1ff72ef6",
   "metadata": {},
   "outputs": [
    {
     "name": "stdout",
     "output_type": "stream",
     "text": [
      "i like kiwi like kiwi\n"
     ]
    }
   ],
   "source": [
    "s1 ='aaa-bbb#ccc.ddd eee'\n",
    "s2 = 'i like apple like application'\n",
    "# result = s1.split('#')\n",
    "# print(result)\n",
    "result = re.split('[ #.-]', s1) # '-'의 경우 앞에 \\ 붙이거나 맨 끝에 써야\n",
    "result\n",
    "# result = s2.replace('apple', 'kiwi')\n",
    "result = re.sub('ap\\w+', 'kiwi', s2)\n",
    "print(result)"
   ]
  },
  {
   "cell_type": "code",
   "execution_count": 129,
   "id": "daf4f20e",
   "metadata": {},
   "outputs": [
    {
     "name": "stdout",
     "output_type": "stream",
     "text": [
      "192.168.123.240 \n"
     ]
    }
   ],
   "source": [
    "s1 = '192.168.123.240 - - [01/Apr/2016:12:39:00 +0900] \"GET / HTTP/1.1\" 200 11452'\n",
    "#ip adress만 추출\n",
    "adr = re.search('([\\d]{3}.){4}', s1)\n",
    "print(adr.group())"
   ]
  },
  {
   "cell_type": "code",
   "execution_count": 128,
   "id": "cdd93cb4",
   "metadata": {},
   "outputs": [
    {
     "name": "stdout",
     "output_type": "stream",
     "text": [
      "192.168.123.333\n"
     ]
    }
   ],
   "source": [
    "s1 ='192.168.123.333 - - [01/Apr/2016:12:39:00 +0900] \"GET / HTTP/1.1\" 200 11452'\n",
    "try:\n",
    "    ip = re.search('(\\d{1,3}\\.\\d{1,3}\\.\\d{1,3}\\.\\d{1,3})[^0-9]',s1)\n",
    "    print( ip.group(1))\n",
    "except Exception as err:\n",
    "    print('not found')"
   ]
  },
  {
   "cell_type": "code",
   "execution_count": 136,
   "id": "979e1f1d",
   "metadata": {},
   "outputs": [
    {
     "name": "stdout",
     "output_type": "stream",
     "text": [
      "01/Apr/2016:12:39:00\n"
     ]
    }
   ],
   "source": [
    "s1 = '192.168.123.240 - - [01/Apr/2016:12:39:00 +0900] \"GET / HTTP/1.1\" 200 11452'\n",
    "#접속 시간만 추출\n",
    "try:\n",
    "    time = re.search('\\[([\\w/:]+)',s1)\n",
    "    print(time.group(1))\n",
    "except Exception as err:\n",
    "    print('not found')"
   ]
  },
  {
   "cell_type": "code",
   "execution_count": null,
   "id": "9c9445bc",
   "metadata": {},
   "outputs": [],
   "source": [
    "#GET(POST) 요청문서 (/, /a.html, /a.jpg ...)"
   ]
  },
  {
   "cell_type": "code",
   "execution_count": 143,
   "id": "0f2bbf89",
   "metadata": {},
   "outputs": [
    {
     "name": "stdout",
     "output_type": "stream",
     "text": [
      "/\n"
     ]
    }
   ],
   "source": [
    "s1 = '192.168.123.240 - - [01/Apr/2016:12:39:00 +0900] \"GET / HTTP/1.1\" 200 11452'\n",
    "get = re.search('(GET|POST) ([/\\w.]+)', s1)\n",
    "print(get.group(2))"
   ]
  },
  {
   "cell_type": "code",
   "execution_count": 147,
   "id": "79b7e596",
   "metadata": {},
   "outputs": [
    {
     "name": "stdout",
     "output_type": "stream",
     "text": [
      "11452\n"
     ]
    }
   ],
   "source": [
    "size = re.search('200 (\\d+$)', s1)\n",
    "print(size.group(1))\n",
    "#원래 앞에 200인 경우에만 숫자 존재"
   ]
  }
 ],
 "metadata": {
  "kernelspec": {
   "display_name": "Python 3",
   "language": "python",
   "name": "python3"
  },
  "language_info": {
   "codemirror_mode": {
    "name": "ipython",
    "version": 3
   },
   "file_extension": ".py",
   "mimetype": "text/x-python",
   "name": "python",
   "nbconvert_exporter": "python",
   "pygments_lexer": "ipython3",
   "version": "3.8.8"
  }
 },
 "nbformat": 4,
 "nbformat_minor": 5
}
