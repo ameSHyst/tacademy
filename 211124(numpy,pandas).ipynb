{
 "cells": [
  {
   "cell_type": "markdown",
   "id": "639dbccb",
   "metadata": {},
   "source": [
    "-불린 마스크\n",
    "조건절의 결과는 True, False로 반환\n",
    "True인 결과의 데이터프레임 반환\n",
    "\n",
    "넘파이배열[조건절]\n",
    "==, !=, <=, >=\n",
    "&, |, ~"
   ]
  },
  {
   "cell_type": "code",
   "execution_count": 2,
   "id": "a5f46e9d",
   "metadata": {},
   "outputs": [],
   "source": [
    "import numpy as np"
   ]
  },
  {
   "cell_type": "code",
   "execution_count": 2,
   "id": "c0401534",
   "metadata": {},
   "outputs": [
    {
     "data": {
      "text/plain": [
       "array([ 1,  2,  3,  4,  5,  6,  7,  8,  9, 10, 11, 12, 13, 14, 15, 16, 17,\n",
       "       18, 19, 20])"
      ]
     },
     "execution_count": 2,
     "metadata": {},
     "output_type": "execute_result"
    }
   ],
   "source": [
    "matrix = np.arange(1, 21)\n",
    "matrix"
   ]
  },
  {
   "cell_type": "code",
   "execution_count": 3,
   "id": "5a769dc1",
   "metadata": {},
   "outputs": [
    {
     "data": {
      "text/plain": [
       "array([False, False, False, False, False, False, False, False, False,\n",
       "       False,  True,  True,  True,  True,  True,  True,  True,  True,\n",
       "        True,  True])"
      ]
     },
     "execution_count": 3,
     "metadata": {},
     "output_type": "execute_result"
    }
   ],
   "source": [
    "#넘파이 배열에 비교 연산자 적용 -> True/ False 값 반환\n",
    "matrix > 10"
   ]
  },
  {
   "cell_type": "code",
   "execution_count": 5,
   "id": "7e8d045c",
   "metadata": {},
   "outputs": [
    {
     "data": {
      "text/plain": [
       "10"
      ]
     },
     "execution_count": 5,
     "metadata": {},
     "output_type": "execute_result"
    }
   ],
   "source": [
    "#True 반환값의 갯수\n",
    "(matrix > 10).sum()"
   ]
  },
  {
   "cell_type": "code",
   "execution_count": 6,
   "id": "446fefca",
   "metadata": {},
   "outputs": [
    {
     "data": {
      "text/plain": [
       "array([11, 12, 13, 14, 15, 16, 17, 18, 19, 20])"
      ]
     },
     "execution_count": 6,
     "metadata": {},
     "output_type": "execute_result"
    }
   ],
   "source": [
    "#넘파이 배열[조건절] -> 조건절을 만족하는 실제 값 반환\n",
    "matrix[matrix > 10]"
   ]
  },
  {
   "cell_type": "code",
   "execution_count": null,
   "id": "e210c741",
   "metadata": {},
   "outputs": [],
   "source": [
    "#퀴즈 : 1-100 사이의 숫자 중에 30개를 추출해서 랜덤하게 넘파이 배열을 생성하고\n",
    "#30보다 크거나 70보다 작은 숫자를 출력하라\n",
    "#n > 30 ? n < 70"
   ]
  },
  {
   "cell_type": "code",
   "execution_count": 7,
   "id": "ea0285e4",
   "metadata": {},
   "outputs": [
    {
     "data": {
      "text/plain": [
       "array([17, 48,  7, 99, 74, 10, 46, 51, 91, 78, 54, 76, 44, 70,  7, 11, 86,\n",
       "       89,  7, 10, 16,  5, 14,  4, 12, 51, 51, 51, 36, 11])"
      ]
     },
     "execution_count": 7,
     "metadata": {},
     "output_type": "execute_result"
    }
   ],
   "source": [
    "matrix1 = np.random.randint(1, 101, 30)\n",
    "matrix1"
   ]
  },
  {
   "cell_type": "code",
   "execution_count": 16,
   "id": "da002c6a",
   "metadata": {},
   "outputs": [
    {
     "data": {
      "text/plain": [
       "array([False,  True, False, False, False, False,  True,  True, False,\n",
       "       False,  True, False,  True, False, False, False, False, False,\n",
       "       False, False, False, False, False, False, False,  True,  True,\n",
       "        True,  True, False])"
      ]
     },
     "execution_count": 16,
     "metadata": {},
     "output_type": "execute_result"
    }
   ],
   "source": [
    "# 30 < n < 70\n",
    "(matrix1 > 30) & (matrix1 < 70)"
   ]
  },
  {
   "cell_type": "code",
   "execution_count": 17,
   "id": "7d17b250",
   "metadata": {},
   "outputs": [
    {
     "data": {
      "text/plain": [
       "9"
      ]
     },
     "execution_count": 17,
     "metadata": {},
     "output_type": "execute_result"
    }
   ],
   "source": [
    "((matrix1 > 30) & (matrix1 < 70)).sum()"
   ]
  },
  {
   "cell_type": "code",
   "execution_count": 18,
   "id": "993fd1a1",
   "metadata": {},
   "outputs": [
    {
     "data": {
      "text/plain": [
       "array([48, 46, 51, 54, 44, 51, 51, 51, 36])"
      ]
     },
     "execution_count": 18,
     "metadata": {},
     "output_type": "execute_result"
    }
   ],
   "source": [
    "matrix1[(matrix1 > 30) & (matrix1 < 70)]"
   ]
  },
  {
   "cell_type": "code",
   "execution_count": 19,
   "id": "09d9b4fc",
   "metadata": {},
   "outputs": [
    {
     "data": {
      "text/plain": [
       "array([ 7, 99, 91,  7,  7,  5,  4])"
      ]
     },
     "execution_count": 19,
     "metadata": {},
     "output_type": "execute_result"
    }
   ],
   "source": [
    "# (n < 10) or (n > 90)\n",
    "matrix1[(matrix1 < 10) | (matrix1 > 90)]"
   ]
  },
  {
   "cell_type": "code",
   "execution_count": 20,
   "id": "f46f57a1",
   "metadata": {},
   "outputs": [
    {
     "data": {
      "text/plain": [
       "array([17, 48, 74, 10, 46, 51, 78, 54, 76, 44, 70, 11, 86, 89, 10, 16, 14,\n",
       "       12, 51, 51, 51, 36, 11])"
      ]
     },
     "execution_count": 20,
     "metadata": {},
     "output_type": "execute_result"
    }
   ],
   "source": [
    "# not ~ -> 10 <= n <= 90\n",
    "matrix1[~((matrix1 < 10) | (matrix1 > 90))]"
   ]
  },
  {
   "cell_type": "markdown",
   "id": "39de23c6",
   "metadata": {},
   "source": [
    "-팬시 인덱싱\n",
    "\n",
    "넘파이배열1[넘파이배열2]\n",
    "넘파이배열2 -> 인덱스 역할"
   ]
  },
  {
   "cell_type": "code",
   "execution_count": 22,
   "id": "a3993eee",
   "metadata": {},
   "outputs": [
    {
     "data": {
      "text/plain": [
       "array([97, 93, 33, 29, 15, 61, 99, 23, 13,  1, 21, 64, 56, 71, 95, 11, 30,\n",
       "       53, 58, 33, 66, 68, 94, 82, 26, 76, 83,  4, 26, 25])"
      ]
     },
     "execution_count": 22,
     "metadata": {},
     "output_type": "execute_result"
    }
   ],
   "source": [
    "matrix2 = np.random.randint(1, 100, 30)\n",
    "matrix2"
   ]
  },
  {
   "cell_type": "code",
   "execution_count": 27,
   "id": "18ad76f8",
   "metadata": {},
   "outputs": [
    {
     "data": {
      "text/plain": [
       "array([ 0,  0,  0,  2,  3, 10, 20, -1])"
      ]
     },
     "execution_count": 27,
     "metadata": {},
     "output_type": "execute_result"
    }
   ],
   "source": [
    "#필터링 인덱스 -> 팬시 인덱싱\n",
    "#정수 형태여야 함\n",
    "\n",
    "matrix3 = np.array([0, 0, 0, 2, 3, 10, 20, -1])\n",
    "matrix3"
   ]
  },
  {
   "cell_type": "code",
   "execution_count": 28,
   "id": "2246024d",
   "metadata": {},
   "outputs": [
    {
     "data": {
      "text/plain": [
       "array([97, 97, 97, 33, 29, 21, 66, 25])"
      ]
     },
     "execution_count": 28,
     "metadata": {},
     "output_type": "execute_result"
    }
   ],
   "source": [
    "matrix2[matrix3]"
   ]
  },
  {
   "cell_type": "code",
   "execution_count": 29,
   "id": "f7825b9f",
   "metadata": {},
   "outputs": [
    {
     "data": {
      "text/plain": [
       "array([[ 2, 79, 44, 12, 46],\n",
       "       [65, 68, 53, 44, 67],\n",
       "       [75, 31, 74, 65, 35],\n",
       "       [60, 15, 36, 91, 54],\n",
       "       [33, 99, 35, 68, 64],\n",
       "       [42, 79, 69, 30, 38]])"
      ]
     },
     "execution_count": 29,
     "metadata": {},
     "output_type": "execute_result"
    }
   ],
   "source": [
    "matrix4 = np.random.randint(1, 100, 30).reshape(6, 5)\n",
    "matrix4"
   ]
  },
  {
   "cell_type": "code",
   "execution_count": 30,
   "id": "5f25b416",
   "metadata": {},
   "outputs": [
    {
     "data": {
      "text/plain": [
       "(2, 2)"
      ]
     },
     "execution_count": 30,
     "metadata": {},
     "output_type": "execute_result"
    }
   ],
   "source": [
    "matrix4[0][0], matrix4[0][0]"
   ]
  },
  {
   "cell_type": "code",
   "execution_count": 31,
   "id": "9f9ed0a2",
   "metadata": {},
   "outputs": [
    {
     "data": {
      "text/plain": [
       "(38, 38)"
      ]
     },
     "execution_count": 31,
     "metadata": {},
     "output_type": "execute_result"
    }
   ],
   "source": [
    "#matrix4에서 1행 1열 값과 6행 5열 값을 추출\n",
    "matrix4[5, 4], matrix4[-1, -1]"
   ]
  },
  {
   "cell_type": "code",
   "execution_count": 34,
   "id": "760f7172",
   "metadata": {},
   "outputs": [],
   "source": [
    "matrix5 = [0, 1]\n",
    "matrix6 = [[0, 0], [1, 1], [3, 2]]"
   ]
  },
  {
   "cell_type": "code",
   "execution_count": 35,
   "id": "1b93ac2a",
   "metadata": {},
   "outputs": [
    {
     "data": {
      "text/plain": [
       "array([[ 2, 79, 44, 12, 46],\n",
       "       [65, 68, 53, 44, 67],\n",
       "       [75, 31, 74, 65, 35],\n",
       "       [60, 15, 36, 91, 54],\n",
       "       [33, 99, 35, 68, 64],\n",
       "       [42, 79, 69, 30, 38]])"
      ]
     },
     "execution_count": 35,
     "metadata": {},
     "output_type": "execute_result"
    }
   ],
   "source": [
    "matrix4"
   ]
  },
  {
   "cell_type": "code",
   "execution_count": 36,
   "id": "4dc9f92a",
   "metadata": {},
   "outputs": [
    {
     "data": {
      "text/plain": [
       "array([[ 2, 79, 44, 12, 46],\n",
       "       [65, 68, 53, 44, 67]])"
      ]
     },
     "execution_count": 36,
     "metadata": {},
     "output_type": "execute_result"
    }
   ],
   "source": [
    "#1, 2행 출력\n",
    "matrix4[matrix5]"
   ]
  },
  {
   "cell_type": "code",
   "execution_count": 37,
   "id": "82f8ce95",
   "metadata": {},
   "outputs": [
    {
     "data": {
      "text/plain": [
       "array([ 2, 65, 75])"
      ]
     },
     "execution_count": 37,
     "metadata": {},
     "output_type": "execute_result"
    }
   ],
   "source": [
    "matrix4[[0, 1, 2], [0]]"
   ]
  },
  {
   "cell_type": "code",
   "execution_count": 38,
   "id": "0180a46e",
   "metadata": {},
   "outputs": [
    {
     "data": {
      "text/plain": [
       "array([ 2, 68, 74, 91, 64])"
      ]
     },
     "execution_count": 38,
     "metadata": {},
     "output_type": "execute_result"
    }
   ],
   "source": [
    "# 배열이름[ [i1, i2, i3 ... ], [j1, j2, j3 ... ]]\n",
    "# [i1,j1], [i2,j2] ... \n",
    "# 대각선의 값만 출력\n",
    "matrix4[[0, 1, 2, 3, 4], [0, 1, 2, 3, 4]]"
   ]
  },
  {
   "cell_type": "code",
   "execution_count": 40,
   "id": "1a1d38bb",
   "metadata": {},
   "outputs": [
    {
     "data": {
      "text/plain": [
       "array([[ 2, 79],\n",
       "       [65, 68],\n",
       "       [75, 31]])"
      ]
     },
     "execution_count": 40,
     "metadata": {},
     "output_type": "execute_result"
    }
   ],
   "source": [
    "matrix4[[0, 1, 2], 0:2]"
   ]
  },
  {
   "cell_type": "code",
   "execution_count": 41,
   "id": "349509b6",
   "metadata": {},
   "outputs": [
    {
     "data": {
      "text/plain": [
       "array([[ 1,  2,  3,  4,  5],\n",
       "       [ 6,  7,  8,  9, 10],\n",
       "       [11, 12, 13, 14, 15],\n",
       "       [16, 17, 18, 19, 20],\n",
       "       [21, 22, 23, 24, 25]])"
      ]
     },
     "execution_count": 41,
     "metadata": {},
     "output_type": "execute_result"
    }
   ],
   "source": [
    "matrix4 = np.arange(1,26).reshape(5,5)\n",
    "matrix4"
   ]
  },
  {
   "cell_type": "code",
   "execution_count": 42,
   "id": "6af5424d",
   "metadata": {},
   "outputs": [
    {
     "data": {
      "text/plain": [
       "(1, 7, 13, 19, 25)"
      ]
     },
     "execution_count": 42,
     "metadata": {},
     "output_type": "execute_result"
    }
   ],
   "source": [
    "# 방법1\n",
    "matrix4[0,0], matrix4[1,1], matrix4[2,2], matrix4[3,3], matrix4[4,4]"
   ]
  },
  {
   "cell_type": "code",
   "execution_count": 43,
   "id": "05ac2584",
   "metadata": {},
   "outputs": [
    {
     "name": "stdout",
     "output_type": "stream",
     "text": [
      "1\t7\t13\t19\t25\t"
     ]
    }
   ],
   "source": [
    "# 방법2\n",
    "for i in range(len(matrix4)):\n",
    "    print(matrix4[i, i], end='\\t')"
   ]
  },
  {
   "cell_type": "code",
   "execution_count": 44,
   "id": "8e0babf1",
   "metadata": {},
   "outputs": [
    {
     "data": {
      "text/plain": [
       "array([ 1,  7, 13, 19, 25])"
      ]
     },
     "execution_count": 44,
     "metadata": {},
     "output_type": "execute_result"
    }
   ],
   "source": [
    "# 방법3 - 팬시인덱싱 \n",
    "matrix4[[0, 1, 2, 3, 4], [0, 1, 2, 3, 4]]"
   ]
  },
  {
   "cell_type": "code",
   "execution_count": 45,
   "id": "12030d17",
   "metadata": {},
   "outputs": [
    {
     "name": "stderr",
     "output_type": "stream",
     "text": [
      "<ipython-input-45-3918f182cc89>:5: FutureWarning: Using a non-tuple sequence for multidimensional indexing is deprecated; use `arr[tuple(seq)]` instead of `arr[seq]`. In the future this will be interpreted as an array index, `arr[np.array(seq)]`, which will result either in an error or a different result.\n",
      "  matrix4[fancy]\n"
     ]
    },
    {
     "data": {
      "text/plain": [
       "array([ 1,  7, 13, 19, 25])"
      ]
     },
     "execution_count": 45,
     "metadata": {},
     "output_type": "execute_result"
    }
   ],
   "source": [
    "# 방법4\n",
    "# 별도 배열로 정의할려면 모두 튜플이나 리스트로 정의 \n",
    "# fancy = ((0, 1, 2, 3, 4), (0, 1, 2, 3, 4))\n",
    "fancy = [[0, 1, 2, 3, 4], [0, 1, 2, 3, 4]]\n",
    "matrix4[fancy]"
   ]
  },
  {
   "cell_type": "markdown",
   "id": "0aa68627",
   "metadata": {},
   "source": [
    "-np.where()를 이용한 필터링\n",
    "\n",
    "np.where(조건식) -> 조건식을 만족하는 인덱스 반환\n",
    "np.where(조건식, T, F) -> 조건식을 만족하면 T값, 그렇지 않다면 F값\n",
    "배열 [np.where(조건식)] -> 조건식을 만족하는 실제 배열값이 반환 "
   ]
  },
  {
   "cell_type": "code",
   "execution_count": 46,
   "id": "4c954a20",
   "metadata": {},
   "outputs": [
    {
     "data": {
      "text/plain": [
       "array([ 0,  1,  2,  3,  4, 50, 60, 70, 80, 90])"
      ]
     },
     "execution_count": 46,
     "metadata": {},
     "output_type": "execute_result"
    }
   ],
   "source": [
    "a = np.arange(10)\n",
    "np.where(a < 5, a, 10*a)"
   ]
  },
  {
   "cell_type": "code",
   "execution_count": 48,
   "id": "d7d568fb",
   "metadata": {},
   "outputs": [
    {
     "data": {
      "text/plain": [
       "array([20, 21, 22, 23, 24, 25, 26, 27, 28, 29, 30])"
      ]
     },
     "execution_count": 48,
     "metadata": {},
     "output_type": "execute_result"
    }
   ],
   "source": [
    "a = np.arange(20, 31)\n",
    "a"
   ]
  },
  {
   "cell_type": "code",
   "execution_count": 49,
   "id": "e307a9ad",
   "metadata": {},
   "outputs": [
    {
     "data": {
      "text/plain": [
       "(array([0, 1, 2, 3, 4], dtype=int64),)"
      ]
     },
     "execution_count": 49,
     "metadata": {},
     "output_type": "execute_result"
    }
   ],
   "source": [
    "#조건식을 만족하는 인덱스 반환\n",
    "np.where(a < 25)"
   ]
  },
  {
   "cell_type": "code",
   "execution_count": 50,
   "id": "f2f8480b",
   "metadata": {},
   "outputs": [
    {
     "data": {
      "text/plain": [
       "array([ 20,  21,  22,  23,  24, 250, 260, 270, 280, 290, 300])"
      ]
     },
     "execution_count": 50,
     "metadata": {},
     "output_type": "execute_result"
    }
   ],
   "source": [
    "#조건식을 만족하면 현재값 유지, 그렇지 않다면 10을 곱함\n",
    "np.where(a < 25, a, 10*a)"
   ]
  },
  {
   "cell_type": "code",
   "execution_count": 52,
   "id": "742b86ca",
   "metadata": {},
   "outputs": [
    {
     "data": {
      "text/plain": [
       "array([1, 1, 1, 1, 1, 0, 0, 0, 0, 0, 0])"
      ]
     },
     "execution_count": 52,
     "metadata": {},
     "output_type": "execute_result"
    }
   ],
   "source": [
    "np.where(a < 25, 1, 0)"
   ]
  },
  {
   "cell_type": "code",
   "execution_count": 51,
   "id": "0c43418a",
   "metadata": {},
   "outputs": [
    {
     "data": {
      "text/plain": [
       "array([20, 21, 22, 23, 24])"
      ]
     },
     "execution_count": 51,
     "metadata": {},
     "output_type": "execute_result"
    }
   ],
   "source": [
    "#조건식을 만족하는 배열의 실제값 반환\n",
    "a[np.where(a < 25)]"
   ]
  },
  {
   "cell_type": "code",
   "execution_count": 53,
   "id": "64b68f74",
   "metadata": {},
   "outputs": [
    {
     "data": {
      "text/plain": [
       "array([5, 8, 7, 0, 3, 6, 4, 1])"
      ]
     },
     "execution_count": 53,
     "metadata": {},
     "output_type": "execute_result"
    }
   ],
   "source": [
    "#중복값 없이 뽑기\n",
    "arr = np.random.choice(10, 8, replace=False)\n",
    "arr"
   ]
  },
  {
   "cell_type": "code",
   "execution_count": 56,
   "id": "fc9ae78b",
   "metadata": {},
   "outputs": [
    {
     "name": "stdout",
     "output_type": "stream",
     "text": [
      " C 드라이브의 볼륨에는 이름이 없습니다.\n",
      " 볼륨 일련 번호: E070-A7AC\n",
      "\n",
      " C:\\numpy\\data 디렉터리\n",
      "\n",
      "2021-11-24  오후 01:41    <DIR>          .\n",
      "2021-11-24  오후 01:41    <DIR>          ..\n",
      "2021-11-24  오전 09:41    <DIR>          .ipynb_checkpoints\n",
      "2021-11-23  오후 05:47            77,056 211123.ipynb\n",
      "2021-11-24  오후 01:41            18,445 211124.ipynb\n",
      "2021-11-23  오전 12:12             3,088 births.txt\n",
      "2021-11-23  오전 12:25            35,455 Jeju2021.csv\n",
      "2016-07-17  오후 09:46           171,308 movies.dat\n",
      "2021-11-24  오전 09:15            15,388 Numpy_Quiz.ipynb\n",
      "2018-04-24  오전 10:42        24,594,131 ratings.dat\n",
      "2019-03-20  오전 10:54         1,185,149 seoul.csv\n",
      "2021-01-31  오후 08:49            93,805 seoul2021.csv\n",
      "               9개 파일          26,193,825 바이트\n",
      "               3개 디렉터리  454,228,602,880 바이트 남음\n"
     ]
    }
   ],
   "source": [
    "ls"
   ]
  },
  {
   "cell_type": "markdown",
   "id": "5f10e2a2",
   "metadata": {},
   "source": [
    "-외부 파일 연동\n",
    "\n",
    "배열명 = np.loadtxt('파일경로', delimiter='구분자', dtype=데이터형)"
   ]
  },
  {
   "cell_type": "code",
   "execution_count": 80,
   "id": "f284bae2",
   "metadata": {},
   "outputs": [],
   "source": [
    "# rating.dat 로딩 \n",
    "rating = np.loadtxt('ratings.dat', delimiter='::', dtype=int)"
   ]
  },
  {
   "cell_type": "code",
   "execution_count": 73,
   "id": "831f6c3e",
   "metadata": {},
   "outputs": [
    {
     "data": {
      "text/plain": [
       "((1000209, 4), 2, dtype('int32'))"
      ]
     },
     "execution_count": 73,
     "metadata": {},
     "output_type": "execute_result"
    }
   ],
   "source": [
    "rating.shape, rating.ndim, rating.dtype"
   ]
  },
  {
   "cell_type": "code",
   "execution_count": 74,
   "id": "287124dc",
   "metadata": {},
   "outputs": [
    {
     "data": {
      "text/plain": [
       "array([[        1,      1193,         5, 978300760],\n",
       "       [        1,       661,         3, 978302109],\n",
       "       [        1,       914,         3, 978301968]])"
      ]
     },
     "execution_count": 74,
     "metadata": {},
     "output_type": "execute_result"
    }
   ],
   "source": [
    "# 3개만 출력 \n",
    "rating[:3, :]"
   ]
  },
  {
   "cell_type": "code",
   "execution_count": 75,
   "id": "d3aec5dc",
   "metadata": {},
   "outputs": [
    {
     "data": {
      "text/plain": [
       "3.581564453029317"
      ]
     },
     "execution_count": 75,
     "metadata": {},
     "output_type": "execute_result"
    }
   ],
   "source": [
    "# 3열이 평점 \n",
    "# 3열의 평점의 평균은?\n",
    "rating[:, 2].mean()"
   ]
  },
  {
   "cell_type": "code",
   "execution_count": 81,
   "id": "00d2084e",
   "metadata": {},
   "outputs": [],
   "source": [
    "# 중복값 없이 배열값 표시 \n",
    "np.unique?"
   ]
  },
  {
   "cell_type": "code",
   "execution_count": 77,
   "id": "dc34ba81",
   "metadata": {},
   "outputs": [],
   "source": [
    "# 퀴즈 : \n",
    "# 1) userId가 2인 배열값만 출력?\n",
    "# 2) userId가 2인 사람의 평점의 평균은?"
   ]
  },
  {
   "cell_type": "code",
   "execution_count": 84,
   "id": "b2c69324",
   "metadata": {},
   "outputs": [
    {
     "data": {
      "text/plain": [
       "array([[        2,      1357,         5, 978298709],\n",
       "       [        2,      3068,         4, 978299000],\n",
       "       [        2,      1537,         4, 978299620],\n",
       "       [        2,       647,         3, 978299351],\n",
       "       [        2,      2194,         4, 978299297],\n",
       "       [        2,       648,         4, 978299913],\n",
       "       [        2,      2268,         5, 978299297],\n",
       "       [        2,      2628,         3, 978300051],\n",
       "       [        2,      1103,         3, 978298905],\n",
       "       [        2,      2916,         3, 978299809],\n",
       "       [        2,      3468,         5, 978298542],\n",
       "       [        2,      1210,         4, 978298151],\n",
       "       [        2,      1792,         3, 978299941],\n",
       "       [        2,      1687,         3, 978300174],\n",
       "       [        2,      1213,         2, 978298458],\n",
       "       [        2,      3578,         5, 978298958],\n",
       "       [        2,      2881,         3, 978300002],\n",
       "       [        2,      3030,         4, 978298434],\n",
       "       [        2,      1217,         3, 978298151],\n",
       "       [        2,      3105,         4, 978298673],\n",
       "       [        2,       434,         2, 978300174],\n",
       "       [        2,      2126,         3, 978300123],\n",
       "       [        2,      3107,         2, 978300002],\n",
       "       [        2,      3108,         3, 978299712],\n",
       "       [        2,      3035,         4, 978298625],\n",
       "       [        2,      1253,         3, 978299120],\n",
       "       [        2,      1610,         5, 978299809],\n",
       "       [        2,       292,         3, 978300123],\n",
       "       [        2,      2236,         5, 978299220],\n",
       "       [        2,      3071,         4, 978299120],\n",
       "       [        2,       902,         2, 978298905],\n",
       "       [        2,       368,         4, 978300002],\n",
       "       [        2,      1259,         5, 978298841],\n",
       "       [        2,      3147,         5, 978298652],\n",
       "       [        2,      1544,         4, 978300174],\n",
       "       [        2,      1293,         5, 978298261],\n",
       "       [        2,      1188,         4, 978299620],\n",
       "       [        2,      3255,         4, 978299321],\n",
       "       [        2,      3256,         2, 978299839],\n",
       "       [        2,      3257,         3, 978300073],\n",
       "       [        2,       110,         5, 978298625],\n",
       "       [        2,      2278,         3, 978299889],\n",
       "       [        2,      2490,         3, 978299966],\n",
       "       [        2,      1834,         4, 978298813],\n",
       "       [        2,      3471,         5, 978298814],\n",
       "       [        2,       589,         4, 978299773],\n",
       "       [        2,      1690,         3, 978300051],\n",
       "       [        2,      3654,         3, 978298814],\n",
       "       [        2,      2852,         3, 978298958],\n",
       "       [        2,      1945,         5, 978298458],\n",
       "       [        2,       982,         4, 978299269],\n",
       "       [        2,      1873,         4, 978298542],\n",
       "       [        2,      2858,         4, 978298434],\n",
       "       [        2,      1225,         5, 978298391],\n",
       "       [        2,      2028,         4, 978299773],\n",
       "       [        2,       515,         5, 978298542],\n",
       "       [        2,       442,         3, 978300025],\n",
       "       [        2,      2312,         3, 978299046],\n",
       "       [        2,       265,         4, 978299026],\n",
       "       [        2,      1408,         3, 978299839],\n",
       "       [        2,      1084,         3, 978298813],\n",
       "       [        2,      3699,         2, 978299173],\n",
       "       [        2,       480,         5, 978299809],\n",
       "       [        2,      1442,         4, 978299297],\n",
       "       [        2,      2067,         5, 978298625],\n",
       "       [        2,      1265,         3, 978299712],\n",
       "       [        2,      1370,         5, 978299889],\n",
       "       [        2,      1193,         5, 978298413],\n",
       "       [        2,      1801,         3, 978300002],\n",
       "       [        2,      1372,         3, 978299941],\n",
       "       [        2,      2353,         4, 978299861],\n",
       "       [        2,      3334,         4, 978298958],\n",
       "       [        2,      2427,         2, 978299913],\n",
       "       [        2,       590,         5, 978299083],\n",
       "       [        2,      1196,         5, 978298730],\n",
       "       [        2,      1552,         3, 978299941],\n",
       "       [        2,       736,         4, 978300100],\n",
       "       [        2,      1198,         4, 978298124],\n",
       "       [        2,       593,         5, 978298517],\n",
       "       [        2,      2359,         3, 978299666],\n",
       "       [        2,        95,         2, 978300143],\n",
       "       [        2,      2717,         3, 978298196],\n",
       "       [        2,      2571,         4, 978299773],\n",
       "       [        2,      1917,         3, 978300174],\n",
       "       [        2,      2396,         4, 978299641],\n",
       "       [        2,      3735,         3, 978298814],\n",
       "       [        2,      1953,         4, 978298775],\n",
       "       [        2,      1597,         3, 978300025],\n",
       "       [        2,      3809,         3, 978299712],\n",
       "       [        2,      1954,         5, 978298841],\n",
       "       [        2,      1955,         4, 978299200],\n",
       "       [        2,       235,         3, 978299351],\n",
       "       [        2,      1124,         5, 978299418],\n",
       "       [        2,      1957,         5, 978298750],\n",
       "       [        2,       163,         4, 978299809],\n",
       "       [        2,        21,         1, 978299839],\n",
       "       [        2,       165,         3, 978300002],\n",
       "       [        2,      2321,         3, 978299666],\n",
       "       [        2,      1090,         2, 978298580],\n",
       "       [        2,       380,         5, 978299809],\n",
       "       [        2,      2501,         5, 978298600],\n",
       "       [        2,       349,         4, 978299839],\n",
       "       [        2,       457,         4, 978299773],\n",
       "       [        2,      1096,         4, 978299386],\n",
       "       [        2,       920,         5, 978298775],\n",
       "       [        2,       459,         3, 978300002],\n",
       "       [        2,      1527,         4, 978299839],\n",
       "       [        2,      3418,         4, 978299809],\n",
       "       [        2,      1385,         3, 978299966],\n",
       "       [        2,      3451,         4, 978298924],\n",
       "       [        2,      3095,         4, 978298517],\n",
       "       [        2,       780,         3, 978299966],\n",
       "       [        2,       498,         3, 978299418],\n",
       "       [        2,      2728,         3, 978298881],\n",
       "       [        2,      2002,         5, 978300100],\n",
       "       [        2,      1962,         5, 978298813],\n",
       "       [        2,      1784,         5, 978298841],\n",
       "       [        2,      2943,         4, 978298372],\n",
       "       [        2,      2006,         3, 978299861],\n",
       "       [        2,       318,         5, 978298413],\n",
       "       [        2,      1207,         4, 978298478],\n",
       "       [        2,      1968,         2, 978298881],\n",
       "       [        2,      3678,         3, 978299250],\n",
       "       [        2,      1244,         3, 978299143],\n",
       "       [        2,       356,         5, 978299686],\n",
       "       [        2,      1245,         2, 978299200],\n",
       "       [        2,      1246,         5, 978299418],\n",
       "       [        2,      3893,         1, 978299535],\n",
       "       [        2,      1247,         5, 978298652]])"
      ]
     },
     "execution_count": 84,
     "metadata": {},
     "output_type": "execute_result"
    }
   ],
   "source": [
    "rating[rating[:,0] == 2]"
   ]
  },
  {
   "cell_type": "code",
   "execution_count": 85,
   "id": "9a6c5b35",
   "metadata": {},
   "outputs": [
    {
     "data": {
      "text/plain": [
       "array([[        2,      1357,         5, 978298709],\n",
       "       [        2,      3068,         4, 978299000],\n",
       "       [        2,      1537,         4, 978299620],\n",
       "       [        2,       647,         3, 978299351],\n",
       "       [        2,      2194,         4, 978299297]])"
      ]
     },
     "execution_count": 85,
     "metadata": {},
     "output_type": "execute_result"
    }
   ],
   "source": [
    "user2 = rating[rating[:,0] == 2]\n",
    "user2[:5, :]"
   ]
  },
  {
   "cell_type": "code",
   "execution_count": 86,
   "id": "85b2a1dd",
   "metadata": {},
   "outputs": [
    {
     "data": {
      "text/plain": [
       "'user id 가 2인 사람의 평점의 평균은? 3.71'"
      ]
     },
     "execution_count": 86,
     "metadata": {},
     "output_type": "execute_result"
    }
   ],
   "source": [
    "f'user id 가 2인 사람의 평점의 평균은? {user2[:, 2].mean():.2f}'"
   ]
  },
  {
   "cell_type": "markdown",
   "id": "2713eeaf",
   "metadata": {},
   "source": [
    "f' 문자열 ...{변수:포맷팅} ...'  -> 파이썬 3. 6 이상부터 지원"
   ]
  },
  {
   "cell_type": "markdown",
   "id": "1f728a35",
   "metadata": {},
   "source": [
    "-np.savetxt\n",
    "\n",
    "파일 저장)\n",
    "np.savetxt('파일경로', 배열이름, fmt='포맷형식', delimiter='구분자')"
   ]
  },
  {
   "cell_type": "code",
   "execution_count": 87,
   "id": "f8beb734",
   "metadata": {},
   "outputs": [
    {
     "data": {
      "text/plain": [
       "100"
      ]
     },
     "execution_count": 87,
     "metadata": {},
     "output_type": "execute_result"
    }
   ],
   "source": [
    "#100개의 데이터만 output 폴더 안에 csv 파일 형태로 저장하기\n",
    "rating100 = rating[:100, :]\n",
    "len(rating100)"
   ]
  },
  {
   "cell_type": "code",
   "execution_count": 88,
   "id": "af733f57",
   "metadata": {},
   "outputs": [],
   "source": [
    "import os\n",
    "\n",
    "try:\n",
    "    # 현재 폴더를 기준으로 폴더 생성 \n",
    "    os.mkdir('output')\n",
    "except:\n",
    "    print('폴더가 이미 생성되었어요 !!! ')"
   ]
  },
  {
   "cell_type": "code",
   "execution_count": 89,
   "id": "fc53f12f",
   "metadata": {},
   "outputs": [
    {
     "name": "stdout",
     "output_type": "stream",
     "text": [
      " C 드라이브의 볼륨에는 이름이 없습니다.\n",
      " 볼륨 일련 번호: E070-A7AC\n",
      "\n",
      " C:\\numpy\\data 디렉터리\n",
      "\n",
      "2021-11-24  오후 02:29    <DIR>          .\n",
      "2021-11-24  오후 02:29    <DIR>          ..\n",
      "2021-11-24  오전 09:41    <DIR>          .ipynb_checkpoints\n",
      "2021-11-23  오후 05:47            77,056 211123.ipynb\n",
      "2021-11-24  오후 02:29            33,294 211124.ipynb\n",
      "2021-11-23  오전 12:12             3,088 births.txt\n",
      "2021-11-23  오전 12:25            35,455 Jeju2021.csv\n",
      "2016-07-17  오후 09:46           171,308 movies.dat\n",
      "2021-11-24  오전 09:15            15,388 Numpy_Quiz.ipynb\n",
      "2021-11-24  오후 02:29    <DIR>          output\n",
      "2018-04-24  오전 10:42        24,594,131 ratings.dat\n",
      "2019-03-20  오전 10:54         1,185,149 seoul.csv\n",
      "2021-01-31  오후 08:49            93,805 seoul2021.csv\n",
      "               9개 파일          26,208,674 바이트\n",
      "               4개 디렉터리  454,222,753,792 바이트 남음\n"
     ]
    }
   ],
   "source": [
    "ls"
   ]
  },
  {
   "cell_type": "code",
   "execution_count": 90,
   "id": "63ba9419",
   "metadata": {},
   "outputs": [],
   "source": [
    "np.savetxt('output/rating100.csv', rating100, delimiter=',')"
   ]
  },
  {
   "cell_type": "code",
   "execution_count": 91,
   "id": "d7e971c9",
   "metadata": {},
   "outputs": [
    {
     "name": "stdout",
     "output_type": "stream",
     "text": [
      " C 드라이브의 볼륨에는 이름이 없습니다.\n",
      " 볼륨 일련 번호: E070-A7AC\n",
      "\n",
      " C:\\numpy\\data\\output 디렉터리\n",
      "\n",
      "2021-11-24  오후 02:33    <DIR>          .\n",
      "2021-11-24  오후 02:33    <DIR>          ..\n",
      "2021-11-24  오후 02:33            10,100 rating100.csv\n",
      "               1개 파일              10,100 바이트\n",
      "               2개 디렉터리  454,222,348,288 바이트 남음\n"
     ]
    }
   ],
   "source": [
    "ls output"
   ]
  },
  {
   "cell_type": "code",
   "execution_count": 92,
   "id": "20460ee1",
   "metadata": {},
   "outputs": [],
   "source": [
    "# np.savetxt('output/rating100.csv', rating100, delimiter=',', fmt='%.2f')\n",
    "np.savetxt('output/rating100.csv', rating100, delimiter=',', fmt='%d')"
   ]
  },
  {
   "cell_type": "markdown",
   "id": "47904764",
   "metadata": {},
   "source": [
    "pandas"
   ]
  },
  {
   "cell_type": "code",
   "execution_count": 4,
   "id": "58a2ebc0",
   "metadata": {},
   "outputs": [],
   "source": [
    "import pandas as pd"
   ]
  },
  {
   "cell_type": "code",
   "execution_count": 94,
   "id": "81dd021c",
   "metadata": {},
   "outputs": [
    {
     "data": {
      "text/plain": [
       "'1.2.4'"
      ]
     },
     "execution_count": 94,
     "metadata": {},
     "output_type": "execute_result"
    }
   ],
   "source": [
    "pd.__version__"
   ]
  },
  {
   "cell_type": "markdown",
   "id": "c35fb69e",
   "metadata": {},
   "source": [
    "-pandas 자료 구조\n",
    "\n",
    "넘파이 < 시리즈 < 데이터프레임\n",
    "시리즈\n",
    "데이터프레임"
   ]
  },
  {
   "cell_type": "markdown",
   "id": "e31e2d8b",
   "metadata": {},
   "source": [
    "-시리즈(Series)\n",
    ": 리스트와 딕셔너리 두가지의 장점을 섞어놓은 듯한 자료구조\n",
    "리스트나 튜플처럼 숫자인덱싱\n",
    "딕셔너리와 같이 키인덱싱\n",
    "\n",
    "pd.Series(data=리스트/튜플/넘파이배열/딕셔너리, index=인덱스리스트)"
   ]
  },
  {
   "cell_type": "code",
   "execution_count": 96,
   "id": "4120aaee",
   "metadata": {},
   "outputs": [],
   "source": [
    "pd.Series?"
   ]
  },
  {
   "cell_type": "code",
   "execution_count": 102,
   "id": "6463dbc9",
   "metadata": {},
   "outputs": [
    {
     "data": {
      "text/plain": [
       "a    1\n",
       "b    2\n",
       "c    3\n",
       "d    4\n",
       "e    5\n",
       "dtype: int64"
      ]
     },
     "execution_count": 102,
     "metadata": {},
     "output_type": "execute_result"
    }
   ],
   "source": [
    "#딕셔너리 -> 시리즈\n",
    "mydict = {'a':1, 'b':2, 'c':3, 'd':4, 'e':5}\n",
    "s1 = pd.Series(data=mydict)\n",
    "s1"
   ]
  },
  {
   "cell_type": "code",
   "execution_count": 99,
   "id": "649c061b",
   "metadata": {},
   "outputs": [
    {
     "data": {
      "text/plain": [
       "pandas.core.series.Series"
      ]
     },
     "execution_count": 99,
     "metadata": {},
     "output_type": "execute_result"
    }
   ],
   "source": [
    "type(s1)"
   ]
  },
  {
   "cell_type": "code",
   "execution_count": 100,
   "id": "fb923a67",
   "metadata": {},
   "outputs": [
    {
     "data": {
      "text/plain": [
       "3"
      ]
     },
     "execution_count": 100,
     "metadata": {},
     "output_type": "execute_result"
    }
   ],
   "source": [
    "len(s1)"
   ]
  },
  {
   "cell_type": "code",
   "execution_count": 104,
   "id": "580a8049",
   "metadata": {},
   "outputs": [
    {
     "data": {
      "text/plain": [
       "(1, 1, 5)"
      ]
     },
     "execution_count": 104,
     "metadata": {},
     "output_type": "execute_result"
    }
   ],
   "source": [
    "#인덱싱\n",
    "s1['a'], s1[0], s1[-1]"
   ]
  },
  {
   "cell_type": "code",
   "execution_count": 107,
   "id": "183df2f3",
   "metadata": {},
   "outputs": [
    {
     "name": "stdout",
     "output_type": "stream",
     "text": [
      "a    1\n",
      "b    2\n",
      "dtype: int64\n",
      "\n",
      "a    1\n",
      "b    2\n",
      "c    3\n",
      "dtype: int64\n",
      "\n",
      "a    1\n",
      "c    3\n",
      "e    5\n",
      "dtype: int64\n",
      "\n",
      "e    5\n",
      "d    4\n",
      "c    3\n",
      "b    2\n",
      "a    1\n",
      "dtype: int64\n",
      "\n",
      "a    1\n",
      "d    4\n",
      "a    1\n",
      "b    2\n",
      "dtype: int64\n"
     ]
    }
   ],
   "source": [
    "#슬라이싱\n",
    "print(s1[:2])\n",
    "print()\n",
    "print(s1['a':'c'])\n",
    "print()\n",
    "print(s1[::2])\n",
    "print()\n",
    "print(s1[::-1])\n",
    "print()\n",
    "# 불연속인 데이타 출력 \n",
    "# 시리즈명[[인덱스1, 인덱스2 .... ]]\n",
    "print(s1[[0,3,0, 1]])"
   ]
  },
  {
   "cell_type": "code",
   "execution_count": 108,
   "id": "b3c5c00e",
   "metadata": {},
   "outputs": [
    {
     "data": {
      "text/plain": [
       "array([10,  9,  8,  7,  6,  5,  4,  3,  2,  1])"
      ]
     },
     "execution_count": 108,
     "metadata": {},
     "output_type": "execute_result"
    }
   ],
   "source": [
    "#넘파이배열 -> 시리즈\n",
    "matrix = np.arange(10, 0, -1)\n",
    "matrix"
   ]
  },
  {
   "cell_type": "code",
   "execution_count": 109,
   "id": "0b3be0bb",
   "metadata": {},
   "outputs": [
    {
     "data": {
      "text/plain": [
       "0    10\n",
       "1     9\n",
       "2     8\n",
       "3     7\n",
       "4     6\n",
       "5     5\n",
       "6     4\n",
       "7     3\n",
       "8     2\n",
       "9     1\n",
       "dtype: int32"
      ]
     },
     "execution_count": 109,
     "metadata": {},
     "output_type": "execute_result"
    }
   ],
   "source": [
    "s2 = pd.Series(data=matrix)\n",
    "s2"
   ]
  },
  {
   "cell_type": "code",
   "execution_count": 112,
   "id": "f0feb8e0",
   "metadata": {},
   "outputs": [
    {
     "data": {
      "text/plain": [
       "(55, 5.5, 5.5, 1, 10)"
      ]
     },
     "execution_count": 112,
     "metadata": {},
     "output_type": "execute_result"
    }
   ],
   "source": [
    "np.sum(s2), np.mean(s2), np.median(s2), np.min(s2), np.max(s2)"
   ]
  },
  {
   "cell_type": "code",
   "execution_count": 113,
   "id": "980de3c0",
   "metadata": {},
   "outputs": [
    {
     "data": {
      "text/plain": [
       "('가', '나', True, 100, 3.14)"
      ]
     },
     "execution_count": 113,
     "metadata": {},
     "output_type": "execute_result"
    }
   ],
   "source": [
    "#튜플 -> 시리즈\n",
    "# 시리즈의 데이터형은 혼합형이 가능하다. \n",
    "# 혼합형은 object\n",
    "myTuple = ('가', '나', True, 100, 3.14)\n",
    "myTuple"
   ]
  },
  {
   "cell_type": "code",
   "execution_count": 114,
   "id": "9217f9fd",
   "metadata": {},
   "outputs": [
    {
     "data": {
      "text/plain": [
       "0       가\n",
       "1       나\n",
       "2    True\n",
       "3     100\n",
       "4    3.14\n",
       "dtype: object"
      ]
     },
     "execution_count": 114,
     "metadata": {},
     "output_type": "execute_result"
    }
   ],
   "source": [
    "s3 = pd.Series(data=myTuple)\n",
    "s3"
   ]
  },
  {
   "cell_type": "code",
   "execution_count": 117,
   "id": "eff32cf8",
   "metadata": {},
   "outputs": [
    {
     "data": {
      "text/plain": [
       "(str, bool, int)"
      ]
     },
     "execution_count": 117,
     "metadata": {},
     "output_type": "execute_result"
    }
   ],
   "source": [
    "type(s3[1]), type(s3[2]), type(s3[3])"
   ]
  },
  {
   "cell_type": "code",
   "execution_count": 118,
   "id": "7b31e6d2",
   "metadata": {},
   "outputs": [
    {
     "data": {
      "text/plain": [
       "(dtype('O'),\n",
       " array(['가', '나', True, 100, 3.14], dtype=object),\n",
       " RangeIndex(start=0, stop=5, step=1))"
      ]
     },
     "execution_count": 118,
     "metadata": {},
     "output_type": "execute_result"
    }
   ],
   "source": [
    "s3.dtype, s3.values, s3.index"
   ]
  },
  {
   "cell_type": "markdown",
   "id": "782d7aae",
   "metadata": {},
   "source": [
    "-시리즈 속성\n",
    "dtype : 데이터형 확인\n",
    "values : 값만 넘파이배열 형태로 출력\n",
    "index : 시리즈의 인덱스값만 리스트 형태로 출력"
   ]
  },
  {
   "cell_type": "code",
   "execution_count": 119,
   "id": "711390f0",
   "metadata": {},
   "outputs": [
    {
     "data": {
      "text/plain": [
       "(['a', 'b', 'c', 'd', 'e'], ('a', 'b', 'c', 'd', 'e'))"
      ]
     },
     "execution_count": 119,
     "metadata": {},
     "output_type": "execute_result"
    }
   ],
   "source": [
    "list(s1.index), tuple(s1.index)"
   ]
  },
  {
   "cell_type": "markdown",
   "id": "ff08391d",
   "metadata": {},
   "source": [
    "-인덱스 이름, 시리즈 이름 지정\n",
    "\n",
    "시리즈명.index.name=인덱스이름\n",
    "시리즈명.name=시리즈이름\n",
    "시리즈명.index=리스트"
   ]
  },
  {
   "cell_type": "code",
   "execution_count": 126,
   "id": "64cea413",
   "metadata": {},
   "outputs": [
    {
     "data": {
      "text/plain": [
       "회원\n",
       "Charles    35000\n",
       "Julia      71000\n",
       "Hayoung    16000\n",
       "Sangjae     5000\n",
       "Name: 보너스, dtype: int64"
      ]
     },
     "execution_count": 126,
     "metadata": {},
     "output_type": "execute_result"
    }
   ],
   "source": [
    "#딕셔너리 -> 시리즈\n",
    "sdata = {\"Charles\": 35000, \"Julia\":71000, \"Hayoung\":16000, \"Sangjae\":5000}\n",
    "s4 = pd.Series(sdata, name=\"보너스\")\n",
    "s4.index.name=\"회원\"\n",
    "s4"
   ]
  },
  {
   "cell_type": "code",
   "execution_count": 127,
   "id": "5286e205",
   "metadata": {},
   "outputs": [
    {
     "data": {
      "text/plain": [
       "회원\n",
       "Charles    35000\n",
       "Julia      71000\n",
       "Hayoung    16000\n",
       "Sangjae     5000\n",
       "Name: 상여금, dtype: int64"
      ]
     },
     "execution_count": 127,
     "metadata": {},
     "output_type": "execute_result"
    }
   ],
   "source": [
    "s4.name = \"상여금\"\n",
    "s4"
   ]
  },
  {
   "cell_type": "code",
   "execution_count": 130,
   "id": "53273ca8",
   "metadata": {},
   "outputs": [
    {
     "data": {
      "text/plain": [
       "메뉴1       라면\n",
       "메뉴2      짜장면\n",
       "메뉴3       짬뽕\n",
       "메뉴4    로제떡볶이\n",
       "dtype: object"
      ]
     },
     "execution_count": 130,
     "metadata": {},
     "output_type": "execute_result"
    }
   ],
   "source": [
    "#리스트 -> 시리즈\n",
    "#인덱스명은 별도 설정\n",
    "myList = ['라면', '짜장면','짬뽕','로제떡볶이']\n",
    "s5 = pd.Series(myList, index=['메뉴1', '메뉴2', '메뉴3', '메뉴4'])\n",
    "s5"
   ]
  },
  {
   "cell_type": "code",
   "execution_count": 131,
   "id": "d10e5247",
   "metadata": {},
   "outputs": [
    {
     "data": {
      "text/plain": [
       "'짬뽕'"
      ]
     },
     "execution_count": 131,
     "metadata": {},
     "output_type": "execute_result"
    }
   ],
   "source": [
    "s5['메뉴3']"
   ]
  },
  {
   "cell_type": "markdown",
   "id": "ff330c0a",
   "metadata": {},
   "source": [
    "Quiz 1\n",
    "1) 딕셔너리 생성 \n",
    "   {'a': 'apart', 'b': 'banana', 'c': 'cat'}\n",
    "2) 리스트 생성 \n",
    "  ['아파트', '바나나', '고양이']\n",
    "3) 1번의 키값 + 2번의 데이타 => 시리즈생성 \n",
    "  'a'   '아파트'\n",
    "  'b'   '바나나'\n",
    "  'c'   '고양이'\n",
    "Quiz 2\n",
    "아래와 같은 형태로 시리즈를 생성하고 평균값을 출력하여라\n",
    "\n",
    "과목 \n",
    "---------\n",
    "국어    90\n",
    "수학    80\n",
    "영어    100\n",
    "과학    55\n",
    "역사    70 \n",
    "Name:중간고사성적표, dtype=?\n",
    "---------\n",
    "평균 = ?"
   ]
  },
  {
   "cell_type": "code",
   "execution_count": 6,
   "id": "9c724117",
   "metadata": {},
   "outputs": [
    {
     "data": {
      "text/plain": [
       "{'a': 'apart', 'b': 'banana', 'c': 'cat'}"
      ]
     },
     "execution_count": 6,
     "metadata": {},
     "output_type": "execute_result"
    }
   ],
   "source": [
    "dic = {'a': 'apart', 'b': 'banana', 'c': 'cat'}\n",
    "dic"
   ]
  },
  {
   "cell_type": "code",
   "execution_count": 7,
   "id": "428ce737",
   "metadata": {},
   "outputs": [
    {
     "data": {
      "text/plain": [
       "['아파트', '바나나', '고양이']"
      ]
     },
     "execution_count": 7,
     "metadata": {},
     "output_type": "execute_result"
    }
   ],
   "source": [
    "list = ['아파트', '바나나', '고양이']\n",
    "list"
   ]
  },
  {
   "cell_type": "code",
   "execution_count": 8,
   "id": "944b198b",
   "metadata": {},
   "outputs": [
    {
     "data": {
      "text/plain": [
       "a    아파트\n",
       "b    바나나\n",
       "c    고양이\n",
       "dtype: object"
      ]
     },
     "execution_count": 8,
     "metadata": {},
     "output_type": "execute_result"
    }
   ],
   "source": [
    "s6 = pd.Series(list, index=dic.keys())\n",
    "s6"
   ]
  },
  {
   "cell_type": "code",
   "execution_count": 141,
   "id": "b6a387ff",
   "metadata": {},
   "outputs": [
    {
     "name": "stdout",
     "output_type": "stream",
     "text": [
      "----------\n",
      "과목\n",
      "국어     90\n",
      "수학     80\n",
      "영어    100\n",
      "과학     55\n",
      "역사     70\n",
      "Name: 중간고사성적표, dtype: int64\n",
      "----------\n",
      "평균 : 79.0\n"
     ]
    }
   ],
   "source": [
    "sb = {\"국어\": 90, \"수학\":80, \"영어\":100, \"과학\":55, \"역사\": 70}\n",
    "s7 = pd.Series(sb, name=\"중간고사성적표\")\n",
    "s7.index.name=\"과목\"\n",
    "print(\"-\"*10)\n",
    "print(s7)\n",
    "print(\"-\"*10)\n",
    "print(\"평균 :\", sum(s7[:])/len(s7))"
   ]
  },
  {
   "cell_type": "code",
   "execution_count": 9,
   "id": "6a92682c",
   "metadata": {},
   "outputs": [
    {
     "name": "stdout",
     "output_type": "stream",
     "text": [
      "과목\n",
      "국어     90\n",
      "수학     80\n",
      "영어    100\n",
      "과학     55\n",
      "역사     70\n",
      "Name: 중간고사성적표, dtype: int64\n",
      "---------\n",
      "평균 = 79.0\n"
     ]
    }
   ],
   "source": [
    "score = {'국어':90,'수학':80,'영어':100,'과학':55,'역사':70}\n",
    "pd_ave = pd.Series(score)\n",
    "pd_ave.name = '중간고사성적표'\n",
    "pd_ave.index.name = '과목'\n",
    "# ave=0\n",
    "# for i in pd_ave:\n",
    "#     ave = ave + i\n",
    "print(pd_ave)\n",
    "print(\"---------\")\n",
    "# print(\"평균 =\",ave/len(pd_ave))\n",
    "print(\"평균 =\", pd_ave.mean())"
   ]
  },
  {
   "cell_type": "code",
   "execution_count": null,
   "id": "3d546809",
   "metadata": {},
   "outputs": [],
   "source": []
  },
  {
   "cell_type": "code",
   "execution_count": null,
   "id": "8baa3ab6",
   "metadata": {},
   "outputs": [],
   "source": []
  }
 ],
 "metadata": {
  "kernelspec": {
   "display_name": "Python 3",
   "language": "python",
   "name": "python3"
  },
  "language_info": {
   "codemirror_mode": {
    "name": "ipython",
    "version": 3
   },
   "file_extension": ".py",
   "mimetype": "text/x-python",
   "name": "python",
   "nbconvert_exporter": "python",
   "pygments_lexer": "ipython3",
   "version": "3.8.8"
  }
 },
 "nbformat": 4,
 "nbformat_minor": 5
}
