{
 "cells": [
  {
   "cell_type": "code",
   "execution_count": 4,
   "id": "bc76b7a1",
   "metadata": {},
   "outputs": [],
   "source": [
    "import pandas as pd\n",
    "from pyspark import SparkContext\n",
    "from pyspark.sql import SQLContext, Row\n",
    "\n",
    "from pyspark.sql.functions import when, udf, col, regexp_replace\n",
    "from pyspark.sql.types import DoubleType,IntegerType, StringType\n",
    "import pyspark.sql.functions as f"
   ]
  },
  {
   "cell_type": "code",
   "execution_count": 2,
   "id": "24d26d60",
   "metadata": {},
   "outputs": [],
   "source": [
    "sc = SparkContext( 'local' )\n",
    "sqlCtx = SQLContext( sc )"
   ]
  },
  {
   "cell_type": "code",
   "execution_count": 3,
   "id": "b86d95b3",
   "metadata": {},
   "outputs": [
    {
     "data": {
      "text/plain": [
       "DataFrame[관서명: string, 살인 발생: int, 살인 검거: int, 강도 발생: int, 강도 검거: int, 강간 발생: int, 강간 검거: int, 절도 발생: string, 절도 검거: string, 폭력 발생: string, 폭력 검거: string]"
      ]
     },
     "execution_count": 3,
     "metadata": {},
     "output_type": "execute_result"
    }
   ],
   "source": [
    "df = sqlCtx.read.csv( 'data/crime_in_seoul.csv',encoding='euc-kr',\n",
    "                    header=True, inferSchema=True)\n",
    "df"
   ]
  },
  {
   "cell_type": "code",
   "execution_count": 5,
   "id": "68b4309b",
   "metadata": {
    "collapsed": true
   },
   "outputs": [
    {
     "name": "stdout",
     "output_type": "stream",
     "text": [
      "+--------+\n",
      "|  관서명|\n",
      "+--------+\n",
      "|  중부서|\n",
      "|  종로서|\n",
      "|남대문서|\n",
      "|서대문서|\n",
      "|  혜화서|\n",
      "|  용산서|\n",
      "|  성북서|\n",
      "|동대문서|\n",
      "|  마포서|\n",
      "|영등포서|\n",
      "|  성동서|\n",
      "|  동작서|\n",
      "|  광진서|\n",
      "|  서부서|\n",
      "|  강북서|\n",
      "|  금천서|\n",
      "|  중랑서|\n",
      "|  강남서|\n",
      "|  관악서|\n",
      "|  강서서|\n",
      "+--------+\n",
      "only showing top 20 rows\n",
      "\n"
     ]
    }
   ],
   "source": [
    "df.select('관서명').show()"
   ]
  },
  {
   "cell_type": "code",
   "execution_count": 6,
   "id": "158da6b6",
   "metadata": {
    "collapsed": true
   },
   "outputs": [
    {
     "name": "stdout",
     "output_type": "stream",
     "text": [
      "+--------+\n",
      "|  관서명|\n",
      "+--------+\n",
      "|  중부서|\n",
      "|  종로서|\n",
      "|남대문서|\n",
      "|서대문서|\n",
      "|  혜화서|\n",
      "|  용산서|\n",
      "|  성북서|\n",
      "|동대문서|\n",
      "|  마포서|\n",
      "|영등포서|\n",
      "|  성동서|\n",
      "|  동작서|\n",
      "|  광진서|\n",
      "|  서부서|\n",
      "|  강북서|\n",
      "|  금천서|\n",
      "|  중랑서|\n",
      "|  강남서|\n",
      "|  관악서|\n",
      "|  강서서|\n",
      "+--------+\n",
      "only showing top 20 rows\n",
      "\n"
     ]
    }
   ],
   "source": [
    "df.select( df['관서명'] ).show()"
   ]
  },
  {
   "cell_type": "code",
   "execution_count": 7,
   "id": "e25da226",
   "metadata": {
    "collapsed": true
   },
   "outputs": [
    {
     "name": "stdout",
     "output_type": "stream",
     "text": [
      "+--------+\n",
      "|      kw|\n",
      "+--------+\n",
      "|  중부서|\n",
      "|  종로서|\n",
      "|남대문서|\n",
      "|서대문서|\n",
      "|  혜화서|\n",
      "|  용산서|\n",
      "|  성북서|\n",
      "|동대문서|\n",
      "|  마포서|\n",
      "|영등포서|\n",
      "|  성동서|\n",
      "|  동작서|\n",
      "|  광진서|\n",
      "|  서부서|\n",
      "|  강북서|\n",
      "|  금천서|\n",
      "|  중랑서|\n",
      "|  강남서|\n",
      "|  관악서|\n",
      "|  강서서|\n",
      "+--------+\n",
      "only showing top 20 rows\n",
      "\n"
     ]
    }
   ],
   "source": [
    "df.select( df['관서명'].alias('kw') ).show()"
   ]
  },
  {
   "cell_type": "code",
   "execution_count": 10,
   "id": "0964089d",
   "metadata": {},
   "outputs": [
    {
     "name": "stdout",
     "output_type": "stream",
     "text": [
      "+--------------+\n",
      "|max(살인 발생)|\n",
      "+--------------+\n",
      "|            14|\n",
      "+--------------+\n",
      "\n"
     ]
    }
   ],
   "source": [
    "df.select( f.max( df['살인 발생'] ) ).show()"
   ]
  },
  {
   "cell_type": "code",
   "execution_count": 11,
   "id": "d5760d29",
   "metadata": {},
   "outputs": [
    {
     "name": "stdout",
     "output_type": "stream",
     "text": [
      "+-----------------+\n",
      "|   avg(살인 발생)|\n",
      "+-----------------+\n",
      "|5.258064516129032|\n",
      "+-----------------+\n",
      "\n"
     ]
    }
   ],
   "source": [
    "df.select( f.avg( df['살인 발생'] ) ).show()"
   ]
  },
  {
   "cell_type": "code",
   "execution_count": 12,
   "id": "e19d9aee",
   "metadata": {},
   "outputs": [
    {
     "name": "stdout",
     "output_type": "stream",
     "text": [
      "+--------------+-----------------+\n",
      "|max(살인 발생)|   avg(살인 발생)|\n",
      "+--------------+-----------------+\n",
      "|            14|5.258064516129032|\n",
      "+--------------+-----------------+\n",
      "\n"
     ]
    }
   ],
   "source": [
    "df.select( f.max( df['살인 발생'] ), f.avg( df['살인 발생'] ) ).show()"
   ]
  },
  {
   "cell_type": "code",
   "execution_count": 14,
   "id": "b5a7d031",
   "metadata": {},
   "outputs": [
    {
     "name": "stdout",
     "output_type": "stream",
     "text": [
      "+-----------------+\n",
      "|   avg(살인 발생)|\n",
      "+-----------------+\n",
      "|5.258064516129032|\n",
      "+-----------------+\n",
      "\n"
     ]
    }
   ],
   "source": [
    "df.agg( f.avg( df['살인 발생'] ) ).show()"
   ]
  },
  {
   "cell_type": "code",
   "execution_count": 17,
   "id": "b37de703",
   "metadata": {},
   "outputs": [
    {
     "name": "stdout",
     "output_type": "stream",
     "text": [
      "+--------------+-----------------+\n",
      "|max(살인 발생)|   avg(살인 검거)|\n",
      "+--------------+-----------------+\n",
      "|            14|4.935483870967742|\n",
      "+--------------+-----------------+\n",
      "\n"
     ]
    }
   ],
   "source": [
    "df.agg( {'살인 발생' : 'max', '살인 검거' : 'avg'} ).show() #딕셔너리 형식에선 동일한 컬럼 2개 이상 출력 불가"
   ]
  },
  {
   "cell_type": "code",
   "execution_count": 18,
   "id": "e84d7d57",
   "metadata": {},
   "outputs": [
    {
     "name": "stdout",
     "output_type": "stream",
     "text": [
      "+--------------+-----------------+\n",
      "|max(살인 발생)|   avg(살인 검거)|\n",
      "+--------------+-----------------+\n",
      "|            14|4.935483870967742|\n",
      "+--------------+-----------------+\n",
      "\n"
     ]
    }
   ],
   "source": [
    "gdf = df.agg( {'살인 발생' : 'max', '살인 검거' : 'avg'} )\n",
    "gdf.show()"
   ]
  },
  {
   "cell_type": "code",
   "execution_count": 20,
   "id": "0051ef60",
   "metadata": {},
   "outputs": [
    {
     "data": {
      "text/plain": [
       "[Row(max(살인 발생)=14, avg(살인 검거)=4.935483870967742)]"
      ]
     },
     "execution_count": 20,
     "metadata": {},
     "output_type": "execute_result"
    }
   ],
   "source": [
    "gdf.rdd.collect() #row 객체"
   ]
  },
  {
   "cell_type": "code",
   "execution_count": 22,
   "id": "8a028dae",
   "metadata": {},
   "outputs": [
    {
     "name": "stdout",
     "output_type": "stream",
     "text": [
      "+----+----+\n",
      "|최고|평균|\n",
      "+----+----+\n",
      "|  14|5.26|\n",
      "+----+----+\n",
      "\n"
     ]
    }
   ],
   "source": [
    "df.select( f.max('살인 발생').alias('최고'), f.round( f.avg( '살인 발생' ), 2 ).alias('평균') ).show()"
   ]
  },
  {
   "cell_type": "code",
   "execution_count": 23,
   "id": "835bb10d",
   "metadata": {},
   "outputs": [
    {
     "data": {
      "text/plain": [
       "Row(a=1, b=2, c=3)"
      ]
     },
     "execution_count": 23,
     "metadata": {},
     "output_type": "execute_result"
    }
   ],
   "source": [
    "rw = Row(a=1, b=2, c=3) #딕셔너리는 아니지만 딕셔너리처럼 키:값 으로 이루어짐\n",
    "rw"
   ]
  },
  {
   "cell_type": "code",
   "execution_count": 24,
   "id": "45bc97de",
   "metadata": {},
   "outputs": [
    {
     "data": {
      "text/plain": [
       "pyspark.sql.types.Row"
      ]
     },
     "execution_count": 24,
     "metadata": {},
     "output_type": "execute_result"
    }
   ],
   "source": [
    "type(rw)"
   ]
  },
  {
   "cell_type": "code",
   "execution_count": 25,
   "id": "432850df",
   "metadata": {},
   "outputs": [
    {
     "data": {
      "text/plain": [
       "1"
      ]
     },
     "execution_count": 25,
     "metadata": {},
     "output_type": "execute_result"
    }
   ],
   "source": [
    "rw['a']"
   ]
  },
  {
   "cell_type": "code",
   "execution_count": 26,
   "id": "340b85d8",
   "metadata": {},
   "outputs": [
    {
     "data": {
      "text/plain": [
       "{'a': 1, 'b': 2, 'c': 3}"
      ]
     },
     "execution_count": 26,
     "metadata": {},
     "output_type": "execute_result"
    }
   ],
   "source": [
    "rw.asDict()"
   ]
  },
  {
   "cell_type": "code",
   "execution_count": 30,
   "id": "b951afe2",
   "metadata": {},
   "outputs": [],
   "source": [
    "gdf = df.select( f.max('살인 발생').alias('최고'), \n",
    "                f.round( f.avg( '살인 발생' ), 2 ).alias('평균') )"
   ]
  },
  {
   "cell_type": "code",
   "execution_count": 31,
   "id": "3beb3e26",
   "metadata": {},
   "outputs": [
    {
     "data": {
      "text/plain": [
       "[Row(최고=14, 평균=5.26)]"
      ]
     },
     "execution_count": 31,
     "metadata": {},
     "output_type": "execute_result"
    }
   ],
   "source": [
    "gdf.rdd.collect() #row로 구성된 분산 리스트 반환"
   ]
  },
  {
   "cell_type": "code",
   "execution_count": 36,
   "id": "ddd38214",
   "metadata": {},
   "outputs": [
    {
     "data": {
      "text/plain": [
       "5.26"
      ]
     },
     "execution_count": 36,
     "metadata": {},
     "output_type": "execute_result"
    }
   ],
   "source": [
    "gdf.rdd.map(lambda v: v['평균']).collect()[0]"
   ]
  },
  {
   "cell_type": "code",
   "execution_count": 32,
   "id": "f2f89c99",
   "metadata": {},
   "outputs": [
    {
     "data": {
      "text/plain": [
       "ParallelCollectionRDD[121] at readRDDFromFile at PythonRDD.scala:262"
      ]
     },
     "execution_count": 32,
     "metadata": {},
     "output_type": "execute_result"
    }
   ],
   "source": [
    "my = [10,20,30,40,50]\n",
    "nRdd = sc.parallelize(my)\n",
    "nRdd"
   ]
  },
  {
   "cell_type": "code",
   "execution_count": 34,
   "id": "d0b64a69",
   "metadata": {},
   "outputs": [
    {
     "data": {
      "text/plain": [
       "[11, 21, 31, 41, 51]"
      ]
     },
     "execution_count": 34,
     "metadata": {},
     "output_type": "execute_result"
    }
   ],
   "source": [
    "nRdd.map(lambda v: v+1).collect()"
   ]
  },
  {
   "cell_type": "code",
   "execution_count": 37,
   "id": "9995f999",
   "metadata": {},
   "outputs": [],
   "source": [
    "ddf = df.select('관서명', '살인 발생')"
   ]
  },
  {
   "cell_type": "code",
   "execution_count": 39,
   "id": "7b8a6128",
   "metadata": {},
   "outputs": [
    {
     "name": "stdout",
     "output_type": "stream",
     "text": [
      "중부서 2\n",
      "종로서 3\n",
      "남대문서 1\n",
      "서대문서 2\n",
      "혜화서 3\n"
     ]
    }
   ],
   "source": [
    "for r in ddf.head(5):\n",
    "    print( r['관서명'], r['살인 발생'] )"
   ]
  },
  {
   "cell_type": "code",
   "execution_count": 42,
   "id": "c8cfaf1f",
   "metadata": {},
   "outputs": [
    {
     "data": {
      "text/plain": [
       "163"
      ]
     },
     "execution_count": 42,
     "metadata": {},
     "output_type": "execute_result"
    }
   ],
   "source": [
    "ddf.rdd.map(lambda v: v['살인 발생']).sum()"
   ]
  },
  {
   "cell_type": "code",
   "execution_count": 43,
   "id": "a9fbdc7b",
   "metadata": {},
   "outputs": [],
   "source": [
    "sc.stop()"
   ]
  }
 ],
 "metadata": {
  "kernelspec": {
   "display_name": "Python 3",
   "language": "python",
   "name": "python3"
  },
  "language_info": {
   "codemirror_mode": {
    "name": "ipython",
    "version": 3
   },
   "file_extension": ".py",
   "mimetype": "text/x-python",
   "name": "python",
   "nbconvert_exporter": "python",
   "pygments_lexer": "ipython3",
   "version": "3.8.8"
  }
 },
 "nbformat": 4,
 "nbformat_minor": 5
}
