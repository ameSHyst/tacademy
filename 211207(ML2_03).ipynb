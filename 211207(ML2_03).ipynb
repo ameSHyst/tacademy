{
 "cells": [
  {
   "cell_type": "code",
   "execution_count": 1,
   "metadata": {},
   "outputs": [],
   "source": [
    "# 주피터 노트북 환경설정\n",
    "import warnings\n",
    "warnings.filterwarnings('ignore')\n",
    "warnings.simplefilter('ignore')\n",
    "\n",
    "from IPython.display import set_matplotlib_formats\n",
    "set_matplotlib_formats(\"retina\")\n",
    "\n",
    "from IPython.display import Image\n",
    "\n",
    "from IPython.core.display import display, HTML\n",
    "#display(HTML(\"<style>.container { font-weight: bold !important; }</style>\"))\n",
    "#display(HTML(\"<style>.container { width: 98% !important; }</style>\"))"
   ]
  },
  {
   "cell_type": "code",
   "execution_count": 2,
   "metadata": {},
   "outputs": [],
   "source": [
    "import numpy as np\n",
    "import pandas as pd\n",
    "import os\n",
    "\n",
    "import matplotlib\n",
    "import matplotlib.pyplot as plt\n",
    "import seaborn as sns\n",
    "\n",
    "%matplotlib inline\n",
    "\n",
    "# 관련 라이브러리 임포트 \n",
    "import matplotlib.font_manager as fm\n",
    "\n",
    "#  한글글꼴로 변경\n",
    "# plt.rcParams['font.family'] = '한글글꼴명'\n",
    "plt.rcParams['font.size'] = 11.0\n",
    "# plt.rcParams['font.family'] = 'batang'\n",
    "plt.rcParams['font.family'] = 'Malgun Gothic'\n",
    "\n",
    "# 그래프에서 마이너스 폰트 깨지는 문제에 대한 대처\n",
    "matplotlib.rcParams['axes.unicode_minus'] = False\n",
    "\n",
    "# 그래프 기본 크기 설정 \n",
    "plt.rcParams['figure.figsize'] = [10, 6]"
   ]
  },
  {
   "cell_type": "markdown",
   "metadata": {},
   "source": [
    "# 교차 검증\n",
    "\n",
    "- 고정된 학습과 테스트 데이터로 평가를 하다보면 테스트 데이터에만 최적의 성능을 낸다. \n",
    "- 데이타 편중 및 과적합(Overfitting) 문제점\n",
    "- 본고사를 치르기전에 모의 고사를 여러번 보는 것과 같은 효과 \n",
    "- K 폴드, Stratified 폴드\n",
    "- cross_val_score( )\n",
    "\n"
   ]
  },
  {
   "cell_type": "markdown",
   "metadata": {},
   "source": [
    "## K 폴드 \n",
    "- 가장 보편적으로 사용되는 교차 검증 기법 \n",
    "- 먼저 K개의 데이터 폴드 세트를 만들어서 K번만큼 각 폴드 세트에 학습과 검증 평가를 반복적으로 수행\n",
    "``` \n",
    " - 폴더 세트 설정 \n",
    " - for 루프에서 반복적으로 학습과 테스트 데이터의 인덱스 추출 \n",
    " - 반복적으로 학습과 예측을 수행하고 예측 성능을 반환한다\n",
    "```\n"
   ]
  },
  {
   "cell_type": "markdown",
   "metadata": {},
   "source": [
    "#### 수행 과정 \n",
    "\n",
    "```\n",
    "(1) 데이타와 라벨로 분리 \n",
    "\n",
    "(2) 모델 생성 \n",
    "\n",
    "(3) kfold 객체 생성 \n",
    "n 은 폴더 갯수 \n",
    "kfold = KFold(n_splits=n)\n",
    "\n",
    "(4) KFold객체의 split( ) 호출 + for 반복문 \n",
    "# 정확도 리스트 \n",
    "cv_accuracy = []\n",
    "\n",
    "# 폴드 별 학습용, 검증용 테스트의 로우 인덱스를 array로 반환\n",
    "for train_index, test_index  in kfold.split(features):\n",
    "    # kfold.split( )으로 반환된 인덱스를 이용하여 학습용, 검증용 테스트 데이터 추출\n",
    "    X_train, X_test = features[train_index], features[test_index]\n",
    "    y_train, y_test = label[train_index], label[test_index]\n",
    "    \n",
    "    # 모델 학습 및 예측 \n",
    "    예측기.fit(X_train , y_train)    \n",
    "    pred = dt_clf.predict(X_test)\n",
    "    \n",
    "    # 반복 시 마다 정확도 측정해서 정확도 리스트에 추가 \n",
    "    accuracy = np.round(accuracy_score(y_test,pred), 4)\n",
    "    cv_accuracy.append(accuracy)\n",
    "\n",
    "# 평균 정확도는?\n",
    "np.mean(cv_accuracy)\n",
    "\n",
    "```\n"
   ]
  },
  {
   "cell_type": "code",
   "execution_count": 3,
   "metadata": {},
   "outputs": [],
   "source": [
    "from sklearn.neighbors import KNeighborsClassifier\n",
    "from sklearn.tree import DecisionTreeClassifier\n",
    "from sklearn.ensemble import RandomForestClassifier\n",
    "from sklearn.linear_model import LogisticRegression\n",
    "\n",
    "from sklearn.metrics import accuracy_score"
   ]
  },
  {
   "cell_type": "markdown",
   "metadata": {},
   "source": [
    "###  5개로 kfold를 지정해서 모델 생성 후 테스트 "
   ]
  },
  {
   "cell_type": "code",
   "execution_count": 4,
   "metadata": {},
   "outputs": [],
   "source": [
    "from sklearn.model_selection import KFold"
   ]
  },
  {
   "cell_type": "code",
   "execution_count": 6,
   "metadata": {},
   "outputs": [
    {
     "name": "stdout",
     "output_type": "stream",
     "text": [
      "['__abstractmethods__', '__class__', '__delattr__', '__dict__', '__dir__', '__doc__', '__eq__', '__format__', '__ge__', '__getattribute__', '__gt__', '__hash__', '__init__', '__init_subclass__', '__le__', '__lt__', '__module__', '__ne__', '__new__', '__reduce__', '__reduce_ex__', '__repr__', '__setattr__', '__sizeof__', '__str__', '__subclasshook__', '__weakref__', '_abc_impl', '_iter_test_indices', '_iter_test_masks', 'get_n_splits', 'split']\n"
     ]
    }
   ],
   "source": [
    "print(dir(KFold))"
   ]
  },
  {
   "cell_type": "code",
   "execution_count": 5,
   "metadata": {},
   "outputs": [],
   "source": [
    "#데이터 준비\n",
    "from sklearn.datasets import load_iris\n",
    "\n",
    "iris = load_iris()\n",
    "#X-data\n",
    "features = iris.data\n",
    "#y-target\n",
    "label = iris.target"
   ]
  },
  {
   "cell_type": "code",
   "execution_count": 7,
   "metadata": {},
   "outputs": [],
   "source": [
    "# model_df = DecisionTreeClassifier(random_state=11)\n",
    "model_kn = KNeighborsClassifier()"
   ]
  },
  {
   "cell_type": "code",
   "execution_count": 8,
   "metadata": {},
   "outputs": [
    {
     "name": "stdout",
     "output_type": "stream",
     "text": [
      "\n",
      "#1 교차 검증 정확도 :1.0, 학습 데이터 크기: 120, 검증 데이터 크기: 30\n",
      "#1 검증 세트 인덱스:[ 0  1  2  3  4  5  6  7  8  9 10 11 12 13 14 15 16 17 18 19 20 21 22 23\n",
      " 24 25 26 27 28 29]\n",
      "\n",
      "#2 교차 검증 정확도 :1.0, 학습 데이터 크기: 120, 검증 데이터 크기: 30\n",
      "#2 검증 세트 인덱스:[30 31 32 33 34 35 36 37 38 39 40 41 42 43 44 45 46 47 48 49 50 51 52 53\n",
      " 54 55 56 57 58 59]\n",
      "\n",
      "#3 교차 검증 정확도 :0.8333, 학습 데이터 크기: 120, 검증 데이터 크기: 30\n",
      "#3 검증 세트 인덱스:[60 61 62 63 64 65 66 67 68 69 70 71 72 73 74 75 76 77 78 79 80 81 82 83\n",
      " 84 85 86 87 88 89]\n",
      "\n",
      "#4 교차 검증 정확도 :0.9333, 학습 데이터 크기: 120, 검증 데이터 크기: 30\n",
      "#4 검증 세트 인덱스:[ 90  91  92  93  94  95  96  97  98  99 100 101 102 103 104 105 106 107\n",
      " 108 109 110 111 112 113 114 115 116 117 118 119]\n",
      "\n",
      "#5 교차 검증 정확도 :0.8, 학습 데이터 크기: 120, 검증 데이터 크기: 30\n",
      "#5 검증 세트 인덱스:[120 121 122 123 124 125 126 127 128 129 130 131 132 133 134 135 136 137\n",
      " 138 139 140 141 142 143 144 145 146 147 148 149]\n",
      "\n",
      "## 평균 검증 정확도: 0.91332\n"
     ]
    }
   ],
   "source": [
    "#kfold(n_splits=?)\n",
    "#? 갯수만큼 서브폴더 생성\n",
    "kfold = KFold(n_splits=5)\n",
    "\n",
    "#정확도 리스트\n",
    "cv_accuracy = []\n",
    "\n",
    "#횟수 저장용 변수 초기화\n",
    "n_iter = 0\n",
    "\n",
    "#kfold.split(X_data)\n",
    "for train_index, test_index  in kfold.split(features):\n",
    "    #학습용, 테스트 데이터 분리\n",
    "    X_train, X_test = features[train_index], features[test_index]\n",
    "    y_train, y_test = label[train_index], label[test_index]\n",
    "    \n",
    "    #모델 학습\n",
    "    model_kn.fit(X_train, y_train)    \n",
    "    pred = model_kn.predict(X_test)\n",
    "    n_iter += 1\n",
    "    \n",
    "    #정확도 구한 후 리스트에 삽입\n",
    "    accuracy = np.round(accuracy_score(y_test,pred), 4)\n",
    "    cv_accuracy.append(accuracy)\n",
    "    \n",
    "    train_size = X_train.shape[0]\n",
    "    test_size = X_test.shape[0]\n",
    "    \n",
    "    print('\\n#{0} 교차 검증 정확도 :{1}, 학습 데이터 크기: {2}, 검증 데이터 크기: {3}'\n",
    "          .format(n_iter, accuracy, train_size, test_size))\n",
    "    print('#{0} 검증 세트 인덱스:{1}'.format(n_iter,test_index))\n",
    "    \n",
    "    \n",
    "\n",
    "print('\\n## 평균 검증 정확도:', np.mean(cv_accuracy)) "
   ]
  },
  {
   "cell_type": "code",
   "execution_count": null,
   "metadata": {},
   "outputs": [],
   "source": []
  },
  {
   "cell_type": "markdown",
   "metadata": {},
   "source": [
    "# Stratified K 폴드\n",
    "\n",
    "- 데이타의 분포도가 유사해야한다는 kFold의 특징을 보완 \n",
    "- 불균형한 분포도를 가진 레이블 데이타 집합을 위한 k폴드 방식 \n",
    "- 불균형한 분포도를 가진 레이블 데이터 집합은 특정 레이블 값이 특이하게 많거나 매우 적어서 레이블의 값의 분포가 한쪽으로 치우친다.\n",
    "- 예) 대출사기 데이타. 대출사기 레이블이 전체의 0.0001% 에 밖에 해당하지 못한다.  \n",
    "- 분류 모델에는 적합하나 회귀에서는 연속된 숫자값이기 때문에 적합하지 못하다.\n"
   ]
  },
  {
   "cell_type": "markdown",
   "metadata": {},
   "source": [
    "#### 수행 과정 \n",
    "\n",
    "from sklearn.model_selection import StratifiedKFold\n",
    "\n",
    "```\n",
    "(1) 데이타와 라벨로 분리 \n",
    "\n",
    "(2) 모델 생성 \n",
    "\n",
    "(3) StratifiedKFold 객체 생성 \n",
    "\n",
    "n 은 폴더 갯수 \n",
    "skf = StratifiedKFold(n_splits=n)\n",
    "\n",
    "(4) StratifiedKFold의 split( ) 호출 + for 반복문 \n",
    "# 정확도 리스트 \n",
    "cv_accuracy = []\n",
    "\n",
    "# StratifiedKFold의 split( ) 호출시 반드시 레이블 데이터 셋도 추가 입력 필요  \n",
    "for train_index, test_index  in skfold.split(features, label):\n",
    "    # split( )으로 반환된 인덱스를 이용하여 학습용, 검증용 테스트 데이터 추출\n",
    "    X_train, X_test = features[train_index], features[test_index]\n",
    "    y_train, y_test = label[train_index], label[test_index]\n",
    "    \n",
    "    # 모델 학습 및 예측 \n",
    "    예측기.fit(X_train , y_train)    \n",
    "    pred = dt_clf.predict(X_test)\n",
    "    \n",
    "    # 반복 시 마다 정확도 측정해서 정확도 리스트에 추가 \n",
    "    accuracy = np.round(accuracy_score(y_test,pred), 4)\n",
    "    cv_accuracy.append(accuracy)\n",
    "\n",
    "# 평균 정확도는?\n",
    "np.mean(cv_accuracy)\n",
    "\n",
    "```"
   ]
  },
  {
   "cell_type": "markdown",
   "metadata": {},
   "source": [
    "###  kfold의 문제점 파악하기 "
   ]
  },
  {
   "cell_type": "code",
   "execution_count": 10,
   "metadata": {},
   "outputs": [],
   "source": [
    "#X-data\n",
    "features = iris.data\n",
    "#y-target\n",
    "#label = iris.target\n",
    "\n",
    "iris_df = pd.DataFrame(data=iris.data, columns=iris.feature_names)\n",
    "iris_df['label'] = iris.target"
   ]
  },
  {
   "cell_type": "code",
   "execution_count": 11,
   "metadata": {},
   "outputs": [
    {
     "data": {
      "text/html": [
       "<div>\n",
       "<style scoped>\n",
       "    .dataframe tbody tr th:only-of-type {\n",
       "        vertical-align: middle;\n",
       "    }\n",
       "\n",
       "    .dataframe tbody tr th {\n",
       "        vertical-align: top;\n",
       "    }\n",
       "\n",
       "    .dataframe thead th {\n",
       "        text-align: right;\n",
       "    }\n",
       "</style>\n",
       "<table border=\"1\" class=\"dataframe\">\n",
       "  <thead>\n",
       "    <tr style=\"text-align: right;\">\n",
       "      <th></th>\n",
       "      <th>sepal length (cm)</th>\n",
       "      <th>sepal width (cm)</th>\n",
       "      <th>petal length (cm)</th>\n",
       "      <th>petal width (cm)</th>\n",
       "      <th>label</th>\n",
       "    </tr>\n",
       "  </thead>\n",
       "  <tbody>\n",
       "    <tr>\n",
       "      <th>0</th>\n",
       "      <td>5.1</td>\n",
       "      <td>3.5</td>\n",
       "      <td>1.4</td>\n",
       "      <td>0.2</td>\n",
       "      <td>0</td>\n",
       "    </tr>\n",
       "    <tr>\n",
       "      <th>1</th>\n",
       "      <td>4.9</td>\n",
       "      <td>3.0</td>\n",
       "      <td>1.4</td>\n",
       "      <td>0.2</td>\n",
       "      <td>0</td>\n",
       "    </tr>\n",
       "    <tr>\n",
       "      <th>2</th>\n",
       "      <td>4.7</td>\n",
       "      <td>3.2</td>\n",
       "      <td>1.3</td>\n",
       "      <td>0.2</td>\n",
       "      <td>0</td>\n",
       "    </tr>\n",
       "    <tr>\n",
       "      <th>3</th>\n",
       "      <td>4.6</td>\n",
       "      <td>3.1</td>\n",
       "      <td>1.5</td>\n",
       "      <td>0.2</td>\n",
       "      <td>0</td>\n",
       "    </tr>\n",
       "    <tr>\n",
       "      <th>4</th>\n",
       "      <td>5.0</td>\n",
       "      <td>3.6</td>\n",
       "      <td>1.4</td>\n",
       "      <td>0.2</td>\n",
       "      <td>0</td>\n",
       "    </tr>\n",
       "  </tbody>\n",
       "</table>\n",
       "</div>"
      ],
      "text/plain": [
       "   sepal length (cm)  sepal width (cm)  petal length (cm)  petal width (cm)  \\\n",
       "0                5.1               3.5                1.4               0.2   \n",
       "1                4.9               3.0                1.4               0.2   \n",
       "2                4.7               3.2                1.3               0.2   \n",
       "3                4.6               3.1                1.5               0.2   \n",
       "4                5.0               3.6                1.4               0.2   \n",
       "\n",
       "   label  \n",
       "0      0  \n",
       "1      0  \n",
       "2      0  \n",
       "3      0  \n",
       "4      0  "
      ]
     },
     "execution_count": 11,
     "metadata": {},
     "output_type": "execute_result"
    }
   ],
   "source": [
    "iris_df.head()"
   ]
  },
  {
   "cell_type": "code",
   "execution_count": 13,
   "metadata": {},
   "outputs": [
    {
     "data": {
      "text/plain": [
       "Index(['sepal length (cm)', 'sepal width (cm)', 'petal length (cm)',\n",
       "       'petal width (cm)', 'label'],\n",
       "      dtype='object')"
      ]
     },
     "execution_count": 13,
     "metadata": {},
     "output_type": "execute_result"
    }
   ],
   "source": [
    "iris_df.columns"
   ]
  },
  {
   "cell_type": "code",
   "execution_count": 14,
   "metadata": {},
   "outputs": [
    {
     "name": "stdout",
     "output_type": "stream",
     "text": [
      "\n",
      "## 교차 검증: 1\n",
      "\n",
      "학습 레이블 데이터 분포:\n",
      " 1    50\n",
      "2    50\n",
      "0    20\n",
      "Name: label, dtype: int64\n",
      "\n",
      "검증 레이블 데이터 분포:\n",
      " 0    30\n",
      "Name: label, dtype: int64\n",
      "==================================================\n",
      "\n",
      "## 교차 검증: 2\n",
      "\n",
      "학습 레이블 데이터 분포:\n",
      " 2    50\n",
      "1    40\n",
      "0    30\n",
      "Name: label, dtype: int64\n",
      "\n",
      "검증 레이블 데이터 분포:\n",
      " 0    20\n",
      "1    10\n",
      "Name: label, dtype: int64\n",
      "==================================================\n",
      "\n",
      "## 교차 검증: 3\n",
      "\n",
      "학습 레이블 데이터 분포:\n",
      " 0    50\n",
      "2    50\n",
      "1    20\n",
      "Name: label, dtype: int64\n",
      "\n",
      "검증 레이블 데이터 분포:\n",
      " 1    30\n",
      "Name: label, dtype: int64\n",
      "==================================================\n",
      "\n",
      "## 교차 검증: 4\n",
      "\n",
      "학습 레이블 데이터 분포:\n",
      " 0    50\n",
      "1    40\n",
      "2    30\n",
      "Name: label, dtype: int64\n",
      "\n",
      "검증 레이블 데이터 분포:\n",
      " 2    20\n",
      "1    10\n",
      "Name: label, dtype: int64\n",
      "==================================================\n",
      "\n",
      "## 교차 검증: 5\n",
      "\n",
      "학습 레이블 데이터 분포:\n",
      " 0    50\n",
      "1    50\n",
      "2    20\n",
      "Name: label, dtype: int64\n",
      "\n",
      "검증 레이블 데이터 분포:\n",
      " 2    30\n",
      "Name: label, dtype: int64\n",
      "==================================================\n"
     ]
    }
   ],
   "source": [
    "kfold = KFold(n_splits=5)\n",
    "\n",
    "n_iter =0\n",
    "for train_index, test_index  in kfold.split(iris_df[['sepal length (cm)', 'sepal width (cm)', 'petal length (cm)',\n",
    "       'petal width (cm)']]):\n",
    "    n_iter += 1\n",
    "    label_train= iris_df['label'].iloc[train_index]\n",
    "    label_test= iris_df['label'].iloc[test_index]\n",
    "    print('\\n## 교차 검증: {0}'.format(n_iter))\n",
    "    print('\\n학습 레이블 데이터 분포:\\n', label_train.value_counts())\n",
    "    print('\\n검증 레이블 데이터 분포:\\n', label_test.value_counts())\n",
    "    print('='*50)\n",
    "    "
   ]
  },
  {
   "cell_type": "code",
   "execution_count": null,
   "metadata": {},
   "outputs": [],
   "source": []
  },
  {
   "cell_type": "markdown",
   "metadata": {},
   "source": [
    "### StratifiedKFold 활용 => 레벨의 분포를 고르게 한다 "
   ]
  },
  {
   "cell_type": "code",
   "execution_count": 15,
   "metadata": {},
   "outputs": [],
   "source": [
    "from sklearn.model_selection import StratifiedKFold"
   ]
  },
  {
   "cell_type": "code",
   "execution_count": 16,
   "metadata": {},
   "outputs": [
    {
     "name": "stdout",
     "output_type": "stream",
     "text": [
      "\n",
      "## 교차 검증: 1\n",
      "\n",
      "학습 레이블 데이터 분포:\n",
      " 0    40\n",
      "1    40\n",
      "2    40\n",
      "Name: label, dtype: int64\n",
      "\n",
      "검증 레이블 데이터 분포:\n",
      " 0    10\n",
      "1    10\n",
      "2    10\n",
      "Name: label, dtype: int64\n",
      "==================================================\n",
      "\n",
      "## 교차 검증: 2\n",
      "\n",
      "학습 레이블 데이터 분포:\n",
      " 0    40\n",
      "1    40\n",
      "2    40\n",
      "Name: label, dtype: int64\n",
      "\n",
      "검증 레이블 데이터 분포:\n",
      " 0    10\n",
      "1    10\n",
      "2    10\n",
      "Name: label, dtype: int64\n",
      "==================================================\n",
      "\n",
      "## 교차 검증: 3\n",
      "\n",
      "학습 레이블 데이터 분포:\n",
      " 0    40\n",
      "1    40\n",
      "2    40\n",
      "Name: label, dtype: int64\n",
      "\n",
      "검증 레이블 데이터 분포:\n",
      " 0    10\n",
      "1    10\n",
      "2    10\n",
      "Name: label, dtype: int64\n",
      "==================================================\n",
      "\n",
      "## 교차 검증: 4\n",
      "\n",
      "학습 레이블 데이터 분포:\n",
      " 0    40\n",
      "1    40\n",
      "2    40\n",
      "Name: label, dtype: int64\n",
      "\n",
      "검증 레이블 데이터 분포:\n",
      " 0    10\n",
      "1    10\n",
      "2    10\n",
      "Name: label, dtype: int64\n",
      "==================================================\n",
      "\n",
      "## 교차 검증: 5\n",
      "\n",
      "학습 레이블 데이터 분포:\n",
      " 0    40\n",
      "1    40\n",
      "2    40\n",
      "Name: label, dtype: int64\n",
      "\n",
      "검증 레이블 데이터 분포:\n",
      " 0    10\n",
      "1    10\n",
      "2    10\n",
      "Name: label, dtype: int64\n",
      "==================================================\n"
     ]
    }
   ],
   "source": [
    "#객체 생성\n",
    "skf = StratifiedKFold(n_splits=5)\n",
    "n_iter=0\n",
    "\n",
    "#y값도 넣어야\n",
    "for train_index, test_index in skf.split(iris_df, iris_df['label']):\n",
    "    n_iter += 1\n",
    "    label_train= iris_df['label'].iloc[train_index]\n",
    "    label_test= iris_df['label'].iloc[test_index]\n",
    "    print('\\n## 교차 검증: {0}'.format(n_iter))\n",
    "    print('\\n학습 레이블 데이터 분포:\\n', label_train.value_counts())\n",
    "    print('\\n검증 레이블 데이터 분포:\\n', label_test.value_counts())\n",
    "    print('='*50)"
   ]
  },
  {
   "cell_type": "markdown",
   "metadata": {},
   "source": [
    "##### Stratified 폴더를 이용한 모델 생성과 정확도 분석 "
   ]
  },
  {
   "cell_type": "code",
   "execution_count": 17,
   "metadata": {},
   "outputs": [
    {
     "name": "stdout",
     "output_type": "stream",
     "text": [
      "\n",
      "#1 교차 검증 정확도 :0.9667, 학습 데이터 크기: 120, 검증 데이터 크기: 30\n",
      "#1 검증 세트 인덱스:[  0   1   2   3   4   5   6   7   8   9  50  51  52  53  54  55  56  57\n",
      "  58  59 100 101 102 103 104 105 106 107 108 109]\n",
      "\n",
      "#2 교차 검증 정확도 :1.0, 학습 데이터 크기: 120, 검증 데이터 크기: 30\n",
      "#2 검증 세트 인덱스:[ 10  11  12  13  14  15  16  17  18  19  60  61  62  63  64  65  66  67\n",
      "  68  69 110 111 112 113 114 115 116 117 118 119]\n",
      "\n",
      "#3 교차 검증 정확도 :0.9333, 학습 데이터 크기: 120, 검증 데이터 크기: 30\n",
      "#3 검증 세트 인덱스:[ 20  21  22  23  24  25  26  27  28  29  70  71  72  73  74  75  76  77\n",
      "  78  79 120 121 122 123 124 125 126 127 128 129]\n",
      "\n",
      "#4 교차 검증 정확도 :0.9667, 학습 데이터 크기: 120, 검증 데이터 크기: 30\n",
      "#4 검증 세트 인덱스:[ 30  31  32  33  34  35  36  37  38  39  80  81  82  83  84  85  86  87\n",
      "  88  89 130 131 132 133 134 135 136 137 138 139]\n",
      "\n",
      "#5 교차 검증 정확도 :1.0, 학습 데이터 크기: 120, 검증 데이터 크기: 30\n",
      "#5 검증 세트 인덱스:[ 40  41  42  43  44  45  46  47  48  49  90  91  92  93  94  95  96  97\n",
      "  98  99 140 141 142 143 144 145 146 147 148 149]\n",
      "\n",
      "## 교차 검증별 정확도: [0.9667 1.     0.9333 0.9667 1.    ]\n",
      "## 평균 검증 정확도: 0.97334\n"
     ]
    }
   ],
   "source": [
    "model_kn =  KNeighborsClassifier()\n",
    "\n",
    "skfold = StratifiedKFold(n_splits=5)\n",
    "n_iter=0\n",
    "cv_accuracy=[]\n",
    "\n",
    "for train_index, test_index  in skfold.split(features, label):\n",
    "    X_train, X_test = features[train_index], features[test_index]\n",
    "    y_train, y_test = label[train_index], label[test_index]\n",
    "    \n",
    "    model_kn.fit(X_train , y_train)    \n",
    "    pred = model_kn.predict(X_test)\n",
    "\n",
    "    n_iter += 1\n",
    "    accuracy = np.round(accuracy_score(y_test,pred), 4)\n",
    "    train_size = X_train.shape[0]\n",
    "    test_size = X_test.shape[0]\n",
    "    \n",
    "    print('\\n#{0} 교차 검증 정확도 :{1}, 학습 데이터 크기: {2}, 검증 데이터 크기: {3}'\n",
    "          .format(n_iter, accuracy, train_size, test_size))\n",
    "    print('#{0} 검증 세트 인덱스:{1}'.format(n_iter,test_index))\n",
    "    cv_accuracy.append(accuracy)\n",
    "\n",
    "print('\\n## 교차 검증별 정확도:', np.round(cv_accuracy, 4))\n",
    "print('## 평균 검증 정확도:', np.mean(cv_accuracy)) "
   ]
  },
  {
   "cell_type": "code",
   "execution_count": null,
   "metadata": {},
   "outputs": [],
   "source": []
  },
  {
   "cell_type": "markdown",
   "metadata": {},
   "source": [
    "# cross_val_score( )\n",
    "\n",
    "- 사이킷런에서 제공하는 교차 검증을 편리하게 수행할 수 있게 도와주는 API \n",
    "```\n",
    "cross_val_score(모델 , X_data , y , scoring='accuracy',  cv=폴더갯수)\n",
    "```\n",
    "\n"
   ]
  },
  {
   "cell_type": "code",
   "execution_count": 18,
   "metadata": {},
   "outputs": [],
   "source": [
    "from sklearn.model_selection import cross_val_score "
   ]
  },
  {
   "cell_type": "code",
   "execution_count": 19,
   "metadata": {},
   "outputs": [
    {
     "name": "stdout",
     "output_type": "stream",
     "text": [
      "교차 검증별 정확도: [0.9667 1.     0.9333 0.9667 1.    ]\n",
      "평균 검증 정확도: 0.9733\n"
     ]
    }
   ],
   "source": [
    "#데이터 준비\n",
    "iris_data = load_iris()\n",
    "model_kn =  KNeighborsClassifier()\n",
    "\n",
    "#X\n",
    "data = iris_data.data\n",
    "#y\n",
    "label = iris_data.target\n",
    "\n",
    "scores = cross_val_score(model_kn , data , label , scoring='accuracy', cv=5)\n",
    "\n",
    "print('교차 검증별 정확도:',np.round(scores, 4))\n",
    "print('평균 검증 정확도:', np.round(np.mean(scores), 4))\n"
   ]
  },
  {
   "cell_type": "code",
   "execution_count": null,
   "metadata": {},
   "outputs": [],
   "source": []
  },
  {
   "cell_type": "markdown",
   "metadata": {},
   "source": [
    "# GridSearchCV\n",
    "\n",
    "\n",
    "```\n",
    "(1) 딕셔너리 형태로 파라미터를 지정 \n",
    "parameters = {'max_depth':[1, 2, 3], 'min_samples_split':[2,3]}\n",
    "\n",
    "(2) GridSearchCV 메서드 적용 \n",
    "grid_dtree = GridSearchCV(dtree, param_grid=parameters, cv=3, refit=True, return_train_score=True)\n",
    "\n",
    "```"
   ]
  },
  {
   "cell_type": "code",
   "execution_count": 3,
   "metadata": {},
   "outputs": [],
   "source": [
    "from sklearn.neighbors import KNeighborsClassifier\n",
    "from sklearn.tree import DecisionTreeClassifier\n",
    "from sklearn.ensemble import RandomForestClassifier\n",
    "from sklearn.linear_model import LogisticRegression\n",
    "\n",
    "from sklearn.metrics import accuracy_score"
   ]
  },
  {
   "cell_type": "code",
   "execution_count": 7,
   "metadata": {},
   "outputs": [],
   "source": [
    "from sklearn.model_selection import GridSearchCV, train_test_split"
   ]
  },
  {
   "cell_type": "code",
   "execution_count": 8,
   "metadata": {},
   "outputs": [],
   "source": [
    "#데이터셋 준비\n",
    "from sklearn.datasets import load_iris\n",
    "\n",
    "iris_data = load_iris()\n",
    "#X\n",
    "data = iris_data.data\n",
    "#y\n",
    "label = iris_data.target\n",
    "\n",
    "#학습 / 테스트 데이터 분리\n",
    "X_train, X_test, y_train, y_test = train_test_split(iris_data.data, iris_data.target, \n",
    "                                                    test_size=0.2, random_state=11)"
   ]
  },
  {
   "cell_type": "code",
   "execution_count": 9,
   "metadata": {
    "scrolled": true
   },
   "outputs": [
    {
     "data": {
      "text/plain": [
       "GridSearchCV(cv=5, estimator=KNeighborsClassifier(),\n",
       "             param_grid={'n_neighbors': [3, 5, 7, 9]}, return_train_score=True)"
      ]
     },
     "execution_count": 9,
     "metadata": {},
     "output_type": "execute_result"
    }
   ],
   "source": [
    "#모델 적용\n",
    "model_kn = KNeighborsClassifier()\n",
    "\n",
    "#모델에 적용할 하이퍼파라미터값 지정\n",
    "#parameters = {'하이퍼파라미터변수' : [값1, 값2, ...]}\n",
    "parameters = {'n_neighbors':list(range(3,10,2))}\n",
    "\n",
    "#그리드서치 객체 생성\n",
    "#GridSearchCV(모델명, param_grid=하이퍼파라미터 딕셔너리, cv=폴더갯수, \n",
    "#          (옵션)             return_train_score=True, refit=True)\n",
    "model_kn_grid = GridSearchCV(model_kn, param_grid=parameters, cv=5, \n",
    "                             return_train_score=True, refit=True)\n",
    "\n",
    "#그리드서치에 데이터 적용\n",
    "model_kn_grid.fit(X_train, y_train)"
   ]
  },
  {
   "cell_type": "code",
   "execution_count": 10,
   "metadata": {},
   "outputs": [
    {
     "name": "stdout",
     "output_type": "stream",
     "text": [
      "['__abstractmethods__', '__class__', '__delattr__', '__dict__', '__dir__', '__doc__', '__eq__', '__format__', '__ge__', '__getattribute__', '__getstate__', '__gt__', '__hash__', '__init__', '__init_subclass__', '__le__', '__lt__', '__module__', '__ne__', '__new__', '__reduce__', '__reduce_ex__', '__repr__', '__setattr__', '__setstate__', '__sizeof__', '__str__', '__subclasshook__', '__weakref__', '_abc_impl', '_check_is_fitted', '_check_n_features', '_check_refit_for_multimetric', '_estimator_type', '_format_results', '_get_param_names', '_get_tags', '_more_tags', '_pairwise', '_repr_html_', '_repr_html_inner', '_repr_mimebundle_', '_required_parameters', '_run_search', '_validate_data', 'best_estimator_', 'best_index_', 'best_params_', 'best_score_', 'classes_', 'cv', 'cv_results_', 'decision_function', 'error_score', 'estimator', 'fit', 'get_params', 'inverse_transform', 'multimetric_', 'n_features_in_', 'n_jobs', 'n_splits_', 'param_grid', 'pre_dispatch', 'predict', 'predict_log_proba', 'predict_proba', 'refit', 'refit_time_', 'return_train_score', 'score', 'score_samples', 'scorer_', 'scoring', 'set_params', 'transform', 'verbose']\n"
     ]
    }
   ],
   "source": [
    "print(dir(model_kn_grid))"
   ]
  },
  {
   "cell_type": "code",
   "execution_count": 11,
   "metadata": {},
   "outputs": [
    {
     "name": "stdout",
     "output_type": "stream",
     "text": [
      "GridSearchCV 최적 파라미터: {'n_neighbors': 5}\n",
      "GridSearchCV 최고 정확도: 0.9583\n"
     ]
    }
   ],
   "source": [
    "#그리드서치객체명.best_params_ : 점수를 최대한 높게 낼 수 있는 하이퍼파라미터 최적값\n",
    "#그리드서치객체명.best_score_ : 최고점수\n",
    "print('GridSearchCV 최적 파라미터:', model_kn_grid.best_params_)\n",
    "print('GridSearchCV 최고 정확도: {0:.4f}'.format(model_kn_grid.best_score_))"
   ]
  },
  {
   "cell_type": "code",
   "execution_count": 14,
   "metadata": {},
   "outputs": [],
   "source": [
    "#각각의 훈련세트 점수\n",
    "#딕셔너리 {키 : 값 리스트 ...}\n",
    "#model_kn_grid.cv_results_"
   ]
  },
  {
   "cell_type": "code",
   "execution_count": 12,
   "metadata": {},
   "outputs": [
    {
     "data": {
      "text/html": [
       "<div>\n",
       "<style scoped>\n",
       "    .dataframe tbody tr th:only-of-type {\n",
       "        vertical-align: middle;\n",
       "    }\n",
       "\n",
       "    .dataframe tbody tr th {\n",
       "        vertical-align: top;\n",
       "    }\n",
       "\n",
       "    .dataframe thead th {\n",
       "        text-align: right;\n",
       "    }\n",
       "</style>\n",
       "<table border=\"1\" class=\"dataframe\">\n",
       "  <thead>\n",
       "    <tr style=\"text-align: right;\">\n",
       "      <th></th>\n",
       "      <th>mean_fit_time</th>\n",
       "      <th>std_fit_time</th>\n",
       "      <th>mean_score_time</th>\n",
       "      <th>std_score_time</th>\n",
       "      <th>param_n_neighbors</th>\n",
       "      <th>params</th>\n",
       "      <th>split0_test_score</th>\n",
       "      <th>split1_test_score</th>\n",
       "      <th>split2_test_score</th>\n",
       "      <th>split3_test_score</th>\n",
       "      <th>...</th>\n",
       "      <th>mean_test_score</th>\n",
       "      <th>std_test_score</th>\n",
       "      <th>rank_test_score</th>\n",
       "      <th>split0_train_score</th>\n",
       "      <th>split1_train_score</th>\n",
       "      <th>split2_train_score</th>\n",
       "      <th>split3_train_score</th>\n",
       "      <th>split4_train_score</th>\n",
       "      <th>mean_train_score</th>\n",
       "      <th>std_train_score</th>\n",
       "    </tr>\n",
       "  </thead>\n",
       "  <tbody>\n",
       "    <tr>\n",
       "      <th>0</th>\n",
       "      <td>0.000399</td>\n",
       "      <td>0.000488</td>\n",
       "      <td>0.001393</td>\n",
       "      <td>0.000485</td>\n",
       "      <td>3</td>\n",
       "      <td>{'n_neighbors': 3}</td>\n",
       "      <td>0.916667</td>\n",
       "      <td>0.875000</td>\n",
       "      <td>0.958333</td>\n",
       "      <td>1.000000</td>\n",
       "      <td>...</td>\n",
       "      <td>0.950000</td>\n",
       "      <td>0.048591</td>\n",
       "      <td>2</td>\n",
       "      <td>0.968750</td>\n",
       "      <td>0.979167</td>\n",
       "      <td>0.968750</td>\n",
       "      <td>0.968750</td>\n",
       "      <td>0.958333</td>\n",
       "      <td>0.968750</td>\n",
       "      <td>0.006588</td>\n",
       "    </tr>\n",
       "    <tr>\n",
       "      <th>1</th>\n",
       "      <td>0.000000</td>\n",
       "      <td>0.000000</td>\n",
       "      <td>0.000000</td>\n",
       "      <td>0.000000</td>\n",
       "      <td>5</td>\n",
       "      <td>{'n_neighbors': 5}</td>\n",
       "      <td>0.916667</td>\n",
       "      <td>0.958333</td>\n",
       "      <td>0.958333</td>\n",
       "      <td>0.958333</td>\n",
       "      <td>...</td>\n",
       "      <td>0.958333</td>\n",
       "      <td>0.026352</td>\n",
       "      <td>1</td>\n",
       "      <td>0.968750</td>\n",
       "      <td>0.979167</td>\n",
       "      <td>0.979167</td>\n",
       "      <td>0.979167</td>\n",
       "      <td>0.958333</td>\n",
       "      <td>0.972917</td>\n",
       "      <td>0.008333</td>\n",
       "    </tr>\n",
       "    <tr>\n",
       "      <th>2</th>\n",
       "      <td>0.000000</td>\n",
       "      <td>0.000000</td>\n",
       "      <td>0.000000</td>\n",
       "      <td>0.000000</td>\n",
       "      <td>7</td>\n",
       "      <td>{'n_neighbors': 7}</td>\n",
       "      <td>0.875000</td>\n",
       "      <td>0.958333</td>\n",
       "      <td>0.958333</td>\n",
       "      <td>0.958333</td>\n",
       "      <td>...</td>\n",
       "      <td>0.950000</td>\n",
       "      <td>0.040825</td>\n",
       "      <td>2</td>\n",
       "      <td>0.979167</td>\n",
       "      <td>0.968750</td>\n",
       "      <td>0.968750</td>\n",
       "      <td>0.979167</td>\n",
       "      <td>0.968750</td>\n",
       "      <td>0.972917</td>\n",
       "      <td>0.005103</td>\n",
       "    </tr>\n",
       "    <tr>\n",
       "      <th>3</th>\n",
       "      <td>0.000000</td>\n",
       "      <td>0.000000</td>\n",
       "      <td>0.003125</td>\n",
       "      <td>0.006250</td>\n",
       "      <td>9</td>\n",
       "      <td>{'n_neighbors': 9}</td>\n",
       "      <td>0.875000</td>\n",
       "      <td>0.958333</td>\n",
       "      <td>1.000000</td>\n",
       "      <td>0.916667</td>\n",
       "      <td>...</td>\n",
       "      <td>0.950000</td>\n",
       "      <td>0.048591</td>\n",
       "      <td>2</td>\n",
       "      <td>0.979167</td>\n",
       "      <td>0.979167</td>\n",
       "      <td>0.968750</td>\n",
       "      <td>0.979167</td>\n",
       "      <td>0.968750</td>\n",
       "      <td>0.975000</td>\n",
       "      <td>0.005103</td>\n",
       "    </tr>\n",
       "  </tbody>\n",
       "</table>\n",
       "<p>4 rows × 21 columns</p>\n",
       "</div>"
      ],
      "text/plain": [
       "   mean_fit_time  std_fit_time  mean_score_time  std_score_time  \\\n",
       "0       0.000399      0.000488         0.001393        0.000485   \n",
       "1       0.000000      0.000000         0.000000        0.000000   \n",
       "2       0.000000      0.000000         0.000000        0.000000   \n",
       "3       0.000000      0.000000         0.003125        0.006250   \n",
       "\n",
       "  param_n_neighbors              params  split0_test_score  split1_test_score  \\\n",
       "0                 3  {'n_neighbors': 3}           0.916667           0.875000   \n",
       "1                 5  {'n_neighbors': 5}           0.916667           0.958333   \n",
       "2                 7  {'n_neighbors': 7}           0.875000           0.958333   \n",
       "3                 9  {'n_neighbors': 9}           0.875000           0.958333   \n",
       "\n",
       "   split2_test_score  split3_test_score  ...  mean_test_score  std_test_score  \\\n",
       "0           0.958333           1.000000  ...         0.950000        0.048591   \n",
       "1           0.958333           0.958333  ...         0.958333        0.026352   \n",
       "2           0.958333           0.958333  ...         0.950000        0.040825   \n",
       "3           1.000000           0.916667  ...         0.950000        0.048591   \n",
       "\n",
       "   rank_test_score  split0_train_score  split1_train_score  \\\n",
       "0                2            0.968750            0.979167   \n",
       "1                1            0.968750            0.979167   \n",
       "2                2            0.979167            0.968750   \n",
       "3                2            0.979167            0.979167   \n",
       "\n",
       "   split2_train_score  split3_train_score  split4_train_score  \\\n",
       "0            0.968750            0.968750            0.958333   \n",
       "1            0.979167            0.979167            0.958333   \n",
       "2            0.968750            0.979167            0.968750   \n",
       "3            0.968750            0.979167            0.968750   \n",
       "\n",
       "   mean_train_score  std_train_score  \n",
       "0          0.968750         0.006588  \n",
       "1          0.972917         0.008333  \n",
       "2          0.972917         0.005103  \n",
       "3          0.975000         0.005103  \n",
       "\n",
       "[4 rows x 21 columns]"
      ]
     },
     "execution_count": 12,
     "metadata": {},
     "output_type": "execute_result"
    }
   ],
   "source": [
    "#각각의 훈련세트 점수 -> 데이터프레임\n",
    "scores_df = pd.DataFrame(model_kn_grid.cv_results_)\n",
    "scores_df"
   ]
  },
  {
   "cell_type": "code",
   "execution_count": 15,
   "metadata": {},
   "outputs": [
    {
     "data": {
      "text/plain": [
       "Index(['mean_fit_time', 'std_fit_time', 'mean_score_time', 'std_score_time',\n",
       "       'param_n_neighbors', 'params', 'split0_test_score', 'split1_test_score',\n",
       "       'split2_test_score', 'split3_test_score', 'split4_test_score',\n",
       "       'mean_test_score', 'std_test_score', 'rank_test_score',\n",
       "       'split0_train_score', 'split1_train_score', 'split2_train_score',\n",
       "       'split3_train_score', 'split4_train_score', 'mean_train_score',\n",
       "       'std_train_score'],\n",
       "      dtype='object')"
      ]
     },
     "execution_count": 15,
     "metadata": {},
     "output_type": "execute_result"
    }
   ],
   "source": [
    "scores_df.columns"
   ]
  },
  {
   "cell_type": "code",
   "execution_count": 17,
   "metadata": {},
   "outputs": [
    {
     "data": {
      "text/html": [
       "<div>\n",
       "<style scoped>\n",
       "    .dataframe tbody tr th:only-of-type {\n",
       "        vertical-align: middle;\n",
       "    }\n",
       "\n",
       "    .dataframe tbody tr th {\n",
       "        vertical-align: top;\n",
       "    }\n",
       "\n",
       "    .dataframe thead th {\n",
       "        text-align: right;\n",
       "    }\n",
       "</style>\n",
       "<table border=\"1\" class=\"dataframe\">\n",
       "  <thead>\n",
       "    <tr style=\"text-align: right;\">\n",
       "      <th></th>\n",
       "      <th>rank_test_score</th>\n",
       "      <th>param_n_neighbors</th>\n",
       "      <th>mean_test_score</th>\n",
       "    </tr>\n",
       "  </thead>\n",
       "  <tbody>\n",
       "    <tr>\n",
       "      <th>0</th>\n",
       "      <td>2</td>\n",
       "      <td>3</td>\n",
       "      <td>0.950000</td>\n",
       "    </tr>\n",
       "    <tr>\n",
       "      <th>1</th>\n",
       "      <td>1</td>\n",
       "      <td>5</td>\n",
       "      <td>0.958333</td>\n",
       "    </tr>\n",
       "    <tr>\n",
       "      <th>2</th>\n",
       "      <td>2</td>\n",
       "      <td>7</td>\n",
       "      <td>0.950000</td>\n",
       "    </tr>\n",
       "    <tr>\n",
       "      <th>3</th>\n",
       "      <td>2</td>\n",
       "      <td>9</td>\n",
       "      <td>0.950000</td>\n",
       "    </tr>\n",
       "  </tbody>\n",
       "</table>\n",
       "</div>"
      ],
      "text/plain": [
       "   rank_test_score param_n_neighbors  mean_test_score\n",
       "0                2                 3         0.950000\n",
       "1                1                 5         0.958333\n",
       "2                2                 7         0.950000\n",
       "3                2                 9         0.950000"
      ]
     },
     "execution_count": 17,
     "metadata": {},
     "output_type": "execute_result"
    }
   ],
   "source": [
    "scores_df[['rank_test_score','param_n_neighbors','mean_test_score']]"
   ]
  },
  {
   "cell_type": "code",
   "execution_count": 18,
   "metadata": {},
   "outputs": [
    {
     "name": "stdout",
     "output_type": "stream",
     "text": [
      "GridSearchCV 최적 파라미터: {'n_neighbors': 5}\n",
      "GridSearchCV 최고 정확도: 0.9583333333333334\n"
     ]
    }
   ],
   "source": [
    "print(f'GridSearchCV 최적 파라미터: {model_kn_grid.best_params_}' )\n",
    "print(f'GridSearchCV 최고 정확도: {model_kn_grid.best_score_}')"
   ]
  },
  {
   "cell_type": "code",
   "execution_count": null,
   "metadata": {},
   "outputs": [],
   "source": []
  },
  {
   "cell_type": "markdown",
   "metadata": {},
   "source": [
    "# 퀴즈\n",
    "\n",
    "- 1) 'titanic_book.csv' 타이타닉 데이타셋을 아래와 같은 전처리 후 cross_val_score() 메서드를 이용하여 교차 검증한 후 \n",
    "<br> 평균 정확도를 구하여라. 모델의 알고리즘은 임의선정, cv는 5 \n",
    "\n",
    "cross_val_score(model_kn, X_titanic_df , y_titanic_df , cv=5)\n",
    "\n",
    "\n",
    "- 2) 1)의 데이타셋을 활용하여 GridSearchCV의 최적 하이퍼 파라미터를 찾은 후 정확도를 구하여라. \n",
    "\n",
    "parameters = {'n_neighbors':list(range(3,10))}\n",
    "\n",
    "GridSearchCV(model_kn , param_grid=parameters , scoring='accuracy' , cv=5)"
   ]
  },
  {
   "cell_type": "code",
   "execution_count": 19,
   "metadata": {},
   "outputs": [],
   "source": [
    "from sklearn.preprocessing import LabelEncoder\n",
    "\n",
    "titanic_df = pd.read_csv('titanic_book.csv')\n",
    "\n",
    "\n",
    "titanic_df['Age'].fillna(titanic_df['Age'].mean(),inplace=True)\n",
    "titanic_df['Cabin'].fillna('N', inplace=True)\n",
    "titanic_df['Embarked'].fillna('N', inplace=True)\n",
    "\n",
    "\n",
    "encoder = LabelEncoder()\n",
    "encoder.fit(titanic_df['Sex'])\n",
    "temp = encoder.transform(titanic_df['Sex'])\n",
    "titanic_df['Sex'] = temp.reshape(-1, 1)\n",
    "\n",
    "encoder.fit(titanic_df['Embarked'])\n",
    "temp = encoder.transform(titanic_df['Embarked'])\n",
    "titanic_df['Embarked'] = temp.reshape(-1, 1)\n",
    "\n",
    "titanic_df['Cabin'] = titanic_df['Cabin'].str[:1]\n",
    "encoder.fit(titanic_df['Cabin'])\n",
    "temp = encoder.transform(titanic_df['Cabin'])\n",
    "titanic_df['Cabin'] = temp.reshape(-1, 1)\n",
    "\n",
    "\n",
    "titanic_df.drop(['PassengerId','Name','Ticket'], axis=1, inplace=True)"
   ]
  },
  {
   "cell_type": "markdown",
   "metadata": {},
   "source": [
    "## 1"
   ]
  },
  {
   "cell_type": "code",
   "execution_count": 25,
   "metadata": {},
   "outputs": [
    {
     "name": "stdout",
     "output_type": "stream",
     "text": [
      "교차 검증 0 정확도: 0.6760\n",
      "교차 검증 1 정확도: 0.6742\n",
      "교차 검증 2 정확도: 0.6966\n",
      "교차 검증 3 정확도: 0.7472\n",
      "교차 검증 4 정확도: 0.7303\n",
      "\n",
      "평균 정확도: 0.7049\n"
     ]
    }
   ],
   "source": [
    "from sklearn.model_selection import cross_val_score\n",
    "\n",
    "X_titanic_df = titanic_df.loc[:, 'Pclass':]\n",
    "y_titanic_df = titanic_df['Survived']\n",
    "\n",
    "model_kn = KNeighborsClassifier()\n",
    "# model_lr = LogisticRegression()\n",
    "# model_dt = DecisionTreeClassifier(random_state=11)\n",
    "# model_rf = RandomForestClassifier(random_state=11)\n",
    "\n",
    "scores = cross_val_score(model_kn, X_titanic_df , y_titanic_df , cv=5)\n",
    "\n",
    "for iter_count, accuracy in enumerate(scores):\n",
    "    print(f'교차 검증 {iter_count} 정확도: {accuracy:.4f}')\n",
    "\n",
    "print(f'\\n평균 정확도: {np.mean(scores):.4f}')"
   ]
  },
  {
   "cell_type": "code",
   "execution_count": 26,
   "metadata": {},
   "outputs": [
    {
     "data": {
      "text/plain": [
       "array([0.67597765, 0.6741573 , 0.69662921, 0.74719101, 0.73033708])"
      ]
     },
     "execution_count": 26,
     "metadata": {},
     "output_type": "execute_result"
    }
   ],
   "source": [
    "scores"
   ]
  },
  {
   "cell_type": "code",
   "execution_count": 27,
   "metadata": {},
   "outputs": [
    {
     "name": "stdout",
     "output_type": "stream",
     "text": [
      "['__annotations__', '__call__', '__class__', '__closure__', '__code__', '__defaults__', '__delattr__', '__dict__', '__dir__', '__doc__', '__eq__', '__format__', '__ge__', '__get__', '__getattribute__', '__globals__', '__gt__', '__hash__', '__init__', '__init_subclass__', '__kwdefaults__', '__le__', '__lt__', '__module__', '__name__', '__ne__', '__new__', '__qualname__', '__reduce__', '__reduce_ex__', '__repr__', '__setattr__', '__sizeof__', '__str__', '__subclasshook__', '__wrapped__']\n"
     ]
    }
   ],
   "source": [
    "print(dir(cross_val_score))"
   ]
  },
  {
   "cell_type": "markdown",
   "metadata": {},
   "source": [
    "## 2"
   ]
  },
  {
   "cell_type": "code",
   "execution_count": 28,
   "metadata": {},
   "outputs": [
    {
     "name": "stdout",
     "output_type": "stream",
     "text": [
      "['__abstractmethods__', '__class__', '__delattr__', '__dict__', '__dir__', '__doc__', '__eq__', '__format__', '__ge__', '__getattribute__', '__getstate__', '__gt__', '__hash__', '__init__', '__init_subclass__', '__le__', '__lt__', '__module__', '__ne__', '__new__', '__reduce__', '__reduce_ex__', '__repr__', '__setattr__', '__setstate__', '__sizeof__', '__str__', '__subclasshook__', '__weakref__', '_abc_impl', '_check_is_fitted', '_check_n_features', '_check_refit_for_multimetric', '_estimator_type', '_format_results', '_get_param_names', '_get_tags', '_more_tags', '_pairwise', '_repr_html_', '_repr_html_inner', '_repr_mimebundle_', '_required_parameters', '_run_search', '_validate_data', 'best_estimator_', 'best_index_', 'best_params_', 'best_score_', 'classes_', 'cv', 'cv_results_', 'decision_function', 'error_score', 'estimator', 'fit', 'get_params', 'inverse_transform', 'multimetric_', 'n_features_in_', 'n_jobs', 'n_splits_', 'param_grid', 'pre_dispatch', 'predict', 'predict_log_proba', 'predict_proba', 'refit', 'refit_time_', 'return_train_score', 'score', 'score_samples', 'scorer_', 'scoring', 'set_params', 'transform', 'verbose']\n"
     ]
    }
   ],
   "source": [
    "print(dir(model_kn_grid))"
   ]
  },
  {
   "cell_type": "code",
   "execution_count": 29,
   "metadata": {},
   "outputs": [
    {
     "name": "stdout",
     "output_type": "stream",
     "text": [
      "Fitting 5 folds for each of 4 candidates, totalling 20 fits\n"
     ]
    },
    {
     "data": {
      "text/plain": [
       "GridSearchCV(cv=5, estimator=KNeighborsClassifier(),\n",
       "             param_grid={'n_neighbors': [3, 5, 7, 9]}, return_train_score=True,\n",
       "             verbose=1)"
      ]
     },
     "execution_count": 29,
     "metadata": {},
     "output_type": "execute_result"
    }
   ],
   "source": [
    "# 0) 학습 + 테스트 분리 \n",
    "X_train, X_test, y_train, y_test = train_test_split(X_titanic_df, y_titanic_df, \n",
    "                                                    test_size=0.2, random_state=11,\n",
    "                                                    stratify=y_titanic_df)\n",
    "\n",
    "# 1) 모델 생성 \n",
    "model_kn = KNeighborsClassifier()\n",
    "\n",
    "# 2) 모델에 적용할 하이퍼파라미터 값 지정 \n",
    "# parameters = { '하이퍼파라미터변수':[값1, 값2 .... ]}\n",
    "parameters = {'n_neighbors':list(range(3,10,2))}\n",
    "# [3, 5, 7, 9]\n",
    "\n",
    "# 3) 그리드서치 객체 생성 \n",
    "# GridSearchCV(모델명, param_grid=하이퍼파라미터딕셔너리, cv=폴더갯수, \n",
    "#               return_train_score=True, refit=True)\n",
    "model_kn_grid = GridSearchCV(model_kn, param_grid=parameters, cv=5, \\\n",
    "                             return_train_score=True, verbose=1)\n",
    "#  refit=True , return_train_score = False 디폴트 \n",
    "\n",
    "# 4) 그리드서치에 데이타 적용 \n",
    "model_kn_grid.fit(X_train, y_train)"
   ]
  },
  {
   "cell_type": "code",
   "execution_count": 30,
   "metadata": {},
   "outputs": [
    {
     "name": "stdout",
     "output_type": "stream",
     "text": [
      "GridSearchCV 최적 파라미터: {'n_neighbors': 5}\n",
      "GridSearchCV 최고 정확도: 0.7346\n"
     ]
    }
   ],
   "source": [
    "# 그리드서치객체명.best_params_ : 하이퍼파라미터 최적값 \n",
    "# 그리드서치객체명.best_score_ : 하이퍼파라미터 최적으로 적용했을때의 최고점수 \n",
    "print('GridSearchCV 최적 파라미터:', model_kn_grid.best_params_)\n",
    "print('GridSearchCV 최고 정확도: {0:.4f}'.format(model_kn_grid.best_score_))"
   ]
  },
  {
   "cell_type": "code",
   "execution_count": 31,
   "metadata": {},
   "outputs": [
    {
     "data": {
      "text/html": [
       "<div>\n",
       "<style scoped>\n",
       "    .dataframe tbody tr th:only-of-type {\n",
       "        vertical-align: middle;\n",
       "    }\n",
       "\n",
       "    .dataframe tbody tr th {\n",
       "        vertical-align: top;\n",
       "    }\n",
       "\n",
       "    .dataframe thead th {\n",
       "        text-align: right;\n",
       "    }\n",
       "</style>\n",
       "<table border=\"1\" class=\"dataframe\">\n",
       "  <thead>\n",
       "    <tr style=\"text-align: right;\">\n",
       "      <th></th>\n",
       "      <th>mean_fit_time</th>\n",
       "      <th>std_fit_time</th>\n",
       "      <th>mean_score_time</th>\n",
       "      <th>std_score_time</th>\n",
       "      <th>param_n_neighbors</th>\n",
       "      <th>params</th>\n",
       "      <th>split0_test_score</th>\n",
       "      <th>split1_test_score</th>\n",
       "      <th>split2_test_score</th>\n",
       "      <th>split3_test_score</th>\n",
       "      <th>...</th>\n",
       "      <th>mean_test_score</th>\n",
       "      <th>std_test_score</th>\n",
       "      <th>rank_test_score</th>\n",
       "      <th>split0_train_score</th>\n",
       "      <th>split1_train_score</th>\n",
       "      <th>split2_train_score</th>\n",
       "      <th>split3_train_score</th>\n",
       "      <th>split4_train_score</th>\n",
       "      <th>mean_train_score</th>\n",
       "      <th>std_train_score</th>\n",
       "    </tr>\n",
       "  </thead>\n",
       "  <tbody>\n",
       "    <tr>\n",
       "      <th>0</th>\n",
       "      <td>0.004122</td>\n",
       "      <td>5.865778e-03</td>\n",
       "      <td>0.001996</td>\n",
       "      <td>0.002525</td>\n",
       "      <td>3</td>\n",
       "      <td>{'n_neighbors': 3}</td>\n",
       "      <td>0.713287</td>\n",
       "      <td>0.622378</td>\n",
       "      <td>0.697183</td>\n",
       "      <td>0.753521</td>\n",
       "      <td>...</td>\n",
       "      <td>0.706569</td>\n",
       "      <td>0.046944</td>\n",
       "      <td>3</td>\n",
       "      <td>0.840070</td>\n",
       "      <td>0.848858</td>\n",
       "      <td>0.849123</td>\n",
       "      <td>0.833333</td>\n",
       "      <td>0.835088</td>\n",
       "      <td>0.841294</td>\n",
       "      <td>0.006662</td>\n",
       "    </tr>\n",
       "    <tr>\n",
       "      <th>1</th>\n",
       "      <td>0.006845</td>\n",
       "      <td>7.248190e-03</td>\n",
       "      <td>0.003922</td>\n",
       "      <td>0.006050</td>\n",
       "      <td>5</td>\n",
       "      <td>{'n_neighbors': 5}</td>\n",
       "      <td>0.741259</td>\n",
       "      <td>0.685315</td>\n",
       "      <td>0.746479</td>\n",
       "      <td>0.767606</td>\n",
       "      <td>...</td>\n",
       "      <td>0.734610</td>\n",
       "      <td>0.027235</td>\n",
       "      <td>1</td>\n",
       "      <td>0.799649</td>\n",
       "      <td>0.824253</td>\n",
       "      <td>0.780702</td>\n",
       "      <td>0.787719</td>\n",
       "      <td>0.800000</td>\n",
       "      <td>0.798465</td>\n",
       "      <td>0.014831</td>\n",
       "    </tr>\n",
       "    <tr>\n",
       "      <th>2</th>\n",
       "      <td>0.002194</td>\n",
       "      <td>3.989697e-04</td>\n",
       "      <td>0.005385</td>\n",
       "      <td>0.000798</td>\n",
       "      <td>7</td>\n",
       "      <td>{'n_neighbors': 7}</td>\n",
       "      <td>0.664336</td>\n",
       "      <td>0.678322</td>\n",
       "      <td>0.753521</td>\n",
       "      <td>0.767606</td>\n",
       "      <td>...</td>\n",
       "      <td>0.716419</td>\n",
       "      <td>0.040409</td>\n",
       "      <td>2</td>\n",
       "      <td>0.789104</td>\n",
       "      <td>0.804921</td>\n",
       "      <td>0.763158</td>\n",
       "      <td>0.775439</td>\n",
       "      <td>0.778947</td>\n",
       "      <td>0.782314</td>\n",
       "      <td>0.014020</td>\n",
       "    </tr>\n",
       "    <tr>\n",
       "      <th>3</th>\n",
       "      <td>0.002992</td>\n",
       "      <td>9.536743e-08</td>\n",
       "      <td>0.004188</td>\n",
       "      <td>0.000399</td>\n",
       "      <td>9</td>\n",
       "      <td>{'n_neighbors': 9}</td>\n",
       "      <td>0.671329</td>\n",
       "      <td>0.671329</td>\n",
       "      <td>0.697183</td>\n",
       "      <td>0.739437</td>\n",
       "      <td>...</td>\n",
       "      <td>0.695292</td>\n",
       "      <td>0.024917</td>\n",
       "      <td>4</td>\n",
       "      <td>0.775044</td>\n",
       "      <td>0.789104</td>\n",
       "      <td>0.763158</td>\n",
       "      <td>0.763158</td>\n",
       "      <td>0.756140</td>\n",
       "      <td>0.769321</td>\n",
       "      <td>0.011609</td>\n",
       "    </tr>\n",
       "  </tbody>\n",
       "</table>\n",
       "<p>4 rows × 21 columns</p>\n",
       "</div>"
      ],
      "text/plain": [
       "   mean_fit_time  std_fit_time  mean_score_time  std_score_time  \\\n",
       "0       0.004122  5.865778e-03         0.001996        0.002525   \n",
       "1       0.006845  7.248190e-03         0.003922        0.006050   \n",
       "2       0.002194  3.989697e-04         0.005385        0.000798   \n",
       "3       0.002992  9.536743e-08         0.004188        0.000399   \n",
       "\n",
       "  param_n_neighbors              params  split0_test_score  split1_test_score  \\\n",
       "0                 3  {'n_neighbors': 3}           0.713287           0.622378   \n",
       "1                 5  {'n_neighbors': 5}           0.741259           0.685315   \n",
       "2                 7  {'n_neighbors': 7}           0.664336           0.678322   \n",
       "3                 9  {'n_neighbors': 9}           0.671329           0.671329   \n",
       "\n",
       "   split2_test_score  split3_test_score  ...  mean_test_score  std_test_score  \\\n",
       "0           0.697183           0.753521  ...         0.706569        0.046944   \n",
       "1           0.746479           0.767606  ...         0.734610        0.027235   \n",
       "2           0.753521           0.767606  ...         0.716419        0.040409   \n",
       "3           0.697183           0.739437  ...         0.695292        0.024917   \n",
       "\n",
       "   rank_test_score  split0_train_score  split1_train_score  \\\n",
       "0                3            0.840070            0.848858   \n",
       "1                1            0.799649            0.824253   \n",
       "2                2            0.789104            0.804921   \n",
       "3                4            0.775044            0.789104   \n",
       "\n",
       "   split2_train_score  split3_train_score  split4_train_score  \\\n",
       "0            0.849123            0.833333            0.835088   \n",
       "1            0.780702            0.787719            0.800000   \n",
       "2            0.763158            0.775439            0.778947   \n",
       "3            0.763158            0.763158            0.756140   \n",
       "\n",
       "   mean_train_score  std_train_score  \n",
       "0          0.841294         0.006662  \n",
       "1          0.798465         0.014831  \n",
       "2          0.782314         0.014020  \n",
       "3          0.769321         0.011609  \n",
       "\n",
       "[4 rows x 21 columns]"
      ]
     },
     "execution_count": 31,
     "metadata": {},
     "output_type": "execute_result"
    }
   ],
   "source": [
    "# 각각의 훈련세트 점수 => 데이타프레임 \n",
    "scores_df = pd.DataFrame(model_kn_grid.cv_results_)\n",
    "scores_df"
   ]
  },
  {
   "cell_type": "code",
   "execution_count": 32,
   "metadata": {},
   "outputs": [
    {
     "data": {
      "text/html": [
       "<div>\n",
       "<style scoped>\n",
       "    .dataframe tbody tr th:only-of-type {\n",
       "        vertical-align: middle;\n",
       "    }\n",
       "\n",
       "    .dataframe tbody tr th {\n",
       "        vertical-align: top;\n",
       "    }\n",
       "\n",
       "    .dataframe thead th {\n",
       "        text-align: right;\n",
       "    }\n",
       "</style>\n",
       "<table border=\"1\" class=\"dataframe\">\n",
       "  <thead>\n",
       "    <tr style=\"text-align: right;\">\n",
       "      <th></th>\n",
       "      <th>rank_test_score</th>\n",
       "      <th>param_n_neighbors</th>\n",
       "      <th>mean_test_score</th>\n",
       "    </tr>\n",
       "  </thead>\n",
       "  <tbody>\n",
       "    <tr>\n",
       "      <th>0</th>\n",
       "      <td>3</td>\n",
       "      <td>3</td>\n",
       "      <td>0.706569</td>\n",
       "    </tr>\n",
       "    <tr>\n",
       "      <th>1</th>\n",
       "      <td>1</td>\n",
       "      <td>5</td>\n",
       "      <td>0.734610</td>\n",
       "    </tr>\n",
       "    <tr>\n",
       "      <th>2</th>\n",
       "      <td>2</td>\n",
       "      <td>7</td>\n",
       "      <td>0.716419</td>\n",
       "    </tr>\n",
       "    <tr>\n",
       "      <th>3</th>\n",
       "      <td>4</td>\n",
       "      <td>9</td>\n",
       "      <td>0.695292</td>\n",
       "    </tr>\n",
       "  </tbody>\n",
       "</table>\n",
       "</div>"
      ],
      "text/plain": [
       "   rank_test_score param_n_neighbors  mean_test_score\n",
       "0                3                 3         0.706569\n",
       "1                1                 5         0.734610\n",
       "2                2                 7         0.716419\n",
       "3                4                 9         0.695292"
      ]
     },
     "execution_count": 32,
     "metadata": {},
     "output_type": "execute_result"
    }
   ],
   "source": [
    "scores_df[['rank_test_score','param_n_neighbors', 'mean_test_score']]"
   ]
  },
  {
   "cell_type": "code",
   "execution_count": 33,
   "metadata": {},
   "outputs": [
    {
     "name": "stdout",
     "output_type": "stream",
     "text": [
      "GridSearchCV 최적 파라미터: {'n_neighbors': 5}\n",
      "GridSearchCV 최고 정확도: 0.7346104599625727\n"
     ]
    }
   ],
   "source": [
    "print(f'GridSearchCV 최적 파라미터: {model_kn_grid.best_params_}' )\n",
    "print(f'GridSearchCV 최고 정확도: {model_kn_grid.best_score_}')"
   ]
  },
  {
   "cell_type": "code",
   "execution_count": 34,
   "metadata": {},
   "outputs": [
    {
     "data": {
      "text/plain": [
       "KNeighborsClassifier()"
      ]
     },
     "execution_count": 34,
     "metadata": {},
     "output_type": "execute_result"
    }
   ],
   "source": [
    "model_kn_grid.best_estimator_"
   ]
  },
  {
   "cell_type": "code",
   "execution_count": 35,
   "metadata": {},
   "outputs": [
    {
     "name": "stdout",
     "output_type": "stream",
     "text": [
      "테스트 세트에서의 DecisionTreeClassifier 정확도 : 0.7318\n"
     ]
    }
   ],
   "source": [
    "best_model_kn = model_kn_grid.best_estimator_\n",
    "\n",
    "# GridSearchCV의 최적 하이퍼 파라미터로 학습된 Estimator로 예측 및 평가 수행. \n",
    "pred = best_model_kn.predict(X_test)\n",
    "accuracy = accuracy_score(y_test , pred)\n",
    "print('테스트 세트에서의 DecisionTreeClassifier 정확도 : {0:.4f}'.format(accuracy))"
   ]
  },
  {
   "cell_type": "code",
   "execution_count": null,
   "metadata": {},
   "outputs": [],
   "source": []
  }
 ],
 "metadata": {
  "kernelspec": {
   "display_name": "Python 3",
   "language": "python",
   "name": "python3"
  },
  "language_info": {
   "codemirror_mode": {
    "name": "ipython",
    "version": 3
   },
   "file_extension": ".py",
   "mimetype": "text/x-python",
   "name": "python",
   "nbconvert_exporter": "python",
   "pygments_lexer": "ipython3",
   "version": "3.8.8"
  }
 },
 "nbformat": 4,
 "nbformat_minor": 2
}
