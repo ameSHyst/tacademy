{
 "cells": [
  {
   "cell_type": "code",
   "execution_count": 1,
   "id": "ca9866d2",
   "metadata": {},
   "outputs": [],
   "source": [
    "import pandas as pd\n",
    "from pyspark import SparkContext\n",
    "from pyspark.sql import SQLContext, Row\n",
    "\n",
    "from pyspark.sql.functions import when, udf, col, regexp_replace\n",
    "from pyspark.sql.types import DoubleType,IntegerType, StringType"
   ]
  },
  {
   "cell_type": "code",
   "execution_count": 2,
   "id": "84166cda",
   "metadata": {},
   "outputs": [],
   "source": [
    "sc = SparkContext( 'local' )\n",
    "sqlCtx = SQLContext( sc )"
   ]
  },
  {
   "cell_type": "code",
   "execution_count": 3,
   "id": "7d01793c",
   "metadata": {},
   "outputs": [],
   "source": [
    "df = sqlCtx.read.csv( 'data/births.txt', inferSchema=True)"
   ]
  },
  {
   "cell_type": "code",
   "execution_count": 4,
   "id": "82f617c1",
   "metadata": {},
   "outputs": [],
   "source": [
    "df = df.withColumnRenamed('_c0','year') \\\n",
    "  .withColumnRenamed('_c1','boys') \\\n",
    "  .withColumnRenamed('_c2','girls')"
   ]
  },
  {
   "cell_type": "code",
   "execution_count": 5,
   "id": "37ec731c",
   "metadata": {},
   "outputs": [
    {
     "name": "stdout",
     "output_type": "stream",
     "text": [
      "+----+--------+--------+\n",
      "|year|    boys|   girls|\n",
      "+----+--------+--------+\n",
      "|1880| 90993.0|110491.0|\n",
      "|1881| 91954.0|100745.0|\n",
      "|1882|107850.0|113688.0|\n",
      "|1883|112321.0|104629.0|\n",
      "|1884|129022.0|114445.0|\n",
      "|1885|133055.0|107800.0|\n",
      "|1886|144535.0|110784.0|\n",
      "|1887|145982.0|101414.0|\n",
      "|1888|178627.0|120853.0|\n",
      "|1889|178366.0|110584.0|\n",
      "|1890|190377.0|111025.0|\n",
      "|1891|185482.0|101196.0|\n",
      "|1892|212346.0|122037.0|\n",
      "|1893|212906.0|112317.0|\n",
      "|1894|222922.0|115772.0|\n",
      "|1895|233630.0|117398.0|\n",
      "|1896|237920.0|119570.0|\n",
      "|1897|234202.0|112758.0|\n",
      "|1898|258770.0|122693.0|\n",
      "|1899|233023.0|106212.0|\n",
      "+----+--------+--------+\n",
      "only showing top 20 rows\n",
      "\n"
     ]
    }
   ],
   "source": [
    "df.show()"
   ]
  },
  {
   "cell_type": "code",
   "execution_count": 6,
   "id": "e901ef2e",
   "metadata": {},
   "outputs": [
    {
     "name": "stdout",
     "output_type": "stream",
     "text": [
      "root\n",
      " |-- year: integer (nullable = true)\n",
      " |-- boys: double (nullable = true)\n",
      " |-- girls: double (nullable = true)\n",
      "\n"
     ]
    }
   ],
   "source": [
    "df.printSchema()"
   ]
  },
  {
   "cell_type": "markdown",
   "id": "90eda0fe",
   "metadata": {},
   "source": [
    "    1. 2000년도 이후 데이터를 구하시요\n",
    "    2. 1995~2000 년도 데이터를 구하시요\n",
    "    3. 남아출생이 가장많은 top5를 구하시요(년도,남아수 출력)\n",
    "    4. 남아율(%)컬럼을 추가하고 각년도별 남아수가 차지하는 비율을 보여주시요\n",
    "    5. 2000년도 이후 데이터를 바차트로 보여주시요"
   ]
  },
  {
   "cell_type": "code",
   "execution_count": 8,
   "id": "0397d22d",
   "metadata": {},
   "outputs": [
    {
     "data": {
      "text/html": [
       "<div>\n",
       "<style scoped>\n",
       "    .dataframe tbody tr th:only-of-type {\n",
       "        vertical-align: middle;\n",
       "    }\n",
       "\n",
       "    .dataframe tbody tr th {\n",
       "        vertical-align: top;\n",
       "    }\n",
       "\n",
       "    .dataframe thead th {\n",
       "        text-align: right;\n",
       "    }\n",
       "</style>\n",
       "<table border=\"1\" class=\"dataframe\">\n",
       "  <thead>\n",
       "    <tr style=\"text-align: right;\">\n",
       "      <th></th>\n",
       "      <th>year</th>\n",
       "      <th>boys</th>\n",
       "      <th>girls</th>\n",
       "    </tr>\n",
       "  </thead>\n",
       "  <tbody>\n",
       "    <tr>\n",
       "      <th>0</th>\n",
       "      <td>2001</td>\n",
       "      <td>1799049.0</td>\n",
       "      <td>1941251.0</td>\n",
       "    </tr>\n",
       "    <tr>\n",
       "      <th>1</th>\n",
       "      <td>2002</td>\n",
       "      <td>1795206.0</td>\n",
       "      <td>1939815.0</td>\n",
       "    </tr>\n",
       "    <tr>\n",
       "      <th>2</th>\n",
       "      <td>2003</td>\n",
       "      <td>1825359.0</td>\n",
       "      <td>1973434.0</td>\n",
       "    </tr>\n",
       "    <tr>\n",
       "      <th>3</th>\n",
       "      <td>2004</td>\n",
       "      <td>1834145.0</td>\n",
       "      <td>1982794.0</td>\n",
       "    </tr>\n",
       "    <tr>\n",
       "      <th>4</th>\n",
       "      <td>2005</td>\n",
       "      <td>1845379.0</td>\n",
       "      <td>1994841.0</td>\n",
       "    </tr>\n",
       "    <tr>\n",
       "      <th>5</th>\n",
       "      <td>2006</td>\n",
       "      <td>1898463.0</td>\n",
       "      <td>2052377.0</td>\n",
       "    </tr>\n",
       "    <tr>\n",
       "      <th>6</th>\n",
       "      <td>2007</td>\n",
       "      <td>1919408.0</td>\n",
       "      <td>2072139.0</td>\n",
       "    </tr>\n",
       "    <tr>\n",
       "      <th>7</th>\n",
       "      <td>2008</td>\n",
       "      <td>1887234.0</td>\n",
       "      <td>2036289.0</td>\n",
       "    </tr>\n",
       "    <tr>\n",
       "      <th>8</th>\n",
       "      <td>2009</td>\n",
       "      <td>1832925.0</td>\n",
       "      <td>1979303.0</td>\n",
       "    </tr>\n",
       "    <tr>\n",
       "      <th>9</th>\n",
       "      <td>2010</td>\n",
       "      <td>1772738.0</td>\n",
       "      <td>1913851.0</td>\n",
       "    </tr>\n",
       "    <tr>\n",
       "      <th>10</th>\n",
       "      <td>2011</td>\n",
       "      <td>1753500.0</td>\n",
       "      <td>1893230.0</td>\n",
       "    </tr>\n",
       "  </tbody>\n",
       "</table>\n",
       "</div>"
      ],
      "text/plain": [
       "    year       boys      girls\n",
       "0   2001  1799049.0  1941251.0\n",
       "1   2002  1795206.0  1939815.0\n",
       "2   2003  1825359.0  1973434.0\n",
       "3   2004  1834145.0  1982794.0\n",
       "4   2005  1845379.0  1994841.0\n",
       "5   2006  1898463.0  2052377.0\n",
       "6   2007  1919408.0  2072139.0\n",
       "7   2008  1887234.0  2036289.0\n",
       "8   2009  1832925.0  1979303.0\n",
       "9   2010  1772738.0  1913851.0\n",
       "10  2011  1753500.0  1893230.0"
      ]
     },
     "execution_count": 8,
     "metadata": {},
     "output_type": "execute_result"
    }
   ],
   "source": [
    "# 1. 2000년도 이후 데이터를 구하시요\n",
    "df_one = df.where(\"year> 2000\")\n",
    "df_one.toPandas()"
   ]
  },
  {
   "cell_type": "code",
   "execution_count": 9,
   "id": "6a9f323c",
   "metadata": {},
   "outputs": [
    {
     "data": {
      "text/html": [
       "<div>\n",
       "<style scoped>\n",
       "    .dataframe tbody tr th:only-of-type {\n",
       "        vertical-align: middle;\n",
       "    }\n",
       "\n",
       "    .dataframe tbody tr th {\n",
       "        vertical-align: top;\n",
       "    }\n",
       "\n",
       "    .dataframe thead th {\n",
       "        text-align: right;\n",
       "    }\n",
       "</style>\n",
       "<table border=\"1\" class=\"dataframe\">\n",
       "  <thead>\n",
       "    <tr style=\"text-align: right;\">\n",
       "      <th></th>\n",
       "      <th>year</th>\n",
       "      <th>boys</th>\n",
       "      <th>girls</th>\n",
       "    </tr>\n",
       "  </thead>\n",
       "  <tbody>\n",
       "    <tr>\n",
       "      <th>0</th>\n",
       "      <td>1995</td>\n",
       "      <td>1757927.0</td>\n",
       "      <td>1902832.0</td>\n",
       "    </tr>\n",
       "    <tr>\n",
       "      <th>1</th>\n",
       "      <td>1996</td>\n",
       "      <td>1752249.0</td>\n",
       "      <td>1893378.0</td>\n",
       "    </tr>\n",
       "    <tr>\n",
       "      <th>2</th>\n",
       "      <td>1997</td>\n",
       "      <td>1739806.0</td>\n",
       "      <td>1884122.0</td>\n",
       "    </tr>\n",
       "    <tr>\n",
       "      <th>3</th>\n",
       "      <td>1998</td>\n",
       "      <td>1765915.0</td>\n",
       "      <td>1910250.0</td>\n",
       "    </tr>\n",
       "    <tr>\n",
       "      <th>4</th>\n",
       "      <td>1999</td>\n",
       "      <td>1772632.0</td>\n",
       "      <td>1918809.0</td>\n",
       "    </tr>\n",
       "    <tr>\n",
       "      <th>5</th>\n",
       "      <td>2000</td>\n",
       "      <td>1814601.0</td>\n",
       "      <td>1962406.0</td>\n",
       "    </tr>\n",
       "  </tbody>\n",
       "</table>\n",
       "</div>"
      ],
      "text/plain": [
       "   year       boys      girls\n",
       "0  1995  1757927.0  1902832.0\n",
       "1  1996  1752249.0  1893378.0\n",
       "2  1997  1739806.0  1884122.0\n",
       "3  1998  1765915.0  1910250.0\n",
       "4  1999  1772632.0  1918809.0\n",
       "5  2000  1814601.0  1962406.0"
      ]
     },
     "execution_count": 9,
     "metadata": {},
     "output_type": "execute_result"
    }
   ],
   "source": [
    "# 2. 1995~2000 년도 데이터를 구하시요\n",
    "df_two = df.where('(year>=1995) and (year<=2000)')\n",
    "df_two.toPandas()"
   ]
  },
  {
   "cell_type": "code",
   "execution_count": 10,
   "id": "b6ffe763",
   "metadata": {},
   "outputs": [
    {
     "name": "stdout",
     "output_type": "stream",
     "text": [
      "+----+---------+---------+\n",
      "|year|     boys|    girls|\n",
      "+----+---------+---------+\n",
      "|1995|1757927.0|1902832.0|\n",
      "|1996|1752249.0|1893378.0|\n",
      "|1997|1739806.0|1884122.0|\n",
      "|1998|1765915.0|1910250.0|\n",
      "|1999|1772632.0|1918809.0|\n",
      "|2000|1814601.0|1962406.0|\n",
      "+----+---------+---------+\n",
      "\n"
     ]
    }
   ],
   "source": [
    "df.where( \"year between 1995 and 2000\").show()"
   ]
  },
  {
   "cell_type": "code",
   "execution_count": 11,
   "id": "2ee4291b",
   "metadata": {},
   "outputs": [
    {
     "data": {
      "text/plain": [
       "[Row(year=1957, boys=2044160.0, girls=2155866.0),\n",
       " Row(year=1959, boys=2023044.0, girls=2133509.0),\n",
       " Row(year=1960, boys=2022093.0, girls=2132717.0),\n",
       " Row(year=1961, boys=2017316.0, girls=2122502.0),\n",
       " Row(year=1958, boys=2010884.0, girls=2120712.0)]"
      ]
     },
     "execution_count": 11,
     "metadata": {},
     "output_type": "execute_result"
    }
   ],
   "source": [
    "# 3.  남아출생이 가장많은 top5를 구하시요(년도,남아수 출력)\n",
    "from operator import attrgetter\n",
    "df_three = df.rdd.top(5, attrgetter(\"boys\"))\n",
    "df_three"
   ]
  },
  {
   "cell_type": "code",
   "execution_count": 12,
   "id": "9be265a0",
   "metadata": {
    "collapsed": true
   },
   "outputs": [
    {
     "ename": "NameError",
     "evalue": "name 'desc' is not defined",
     "output_type": "error",
     "traceback": [
      "\u001b[1;31m---------------------------------------------------------------------------\u001b[0m",
      "\u001b[1;31mNameError\u001b[0m                                 Traceback (most recent call last)",
      "\u001b[1;32m<ipython-input-12-40a44629a9fc>\u001b[0m in \u001b[0;36m<module>\u001b[1;34m\u001b[0m\n\u001b[1;32m----> 1\u001b[1;33m \u001b[0mdf\u001b[0m\u001b[1;33m.\u001b[0m\u001b[0mselect\u001b[0m\u001b[1;33m(\u001b[0m\u001b[1;34m'year'\u001b[0m\u001b[1;33m,\u001b[0m \u001b[1;34m'boys'\u001b[0m\u001b[1;33m)\u001b[0m\u001b[1;33m.\u001b[0m\u001b[0msort\u001b[0m\u001b[1;33m(\u001b[0m\u001b[0mdesc\u001b[0m\u001b[1;33m(\u001b[0m\u001b[1;34m'boys'\u001b[0m\u001b[1;33m)\u001b[0m\u001b[1;33m)\u001b[0m\u001b[1;33m.\u001b[0m\u001b[0mshow\u001b[0m\u001b[1;33m(\u001b[0m\u001b[1;36m5\u001b[0m\u001b[1;33m)\u001b[0m\u001b[1;33m\u001b[0m\u001b[1;33m\u001b[0m\u001b[0m\n\u001b[0m",
      "\u001b[1;31mNameError\u001b[0m: name 'desc' is not defined"
     ]
    }
   ],
   "source": [
    "# df.select('year', 'boys').sort(desc('boys')).show(5)"
   ]
  },
  {
   "cell_type": "code",
   "execution_count": 13,
   "id": "9ac44673",
   "metadata": {},
   "outputs": [
    {
     "name": "stdout",
     "output_type": "stream",
     "text": [
      "+----+---------+---------+\n",
      "|year|     boys|    girls|\n",
      "+----+---------+---------+\n",
      "|1957|2044160.0|2155866.0|\n",
      "|1959|2023044.0|2133509.0|\n",
      "|1960|2022093.0|2132717.0|\n",
      "|1961|2017316.0|2122502.0|\n",
      "|1958|2010884.0|2120712.0|\n",
      "+----+---------+---------+\n",
      "\n"
     ]
    }
   ],
   "source": [
    "df.orderBy(df.boys.desc()).limit(5).show()"
   ]
  },
  {
   "cell_type": "code",
   "execution_count": 14,
   "id": "ba39ef8b",
   "metadata": {},
   "outputs": [
    {
     "name": "stdout",
     "output_type": "stream",
     "text": [
      "+----+---------+\n",
      "|year|     boys|\n",
      "+----+---------+\n",
      "|1957|2044160.0|\n",
      "|1959|2023044.0|\n",
      "|1960|2022093.0|\n",
      "|1961|2017316.0|\n",
      "|1958|2010884.0|\n",
      "+----+---------+\n",
      "\n"
     ]
    }
   ],
   "source": [
    "df.select('year','boys').orderBy('boys',ascending=False).limit(5).show()"
   ]
  },
  {
   "cell_type": "code",
   "execution_count": 15,
   "id": "80e43df6",
   "metadata": {},
   "outputs": [
    {
     "data": {
      "text/html": [
       "<div>\n",
       "<style scoped>\n",
       "    .dataframe tbody tr th:only-of-type {\n",
       "        vertical-align: middle;\n",
       "    }\n",
       "\n",
       "    .dataframe tbody tr th {\n",
       "        vertical-align: top;\n",
       "    }\n",
       "\n",
       "    .dataframe thead th {\n",
       "        text-align: right;\n",
       "    }\n",
       "</style>\n",
       "<table border=\"1\" class=\"dataframe\">\n",
       "  <thead>\n",
       "    <tr style=\"text-align: right;\">\n",
       "      <th></th>\n",
       "      <th>year</th>\n",
       "      <th>boys</th>\n",
       "      <th>girls</th>\n",
       "      <th>남아율(%)</th>\n",
       "    </tr>\n",
       "  </thead>\n",
       "  <tbody>\n",
       "    <tr>\n",
       "      <th>0</th>\n",
       "      <td>1880</td>\n",
       "      <td>90993.0</td>\n",
       "      <td>110491.0</td>\n",
       "      <td>0.451614</td>\n",
       "    </tr>\n",
       "    <tr>\n",
       "      <th>1</th>\n",
       "      <td>1881</td>\n",
       "      <td>91954.0</td>\n",
       "      <td>100745.0</td>\n",
       "      <td>0.477190</td>\n",
       "    </tr>\n",
       "    <tr>\n",
       "      <th>2</th>\n",
       "      <td>1882</td>\n",
       "      <td>107850.0</td>\n",
       "      <td>113688.0</td>\n",
       "      <td>0.486824</td>\n",
       "    </tr>\n",
       "    <tr>\n",
       "      <th>3</th>\n",
       "      <td>1883</td>\n",
       "      <td>112321.0</td>\n",
       "      <td>104629.0</td>\n",
       "      <td>0.517728</td>\n",
       "    </tr>\n",
       "    <tr>\n",
       "      <th>4</th>\n",
       "      <td>1884</td>\n",
       "      <td>129022.0</td>\n",
       "      <td>114445.0</td>\n",
       "      <td>0.529936</td>\n",
       "    </tr>\n",
       "    <tr>\n",
       "      <th>...</th>\n",
       "      <td>...</td>\n",
       "      <td>...</td>\n",
       "      <td>...</td>\n",
       "      <td>...</td>\n",
       "    </tr>\n",
       "    <tr>\n",
       "      <th>127</th>\n",
       "      <td>2007</td>\n",
       "      <td>1919408.0</td>\n",
       "      <td>2072139.0</td>\n",
       "      <td>0.480868</td>\n",
       "    </tr>\n",
       "    <tr>\n",
       "      <th>128</th>\n",
       "      <td>2008</td>\n",
       "      <td>1887234.0</td>\n",
       "      <td>2036289.0</td>\n",
       "      <td>0.481005</td>\n",
       "    </tr>\n",
       "    <tr>\n",
       "      <th>129</th>\n",
       "      <td>2009</td>\n",
       "      <td>1832925.0</td>\n",
       "      <td>1979303.0</td>\n",
       "      <td>0.480802</td>\n",
       "    </tr>\n",
       "    <tr>\n",
       "      <th>130</th>\n",
       "      <td>2010</td>\n",
       "      <td>1772738.0</td>\n",
       "      <td>1913851.0</td>\n",
       "      <td>0.480861</td>\n",
       "    </tr>\n",
       "    <tr>\n",
       "      <th>131</th>\n",
       "      <td>2011</td>\n",
       "      <td>1753500.0</td>\n",
       "      <td>1893230.0</td>\n",
       "      <td>0.480842</td>\n",
       "    </tr>\n",
       "  </tbody>\n",
       "</table>\n",
       "<p>132 rows × 4 columns</p>\n",
       "</div>"
      ],
      "text/plain": [
       "     year       boys      girls    남아율(%)\n",
       "0    1880    90993.0   110491.0  0.451614\n",
       "1    1881    91954.0   100745.0  0.477190\n",
       "2    1882   107850.0   113688.0  0.486824\n",
       "3    1883   112321.0   104629.0  0.517728\n",
       "4    1884   129022.0   114445.0  0.529936\n",
       "..    ...        ...        ...       ...\n",
       "127  2007  1919408.0  2072139.0  0.480868\n",
       "128  2008  1887234.0  2036289.0  0.481005\n",
       "129  2009  1832925.0  1979303.0  0.480802\n",
       "130  2010  1772738.0  1913851.0  0.480861\n",
       "131  2011  1753500.0  1893230.0  0.480842\n",
       "\n",
       "[132 rows x 4 columns]"
      ]
     },
     "execution_count": 15,
     "metadata": {},
     "output_type": "execute_result"
    }
   ],
   "source": [
    "# 4. 남아율(%)컬럼을 추가하고 각년도별 남아수가 차지하는 비율을 보여주시요\n",
    "df_four = df.withColumn('남아율(%)', df['boys'] / (df['boys']+df['girls']) )\n",
    "df_four.toPandas()"
   ]
  },
  {
   "cell_type": "code",
   "execution_count": 16,
   "id": "40ffabde",
   "metadata": {},
   "outputs": [
    {
     "name": "stdout",
     "output_type": "stream",
     "text": [
      "+----+--------+--------+--------+\n",
      "|year|    boys|   girls|    test|\n",
      "+----+--------+--------+--------+\n",
      "|1880| 90993.0|110491.0|181986.0|\n",
      "|1881| 91954.0|100745.0|183908.0|\n",
      "|1882|107850.0|113688.0|215700.0|\n",
      "|1883|112321.0|104629.0|224642.0|\n",
      "|1884|129022.0|114445.0|258044.0|\n",
      "|1885|133055.0|107800.0|266110.0|\n",
      "|1886|144535.0|110784.0|289070.0|\n",
      "|1887|145982.0|101414.0|291964.0|\n",
      "|1888|178627.0|120853.0|357254.0|\n",
      "|1889|178366.0|110584.0|356732.0|\n",
      "|1890|190377.0|111025.0|380754.0|\n",
      "|1891|185482.0|101196.0|370964.0|\n",
      "|1892|212346.0|122037.0|424692.0|\n",
      "|1893|212906.0|112317.0|425812.0|\n",
      "|1894|222922.0|115772.0|445844.0|\n",
      "|1895|233630.0|117398.0|467260.0|\n",
      "|1896|237920.0|119570.0|475840.0|\n",
      "|1897|234202.0|112758.0|468404.0|\n",
      "|1898|258770.0|122693.0|517540.0|\n",
      "|1899|233023.0|106212.0|466046.0|\n",
      "+----+--------+--------+--------+\n",
      "only showing top 20 rows\n",
      "\n"
     ]
    }
   ],
   "source": [
    "df.withColumn('test', df['boys']*2 ).show()"
   ]
  },
  {
   "cell_type": "code",
   "execution_count": 17,
   "id": "0cb6c965",
   "metadata": {},
   "outputs": [
    {
     "data": {
      "image/png": "[encoded data removed]",
      "text/plain": [
       "<Figure size 432x288 with 1 Axes>"
      ]
     },
     "metadata": {},
     "output_type": "display_data"
    }
   ],
   "source": [
    "# 5. 2000년도 이후 데이터를 바차트로 보여주시요\n",
    "import matplotlib.pyplot as plt\n",
    "plt.style.use('ggplot')\n",
    "\n",
    "df_five = df_one.toPandas()\n",
    "df_five.set_index('year' , inplace=True)\n",
    "df_five.plot(kind='bar')\n",
    "plt.ticklabel_format(axis='y',style='plain')\n",
    "plt.show()"
   ]
  },
  {
   "cell_type": "code",
   "execution_count": 18,
   "id": "d094eefc",
   "metadata": {},
   "outputs": [],
   "source": [
    "sc.stop()"
   ]
  }
 ],
 "metadata": {
  "kernelspec": {
   "display_name": "Python 3",
   "language": "python",
   "name": "python3"
  },
  "language_info": {
   "codemirror_mode": {
    "name": "ipython",
    "version": 3
   },
   "file_extension": ".py",
   "mimetype": "text/x-python",
   "name": "python",
   "nbconvert_exporter": "python",
   "pygments_lexer": "ipython3",
   "version": "3.8.8"
  }
 },
 "nbformat": 4,
 "nbformat_minor": 5
}
