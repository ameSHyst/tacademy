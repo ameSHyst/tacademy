{
 "cells": [
  {
   "cell_type": "code",
   "execution_count": 2,
   "id": "97e07912",
   "metadata": {},
   "outputs": [],
   "source": [
    "import tensorflow as tf\n",
    "import numpy as np"
   ]
  },
  {
   "cell_type": "code",
   "execution_count": 3,
   "id": "3b6d3a25",
   "metadata": {},
   "outputs": [],
   "source": [
    "x_data = [1, 2, 3]\n",
    "y_data = [1, 2, 3]"
   ]
  },
  {
   "cell_type": "code",
   "execution_count": 8,
   "id": "e10a0467",
   "metadata": {},
   "outputs": [],
   "source": [
    "w = 3\n",
    "#데이터 노드 생성\n",
    "x = tf.constant(x_data, tf.float32)\n",
    "y = tf.constant(y_data, tf.float32)"
   ]
  },
  {
   "cell_type": "code",
   "execution_count": 15,
   "id": "d11e9c7b",
   "metadata": {},
   "outputs": [],
   "source": [
    "hx = w*x # = tf.multiply(w, x) -> [3, 6, 9]\n",
    "m = tf.subtract(hx,y)\n",
    "sq = tf.square(m) # = (hx-y)**2\n",
    "cost = tf.reduce_mean(sq)"
   ]
  },
  {
   "cell_type": "code",
   "execution_count": 16,
   "id": "1ed2a372",
   "metadata": {},
   "outputs": [],
   "source": [
    "def cost(w):\n",
    "    hx = w*x\n",
    "    cost = tf.reduce_mean( (hx-y)**2 )\n",
    "    return cost"
   ]
  },
  {
   "cell_type": "code",
   "execution_count": 17,
   "id": "b83e4f1c",
   "metadata": {},
   "outputs": [
    {
     "data": {
      "text/plain": [
       "<tf.Tensor: shape=(3,), dtype=float32, numpy=array([3., 6., 9.], dtype=float32)>"
      ]
     },
     "execution_count": 17,
     "metadata": {},
     "output_type": "execute_result"
    }
   ],
   "source": [
    "hx"
   ]
  },
  {
   "cell_type": "code",
   "execution_count": 18,
   "id": "c34b66aa",
   "metadata": {},
   "outputs": [
    {
     "data": {
      "text/plain": [
       "<tf.Tensor: shape=(3,), dtype=float32, numpy=array([ 4., 16., 36.], dtype=float32)>"
      ]
     },
     "execution_count": 18,
     "metadata": {},
     "output_type": "execute_result"
    }
   ],
   "source": [
    "sq"
   ]
  },
  {
   "cell_type": "code",
   "execution_count": 20,
   "id": "9799a72b",
   "metadata": {},
   "outputs": [
    {
     "data": {
      "text/plain": [
       "18.666666"
      ]
     },
     "execution_count": 20,
     "metadata": {},
     "output_type": "execute_result"
    }
   ],
   "source": [
    "cost(3).numpy()"
   ]
  }
 ],
 "metadata": {
  "kernelspec": {
   "display_name": "Python 3",
   "language": "python",
   "name": "python3"
  },
  "language_info": {
   "codemirror_mode": {
    "name": "ipython",
    "version": 3
   },
   "file_extension": ".py",
   "mimetype": "text/x-python",
   "name": "python",
   "nbconvert_exporter": "python",
   "pygments_lexer": "ipython3",
   "version": "3.8.8"
  }
 },
 "nbformat": 4,
 "nbformat_minor": 5
}
