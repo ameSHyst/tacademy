{
 "cells": [
  {
   "cell_type": "code",
   "execution_count": 1,
   "id": "95be6465",
   "metadata": {},
   "outputs": [],
   "source": [
    "# 주피터 노트북 환경설정\n",
    "import warnings\n",
    "warnings.filterwarnings('ignore')\n",
    "warnings.simplefilter('ignore')\n",
    "\n",
    "from IPython.display import set_matplotlib_formats\n",
    "set_matplotlib_formats(\"retina\")\n",
    "\n",
    "from IPython.core.display import display, HTML\n",
    "# display(HTML(\"<style>.container { font-weight: bold !important; font-family:'Malgun Gothic' !important;}</style>\"))\n",
    "# display(HTML(\"<style>.container { font-weight: bold !important;}</style>\"))\n",
    "# display(HTML(\"<style>.container { width: 98% !important; }</style>\"))"
   ]
  },
  {
   "cell_type": "code",
   "execution_count": 2,
   "id": "68d49617",
   "metadata": {},
   "outputs": [],
   "source": [
    "import numpy as np\n",
    "import pandas as pd\n",
    "import os\n",
    "\n",
    "import matplotlib\n",
    "import matplotlib.pyplot as plt\n",
    "import seaborn as sns\n",
    "plt.style.use(\"ggplot\")\n",
    "%matplotlib inline\n",
    "\n",
    "# 관련 라이브러리 임포트 \n",
    "import matplotlib.font_manager as fm\n",
    "\n",
    "#  한글글꼴로 변경\n",
    "# plt.rcParams['font.family'] = '한글글꼴명'\n",
    "plt.rcParams['font.size'] = 11.0\n",
    "# plt.rcParams['font.family'] = 'batang'\n",
    "plt.rcParams['font.family'] = 'Malgun Gothic'\n",
    "\n",
    "# 그래프에서 마이너스 폰트 깨지는 문제에 대한 대처\n",
    "matplotlib.rcParams['axes.unicode_minus'] = False\n",
    "\n",
    "# 그래프 기본 크기 설정 \n",
    "plt.rcParams['figure.figsize'] = [10, 6]"
   ]
  },
  {
   "cell_type": "markdown",
   "id": "4848efe3",
   "metadata": {},
   "source": [
    "# Pipeline \n",
    "\n",
    "- https://scikit-learn.org/stable/modules/generated/sklearn.pipeline.Pipeline.html\n",
    "- 데이터 사전 처리 및 분류의 모든 단계를 포함하는 단일 객체를 만들때 사용한다. \n",
    "- train과 test 데이터 손실을 피할 수 있다.\n",
    "- 교차 검증 및 기타 모델 선택 유형을 쉽게 만든다.\n",
    "- from sklearn.pipeline import Pipeline"
   ]
  },
  {
   "cell_type": "code",
   "execution_count": 3,
   "id": "f34fb961",
   "metadata": {},
   "outputs": [],
   "source": [
    "from sklearn.neighbors import KNeighborsClassifier\n",
    "from sklearn.tree import DecisionTreeClassifier\n",
    "from sklearn.ensemble import RandomForestClassifier\n",
    "from sklearn.linear_model import LinearRegression, LogisticRegression\n",
    "\n",
    "from sklearn.metrics import f1_score, recall_score, precision_score, classification_report\n",
    "from sklearn.metrics import mean_squared_error, r2_score, mean_absolute_error\n",
    "\n",
    "from sklearn.preprocessing import PolynomialFeatures, StandardScaler, MinMaxScaler\n",
    "from sklearn.model_selection import train_test_split, cross_val_score, GridSearchCV\n",
    "\n",
    "from sklearn.pipeline import Pipeline"
   ]
  },
  {
   "cell_type": "code",
   "execution_count": 4,
   "id": "e45f0249",
   "metadata": {},
   "outputs": [
    {
     "name": "stdout",
     "output_type": "stream",
     "text": [
      "['__abstractmethods__', '__annotations__', '__class__', '__delattr__', '__dict__', '__dir__', '__doc__', '__eq__', '__format__', '__ge__', '__getattribute__', '__getitem__', '__getstate__', '__gt__', '__hash__', '__init__', '__init_subclass__', '__le__', '__len__', '__lt__', '__module__', '__ne__', '__new__', '__reduce__', '__reduce_ex__', '__repr__', '__setattr__', '__setstate__', '__sizeof__', '__str__', '__subclasshook__', '__weakref__', '_abc_impl', '_check_fit_params', '_check_n_features', '_estimator_type', '_final_estimator', '_fit', '_get_param_names', '_get_params', '_get_tags', '_inverse_transform', '_iter', '_log_message', '_more_tags', '_pairwise', '_replace_estimator', '_repr_html_', '_repr_html_inner', '_repr_mimebundle_', '_required_parameters', '_set_params', '_sk_visual_block_', '_transform', '_validate_data', '_validate_names', '_validate_steps', 'classes_', 'decision_function', 'fit', 'fit_predict', 'fit_transform', 'get_params', 'inverse_transform', 'n_features_in_', 'named_steps', 'predict', 'predict_log_proba', 'predict_proba', 'score', 'score_samples', 'set_params', 'transform']\n"
     ]
    }
   ],
   "source": [
    "print(dir(Pipeline))"
   ]
  },
  {
   "cell_type": "markdown",
   "id": "b977abaf",
   "metadata": {},
   "source": [
    "### 스케일 + 모델화 "
   ]
  },
  {
   "cell_type": "code",
   "execution_count": 5,
   "id": "473dbd21",
   "metadata": {},
   "outputs": [
    {
     "name": "stdout",
     "output_type": "stream",
     "text": [
      "dict_keys(['data', 'target', 'frame', 'target_names', 'DESCR', 'feature_names', 'filename'])\n",
      "['sepal length (cm)', 'sepal width (cm)', 'petal length (cm)', 'petal width (cm)']\n",
      "['setosa' 'versicolor' 'virginica']\n"
     ]
    }
   ],
   "source": [
    "#데이터셋 준비\n",
    "from sklearn.datasets import load_iris\n",
    "\n",
    "iris_data = load_iris()\n",
    "print(iris_data.keys())\n",
    "\n",
    "X = iris_data.data\n",
    "y = iris_data.target\n",
    "feature_names = iris_data.feature_names\n",
    "target_names = iris_data.target_names\n",
    "\n",
    "print(feature_names)\n",
    "print(target_names)"
   ]
  },
  {
   "cell_type": "code",
   "execution_count": 7,
   "id": "c8190334",
   "metadata": {},
   "outputs": [
    {
     "name": "stdout",
     "output_type": "stream",
     "text": [
      "[[-0.90068117  1.01900435 -1.34022653 -1.3154443 ]\n",
      " [-1.14301691 -0.13197948 -1.34022653 -1.3154443 ]\n",
      " [-1.38535265  0.32841405 -1.39706395 -1.3154443 ]]\n",
      "1.0 0.9473684210526315\n",
      "\n",
      "              precision    recall  f1-score   support\n",
      "\n",
      "           0       1.00      1.00      1.00        13\n",
      "           1       0.92      0.92      0.92        12\n",
      "           2       0.92      0.92      0.92        13\n",
      "\n",
      "    accuracy                           0.95        38\n",
      "   macro avg       0.95      0.95      0.95        38\n",
      "weighted avg       0.95      0.95      0.95        38\n",
      "\n"
     ]
    }
   ],
   "source": [
    "#파이프라인 없이 스케일링 -> 모델 만들어서 학습 -> 성능평가\n",
    "#1) 스케일링\n",
    "scale = StandardScaler()\n",
    "scale.fit(X)\n",
    "X_scale = scale.transform(X)\n",
    "print(X_scale[:3])\n",
    "\n",
    "#2) 학습데이터, 테스트데이터 분리, 모델 생성 및 학습\n",
    "X_train, X_test, y_train, y_test = train_test_split(X_scale, y, random_state=111, stratify=y)\n",
    "\n",
    "model = DecisionTreeClassifier()\n",
    "model.fit(X_train, y_train)\n",
    "\n",
    "#3) 평가 및 예측\n",
    "print(model.score(X_train, y_train) , model.score(X_test, y_test))\n",
    "print()\n",
    "print(classification_report(y_test, model.predict(X_test)))"
   ]
  },
  {
   "cell_type": "code",
   "execution_count": null,
   "id": "fd1a182c",
   "metadata": {},
   "outputs": [],
   "source": [
    "X[:3]"
   ]
  },
  {
   "cell_type": "code",
   "execution_count": 9,
   "id": "4390b7e7",
   "metadata": {},
   "outputs": [
    {
     "name": "stdout",
     "output_type": "stream",
     "text": [
      "Pipeline(steps=[('scale', StandardScaler()),\n",
      "                ('model_dt', DecisionTreeClassifier(max_depth=3))])\n",
      "0.9821428571428571\n",
      "0.9736842105263158\n",
      "[2 0 2 1 0 2 0 0 1 1 2 2 2 1 1 0 0 0 0 2 2 1 1 2 1 2 0 1 1 0 0 0 2 1 2 0 2\n",
      " 2]\n",
      "{'memory': None, 'steps': [('scale', StandardScaler()), ('model_dt', DecisionTreeClassifier(max_depth=3))], 'verbose': False, 'scale': StandardScaler(), 'model_dt': DecisionTreeClassifier(max_depth=3), 'scale__copy': True, 'scale__with_mean': True, 'scale__with_std': True, 'model_dt__ccp_alpha': 0.0, 'model_dt__class_weight': None, 'model_dt__criterion': 'gini', 'model_dt__max_depth': 3, 'model_dt__max_features': None, 'model_dt__max_leaf_nodes': None, 'model_dt__min_impurity_decrease': 0.0, 'model_dt__min_impurity_split': None, 'model_dt__min_samples_leaf': 1, 'model_dt__min_samples_split': 2, 'model_dt__min_weight_fraction_leaf': 0.0, 'model_dt__random_state': None, 'model_dt__splitter': 'best'}\n",
      "0.9731615673644659\n"
     ]
    }
   ],
   "source": [
    "#파이프라인 이용\n",
    "\n",
    "#학습데이터와 테스트데이터 분리\n",
    "X_train, X_test, y_train, y_test = train_test_split(X, y, random_state=111, stratify=y)\n",
    "\n",
    "#파이프라인 구축(스케일링 -> 모델 생성)\n",
    "#파이프라인객체변수 = Pipeline([ (객체변수1, 객체생성메서드1),(객체변수2, 객체생성메서드2), ...  ])\n",
    "pipe = Pipeline([ ('scale', StandardScaler()), \n",
    "                  ('model_dt', DecisionTreeClassifier(max_depth=3)) ])\n",
    "print(pipe)\n",
    "\n",
    "#파이프라인 이용 학습 \n",
    "pipe.fit(X_train, y_train)\n",
    "\n",
    "#성능 평가\n",
    "print(pipe.score(X_train, y_train))\n",
    "print(pipe.score(X_test, y_test))\n",
    "\n",
    "#예측\n",
    "print(pipe.predict(X_test))\n",
    "\n",
    "#파이프라인의 파라미터 정보\n",
    "print(pipe.get_params())\n",
    "\n",
    "#F1 score\n",
    "print(f1_score(y_test, pipe.predict(X_test), average='macro'))\n"
   ]
  },
  {
   "cell_type": "markdown",
   "id": "644ec8b9",
   "metadata": {},
   "source": [
    "### 스케일 + Polynominal + 모델화 "
   ]
  },
  {
   "cell_type": "code",
   "execution_count": 10,
   "id": "c60a5d70",
   "metadata": {},
   "outputs": [],
   "source": [
    "#농어의 길이와 몸무게\n",
    "\n",
    "perch_length = np.array(\n",
    "    [8.4, 13.7, 15.0, 16.2, 17.4, 18.0, 18.7, 19.0, 19.6, 20.0, \n",
    "     21.0, 21.0, 21.0, 21.3, 22.0, 22.0, 22.0, 22.0, 22.0, 22.5, \n",
    "     22.5, 22.7, 23.0, 23.5, 24.0, 24.0, 24.6, 25.0, 25.6, 26.5, \n",
    "     27.3, 27.5, 27.5, 27.5, 28.0, 28.7, 30.0, 32.8, 34.5, 35.0, \n",
    "     36.5, 36.0, 37.0, 37.0, 39.0, 39.0, 39.0, 40.0, 40.0, 40.0, \n",
    "     40.0, 42.0, 43.0, 43.0, 43.5, 44.0]\n",
    "     ).reshape(-1, 1)\n",
    "\n",
    "perch_weight = np.array(\n",
    "    [5.9, 32.0, 40.0, 51.5, 70.0, 100.0, 78.0, 80.0, 85.0, 85.0, \n",
    "     110.0, 115.0, 125.0, 130.0, 120.0, 120.0, 130.0, 135.0, 110.0, \n",
    "     130.0, 150.0, 145.0, 150.0, 170.0, 225.0, 145.0, 188.0, 180.0, \n",
    "     197.0, 218.0, 300.0, 260.0, 265.0, 250.0, 250.0, 300.0, 320.0, \n",
    "     514.0, 556.0, 840.0, 685.0, 700.0, 700.0, 690.0, 900.0, 650.0, \n",
    "     820.0, 850.0, 900.0, 1015.0, 820.0, 1100.0, 1000.0, 1100.0, \n",
    "     1000.0, 1000.0]\n",
    "     ).reshape(-1, 1)"
   ]
  },
  {
   "cell_type": "code",
   "execution_count": null,
   "id": "f95a99a2",
   "metadata": {},
   "outputs": [],
   "source": [
    "#파이프라인 없이 모델 구축 후 평가\n",
    "#스케일링 -> 데이터 분리 -> 다항식 이용 -> 모델 만들어서 학습 -> 성능평가"
   ]
  },
  {
   "cell_type": "code",
   "execution_count": 11,
   "id": "e32fb032",
   "metadata": {},
   "outputs": [
    {
     "name": "stdout",
     "output_type": "stream",
     "text": [
      "\n",
      "0.9369469361716163\n",
      "\n",
      "[[ 13.96546946]\n",
      " [ 10.96993168]\n",
      " [ 10.96993168]\n",
      " [ 94.08254146]\n",
      " [ 10.96993168]\n",
      " [ 64.8561176 ]\n",
      " [ 39.47073516]\n",
      " [ 14.93081859]\n",
      " [ 33.7036993 ]\n",
      " [ 16.40618757]\n",
      " [ 28.73506637]\n",
      " [ 28.73506637]\n",
      " [ 18.27519618]\n",
      " [112.77435527]]\n"
     ]
    }
   ],
   "source": [
    "#스케일링\n",
    "scale = StandardScaler()\n",
    "scale.fit(perch_length)\n",
    "X_scale = scale.transform(perch_length)\n",
    "y_scale = scale.transform(perch_weight)\n",
    "\n",
    "#데이터 분리\n",
    "# X_train, X_test, y_train, y_test = train_test_split(X_scale, y, random_state=111)\n",
    "X_train, X_test, y_train, y_test = train_test_split(X_scale, y_scale, random_state=111)\n",
    "\n",
    "#다항식 이용\n",
    "poly = PolynomialFeatures(degree=3, include_bias=False)\n",
    "poly.fit(X_train)\n",
    "X_train_poly = poly.transform(X_train)\n",
    "X_test_poly = poly.transform(X_test)\n",
    "\n",
    "#모델 생성\n",
    "model_lr = LinearRegression()\n",
    "model_lr.fit(X_train_poly, y_train)\n",
    "print()\n",
    "\n",
    "#평가\n",
    "print(model_lr.score(X_test_poly, y_test))\n",
    "print()\n",
    "print(model_lr.predict(X_test_poly))\n"
   ]
  },
  {
   "cell_type": "code",
   "execution_count": 13,
   "id": "dc916b8f",
   "metadata": {},
   "outputs": [
    {
     "name": "stdout",
     "output_type": "stream",
     "text": [
      "{'memory': None, 'steps': [('scale', StandardScaler()), ('poly', PolynomialFeatures(degree=3, include_bias=False)), ('model_lr', LinearRegression())], 'verbose': False, 'scale': StandardScaler(), 'poly': PolynomialFeatures(degree=3, include_bias=False), 'model_lr': LinearRegression(), 'scale__copy': True, 'scale__with_mean': True, 'scale__with_std': True, 'poly__degree': 3, 'poly__include_bias': False, 'poly__interaction_only': False, 'poly__order': 'C', 'model_lr__copy_X': True, 'model_lr__fit_intercept': True, 'model_lr__n_jobs': None, 'model_lr__normalize': False, 'model_lr__positive': False}\n",
      "0.9369469361716162\n",
      "[[ 152.75469172]\n",
      " [ 125.97232365]\n",
      " [ 125.97232365]\n",
      " [ 869.06176731]\n",
      " [ 125.97232365]\n",
      " [ 607.75548538]\n",
      " [ 380.79101196]\n",
      " [ 161.38564135]\n",
      " [ 329.22935988]\n",
      " [ 174.57655325]\n",
      " [ 284.8060324 ]\n",
      " [ 284.8060324 ]\n",
      " [ 191.28690043]\n",
      " [1036.18068663]]\n"
     ]
    }
   ],
   "source": [
    "#파이프라인 이용\n",
    "\n",
    "#데이터 분리\n",
    "X_train, X_test, y_train, y_test = train_test_split(perch_length, perch_weight, random_state=111)\n",
    "\n",
    "#파이프라인 구축\n",
    "pipe2 = Pipeline([ ('scale', StandardScaler()), \n",
    "                      ('poly', PolynomialFeatures(degree=3, include_bias=False)),\n",
    "                      ('model_lr', LinearRegression()) ])\n",
    "\n",
    "#파이프라인의 파라미터 정보\n",
    "print(pipe2.get_params())\n",
    "\n",
    "#파이프라인 이용 학습\n",
    "pipe2.fit(X_train, y_train)\n",
    "\n",
    "#성능 평가\n",
    "print(pipe2.score(X_test, y_test))\n",
    "\n",
    "#예측\n",
    "print(pipe2.predict(X_test))\n"
   ]
  },
  {
   "cell_type": "markdown",
   "id": "2d7a9bd6",
   "metadata": {},
   "source": [
    "# 퀴즈 \n",
    "\n",
    "보스턴 주택 가격데이타를 파이프라인 구축 후 테스트하여라\n",
    "    \n",
    "    PolynomialFeatures + 스케일링 + 선형회귀"
   ]
  },
  {
   "cell_type": "code",
   "execution_count": 14,
   "id": "75ffe9ad",
   "metadata": {},
   "outputs": [],
   "source": [
    "from sklearn.datasets import load_boston\n",
    "\n",
    "boston = load_boston()\n",
    "boston_df = pd.DataFrame(boston.data , columns = boston.feature_names)"
   ]
  },
  {
   "cell_type": "code",
   "execution_count": 15,
   "id": "93f02dc9",
   "metadata": {},
   "outputs": [],
   "source": [
    "from sklearn.model_selection import train_test_split\n",
    "from sklearn.linear_model import LinearRegression\n",
    "from sklearn.metrics import mean_squared_error , r2_score"
   ]
  },
  {
   "cell_type": "code",
   "execution_count": 17,
   "id": "80ae935e",
   "metadata": {},
   "outputs": [
    {
     "data": {
      "text/html": [
       "<div>\n",
       "<style scoped>\n",
       "    .dataframe tbody tr th:only-of-type {\n",
       "        vertical-align: middle;\n",
       "    }\n",
       "\n",
       "    .dataframe tbody tr th {\n",
       "        vertical-align: top;\n",
       "    }\n",
       "\n",
       "    .dataframe thead th {\n",
       "        text-align: right;\n",
       "    }\n",
       "</style>\n",
       "<table border=\"1\" class=\"dataframe\">\n",
       "  <thead>\n",
       "    <tr style=\"text-align: right;\">\n",
       "      <th></th>\n",
       "      <th>CRIM</th>\n",
       "      <th>ZN</th>\n",
       "      <th>INDUS</th>\n",
       "      <th>CHAS</th>\n",
       "      <th>NOX</th>\n",
       "      <th>RM</th>\n",
       "      <th>AGE</th>\n",
       "      <th>DIS</th>\n",
       "      <th>RAD</th>\n",
       "      <th>TAX</th>\n",
       "      <th>PTRATIO</th>\n",
       "      <th>B</th>\n",
       "      <th>LSTAT</th>\n",
       "      <th>PRICE</th>\n",
       "    </tr>\n",
       "  </thead>\n",
       "  <tbody>\n",
       "    <tr>\n",
       "      <th>0</th>\n",
       "      <td>0.00632</td>\n",
       "      <td>18.0</td>\n",
       "      <td>2.31</td>\n",
       "      <td>0.0</td>\n",
       "      <td>0.538</td>\n",
       "      <td>6.575</td>\n",
       "      <td>65.2</td>\n",
       "      <td>4.0900</td>\n",
       "      <td>1.0</td>\n",
       "      <td>296.0</td>\n",
       "      <td>15.3</td>\n",
       "      <td>396.90</td>\n",
       "      <td>4.98</td>\n",
       "      <td>24.0</td>\n",
       "    </tr>\n",
       "    <tr>\n",
       "      <th>1</th>\n",
       "      <td>0.02731</td>\n",
       "      <td>0.0</td>\n",
       "      <td>7.07</td>\n",
       "      <td>0.0</td>\n",
       "      <td>0.469</td>\n",
       "      <td>6.421</td>\n",
       "      <td>78.9</td>\n",
       "      <td>4.9671</td>\n",
       "      <td>2.0</td>\n",
       "      <td>242.0</td>\n",
       "      <td>17.8</td>\n",
       "      <td>396.90</td>\n",
       "      <td>9.14</td>\n",
       "      <td>21.6</td>\n",
       "    </tr>\n",
       "    <tr>\n",
       "      <th>2</th>\n",
       "      <td>0.02729</td>\n",
       "      <td>0.0</td>\n",
       "      <td>7.07</td>\n",
       "      <td>0.0</td>\n",
       "      <td>0.469</td>\n",
       "      <td>7.185</td>\n",
       "      <td>61.1</td>\n",
       "      <td>4.9671</td>\n",
       "      <td>2.0</td>\n",
       "      <td>242.0</td>\n",
       "      <td>17.8</td>\n",
       "      <td>392.83</td>\n",
       "      <td>4.03</td>\n",
       "      <td>34.7</td>\n",
       "    </tr>\n",
       "    <tr>\n",
       "      <th>3</th>\n",
       "      <td>0.03237</td>\n",
       "      <td>0.0</td>\n",
       "      <td>2.18</td>\n",
       "      <td>0.0</td>\n",
       "      <td>0.458</td>\n",
       "      <td>6.998</td>\n",
       "      <td>45.8</td>\n",
       "      <td>6.0622</td>\n",
       "      <td>3.0</td>\n",
       "      <td>222.0</td>\n",
       "      <td>18.7</td>\n",
       "      <td>394.63</td>\n",
       "      <td>2.94</td>\n",
       "      <td>33.4</td>\n",
       "    </tr>\n",
       "    <tr>\n",
       "      <th>4</th>\n",
       "      <td>0.06905</td>\n",
       "      <td>0.0</td>\n",
       "      <td>2.18</td>\n",
       "      <td>0.0</td>\n",
       "      <td>0.458</td>\n",
       "      <td>7.147</td>\n",
       "      <td>54.2</td>\n",
       "      <td>6.0622</td>\n",
       "      <td>3.0</td>\n",
       "      <td>222.0</td>\n",
       "      <td>18.7</td>\n",
       "      <td>396.90</td>\n",
       "      <td>5.33</td>\n",
       "      <td>36.2</td>\n",
       "    </tr>\n",
       "  </tbody>\n",
       "</table>\n",
       "</div>"
      ],
      "text/plain": [
       "      CRIM    ZN  INDUS  CHAS    NOX     RM   AGE     DIS  RAD    TAX  \\\n",
       "0  0.00632  18.0   2.31   0.0  0.538  6.575  65.2  4.0900  1.0  296.0   \n",
       "1  0.02731   0.0   7.07   0.0  0.469  6.421  78.9  4.9671  2.0  242.0   \n",
       "2  0.02729   0.0   7.07   0.0  0.469  7.185  61.1  4.9671  2.0  242.0   \n",
       "3  0.03237   0.0   2.18   0.0  0.458  6.998  45.8  6.0622  3.0  222.0   \n",
       "4  0.06905   0.0   2.18   0.0  0.458  7.147  54.2  6.0622  3.0  222.0   \n",
       "\n",
       "   PTRATIO       B  LSTAT  PRICE  \n",
       "0     15.3  396.90   4.98   24.0  \n",
       "1     17.8  396.90   9.14   21.6  \n",
       "2     17.8  392.83   4.03   34.7  \n",
       "3     18.7  394.63   2.94   33.4  \n",
       "4     18.7  396.90   5.33   36.2  "
      ]
     },
     "execution_count": 17,
     "metadata": {},
     "output_type": "execute_result"
    }
   ],
   "source": [
    "# y 데이타 \n",
    "boston_df['PRICE'] = boston.target\n",
    "boston_df.head()"
   ]
  },
  {
   "cell_type": "code",
   "execution_count": 22,
   "id": "e83ff016",
   "metadata": {},
   "outputs": [],
   "source": [
    "y_target = boston_df['PRICE']\n",
    "X_data = boston_df.drop(['PRICE'], axis=1, inplace=False)\n",
    "\n",
    "X_train , X_test , y_train , y_test = train_test_split( X_data , y_target , \\\n",
    "                                                       test_size=0.3, random_state=156)"
   ]
  },
  {
   "cell_type": "code",
   "execution_count": 23,
   "id": "5665aacc",
   "metadata": {},
   "outputs": [],
   "source": [
    "# 학습용데이타 X 에 PolynomialFeatures 적용 \n",
    "poly.fit(X_train)\n",
    "X_train_poly = poly.transform(X_train)\n",
    "X_test_poly = poly.transform(X_test)"
   ]
  },
  {
   "cell_type": "code",
   "execution_count": 24,
   "id": "8caeff6c",
   "metadata": {},
   "outputs": [
    {
     "name": "stdout",
     "output_type": "stream",
     "text": [
      "1.0\n",
      "-1116.5979172270693\n"
     ]
    }
   ],
   "source": [
    "# 선형 모델 생성 후 학습 \n",
    "model_lr = LinearRegression()\n",
    "model_lr.fit(X_train_poly, y_train)\n",
    "\n",
    "print(model_lr.score(X_train_poly, y_train))\n",
    "print(model_lr.score(X_test_poly, y_test))"
   ]
  },
  {
   "cell_type": "code",
   "execution_count": 25,
   "id": "6ce8b4e9",
   "metadata": {},
   "outputs": [],
   "source": [
    "#파이프라인 구축\n",
    "pipe3 = Pipeline([ ('scale', StandardScaler()), \n",
    "                      ('poly', PolynomialFeatures(degree=3, include_bias=False)),\n",
    "                      ('model_lr', LinearRegression()) ])"
   ]
  },
  {
   "cell_type": "code",
   "execution_count": null,
   "id": "860e093c",
   "metadata": {},
   "outputs": [],
   "source": []
  },
  {
   "cell_type": "code",
   "execution_count": 26,
   "id": "2a23b804",
   "metadata": {},
   "outputs": [
    {
     "name": "stdout",
     "output_type": "stream",
     "text": [
      "{'memory': None, 'steps': [('scale', StandardScaler()), ('poly', PolynomialFeatures(degree=3, include_bias=False)), ('model_lr', LinearRegression())], 'verbose': False, 'scale': StandardScaler(), 'poly': PolynomialFeatures(degree=3, include_bias=False), 'model_lr': LinearRegression(), 'scale__copy': True, 'scale__with_mean': True, 'scale__with_std': True, 'poly__degree': 3, 'poly__include_bias': False, 'poly__interaction_only': False, 'poly__order': 'C', 'model_lr__copy_X': True, 'model_lr__fit_intercept': True, 'model_lr__n_jobs': None, 'model_lr__normalize': False, 'model_lr__positive': False}\n"
     ]
    }
   ],
   "source": [
    "#파이프라인의 파라미터 정보\n",
    "print(pipe3.get_params())"
   ]
  },
  {
   "cell_type": "code",
   "execution_count": 29,
   "id": "458f8485",
   "metadata": {},
   "outputs": [
    {
     "name": "stdout",
     "output_type": "stream",
     "text": [
      "-464.1830001411799\n",
      "1.0\n",
      "[ 3.68537574e+01  1.55173593e+01  3.56286071e+01  2.17320161e+01\n",
      "  1.20703435e+01  2.34008464e+01 -6.25374031e+00  3.05512892e+01\n",
      "  3.15282856e+00  3.52483266e+01  2.92103439e+01 -5.17231495e+01\n",
      "  3.00492888e+01  3.18250412e+01  6.36554599e+01  2.24747144e+01\n",
      "  2.23553370e+03  6.99985515e+00  4.22498334e+01  2.65444115e+01\n",
      "  2.53914810e+01  6.02779668e+01  2.81217789e+01  1.76345904e+01\n",
      "  3.31033461e+01  2.98406660e+01 -7.50738149e+00  4.49112641e+01\n",
      "  1.67832365e+01  3.73362636e+01  3.06008544e+01  1.71183004e+01\n",
      "  1.61025875e+01  2.34543028e+01  2.36033504e+01  9.89474553e+00\n",
      "  1.41936045e+01 -2.66089850e+00  6.76040486e+00  2.55453880e+01\n",
      "  3.70107806e+01 -4.82199232e+01 -5.11882049e-01 -8.11212667e+01\n",
      "  2.05075784e+01  1.50893691e+01  2.44024387e+01  1.18797176e+01\n",
      "  3.32083282e+01  8.89477767e+00  3.97092333e+01  6.54499378e+00\n",
      "  8.29095651e+01  1.91340061e+01  2.37952695e+01  2.70550342e+01\n",
      "  1.28105253e+01  2.91456642e+01  1.39681743e+01  9.98082591e+00\n",
      "  1.98725402e+01  1.88194862e+01  2.78818862e+01  2.89850571e+01\n",
      "  9.35006031e+00  1.74497356e+01  4.30488494e+01  3.80804625e+01\n",
      "  2.21297830e+01  2.11802329e+01  3.78205139e+01  6.89005213e+01\n",
      "  3.48844731e+01  1.15126219e+01  1.70574230e+01  2.91651002e+01\n",
      "  2.82703308e+01  2.28446514e+01  1.32611159e+01  1.91386048e+01\n",
      "  3.92404722e+01  9.88258409e+00  2.74248948e+01  3.39546371e+01\n",
      "  3.43443084e+01  1.60027935e+01  2.94710803e+01  2.69402449e+01\n",
      "  2.48303348e+01  4.83195326e+01  5.17031233e+01  2.62780007e+00\n",
      " -3.53007369e+01  3.37848149e+01  2.04992413e+01  2.14502138e+01\n",
      "  1.02623664e+01  1.77711021e+01  2.88956133e+01  2.45050207e+01\n",
      "  2.45812233e+01  2.62469582e+01  5.69578996e+01  3.39952165e+01\n",
      "  7.03672720e+01 -7.70457832e+00  2.45740783e+01  4.12283003e+01\n",
      "  3.38924582e+00  2.19455839e+01  3.09191032e+01  2.59850931e+01\n",
      "  1.50310209e+01  2.31561431e+01  1.85688252e+01  5.84926855e+01\n",
      "  2.20354488e+01 -2.01696323e+00  1.56278827e+01  5.46796699e+01\n",
      "  3.95096597e+01  2.11903287e+01  3.03925571e+01  1.28005473e+01\n",
      "  2.12767943e+01  5.30160283e+01  1.71845027e+02  2.96166925e+01\n",
      "  2.16979039e+01  3.01373554e+01  2.03325573e+01 -1.14056907e+01\n",
      "  2.82680360e+01  1.93823039e+01  2.70844143e+01  2.04258368e+01\n",
      "  4.48187150e+01  2.06338484e+01  1.66136653e+01  5.95927564e+00\n",
      "  1.16290741e+01  1.90392241e+01  2.76068965e+01  8.54685735e+00\n",
      "  3.37730758e+01  9.51191007e+01  3.80932400e+01  1.57808134e+01\n",
      "  2.22735320e+01  1.05527103e+01  5.06120793e+00  4.09995692e+01]\n"
     ]
    }
   ],
   "source": [
    "#파이프라인 이용 학습\n",
    "pipe3.fit(X_train, y_train)\n",
    "\n",
    "#성능 평가\n",
    "print(pipe3.score(X_test, y_test))\n",
    "print(pipe3.score(X_train, y_train))\n",
    "\n",
    "#예측\n",
    "print(pipe3.predict(X_test))"
   ]
  },
  {
   "cell_type": "code",
   "execution_count": null,
   "id": "5a356959",
   "metadata": {},
   "outputs": [],
   "source": []
  }
 ],
 "metadata": {
  "kernelspec": {
   "display_name": "Python 3",
   "language": "python",
   "name": "python3"
  },
  "language_info": {
   "codemirror_mode": {
    "name": "ipython",
    "version": 3
   },
   "file_extension": ".py",
   "mimetype": "text/x-python",
   "name": "python",
   "nbconvert_exporter": "python",
   "pygments_lexer": "ipython3",
   "version": "3.8.8"
  }
 },
 "nbformat": 4,
 "nbformat_minor": 5
}
