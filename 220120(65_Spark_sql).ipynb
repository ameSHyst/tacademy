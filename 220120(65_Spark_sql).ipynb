{
 "cells": [
  {
   "cell_type": "markdown",
   "id": "a3363824",
   "metadata": {},
   "source": [
    "    -hiveQL : http://hortonworks.com/wp-content/uploads/2016/05/Hortonworks.CheatSheet.SQLtoHive.pdf\n",
    "    -hive function : https://cwiki.apache.org/confluence/display/hive/languagemanual+udf"
   ]
  },
  {
   "cell_type": "code",
   "execution_count": 1,
   "id": "5a6808de",
   "metadata": {},
   "outputs": [],
   "source": [
    "from pyspark import SparkContext\n",
    "from pyspark.sql import SQLContext, Row\n",
    "import pandas as pd"
   ]
  },
  {
   "cell_type": "code",
   "execution_count": 2,
   "id": "9f0bb796",
   "metadata": {},
   "outputs": [],
   "source": [
    "sc = SparkContext('local')"
   ]
  },
  {
   "cell_type": "code",
   "execution_count": 3,
   "id": "dbbcd0e6",
   "metadata": {},
   "outputs": [],
   "source": [
    "sqlCtx = SQLContext(sc)"
   ]
  },
  {
   "cell_type": "code",
   "execution_count": 4,
   "id": "2dbceff6",
   "metadata": {},
   "outputs": [],
   "source": [
    "emp =[('홍길동',1),('이순신',2),\n",
    "      ('임꺽정',3),('김철수',3),('김철수1',5)]\n",
    "dept = [('개발',1), ('연구',2),\n",
    "        ('영업',3),('기획',4) ]"
   ]
  },
  {
   "cell_type": "code",
   "execution_count": 5,
   "id": "9324c8ec",
   "metadata": {},
   "outputs": [
    {
     "data": {
      "text/plain": [
       "ParallelCollectionRDD[0] at readRDDFromFile at PythonRDD.scala:262"
      ]
     },
     "execution_count": 5,
     "metadata": {},
     "output_type": "execute_result"
    }
   ],
   "source": [
    "empRdd = sc.parallelize(emp)\n",
    "empRdd"
   ]
  },
  {
   "cell_type": "code",
   "execution_count": 6,
   "id": "d71bbf6d",
   "metadata": {},
   "outputs": [
    {
     "data": {
      "text/plain": [
       "DataFrame[_1: string, _2: bigint]"
      ]
     },
     "execution_count": 6,
     "metadata": {},
     "output_type": "execute_result"
    }
   ],
   "source": [
    "empDF1 = empRdd.toDF() #분산 데이터프레임으로 변환\n",
    "empDF1"
   ]
  },
  {
   "cell_type": "code",
   "execution_count": 7,
   "id": "b46cbf93",
   "metadata": {},
   "outputs": [
    {
     "name": "stdout",
     "output_type": "stream",
     "text": [
      "+-------+---+\n",
      "|     _1| _2|\n",
      "+-------+---+\n",
      "| 홍길동|  1|\n",
      "| 이순신|  2|\n",
      "| 임꺽정|  3|\n",
      "| 김철수|  3|\n",
      "|김철수1|  5|\n",
      "+-------+---+\n",
      "\n"
     ]
    }
   ],
   "source": [
    "empDF1.show()"
   ]
  },
  {
   "cell_type": "code",
   "execution_count": 8,
   "id": "9d1a62b9",
   "metadata": {},
   "outputs": [
    {
     "data": {
      "text/plain": [
       "DataFrame[_1: string, _2: bigint]"
      ]
     },
     "execution_count": 8,
     "metadata": {},
     "output_type": "execute_result"
    }
   ],
   "source": [
    "empDF = sqlCtx.createDataFrame(emp)\n",
    "empDF"
   ]
  },
  {
   "cell_type": "code",
   "execution_count": 9,
   "id": "ff74573e",
   "metadata": {},
   "outputs": [
    {
     "name": "stdout",
     "output_type": "stream",
     "text": [
      "+-------+---+\n",
      "|     _1| _2|\n",
      "+-------+---+\n",
      "| 홍길동|  1|\n",
      "| 이순신|  2|\n",
      "| 임꺽정|  3|\n",
      "| 김철수|  3|\n",
      "|김철수1|  5|\n",
      "+-------+---+\n",
      "\n"
     ]
    }
   ],
   "source": [
    "empDF.show()"
   ]
  },
  {
   "cell_type": "code",
   "execution_count": 17,
   "id": "c6704435",
   "metadata": {},
   "outputs": [
    {
     "data": {
      "text/plain": [
       "DataFrame[관서명: string, 살인 발생: int, 살인 검거: int, 강도 발생: int, 강도 검거: int, 강간 발생: int, 강간 검거: int, 절도 발생: string, 절도 검거: string, 폭력 발생: string, 폭력 검거: string]"
      ]
     },
     "execution_count": 17,
     "metadata": {},
     "output_type": "execute_result"
    }
   ],
   "source": [
    "df = sqlCtx.read.csv('data/crime_in_Seoul.csv', encoding='euc-kr', \n",
    "                     header=True, inferSchema=True) #inferSchema : 데이터 타입 자동으로 맞춰줌\n",
    "                                                    #header와 inferSchema는 필수\n",
    "df"
   ]
  },
  {
   "cell_type": "code",
   "execution_count": 18,
   "id": "b7ac78f5",
   "metadata": {},
   "outputs": [
    {
     "name": "stdout",
     "output_type": "stream",
     "text": [
      "+--------+---------+---------+---------+---------+---------+---------+---------+---------+---------+---------+\n",
      "|  관서명|살인 발생|살인 검거|강도 발생|강도 검거|강간 발생|강간 검거|절도 발생|절도 검거|폭력 발생|폭력 검거|\n",
      "+--------+---------+---------+---------+---------+---------+---------+---------+---------+---------+---------+\n",
      "|  중부서|        2|        2|        3|        2|      105|       65|    1,395|      477|    1,355|    1,170|\n",
      "|  종로서|        3|        3|        6|        5|      115|       98|    1,070|      413|    1,278|    1,070|\n",
      "|남대문서|        1|        0|        6|        4|       65|       46|    1,153|      382|      869|      794|\n",
      "|서대문서|        2|        2|        5|        4|      154|      124|    1,812|      738|    2,056|    1,711|\n",
      "|  혜화서|        3|        2|        5|        4|       96|       63|    1,114|      424|    1,015|      861|\n",
      "|  용산서|        5|        5|       14|       14|      194|      173|    1,557|      587|    2,050|    1,704|\n",
      "|  성북서|        2|        2|        2|        1|       86|       71|      953|      409|    1,194|    1,015|\n",
      "|동대문서|        5|        5|       13|       13|      173|      146|    1,981|      814|    2,548|    2,227|\n",
      "|  마포서|        8|        8|       14|       10|      294|      247|    2,555|      813|    2,983|    2,519|\n",
      "|영등포서|       14|       12|       22|       20|      295|      183|    2,964|      978|    3,572|    2,961|\n",
      "|  성동서|        4|        4|        9|        8|      126|      119|    1,607|      597|    1,612|    1,395|\n",
      "|  동작서|        5|        5|        9|        5|      285|      139|    1,865|      661|    1,910|    1,587|\n",
      "|  광진서|        4|        4|       14|       26|      240|      220|    3,026|    1,277|    2,625|    2,180|\n",
      "|  서부서|        2|        2|        2|        1|       70|       59|      819|      293|    1,192|    1,038|\n",
      "|  강북서|        7|        8|       14|       13|      153|      126|    1,434|      618|    2,649|    2,348|\n",
      "|  금천서|        3|        4|        6|        6|      151|      122|    1,567|      888|    2,054|    1,776|\n",
      "|  중랑서|       13|       12|       11|        9|      187|      148|    2,135|      829|    2,847|    2,407|\n",
      "|  강남서|        3|        3|       15|       12|      300|      225|    2,411|      984|    2,465|    2,146|\n",
      "|  관악서|        9|        8|       12|       14|      320|      221|    2,706|      827|    3,298|    2,642|\n",
      "|  강서서|        7|        8|       13|       13|      262|      191|    2,096|    1,260|    3,207|    2,718|\n",
      "+--------+---------+---------+---------+---------+---------+---------+---------+---------+---------+---------+\n",
      "only showing top 20 rows\n",
      "\n"
     ]
    }
   ],
   "source": [
    "df.show()"
   ]
  },
  {
   "cell_type": "code",
   "execution_count": 19,
   "id": "fca99c93",
   "metadata": {},
   "outputs": [
    {
     "name": "stdout",
     "output_type": "stream",
     "text": [
      "root\n",
      " |-- 관서명: string (nullable = true)\n",
      " |-- 살인 발생: integer (nullable = true)\n",
      " |-- 살인 검거: integer (nullable = true)\n",
      " |-- 강도 발생: integer (nullable = true)\n",
      " |-- 강도 검거: integer (nullable = true)\n",
      " |-- 강간 발생: integer (nullable = true)\n",
      " |-- 강간 검거: integer (nullable = true)\n",
      " |-- 절도 발생: string (nullable = true)\n",
      " |-- 절도 검거: string (nullable = true)\n",
      " |-- 폭력 발생: string (nullable = true)\n",
      " |-- 폭력 검거: string (nullable = true)\n",
      "\n"
     ]
    }
   ],
   "source": [
    "df.printSchema()"
   ]
  },
  {
   "cell_type": "code",
   "execution_count": 20,
   "id": "2c2f81d6",
   "metadata": {},
   "outputs": [
    {
     "name": "stdout",
     "output_type": "stream",
     "text": [
      "+-------+---+\n",
      "|     _1| _2|\n",
      "+-------+---+\n",
      "| 홍길동|  1|\n",
      "| 이순신|  2|\n",
      "| 임꺽정|  3|\n",
      "| 김철수|  3|\n",
      "|김철수1|  5|\n",
      "+-------+---+\n",
      "\n"
     ]
    }
   ],
   "source": [
    "empDF.show()"
   ]
  },
  {
   "cell_type": "code",
   "execution_count": 22,
   "id": "5fb4fae5",
   "metadata": {},
   "outputs": [
    {
     "name": "stdout",
     "output_type": "stream",
     "text": [
      "+-------+------+\n",
      "|   name|deptid|\n",
      "+-------+------+\n",
      "| 홍길동|     1|\n",
      "| 이순신|     2|\n",
      "| 임꺽정|     3|\n",
      "| 김철수|     3|\n",
      "|김철수1|     5|\n",
      "+-------+------+\n",
      "\n"
     ]
    }
   ],
   "source": [
    "testDF = sqlCtx.createDataFrame(emp, ['name', 'deptid'] )\n",
    "testDF.show()"
   ]
  },
  {
   "cell_type": "code",
   "execution_count": 23,
   "id": "779d30e6",
   "metadata": {},
   "outputs": [
    {
     "name": "stdout",
     "output_type": "stream",
     "text": [
      "root\n",
      " |-- name: string (nullable = true)\n",
      " |-- deptid: long (nullable = true)\n",
      "\n"
     ]
    }
   ],
   "source": [
    "testDF.printSchema()"
   ]
  },
  {
   "cell_type": "code",
   "execution_count": 24,
   "id": "959370e6",
   "metadata": {},
   "outputs": [
    {
     "data": {
      "text/html": [
       "<div>\n",
       "<style scoped>\n",
       "    .dataframe tbody tr th:only-of-type {\n",
       "        vertical-align: middle;\n",
       "    }\n",
       "\n",
       "    .dataframe tbody tr th {\n",
       "        vertical-align: top;\n",
       "    }\n",
       "\n",
       "    .dataframe thead th {\n",
       "        text-align: right;\n",
       "    }\n",
       "</style>\n",
       "<table border=\"1\" class=\"dataframe\">\n",
       "  <thead>\n",
       "    <tr style=\"text-align: right;\">\n",
       "      <th></th>\n",
       "      <th>name</th>\n",
       "      <th>deptid</th>\n",
       "    </tr>\n",
       "  </thead>\n",
       "  <tbody>\n",
       "    <tr>\n",
       "      <th>0</th>\n",
       "      <td>홍길동</td>\n",
       "      <td>1</td>\n",
       "    </tr>\n",
       "    <tr>\n",
       "      <th>1</th>\n",
       "      <td>이순신</td>\n",
       "      <td>2</td>\n",
       "    </tr>\n",
       "    <tr>\n",
       "      <th>2</th>\n",
       "      <td>임꺽정</td>\n",
       "      <td>3</td>\n",
       "    </tr>\n",
       "    <tr>\n",
       "      <th>3</th>\n",
       "      <td>김철수</td>\n",
       "      <td>3</td>\n",
       "    </tr>\n",
       "    <tr>\n",
       "      <th>4</th>\n",
       "      <td>김철수1</td>\n",
       "      <td>5</td>\n",
       "    </tr>\n",
       "  </tbody>\n",
       "</table>\n",
       "</div>"
      ],
      "text/plain": [
       "   name  deptid\n",
       "0   홍길동       1\n",
       "1   이순신       2\n",
       "2   임꺽정       3\n",
       "3   김철수       3\n",
       "4  김철수1       5"
      ]
     },
     "execution_count": 24,
     "metadata": {},
     "output_type": "execute_result"
    }
   ],
   "source": [
    "testDF.toPandas() # = collect / 원데이터 방대할 시 쥬금..조심해서 사용"
   ]
  },
  {
   "cell_type": "markdown",
   "id": "7126f9bd",
   "metadata": {},
   "source": [
    "#### sql문 사용을 위해 sparkDataframe 이름 부여"
   ]
  },
  {
   "cell_type": "code",
   "execution_count": 25,
   "id": "f6967770",
   "metadata": {},
   "outputs": [],
   "source": [
    "testDF.createOrReplaceTempView('my') #데이터프레임 이름 지정 / 변수명 헷갈림 주의"
   ]
  },
  {
   "cell_type": "code",
   "execution_count": 51,
   "id": "8a86135d",
   "metadata": {},
   "outputs": [
    {
     "name": "stdout",
     "output_type": "stream",
     "text": [
      "+------+------+\n",
      "|  name|deptid|\n",
      "+------+------+\n",
      "|홍길동|     1|\n",
      "|임꺽정|     3|\n",
      "|이순신|     2|\n",
      "+------+------+\n",
      "\n"
     ]
    }
   ],
   "source": [
    "# sql = \"select * from my\"\n",
    "# sql = \"select * from my where deptid=1\"\n",
    "# sql = \"select * from my where deptid=1 or deptid=2\"\n",
    "# sql = \"select * from my where name='홍길동'\"\n",
    "# sql = \"select * from my where deptid in (1,3)\"\n",
    "# sql = \"select * from my where deptid >= 2 and deptid <= 4\"\n",
    "# sql = \"select * from my where deptid between 2 and 4\"\n",
    "# sql = \"select * from my where name like '%김%'\"\n",
    "# sql = \"select * from my where name rlike '%김%'\" #r : regular expression\n",
    "# sql = \"select * from my where name rlike '^김%'\" #김으로 시작\n",
    "# sql = \"select * from my where name rlike '신$'\" #신으로 끝남 \n",
    "# sql = \"select * from my where name rlike '[길김]'\"\n",
    "# sql = \"select * from my where name rlike '홍길|철수'\"\n",
    "# sql = \"select max(deptid) from my\"\n",
    "# sql = \"select min(deptid) from my\"\n",
    "# sql = \"select sum(deptid) from my\"\n",
    "# sql = \"select avg(deptid) from my\"\n",
    "# sql = \"select sum(deptid), avg(deptid) from my\"\n",
    "# sql = \"select stddev_samp(deptid) as std from my\"\n",
    "# sql = \"select deptid+2 from my\"\n",
    "# sql = \"select deptid*2 from my\"\n",
    "# sql = \"select * from my order by name\"\n",
    "# sql = \"select * from my order by name desc\"\n",
    "sql = \"select * from my order by name desc limit 3\"\n",
    "sqlDF = sqlCtx.sql(sql)\n",
    "sqlDF.show()"
   ]
  },
  {
   "cell_type": "markdown",
   "id": "ede364ac",
   "metadata": {},
   "source": [
    "#### 연습문제"
   ]
  },
  {
   "cell_type": "code",
   "execution_count": 53,
   "id": "9631a8bb",
   "metadata": {},
   "outputs": [],
   "source": [
    "# name, salary 컬럼명을 가지는 데이터프레임을 만드시요.\n",
    "data1 = ['홍길동,1000','이순신,2000','임꺽정,3000',\n",
    "         '김철수,4000','이황,5000','이이,6000']"
   ]
  },
  {
   "cell_type": "markdown",
   "id": "7d71d714",
   "metadata": {},
   "source": [
    "    1. 급여가 가장높은 name과 salary를 출력하시요\n",
    "    2. name, salary, tax 를 출력하시요 (tax는 급여에서 세금 3.3을 제한값)\n",
    "    3. name 에 '철'이 포함된  name,salary 를 출력하시요\n",
    "    4. salary top 5 인 name, salary 출력하시요\n",
    "    5. salary  2000  과 4000 사이의 데이터를 출력하시요"
   ]
  },
  {
   "cell_type": "code",
   "execution_count": 54,
   "id": "094a5278",
   "metadata": {},
   "outputs": [
    {
     "data": {
      "text/plain": [
       "ParallelCollectionRDD[162] at readRDDFromFile at PythonRDD.scala:262"
      ]
     },
     "execution_count": 54,
     "metadata": {},
     "output_type": "execute_result"
    }
   ],
   "source": [
    "ddRdd = sc.parallelize(data1)\n",
    "ddRdd"
   ]
  },
  {
   "cell_type": "code",
   "execution_count": 57,
   "id": "0c335582",
   "metadata": {},
   "outputs": [
    {
     "data": {
      "text/plain": [
       "['홍길동,1000', '이순신,2000', '임꺽정,3000', '김철수,4000', '이황,5000', '이이,6000']"
      ]
     },
     "execution_count": 57,
     "metadata": {},
     "output_type": "execute_result"
    }
   ],
   "source": [
    "ddRdd.collect()"
   ]
  },
  {
   "cell_type": "code",
   "execution_count": 75,
   "id": "aa191fd0",
   "metadata": {},
   "outputs": [
    {
     "data": {
      "text/plain": [
       "[('홍길동', 1000),\n",
       " ('이순신', 2000),\n",
       " ('임꺽정', 3000),\n",
       " ('김철수', 4000),\n",
       " ('이황', 5000),\n",
       " ('이이', 6000)]"
      ]
     },
     "execution_count": 75,
     "metadata": {},
     "output_type": "execute_result"
    }
   ],
   "source": [
    "dRdd = ddRdd.map(lambda v:v.split(',') ).map(lambda v: (v[0], int(v[1])) )\n",
    "dRdd.collect()"
   ]
  },
  {
   "cell_type": "code",
   "execution_count": 76,
   "id": "adfa9ea7",
   "metadata": {},
   "outputs": [
    {
     "data": {
      "text/plain": [
       "DataFrame[name: string, salary: bigint]"
      ]
     },
     "execution_count": 76,
     "metadata": {},
     "output_type": "execute_result"
    }
   ],
   "source": [
    "DF = dRdd.toDF(['name', 'salary']) #분산 데이터프레임으로 변환\n",
    "DF"
   ]
  },
  {
   "cell_type": "code",
   "execution_count": 77,
   "id": "7ec03588",
   "metadata": {},
   "outputs": [
    {
     "name": "stdout",
     "output_type": "stream",
     "text": [
      "+------+------+\n",
      "|  name|salary|\n",
      "+------+------+\n",
      "|홍길동|  1000|\n",
      "|이순신|  2000|\n",
      "|임꺽정|  3000|\n",
      "|김철수|  4000|\n",
      "|  이황|  5000|\n",
      "|  이이|  6000|\n",
      "+------+------+\n",
      "\n"
     ]
    }
   ],
   "source": [
    "DF.show()"
   ]
  },
  {
   "cell_type": "code",
   "execution_count": 78,
   "id": "637d3054",
   "metadata": {},
   "outputs": [
    {
     "name": "stdout",
     "output_type": "stream",
     "text": [
      "root\n",
      " |-- name: string (nullable = true)\n",
      " |-- salary: long (nullable = true)\n",
      "\n"
     ]
    }
   ],
   "source": [
    "DF.printSchema()"
   ]
  },
  {
   "cell_type": "code",
   "execution_count": 79,
   "id": "fcc4372f",
   "metadata": {},
   "outputs": [],
   "source": [
    "DF.createOrReplaceTempView('my2') "
   ]
  },
  {
   "cell_type": "code",
   "execution_count": 80,
   "id": "a81bb008",
   "metadata": {},
   "outputs": [
    {
     "name": "stdout",
     "output_type": "stream",
     "text": [
      "+----+------+\n",
      "|name|salary|\n",
      "+----+------+\n",
      "|이이|  6000|\n",
      "+----+------+\n",
      "\n"
     ]
    }
   ],
   "source": [
    "# 1. 급여가 가장높은 name과 salary를 출력하시요\n",
    "# sql = \"select * from my2 order by salary desc limit 1\" -> 동률이면 하나만 출력\n",
    "sql = \"select * from my2 where salary = (select max(salary) from my2)\"\n",
    "sqlDF = sqlCtx.sql(sql)\n",
    "sqlDF.show()"
   ]
  },
  {
   "cell_type": "code",
   "execution_count": 82,
   "id": "e7f66f03",
   "metadata": {},
   "outputs": [
    {
     "name": "stdout",
     "output_type": "stream",
     "text": [
      "+------+------+--------+\n",
      "|  name|salary|     tax|\n",
      "+------+------+--------+\n",
      "|홍길동|  1000| 967.000|\n",
      "|이순신|  2000|1934.000|\n",
      "|임꺽정|  3000|2901.000|\n",
      "|김철수|  4000|3868.000|\n",
      "|  이황|  5000|4835.000|\n",
      "|  이이|  6000|5802.000|\n",
      "+------+------+--------+\n",
      "\n"
     ]
    }
   ],
   "source": [
    "# 2. name, salary, tax 를 출력하시요 (tax는 급여에서 세금 3.3을 제한값)\n",
    "sql = \"select name, salary, salary*(1-0.033) as tax from my2\"\n",
    "sqlDF = sqlCtx.sql(sql)\n",
    "sqlDF.show()"
   ]
  },
  {
   "cell_type": "code",
   "execution_count": 83,
   "id": "ecac6ac8",
   "metadata": {},
   "outputs": [
    {
     "name": "stdout",
     "output_type": "stream",
     "text": [
      "+------+------+\n",
      "|  name|salary|\n",
      "+------+------+\n",
      "|김철수|  4000|\n",
      "+------+------+\n",
      "\n"
     ]
    }
   ],
   "source": [
    "# 3. name 에 '철'이 포함된  name,salary 를 출력하시요\n",
    "sql = \"select * from my2 where name rlike '철' \"\n",
    "sqlDF = sqlCtx.sql(sql)\n",
    "sqlDF.show()"
   ]
  },
  {
   "cell_type": "code",
   "execution_count": 84,
   "id": "a95e4d08",
   "metadata": {},
   "outputs": [
    {
     "name": "stdout",
     "output_type": "stream",
     "text": [
      "+------+------+\n",
      "|  name|salary|\n",
      "+------+------+\n",
      "|  이이|  6000|\n",
      "|  이황|  5000|\n",
      "|김철수|  4000|\n",
      "|임꺽정|  3000|\n",
      "|이순신|  2000|\n",
      "+------+------+\n",
      "\n"
     ]
    }
   ],
   "source": [
    "# 4. salary top 5 인 name, salary 출력하시요\n",
    "sql = \"select * from my2 order by salary desc limit 5\"\n",
    "sqlDF = sqlCtx.sql(sql)\n",
    "sqlDF.show()"
   ]
  },
  {
   "cell_type": "code",
   "execution_count": 85,
   "id": "a93bd956",
   "metadata": {},
   "outputs": [
    {
     "name": "stdout",
     "output_type": "stream",
     "text": [
      "+------+------+\n",
      "|  name|salary|\n",
      "+------+------+\n",
      "|이순신|  2000|\n",
      "|임꺽정|  3000|\n",
      "|김철수|  4000|\n",
      "+------+------+\n",
      "\n"
     ]
    }
   ],
   "source": [
    "# 5. salary  2000  과 4000 사이의 데이터를 출력하시요\n",
    "sql = \"select * from my2 where salary between 2000 and 4000\"\n",
    "sqlDF = sqlCtx.sql(sql)\n",
    "sqlDF.show()"
   ]
  },
  {
   "cell_type": "code",
   "execution_count": 103,
   "id": "ee4b19c3",
   "metadata": {},
   "outputs": [
    {
     "name": "stdout",
     "output_type": "stream",
     "text": [
      "+------+------+----+\n",
      "|  name|salary|정도|\n",
      "+------+------+----+\n",
      "|홍길동|  1000|적음|\n",
      "|이순신|  2000|적음|\n",
      "|임꺽정|  3000|보통|\n",
      "|김철수|  4000|보통|\n",
      "|  이황|  5000|많음|\n",
      "|  이이|  6000|많음|\n",
      "+------+------+----+\n",
      "\n"
     ]
    }
   ],
   "source": [
    "# +) '정도' 컬럼 생성: 급여가 5000 이상이면 '많음', 3000 이상이면 '보통', 3000 미만이면 '적음'\n",
    "sql = \"select name, salary, case when salary >= 5000 then '많음' when salary >= 3000 then '보통' else '적음' end as `정도` from my2\"\n",
    "sqlDF = sqlCtx.sql(sql)                                                                         #한글 인식 안 돼서 백쿼트로\n",
    "sqlDF.show()"
   ]
  },
  {
   "cell_type": "code",
   "execution_count": 104,
   "id": "4cafc00a",
   "metadata": {},
   "outputs": [],
   "source": [
    "sc.stop()"
   ]
  }
 ],
 "metadata": {
  "kernelspec": {
   "display_name": "Python 3",
   "language": "python",
   "name": "python3"
  },
  "language_info": {
   "codemirror_mode": {
    "name": "ipython",
    "version": 3
   },
   "file_extension": ".py",
   "mimetype": "text/x-python",
   "name": "python",
   "nbconvert_exporter": "python",
   "pygments_lexer": "ipython3",
   "version": "3.8.8"
  }
 },
 "nbformat": 4,
 "nbformat_minor": 5
}
