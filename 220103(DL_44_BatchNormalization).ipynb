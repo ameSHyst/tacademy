{
 "cells": [
  {
   "cell_type": "markdown",
   "id": "41c77a6d",
   "metadata": {},
   "source": [
    "### 내부 공선성 해결\n",
    "    - 신경망층의 출력값이 가질 수 있는 범위, 즉 출력값 분포의 범위를 줄여주어 \n",
    "        불확실성을 어느 정도 감소 시키는 방법\n",
    "    - 별도의 규제화나 드롭아웃을 사용하지 않아도 어느정도 효과를 볼 수 있음\n",
    "    - 순서 : Dense 또는 Conv2D -> BatchNormalization -> Activation"
   ]
  },
  {
   "cell_type": "code",
   "execution_count": 2,
   "id": "e9470588",
   "metadata": {},
   "outputs": [],
   "source": [
    "import tensorflow as tf\n",
    "import numpy as np\n",
    "import pandas as pd\n",
    "import matplotlib.pyplot as plt\n",
    "plt.style.use('ggplot')\n",
    "\n",
    "from tensorflow.keras.optimizers import Adam\n",
    "from tensorflow.keras import Sequential\n",
    "from tensorflow.keras.layers import Dense, Flatten, Conv2D, MaxPool2D, Dropout, BatchNormalization, Activation\n",
    "from tensorflow.keras.datasets.mnist import load_data\n",
    "from tensorflow.keras.utils import to_categorical\n",
    "from sklearn.model_selection import train_test_split\n",
    "\n",
    "import seaborn as sns\n",
    "from sklearn.metrics import confusion_matrix, f1_score\n",
    "from tensorflow.keras.datasets import cifar10"
   ]
  },
  {
   "cell_type": "markdown",
   "id": "7b809195",
   "metadata": {},
   "source": [
    "#### 데이터 로드"
   ]
  },
  {
   "cell_type": "code",
   "execution_count": 4,
   "id": "1998c7eb",
   "metadata": {},
   "outputs": [],
   "source": [
    "(x_train, y_train), (x_test, y_test) = cifar10.load_data()"
   ]
  },
  {
   "cell_type": "markdown",
   "id": "b5ef11bf",
   "metadata": {},
   "source": [
    "#### 데이터 정규화"
   ]
  },
  {
   "cell_type": "code",
   "execution_count": 5,
   "id": "62ef1be9",
   "metadata": {},
   "outputs": [],
   "source": [
    "x_train = x_train/255\n",
    "x_test = x_test/255"
   ]
  },
  {
   "cell_type": "markdown",
   "id": "2d055bdc",
   "metadata": {},
   "source": [
    "#### y train 인코딩"
   ]
  },
  {
   "cell_type": "code",
   "execution_count": 6,
   "id": "58bc27d7",
   "metadata": {},
   "outputs": [],
   "source": [
    "y_trainone = to_categorical(y_train)"
   ]
  },
  {
   "cell_type": "markdown",
   "id": "d7891ab6",
   "metadata": {},
   "source": [
    "#### 학습"
   ]
  },
  {
   "cell_type": "code",
   "execution_count": 7,
   "id": "7bd86ec2",
   "metadata": {},
   "outputs": [
    {
     "name": "stdout",
     "output_type": "stream",
     "text": [
      "Epoch 1/10\n",
      "1250/1250 [==============================] - 35s 28ms/step - loss: 1.1954 - acc: 0.5776 - val_loss: 1.5818 - val_acc: 0.4742\n",
      "Epoch 2/10\n",
      "1250/1250 [==============================] - 33s 26ms/step - loss: 0.8481 - acc: 0.7019 - val_loss: 1.0784 - val_acc: 0.6381\n",
      "Epoch 3/10\n",
      "1250/1250 [==============================] - 33s 27ms/step - loss: 0.7008 - acc: 0.7546 - val_loss: 1.1379 - val_acc: 0.6348\n",
      "Epoch 4/10\n",
      "1250/1250 [==============================] - 34s 27ms/step - loss: 0.5923 - acc: 0.7948 - val_loss: 0.7856 - val_acc: 0.7316\n",
      "Epoch 5/10\n",
      "1250/1250 [==============================] - 33s 26ms/step - loss: 0.5053 - acc: 0.8261 - val_loss: 0.7857 - val_acc: 0.7383\n",
      "Epoch 6/10\n",
      "1250/1250 [==============================] - 33s 26ms/step - loss: 0.4242 - acc: 0.8529 - val_loss: 0.8947 - val_acc: 0.7180\n",
      "Epoch 7/10\n",
      "1250/1250 [==============================] - 33s 27ms/step - loss: 0.3516 - acc: 0.8784 - val_loss: 0.9835 - val_acc: 0.7085\n",
      "Epoch 8/10\n",
      "1250/1250 [==============================] - 32s 26ms/step - loss: 0.2956 - acc: 0.8989 - val_loss: 0.8474 - val_acc: 0.7436\n",
      "Epoch 9/10\n",
      "1250/1250 [==============================] - 32s 26ms/step - loss: 0.2470 - acc: 0.9139 - val_loss: 0.8946 - val_acc: 0.7462\n",
      "Epoch 10/10\n",
      "1250/1250 [==============================] - 33s 27ms/step - loss: 0.2157 - acc: 0.9251 - val_loss: 1.1633 - val_acc: 0.6994\n"
     ]
    }
   ],
   "source": [
    "model = Sequential()\n",
    "model.add( Conv2D( 32, kernel_size=(3,3), strides = 1, \n",
    "                  input_shape=(32,32,3), padding='same') )\n",
    "model.add( BatchNormalization())\n",
    "model.add( Activation('relu'))\n",
    "model.add( MaxPool2D( pool_size=(2,2) ) )\n",
    "\n",
    "model.add( Conv2D( 64, kernel_size=(3,3), strides = 1, input_shape=(32,32,3), \n",
    "             padding='same') )\n",
    "model.add( BatchNormalization())\n",
    "model.add( Activation('relu'))\n",
    "model.add( MaxPool2D( pool_size=(2,2) ) )\n",
    "\n",
    "model.add( Conv2D( 128, kernel_size=(3,3), strides = 1, input_shape=(32,32,3), \n",
    "                   padding='same') )\n",
    "model.add( BatchNormalization())\n",
    "model.add( Activation('relu'))\n",
    "model.add( MaxPool2D( pool_size=(2,2) ) )\n",
    "\n",
    "model.add( Flatten( ) )\n",
    "model.add( Dense( units=64) )\n",
    "model.add( BatchNormalization())\n",
    "model.add( Activation('relu'))\n",
    "model.add( Dense( units=10, activation = 'softmax') )\n",
    "model.compile( loss='categorical_crossentropy', optimizer='adam', metrics=['acc'])\n",
    "h = model.fit( x_train, y_trainone, epochs=10, validation_split= 0.2 )"
   ]
  },
  {
   "cell_type": "code",
   "execution_count": 8,
   "id": "d2a047cc",
   "metadata": {},
   "outputs": [
    {
     "data": {
      "image/png": "[encoded data removed]",
      "text/plain": [
       "<Figure size 432x288 with 1 Axes>"
      ]
     },
     "metadata": {},
     "output_type": "display_data"
    }
   ],
   "source": [
    "plt.plot(h.history['loss'])\n",
    "plt.plot(h.history['val_loss'])\n",
    "plt.show()"
   ]
  }
 ],
 "metadata": {
  "kernelspec": {
   "display_name": "Python 3",
   "language": "python",
   "name": "python3"
  },
  "language_info": {
   "codemirror_mode": {
    "name": "ipython",
    "version": 3
   },
   "file_extension": ".py",
   "mimetype": "text/x-python",
   "name": "python",
   "nbconvert_exporter": "python",
   "pygments_lexer": "ipython3",
   "version": "3.8.8"
  }
 },
 "nbformat": 4,
 "nbformat_minor": 5
}
