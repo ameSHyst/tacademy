{
 "cells": [
  {
   "cell_type": "code",
   "execution_count": 1,
   "id": "69e0a1de",
   "metadata": {},
   "outputs": [],
   "source": [
    "from pyspark import SparkContext\n",
    "from pyspark.sql import SQLContext, Row\n",
    "import pandas as pd\n",
    "import seaborn as sns\n",
    "import matplotlib.pyplot as plt\n",
    "import matplotlib.font_manager as fm\n",
    "import warnings\n",
    "warnings.filterwarnings(action='ignore') \n",
    "plt.style.use('ggplot')"
   ]
  },
  {
   "cell_type": "code",
   "execution_count": 2,
   "id": "ece2f44e",
   "metadata": {},
   "outputs": [],
   "source": [
    "sc = SparkContext('local')"
   ]
  },
  {
   "cell_type": "code",
   "execution_count": 3,
   "id": "78f724f7",
   "metadata": {},
   "outputs": [],
   "source": [
    "sqlCtx = SQLContext(sc)"
   ]
  },
  {
   "cell_type": "code",
   "execution_count": 4,
   "id": "09f0db8a",
   "metadata": {},
   "outputs": [
    {
     "data": {
      "text/plain": [
       "DataFrame[Cement: double, Blast Furnace Slag: double, Fly Ash: double, Water: double, Superplasticizer: double, Coarse Aggregate: double, Fine Aggregate: double, Age: double, Strength: double]"
      ]
     },
     "execution_count": 4,
     "metadata": {},
     "output_type": "execute_result"
    }
   ],
   "source": [
    "df = sqlCtx.read.csv('data/concrete_data.csv', \n",
    "                     header=True, inferSchema=True) #inferSchema : 데이터 타입 자동으로 맞춰줌\n",
    "                                                    #header와 inferSchema는 필수\n",
    "df"
   ]
  },
  {
   "cell_type": "markdown",
   "id": "9f432609",
   "metadata": {},
   "source": [
    "    * features\n",
    "        -Cement\n",
    "        -Blast Furnace Slag (고로슬래그 : 용광로에서 나온 용철슬래그를 물이나 증기로 급냉하여 \n",
    "                           유리질의 입상물을 만든 다음 건조시켜 미세한 분말로 분쇄하여 얻은 것)\n",
    "        -Fly Ash (화력발전소에서 석탄을 원료로 하는 미분탄을 약 1,400℃-1,500℃의 \n",
    "                 고온으로 소각시켰을 때 발생되는 먼지)\n",
    "        -Water\n",
    "        -Superplasticizer (고강도 콘크리트를 만드는 데 사용되는 첨가제)\n",
    "        -Coarse Aggregate (콘크리트를 만들 때 사용되는 모래, 자갈, 쇄석, 슬래그, 재활용\n",
    "                           콘크리트 및 토목 인조 골재 등등)\n",
    "        -Fine Aggregate (Coarse Aggregate보다 고운 입자를 가지는 모래, 수르키(surki), \n",
    "                        석재(石砲), 탄 점토, 재, 비산회 등등)\n",
    "        -Age\n",
    "\n",
    "    * target\n",
    "        -Strength"
   ]
  },
  {
   "cell_type": "code",
   "execution_count": 5,
   "id": "fcd06c35",
   "metadata": {},
   "outputs": [
    {
     "name": "stdout",
     "output_type": "stream",
     "text": [
      "+------+------------------+-------+-----+----------------+----------------+--------------+-----+--------+\n",
      "|Cement|Blast Furnace Slag|Fly Ash|Water|Superplasticizer|Coarse Aggregate|Fine Aggregate|  Age|Strength|\n",
      "+------+------------------+-------+-----+----------------+----------------+--------------+-----+--------+\n",
      "| 540.0|               0.0|    0.0|162.0|             2.5|          1040.0|         676.0| 28.0|   79.99|\n",
      "| 540.0|               0.0|    0.0|162.0|             2.5|          1055.0|         676.0| 28.0|   61.89|\n",
      "| 332.5|             142.5|    0.0|228.0|             0.0|           932.0|         594.0|270.0|   40.27|\n",
      "| 332.5|             142.5|    0.0|228.0|             0.0|           932.0|         594.0|365.0|   41.05|\n",
      "| 198.6|             132.4|    0.0|192.0|             0.0|           978.4|         825.5|360.0|    44.3|\n",
      "| 266.0|             114.0|    0.0|228.0|             0.0|           932.0|         670.0| 90.0|   47.03|\n",
      "| 380.0|              95.0|    0.0|228.0|             0.0|           932.0|         594.0|365.0|    43.7|\n",
      "| 380.0|              95.0|    0.0|228.0|             0.0|           932.0|         594.0| 28.0|   36.45|\n",
      "| 266.0|             114.0|    0.0|228.0|             0.0|           932.0|         670.0| 28.0|   45.85|\n",
      "| 475.0|               0.0|    0.0|228.0|             0.0|           932.0|         594.0| 28.0|   39.29|\n",
      "| 198.6|             132.4|    0.0|192.0|             0.0|           978.4|         825.5| 90.0|   38.07|\n",
      "| 198.6|             132.4|    0.0|192.0|             0.0|           978.4|         825.5| 28.0|   28.02|\n",
      "| 427.5|              47.5|    0.0|228.0|             0.0|           932.0|         594.0|270.0|   43.01|\n",
      "| 190.0|             190.0|    0.0|228.0|             0.0|           932.0|         670.0| 90.0|   42.33|\n",
      "| 304.0|              76.0|    0.0|228.0|             0.0|           932.0|         670.0| 28.0|   47.81|\n",
      "| 380.0|               0.0|    0.0|228.0|             0.0|           932.0|         670.0| 90.0|   52.91|\n",
      "| 139.6|             209.4|    0.0|192.0|             0.0|          1047.0|         806.9| 90.0|   39.36|\n",
      "| 342.0|              38.0|    0.0|228.0|             0.0|           932.0|         670.0|365.0|   56.14|\n",
      "| 380.0|              95.0|    0.0|228.0|             0.0|           932.0|         594.0| 90.0|   40.56|\n",
      "| 475.0|               0.0|    0.0|228.0|             0.0|           932.0|         594.0|180.0|   42.62|\n",
      "+------+------------------+-------+-----+----------------+----------------+--------------+-----+--------+\n",
      "only showing top 20 rows\n",
      "\n"
     ]
    }
   ],
   "source": [
    "df.show()"
   ]
  },
  {
   "cell_type": "code",
   "execution_count": 6,
   "id": "9efb8c14",
   "metadata": {},
   "outputs": [
    {
     "name": "stdout",
     "output_type": "stream",
     "text": [
      "root\n",
      " |-- Cement: double (nullable = true)\n",
      " |-- Blast Furnace Slag: double (nullable = true)\n",
      " |-- Fly Ash: double (nullable = true)\n",
      " |-- Water: double (nullable = true)\n",
      " |-- Superplasticizer: double (nullable = true)\n",
      " |-- Coarse Aggregate: double (nullable = true)\n",
      " |-- Fine Aggregate: double (nullable = true)\n",
      " |-- Age: double (nullable = true)\n",
      " |-- Strength: double (nullable = true)\n",
      "\n"
     ]
    }
   ],
   "source": [
    "df.printSchema()"
   ]
  },
  {
   "cell_type": "markdown",
   "id": "cfcd4aff",
   "metadata": {},
   "source": [
    "#### spark sql을 이용한 EDA"
   ]
  },
  {
   "cell_type": "code",
   "execution_count": 8,
   "id": "3184cd6d",
   "metadata": {},
   "outputs": [],
   "source": [
    "df.createOrReplaceTempView('my')"
   ]
  },
  {
   "cell_type": "code",
   "execution_count": 9,
   "id": "70d86eba",
   "metadata": {},
   "outputs": [
    {
     "name": "stdout",
     "output_type": "stream",
     "text": [
      "+------+-----+------------------+\n",
      "|Cement|Water|          WC_ratio|\n",
      "+------+-----+------------------+\n",
      "| 540.0|162.0|               0.3|\n",
      "| 540.0|162.0|               0.3|\n",
      "| 332.5|228.0|0.6857142857142857|\n",
      "| 332.5|228.0|0.6857142857142857|\n",
      "| 198.6|192.0|0.9667673716012085|\n",
      "| 266.0|228.0|0.8571428571428571|\n",
      "| 380.0|228.0|               0.6|\n",
      "| 380.0|228.0|               0.6|\n",
      "| 266.0|228.0|0.8571428571428571|\n",
      "| 475.0|228.0|              0.48|\n",
      "| 198.6|192.0|0.9667673716012085|\n",
      "| 198.6|192.0|0.9667673716012085|\n",
      "| 427.5|228.0|0.5333333333333333|\n",
      "| 190.0|228.0|               1.2|\n",
      "| 304.0|228.0|              0.75|\n",
      "| 380.0|228.0|               0.6|\n",
      "| 139.6|192.0|1.3753581661891119|\n",
      "| 342.0|228.0|0.6666666666666666|\n",
      "| 380.0|228.0|               0.6|\n",
      "| 475.0|228.0|              0.48|\n",
      "+------+-----+------------------+\n",
      "only showing top 20 rows\n",
      "\n"
     ]
    }
   ],
   "source": [
    "# WC_ratio 컬럼 추가하기 (Water / Cement)\n",
    "sql = \"select Cement, Water, Water/Cement as WC_ratio from my\"\n",
    "sqlDF = sqlCtx.sql(sql)\n",
    "sqlDF.show()"
   ]
  },
  {
   "cell_type": "code",
   "execution_count": 10,
   "id": "95c595d5",
   "metadata": {},
   "outputs": [
    {
     "name": "stdout",
     "output_type": "stream",
     "text": [
      "+------+------------------+-------+-----+----------------+----------------+--------------+----+--------+\n",
      "|Cement|Blast Furnace Slag|Fly Ash|Water|Superplasticizer|Coarse Aggregate|Fine Aggregate| Age|Strength|\n",
      "+------+------------------+-------+-----+----------------+----------------+--------------+----+--------+\n",
      "| 540.0|               0.0|    0.0|162.0|             2.5|          1040.0|         676.0|28.0|   79.99|\n",
      "| 540.0|               0.0|    0.0|162.0|             2.5|          1055.0|         676.0|28.0|   61.89|\n",
      "+------+------------------+-------+-----+----------------+----------------+--------------+----+--------+\n",
      "\n"
     ]
    }
   ],
   "source": [
    "sql = \"select * from my where Superplasticizer=2.5\"\n",
    "sqlDF = sqlCtx.sql(sql)\n",
    "sqlDF.show()"
   ]
  },
  {
   "cell_type": "code",
   "execution_count": 13,
   "id": "d4785f06",
   "metadata": {
    "scrolled": true
   },
   "outputs": [
    {
     "name": "stdout",
     "output_type": "stream",
     "text": [
      "+------+------------------+-------+-----+----------------+----------------+--------------+-----+--------+\n",
      "|Cement|Blast Furnace Slag|Fly Ash|Water|Superplasticizer|Coarse Aggregate|Fine Aggregate|  Age|Strength|\n",
      "+------+------------------+-------+-----+----------------+----------------+--------------+-----+--------+\n",
      "| 540.0|               0.0|    0.0|162.0|             2.5|          1040.0|         676.0| 28.0|   79.99|\n",
      "| 540.0|               0.0|    0.0|162.0|             2.5|          1055.0|         676.0| 28.0|   61.89|\n",
      "| 198.6|             132.4|    0.0|192.0|             0.0|           978.4|         825.5|360.0|    44.3|\n",
      "| 266.0|             114.0|    0.0|228.0|             0.0|           932.0|         670.0| 90.0|   47.03|\n",
      "| 266.0|             114.0|    0.0|228.0|             0.0|           932.0|         670.0| 28.0|   45.85|\n",
      "| 198.6|             132.4|    0.0|192.0|             0.0|           978.4|         825.5| 90.0|   38.07|\n",
      "| 198.6|             132.4|    0.0|192.0|             0.0|           978.4|         825.5| 28.0|   28.02|\n",
      "| 190.0|             190.0|    0.0|228.0|             0.0|           932.0|         670.0| 90.0|   42.33|\n",
      "| 304.0|              76.0|    0.0|228.0|             0.0|           932.0|         670.0| 28.0|   47.81|\n",
      "| 380.0|               0.0|    0.0|228.0|             0.0|           932.0|         670.0| 90.0|   52.91|\n",
      "| 139.6|             209.4|    0.0|192.0|             0.0|          1047.0|         806.9| 90.0|   39.36|\n",
      "| 342.0|              38.0|    0.0|228.0|             0.0|           932.0|         670.0|365.0|   56.14|\n",
      "| 139.6|             209.4|    0.0|192.0|             0.0|          1047.0|         806.9| 28.0|   28.24|\n",
      "| 139.6|             209.4|    0.0|192.0|             0.0|          1047.0|         806.9|  3.0|    8.06|\n",
      "| 139.6|             209.4|    0.0|192.0|             0.0|          1047.0|         806.9|180.0|   44.21|\n",
      "| 380.0|               0.0|    0.0|228.0|             0.0|           932.0|         670.0|365.0|   52.52|\n",
      "| 380.0|               0.0|    0.0|228.0|             0.0|           932.0|         670.0|270.0|    53.3|\n",
      "| 342.0|              38.0|    0.0|228.0|             0.0|           932.0|         670.0|180.0|   52.12|\n",
      "| 304.0|              76.0|    0.0|228.0|             0.0|           932.0|         670.0|365.0|   55.26|\n",
      "| 266.0|             114.0|    0.0|228.0|             0.0|           932.0|         670.0|365.0|   52.91|\n",
      "+------+------------------+-------+-----+----------------+----------------+--------------+-----+--------+\n",
      "only showing top 20 rows\n",
      "\n"
     ]
    }
   ],
   "source": [
    "sql = \"select * from my where `Fine Aggregate` >= 600.0\"\n",
    "sqlDF = sqlCtx.sql(sql)\n",
    "sqlDF.show()"
   ]
  },
  {
   "cell_type": "code",
   "execution_count": 36,
   "id": "ab6ef624",
   "metadata": {},
   "outputs": [
    {
     "name": "stdout",
     "output_type": "stream",
     "text": [
      "+------------------+-------+----------------+\n",
      "|Blast Furnace Slag|Fly Ash|Coarse Aggregate|\n",
      "+------------------+-------+----------------+\n",
      "|               0.0|    0.0|          1040.0|\n",
      "|               0.0|    0.0|          1055.0|\n",
      "|             209.4|    0.0|          1047.0|\n",
      "|             209.4|    0.0|          1047.0|\n",
      "|             209.4|    0.0|          1047.0|\n",
      "|             209.4|    0.0|          1047.0|\n",
      "|               0.0|    0.0|          1047.0|\n",
      "|             209.4|    0.0|          1047.0|\n",
      "|             209.4|    0.0|          1047.0|\n",
      "|               0.0|    0.0|          1120.0|\n",
      "|             262.2|    0.0|          1046.9|\n",
      "|             151.2|    0.0|          1134.3|\n",
      "|             200.9|    0.0|          1004.6|\n",
      "|             262.2|    0.0|          1046.9|\n",
      "|             151.2|    0.0|          1134.3|\n",
      "|             200.9|    0.0|          1004.6|\n",
      "|             262.2|    0.0|          1046.9|\n",
      "|             151.2|    0.0|          1134.3|\n",
      "|             200.9|    0.0|          1004.6|\n",
      "|             262.2|    0.0|          1046.9|\n",
      "+------------------+-------+----------------+\n",
      "only showing top 20 rows\n",
      "\n"
     ]
    }
   ],
   "source": [
    "sql = \"select `Blast Furnace Slag`, `Fly Ash`, `Coarse Aggregate` from my where `Coarse Aggregate` > 1000\"\n",
    "sqlDF = sqlCtx.sql(sql)\n",
    "sqlDF.show()"
   ]
  },
  {
   "cell_type": "code",
   "execution_count": 15,
   "id": "1497ca35",
   "metadata": {},
   "outputs": [
    {
     "name": "stdout",
     "output_type": "stream",
     "text": [
      "+------+------------------+-------+-----+----------------+----------------+--------------+---+--------+\n",
      "|Cement|Blast Furnace Slag|Fly Ash|Water|Superplasticizer|Coarse Aggregate|Fine Aggregate|Age|Strength|\n",
      "+------+------------------+-------+-----+----------------+----------------+--------------+---+--------+\n",
      "| 500.0|               0.0|    0.0|200.0|             0.0|          1125.0|         613.0|1.0|   12.64|\n",
      "| 385.0|               0.0|    0.0|186.0|             0.0|           966.0|         763.0|1.0|    6.27|\n",
      "| 198.6|             132.4|    0.0|192.0|             0.0|           978.4|         825.5|3.0|    9.13|\n",
      "| 425.0|             106.3|    0.0|153.5|            16.5|           852.1|         887.1|3.0|    33.4|\n",
      "| 310.0|               0.0|    0.0|192.0|             0.0|           971.0|         850.6|3.0|    9.87|\n",
      "+------+------------------+-------+-----+----------------+----------------+--------------+---+--------+\n",
      "\n"
     ]
    }
   ],
   "source": [
    "sql = \"select * from my order by Age limit 5\"\n",
    "sqlDF = sqlCtx.sql(sql)\n",
    "sqlDF.show()"
   ]
  },
  {
   "cell_type": "code",
   "execution_count": 16,
   "id": "a0ac73ba",
   "metadata": {},
   "outputs": [
    {
     "name": "stdout",
     "output_type": "stream",
     "text": [
      "+------+------------------+-------+-----+----------------+----------------+--------------+-----+--------+\n",
      "|Cement|Blast Furnace Slag|Fly Ash|Water|Superplasticizer|Coarse Aggregate|Fine Aggregate|  Age|Strength|\n",
      "+------+------------------+-------+-----+----------------+----------------+--------------+-----+--------+\n",
      "| 342.0|              38.0|    0.0|228.0|             0.0|           932.0|         670.0|365.0|   56.14|\n",
      "| 190.0|             190.0|    0.0|228.0|             0.0|           932.0|         670.0|365.0|   53.69|\n",
      "| 380.0|               0.0|    0.0|228.0|             0.0|           932.0|         670.0|365.0|   52.52|\n",
      "| 332.5|             142.5|    0.0|228.0|             0.0|           932.0|         594.0|365.0|   41.05|\n",
      "| 304.0|              76.0|    0.0|228.0|             0.0|           932.0|         670.0|365.0|   55.26|\n",
      "+------+------------------+-------+-----+----------------+----------------+--------------+-----+--------+\n",
      "\n"
     ]
    }
   ],
   "source": [
    "sql = \"select * from my order by Age desc limit 5\"\n",
    "sqlDF = sqlCtx.sql(sql)\n",
    "sqlDF.show()"
   ]
  },
  {
   "cell_type": "code",
   "execution_count": 17,
   "id": "50e17830",
   "metadata": {},
   "outputs": [
    {
     "name": "stdout",
     "output_type": "stream",
     "text": [
      "+------+------------------+-------+-----+----------------+----------------+--------------+---+--------+\n",
      "|Cement|Blast Furnace Slag|Fly Ash|Water|Superplasticizer|Coarse Aggregate|Fine Aggregate|Age|Strength|\n",
      "+------+------------------+-------+-----+----------------+----------------+--------------+---+--------+\n",
      "| 108.3|             162.4|    0.0|203.5|             0.0|           938.2|         849.0|3.0|    2.33|\n",
      "| 122.6|             183.9|    0.0|203.5|             0.0|           958.2|         800.1|3.0|    3.32|\n",
      "| 102.0|             153.0|    0.0|192.0|             0.0|           887.0|         942.0|3.0|    4.57|\n",
      "| 153.0|             102.0|    0.0|192.0|             0.0|           888.0|         943.1|3.0|    4.78|\n",
      "| 141.3|             212.0|    0.0|203.5|             0.0|           971.8|         748.5|3.0|    4.83|\n",
      "+------+------------------+-------+-----+----------------+----------------+--------------+---+--------+\n",
      "\n"
     ]
    }
   ],
   "source": [
    "sql = \"select * from my order by Strength limit 5\"\n",
    "sqlDF = sqlCtx.sql(sql)\n",
    "sqlDF.show()"
   ]
  },
  {
   "cell_type": "code",
   "execution_count": 18,
   "id": "de7bb6a3",
   "metadata": {},
   "outputs": [
    {
     "name": "stdout",
     "output_type": "stream",
     "text": [
      "+------+------------------+-------+-----+----------------+----------------+--------------+----+--------+\n",
      "|Cement|Blast Furnace Slag|Fly Ash|Water|Superplasticizer|Coarse Aggregate|Fine Aggregate| Age|Strength|\n",
      "+------+------------------+-------+-----+----------------+----------------+--------------+----+--------+\n",
      "| 389.9|             189.0|    0.0|145.9|            22.0|           944.7|         755.8|91.0|    82.6|\n",
      "| 315.0|             137.0|    0.0|145.0|             5.9|          1130.0|         745.0|28.0|   81.75|\n",
      "| 323.7|             282.8|    0.0|183.8|            10.3|           942.7|         659.9|56.0|    80.2|\n",
      "| 540.0|               0.0|    0.0|162.0|             2.5|          1040.0|         676.0|28.0|   79.99|\n",
      "| 389.9|             189.0|    0.0|145.9|            22.0|           944.7|         755.8|56.0|    79.4|\n",
      "+------+------------------+-------+-----+----------------+----------------+--------------+----+--------+\n",
      "\n"
     ]
    }
   ],
   "source": [
    "sql = \"select * from my order by Strength desc limit 5\"\n",
    "sqlDF = sqlCtx.sql(sql)\n",
    "sqlDF.show()"
   ]
  },
  {
   "cell_type": "code",
   "execution_count": 20,
   "id": "1e3755a7",
   "metadata": {},
   "outputs": [
    {
     "name": "stdout",
     "output_type": "stream",
     "text": [
      "+-----------------+-----------------+\n",
      "|      sum(Cement)|      avg(Cement)|\n",
      "+-----------------+-----------------+\n",
      "|289602.8999999997|281.1678640776696|\n",
      "+-----------------+-----------------+\n",
      "\n"
     ]
    }
   ],
   "source": [
    "sql = \"select sum(Cement), avg(Cement) from my\"\n",
    "sqlDF = sqlCtx.sql(sql)\n",
    "sqlDF.show()"
   ]
  },
  {
   "cell_type": "code",
   "execution_count": 21,
   "id": "fab4ffd6",
   "metadata": {},
   "outputs": [
    {
     "name": "stdout",
     "output_type": "stream",
     "text": [
      "+-----------------------+-----------------------+\n",
      "|max(Blast Furnace Slag)|min(Blast Furnace Slag)|\n",
      "+-----------------------+-----------------------+\n",
      "|                  359.4|                    0.0|\n",
      "+-----------------------+-----------------------+\n",
      "\n"
     ]
    }
   ],
   "source": [
    "sql = \"select max(`Blast Furnace Slag`), min(`Blast Furnace Slag`) from my\"\n",
    "sqlDF = sqlCtx.sql(sql)\n",
    "sqlDF.show()"
   ]
  },
  {
   "cell_type": "code",
   "execution_count": 27,
   "id": "a609b5bb",
   "metadata": {},
   "outputs": [
    {
     "name": "stdout",
     "output_type": "stream",
     "text": [
      "+------+------------------+-------+-----+----------------+----------------+--------------+-----+--------+\n",
      "|Cement|Blast Furnace Slag|Fly Ash|Water|Superplasticizer|Coarse Aggregate|Fine Aggregate|  Age|Strength|\n",
      "+------+------------------+-------+-----+----------------+----------------+--------------+-----+--------+\n",
      "| 222.4|               0.0|   96.7|189.3|             4.5|           967.1|         870.3|100.0|   40.71|\n",
      "| 233.8|               0.0|   94.6|197.9|             4.6|           947.0|         852.2|100.0|   34.56|\n",
      "| 194.7|               0.0|  100.5|165.6|             7.5|          1006.4|         905.9|100.0|   37.34|\n",
      "| 190.7|               0.0|  125.4|162.1|             7.8|          1090.0|         804.0|100.0|   40.57|\n",
      "| 212.1|               0.0|  121.6|180.3|             5.7|          1057.6|         779.3|100.0|   39.61|\n",
      "+------+------------------+-------+-----+----------------+----------------+--------------+-----+--------+\n",
      "\n"
     ]
    }
   ],
   "source": [
    "sql = \"select * from my where Age between 100 and 150 limit 5\"\n",
    "sqlDF = sqlCtx.sql(sql)\n",
    "sqlDF.show()"
   ]
  },
  {
   "cell_type": "code",
   "execution_count": 30,
   "id": "456c0108",
   "metadata": {},
   "outputs": [
    {
     "name": "stdout",
     "output_type": "stream",
     "text": [
      "+----------------+--------------+--------+\n",
      "|Coarse Aggregate|Fine Aggregate|Strength|\n",
      "+----------------+--------------+--------+\n",
      "|          1040.0|         676.0|   79.99|\n",
      "|          1055.0|         676.0|   61.89|\n",
      "|           932.0|         670.0|   52.91|\n",
      "|           932.0|         670.0|   56.14|\n",
      "|           932.0|         670.0|   52.52|\n",
      "|           932.0|         670.0|    53.3|\n",
      "|           932.0|         670.0|   52.12|\n",
      "|           932.0|         670.0|   55.26|\n",
      "|           932.0|         670.0|   52.91|\n",
      "|           932.0|         670.0|   53.69|\n",
      "|           932.0|         670.0|   50.46|\n",
      "|           932.0|         670.0|    53.1|\n",
      "|           932.0|         670.0|   50.95|\n",
      "|           932.0|         670.0|   54.38|\n",
      "|           932.0|         670.0|   51.73|\n",
      "|           932.0|         670.0|   50.66|\n",
      "|           932.0|         670.0|   55.06|\n",
      "|          1120.0|         800.0|   71.99|\n",
      "|           852.1|         781.5|    55.6|\n",
      "|           852.1|         840.5|    54.9|\n",
      "+----------------+--------------+--------+\n",
      "only showing top 20 rows\n",
      "\n"
     ]
    }
   ],
   "source": [
    "sql = \"select `Coarse Aggregate`, `Fine Aggregate`, Strength from my where Strength >= 50\"\n",
    "sqlDF = sqlCtx.sql(sql)\n",
    "sqlDF.show()"
   ]
  },
  {
   "cell_type": "code",
   "execution_count": 31,
   "id": "8b8e583a",
   "metadata": {},
   "outputs": [
    {
     "name": "stdout",
     "output_type": "stream",
     "text": [
      "+--------------------+\n",
      "|stddev_samp(Fly Ash)|\n",
      "+--------------------+\n",
      "|  63.997004152687666|\n",
      "+--------------------+\n",
      "\n"
     ]
    }
   ],
   "source": [
    "sql = \"select stddev_samp(`Fly Ash`) from my\"\n",
    "sqlDF = sqlCtx.sql(sql)\n",
    "sqlDF.show()"
   ]
  },
  {
   "cell_type": "code",
   "execution_count": 32,
   "id": "6413da6c",
   "metadata": {},
   "outputs": [
    {
     "name": "stdout",
     "output_type": "stream",
     "text": [
      "+-------------+-------------+-----------------+\n",
      "|max(Strength)|min(Strength)|   mean(Strength)|\n",
      "+-------------+-------------+-----------------+\n",
      "|         82.6|         2.33|35.81796116504851|\n",
      "+-------------+-------------+-----------------+\n",
      "\n"
     ]
    }
   ],
   "source": [
    "sql = \"select max(Strength), min(Strength), mean(Strength) from my\"\n",
    "sqlDF = sqlCtx.sql(sql)\n",
    "sqlDF.show()"
   ]
  },
  {
   "cell_type": "code",
   "execution_count": 35,
   "id": "fd4f9028",
   "metadata": {},
   "outputs": [
    {
     "name": "stdout",
     "output_type": "stream",
     "text": [
      "+--------+----+\n",
      "|Strength|강도|\n",
      "+--------+----+\n",
      "|   79.99|강함|\n",
      "|   61.89|강함|\n",
      "|   40.27|보통|\n",
      "|   41.05|보통|\n",
      "|    44.3|보통|\n",
      "|   47.03|보통|\n",
      "|    43.7|보통|\n",
      "|   36.45|보통|\n",
      "|   45.85|보통|\n",
      "|   39.29|보통|\n",
      "|   38.07|보통|\n",
      "|   28.02|약함|\n",
      "|   43.01|보통|\n",
      "|   42.33|보통|\n",
      "|   47.81|보통|\n",
      "|   52.91|보통|\n",
      "|   39.36|보통|\n",
      "|   56.14|보통|\n",
      "|   40.56|보통|\n",
      "|   42.62|보통|\n",
      "+--------+----+\n",
      "only showing top 20 rows\n",
      "\n"
     ]
    }
   ],
   "source": [
    "sql = \"select Strength, case when Strength >= 60 then '강함' when Strength >= 30 then '보통' else '약함' end as `강도` from my\"\n",
    "sqlDF = sqlCtx.sql(sql)\n",
    "sqlDF.show()"
   ]
  },
  {
   "cell_type": "code",
   "execution_count": 39,
   "id": "77f9f00b",
   "metadata": {},
   "outputs": [
    {
     "name": "stdout",
     "output_type": "stream",
     "text": [
      "+-------------------------------+\n",
      "|(Water - CAST(100.0 AS DOUBLE))|\n",
      "+-------------------------------+\n",
      "|                           62.0|\n",
      "|                           62.0|\n",
      "|                          128.0|\n",
      "|                          128.0|\n",
      "|                           92.0|\n",
      "|                          128.0|\n",
      "|                          128.0|\n",
      "|                          128.0|\n",
      "|                          128.0|\n",
      "|                          128.0|\n",
      "|                           92.0|\n",
      "|                           92.0|\n",
      "|                          128.0|\n",
      "|                          128.0|\n",
      "|                          128.0|\n",
      "|                          128.0|\n",
      "|                           92.0|\n",
      "|                          128.0|\n",
      "|                          128.0|\n",
      "|                          128.0|\n",
      "+-------------------------------+\n",
      "only showing top 20 rows\n",
      "\n"
     ]
    }
   ],
   "source": [
    "sql = \"select Water-100.0 from my\"\n",
    "sqlDF = sqlCtx.sql(sql)\n",
    "sqlDF.show()"
   ]
  },
  {
   "cell_type": "code",
   "execution_count": 40,
   "id": "b8e0fe23",
   "metadata": {},
   "outputs": [],
   "source": [
    "sc.stop()"
   ]
  }
 ],
 "metadata": {
  "kernelspec": {
   "display_name": "Python 3",
   "language": "python",
   "name": "python3"
  },
  "language_info": {
   "codemirror_mode": {
    "name": "ipython",
    "version": 3
   },
   "file_extension": ".py",
   "mimetype": "text/x-python",
   "name": "python",
   "nbconvert_exporter": "python",
   "pygments_lexer": "ipython3",
   "version": "3.8.8"
  }
 },
 "nbformat": 4,
 "nbformat_minor": 5
}
