{
 "cells": [
  {
   "cell_type": "code",
   "execution_count": 7,
   "id": "2f0c2cd0",
   "metadata": {},
   "outputs": [],
   "source": [
    "from konlpy.tag import Hannanum, Kkma, Komoran, Okt \n",
    "#Mecab은 window 지원 안 함"
   ]
  },
  {
   "cell_type": "code",
   "execution_count": 2,
   "id": "ebbc41ca",
   "metadata": {},
   "outputs": [],
   "source": [
    "s = '나는 자랑스런 태극기 앞에 조국과 민족의 무궁한 영광을 위하여'"
   ]
  },
  {
   "cell_type": "code",
   "execution_count": 3,
   "id": "cbb3fb57",
   "metadata": {},
   "outputs": [],
   "source": [
    "han = Hannanum()"
   ]
  },
  {
   "cell_type": "code",
   "execution_count": 4,
   "id": "a49d33d0",
   "metadata": {},
   "outputs": [
    {
     "data": {
      "text/plain": [
       "['나',\n",
       " '는',\n",
       " '자랑',\n",
       " '스런',\n",
       " '태극기',\n",
       " '앞',\n",
       " '에',\n",
       " '조국',\n",
       " '과',\n",
       " '민족',\n",
       " '의',\n",
       " '무궁한',\n",
       " '영광',\n",
       " '을',\n",
       " '위하여']"
      ]
     },
     "execution_count": 4,
     "metadata": {},
     "output_type": "execute_result"
    }
   ],
   "source": [
    "han.morphs(s) #형태소"
   ]
  },
  {
   "cell_type": "code",
   "execution_count": 5,
   "id": "24af9d15",
   "metadata": {},
   "outputs": [
    {
     "data": {
      "text/plain": [
       "['나', '자랑', '태극기', '앞', '조국', '민족', '무궁한', '영광', '위하여']"
      ]
     },
     "execution_count": 5,
     "metadata": {},
     "output_type": "execute_result"
    }
   ],
   "source": [
    "han.nouns(s) #명사"
   ]
  },
  {
   "cell_type": "code",
   "execution_count": 6,
   "id": "07435c2f",
   "metadata": {},
   "outputs": [
    {
     "data": {
      "text/plain": [
       "[('나', 'N'),\n",
       " ('는', 'J'),\n",
       " ('자랑', 'N'),\n",
       " ('스런', 'J'),\n",
       " ('태극기', 'N'),\n",
       " ('앞', 'N'),\n",
       " ('에', 'J'),\n",
       " ('조국', 'N'),\n",
       " ('과', 'J'),\n",
       " ('민족', 'N'),\n",
       " ('의', 'J'),\n",
       " ('무궁한', 'N'),\n",
       " ('영광', 'N'),\n",
       " ('을', 'J'),\n",
       " ('위하여', 'N')]"
      ]
     },
     "execution_count": 6,
     "metadata": {},
     "output_type": "execute_result"
    }
   ],
   "source": [
    "han.pos(s) #품사 표식"
   ]
  },
  {
   "cell_type": "code",
   "execution_count": 8,
   "id": "78cc1f56",
   "metadata": {},
   "outputs": [],
   "source": [
    "okt = Okt()"
   ]
  },
  {
   "cell_type": "code",
   "execution_count": 9,
   "id": "c48a93f2",
   "metadata": {},
   "outputs": [
    {
     "data": {
      "text/plain": [
       "['나',\n",
       " '는',\n",
       " '자랑스런',\n",
       " '태극기',\n",
       " '앞',\n",
       " '에',\n",
       " '조국',\n",
       " '과',\n",
       " '민족',\n",
       " '의',\n",
       " '무궁',\n",
       " '한',\n",
       " '영광',\n",
       " '을',\n",
       " '위',\n",
       " '하여']"
      ]
     },
     "execution_count": 9,
     "metadata": {},
     "output_type": "execute_result"
    }
   ],
   "source": [
    "okt.morphs(s)"
   ]
  },
  {
   "cell_type": "code",
   "execution_count": 10,
   "id": "884b4645",
   "metadata": {},
   "outputs": [
    {
     "data": {
      "text/plain": [
       "['나', '태극기', '앞', '조국', '민족', '무궁', '영광', '위']"
      ]
     },
     "execution_count": 10,
     "metadata": {},
     "output_type": "execute_result"
    }
   ],
   "source": [
    "okt.nouns(s)"
   ]
  },
  {
   "cell_type": "code",
   "execution_count": 11,
   "id": "42a6748f",
   "metadata": {},
   "outputs": [
    {
     "data": {
      "text/plain": [
       "[('나', 'Noun'),\n",
       " ('는', 'Josa'),\n",
       " ('자랑스런', 'Adjective'),\n",
       " ('태극기', 'Noun'),\n",
       " ('앞', 'Noun'),\n",
       " ('에', 'Josa'),\n",
       " ('조국', 'Noun'),\n",
       " ('과', 'Josa'),\n",
       " ('민족', 'Noun'),\n",
       " ('의', 'Josa'),\n",
       " ('무궁', 'Noun'),\n",
       " ('한', 'Josa'),\n",
       " ('영광', 'Noun'),\n",
       " ('을', 'Josa'),\n",
       " ('위', 'Noun'),\n",
       " ('하여', 'Verb')]"
      ]
     },
     "execution_count": 11,
     "metadata": {},
     "output_type": "execute_result"
    }
   ],
   "source": [
    "okt.pos(s)"
   ]
  },
  {
   "cell_type": "code",
   "execution_count": 20,
   "id": "cdb3546a",
   "metadata": {},
   "outputs": [],
   "source": [
    "text = s\n",
    "flatlist = []\n",
    "for word in okt.pos(text): \n",
    "    if word[1] in ['Josa']: #명사, 동사, 형용사\n",
    "        flatlist.append(word[0])\n",
    "example= ' '.join(flatlist)"
   ]
  },
  {
   "cell_type": "code",
   "execution_count": 21,
   "id": "aa1a4431",
   "metadata": {},
   "outputs": [
    {
     "data": {
      "text/plain": [
       "['는', '에', '과', '의', '한', '을']"
      ]
     },
     "execution_count": 21,
     "metadata": {},
     "output_type": "execute_result"
    }
   ],
   "source": [
    "flatlist"
   ]
  },
  {
   "cell_type": "code",
   "execution_count": 23,
   "id": "63be4c49",
   "metadata": {},
   "outputs": [
    {
     "data": {
      "text/plain": [
       "['는', '에', '과', '의', '한', '을']"
      ]
     },
     "execution_count": 23,
     "metadata": {},
     "output_type": "execute_result"
    }
   ],
   "source": [
    "[i[0] for i in okt.pos(s) if i[1] == 'Josa']"
   ]
  },
  {
   "cell_type": "markdown",
   "id": "c652ca2b",
   "metadata": {},
   "source": [
    "#### KoNLPy는 다음과 같은 다양한 형태소 분석, 태깅 라이브러리를 파이썬에서 쉽게 사용할 수 있도록 모아놓았다.\n",
    "\n",
    "* Hannanum: 한나눔. KAIST Semantic Web Research Center 개발.\n",
    "  * http://semanticweb.kaist.ac.kr/hannanum/\n",
    "* Kkma: 꼬꼬마. 서울대학교 IDS(Intelligent Data Systems) 연구실 개발.\n",
    "  * http://kkma.snu.ac.kr/\n",
    "* Komoran: 코모란. Shineware에서 개발.\n",
    "  * https://github.com/shin285/KOMORAN\n",
    "* Mecab: 메카브. 일본어용 형태소 분석기를 한국어를 사용할 수 있도록 수정.\n",
    "  * https://bitbucket.org/eunjeon/mecab-ko\n",
    "* Open Korean Text: 오픈 소스 한국어 분석기. 과거 트위터 형태소 분석기.\n",
    "  * https://github.com/open-korean-text/open-korean-text"
   ]
  },
  {
   "cell_type": "code",
   "execution_count": 24,
   "id": "89bc9391",
   "metadata": {},
   "outputs": [],
   "source": [
    "komo = Komoran()"
   ]
  },
  {
   "cell_type": "code",
   "execution_count": 25,
   "id": "1566298f",
   "metadata": {},
   "outputs": [
    {
     "data": {
      "text/plain": [
       "['나',\n",
       " '는',\n",
       " '자랑',\n",
       " '스럽',\n",
       " 'ㄴ',\n",
       " '태극기',\n",
       " '앞',\n",
       " '에',\n",
       " '조국',\n",
       " '과',\n",
       " '민족',\n",
       " '의',\n",
       " '무궁',\n",
       " '하',\n",
       " 'ㄴ',\n",
       " '영광',\n",
       " '을',\n",
       " '위하',\n",
       " '아']"
      ]
     },
     "execution_count": 25,
     "metadata": {},
     "output_type": "execute_result"
    }
   ],
   "source": [
    "komo.morphs(s)"
   ]
  },
  {
   "cell_type": "code",
   "execution_count": 26,
   "id": "979a8eab",
   "metadata": {},
   "outputs": [
    {
     "data": {
      "text/plain": [
       "['자랑', '태극기', '앞', '조국', '민족', '영광']"
      ]
     },
     "execution_count": 26,
     "metadata": {},
     "output_type": "execute_result"
    }
   ],
   "source": [
    "komo.nouns(s)"
   ]
  },
  {
   "cell_type": "code",
   "execution_count": 28,
   "id": "4ee7fa1e",
   "metadata": {},
   "outputs": [
    {
     "data": {
      "text/plain": [
       "[('나', 'NP'),\n",
       " ('는', 'JX'),\n",
       " ('자랑', 'NNG'),\n",
       " ('스럽', 'XSA'),\n",
       " ('ㄴ', 'ETM'),\n",
       " ('태극기', 'NNP'),\n",
       " ('앞', 'NNG'),\n",
       " ('에', 'JKB'),\n",
       " ('조국', 'NNP'),\n",
       " ('과', 'JC'),\n",
       " ('민족', 'NNG'),\n",
       " ('의', 'JKG'),\n",
       " ('무궁', 'XR'),\n",
       " ('하', 'XSA'),\n",
       " ('ㄴ', 'ETM'),\n",
       " ('영광', 'NNG'),\n",
       " ('을', 'JKO'),\n",
       " ('위하', 'VV'),\n",
       " ('아', 'EC')]"
      ]
     },
     "execution_count": 28,
     "metadata": {},
     "output_type": "execute_result"
    }
   ],
   "source": [
    "komo.pos(s)"
   ]
  }
 ],
 "metadata": {
  "kernelspec": {
   "display_name": "Python 3",
   "language": "python",
   "name": "python3"
  },
  "language_info": {
   "codemirror_mode": {
    "name": "ipython",
    "version": 3
   },
   "file_extension": ".py",
   "mimetype": "text/x-python",
   "name": "python",
   "nbconvert_exporter": "python",
   "pygments_lexer": "ipython3",
   "version": "3.8.8"
  }
 },
 "nbformat": 4,
 "nbformat_minor": 5
}
