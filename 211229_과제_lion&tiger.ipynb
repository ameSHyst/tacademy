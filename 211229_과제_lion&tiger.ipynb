{
 "cells": [
  {
   "cell_type": "code",
   "execution_count": 10,
   "id": "b0f0458e",
   "metadata": {},
   "outputs": [],
   "source": [
    "import tensorflow as tf\n",
    "import numpy as np\n",
    "import pandas as pd\n",
    "import matplotlib.pyplot as plt\n",
    "plt.style.use('ggplot')\n",
    "\n",
    "from tensorflow.keras.preprocessing import image\n",
    "from tensorflow.keras.optimizers import Adam\n",
    "from tensorflow.keras import Sequential\n",
    "from tensorflow.keras.layers import Dense, Flatten, Dropout\n",
    "from tensorflow.keras.applications.vgg16 import VGG16\n",
    "from tensorflow.keras.applications.resnet50 import ResNet50,decode_predictions,preprocess_input\n",
    "\n",
    "import seaborn as sns\n",
    "from sklearn.metrics import confusion_matrix, f1_score\n",
    "from sklearn.model_selection import train_test_split"
   ]
  },
  {
   "cell_type": "code",
   "execution_count": 2,
   "id": "db0b3d08",
   "metadata": {},
   "outputs": [],
   "source": [
    "model_vgg = VGG16(include_top = False, weights = 'imagenet', input_shape = (98, 98, 3))\n",
    "                    #사전 학습된 특징 추출기까지만 불러옴(Flatten 이전 단계)"
   ]
  },
  {
   "cell_type": "code",
   "execution_count": 3,
   "id": "f0c887b4",
   "metadata": {},
   "outputs": [],
   "source": [
    "for layer in model_vgg.layers:\n",
    "    layer.trainable = False #특징 추출기는 학습시 제외"
   ]
  },
  {
   "cell_type": "code",
   "execution_count": 5,
   "id": "fa6f2986",
   "metadata": {},
   "outputs": [
    {
     "name": "stdout",
     "output_type": "stream",
     "text": [
      "Found 1904 images belonging to 2 classes.\n"
     ]
    }
   ],
   "source": [
    "dataGen = image.ImageDataGenerator(rescale=1./255)\n",
    "trainGen = dataGen.flow_from_directory( 'image3/', batch_size=1800, target_size=(98, 98) )\n",
    "x_train, y_train = trainGen.next()"
   ]
  },
  {
   "cell_type": "code",
   "execution_count": 6,
   "id": "3a3fa3eb",
   "metadata": {},
   "outputs": [
    {
     "data": {
      "text/plain": [
       "(1800, 98, 98, 3)"
      ]
     },
     "execution_count": 6,
     "metadata": {},
     "output_type": "execute_result"
    }
   ],
   "source": [
    "x_train.shape"
   ]
  },
  {
   "cell_type": "code",
   "execution_count": 8,
   "id": "93368418",
   "metadata": {},
   "outputs": [
    {
     "data": {
      "text/plain": [
       "(1800, 2)"
      ]
     },
     "execution_count": 8,
     "metadata": {},
     "output_type": "execute_result"
    }
   ],
   "source": [
    "y_train.shape"
   ]
  },
  {
   "cell_type": "code",
   "execution_count": 11,
   "id": "e82f1b9b",
   "metadata": {},
   "outputs": [
    {
     "name": "stdout",
     "output_type": "stream",
     "text": [
      "Epoch 1/100\n",
      "43/43 [==============================] - 23s 537ms/step - loss: 0.5647 - acc: 0.7156 - val_loss: 0.4496 - val_acc: 0.7956\n",
      "Epoch 2/100\n",
      "43/43 [==============================] - 22s 526ms/step - loss: 0.3997 - acc: 0.8326 - val_loss: 0.3585 - val_acc: 0.8378\n",
      "Epoch 3/100\n",
      "43/43 [==============================] - 23s 527ms/step - loss: 0.3414 - acc: 0.8496 - val_loss: 0.3247 - val_acc: 0.8511\n",
      "Epoch 4/100\n",
      "43/43 [==============================] - 23s 528ms/step - loss: 0.2988 - acc: 0.8741 - val_loss: 0.2948 - val_acc: 0.8800\n",
      "Epoch 5/100\n",
      "43/43 [==============================] - 23s 527ms/step - loss: 0.2582 - acc: 0.8993 - val_loss: 0.2717 - val_acc: 0.8844\n",
      "Epoch 6/100\n",
      "43/43 [==============================] - 22s 520ms/step - loss: 0.2386 - acc: 0.9030 - val_loss: 0.2601 - val_acc: 0.8800\n",
      "Epoch 7/100\n",
      "43/43 [==============================] - 22s 517ms/step - loss: 0.2251 - acc: 0.9126 - val_loss: 0.2577 - val_acc: 0.8844\n",
      "Epoch 8/100\n",
      "43/43 [==============================] - 22s 518ms/step - loss: 0.2020 - acc: 0.9148 - val_loss: 0.2445 - val_acc: 0.9000\n",
      "Epoch 9/100\n",
      "43/43 [==============================] - 22s 517ms/step - loss: 0.1857 - acc: 0.9326 - val_loss: 0.2410 - val_acc: 0.9022\n",
      "Epoch 10/100\n",
      "43/43 [==============================] - 22s 516ms/step - loss: 0.1607 - acc: 0.9444 - val_loss: 0.2513 - val_acc: 0.8867\n",
      "Epoch 11/100\n",
      "43/43 [==============================] - 22s 517ms/step - loss: 0.1523 - acc: 0.9415 - val_loss: 0.2385 - val_acc: 0.8911\n",
      "Epoch 12/100\n",
      "43/43 [==============================] - 22s 517ms/step - loss: 0.1534 - acc: 0.9496 - val_loss: 0.2356 - val_acc: 0.9022\n",
      "Epoch 13/100\n",
      "43/43 [==============================] - 22s 519ms/step - loss: 0.1357 - acc: 0.9533 - val_loss: 0.2325 - val_acc: 0.8933\n",
      "Epoch 14/100\n",
      "43/43 [==============================] - 22s 518ms/step - loss: 0.1238 - acc: 0.9622 - val_loss: 0.2283 - val_acc: 0.9044\n",
      "Epoch 15/100\n",
      "43/43 [==============================] - 22s 525ms/step - loss: 0.1133 - acc: 0.9637 - val_loss: 0.2539 - val_acc: 0.8956\n",
      "Epoch 16/100\n",
      "43/43 [==============================] - 22s 518ms/step - loss: 0.1073 - acc: 0.9733 - val_loss: 0.2282 - val_acc: 0.9044\n",
      "Epoch 17/100\n",
      "43/43 [==============================] - 22s 518ms/step - loss: 0.0965 - acc: 0.9763 - val_loss: 0.2333 - val_acc: 0.9067\n",
      "Epoch 18/100\n",
      "43/43 [==============================] - 22s 518ms/step - loss: 0.0937 - acc: 0.9719 - val_loss: 0.2317 - val_acc: 0.9022\n",
      "Epoch 19/100\n",
      "43/43 [==============================] - 22s 516ms/step - loss: 0.0824 - acc: 0.9822 - val_loss: 0.2296 - val_acc: 0.8978\n",
      "Epoch 20/100\n",
      "43/43 [==============================] - 22s 522ms/step - loss: 0.0729 - acc: 0.9881 - val_loss: 0.2405 - val_acc: 0.9000\n",
      "Epoch 21/100\n",
      "43/43 [==============================] - 22s 518ms/step - loss: 0.0651 - acc: 0.9874 - val_loss: 0.2334 - val_acc: 0.9000\n",
      "Epoch 22/100\n",
      "43/43 [==============================] - 22s 517ms/step - loss: 0.0695 - acc: 0.9859 - val_loss: 0.2582 - val_acc: 0.8978\n",
      "Epoch 23/100\n",
      "43/43 [==============================] - 22s 514ms/step - loss: 0.0621 - acc: 0.9859 - val_loss: 0.2403 - val_acc: 0.9000\n",
      "Epoch 24/100\n",
      "43/43 [==============================] - 22s 517ms/step - loss: 0.0559 - acc: 0.9911 - val_loss: 0.2402 - val_acc: 0.8978\n",
      "Epoch 25/100\n",
      "43/43 [==============================] - 22s 523ms/step - loss: 0.0533 - acc: 0.9904 - val_loss: 0.2421 - val_acc: 0.9022\n",
      "Epoch 26/100\n",
      "43/43 [==============================] - 22s 519ms/step - loss: 0.0549 - acc: 0.9874 - val_loss: 0.2663 - val_acc: 0.8933\n",
      "Epoch 27/100\n",
      "43/43 [==============================] - 22s 519ms/step - loss: 0.0436 - acc: 0.9956 - val_loss: 0.2490 - val_acc: 0.9089\n",
      "Epoch 28/100\n",
      "43/43 [==============================] - 22s 520ms/step - loss: 0.0377 - acc: 0.9941 - val_loss: 0.2528 - val_acc: 0.9000\n",
      "Epoch 29/100\n",
      "43/43 [==============================] - 22s 520ms/step - loss: 0.0390 - acc: 0.9933 - val_loss: 0.2446 - val_acc: 0.9044\n",
      "Epoch 30/100\n",
      "43/43 [==============================] - 22s 519ms/step - loss: 0.0342 - acc: 0.9948 - val_loss: 0.2495 - val_acc: 0.9022\n",
      "Epoch 31/100\n",
      "43/43 [==============================] - 22s 522ms/step - loss: 0.0314 - acc: 0.9963 - val_loss: 0.2457 - val_acc: 0.9022\n",
      "Epoch 32/100\n",
      "43/43 [==============================] - 22s 521ms/step - loss: 0.0321 - acc: 0.9941 - val_loss: 0.2412 - val_acc: 0.9067\n",
      "Epoch 33/100\n",
      "43/43 [==============================] - 22s 521ms/step - loss: 0.0284 - acc: 0.9956 - val_loss: 0.2556 - val_acc: 0.9111\n",
      "Epoch 34/100\n",
      "43/43 [==============================] - 22s 521ms/step - loss: 0.0285 - acc: 0.9970 - val_loss: 0.2585 - val_acc: 0.9067\n",
      "Epoch 35/100\n",
      "43/43 [==============================] - 22s 519ms/step - loss: 0.0230 - acc: 0.9978 - val_loss: 0.2615 - val_acc: 0.8978\n",
      "Epoch 36/100\n",
      "43/43 [==============================] - 22s 518ms/step - loss: 0.0234 - acc: 0.9985 - val_loss: 0.2844 - val_acc: 0.9000\n",
      "Epoch 37/100\n",
      "43/43 [==============================] - 22s 519ms/step - loss: 0.0215 - acc: 0.9978 - val_loss: 0.2804 - val_acc: 0.9000\n",
      "Epoch 38/100\n",
      "43/43 [==============================] - 22s 519ms/step - loss: 0.0199 - acc: 0.9985 - val_loss: 0.2717 - val_acc: 0.9044\n",
      "Epoch 39/100\n",
      "43/43 [==============================] - 22s 520ms/step - loss: 0.0196 - acc: 0.9970 - val_loss: 0.2852 - val_acc: 0.9000\n",
      "Epoch 40/100\n",
      "43/43 [==============================] - 22s 519ms/step - loss: 0.0172 - acc: 0.9970 - val_loss: 0.2729 - val_acc: 0.9044\n",
      "Epoch 41/100\n",
      "43/43 [==============================] - 22s 519ms/step - loss: 0.0181 - acc: 0.9970 - val_loss: 0.3154 - val_acc: 0.9000\n",
      "Epoch 42/100\n",
      "43/43 [==============================] - 22s 519ms/step - loss: 0.0133 - acc: 0.9985 - val_loss: 0.2800 - val_acc: 0.9022\n",
      "Epoch 43/100\n",
      "43/43 [==============================] - 22s 522ms/step - loss: 0.0142 - acc: 0.9978 - val_loss: 0.2879 - val_acc: 0.8978\n",
      "Epoch 44/100\n",
      "43/43 [==============================] - 22s 520ms/step - loss: 0.0147 - acc: 0.9978 - val_loss: 0.2778 - val_acc: 0.9000\n",
      "Epoch 45/100\n",
      "43/43 [==============================] - 22s 519ms/step - loss: 0.0128 - acc: 0.9985 - val_loss: 0.2983 - val_acc: 0.8978\n",
      "Epoch 46/100\n",
      "43/43 [==============================] - 22s 521ms/step - loss: 0.0125 - acc: 0.9985 - val_loss: 0.2803 - val_acc: 0.9000\n",
      "Epoch 47/100\n",
      "43/43 [==============================] - 22s 519ms/step - loss: 0.0123 - acc: 0.9985 - val_loss: 0.3367 - val_acc: 0.8911\n",
      "Epoch 48/100\n",
      "43/43 [==============================] - 22s 518ms/step - loss: 0.0122 - acc: 0.9985 - val_loss: 0.2932 - val_acc: 0.8956\n",
      "Epoch 49/100\n",
      "43/43 [==============================] - 22s 520ms/step - loss: 0.0095 - acc: 1.0000 - val_loss: 0.3010 - val_acc: 0.9000\n",
      "Epoch 50/100\n",
      "43/43 [==============================] - 22s 519ms/step - loss: 0.0094 - acc: 0.9993 - val_loss: 0.3410 - val_acc: 0.8956\n",
      "Epoch 51/100\n",
      "43/43 [==============================] - 22s 521ms/step - loss: 0.0096 - acc: 0.9993 - val_loss: 0.3099 - val_acc: 0.8978\n",
      "Epoch 52/100\n",
      "43/43 [==============================] - 22s 519ms/step - loss: 0.0092 - acc: 0.9978 - val_loss: 0.3011 - val_acc: 0.9022\n",
      "Epoch 53/100\n",
      "43/43 [==============================] - 22s 519ms/step - loss: 0.0098 - acc: 0.9993 - val_loss: 0.3292 - val_acc: 0.9000\n",
      "Epoch 54/100\n",
      "43/43 [==============================] - 22s 519ms/step - loss: 0.0081 - acc: 0.9993 - val_loss: 0.3052 - val_acc: 0.8933\n",
      "Epoch 55/100\n",
      "43/43 [==============================] - 22s 517ms/step - loss: 0.0080 - acc: 0.9993 - val_loss: 0.3191 - val_acc: 0.8978\n",
      "Epoch 56/100\n",
      "43/43 [==============================] - 22s 521ms/step - loss: 0.0072 - acc: 0.9993 - val_loss: 0.3089 - val_acc: 0.8933\n",
      "Epoch 57/100\n",
      "43/43 [==============================] - 22s 519ms/step - loss: 0.0057 - acc: 1.0000 - val_loss: 0.3174 - val_acc: 0.8978\n",
      "Epoch 58/100\n",
      "43/43 [==============================] - 22s 520ms/step - loss: 0.0065 - acc: 0.9993 - val_loss: 0.3073 - val_acc: 0.9044\n",
      "Epoch 59/100\n",
      "43/43 [==============================] - 22s 519ms/step - loss: 0.0131 - acc: 0.9978 - val_loss: 0.3309 - val_acc: 0.9000\n",
      "Epoch 60/100\n",
      "43/43 [==============================] - 22s 521ms/step - loss: 0.0067 - acc: 0.9993 - val_loss: 0.3788 - val_acc: 0.8933\n",
      "Epoch 61/100\n",
      "43/43 [==============================] - 22s 517ms/step - loss: 0.0069 - acc: 0.9993 - val_loss: 0.3551 - val_acc: 0.9000\n"
     ]
    },
    {
     "name": "stdout",
     "output_type": "stream",
     "text": [
      "Epoch 62/100\n",
      "43/43 [==============================] - 22s 519ms/step - loss: 0.0070 - acc: 0.9993 - val_loss: 0.3449 - val_acc: 0.8978\n",
      "Epoch 63/100\n",
      "43/43 [==============================] - 22s 518ms/step - loss: 0.0080 - acc: 0.9985 - val_loss: 0.3796 - val_acc: 0.9022\n",
      "Epoch 64/100\n",
      "43/43 [==============================] - 22s 519ms/step - loss: 0.0055 - acc: 1.0000 - val_loss: 0.3315 - val_acc: 0.9022\n",
      "Epoch 65/100\n",
      "43/43 [==============================] - 22s 521ms/step - loss: 0.0077 - acc: 0.9985 - val_loss: 0.3398 - val_acc: 0.8978\n",
      "Epoch 66/100\n",
      "43/43 [==============================] - 22s 518ms/step - loss: 0.0071 - acc: 0.9993 - val_loss: 0.3145 - val_acc: 0.9067\n",
      "Epoch 67/100\n",
      "43/43 [==============================] - 22s 518ms/step - loss: 0.0056 - acc: 0.9993 - val_loss: 0.3522 - val_acc: 0.8978\n",
      "Epoch 68/100\n",
      "43/43 [==============================] - 22s 519ms/step - loss: 0.0062 - acc: 0.9978 - val_loss: 0.3415 - val_acc: 0.9022\n",
      "Epoch 69/100\n",
      "43/43 [==============================] - 22s 518ms/step - loss: 0.0051 - acc: 0.9985 - val_loss: 0.3398 - val_acc: 0.8978\n",
      "Epoch 70/100\n",
      "43/43 [==============================] - 22s 518ms/step - loss: 0.0046 - acc: 0.9993 - val_loss: 0.3433 - val_acc: 0.8978\n",
      "Epoch 71/100\n",
      "43/43 [==============================] - 22s 518ms/step - loss: 0.0041 - acc: 1.0000 - val_loss: 0.3460 - val_acc: 0.8956\n",
      "Epoch 72/100\n",
      "43/43 [==============================] - 22s 518ms/step - loss: 0.0051 - acc: 0.9993 - val_loss: 0.3484 - val_acc: 0.8978\n",
      "Epoch 73/100\n",
      "43/43 [==============================] - 22s 520ms/step - loss: 0.0041 - acc: 0.9993 - val_loss: 0.3492 - val_acc: 0.9022\n",
      "Epoch 74/100\n",
      "43/43 [==============================] - 22s 519ms/step - loss: 0.0053 - acc: 0.9985 - val_loss: 0.3346 - val_acc: 0.8978\n",
      "Epoch 75/100\n",
      "43/43 [==============================] - 22s 518ms/step - loss: 0.0066 - acc: 0.9985 - val_loss: 0.3383 - val_acc: 0.8978\n",
      "Epoch 76/100\n",
      "43/43 [==============================] - 22s 518ms/step - loss: 0.0027 - acc: 1.0000 - val_loss: 0.3592 - val_acc: 0.8978\n",
      "Epoch 77/100\n",
      "43/43 [==============================] - 22s 519ms/step - loss: 0.0046 - acc: 0.9993 - val_loss: 0.3586 - val_acc: 0.8978\n",
      "Epoch 78/100\n",
      "43/43 [==============================] - 22s 519ms/step - loss: 0.0043 - acc: 0.9993 - val_loss: 0.3807 - val_acc: 0.9000\n",
      "Epoch 79/100\n",
      "43/43 [==============================] - 22s 519ms/step - loss: 0.0038 - acc: 0.9993 - val_loss: 0.3583 - val_acc: 0.9022\n",
      "Epoch 80/100\n",
      "43/43 [==============================] - 22s 521ms/step - loss: 0.0047 - acc: 0.9985 - val_loss: 0.4104 - val_acc: 0.9022\n",
      "Epoch 81/100\n",
      "43/43 [==============================] - 22s 520ms/step - loss: 0.0053 - acc: 0.9985 - val_loss: 0.3808 - val_acc: 0.8978\n",
      "Epoch 82/100\n",
      "43/43 [==============================] - 22s 518ms/step - loss: 0.0038 - acc: 0.9985 - val_loss: 0.3812 - val_acc: 0.9022\n",
      "Epoch 83/100\n",
      "43/43 [==============================] - 22s 517ms/step - loss: 0.0041 - acc: 0.9985 - val_loss: 0.4042 - val_acc: 0.9000\n",
      "Epoch 84/100\n",
      "43/43 [==============================] - 22s 518ms/step - loss: 0.0051 - acc: 0.9985 - val_loss: 0.3484 - val_acc: 0.9089\n",
      "Epoch 85/100\n",
      "43/43 [==============================] - 22s 518ms/step - loss: 0.0059 - acc: 0.9985 - val_loss: 0.3686 - val_acc: 0.8956\n",
      "Epoch 86/100\n",
      "43/43 [==============================] - 22s 517ms/step - loss: 0.0033 - acc: 0.9985 - val_loss: 0.3585 - val_acc: 0.9000\n",
      "Epoch 87/100\n",
      "43/43 [==============================] - 23s 529ms/step - loss: 0.0034 - acc: 1.0000 - val_loss: 0.3669 - val_acc: 0.8911\n",
      "Epoch 88/100\n",
      "43/43 [==============================] - 23s 539ms/step - loss: 0.0039 - acc: 0.9985 - val_loss: 0.3928 - val_acc: 0.8956\n",
      "Epoch 89/100\n",
      "43/43 [==============================] - 23s 536ms/step - loss: 0.0026 - acc: 0.9985 - val_loss: 0.3910 - val_acc: 0.8933\n",
      "Epoch 90/100\n",
      "43/43 [==============================] - 23s 536ms/step - loss: 0.0024 - acc: 0.9993 - val_loss: 0.4157 - val_acc: 0.8978\n",
      "Epoch 91/100\n",
      "43/43 [==============================] - 23s 540ms/step - loss: 0.0036 - acc: 0.9993 - val_loss: 0.3802 - val_acc: 0.9000\n",
      "Epoch 92/100\n",
      "43/43 [==============================] - 23s 537ms/step - loss: 0.0035 - acc: 0.9985 - val_loss: 0.3767 - val_acc: 0.9000\n",
      "Epoch 93/100\n",
      "43/43 [==============================] - 22s 525ms/step - loss: 0.0030 - acc: 0.9993 - val_loss: 0.3855 - val_acc: 0.9000\n",
      "Epoch 94/100\n",
      "43/43 [==============================] - 22s 524ms/step - loss: 0.0049 - acc: 0.9985 - val_loss: 0.3936 - val_acc: 0.9022\n",
      "Epoch 95/100\n",
      "43/43 [==============================] - 22s 519ms/step - loss: 0.0027 - acc: 0.9993 - val_loss: 0.4109 - val_acc: 0.8956\n",
      "Epoch 96/100\n",
      "43/43 [==============================] - 22s 520ms/step - loss: 0.0028 - acc: 0.9993 - val_loss: 0.4103 - val_acc: 0.8978\n",
      "Epoch 97/100\n",
      "43/43 [==============================] - 23s 528ms/step - loss: 0.0026 - acc: 0.9993 - val_loss: 0.3938 - val_acc: 0.9022\n",
      "Epoch 98/100\n",
      "43/43 [==============================] - 22s 525ms/step - loss: 0.0022 - acc: 0.9993 - val_loss: 0.3866 - val_acc: 0.8978\n",
      "Epoch 99/100\n",
      "43/43 [==============================] - 23s 527ms/step - loss: 0.0031 - acc: 0.9993 - val_loss: 0.3980 - val_acc: 0.9000\n",
      "Epoch 100/100\n",
      "43/43 [==============================] - 22s 524ms/step - loss: 0.0029 - acc: 0.9985 - val_loss: 0.4387 - val_acc: 0.9000\n"
     ]
    },
    {
     "data": {
      "text/plain": [
       "<keras.callbacks.History at 0x282803328e0>"
      ]
     },
     "execution_count": 11,
     "metadata": {},
     "output_type": "execute_result"
    }
   ],
   "source": [
    "model = Sequential()\n",
    "model.add( model_vgg ) #con, relu, pool 반복되는 부분\n",
    "model.add( Flatten() ) #Flatten 이하 부분 추가\n",
    "model.add( Dense( units=64, activation='relu' ) )\n",
    "model.add(Dropout(0.2))\n",
    "model.add( Dense( units=32, activation='relu' ) )\n",
    "model.add( Dense( units=2, activation='softmax' ) )\n",
    "model.compile( loss='categorical_crossentropy', optimizer=Adam(0.0001), metrics=['acc'] )\n",
    "model.fit(x_train, y_train, epochs=100, validation_split=0.25)"
   ]
  },
  {
   "cell_type": "code",
   "execution_count": null,
   "id": "f01574a5",
   "metadata": {},
   "outputs": [],
   "source": []
  }
 ],
 "metadata": {
  "kernelspec": {
   "display_name": "Python 3",
   "language": "python",
   "name": "python3"
  },
  "language_info": {
   "codemirror_mode": {
    "name": "ipython",
    "version": 3
   },
   "file_extension": ".py",
   "mimetype": "text/x-python",
   "name": "python",
   "nbconvert_exporter": "python",
   "pygments_lexer": "ipython3",
   "version": "3.8.8"
  }
 },
 "nbformat": 4,
 "nbformat_minor": 5
}
