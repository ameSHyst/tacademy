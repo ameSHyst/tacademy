{
 "cells": [
  {
   "cell_type": "code",
   "execution_count": 1,
   "id": "d9927174",
   "metadata": {},
   "outputs": [],
   "source": [
    "import tensorflow as tf\n",
    "import numpy as np\n",
    "import pandas as pd\n",
    "import matplotlib.pyplot as plt\n",
    "plt.style.use('ggplot')\n",
    "\n",
    "from tensorflow.keras.optimizers import Adam\n",
    "from tensorflow.keras import Sequential\n",
    "from tensorflow.keras.layers import Dense, Flatten, Conv2D, MaxPool2D\n",
    "from tensorflow.keras.datasets.mnist import load_data\n",
    "from tensorflow.keras.utils import to_categorical"
   ]
  },
  {
   "cell_type": "code",
   "execution_count": 3,
   "id": "a10799eb",
   "metadata": {},
   "outputs": [],
   "source": [
    "mnistData = load_data()"
   ]
  },
  {
   "cell_type": "code",
   "execution_count": 4,
   "id": "d7d5421d",
   "metadata": {},
   "outputs": [],
   "source": [
    "(x_train, y_train), (x_test, y_test) = mnistData #( (x_train, y_train), (x_test, y_test) )"
   ]
  },
  {
   "cell_type": "code",
   "execution_count": 5,
   "id": "9fb31bf3",
   "metadata": {},
   "outputs": [
    {
     "data": {
      "text/plain": [
       "(60000, 28, 28)"
      ]
     },
     "execution_count": 5,
     "metadata": {},
     "output_type": "execute_result"
    }
   ],
   "source": [
    "x_train.shape"
   ]
  },
  {
   "cell_type": "code",
   "execution_count": 6,
   "id": "96ab5e3e",
   "metadata": {},
   "outputs": [],
   "source": [
    "y_trainOne = to_categorical(y_train)"
   ]
  },
  {
   "cell_type": "markdown",
   "id": "8c3b111d",
   "metadata": {},
   "source": [
    "#### 인코딩 안하면 sparse_categorical_crossentropy 사용, (units=10)\n",
    "#### sparse 사용하면 자체적으로 인코딩 된다 가정하고 각각 인코딩된 총 라벨 개수를 넣어줘야"
   ]
  },
  {
   "cell_type": "code",
   "execution_count": 9,
   "id": "a64354e1",
   "metadata": {},
   "outputs": [
    {
     "name": "stdout",
     "output_type": "stream",
     "text": [
      "Epoch 1/10\n",
      "1875/1875 [==============================] - 46s 24ms/step - loss: 0.2650 - acc: 0.9510\n",
      "Epoch 2/10\n",
      "1875/1875 [==============================] - 46s 24ms/step - loss: 0.0568 - acc: 0.9828\n",
      "Epoch 3/10\n",
      "1875/1875 [==============================] - 44s 24ms/step - loss: 0.0395 - acc: 0.9878\n",
      "Epoch 4/10\n",
      "1875/1875 [==============================] - 44s 24ms/step - loss: 0.0308 - acc: 0.9900\n",
      "Epoch 5/10\n",
      "1875/1875 [==============================] - 44s 24ms/step - loss: 0.0278 - acc: 0.9915\n",
      "Epoch 6/10\n",
      "1875/1875 [==============================] - 44s 24ms/step - loss: 0.0224 - acc: 0.9932\n",
      "Epoch 7/10\n",
      "1875/1875 [==============================] - 44s 24ms/step - loss: 0.0167 - acc: 0.9949\n",
      "Epoch 8/10\n",
      "1875/1875 [==============================] - 44s 24ms/step - loss: 0.0180 - acc: 0.9948\n",
      "Epoch 9/10\n",
      "1875/1875 [==============================] - 45s 24ms/step - loss: 0.0164 - acc: 0.9951\n",
      "Epoch 10/10\n",
      "1875/1875 [==============================] - 45s 24ms/step - loss: 0.0138 - acc: 0.9961\n"
     ]
    },
    {
     "data": {
      "text/plain": [
       "<keras.callbacks.History at 0x25391e1e3a0>"
      ]
     },
     "execution_count": 9,
     "metadata": {},
     "output_type": "execute_result"
    }
   ],
   "source": [
    "model = Sequential()\n",
    "              #필터 갯수  #필터 사이즈  #몇칸씩 이동\n",
    "model.add( Conv2D(32, kernel_size=(3, 3), strides=1, input_shape=(28, 28, 1),\n",
    "                 activation = 'relu', padding='same') )\n",
    "model.add( Conv2D(64, kernel_size=(3, 3), activation='relu') )\n",
    "model.add( MaxPool2D(pool_size=(2, 2) ) )\n",
    "model.add( Flatten() )\n",
    "model.add( Dense( units=64, activation='relu'))\n",
    "model.add( Dense( units=10, activation='softmax'))\n",
    "model.compile(loss='categorical_crossentropy', optimizer='Adam', metrics=['acc'])\n",
    "model.fit(x_train.reshape(60000, 28, 28, 1), y_trainOne, epochs=10)"
   ]
  }
 ],
 "metadata": {
  "kernelspec": {
   "display_name": "Python 3.9.7 ('base')",
   "language": "python",
   "name": "python3"
  },
  "language_info": {
   "codemirror_mode": {
    "name": "ipython",
    "version": 3
   },
   "file_extension": ".py",
   "mimetype": "text/x-python",
   "name": "python",
   "nbconvert_exporter": "python",
   "pygments_lexer": "ipython3",
   "version": "3.9.7"
  },
  "vscode": {
   "interpreter": {
    "hash": "543d1018a77f2a2f6f9803de262ef38a15787c287626acd2f1623e86b51ed4ca"
   }
  }
 },
 "nbformat": 4,
 "nbformat_minor": 5
}
