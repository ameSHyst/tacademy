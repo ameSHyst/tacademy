{
 "cells": [
  {
   "cell_type": "code",
   "execution_count": 1,
   "id": "7acb24bd",
   "metadata": {},
   "outputs": [],
   "source": [
    "import numpy as np"
   ]
  },
  {
   "cell_type": "code",
   "execution_count": 2,
   "id": "868d7731",
   "metadata": {},
   "outputs": [],
   "source": [
    "data=[[1,1],[1,0],[0,1],[0,0]]"
   ]
  },
  {
   "cell_type": "code",
   "execution_count": 3,
   "id": "eabdfa47",
   "metadata": {},
   "outputs": [],
   "source": [
    "def common(w1, w2, theta, x1, x2):\n",
    "    value = w1*x1+w2*x2\n",
    "    print('value : ', value)\n",
    "    return value > theta"
   ]
  },
  {
   "cell_type": "code",
   "execution_count": 4,
   "id": "40538759",
   "metadata": {},
   "outputs": [],
   "source": [
    "def AND(x1, x2):\n",
    "    return common(0.5, 0.5, 0.5, x1, x2)"
   ]
  },
  {
   "cell_type": "code",
   "execution_count": 7,
   "id": "24327d7e",
   "metadata": {},
   "outputs": [],
   "source": [
    "def OR(x1, x2):\n",
    "    return common(0.5, 0.5, 0.2, x1, x2)"
   ]
  },
  {
   "cell_type": "code",
   "execution_count": 9,
   "id": "67816e7e",
   "metadata": {},
   "outputs": [],
   "source": [
    "#NOT AND\n",
    "def NAND(x1, x2):\n",
    "    return common(-0.5, -0.5, -0.7, x1, x2)"
   ]
  },
  {
   "cell_type": "code",
   "execution_count": 11,
   "id": "b027bee6",
   "metadata": {},
   "outputs": [],
   "source": [
    "#OR -> NAND -> AND\n",
    "def XOR(x1, x2):\n",
    "    y1 = OR(x1, x2)\n",
    "    y2 = NAND(x1, x2)\n",
    "    return AND(y1, y2)"
   ]
  },
  {
   "cell_type": "code",
   "execution_count": 5,
   "id": "deaef2b5",
   "metadata": {},
   "outputs": [],
   "source": [
    "def show_operation(op):\n",
    "    for x1, x2 in data:\n",
    "        print( op(x1, x2) )"
   ]
  },
  {
   "cell_type": "code",
   "execution_count": 12,
   "id": "9e33215c",
   "metadata": {},
   "outputs": [
    {
     "name": "stdout",
     "output_type": "stream",
     "text": [
      "value :  1.0\n",
      "value :  -1.0\n",
      "value :  0.5\n",
      "False\n",
      "value :  0.5\n",
      "value :  -0.5\n",
      "value :  1.0\n",
      "True\n",
      "value :  0.5\n",
      "value :  -0.5\n",
      "value :  1.0\n",
      "True\n",
      "value :  0.0\n",
      "value :  -0.0\n",
      "value :  0.5\n",
      "False\n"
     ]
    }
   ],
   "source": [
    "# show_operation(AND)\n",
    "# show_operation(OR)\n",
    "# show_operation(NAND)\n",
    "show_operation(XOR)"
   ]
  }
 ],
 "metadata": {
  "kernelspec": {
   "display_name": "Python 3",
   "language": "python",
   "name": "python3"
  },
  "language_info": {
   "codemirror_mode": {
    "name": "ipython",
    "version": 3
   },
   "file_extension": ".py",
   "mimetype": "text/x-python",
   "name": "python",
   "nbconvert_exporter": "python",
   "pygments_lexer": "ipython3",
   "version": "3.8.8"
  }
 },
 "nbformat": 4,
 "nbformat_minor": 5
}
