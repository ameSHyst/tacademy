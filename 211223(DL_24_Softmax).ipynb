{
 "cells": [
  {
   "cell_type": "code",
   "execution_count": 1,
   "id": "16bb4d8b",
   "metadata": {},
   "outputs": [],
   "source": [
    "import numpy as np\n",
    "import math"
   ]
  },
  {
   "cell_type": "code",
   "execution_count": 2,
   "id": "a5fca29e",
   "metadata": {},
   "outputs": [],
   "source": [
    "def fn(x):\n",
    "    print( x/x.sum() )"
   ]
  },
  {
   "cell_type": "code",
   "execution_count": 10,
   "id": "39f75b18",
   "metadata": {},
   "outputs": [],
   "source": [
    "def softmax(x):\n",
    "    e = np.exp(x) #2.71828**2.0, 2.71828**1.0, 2.71828**0.1\n",
    "    print(e)\n",
    "    print(\"=\"*40)\n",
    "    print(e/e.sum())"
   ]
  },
  {
   "cell_type": "code",
   "execution_count": 11,
   "id": "ac5b3038",
   "metadata": {},
   "outputs": [
    {
     "name": "stdout",
     "output_type": "stream",
     "text": [
      "[7.3890561  2.71828183 1.10517092]\n",
      "========================================\n",
      "[0.65900114 0.24243297 0.09856589]\n"
     ]
    }
   ],
   "source": [
    "arr = np.array( [2.0, 1.0, 0.1] ) #각각 3.1로 나눔\n",
    "#fn(arr)\n",
    "softmax(arr)"
   ]
  },
  {
   "cell_type": "code",
   "execution_count": null,
   "id": "77ba006b",
   "metadata": {},
   "outputs": [],
   "source": [
    "#값이 작아질수록 실제값에 가까워짐\n",
    "#출력 벡터 + softmax -> 확률벡터 (특정 클래스 k에 속할 확률)"
   ]
  },
  {
   "cell_type": "code",
   "execution_count": null,
   "id": "197b5549",
   "metadata": {},
   "outputs": [],
   "source": []
  }
 ],
 "metadata": {
  "kernelspec": {
   "display_name": "Python 3",
   "language": "python",
   "name": "python3"
  },
  "language_info": {
   "codemirror_mode": {
    "name": "ipython",
    "version": 3
   },
   "file_extension": ".py",
   "mimetype": "text/x-python",
   "name": "python",
   "nbconvert_exporter": "python",
   "pygments_lexer": "ipython3",
   "version": "3.8.8"
  }
 },
 "nbformat": 4,
 "nbformat_minor": 5
}
