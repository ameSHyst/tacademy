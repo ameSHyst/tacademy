{
 "cells": [
  {
   "cell_type": "code",
   "execution_count": 2,
   "metadata": {},
   "outputs": [],
   "source": [
    "import nltk\n",
    "from nltk.tokenize import sent_tokenize, word_tokenize, RegexpTokenizer\n",
    "from nltk.tag import pos_tag\n",
    "from nltk import Text\n",
    "\n",
    "import re\n",
    "import pandas as pd\n",
    "import matplotlib.pyplot as plt\n",
    "# plt.rcParams.update({'xtick.labelcolor':\"white\", 'ytick.labelcolor':\"white\", 'axes.titlecolor':\"white\", 'axes.labelcolor':\"white\"})\n",
    "\n",
    "from wordcloud import WordCloud"
   ]
  },
  {
   "cell_type": "markdown",
   "metadata": {},
   "source": [
    "#### 로그 분석"
   ]
  },
  {
   "cell_type": "code",
   "execution_count": 3,
   "metadata": {},
   "outputs": [],
   "source": [
    "log = pd.read_csv('localhost_access_log.txt', sep = '\\n', header=None)\n",
    "log.columns = ['log']"
   ]
  },
  {
   "cell_type": "code",
   "execution_count": null,
   "metadata": {},
   "outputs": [],
   "source": [
    "#라인 단위로 읽기\n",
    "fp = open('localhost_access_log.txt')\n",
    "for r in fp:\n",
    "    print( r )\n",
    "    print('-------------------------')"
   ]
  },
  {
   "cell_type": "code",
   "execution_count": 13,
   "metadata": {},
   "outputs": [
    {
     "data": {
      "text/html": [
       "<div>\n",
       "<style scoped>\n",
       "    .dataframe tbody tr th:only-of-type {\n",
       "        vertical-align: middle;\n",
       "    }\n",
       "\n",
       "    .dataframe tbody tr th {\n",
       "        vertical-align: top;\n",
       "    }\n",
       "\n",
       "    .dataframe thead th {\n",
       "        text-align: right;\n",
       "    }\n",
       "</style>\n",
       "<table border=\"1\" class=\"dataframe\">\n",
       "  <thead>\n",
       "    <tr style=\"text-align: right;\">\n",
       "      <th></th>\n",
       "      <th>log</th>\n",
       "    </tr>\n",
       "  </thead>\n",
       "  <tbody>\n",
       "    <tr>\n",
       "      <th>0</th>\n",
       "      <td>0:0:0:0:0:0:0:1 - - [01/Apr/2016:12:37:26 +090...</td>\n",
       "    </tr>\n",
       "    <tr>\n",
       "      <th>1</th>\n",
       "      <td>0:0:0:0:0:0:0:1 - - [01/Apr/2016:12:37:26 +090...</td>\n",
       "    </tr>\n",
       "    <tr>\n",
       "      <th>2</th>\n",
       "      <td>0:0:0:0:0:0:0:1 - - [01/Apr/2016:12:37:26 +090...</td>\n",
       "    </tr>\n",
       "    <tr>\n",
       "      <th>3</th>\n",
       "      <td>0:0:0:0:0:0:0:1 - - [01/Apr/2016:12:37:26 +090...</td>\n",
       "    </tr>\n",
       "    <tr>\n",
       "      <th>4</th>\n",
       "      <td>0:0:0:0:0:0:0:1 - - [01/Apr/2016:12:37:26 +090...</td>\n",
       "    </tr>\n",
       "    <tr>\n",
       "      <th>...</th>\n",
       "      <td>...</td>\n",
       "    </tr>\n",
       "    <tr>\n",
       "      <th>1122</th>\n",
       "      <td>192.168.123.239 - - [01/Apr/2016:12:41:23 +090...</td>\n",
       "    </tr>\n",
       "    <tr>\n",
       "      <th>1123</th>\n",
       "      <td>192.168.123.239 - - [01/Apr/2016:12:41:23 +090...</td>\n",
       "    </tr>\n",
       "    <tr>\n",
       "      <th>1124</th>\n",
       "      <td>192.168.123.239 - - [01/Apr/2016:12:41:23 +090...</td>\n",
       "    </tr>\n",
       "    <tr>\n",
       "      <th>1125</th>\n",
       "      <td>192.168.123.239 - - [01/Apr/2016:12:41:23 +090...</td>\n",
       "    </tr>\n",
       "    <tr>\n",
       "      <th>1126</th>\n",
       "      <td>192.168.123.244 - - [01/Apr/2016:12:41:24 +090...</td>\n",
       "    </tr>\n",
       "  </tbody>\n",
       "</table>\n",
       "<p>1127 rows × 1 columns</p>\n",
       "</div>"
      ],
      "text/plain": [
       "                                                    log\n",
       "0     0:0:0:0:0:0:0:1 - - [01/Apr/2016:12:37:26 +090...\n",
       "1     0:0:0:0:0:0:0:1 - - [01/Apr/2016:12:37:26 +090...\n",
       "2     0:0:0:0:0:0:0:1 - - [01/Apr/2016:12:37:26 +090...\n",
       "3     0:0:0:0:0:0:0:1 - - [01/Apr/2016:12:37:26 +090...\n",
       "4     0:0:0:0:0:0:0:1 - - [01/Apr/2016:12:37:26 +090...\n",
       "...                                                 ...\n",
       "1122  192.168.123.239 - - [01/Apr/2016:12:41:23 +090...\n",
       "1123  192.168.123.239 - - [01/Apr/2016:12:41:23 +090...\n",
       "1124  192.168.123.239 - - [01/Apr/2016:12:41:23 +090...\n",
       "1125  192.168.123.239 - - [01/Apr/2016:12:41:23 +090...\n",
       "1126  192.168.123.244 - - [01/Apr/2016:12:41:24 +090...\n",
       "\n",
       "[1127 rows x 1 columns]"
      ]
     },
     "execution_count": 13,
     "metadata": {},
     "output_type": "execute_result"
    }
   ],
   "source": [
    "log"
   ]
  },
  {
   "cell_type": "markdown",
   "metadata": {},
   "source": [
    "#### 1. 전체 로그보기(ip: .. 날짜: .. 뷰페이지: )"
   ]
  },
  {
   "cell_type": "code",
   "execution_count": 4,
   "metadata": {},
   "outputs": [
    {
     "data": {
      "text/plain": [
       "0       0:0:0:0:0:0:0:1 - - [01/Apr/2016:12:37:26 +090...\n",
       "1       0:0:0:0:0:0:0:1 - - [01/Apr/2016:12:37:26 +090...\n",
       "2       0:0:0:0:0:0:0:1 - - [01/Apr/2016:12:37:26 +090...\n",
       "3       0:0:0:0:0:0:0:1 - - [01/Apr/2016:12:37:26 +090...\n",
       "4       0:0:0:0:0:0:0:1 - - [01/Apr/2016:12:37:26 +090...\n",
       "                              ...                        \n",
       "1122    192.168.123.239 - - [01/Apr/2016:12:41:23 +090...\n",
       "1123    192.168.123.239 - - [01/Apr/2016:12:41:23 +090...\n",
       "1124    192.168.123.239 - - [01/Apr/2016:12:41:23 +090...\n",
       "1125    192.168.123.239 - - [01/Apr/2016:12:41:23 +090...\n",
       "1126    192.168.123.244 - - [01/Apr/2016:12:41:24 +090...\n",
       "Name: log, Length: 1127, dtype: object"
      ]
     },
     "execution_count": 4,
     "metadata": {},
     "output_type": "execute_result"
    }
   ],
   "source": [
    "log['log']"
   ]
  },
  {
   "cell_type": "markdown",
   "metadata": {},
   "source": [
    "#### 2. ip별 방문 횟수( 000.000.000.000:x회)"
   ]
  },
  {
   "cell_type": "code",
   "execution_count": 85,
   "metadata": {},
   "outputs": [
    {
     "data": {
      "text/plain": [
       "'192.168.123.240'"
      ]
     },
     "execution_count": 85,
     "metadata": {},
     "output_type": "execute_result"
    }
   ],
   "source": [
    "# re.search('([\\d]{1,3}.){3}\\d{1,3}', log.loc[400,'log']).group()"
   ]
  },
  {
   "cell_type": "code",
   "execution_count": null,
   "metadata": {},
   "outputs": [],
   "source": [
    "sr = pd.Series()\n",
    "sr.str.extract( )"
   ]
  },
  {
   "cell_type": "code",
   "execution_count": 15,
   "metadata": {
    "collapsed": true
   },
   "outputs": [
    {
     "data": {
      "text/plain": [
       "0       0:0:0:0:0:0:0:1 - - [01/Apr/2016:12:37:26 +090...\n",
       "1       0:0:0:0:0:0:0:1 - - [01/Apr/2016:12:37:26 +090...\n",
       "2       0:0:0:0:0:0:0:1 - - [01/Apr/2016:12:37:26 +090...\n",
       "3       0:0:0:0:0:0:0:1 - - [01/Apr/2016:12:37:26 +090...\n",
       "4       0:0:0:0:0:0:0:1 - - [01/Apr/2016:12:37:26 +090...\n",
       "                              ...                        \n",
       "1122    192.168.123.239 - - [01/Apr/2016:12:41:23 +090...\n",
       "1123    192.168.123.239 - - [01/Apr/2016:12:41:23 +090...\n",
       "1124    192.168.123.239 - - [01/Apr/2016:12:41:23 +090...\n",
       "1125    192.168.123.239 - - [01/Apr/2016:12:41:23 +090...\n",
       "1126    192.168.123.244 - - [01/Apr/2016:12:41:24 +090...\n",
       "Name: log, Length: 1127, dtype: object"
      ]
     },
     "execution_count": 15,
     "metadata": {},
     "output_type": "execute_result"
    }
   ],
   "source": [
    "log['log']"
   ]
  },
  {
   "cell_type": "markdown",
   "metadata": {},
   "source": [
    "#### 강사추가"
   ]
  },
  {
   "cell_type": "code",
   "execution_count": 16,
   "metadata": {},
   "outputs": [],
   "source": [
    "ip = log['log'].str.extract('(0:0:0:0:0:0:0:1|([\\d]{1,3}.){3}\\d{1,3})')[0]"
   ]
  },
  {
   "cell_type": "markdown",
   "metadata": {},
   "source": [
    "### ====================="
   ]
  },
  {
   "cell_type": "code",
   "execution_count": 9,
   "metadata": {},
   "outputs": [],
   "source": [
    "log['ip'] = log['log'].apply(lambda x: re.search('0:0:0:0:0:0:0:1|([\\d]{1,3}.){3}\\d{1,3}',x).group())"
   ]
  },
  {
   "cell_type": "code",
   "execution_count": 18,
   "metadata": {
    "collapsed": true
   },
   "outputs": [
    {
     "data": {
      "text/plain": [
       "192.168.123.231    326\n",
       "192.168.123.239    187\n",
       "192.168.123.228    144\n",
       "192.168.123.240     98\n",
       "192.168.123.247     54\n",
       "192.168.123.246     50\n",
       "192.168.123.229     48\n",
       "192.168.123.234     31\n",
       "192.168.123.248     23\n",
       "192.168.123.25      22\n",
       "192.168.123.236     19\n",
       "0:0:0:0:0:0:0:1     18\n",
       "192.168.123.242     14\n",
       "192.168.123.249     14\n",
       "192.168.123.241     14\n",
       "192.168.123.216     13\n",
       "192.168.123.23      13\n",
       "192.168.123.227     13\n",
       "192.168.123.244      6\n",
       "192.168.123.243      6\n",
       "192.168.123.235      5\n",
       "192.168.123.230      5\n",
       "192.168.123.232      4\n",
       "Name: ip, dtype: int64"
      ]
     },
     "execution_count": 18,
     "metadata": {},
     "output_type": "execute_result"
    }
   ],
   "source": [
    "log['ip'].value_counts()"
   ]
  },
  {
   "cell_type": "markdown",
   "metadata": {},
   "source": [
    "#### 3. 페이지별 뷰수(ex a.htm:x회 )"
   ]
  },
  {
   "cell_type": "markdown",
   "metadata": {},
   "source": [
    "#### 강사추가"
   ]
  },
  {
   "cell_type": "code",
   "execution_count": 25,
   "metadata": {
    "collapsed": true
   },
   "outputs": [
    {
     "data": {
      "text/plain": [
       "/favicon.ico                                 366\n",
       "/h1.html                                     233\n",
       "/h3.html                                     152\n",
       "/h2.html                                     128\n",
       "/h4.html                                     102\n",
       "/bg                                           56\n",
       "/                                             22\n",
       "/asf                                          14\n",
       "/tomcat.css                                   14\n",
       "/tomcat.png                                   14\n",
       "/host                                          5\n",
       "/docs/images/fonts/OpenSans600.woff            2\n",
       "/docs/images/fonts/OpenSans400.woff            2\n",
       "/docs/images/fonts/OpenSans700.woff            2\n",
       "/docs/images/fonts/fonts.css                   2\n",
       "/docs/                                         2\n",
       "/docs/images/tomcat.png                        2\n",
       "/docs/images/asf                               2\n",
       "/docs/images/fonts/OpenSans400italic.woff      2\n",
       "/docs/images/docs                              2\n",
       "/h14.html                                      1\n",
       "/h2html                                        1\n",
       "/docs/security                                 1\n",
       "Name: 1, dtype: int64"
      ]
     },
     "execution_count": 25,
     "metadata": {},
     "output_type": "execute_result"
    }
   ],
   "source": [
    "view = log['log'].str.extract( '(GET|POST) ([\\w.-/]+)' )[1]\n",
    "view.value_counts()"
   ]
  },
  {
   "cell_type": "markdown",
   "metadata": {},
   "source": [
    "#### ========================="
   ]
  },
  {
   "cell_type": "code",
   "execution_count": 88,
   "metadata": {},
   "outputs": [
    {
     "data": {
      "text/plain": [
       "'0:0:0:0:0:0:0:1 - - [01/Apr/2016:12:37:26 +0900] \"GET / HTTP/1.1\" 200 11452'"
      ]
     },
     "execution_count": 88,
     "metadata": {},
     "output_type": "execute_result"
    }
   ],
   "source": [
    "log['log'][0] # 이런 애들은 페이지가 없으니 예외 처리"
   ]
  },
  {
   "cell_type": "code",
   "execution_count": 89,
   "metadata": {},
   "outputs": [
    {
     "data": {
      "text/plain": [
       "'192.168.123.240 - - [01/Apr/2016:12:40:03 +0900] \"GET /h3.html HTTP/1.1\" 304 -'"
      ]
     },
     "execution_count": 89,
     "metadata": {},
     "output_type": "execute_result"
    }
   ],
   "source": [
    "log['log'][400] # h3.html이 출력되도록"
   ]
  },
  {
   "cell_type": "code",
   "execution_count": 90,
   "metadata": {},
   "outputs": [],
   "source": [
    "def get_page(log):\n",
    "    try:\n",
    "        match = re.search('(GET |POST )/([\\w.-]+)',log).group(2) # 파일명에 -도 있으므로\n",
    "        return match\n",
    "    except Exception as err:\n",
    "        return \"Not Found\""
   ]
  },
  {
   "cell_type": "code",
   "execution_count": 91,
   "metadata": {},
   "outputs": [],
   "source": [
    "log['page'] = log['log'].apply(lambda x: get_page(x))"
   ]
  },
  {
   "cell_type": "code",
   "execution_count": 92,
   "metadata": {},
   "outputs": [
    {
     "data": {
      "text/plain": [
       "favicon.ico      366\n",
       "h1.html          233\n",
       "h3.html          152\n",
       "h2.html          128\n",
       "h4.html          102\n",
       "Not Found         22\n",
       "docs              19\n",
       "bg-nav.png        14\n",
       "asf-logo.png      14\n",
       "tomcat.png        14\n",
       "bg-upper.png      14\n",
       "bg-button.png     14\n",
       "bg-middle.png     14\n",
       "tomcat.css        14\n",
       "host-manager       5\n",
       "h2html             1\n",
       "h14.html           1\n",
       "Name: page, dtype: int64"
      ]
     },
     "execution_count": 92,
     "metadata": {},
     "output_type": "execute_result"
    }
   ],
   "source": [
    "log['page'].value_counts()"
   ]
  },
  {
   "cell_type": "code",
   "execution_count": 95,
   "metadata": {},
   "outputs": [
    {
     "name": "stdout",
     "output_type": "stream",
     "text": [
      "favicon.ico :  366 회\n",
      "h1.html :  233 회\n",
      "h3.html :  152 회\n",
      "h2.html :  128 회\n",
      "h4.html :  102 회\n",
      "Not Found :  22 회\n",
      "docs :  19 회\n",
      "bg-nav.png :  14 회\n",
      "asf-logo.png :  14 회\n",
      "tomcat.png :  14 회\n",
      "bg-upper.png :  14 회\n",
      "bg-button.png :  14 회\n",
      "bg-middle.png :  14 회\n",
      "tomcat.css :  14 회\n",
      "host-manager :  5 회\n",
      "h2html :  1 회\n",
      "h14.html :  1 회\n"
     ]
    }
   ],
   "source": [
    "for i,j in zip(log['page'].value_counts().index, log['page'].value_counts().values):\n",
    "    print(i, \": \", j, \"회\")"
   ]
  },
  {
   "cell_type": "markdown",
   "metadata": {},
   "source": [
    "#### 4. 전체전송바이트 사이즈"
   ]
  },
  {
   "cell_type": "markdown",
   "metadata": {},
   "source": [
    "#### 강사추가"
   ]
  },
  {
   "cell_type": "code",
   "execution_count": 34,
   "metadata": {},
   "outputs": [
    {
     "data": {
      "text/plain": [
       "9062116"
      ]
     },
     "execution_count": 34,
     "metadata": {},
     "output_type": "execute_result"
    }
   ],
   "source": [
    "bsize = log['log'].str.extract( '([\\d-]+$)' )[0]\n",
    "bsize = bsize.replace('-',0).astype( int )\n",
    "bsize.sum()"
   ]
  },
  {
   "cell_type": "markdown",
   "metadata": {},
   "source": [
    "### =================="
   ]
  },
  {
   "cell_type": "code",
   "execution_count": 70,
   "metadata": {},
   "outputs": [
    {
     "data": {
      "text/plain": [
       "'0:0:0:0:0:0:0:1 - - [01/Apr/2016:12:37:26 +0900] \"GET / HTTP/1.1\" 200 11452'"
      ]
     },
     "execution_count": 70,
     "metadata": {},
     "output_type": "execute_result"
    }
   ],
   "source": [
    "log['log'][0]"
   ]
  },
  {
   "cell_type": "code",
   "execution_count": 71,
   "metadata": {},
   "outputs": [
    {
     "data": {
      "text/plain": [
       "'192.168.123.240 - - [01/Apr/2016:12:40:03 +0900] \"GET /h3.html HTTP/1.1\" 304 -'"
      ]
     },
     "execution_count": 71,
     "metadata": {},
     "output_type": "execute_result"
    }
   ],
   "source": [
    "log['log'][400]"
   ]
  },
  {
   "cell_type": "code",
   "execution_count": 81,
   "metadata": {},
   "outputs": [],
   "source": [
    "def get_byte(log):\n",
    "    match = re.search('\" [\\d]{3} ([\\d-]+)', log).group(1) # \" 200 or 304 ~~~\n",
    "    if match == '-':\n",
    "        return 0\n",
    "    return int(match)"
   ]
  },
  {
   "cell_type": "code",
   "execution_count": 82,
   "metadata": {},
   "outputs": [],
   "source": [
    "log['byte'] = log['log'].apply(lambda x: get_byte(x))"
   ]
  },
  {
   "cell_type": "code",
   "execution_count": 84,
   "metadata": {},
   "outputs": [
    {
     "data": {
      "text/plain": [
       "9062116"
      ]
     },
     "execution_count": 84,
     "metadata": {},
     "output_type": "execute_result"
    }
   ],
   "source": [
    "log['byte'].sum()"
   ]
  },
  {
   "cell_type": "markdown",
   "metadata": {},
   "source": [
    "#### 5. 가장많이 방문한 ip 와 방문수를 구하시요"
   ]
  },
  {
   "cell_type": "code",
   "execution_count": 30,
   "metadata": {},
   "outputs": [
    {
     "data": {
      "text/plain": [
       "192.168.123.231    326\n",
       "Name: ip, dtype: int64"
      ]
     },
     "execution_count": 30,
     "metadata": {},
     "output_type": "execute_result"
    }
   ],
   "source": [
    "log['ip'].value_counts().head(1)"
   ]
  },
  {
   "cell_type": "markdown",
   "metadata": {},
   "source": [
    "#### 6. 가장 많이 방문한 ip 와 방문수 top 5 를 구하시요."
   ]
  },
  {
   "cell_type": "code",
   "execution_count": 31,
   "metadata": {},
   "outputs": [
    {
     "data": {
      "text/plain": [
       "192.168.123.231    326\n",
       "192.168.123.239    187\n",
       "192.168.123.228    144\n",
       "192.168.123.240     98\n",
       "192.168.123.247     54\n",
       "Name: ip, dtype: int64"
      ]
     },
     "execution_count": 31,
     "metadata": {},
     "output_type": "execute_result"
    }
   ],
   "source": [
    "log['ip'].value_counts().head(5)"
   ]
  },
  {
   "cell_type": "markdown",
   "metadata": {},
   "source": [
    "#### 7. 페이지별뷰수 와  ip별방문수 를 바차트로 그리시요"
   ]
  },
  {
   "cell_type": "markdown",
   "metadata": {},
   "source": [
    "#### 7-1. 페이지별 뷰수"
   ]
  },
  {
   "cell_type": "code",
   "execution_count": 63,
   "metadata": {},
   "outputs": [
    {
     "data": {
      "image/png": "[encoded data removed]",
      "text/plain": [
       "<Figure size 432x288 with 1 Axes>"
      ]
     },
     "metadata": {
      "needs_background": "dark"
     },
     "output_type": "display_data"
    }
   ],
   "source": [
    "plt.bar(log['page'].value_counts().index, log['page'].value_counts().values)\n",
    "plt.xticks(rotation=45)\n",
    "plt.show()"
   ]
  },
  {
   "cell_type": "markdown",
   "metadata": {},
   "source": [
    "#### 7-2. ip별 방문 수"
   ]
  },
  {
   "cell_type": "code",
   "execution_count": 65,
   "metadata": {},
   "outputs": [
    {
     "data": {
      "image/png": "[encoded data removed]",
      "text/plain": [
       "<Figure size 432x288 with 1 Axes>"
      ]
     },
     "metadata": {
      "needs_background": "dark"
     },
     "output_type": "display_data"
    }
   ],
   "source": [
    "plt.bar(log['ip'].value_counts().index, log['ip'].value_counts().values)\n",
    "plt.xticks(rotation=45)\n",
    "plt.show()"
   ]
  },
  {
   "cell_type": "markdown",
   "metadata": {},
   "source": [
    "#### 8. 페이지별 방문수에 대한 워드 클라우드를 그리시요."
   ]
  },
  {
   "cell_type": "code",
   "execution_count": 68,
   "metadata": {
    "collapsed": true
   },
   "outputs": [
    {
     "data": {
      "text/plain": [
       "{'favicon.ico': 366,\n",
       " 'h1.html': 233,\n",
       " 'h3.html': 152,\n",
       " 'h2.html': 128,\n",
       " 'h4.html': 102,\n",
       " 'Not Found': 22,\n",
       " 'docs': 19,\n",
       " 'bg-nav.png': 14,\n",
       " 'asf-logo.png': 14,\n",
       " 'tomcat.png': 14,\n",
       " 'bg-upper.png': 14,\n",
       " 'bg-button.png': 14,\n",
       " 'bg-middle.png': 14,\n",
       " 'tomcat.css': 14,\n",
       " 'host-manager': 5,\n",
       " 'h2html': 1,\n",
       " 'h14.html': 1}"
      ]
     },
     "execution_count": 68,
     "metadata": {},
     "output_type": "execute_result"
    }
   ],
   "source": [
    "dict(log['page'].value_counts())"
   ]
  },
  {
   "cell_type": "code",
   "execution_count": 69,
   "metadata": {},
   "outputs": [
    {
     "data": {
      "image/png": "[encoded data removed]",
      "text/plain": [
       "<Figure size 720x576 with 1 Axes>"
      ]
     },
     "metadata": {
      "needs_background": "dark"
     },
     "output_type": "display_data"
    }
   ],
   "source": [
    "font_path = 'c:\\Windows\\Fonts\\malgun.ttf'\n",
    "wc = WordCloud( width=1000 , height=600,\n",
    "               background_color='white',font_path=font_path)\n",
    "gen = wc.generate_from_frequencies( dict(log['page'].value_counts()) )\n",
    "plt.figure( figsize=(10,8))\n",
    "plt.imshow( gen )\n",
    "plt.axis('off')\n",
    "plt.show()"
   ]
  }
 ],
 "metadata": {
  "interpreter": {
   "hash": "7f27d31b4983c7dedf81012c91f76fee1bae2bb4d15694b65ad2a67f56972b20"
  },
  "kernelspec": {
   "display_name": "Python 3",
   "language": "python",
   "name": "python3"
  },
  "language_info": {
   "codemirror_mode": {
    "name": "ipython",
    "version": 3
   },
   "file_extension": ".py",
   "mimetype": "text/x-python",
   "name": "python",
   "nbconvert_exporter": "python",
   "pygments_lexer": "ipython3",
   "version": "3.8.8"
  }
 },
 "nbformat": 4,
 "nbformat_minor": 2
}
