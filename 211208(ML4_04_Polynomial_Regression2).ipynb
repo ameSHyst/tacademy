{
 "cells": [
  {
   "cell_type": "code",
   "execution_count": 1,
   "metadata": {},
   "outputs": [],
   "source": [
    "# 주피터 노트북 환경설정\n",
    "import warnings\n",
    "warnings.filterwarnings('ignore')\n",
    "warnings.simplefilter('ignore')\n",
    "\n",
    "from IPython.display import set_matplotlib_formats\n",
    "set_matplotlib_formats(\"retina\")\n",
    "\n",
    "from IPython.core.display import display, HTML\n",
    "# display(HTML(\"<style>.container { font-weight: bold !important; font-family:'Malgun Gothic' !important;}</style>\"))\n",
    "# display(HTML(\"<style>.container { font-weight: bold !important;}</style>\"))\n",
    "# display(HTML(\"<style>.container { width: 98% !important; }</style>\"))"
   ]
  },
  {
   "cell_type": "code",
   "execution_count": 2,
   "metadata": {},
   "outputs": [],
   "source": [
    "import numpy as np\n",
    "import pandas as pd\n",
    "import os\n",
    "\n",
    "import matplotlib\n",
    "import matplotlib.pyplot as plt\n",
    "import seaborn as sns\n",
    "plt.style.use(\"ggplot\")\n",
    "%matplotlib inline\n",
    "\n",
    "# 관련 라이브러리 임포트 \n",
    "import matplotlib.font_manager as fm\n",
    "\n",
    "#  한글글꼴로 변경\n",
    "# plt.rcParams['font.family'] = '한글글꼴명'\n",
    "plt.rcParams['font.size'] = 11.0\n",
    "# plt.rcParams['font.family'] = 'batang'\n",
    "plt.rcParams['font.family'] = 'Malgun Gothic'\n",
    "\n",
    "# 그래프에서 마이너스 폰트 깨지는 문제에 대한 대처\n",
    "matplotlib.rcParams['axes.unicode_minus'] = False\n",
    "\n",
    "# 그래프 기본 크기 설정 \n",
    "# plt.rcParams['figure.figsize'] = [10, 6]"
   ]
  },
  {
   "cell_type": "markdown",
   "metadata": {},
   "source": [
    "# 특성 공학\n",
    "\n",
    "- 특성공학(Feature Engineering) 이란?\n",
    "    - 기존의 특성을 사용해 새로운 특성을 뽑아내는 작업 \n",
    "    - 농어의 길이, 농어의 높이 => 농어의 길이 * 농어의 높이 "
   ]
  },
  {
   "cell_type": "markdown",
   "metadata": {
    "colab_type": "text",
    "id": "fZwhQU2l8tI6"
   },
   "source": [
    "## 데이터 준비"
   ]
  },
  {
   "cell_type": "code",
   "execution_count": 3,
   "metadata": {
    "colab": {
     "base_uri": "https://localhost:8080/",
     "height": 985
    },
    "colab_type": "code",
    "executionInfo": {
     "elapsed": 1820,
     "status": "ok",
     "timestamp": 1588153467492,
     "user": {
      "displayName": "Haesun Park",
      "photoUrl": "https://lh3.googleusercontent.com/a-/AOh14GhsWlS7sKQL-9fIkg3FmxpTMz_u-KDSs8y__P1ngQ=s64",
      "userId": "14935388527648823821"
     },
     "user_tz": -540
    },
    "id": "8qmTS1RzKRKT",
    "outputId": "dffeed22-6b8a-432d-fd08-2a9fb1c693ec",
    "scrolled": true
   },
   "outputs": [
    {
     "data": {
      "text/html": [
       "<div>\n",
       "<style scoped>\n",
       "    .dataframe tbody tr th:only-of-type {\n",
       "        vertical-align: middle;\n",
       "    }\n",
       "\n",
       "    .dataframe tbody tr th {\n",
       "        vertical-align: top;\n",
       "    }\n",
       "\n",
       "    .dataframe thead th {\n",
       "        text-align: right;\n",
       "    }\n",
       "</style>\n",
       "<table border=\"1\" class=\"dataframe\">\n",
       "  <thead>\n",
       "    <tr style=\"text-align: right;\">\n",
       "      <th></th>\n",
       "      <th>length</th>\n",
       "      <th>height</th>\n",
       "      <th>width</th>\n",
       "    </tr>\n",
       "  </thead>\n",
       "  <tbody>\n",
       "    <tr>\n",
       "      <th>0</th>\n",
       "      <td>8.4</td>\n",
       "      <td>2.11</td>\n",
       "      <td>1.41</td>\n",
       "    </tr>\n",
       "    <tr>\n",
       "      <th>1</th>\n",
       "      <td>13.7</td>\n",
       "      <td>3.53</td>\n",
       "      <td>2.00</td>\n",
       "    </tr>\n",
       "    <tr>\n",
       "      <th>2</th>\n",
       "      <td>15.0</td>\n",
       "      <td>3.82</td>\n",
       "      <td>2.43</td>\n",
       "    </tr>\n",
       "    <tr>\n",
       "      <th>3</th>\n",
       "      <td>16.2</td>\n",
       "      <td>4.59</td>\n",
       "      <td>2.63</td>\n",
       "    </tr>\n",
       "    <tr>\n",
       "      <th>4</th>\n",
       "      <td>17.4</td>\n",
       "      <td>4.59</td>\n",
       "      <td>2.94</td>\n",
       "    </tr>\n",
       "  </tbody>\n",
       "</table>\n",
       "</div>"
      ],
      "text/plain": [
       "   length   height   width\n",
       "0     8.4     2.11    1.41\n",
       "1    13.7     3.53    2.00\n",
       "2    15.0     3.82    2.43\n",
       "3    16.2     4.59    2.63\n",
       "4    17.4     4.59    2.94"
      ]
     },
     "execution_count": 3,
     "metadata": {},
     "output_type": "execute_result"
    }
   ],
   "source": [
    "#length, height, width\n",
    "df = pd.read_csv('https://bit.ly/perch_csv')\n",
    "df.head()"
   ]
  },
  {
   "cell_type": "code",
   "execution_count": 4,
   "metadata": {},
   "outputs": [
    {
     "name": "stdout",
     "output_type": "stream",
     "text": [
      "[[ 8.4   2.11  1.41]\n",
      " [13.7   3.53  2.  ]\n",
      " [15.    3.82  2.43]\n",
      " [16.2   4.59  2.63]\n",
      " [17.4   4.59  2.94]]\n"
     ]
    }
   ],
   "source": [
    "#데이터프레임 -> 2차원 넘파이 배열\n",
    "perch_full = df.to_numpy()\n",
    "print(perch_full[:5])"
   ]
  },
  {
   "cell_type": "code",
   "execution_count": 5,
   "metadata": {
    "colab": {},
    "colab_type": "code",
    "id": "PsRC7rvE9SbL"
   },
   "outputs": [],
   "source": [
    "#농어의 무게 y\n",
    "perch_weight = np.array(\n",
    "    [5.9, 32.0, 40.0, 51.5, 70.0, 100.0, 78.0, 80.0, 85.0, 85.0, \n",
    "     110.0, 115.0, 125.0, 130.0, 120.0, 120.0, 130.0, 135.0, 110.0, \n",
    "     130.0, 150.0, 145.0, 150.0, 170.0, 225.0, 145.0, 188.0, 180.0, \n",
    "     197.0, 218.0, 300.0, 260.0, 265.0, 250.0, 250.0, 300.0, 320.0, \n",
    "     514.0, 556.0, 840.0, 685.0, 700.0, 700.0, 690.0, 900.0, 650.0, \n",
    "     820.0, 850.0, 900.0, 1015.0, 820.0, 1100.0, 1000.0, 1100.0, \n",
    "     1000.0, 1000.0]\n",
    "     )"
   ]
  },
  {
   "cell_type": "code",
   "execution_count": 6,
   "metadata": {},
   "outputs": [
    {
     "data": {
      "text/html": [
       "<div>\n",
       "<style scoped>\n",
       "    .dataframe tbody tr th:only-of-type {\n",
       "        vertical-align: middle;\n",
       "    }\n",
       "\n",
       "    .dataframe tbody tr th {\n",
       "        vertical-align: top;\n",
       "    }\n",
       "\n",
       "    .dataframe thead th {\n",
       "        text-align: right;\n",
       "    }\n",
       "</style>\n",
       "<table border=\"1\" class=\"dataframe\">\n",
       "  <thead>\n",
       "    <tr style=\"text-align: right;\">\n",
       "      <th></th>\n",
       "      <th>length</th>\n",
       "      <th>height</th>\n",
       "      <th>width</th>\n",
       "      <th>weight</th>\n",
       "    </tr>\n",
       "  </thead>\n",
       "  <tbody>\n",
       "    <tr>\n",
       "      <th>0</th>\n",
       "      <td>8.4</td>\n",
       "      <td>2.11</td>\n",
       "      <td>1.41</td>\n",
       "      <td>5.9</td>\n",
       "    </tr>\n",
       "    <tr>\n",
       "      <th>1</th>\n",
       "      <td>13.7</td>\n",
       "      <td>3.53</td>\n",
       "      <td>2.00</td>\n",
       "      <td>32.0</td>\n",
       "    </tr>\n",
       "    <tr>\n",
       "      <th>2</th>\n",
       "      <td>15.0</td>\n",
       "      <td>3.82</td>\n",
       "      <td>2.43</td>\n",
       "      <td>40.0</td>\n",
       "    </tr>\n",
       "    <tr>\n",
       "      <th>3</th>\n",
       "      <td>16.2</td>\n",
       "      <td>4.59</td>\n",
       "      <td>2.63</td>\n",
       "      <td>51.5</td>\n",
       "    </tr>\n",
       "    <tr>\n",
       "      <th>4</th>\n",
       "      <td>17.4</td>\n",
       "      <td>4.59</td>\n",
       "      <td>2.94</td>\n",
       "      <td>70.0</td>\n",
       "    </tr>\n",
       "  </tbody>\n",
       "</table>\n",
       "</div>"
      ],
      "text/plain": [
       "   length   height   width  weight\n",
       "0     8.4     2.11    1.41     5.9\n",
       "1    13.7     3.53    2.00    32.0\n",
       "2    15.0     3.82    2.43    40.0\n",
       "3    16.2     4.59    2.63    51.5\n",
       "4    17.4     4.59    2.94    70.0"
      ]
     },
     "execution_count": 6,
     "metadata": {},
     "output_type": "execute_result"
    }
   ],
   "source": [
    "#기존 데이터프레임에 y weight 컬럼 추가\n",
    "df['weight'] = perch_weight\n",
    "df.head()"
   ]
  },
  {
   "cell_type": "code",
   "execution_count": 7,
   "metadata": {
    "colab": {},
    "colab_type": "code",
    "id": "cRKkoWoZ9J0m"
   },
   "outputs": [],
   "source": [
    "#학습, 테스트 데이터 분리\n",
    "from sklearn.model_selection import train_test_split\n",
    "\n",
    "X_train, X_test, y_train, y_test = train_test_split(perch_full, perch_weight, random_state=42)"
   ]
  },
  {
   "cell_type": "markdown",
   "metadata": {},
   "source": [
    "# 선형회귀 적용"
   ]
  },
  {
   "cell_type": "code",
   "execution_count": 8,
   "metadata": {},
   "outputs": [
    {
     "name": "stdout",
     "output_type": "stream",
     "text": [
      "0.9559326821885706\n",
      "MSE : 12080.653 , RMSE : 109.912\n",
      "r2_score : 0.880\n"
     ]
    }
   ],
   "source": [
    "from sklearn.linear_model import LinearRegression\n",
    "from sklearn.metrics import mean_squared_error, r2_score, mean_absolute_error\n",
    "\n",
    "\n",
    "#모델 생성 및 학습 \n",
    "model_lr = LinearRegression()\n",
    "model_lr.fit(X_train ,y_train )\n",
    "\n",
    "mse = mean_squared_error(y_test, model_lr.predict(X_test))\n",
    "rmse = np.sqrt(mse) \n",
    "\n",
    "print(model_lr.score(X_train, y_train))\n",
    "print('MSE : {0:.3f} , RMSE : {1:.3F}'.format(mse , rmse))\n",
    "print('r2_score : {0:.3f}'.format(r2_score(y_test, model_lr.predict(X_test))))"
   ]
  },
  {
   "cell_type": "code",
   "execution_count": 9,
   "metadata": {},
   "outputs": [
    {
     "name": "stdout",
     "output_type": "stream",
     "text": [
      "절편 값: -599.1708082981099\n",
      "회귀 계수값 기울기: [ 9.07538153 69.46401443 38.00385678]\n"
     ]
    }
   ],
   "source": [
    "print('절편 값:', model_lr.intercept_)\n",
    "print('회귀 계수값 기울기:', model_lr.coef_)"
   ]
  },
  {
   "cell_type": "code",
   "execution_count": 10,
   "metadata": {},
   "outputs": [
    {
     "data": {
      "text/plain": [
       "Index(['length', ' height', ' width', 'weight'], dtype='object')"
      ]
     },
     "execution_count": 10,
     "metadata": {},
     "output_type": "execute_result"
    }
   ],
   "source": [
    "df.columns"
   ]
  },
  {
   "cell_type": "code",
   "execution_count": 11,
   "metadata": {},
   "outputs": [
    {
     "name": "stdout",
     "output_type": "stream",
     "text": [
      "0\n",
      "1\n",
      "2\n"
     ]
    },
    {
     "data": {
      "image/png": "[encoded data removed]",
      "text/plain": [
       "<Figure size 1152x360 with 3 Axes>"
      ]
     },
     "metadata": {
      "needs_background": "light"
     },
     "output_type": "display_data"
    }
   ],
   "source": [
    "# 1개의 행과 3개의 열을 가진 subplots를 이용. axs는 1x3개의 ax를 가짐.\n",
    "fig, axs = plt.subplots(figsize=(16,5) , ncols=3 , nrows=1)\n",
    "lm_features = list(df.columns)\n",
    "\n",
    "# sns.regplot(x='length' , y='weight', data=df , ax=axs[0])\n",
    "# sns.regplot(x=' height' , y='weight', data=df , ax=axs[1])\n",
    "# sns.regplot(x=' width' , y='weight', data=df , ax=axs[2])\n",
    "\n",
    "for i , feature in enumerate(lm_features[:3]):\n",
    "    print(i)\n",
    "    sns.regplot(x=feature , y='weight', data=df , ax=axs[i])"
   ]
  },
  {
   "cell_type": "markdown",
   "metadata": {},
   "source": [
    "# PolynomialFeatures 활용 "
   ]
  },
  {
   "cell_type": "code",
   "execution_count": 12,
   "metadata": {
    "colab": {},
    "colab_type": "code",
    "id": "EclugdXmSs-L"
   },
   "outputs": [],
   "source": [
    "from sklearn.preprocessing import PolynomialFeatures"
   ]
  },
  {
   "cell_type": "code",
   "execution_count": 13,
   "metadata": {
    "colab": {
     "base_uri": "https://localhost:8080/",
     "height": 35
    },
    "colab_type": "code",
    "executionInfo": {
     "elapsed": 1802,
     "status": "ok",
     "timestamp": 1588153467494,
     "user": {
      "displayName": "Haesun Park",
      "photoUrl": "https://lh3.googleusercontent.com/a-/AOh14GhsWlS7sKQL-9fIkg3FmxpTMz_u-KDSs8y__P1ngQ=s64",
      "userId": "14935388527648823821"
     },
     "user_tz": -540
    },
    "id": "V5is7cZhKbPU",
    "outputId": "6ffebe89-962b-4383-ce2e-9d4899a00182"
   },
   "outputs": [
    {
     "name": "stdout",
     "output_type": "stream",
     "text": [
      "[[1. 2. 3. 4. 6. 9.]]\n"
     ]
    }
   ],
   "source": [
    "poly = PolynomialFeatures()\n",
    "poly.fit([[2, 3]])\n",
    "print(poly.transform([[2, 3]]))"
   ]
  },
  {
   "cell_type": "code",
   "execution_count": 14,
   "metadata": {
    "colab": {
     "base_uri": "https://localhost:8080/",
     "height": 35
    },
    "colab_type": "code",
    "executionInfo": {
     "elapsed": 1795,
     "status": "ok",
     "timestamp": 1588153467494,
     "user": {
      "displayName": "Haesun Park",
      "photoUrl": "https://lh3.googleusercontent.com/a-/AOh14GhsWlS7sKQL-9fIkg3FmxpTMz_u-KDSs8y__P1ngQ=s64",
      "userId": "14935388527648823821"
     },
     "user_tz": -540
    },
    "id": "bKXkK0oJc4nG",
    "outputId": "7d3e6104-2811-4082-e035-8e20b98f401a"
   },
   "outputs": [
    {
     "name": "stdout",
     "output_type": "stream",
     "text": [
      "[[2. 3. 4. 6. 9.]]\n"
     ]
    }
   ],
   "source": [
    "#include_bias = False -> 첫번째로 생성되는 절편 제외\n",
    "poly = PolynomialFeatures(include_bias=False)\n",
    "poly.fit([[2, 3]])\n",
    "print(poly.transform([[2, 3]]))"
   ]
  },
  {
   "cell_type": "code",
   "execution_count": 15,
   "metadata": {
    "colab": {},
    "colab_type": "code",
    "id": "__kE6eJdNZfm"
   },
   "outputs": [],
   "source": [
    "#학습용, 테스트 데이터 분리\n",
    "X_train, X_test, y_train, y_test = train_test_split(perch_full, perch_weight, random_state=42)\n",
    "\n",
    "#객체 생성\n",
    "#degree 기본값 2\n",
    "poly = PolynomialFeatures(include_bias=False)\n",
    "\n",
    "#학습용 데이터 X에 PolynomialFeatures 적용\n",
    "poly.fit(X_train)\n",
    "\n",
    "#별도 변수로 저장\n",
    "X_train_poly = poly.transform(X_train)"
   ]
  },
  {
   "cell_type": "code",
   "execution_count": 16,
   "metadata": {
    "colab": {
     "base_uri": "https://localhost:8080/",
     "height": 35
    },
    "colab_type": "code",
    "executionInfo": {
     "elapsed": 1786,
     "status": "ok",
     "timestamp": 1588153467495,
     "user": {
      "displayName": "Haesun Park",
      "photoUrl": "https://lh3.googleusercontent.com/a-/AOh14GhsWlS7sKQL-9fIkg3FmxpTMz_u-KDSs8y__P1ngQ=s64",
      "userId": "14935388527648823821"
     },
     "user_tz": -540
    },
    "id": "2a_lmkKle4kF",
    "outputId": "694fc8ad-799c-4922-e51d-863b3b70c401"
   },
   "outputs": [
    {
     "name": "stdout",
     "output_type": "stream",
     "text": [
      "(42, 3) (42, 9)\n"
     ]
    }
   ],
   "source": [
    "print(X_train.shape, X_train_poly.shape)"
   ]
  },
  {
   "cell_type": "code",
   "execution_count": 17,
   "metadata": {
    "colab": {
     "base_uri": "https://localhost:8080/",
     "height": 35
    },
    "colab_type": "code",
    "executionInfo": {
     "elapsed": 1780,
     "status": "ok",
     "timestamp": 1588153467495,
     "user": {
      "displayName": "Haesun Park",
      "photoUrl": "https://lh3.googleusercontent.com/a-/AOh14GhsWlS7sKQL-9fIkg3FmxpTMz_u-KDSs8y__P1ngQ=s64",
      "userId": "14935388527648823821"
     },
     "user_tz": -540
    },
    "id": "X6GUwfXTfKbl",
    "outputId": "2294f841-1a44-4cd8-c443-f0e8e93d63fa"
   },
   "outputs": [
    {
     "data": {
      "text/plain": [
       "['x0', 'x1', 'x2', 'x0^2', 'x0 x1', 'x0 x2', 'x1^2', 'x1 x2', 'x2^2']"
      ]
     },
     "execution_count": 17,
     "metadata": {},
     "output_type": "execute_result"
    }
   ],
   "source": [
    "poly.get_feature_names()"
   ]
  },
  {
   "cell_type": "code",
   "execution_count": 18,
   "metadata": {
    "colab": {},
    "colab_type": "code",
    "id": "DJMPxe2mgbOo"
   },
   "outputs": [],
   "source": [
    "#테스트용 데이터 X에 PolynomialFeatures 적용\n",
    "X_test_poly = poly.transform(X_test)"
   ]
  },
  {
   "cell_type": "code",
   "execution_count": 19,
   "metadata": {},
   "outputs": [
    {
     "data": {
      "text/plain": [
       "(14, 9)"
      ]
     },
     "execution_count": 19,
     "metadata": {},
     "output_type": "execute_result"
    }
   ],
   "source": [
    "X_test_poly.shape"
   ]
  },
  {
   "cell_type": "code",
   "execution_count": 20,
   "metadata": {
    "colab": {
     "base_uri": "https://localhost:8080/",
     "height": 35
    },
    "colab_type": "code",
    "executionInfo": {
     "elapsed": 1771,
     "status": "ok",
     "timestamp": 1588153467496,
     "user": {
      "displayName": "Haesun Park",
      "photoUrl": "https://lh3.googleusercontent.com/a-/AOh14GhsWlS7sKQL-9fIkg3FmxpTMz_u-KDSs8y__P1ngQ=s64",
      "userId": "14935388527648823821"
     },
     "user_tz": -540
    },
    "id": "E9ygy-8WOvIP",
    "outputId": "39cea28d-d4c2-4ac5-ef42-57ed31a72f45"
   },
   "outputs": [
    {
     "name": "stdout",
     "output_type": "stream",
     "text": [
      "0.9903183436982125\n",
      "0.9714559911594155\n"
     ]
    }
   ],
   "source": [
    "#선형 모델 생성 후 학습\n",
    "model_lr = LinearRegression()\n",
    "model_lr.fit(X_train_poly, y_train)\n",
    "\n",
    "print(model_lr.score(X_train_poly, y_train))\n",
    "print(model_lr.score(X_test_poly, y_test))"
   ]
  },
  {
   "cell_type": "code",
   "execution_count": 21,
   "metadata": {
    "colab": {},
    "colab_type": "code",
    "id": "2fDt5mrReMwU"
   },
   "outputs": [],
   "source": [
    "# degree=5\n",
    "poly = PolynomialFeatures(degree=5, include_bias=False)\n",
    "poly.fit(X_train)\n",
    "X_train_poly2 = poly.transform(X_train)\n",
    "X_test_poly2 = poly.transform(X_test)"
   ]
  },
  {
   "cell_type": "code",
   "execution_count": 22,
   "metadata": {},
   "outputs": [
    {
     "name": "stdout",
     "output_type": "stream",
     "text": [
      "['x0', 'x1', 'x2', 'x0^2', 'x0 x1', 'x0 x2', 'x1^2', 'x1 x2', 'x2^2', 'x0^3', 'x0^2 x1', 'x0^2 x2', 'x0 x1^2', 'x0 x1 x2', 'x0 x2^2', 'x1^3', 'x1^2 x2', 'x1 x2^2', 'x2^3', 'x0^4', 'x0^3 x1', 'x0^3 x2', 'x0^2 x1^2', 'x0^2 x1 x2', 'x0^2 x2^2', 'x0 x1^3', 'x0 x1^2 x2', 'x0 x1 x2^2', 'x0 x2^3', 'x1^4', 'x1^3 x2', 'x1^2 x2^2', 'x1 x2^3', 'x2^4', 'x0^5', 'x0^4 x1', 'x0^4 x2', 'x0^3 x1^2', 'x0^3 x1 x2', 'x0^3 x2^2', 'x0^2 x1^3', 'x0^2 x1^2 x2', 'x0^2 x1 x2^2', 'x0^2 x2^3', 'x0 x1^4', 'x0 x1^3 x2', 'x0 x1^2 x2^2', 'x0 x1 x2^3', 'x0 x2^4', 'x1^5', 'x1^4 x2', 'x1^3 x2^2', 'x1^2 x2^3', 'x1 x2^4', 'x2^5']\n"
     ]
    }
   ],
   "source": [
    "print(poly.get_feature_names())"
   ]
  },
  {
   "cell_type": "code",
   "execution_count": 23,
   "metadata": {},
   "outputs": [
    {
     "data": {
      "text/plain": [
       "array([[1.96000000e+01, 5.14000000e+00, 3.04000000e+00, 3.84160000e+02,\n",
       "        1.00744000e+02, 5.95840000e+01, 2.64196000e+01, 1.56256000e+01,\n",
       "        9.24160000e+00, 7.52953600e+03, 1.97458240e+03, 1.16784640e+03,\n",
       "        5.17824160e+02, 3.06261760e+02, 1.81135360e+02, 1.35796744e+02,\n",
       "        8.03155840e+01, 4.75018240e+01, 2.80944640e+01, 1.47578906e+05,\n",
       "        3.87018150e+04, 2.28897894e+04, 1.01493535e+04, 6.00273050e+03,\n",
       "        3.55025306e+03, 2.66161618e+03, 1.57418545e+03, 9.31035750e+02,\n",
       "        5.50651494e+02, 6.97995264e+02, 4.12822102e+02, 2.44159375e+02,\n",
       "        1.44405545e+02, 8.54071706e+01, 2.89254655e+06, 7.58555575e+05,\n",
       "        4.48639873e+05, 1.98927329e+05, 1.17653518e+05, 6.95849599e+04,\n",
       "        5.21676772e+04, 3.08540347e+04, 1.82483007e+04, 1.07927693e+04,\n",
       "        1.36807072e+04, 8.09131319e+03, 4.78552376e+03, 2.83034868e+03,\n",
       "        1.67398054e+03, 3.58769566e+03, 2.12190560e+03, 1.25497919e+03,\n",
       "        7.42244501e+02, 4.38992857e+02, 2.59637799e+02],\n",
       "       [2.20000000e+01, 5.88000000e+00, 3.52000000e+00, 4.84000000e+02,\n",
       "        1.29360000e+02, 7.74400000e+01, 3.45744000e+01, 2.06976000e+01,\n",
       "        1.23904000e+01, 1.06480000e+04, 2.84592000e+03, 1.70368000e+03,\n",
       "        7.60636800e+02, 4.55347200e+02, 2.72588800e+02, 2.03297472e+02,\n",
       "        1.21701888e+02, 7.28555520e+01, 4.36142080e+01, 2.34256000e+05,\n",
       "        6.26102400e+04, 3.74809600e+04, 1.67340096e+04, 1.00176384e+04,\n",
       "        5.99695360e+03, 4.47254438e+03, 2.67744154e+03, 1.60282214e+03,\n",
       "        9.59512576e+02, 1.19538914e+03, 7.15607101e+02, 4.28390646e+02,\n",
       "        2.56451543e+02, 1.53522012e+02, 5.15363200e+06, 1.37742528e+06,\n",
       "        8.24581120e+05, 3.68148211e+05, 2.20388045e+05, 1.31932979e+05,\n",
       "        9.83959764e+04, 5.89037138e+04, 3.52620872e+04, 2.11092767e+04,\n",
       "        2.62985610e+04, 1.57433562e+04, 9.42459421e+03, 5.64193395e+03,\n",
       "        3.37748427e+03, 7.02888812e+03, 4.20776976e+03, 2.51893700e+03,\n",
       "        1.50793507e+03, 9.02709432e+02, 5.40397483e+02]])"
      ]
     },
     "execution_count": 23,
     "metadata": {},
     "output_type": "execute_result"
    }
   ],
   "source": [
    "X_train_poly2[:2]"
   ]
  },
  {
   "cell_type": "code",
   "execution_count": 24,
   "metadata": {
    "colab": {
     "base_uri": "https://localhost:8080/",
     "height": 35
    },
    "colab_type": "code",
    "executionInfo": {
     "elapsed": 1754,
     "status": "ok",
     "timestamp": 1588153467496,
     "user": {
      "displayName": "Haesun Park",
      "photoUrl": "https://lh3.googleusercontent.com/a-/AOh14GhsWlS7sKQL-9fIkg3FmxpTMz_u-KDSs8y__P1ngQ=s64",
      "userId": "14935388527648823821"
     },
     "user_tz": -540
    },
    "id": "hcM8R4VHSzR8",
    "outputId": "b77758ee-881c-4b5f-e4a5-08f46c216558"
   },
   "outputs": [
    {
     "name": "stdout",
     "output_type": "stream",
     "text": [
      "(42, 55)\n"
     ]
    }
   ],
   "source": [
    "print(X_train_poly2.shape)"
   ]
  },
  {
   "cell_type": "code",
   "execution_count": 25,
   "metadata": {
    "colab": {
     "base_uri": "https://localhost:8080/",
     "height": 35
    },
    "colab_type": "code",
    "executionInfo": {
     "elapsed": 1749,
     "status": "ok",
     "timestamp": 1588153467497,
     "user": {
      "displayName": "Haesun Park",
      "photoUrl": "https://lh3.googleusercontent.com/a-/AOh14GhsWlS7sKQL-9fIkg3FmxpTMz_u-KDSs8y__P1ngQ=s64",
      "userId": "14935388527648823821"
     },
     "user_tz": -540
    },
    "id": "UffVFVTGP8xj",
    "outputId": "7a900e6c-d87a-4208-8942-84db11f6b532"
   },
   "outputs": [
    {
     "name": "stdout",
     "output_type": "stream",
     "text": [
      "0.9999999999938143\n",
      "-144.40744532797535\n"
     ]
    }
   ],
   "source": [
    "model_lr = LinearRegression()\n",
    "model_lr.fit(X_train_poly2, y_train)\n",
    "print(model_lr.score(X_train_poly2, y_train))\n",
    "print(model_lr.score(X_test_poly2, y_test))"
   ]
  },
  {
   "cell_type": "markdown",
   "metadata": {},
   "source": [
    "# 퀴즈 \n",
    "\n",
    "- 1) 보스턴 주택 가격데이타를 스케일링한 후 선형회귀 모델을 정의하고 테스트하여라(ML4_01)\n",
    "- 2) 보스턴 주택 가격데이타를  PolynomialFeatures 를 이용해서 데이타를 변형하고 \n",
    "   선형회귀 모델을 정의하고 테스트하여라 \n",
    "- 1)의 모델과 비교 \n",
    "\n",
    "===========================================================================\n",
    "\n",
    "* CRIM: 지역별 범죄 발생률  \n",
    "* ZN: 25,000평방피트를 초과하는 거주 지역의 비율\n",
    "* NDUS: 비상업 지역 넓이 비율\n",
    "* CHAS: 찰스강에 대한 더미 변수(강의 경계에 위치한 경우는 1, 아니면 0)\n",
    "* NOX: 일산화질소 농도\n",
    "* RM: 거주할 수 있는 방 개수\n",
    "* AGE: 1940년 이전에 건축된 소유 주택의 비율\n",
    "* DIS: 5개 주요 고용센터까지의 가중 거리\n",
    "* RAD: 고속도로 접근 용이도\n",
    "* TAX: 10,000달러당 재산세율\n",
    "* PTRATIO: 지역의 교사와 학생 수 비율\n",
    "* B: 지역의 흑인 거주 비율\n",
    "* LSTAT: 하위 계층의 비율\n",
    "* MEDV: 본인 소유의 주택 가격(중앙값)"
   ]
  },
  {
   "cell_type": "code",
   "execution_count": null,
   "metadata": {},
   "outputs": [],
   "source": []
  },
  {
   "cell_type": "code",
   "execution_count": 26,
   "metadata": {},
   "outputs": [
    {
     "name": "stdout",
     "output_type": "stream",
     "text": [
      "Boston 데이타셋 크기 : (506, 14)\n"
     ]
    },
    {
     "data": {
      "text/html": [
       "<div>\n",
       "<style scoped>\n",
       "    .dataframe tbody tr th:only-of-type {\n",
       "        vertical-align: middle;\n",
       "    }\n",
       "\n",
       "    .dataframe tbody tr th {\n",
       "        vertical-align: top;\n",
       "    }\n",
       "\n",
       "    .dataframe thead th {\n",
       "        text-align: right;\n",
       "    }\n",
       "</style>\n",
       "<table border=\"1\" class=\"dataframe\">\n",
       "  <thead>\n",
       "    <tr style=\"text-align: right;\">\n",
       "      <th></th>\n",
       "      <th>CRIM</th>\n",
       "      <th>ZN</th>\n",
       "      <th>INDUS</th>\n",
       "      <th>CHAS</th>\n",
       "      <th>NOX</th>\n",
       "      <th>RM</th>\n",
       "      <th>AGE</th>\n",
       "      <th>DIS</th>\n",
       "      <th>RAD</th>\n",
       "      <th>TAX</th>\n",
       "      <th>PTRATIO</th>\n",
       "      <th>B</th>\n",
       "      <th>LSTAT</th>\n",
       "      <th>PRICE</th>\n",
       "    </tr>\n",
       "  </thead>\n",
       "  <tbody>\n",
       "    <tr>\n",
       "      <th>0</th>\n",
       "      <td>0.00632</td>\n",
       "      <td>18.0</td>\n",
       "      <td>2.31</td>\n",
       "      <td>0.0</td>\n",
       "      <td>0.538</td>\n",
       "      <td>6.575</td>\n",
       "      <td>65.2</td>\n",
       "      <td>4.0900</td>\n",
       "      <td>1.0</td>\n",
       "      <td>296.0</td>\n",
       "      <td>15.3</td>\n",
       "      <td>396.90</td>\n",
       "      <td>4.98</td>\n",
       "      <td>24.0</td>\n",
       "    </tr>\n",
       "    <tr>\n",
       "      <th>1</th>\n",
       "      <td>0.02731</td>\n",
       "      <td>0.0</td>\n",
       "      <td>7.07</td>\n",
       "      <td>0.0</td>\n",
       "      <td>0.469</td>\n",
       "      <td>6.421</td>\n",
       "      <td>78.9</td>\n",
       "      <td>4.9671</td>\n",
       "      <td>2.0</td>\n",
       "      <td>242.0</td>\n",
       "      <td>17.8</td>\n",
       "      <td>396.90</td>\n",
       "      <td>9.14</td>\n",
       "      <td>21.6</td>\n",
       "    </tr>\n",
       "    <tr>\n",
       "      <th>2</th>\n",
       "      <td>0.02729</td>\n",
       "      <td>0.0</td>\n",
       "      <td>7.07</td>\n",
       "      <td>0.0</td>\n",
       "      <td>0.469</td>\n",
       "      <td>7.185</td>\n",
       "      <td>61.1</td>\n",
       "      <td>4.9671</td>\n",
       "      <td>2.0</td>\n",
       "      <td>242.0</td>\n",
       "      <td>17.8</td>\n",
       "      <td>392.83</td>\n",
       "      <td>4.03</td>\n",
       "      <td>34.7</td>\n",
       "    </tr>\n",
       "    <tr>\n",
       "      <th>3</th>\n",
       "      <td>0.03237</td>\n",
       "      <td>0.0</td>\n",
       "      <td>2.18</td>\n",
       "      <td>0.0</td>\n",
       "      <td>0.458</td>\n",
       "      <td>6.998</td>\n",
       "      <td>45.8</td>\n",
       "      <td>6.0622</td>\n",
       "      <td>3.0</td>\n",
       "      <td>222.0</td>\n",
       "      <td>18.7</td>\n",
       "      <td>394.63</td>\n",
       "      <td>2.94</td>\n",
       "      <td>33.4</td>\n",
       "    </tr>\n",
       "    <tr>\n",
       "      <th>4</th>\n",
       "      <td>0.06905</td>\n",
       "      <td>0.0</td>\n",
       "      <td>2.18</td>\n",
       "      <td>0.0</td>\n",
       "      <td>0.458</td>\n",
       "      <td>7.147</td>\n",
       "      <td>54.2</td>\n",
       "      <td>6.0622</td>\n",
       "      <td>3.0</td>\n",
       "      <td>222.0</td>\n",
       "      <td>18.7</td>\n",
       "      <td>396.90</td>\n",
       "      <td>5.33</td>\n",
       "      <td>36.2</td>\n",
       "    </tr>\n",
       "  </tbody>\n",
       "</table>\n",
       "</div>"
      ],
      "text/plain": [
       "      CRIM    ZN  INDUS  CHAS    NOX     RM   AGE     DIS  RAD    TAX  \\\n",
       "0  0.00632  18.0   2.31   0.0  0.538  6.575  65.2  4.0900  1.0  296.0   \n",
       "1  0.02731   0.0   7.07   0.0  0.469  6.421  78.9  4.9671  2.0  242.0   \n",
       "2  0.02729   0.0   7.07   0.0  0.469  7.185  61.1  4.9671  2.0  242.0   \n",
       "3  0.03237   0.0   2.18   0.0  0.458  6.998  45.8  6.0622  3.0  222.0   \n",
       "4  0.06905   0.0   2.18   0.0  0.458  7.147  54.2  6.0622  3.0  222.0   \n",
       "\n",
       "   PTRATIO       B  LSTAT  PRICE  \n",
       "0     15.3  396.90   4.98   24.0  \n",
       "1     17.8  396.90   9.14   21.6  \n",
       "2     17.8  392.83   4.03   34.7  \n",
       "3     18.7  394.63   2.94   33.4  \n",
       "4     18.7  396.90   5.33   36.2  "
      ]
     },
     "execution_count": 26,
     "metadata": {},
     "output_type": "execute_result"
    }
   ],
   "source": [
    "from sklearn.datasets import load_boston\n",
    "\n",
    "# boston 데이타셋 로드\n",
    "boston = load_boston()\n",
    "\n",
    "# boston 데이타셋 DataFrame 변환 \n",
    "boston_df = pd.DataFrame(boston.data , columns = boston.feature_names)\n",
    "\n",
    "# boston dataset의 target array는 주택 가격임. 이를 PRICE 컬럼으로 DataFrame에 추가함. \n",
    "boston_df['PRICE'] = boston.target\n",
    "print('Boston 데이타셋 크기 :',boston_df.shape)\n",
    "boston_df.head()"
   ]
  },
  {
   "cell_type": "code",
   "execution_count": 27,
   "metadata": {},
   "outputs": [],
   "source": [
    "from sklearn.model_selection import train_test_split\n",
    "from sklearn.linear_model import LinearRegression\n",
    "from sklearn.metrics import mean_squared_error , r2_score\n",
    "\n",
    "y_target = boston_df['PRICE']\n",
    "X_data = boston_df.drop(['PRICE'],axis=1, inplace=False)\n",
    "\n",
    "X_train , X_test , y_train , y_test = train_test_split(X_data , y_target ,test_size=0.3, random_state=156)"
   ]
  },
  {
   "cell_type": "code",
   "execution_count": 28,
   "metadata": {},
   "outputs": [
    {
     "name": "stdout",
     "output_type": "stream",
     "text": [
      "MSE : 17.297 , RMSE : 4.159\n",
      "r2_score : 0.757\n"
     ]
    }
   ],
   "source": [
    "# 모델 생성및 학습 \n",
    "model_lr = LinearRegression()\n",
    "model_lr.fit(X_train ,y_train )\n",
    "y_preds = model_lr.predict(X_test)\n",
    "\n",
    "mse = mean_squared_error(y_test, y_preds)\n",
    "rmse = np.sqrt(mse) \n",
    "\n",
    "print('MSE : {0:.3f} , RMSE : {1:.3F}'.format(mse , rmse))\n",
    "print('r2_score : {0:.3f}'.format(r2_score(y_test, y_preds)))"
   ]
  },
  {
   "cell_type": "code",
   "execution_count": 29,
   "metadata": {},
   "outputs": [
    {
     "name": "stdout",
     "output_type": "stream",
     "text": [
      "절편 값: 40.995595172164336\n",
      "회귀 계수값: [-1.12979614e-01  6.55124002e-02  3.44366694e-02  3.04589777e+00\n",
      " -1.97958320e+01  3.35496880e+00  5.93713290e-03 -1.74185354e+00\n",
      "  3.55884364e-01 -1.42954516e-02 -9.20180066e-01  1.03966156e-02\n",
      " -5.66182106e-01]\n"
     ]
    }
   ],
   "source": [
    "print('절편 값:', model_lr.intercept_)\n",
    "print('회귀 계수값:', model_lr.coef_)"
   ]
  },
  {
   "cell_type": "code",
   "execution_count": 30,
   "metadata": {},
   "outputs": [
    {
     "data": {
      "text/plain": [
       "array([-1.12979614e-01,  6.55124002e-02,  3.44366694e-02,  3.04589777e+00,\n",
       "       -1.97958320e+01,  3.35496880e+00,  5.93713290e-03, -1.74185354e+00,\n",
       "        3.55884364e-01, -1.42954516e-02, -9.20180066e-01,  1.03966156e-02,\n",
       "       -5.66182106e-01])"
      ]
     },
     "execution_count": 30,
     "metadata": {},
     "output_type": "execute_result"
    }
   ],
   "source": [
    "# 각피처의 기울기 \n",
    "model_lr.coef_"
   ]
  },
  {
   "cell_type": "code",
   "execution_count": 31,
   "metadata": {},
   "outputs": [
    {
     "data": {
      "text/plain": [
       "40.995595172164336"
      ]
     },
     "execution_count": 31,
     "metadata": {},
     "output_type": "execute_result"
    }
   ],
   "source": [
    "# 절편\n",
    "model_lr.intercept_"
   ]
  },
  {
   "cell_type": "code",
   "execution_count": 32,
   "metadata": {},
   "outputs": [
    {
     "data": {
      "text/plain": [
       "<AxesSubplot:xlabel='RM', ylabel='PRICE'>"
      ]
     },
     "execution_count": 32,
     "metadata": {},
     "output_type": "execute_result"
    },
    {
     "data": {
      "image/png": "[encoded data removed]",
      "text/plain": [
       "<Figure size 432x288 with 1 Axes>"
      ]
     },
     "metadata": {
      "needs_background": "light"
     },
     "output_type": "display_data"
    }
   ],
   "source": [
    "sns.regplot(x='RM' , y='PRICE', data=boston_df)"
   ]
  },
  {
   "cell_type": "markdown",
   "metadata": {},
   "source": [
    "### Polynominal Feature 활용"
   ]
  },
  {
   "cell_type": "code",
   "execution_count": 33,
   "metadata": {},
   "outputs": [],
   "source": [
    "from sklearn.preprocessing import PolynomialFeatures"
   ]
  },
  {
   "cell_type": "code",
   "execution_count": 34,
   "metadata": {},
   "outputs": [],
   "source": [
    "# 학습용과 테스트용으로 분리\n",
    "X_train , X_test , y_train , y_test = train_test_split( X_data , y_target , \\\n",
    "                                                       test_size=0.3, random_state=156)\n",
    "\n",
    "# 객체 생성 \n",
    "poly = PolynomialFeatures(include_bias=False, degree=3)\n",
    "# poly = PolynomialFeatures(include_bias=False)\n",
    "\n",
    "# 학습용데이타 X 에 PolynomialFeatures 적용 \n",
    "poly.fit(X_train)\n",
    "X_train_poly = poly.transform(X_train)\n",
    "X_test_poly = poly.transform(X_test)"
   ]
  },
  {
   "cell_type": "code",
   "execution_count": 35,
   "metadata": {},
   "outputs": [
    {
     "data": {
      "text/plain": [
       "((354, 13), (354,), (152, 13), (152,))"
      ]
     },
     "execution_count": 35,
     "metadata": {},
     "output_type": "execute_result"
    }
   ],
   "source": [
    "X_train.shape, y_train.shape, X_test.shape, y_test.shape"
   ]
  },
  {
   "cell_type": "code",
   "execution_count": 36,
   "metadata": {},
   "outputs": [
    {
     "name": "stdout",
     "output_type": "stream",
     "text": [
      "['x0', 'x1', 'x2', 'x3', 'x4', 'x5', 'x6', 'x7', 'x8', 'x9', 'x10', 'x11', 'x12', 'x0^2', 'x0 x1', 'x0 x2', 'x0 x3', 'x0 x4', 'x0 x5', 'x0 x6', 'x0 x7', 'x0 x8', 'x0 x9', 'x0 x10', 'x0 x11', 'x0 x12', 'x1^2', 'x1 x2', 'x1 x3', 'x1 x4', 'x1 x5', 'x1 x6', 'x1 x7', 'x1 x8', 'x1 x9', 'x1 x10', 'x1 x11', 'x1 x12', 'x2^2', 'x2 x3', 'x2 x4', 'x2 x5', 'x2 x6', 'x2 x7', 'x2 x8', 'x2 x9', 'x2 x10', 'x2 x11', 'x2 x12', 'x3^2', 'x3 x4', 'x3 x5', 'x3 x6', 'x3 x7', 'x3 x8', 'x3 x9', 'x3 x10', 'x3 x11', 'x3 x12', 'x4^2', 'x4 x5', 'x4 x6', 'x4 x7', 'x4 x8', 'x4 x9', 'x4 x10', 'x4 x11', 'x4 x12', 'x5^2', 'x5 x6', 'x5 x7', 'x5 x8', 'x5 x9', 'x5 x10', 'x5 x11', 'x5 x12', 'x6^2', 'x6 x7', 'x6 x8', 'x6 x9', 'x6 x10', 'x6 x11', 'x6 x12', 'x7^2', 'x7 x8', 'x7 x9', 'x7 x10', 'x7 x11', 'x7 x12', 'x8^2', 'x8 x9', 'x8 x10', 'x8 x11', 'x8 x12', 'x9^2', 'x9 x10', 'x9 x11', 'x9 x12', 'x10^2', 'x10 x11', 'x10 x12', 'x11^2', 'x11 x12', 'x12^2', 'x0^3', 'x0^2 x1', 'x0^2 x2', 'x0^2 x3', 'x0^2 x4', 'x0^2 x5', 'x0^2 x6', 'x0^2 x7', 'x0^2 x8', 'x0^2 x9', 'x0^2 x10', 'x0^2 x11', 'x0^2 x12', 'x0 x1^2', 'x0 x1 x2', 'x0 x1 x3', 'x0 x1 x4', 'x0 x1 x5', 'x0 x1 x6', 'x0 x1 x7', 'x0 x1 x8', 'x0 x1 x9', 'x0 x1 x10', 'x0 x1 x11', 'x0 x1 x12', 'x0 x2^2', 'x0 x2 x3', 'x0 x2 x4', 'x0 x2 x5', 'x0 x2 x6', 'x0 x2 x7', 'x0 x2 x8', 'x0 x2 x9', 'x0 x2 x10', 'x0 x2 x11', 'x0 x2 x12', 'x0 x3^2', 'x0 x3 x4', 'x0 x3 x5', 'x0 x3 x6', 'x0 x3 x7', 'x0 x3 x8', 'x0 x3 x9', 'x0 x3 x10', 'x0 x3 x11', 'x0 x3 x12', 'x0 x4^2', 'x0 x4 x5', 'x0 x4 x6', 'x0 x4 x7', 'x0 x4 x8', 'x0 x4 x9', 'x0 x4 x10', 'x0 x4 x11', 'x0 x4 x12', 'x0 x5^2', 'x0 x5 x6', 'x0 x5 x7', 'x0 x5 x8', 'x0 x5 x9', 'x0 x5 x10', 'x0 x5 x11', 'x0 x5 x12', 'x0 x6^2', 'x0 x6 x7', 'x0 x6 x8', 'x0 x6 x9', 'x0 x6 x10', 'x0 x6 x11', 'x0 x6 x12', 'x0 x7^2', 'x0 x7 x8', 'x0 x7 x9', 'x0 x7 x10', 'x0 x7 x11', 'x0 x7 x12', 'x0 x8^2', 'x0 x8 x9', 'x0 x8 x10', 'x0 x8 x11', 'x0 x8 x12', 'x0 x9^2', 'x0 x9 x10', 'x0 x9 x11', 'x0 x9 x12', 'x0 x10^2', 'x0 x10 x11', 'x0 x10 x12', 'x0 x11^2', 'x0 x11 x12', 'x0 x12^2', 'x1^3', 'x1^2 x2', 'x1^2 x3', 'x1^2 x4', 'x1^2 x5', 'x1^2 x6', 'x1^2 x7', 'x1^2 x8', 'x1^2 x9', 'x1^2 x10', 'x1^2 x11', 'x1^2 x12', 'x1 x2^2', 'x1 x2 x3', 'x1 x2 x4', 'x1 x2 x5', 'x1 x2 x6', 'x1 x2 x7', 'x1 x2 x8', 'x1 x2 x9', 'x1 x2 x10', 'x1 x2 x11', 'x1 x2 x12', 'x1 x3^2', 'x1 x3 x4', 'x1 x3 x5', 'x1 x3 x6', 'x1 x3 x7', 'x1 x3 x8', 'x1 x3 x9', 'x1 x3 x10', 'x1 x3 x11', 'x1 x3 x12', 'x1 x4^2', 'x1 x4 x5', 'x1 x4 x6', 'x1 x4 x7', 'x1 x4 x8', 'x1 x4 x9', 'x1 x4 x10', 'x1 x4 x11', 'x1 x4 x12', 'x1 x5^2', 'x1 x5 x6', 'x1 x5 x7', 'x1 x5 x8', 'x1 x5 x9', 'x1 x5 x10', 'x1 x5 x11', 'x1 x5 x12', 'x1 x6^2', 'x1 x6 x7', 'x1 x6 x8', 'x1 x6 x9', 'x1 x6 x10', 'x1 x6 x11', 'x1 x6 x12', 'x1 x7^2', 'x1 x7 x8', 'x1 x7 x9', 'x1 x7 x10', 'x1 x7 x11', 'x1 x7 x12', 'x1 x8^2', 'x1 x8 x9', 'x1 x8 x10', 'x1 x8 x11', 'x1 x8 x12', 'x1 x9^2', 'x1 x9 x10', 'x1 x9 x11', 'x1 x9 x12', 'x1 x10^2', 'x1 x10 x11', 'x1 x10 x12', 'x1 x11^2', 'x1 x11 x12', 'x1 x12^2', 'x2^3', 'x2^2 x3', 'x2^2 x4', 'x2^2 x5', 'x2^2 x6', 'x2^2 x7', 'x2^2 x8', 'x2^2 x9', 'x2^2 x10', 'x2^2 x11', 'x2^2 x12', 'x2 x3^2', 'x2 x3 x4', 'x2 x3 x5', 'x2 x3 x6', 'x2 x3 x7', 'x2 x3 x8', 'x2 x3 x9', 'x2 x3 x10', 'x2 x3 x11', 'x2 x3 x12', 'x2 x4^2', 'x2 x4 x5', 'x2 x4 x6', 'x2 x4 x7', 'x2 x4 x8', 'x2 x4 x9', 'x2 x4 x10', 'x2 x4 x11', 'x2 x4 x12', 'x2 x5^2', 'x2 x5 x6', 'x2 x5 x7', 'x2 x5 x8', 'x2 x5 x9', 'x2 x5 x10', 'x2 x5 x11', 'x2 x5 x12', 'x2 x6^2', 'x2 x6 x7', 'x2 x6 x8', 'x2 x6 x9', 'x2 x6 x10', 'x2 x6 x11', 'x2 x6 x12', 'x2 x7^2', 'x2 x7 x8', 'x2 x7 x9', 'x2 x7 x10', 'x2 x7 x11', 'x2 x7 x12', 'x2 x8^2', 'x2 x8 x9', 'x2 x8 x10', 'x2 x8 x11', 'x2 x8 x12', 'x2 x9^2', 'x2 x9 x10', 'x2 x9 x11', 'x2 x9 x12', 'x2 x10^2', 'x2 x10 x11', 'x2 x10 x12', 'x2 x11^2', 'x2 x11 x12', 'x2 x12^2', 'x3^3', 'x3^2 x4', 'x3^2 x5', 'x3^2 x6', 'x3^2 x7', 'x3^2 x8', 'x3^2 x9', 'x3^2 x10', 'x3^2 x11', 'x3^2 x12', 'x3 x4^2', 'x3 x4 x5', 'x3 x4 x6', 'x3 x4 x7', 'x3 x4 x8', 'x3 x4 x9', 'x3 x4 x10', 'x3 x4 x11', 'x3 x4 x12', 'x3 x5^2', 'x3 x5 x6', 'x3 x5 x7', 'x3 x5 x8', 'x3 x5 x9', 'x3 x5 x10', 'x3 x5 x11', 'x3 x5 x12', 'x3 x6^2', 'x3 x6 x7', 'x3 x6 x8', 'x3 x6 x9', 'x3 x6 x10', 'x3 x6 x11', 'x3 x6 x12', 'x3 x7^2', 'x3 x7 x8', 'x3 x7 x9', 'x3 x7 x10', 'x3 x7 x11', 'x3 x7 x12', 'x3 x8^2', 'x3 x8 x9', 'x3 x8 x10', 'x3 x8 x11', 'x3 x8 x12', 'x3 x9^2', 'x3 x9 x10', 'x3 x9 x11', 'x3 x9 x12', 'x3 x10^2', 'x3 x10 x11', 'x3 x10 x12', 'x3 x11^2', 'x3 x11 x12', 'x3 x12^2', 'x4^3', 'x4^2 x5', 'x4^2 x6', 'x4^2 x7', 'x4^2 x8', 'x4^2 x9', 'x4^2 x10', 'x4^2 x11', 'x4^2 x12', 'x4 x5^2', 'x4 x5 x6', 'x4 x5 x7', 'x4 x5 x8', 'x4 x5 x9', 'x4 x5 x10', 'x4 x5 x11', 'x4 x5 x12', 'x4 x6^2', 'x4 x6 x7', 'x4 x6 x8', 'x4 x6 x9', 'x4 x6 x10', 'x4 x6 x11', 'x4 x6 x12', 'x4 x7^2', 'x4 x7 x8', 'x4 x7 x9', 'x4 x7 x10', 'x4 x7 x11', 'x4 x7 x12', 'x4 x8^2', 'x4 x8 x9', 'x4 x8 x10', 'x4 x8 x11', 'x4 x8 x12', 'x4 x9^2', 'x4 x9 x10', 'x4 x9 x11', 'x4 x9 x12', 'x4 x10^2', 'x4 x10 x11', 'x4 x10 x12', 'x4 x11^2', 'x4 x11 x12', 'x4 x12^2', 'x5^3', 'x5^2 x6', 'x5^2 x7', 'x5^2 x8', 'x5^2 x9', 'x5^2 x10', 'x5^2 x11', 'x5^2 x12', 'x5 x6^2', 'x5 x6 x7', 'x5 x6 x8', 'x5 x6 x9', 'x5 x6 x10', 'x5 x6 x11', 'x5 x6 x12', 'x5 x7^2', 'x5 x7 x8', 'x5 x7 x9', 'x5 x7 x10', 'x5 x7 x11', 'x5 x7 x12', 'x5 x8^2', 'x5 x8 x9', 'x5 x8 x10', 'x5 x8 x11', 'x5 x8 x12', 'x5 x9^2', 'x5 x9 x10', 'x5 x9 x11', 'x5 x9 x12', 'x5 x10^2', 'x5 x10 x11', 'x5 x10 x12', 'x5 x11^2', 'x5 x11 x12', 'x5 x12^2', 'x6^3', 'x6^2 x7', 'x6^2 x8', 'x6^2 x9', 'x6^2 x10', 'x6^2 x11', 'x6^2 x12', 'x6 x7^2', 'x6 x7 x8', 'x6 x7 x9', 'x6 x7 x10', 'x6 x7 x11', 'x6 x7 x12', 'x6 x8^2', 'x6 x8 x9', 'x6 x8 x10', 'x6 x8 x11', 'x6 x8 x12', 'x6 x9^2', 'x6 x9 x10', 'x6 x9 x11', 'x6 x9 x12', 'x6 x10^2', 'x6 x10 x11', 'x6 x10 x12', 'x6 x11^2', 'x6 x11 x12', 'x6 x12^2', 'x7^3', 'x7^2 x8', 'x7^2 x9', 'x7^2 x10', 'x7^2 x11', 'x7^2 x12', 'x7 x8^2', 'x7 x8 x9', 'x7 x8 x10', 'x7 x8 x11', 'x7 x8 x12', 'x7 x9^2', 'x7 x9 x10', 'x7 x9 x11', 'x7 x9 x12', 'x7 x10^2', 'x7 x10 x11', 'x7 x10 x12', 'x7 x11^2', 'x7 x11 x12', 'x7 x12^2', 'x8^3', 'x8^2 x9', 'x8^2 x10', 'x8^2 x11', 'x8^2 x12', 'x8 x9^2', 'x8 x9 x10', 'x8 x9 x11', 'x8 x9 x12', 'x8 x10^2', 'x8 x10 x11', 'x8 x10 x12', 'x8 x11^2', 'x8 x11 x12', 'x8 x12^2', 'x9^3', 'x9^2 x10', 'x9^2 x11', 'x9^2 x12', 'x9 x10^2', 'x9 x10 x11', 'x9 x10 x12', 'x9 x11^2', 'x9 x11 x12', 'x9 x12^2', 'x10^3', 'x10^2 x11', 'x10^2 x12', 'x10 x11^2', 'x10 x11 x12', 'x10 x12^2', 'x11^3', 'x11^2 x12', 'x11 x12^2', 'x12^3']\n"
     ]
    }
   ],
   "source": [
    "print(poly.get_feature_names())"
   ]
  },
  {
   "cell_type": "code",
   "execution_count": 37,
   "metadata": {},
   "outputs": [
    {
     "name": "stdout",
     "output_type": "stream",
     "text": [
      "1.0\n",
      "-1116.5979172270693\n"
     ]
    }
   ],
   "source": [
    "# 선형 모델 생성 후 학습 \n",
    "model_lr = LinearRegression()\n",
    "model_lr.fit(X_train_poly, y_train)\n",
    "\n",
    "print(model_lr.score(X_train_poly, y_train))\n",
    "print(model_lr.score(X_test_poly, y_test))"
   ]
  },
  {
   "cell_type": "code",
   "execution_count": 38,
   "metadata": {},
   "outputs": [
    {
     "name": "stdout",
     "output_type": "stream",
     "text": [
      "MSE : 79625.593 , RMSE : 282.180\n",
      "r2_score : -1116.598\n"
     ]
    }
   ],
   "source": [
    "mse = mean_squared_error(y_test, model_lr.predict(X_test_poly))\n",
    "rmse = np.sqrt(mse) \n",
    "\n",
    "print('MSE : {0:.3f} , RMSE : {1:.3F}'.format(mse , rmse))\n",
    "print('r2_score : {0:.3f}'.format(r2_score(y_test,  model_lr.predict(X_test_poly))))"
   ]
  },
  {
   "cell_type": "markdown",
   "metadata": {},
   "source": [
    "#polynomial 적용 전\n",
    "MSE : 17.297 , RMSE : 4.159\n",
    "r2_score : 0.757"
   ]
  }
 ],
 "metadata": {
  "colab": {
   "authorship_tag": "ABX9TyPQ54A7gWcJH4lKx0thrwxw",
   "collapsed_sections": [],
   "name": "3-3 특성 공학과 규제.ipynb",
   "provenance": []
  },
  "kernelspec": {
   "display_name": "Python 3",
   "language": "python",
   "name": "python3"
  },
  "language_info": {
   "codemirror_mode": {
    "name": "ipython",
    "version": 3
   },
   "file_extension": ".py",
   "mimetype": "text/x-python",
   "name": "python",
   "nbconvert_exporter": "python",
   "pygments_lexer": "ipython3",
   "version": "3.8.8"
  }
 },
 "nbformat": 4,
 "nbformat_minor": 1
}
