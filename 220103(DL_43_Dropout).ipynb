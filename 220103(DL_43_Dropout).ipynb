{
 "cells": [
  {
   "cell_type": "markdown",
   "id": "1a631a82",
   "metadata": {},
   "source": [
    "### 학습이 진행되는 동안 신경망의 일부 유닛 제외\n",
    "    - 일반적으로 0.2 ~ 0.5 사용"
   ]
  },
  {
   "cell_type": "code",
   "execution_count": 1,
   "id": "0b27a219",
   "metadata": {},
   "outputs": [],
   "source": [
    "import tensorflow as tf\n",
    "import numpy as np\n",
    "import pandas as pd\n",
    "import matplotlib.pyplot as plt\n",
    "plt.style.use('ggplot')\n",
    "\n",
    "from tensorflow.keras.optimizers import Adam\n",
    "from tensorflow.keras import Sequential\n",
    "from tensorflow.keras.layers import Dense, Flatten, Conv2D, MaxPool2D, Dropout\n",
    "from tensorflow.keras.datasets.mnist import load_data\n",
    "from tensorflow.keras.utils import to_categorical\n",
    "from sklearn.model_selection import train_test_split\n",
    "\n",
    "import seaborn as sns\n",
    "from sklearn.metrics import confusion_matrix, f1_score\n",
    "from tensorflow.keras.datasets import cifar10"
   ]
  },
  {
   "cell_type": "markdown",
   "id": "c6a1e3dd",
   "metadata": {},
   "source": [
    "#### 데이터 로드"
   ]
  },
  {
   "cell_type": "code",
   "execution_count": 2,
   "id": "d3a45a55",
   "metadata": {},
   "outputs": [],
   "source": [
    "(x_train, y_train), (x_test, y_test) = cifar10.load_data()"
   ]
  },
  {
   "cell_type": "markdown",
   "id": "0140818a",
   "metadata": {},
   "source": [
    "#### 데이터 정규화"
   ]
  },
  {
   "cell_type": "code",
   "execution_count": 3,
   "id": "b7c590c8",
   "metadata": {},
   "outputs": [],
   "source": [
    "x_train = x_train/255\n",
    "x_test = x_test/255"
   ]
  },
  {
   "cell_type": "markdown",
   "id": "840448e3",
   "metadata": {},
   "source": [
    "#### y train 인코딩"
   ]
  },
  {
   "cell_type": "code",
   "execution_count": 4,
   "id": "abc7d192",
   "metadata": {},
   "outputs": [],
   "source": [
    "y_trainone = to_categorical(y_train)"
   ]
  },
  {
   "cell_type": "markdown",
   "id": "ceeb112c",
   "metadata": {},
   "source": [
    "#### 학습"
   ]
  },
  {
   "cell_type": "code",
   "execution_count": 6,
   "id": "4edf70ec",
   "metadata": {},
   "outputs": [
    {
     "name": "stdout",
     "output_type": "stream",
     "text": [
      "Epoch 1/10\n",
      "1250/1250 [==============================] - 55s 44ms/step - loss: 1.7129 - acc: 0.3625 - val_loss: 1.3427 - val_acc: 0.5087\n",
      "Epoch 2/10\n",
      "1250/1250 [==============================] - 54s 43ms/step - loss: 1.2667 - acc: 0.5403 - val_loss: 1.0803 - val_acc: 0.6104\n",
      "Epoch 3/10\n",
      "1250/1250 [==============================] - 52s 42ms/step - loss: 1.0836 - acc: 0.6130 - val_loss: 1.0218 - val_acc: 0.6361\n",
      "Epoch 4/10\n",
      "1250/1250 [==============================] - 53s 43ms/step - loss: 0.9670 - acc: 0.6544 - val_loss: 0.8878 - val_acc: 0.6843\n",
      "Epoch 5/10\n",
      "1250/1250 [==============================] - 53s 42ms/step - loss: 0.8843 - acc: 0.6896 - val_loss: 0.8549 - val_acc: 0.6999\n",
      "Epoch 6/10\n",
      "1250/1250 [==============================] - 53s 42ms/step - loss: 0.8102 - acc: 0.7133 - val_loss: 0.7917 - val_acc: 0.7233\n",
      "Epoch 7/10\n",
      "1250/1250 [==============================] - 53s 43ms/step - loss: 0.7527 - acc: 0.7340 - val_loss: 0.7545 - val_acc: 0.7365\n",
      "Epoch 8/10\n",
      "1250/1250 [==============================] - 54s 43ms/step - loss: 0.7150 - acc: 0.7503 - val_loss: 0.7276 - val_acc: 0.7479\n",
      "Epoch 9/10\n",
      "1250/1250 [==============================] - 54s 43ms/step - loss: 0.6736 - acc: 0.7619 - val_loss: 0.7218 - val_acc: 0.7482\n",
      "Epoch 10/10\n",
      "1250/1250 [==============================] - 54s 43ms/step - loss: 0.6499 - acc: 0.7714 - val_loss: 0.6918 - val_acc: 0.7555\n"
     ]
    }
   ],
   "source": [
    "model = Sequential()\n",
    "model.add( Conv2D( 32, kernel_size=(3,3), strides = 1, \n",
    "                  input_shape=(32,32,3), activation = 'relu', padding='same') )\n",
    "model.add( Conv2D( 32, kernel_size =(3,3), activation='relu' ) )\n",
    "model.add( MaxPool2D( pool_size=(2,2) ) )\n",
    "model.add(Dropout(0.2))\n",
    "\n",
    "model.add( Conv2D( 64, kernel_size=(3,3), strides = 1, input_shape=(32,32,3), activation = 'relu', padding='same') )\n",
    "model.add( Conv2D( 64, kernel_size =(3,3), activation='relu') )\n",
    "model.add( MaxPool2D( pool_size=(2,2) ) )\n",
    "model.add(Dropout(0.2))\n",
    "\n",
    "model.add( Conv2D( 128, kernel_size=(3,3), strides = 1, input_shape=(32,32,3), activation = 'relu', padding='same') )\n",
    "model.add( Conv2D( 128, kernel_size =(3,3), activation='relu') )\n",
    "model.add( MaxPool2D( pool_size=(2,2) ) )\n",
    "model.add(Dropout(0.2))\n",
    "\n",
    "model.add( Flatten( ) )\n",
    "\n",
    "model.add( Dense( units=64, activation = 'relu') )\n",
    "model.add( Dense( units=10, activation = 'softmax') )\n",
    "model.compile( loss='categorical_crossentropy', optimizer='adam', metrics=['acc'])\n",
    "h = model.fit( x_train, y_trainone, epochs=10, validation_split= 0.2 )"
   ]
  },
  {
   "cell_type": "code",
   "execution_count": 7,
   "id": "900ae756",
   "metadata": {},
   "outputs": [
    {
     "data": {
      "image/png": "[encoded data removed]",
      "text/plain": [
       "<Figure size 432x288 with 1 Axes>"
      ]
     },
     "metadata": {},
     "output_type": "display_data"
    }
   ],
   "source": [
    "plt.plot(h.history['loss'])\n",
    "plt.plot(h.history['val_loss'])\n",
    "plt.show()"
   ]
  },
  {
   "cell_type": "code",
   "execution_count": null,
   "id": "67f23d8a",
   "metadata": {},
   "outputs": [],
   "source": [
    "#epoch 더 필요할듯"
   ]
  }
 ],
 "metadata": {
  "kernelspec": {
   "display_name": "Python 3",
   "language": "python",
   "name": "python3"
  },
  "language_info": {
   "codemirror_mode": {
    "name": "ipython",
    "version": 3
   },
   "file_extension": ".py",
   "mimetype": "text/x-python",
   "name": "python",
   "nbconvert_exporter": "python",
   "pygments_lexer": "ipython3",
   "version": "3.8.8"
  }
 },
 "nbformat": 4,
 "nbformat_minor": 5
}
