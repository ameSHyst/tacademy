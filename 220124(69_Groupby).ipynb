{
 "cells": [
  {
   "cell_type": "code",
   "execution_count": 1,
   "id": "45e92799",
   "metadata": {},
   "outputs": [],
   "source": [
    "import pandas as pd\n",
    "from pyspark import SparkContext\n",
    "from pyspark.sql import SQLContext, Row\n",
    "\n",
    "from pyspark.sql.functions import when, udf, col, regexp_replace\n",
    "from pyspark.sql.types import DoubleType,IntegerType, StringType\n",
    "import pyspark.sql.functions as f"
   ]
  },
  {
   "cell_type": "code",
   "execution_count": 2,
   "id": "040acfe8",
   "metadata": {},
   "outputs": [],
   "source": [
    "sc = SparkContext( 'local' )\n",
    "sqlCtx = SQLContext( sc )"
   ]
  },
  {
   "cell_type": "code",
   "execution_count": 5,
   "id": "98823aee",
   "metadata": {},
   "outputs": [
    {
     "data": {
      "text/plain": [
       "DataFrame[학년: string, 과목: string, 결과: string, 중간: int, 기말: int]"
      ]
     },
     "execution_count": 5,
     "metadata": {},
     "output_type": "execute_result"
    }
   ],
   "source": [
    "df = sqlCtx.read.csv( 'data/grade.csv', header=True, inferSchema=True)\n",
    "df"
   ]
  },
  {
   "cell_type": "code",
   "execution_count": 6,
   "id": "462262fd",
   "metadata": {},
   "outputs": [
    {
     "name": "stdout",
     "output_type": "stream",
     "text": [
      "+-----+----+-----+----+----+\n",
      "| 학년|과목| 결과|중간|기말|\n",
      "+-----+----+-----+----+----+\n",
      "|1학년|국어| 좋음|  80|  90|\n",
      "|1학년|국어| 나쁨|  50|  40|\n",
      "|1학년|국어| 나쁨|  20|  50|\n",
      "|1학년|수학| 좋음|  83|  95|\n",
      "|1학년|수학| 좋음|  93|  86|\n",
      "|2학년|국어| 나쁨|  44|  65|\n",
      "|2학년|국어| 좋음|  95|  98|\n",
      "|2학년|수학| 좋음|  96|  99|\n",
      "|2학년|수학| 나쁨|  57|  69|\n",
      "+-----+----+-----+----+----+\n",
      "\n"
     ]
    }
   ],
   "source": [
    "df.show()"
   ]
  },
  {
   "cell_type": "code",
   "execution_count": 11,
   "id": "422cab40",
   "metadata": {},
   "outputs": [
    {
     "name": "stdout",
     "output_type": "stream",
     "text": [
      "root\n",
      " |-- 학년: string (nullable = true)\n",
      " |-- 과목: string (nullable = true)\n",
      " |-- 결과: string (nullable = true)\n",
      " |-- 중간: integer (nullable = true)\n",
      " |-- 기말: integer (nullable = true)\n",
      "\n"
     ]
    }
   ],
   "source": [
    "df.printSchema()"
   ]
  },
  {
   "cell_type": "code",
   "execution_count": 10,
   "id": "3c0d0022",
   "metadata": {},
   "outputs": [
    {
     "name": "stdout",
     "output_type": "stream",
     "text": [
      "+-----+---------+---------+\n",
      "| 학년|max(중간)|max(기말)|\n",
      "+-----+---------+---------+\n",
      "|2학년|       96|       99|\n",
      "|1학년|       93|       95|\n",
      "+-----+---------+---------+\n",
      "\n"
     ]
    }
   ],
   "source": [
    "# df.groupBy(df['학년'])\n",
    "df.groupBy('학년').max().show()"
   ]
  },
  {
   "cell_type": "code",
   "execution_count": 12,
   "id": "4382583a",
   "metadata": {},
   "outputs": [
    {
     "name": "stdout",
     "output_type": "stream",
     "text": [
      "+-----+---------+---------+\n",
      "| 학년|sum(중간)|sum(기말)|\n",
      "+-----+---------+---------+\n",
      "|2학년|      292|      331|\n",
      "|1학년|      326|      361|\n",
      "+-----+---------+---------+\n",
      "\n"
     ]
    }
   ],
   "source": [
    "df.groupBy('학년').sum().show()"
   ]
  },
  {
   "cell_type": "code",
   "execution_count": 13,
   "id": "01b90d3d",
   "metadata": {},
   "outputs": [
    {
     "name": "stdout",
     "output_type": "stream",
     "text": [
      "+-----+---------+---------+\n",
      "| 학년|avg(중간)|avg(기말)|\n",
      "+-----+---------+---------+\n",
      "|2학년|     73.0|    82.75|\n",
      "|1학년|     65.2|     72.2|\n",
      "+-----+---------+---------+\n",
      "\n"
     ]
    }
   ],
   "source": [
    "df.groupBy('학년').avg().show()"
   ]
  },
  {
   "cell_type": "code",
   "execution_count": 15,
   "id": "a0eab530",
   "metadata": {},
   "outputs": [
    {
     "name": "stdout",
     "output_type": "stream",
     "text": [
      "+-----+---------+\n",
      "| 학년|avg(기말)|\n",
      "+-----+---------+\n",
      "|1학년|     72.2|\n",
      "|2학년|    82.75|\n",
      "+-----+---------+\n",
      "\n"
     ]
    }
   ],
   "source": [
    "df.groupBy('학년').avg('기말').orderBy('학년').show()"
   ]
  },
  {
   "cell_type": "code",
   "execution_count": 17,
   "id": "e721f105",
   "metadata": {},
   "outputs": [
    {
     "name": "stdout",
     "output_type": "stream",
     "text": [
      "+-----+----+---------+---------+\n",
      "| 학년|과목|avg(중간)|avg(기말)|\n",
      "+-----+----+---------+---------+\n",
      "|1학년|국어|     50.0|     60.0|\n",
      "|1학년|수학|     88.0|     90.5|\n",
      "|2학년|수학|     76.5|     84.0|\n",
      "|2학년|국어|     69.5|     81.5|\n",
      "+-----+----+---------+---------+\n",
      "\n"
     ]
    }
   ],
   "source": [
    "df.groupBy('학년', '과목').avg().orderBy('학년').show()"
   ]
  },
  {
   "cell_type": "code",
   "execution_count": 18,
   "id": "07449e21",
   "metadata": {},
   "outputs": [
    {
     "name": "stdout",
     "output_type": "stream",
     "text": [
      "+-----+---------+\n",
      "| 학년|sum(기말)|\n",
      "+-----+---------+\n",
      "|2학년|      331|\n",
      "|1학년|      361|\n",
      "+-----+---------+\n",
      "\n"
     ]
    }
   ],
   "source": [
    "df.groupBy('학년').agg({'기말' : 'sum'}).show()"
   ]
  },
  {
   "cell_type": "code",
   "execution_count": 20,
   "id": "4205a8ac",
   "metadata": {},
   "outputs": [
    {
     "name": "stdout",
     "output_type": "stream",
     "text": [
      "+-----+--------+--------+\n",
      "| 학년|중간총합|중간평균|\n",
      "+-----+--------+--------+\n",
      "|2학년|     292|    73.0|\n",
      "|1학년|     326|    65.2|\n",
      "+-----+--------+--------+\n",
      "\n"
     ]
    }
   ],
   "source": [
    "df.groupBy('학년').agg(f.sum('중간').alias('중간총합'), f.avg('중간').alias('중간평균') ).show()"
   ]
  },
  {
   "cell_type": "code",
   "execution_count": 21,
   "id": "60ffde9b",
   "metadata": {},
   "outputs": [
    {
     "name": "stdout",
     "output_type": "stream",
     "text": [
      "+-----+----+-----+----+----+\n",
      "| 학년|과목| 결과|중간|기말|\n",
      "+-----+----+-----+----+----+\n",
      "|1학년|국어| 좋음|  80|  90|\n",
      "|1학년|국어| 나쁨|  50|  40|\n",
      "|1학년|국어| 나쁨|  20|  50|\n",
      "|1학년|수학| 좋음|  83|  95|\n",
      "|1학년|수학| 좋음|  93|  86|\n",
      "|2학년|국어| 나쁨|  44|  65|\n",
      "|2학년|국어| 좋음|  95|  98|\n",
      "|2학년|수학| 좋음|  96|  99|\n",
      "|2학년|수학| 나쁨|  57|  69|\n",
      "+-----+----+-----+----+----+\n",
      "\n"
     ]
    }
   ],
   "source": [
    "df.fillna( {'중간':10} ).show() #na가 없어서"
   ]
  },
  {
   "cell_type": "code",
   "execution_count": 22,
   "id": "25194494",
   "metadata": {},
   "outputs": [],
   "source": [
    "sc.stop()"
   ]
  }
 ],
 "metadata": {
  "kernelspec": {
   "display_name": "Python 3",
   "language": "python",
   "name": "python3"
  },
  "language_info": {
   "codemirror_mode": {
    "name": "ipython",
    "version": 3
   },
   "file_extension": ".py",
   "mimetype": "text/x-python",
   "name": "python",
   "nbconvert_exporter": "python",
   "pygments_lexer": "ipython3",
   "version": "3.8.8"
  }
 },
 "nbformat": 4,
 "nbformat_minor": 5
}
