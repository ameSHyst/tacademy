{
 "cells": [
  {
   "cell_type": "markdown",
   "id": "d759c105",
   "metadata": {},
   "source": [
    "### auto correlation function(자기 상관 그래프)\n",
    "\n",
    "$$ \n",
    "\\begin{align}\n",
    "autocovariance function:  C_{h} = \\dfrac{1}{N}\\sum_{t=1}^{N-h} (Y_{t} - \\bar{Y} )(Y_{t+h} - \\bar{Y} ) \n",
    "\\tag{1}\n",
    "\\end{align}\n",
    "$$\n",
    "\n",
    "$$ \n",
    "\\begin{align}\n",
    "variance function:  C_{0} = \\dfrac{1}{N}\\sum_{t=1}^{N} (Y_{t} - \\bar{Y} )^2 \n",
    "\\tag{2}\n",
    "\\end{align}\n",
    "$$\n",
    "\n",
    "$$ \n",
    "\\begin{align}\n",
    "autocorrelation coefficient:  R_{h} = \\dfrac{Autocovariance}{Variance} = \\dfrac{ C_{h} }{C_{0} }\n",
    "\\tag{3}\n",
    "\\end{align}\n",
    "$$\n",
    "\n",
    "AR,MA를 지정한뒤 ACF와 PACF의 그래프를 그려보면 ARMA모형의 적합성을 판단할 수 있다. <br>\n",
    "모델 적합성의 가장 큰 증거는 ACF가 점차 감소하는 모습을 띄는 것이다."
   ]
  },
  {
   "cell_type": "code",
   "execution_count": 32,
   "id": "7ceed0b3",
   "metadata": {},
   "outputs": [],
   "source": [
    "from statsmodels.tsa.ar_model import AR\n",
    "from statsmodels.tsa.arima_model import ARIMA\n",
    "from statsmodels.tsa.stattools import adfuller\n",
    "\n",
    "import pandas as pd\n",
    "import matplotlib.pyplot as plt\n",
    "import numpy as np\n",
    "from warnings import filterwarnings\n",
    "filterwarnings(\"ignore\")\n",
    "plt.style.use('ggplot')"
   ]
  },
  {
   "cell_type": "code",
   "execution_count": 2,
   "id": "85df9d33",
   "metadata": {
    "collapsed": true
   },
   "outputs": [
    {
     "data": {
      "text/html": [
       "<div>\n",
       "<style scoped>\n",
       "    .dataframe tbody tr th:only-of-type {\n",
       "        vertical-align: middle;\n",
       "    }\n",
       "\n",
       "    .dataframe tbody tr th {\n",
       "        vertical-align: top;\n",
       "    }\n",
       "\n",
       "    .dataframe thead th {\n",
       "        text-align: right;\n",
       "    }\n",
       "</style>\n",
       "<table border=\"1\" class=\"dataframe\">\n",
       "  <thead>\n",
       "    <tr style=\"text-align: right;\">\n",
       "      <th></th>\n",
       "      <th>Births</th>\n",
       "    </tr>\n",
       "    <tr>\n",
       "      <th>Date</th>\n",
       "      <th></th>\n",
       "    </tr>\n",
       "  </thead>\n",
       "  <tbody>\n",
       "    <tr>\n",
       "      <th>1959-01-01</th>\n",
       "      <td>35</td>\n",
       "    </tr>\n",
       "    <tr>\n",
       "      <th>1959-01-02</th>\n",
       "      <td>32</td>\n",
       "    </tr>\n",
       "    <tr>\n",
       "      <th>1959-01-03</th>\n",
       "      <td>30</td>\n",
       "    </tr>\n",
       "    <tr>\n",
       "      <th>1959-01-04</th>\n",
       "      <td>31</td>\n",
       "    </tr>\n",
       "    <tr>\n",
       "      <th>1959-01-05</th>\n",
       "      <td>44</td>\n",
       "    </tr>\n",
       "    <tr>\n",
       "      <th>...</th>\n",
       "      <td>...</td>\n",
       "    </tr>\n",
       "    <tr>\n",
       "      <th>1959-12-27</th>\n",
       "      <td>37</td>\n",
       "    </tr>\n",
       "    <tr>\n",
       "      <th>1959-12-28</th>\n",
       "      <td>52</td>\n",
       "    </tr>\n",
       "    <tr>\n",
       "      <th>1959-12-29</th>\n",
       "      <td>48</td>\n",
       "    </tr>\n",
       "    <tr>\n",
       "      <th>1959-12-30</th>\n",
       "      <td>55</td>\n",
       "    </tr>\n",
       "    <tr>\n",
       "      <th>1959-12-31</th>\n",
       "      <td>50</td>\n",
       "    </tr>\n",
       "  </tbody>\n",
       "</table>\n",
       "<p>365 rows × 1 columns</p>\n",
       "</div>"
      ],
      "text/plain": [
       "            Births\n",
       "Date              \n",
       "1959-01-01      35\n",
       "1959-01-02      32\n",
       "1959-01-03      30\n",
       "1959-01-04      31\n",
       "1959-01-05      44\n",
       "...            ...\n",
       "1959-12-27      37\n",
       "1959-12-28      52\n",
       "1959-12-29      48\n",
       "1959-12-30      55\n",
       "1959-12-31      50\n",
       "\n",
       "[365 rows x 1 columns]"
      ]
     },
     "execution_count": 2,
     "metadata": {},
     "output_type": "execute_result"
    }
   ],
   "source": [
    "birthDF = pd.read_csv('data/daily-total-female-births.txt', index_col = 'Date',\n",
    "                     parse_dates=['Date'])\n",
    "birthDF"
   ]
  },
  {
   "cell_type": "code",
   "execution_count": 5,
   "id": "611431ab",
   "metadata": {
    "collapsed": true
   },
   "outputs": [
    {
     "data": {
      "text/html": [
       "<div>\n",
       "<style scoped>\n",
       "    .dataframe tbody tr th:only-of-type {\n",
       "        vertical-align: middle;\n",
       "    }\n",
       "\n",
       "    .dataframe tbody tr th {\n",
       "        vertical-align: top;\n",
       "    }\n",
       "\n",
       "    .dataframe thead th {\n",
       "        text-align: right;\n",
       "    }\n",
       "</style>\n",
       "<table border=\"1\" class=\"dataframe\">\n",
       "  <thead>\n",
       "    <tr style=\"text-align: right;\">\n",
       "      <th></th>\n",
       "      <th>passengers</th>\n",
       "    </tr>\n",
       "    <tr>\n",
       "      <th>time</th>\n",
       "      <th></th>\n",
       "    </tr>\n",
       "  </thead>\n",
       "  <tbody>\n",
       "    <tr>\n",
       "      <th>1949-01-01</th>\n",
       "      <td>112</td>\n",
       "    </tr>\n",
       "    <tr>\n",
       "      <th>1949-02-01</th>\n",
       "      <td>118</td>\n",
       "    </tr>\n",
       "    <tr>\n",
       "      <th>1949-03-01</th>\n",
       "      <td>132</td>\n",
       "    </tr>\n",
       "    <tr>\n",
       "      <th>1949-04-01</th>\n",
       "      <td>129</td>\n",
       "    </tr>\n",
       "    <tr>\n",
       "      <th>1949-05-01</th>\n",
       "      <td>121</td>\n",
       "    </tr>\n",
       "    <tr>\n",
       "      <th>...</th>\n",
       "      <td>...</td>\n",
       "    </tr>\n",
       "    <tr>\n",
       "      <th>1960-08-01</th>\n",
       "      <td>606</td>\n",
       "    </tr>\n",
       "    <tr>\n",
       "      <th>1960-09-01</th>\n",
       "      <td>508</td>\n",
       "    </tr>\n",
       "    <tr>\n",
       "      <th>1960-10-01</th>\n",
       "      <td>461</td>\n",
       "    </tr>\n",
       "    <tr>\n",
       "      <th>1960-11-01</th>\n",
       "      <td>390</td>\n",
       "    </tr>\n",
       "    <tr>\n",
       "      <th>1960-12-01</th>\n",
       "      <td>432</td>\n",
       "    </tr>\n",
       "  </tbody>\n",
       "</table>\n",
       "<p>144 rows × 1 columns</p>\n",
       "</div>"
      ],
      "text/plain": [
       "            passengers\n",
       "time                  \n",
       "1949-01-01         112\n",
       "1949-02-01         118\n",
       "1949-03-01         132\n",
       "1949-04-01         129\n",
       "1949-05-01         121\n",
       "...                ...\n",
       "1960-08-01         606\n",
       "1960-09-01         508\n",
       "1960-10-01         461\n",
       "1960-11-01         390\n",
       "1960-12-01         432\n",
       "\n",
       "[144 rows x 1 columns]"
      ]
     },
     "execution_count": 5,
     "metadata": {},
     "output_type": "execute_result"
    }
   ],
   "source": [
    "airDF = pd.read_csv('data/international-airline-passengers.txt', index_col = 'time',\n",
    "                     parse_dates=['time'])\n",
    "airDF"
   ]
  },
  {
   "cell_type": "code",
   "execution_count": 8,
   "id": "737c369e",
   "metadata": {
    "collapsed": true
   },
   "outputs": [
    {
     "data": {
      "text/html": [
       "<div>\n",
       "<style scoped>\n",
       "    .dataframe tbody tr th:only-of-type {\n",
       "        vertical-align: middle;\n",
       "    }\n",
       "\n",
       "    .dataframe tbody tr th {\n",
       "        vertical-align: top;\n",
       "    }\n",
       "\n",
       "    .dataframe thead th {\n",
       "        text-align: right;\n",
       "    }\n",
       "</style>\n",
       "<table border=\"1\" class=\"dataframe\">\n",
       "  <thead>\n",
       "    <tr style=\"text-align: right;\">\n",
       "      <th></th>\n",
       "      <th>Temp</th>\n",
       "    </tr>\n",
       "    <tr>\n",
       "      <th>date</th>\n",
       "      <th></th>\n",
       "    </tr>\n",
       "  </thead>\n",
       "  <tbody>\n",
       "    <tr>\n",
       "      <th>1981-01-01</th>\n",
       "      <td>20.7</td>\n",
       "    </tr>\n",
       "    <tr>\n",
       "      <th>1981-01-02</th>\n",
       "      <td>17.9</td>\n",
       "    </tr>\n",
       "    <tr>\n",
       "      <th>1981-01-03</th>\n",
       "      <td>18.8</td>\n",
       "    </tr>\n",
       "    <tr>\n",
       "      <th>1981-01-04</th>\n",
       "      <td>14.6</td>\n",
       "    </tr>\n",
       "    <tr>\n",
       "      <th>1981-01-05</th>\n",
       "      <td>15.8</td>\n",
       "    </tr>\n",
       "    <tr>\n",
       "      <th>...</th>\n",
       "      <td>...</td>\n",
       "    </tr>\n",
       "    <tr>\n",
       "      <th>1990-12-27</th>\n",
       "      <td>14.0</td>\n",
       "    </tr>\n",
       "    <tr>\n",
       "      <th>1990-12-28</th>\n",
       "      <td>13.6</td>\n",
       "    </tr>\n",
       "    <tr>\n",
       "      <th>1990-12-29</th>\n",
       "      <td>13.5</td>\n",
       "    </tr>\n",
       "    <tr>\n",
       "      <th>1990-12-30</th>\n",
       "      <td>15.7</td>\n",
       "    </tr>\n",
       "    <tr>\n",
       "      <th>1990-12-31</th>\n",
       "      <td>13.0</td>\n",
       "    </tr>\n",
       "  </tbody>\n",
       "</table>\n",
       "<p>3650 rows × 1 columns</p>\n",
       "</div>"
      ],
      "text/plain": [
       "            Temp\n",
       "date            \n",
       "1981-01-01  20.7\n",
       "1981-01-02  17.9\n",
       "1981-01-03  18.8\n",
       "1981-01-04  14.6\n",
       "1981-01-05  15.8\n",
       "...          ...\n",
       "1990-12-27  14.0\n",
       "1990-12-28  13.6\n",
       "1990-12-29  13.5\n",
       "1990-12-30  15.7\n",
       "1990-12-31  13.0\n",
       "\n",
       "[3650 rows x 1 columns]"
      ]
     },
     "execution_count": 8,
     "metadata": {},
     "output_type": "execute_result"
    }
   ],
   "source": [
    "tempDF = pd.read_csv('data/daily-min-temperatures.csv', index_col = 'date',\n",
    "                     parse_dates=['date'])\n",
    "tempDF"
   ]
  },
  {
   "cell_type": "code",
   "execution_count": 10,
   "id": "bcb2c3fb",
   "metadata": {},
   "outputs": [
    {
     "data": {
      "text/plain": [
       "182"
      ]
     },
     "execution_count": 10,
     "metadata": {},
     "output_type": "execute_result"
    }
   ],
   "source": [
    "n = len(birthDF)//2\n",
    "n"
   ]
  },
  {
   "cell_type": "markdown",
   "id": "bb7aa581",
   "metadata": {},
   "source": [
    "#### birthDF : stationary"
   ]
  },
  {
   "cell_type": "code",
   "execution_count": 14,
   "id": "433e14ae",
   "metadata": {},
   "outputs": [
    {
     "name": "stdout",
     "output_type": "stream",
     "text": [
      "Births    39.763736\n",
      "dtype: float64\n",
      "Births    49.485308\n",
      "dtype: float64\n",
      "====================================\n",
      "Births    44.185792\n",
      "dtype: float64\n",
      "Births    48.976281\n",
      "dtype: float64\n"
     ]
    }
   ],
   "source": [
    "n = len(birthDF)//2\n",
    "#데이터 절반까지의 평균\n",
    "print( birthDF.iloc[:n].mean() )\n",
    "print( birthDF.iloc[:n].var() )\n",
    "print('====================================')\n",
    "#절반 이후의 평균\n",
    "print( birthDF.iloc[n:].mean() )\n",
    "print( birthDF.iloc[n:].var() )"
   ]
  },
  {
   "cell_type": "markdown",
   "id": "b4bfe5c0",
   "metadata": {},
   "source": [
    "#### airDF : non-stationary"
   ]
  },
  {
   "cell_type": "code",
   "execution_count": 15,
   "id": "a7c42271",
   "metadata": {},
   "outputs": [
    {
     "name": "stdout",
     "output_type": "stream",
     "text": [
      "passengers    182.902778\n",
      "dtype: float64\n",
      "passengers    2275.69464\n",
      "dtype: float64\n",
      "====================================\n",
      "passengers    377.694444\n",
      "dtype: float64\n",
      "passengers    7471.736307\n",
      "dtype: float64\n"
     ]
    }
   ],
   "source": [
    "n = len(airDF)//2\n",
    "#데이터 절반까지의 평균\n",
    "print( airDF.iloc[:n].mean() )\n",
    "print( airDF.iloc[:n].var() )\n",
    "print('====================================')\n",
    "#절반 이후의 평균\n",
    "print( airDF.iloc[n:].mean() )\n",
    "print( airDF.iloc[n:].var() )"
   ]
  },
  {
   "cell_type": "markdown",
   "id": "28015e99",
   "metadata": {},
   "source": [
    "#### tempDF : stationary"
   ]
  },
  {
   "cell_type": "code",
   "execution_count": 16,
   "id": "e1889810",
   "metadata": {},
   "outputs": [
    {
     "name": "stdout",
     "output_type": "stream",
     "text": [
      "Temp    11.043507\n",
      "dtype: float64\n",
      "Temp    18.170782\n",
      "dtype: float64\n",
      "====================================\n",
      "Temp    11.312\n",
      "dtype: float64\n",
      "Temp    14.961956\n",
      "dtype: float64\n"
     ]
    }
   ],
   "source": [
    "n = len(tempDF)//2\n",
    "#데이터 절반까지의 평균\n",
    "print( tempDF.iloc[:n].mean() )\n",
    "print( tempDF.iloc[:n].var() )\n",
    "print('====================================')\n",
    "#절반 이후의 평균\n",
    "print( tempDF.iloc[n:].mean() )\n",
    "print( tempDF.iloc[n:].var() )"
   ]
  },
  {
   "cell_type": "markdown",
   "id": "dcf73e44",
   "metadata": {},
   "source": [
    "기준점을 어디 두느냐에 따라 stationary/non-stationary 판별이 달라질수도"
   ]
  },
  {
   "cell_type": "code",
   "execution_count": 17,
   "id": "c1b3b2bb",
   "metadata": {},
   "outputs": [
    {
     "data": {
      "image/png": "[encoded data removed]",
      "text/plain": [
       "<Figure size 432x288 with 1 Axes>"
      ]
     },
     "metadata": {},
     "output_type": "display_data"
    }
   ],
   "source": [
    "birthDF.plot()\n",
    "plt.show()"
   ]
  },
  {
   "cell_type": "code",
   "execution_count": 18,
   "id": "14b4c1b2",
   "metadata": {},
   "outputs": [
    {
     "data": {
      "image/png": "[encoded data removed]",
      "text/plain": [
       "<Figure size 432x288 with 1 Axes>"
      ]
     },
     "metadata": {},
     "output_type": "display_data"
    }
   ],
   "source": [
    "airDF.plot()\n",
    "plt.show()"
   ]
  },
  {
   "cell_type": "code",
   "execution_count": 19,
   "id": "d2b68b0a",
   "metadata": {},
   "outputs": [
    {
     "data": {
      "image/png": "[encoded data removed]",
      "text/plain": [
       "<Figure size 432x288 with 1 Axes>"
      ]
     },
     "metadata": {},
     "output_type": "display_data"
    }
   ],
   "source": [
    "tempDF.plot()\n",
    "plt.show()"
   ]
  },
  {
   "cell_type": "code",
   "execution_count": 20,
   "id": "6fe7b34e",
   "metadata": {},
   "outputs": [
    {
     "data": {
      "text/html": [
       "<div>\n",
       "<style scoped>\n",
       "    .dataframe tbody tr th:only-of-type {\n",
       "        vertical-align: middle;\n",
       "    }\n",
       "\n",
       "    .dataframe tbody tr th {\n",
       "        vertical-align: top;\n",
       "    }\n",
       "\n",
       "    .dataframe thead th {\n",
       "        text-align: right;\n",
       "    }\n",
       "</style>\n",
       "<table border=\"1\" class=\"dataframe\">\n",
       "  <thead>\n",
       "    <tr style=\"text-align: right;\">\n",
       "      <th></th>\n",
       "      <th>Temp</th>\n",
       "      <th>days</th>\n",
       "    </tr>\n",
       "    <tr>\n",
       "      <th>date</th>\n",
       "      <th></th>\n",
       "      <th></th>\n",
       "    </tr>\n",
       "  </thead>\n",
       "  <tbody>\n",
       "    <tr>\n",
       "      <th>1981-01-01</th>\n",
       "      <td>20.7</td>\n",
       "      <td>0</td>\n",
       "    </tr>\n",
       "    <tr>\n",
       "      <th>1981-01-02</th>\n",
       "      <td>17.9</td>\n",
       "      <td>1</td>\n",
       "    </tr>\n",
       "    <tr>\n",
       "      <th>1981-01-03</th>\n",
       "      <td>18.8</td>\n",
       "      <td>2</td>\n",
       "    </tr>\n",
       "    <tr>\n",
       "      <th>1981-01-04</th>\n",
       "      <td>14.6</td>\n",
       "      <td>3</td>\n",
       "    </tr>\n",
       "    <tr>\n",
       "      <th>1981-01-05</th>\n",
       "      <td>15.8</td>\n",
       "      <td>4</td>\n",
       "    </tr>\n",
       "    <tr>\n",
       "      <th>...</th>\n",
       "      <td>...</td>\n",
       "      <td>...</td>\n",
       "    </tr>\n",
       "    <tr>\n",
       "      <th>1990-12-27</th>\n",
       "      <td>14.0</td>\n",
       "      <td>3645</td>\n",
       "    </tr>\n",
       "    <tr>\n",
       "      <th>1990-12-28</th>\n",
       "      <td>13.6</td>\n",
       "      <td>3646</td>\n",
       "    </tr>\n",
       "    <tr>\n",
       "      <th>1990-12-29</th>\n",
       "      <td>13.5</td>\n",
       "      <td>3647</td>\n",
       "    </tr>\n",
       "    <tr>\n",
       "      <th>1990-12-30</th>\n",
       "      <td>15.7</td>\n",
       "      <td>3648</td>\n",
       "    </tr>\n",
       "    <tr>\n",
       "      <th>1990-12-31</th>\n",
       "      <td>13.0</td>\n",
       "      <td>3649</td>\n",
       "    </tr>\n",
       "  </tbody>\n",
       "</table>\n",
       "<p>3650 rows × 2 columns</p>\n",
       "</div>"
      ],
      "text/plain": [
       "            Temp  days\n",
       "date                  \n",
       "1981-01-01  20.7     0\n",
       "1981-01-02  17.9     1\n",
       "1981-01-03  18.8     2\n",
       "1981-01-04  14.6     3\n",
       "1981-01-05  15.8     4\n",
       "...          ...   ...\n",
       "1990-12-27  14.0  3645\n",
       "1990-12-28  13.6  3646\n",
       "1990-12-29  13.5  3647\n",
       "1990-12-30  15.7  3648\n",
       "1990-12-31  13.0  3649\n",
       "\n",
       "[3650 rows x 2 columns]"
      ]
     },
     "execution_count": 20,
     "metadata": {},
     "output_type": "execute_result"
    }
   ],
   "source": [
    "tempDF['days'] = range(0, len(tempDF))\n",
    "tempDF"
   ]
  },
  {
   "cell_type": "code",
   "execution_count": 21,
   "id": "c86fe461",
   "metadata": {},
   "outputs": [
    {
     "data": {
      "text/plain": [
       "array([20.7, 17.9, 18.8, ..., 13.5, 15.7, 13. ])"
      ]
     },
     "execution_count": 21,
     "metadata": {},
     "output_type": "execute_result"
    }
   ],
   "source": [
    "temps = tempDF['Temp'].values\n",
    "temps"
   ]
  },
  {
   "cell_type": "code",
   "execution_count": 22,
   "id": "1a618eac",
   "metadata": {},
   "outputs": [
    {
     "data": {
      "text/plain": [
       "array([17.9, 18.8, 14.6, ..., 13.5, 15.7, 13. ])"
      ]
     },
     "execution_count": 22,
     "metadata": {},
     "output_type": "execute_result"
    }
   ],
   "source": [
    "temps[1:]"
   ]
  },
  {
   "cell_type": "code",
   "execution_count": 23,
   "id": "0681ee8c",
   "metadata": {},
   "outputs": [
    {
     "data": {
      "text/plain": [
       "array([20.7, 17.9, 18.8, ..., 13.6, 13.5, 15.7])"
      ]
     },
     "execution_count": 23,
     "metadata": {},
     "output_type": "execute_result"
    }
   ],
   "source": [
    "temps[:-1]"
   ]
  },
  {
   "cell_type": "code",
   "execution_count": 25,
   "id": "73648f6c",
   "metadata": {},
   "outputs": [
    {
     "data": {
      "text/plain": [
       "0.7748702165384455"
      ]
     },
     "execution_count": 25,
     "metadata": {},
     "output_type": "execute_result"
    }
   ],
   "source": [
    "#auto correlation\n",
    "np.corrcoef(temps[1:], temps[:-1])[0, 1] # lag 1"
   ]
  },
  {
   "cell_type": "code",
   "execution_count": 26,
   "id": "b0eb5db6",
   "metadata": {},
   "outputs": [
    {
     "data": {
      "text/plain": [
       "0.6311194620684837"
      ]
     },
     "execution_count": 26,
     "metadata": {},
     "output_type": "execute_result"
    }
   ],
   "source": [
    "np.corrcoef(temps[2:], temps[:-2])[0, 1] # lag 2"
   ]
  },
  {
   "cell_type": "code",
   "execution_count": 27,
   "id": "c8f57c16",
   "metadata": {},
   "outputs": [
    {
     "data": {
      "text/plain": [
       "0.5863748620126276"
      ]
     },
     "execution_count": 27,
     "metadata": {},
     "output_type": "execute_result"
    }
   ],
   "source": [
    "np.corrcoef(temps[3:], temps[:-3])[0, 1] # lag 3"
   ]
  },
  {
   "cell_type": "code",
   "execution_count": 28,
   "id": "23d34c27",
   "metadata": {},
   "outputs": [
    {
     "data": {
      "text/plain": [
       "[0.7748702165384455,\n",
       " 0.6311194620684837,\n",
       " 0.5863748620126277,\n",
       " 0.5788976133377622,\n",
       " 0.5785715744112058,\n",
       " 0.5765484145122558,\n",
       " 0.5759289535831575,\n",
       " 0.5695569780397493,\n",
       " 0.5634747178408283]"
      ]
     },
     "execution_count": 28,
     "metadata": {},
     "output_type": "execute_result"
    }
   ],
   "source": [
    "autocorrelation = []\n",
    "for shift in range(1, 10):\n",
    "    c = np.corrcoef(temps[:-shift], temps[shift:])[0, 1]\n",
    "    autocorrelation.append(c)\n",
    "autocorrelation"
   ]
  },
  {
   "cell_type": "code",
   "execution_count": 31,
   "id": "a2179966",
   "metadata": {},
   "outputs": [
    {
     "data": {
      "image/png": "[encoded data removed]",
      "text/plain": [
       "<Figure size 432x288 with 1 Axes>"
      ]
     },
     "metadata": {},
     "output_type": "display_data"
    }
   ],
   "source": [
    "plt.scatter(range(0, len(autocorrelation)), autocorrelation)\n",
    "plt.show()"
   ]
  },
  {
   "cell_type": "code",
   "execution_count": 33,
   "id": "716306ed",
   "metadata": {},
   "outputs": [],
   "source": [
    "from statsmodels.graphics.tsaplots import plot_acf, acf"
   ]
  },
  {
   "cell_type": "code",
   "execution_count": 34,
   "id": "3079b085",
   "metadata": {},
   "outputs": [
    {
     "data": {
      "text/plain": [
       "array([1.        , 0.774268  , 0.6302866 , 0.58529312, 0.57774567,\n",
       "       0.57728013, 0.57510412, 0.57437039, 0.56782622, 0.56120131,\n",
       "       0.54668689, 0.53793111, 0.54012564, 0.54247126, 0.53688723,\n",
       "       0.53429917, 0.53043593, 0.52911166, 0.53037444, 0.52280732,\n",
       "       0.52303677, 0.52224579, 0.51426684, 0.49837745, 0.49302665,\n",
       "       0.49946731, 0.50428521, 0.50068173, 0.49157081, 0.48146406,\n",
       "       0.47421245, 0.47568054, 0.46311862, 0.46215585, 0.46630567,\n",
       "       0.45459092, 0.43378232, 0.4203594 , 0.42707505, 0.42196486,\n",
       "       0.4079607 ])"
      ]
     },
     "execution_count": 34,
     "metadata": {},
     "output_type": "execute_result"
    }
   ],
   "source": [
    "result = acf(tempDF['Temp'])\n",
    "result"
   ]
  },
  {
   "cell_type": "code",
   "execution_count": 35,
   "id": "1deb0660",
   "metadata": {},
   "outputs": [
    {
     "data": {
      "image/png": "[encoded data removed]",
      "text/plain": [
       "<Figure size 432x288 with 1 Axes>"
      ]
     },
     "metadata": {},
     "output_type": "display_data"
    }
   ],
   "source": [
    "plt.scatter(range(0, len(result)), result)\n",
    "plt.show()"
   ]
  },
  {
   "cell_type": "code",
   "execution_count": 37,
   "id": "62af4721",
   "metadata": {},
   "outputs": [
    {
     "data": {
      "image/png": "[encoded data removed]",
      "text/plain": [
       "<Figure size 432x288 with 1 Axes>"
      ]
     },
     "metadata": {},
     "output_type": "display_data"
    }
   ],
   "source": [
    "plot_acf(tempDF['Temp'])\n",
    "plt.show()"
   ]
  },
  {
   "cell_type": "markdown",
   "id": "c0a83035",
   "metadata": {},
   "source": [
    "자기상관계수가 점점 줄어들수록 non-stationary"
   ]
  },
  {
   "cell_type": "markdown",
   "id": "92c3ab17",
   "metadata": {},
   "source": [
    "#### adfuller 판단지표\n",
    "    검증 조건 ( p-value : 5% 이내면 귀무가설 기각, 대체가설 선택됨 )\n",
    "    귀무가설(H0): non-stationary\n",
    "    대체가설 (H1): stationary"
   ]
  },
  {
   "cell_type": "code",
   "execution_count": 38,
   "id": "4dd04e4d",
   "metadata": {},
   "outputs": [],
   "source": [
    "from statsmodels.tsa.stattools import adfuller"
   ]
  },
  {
   "cell_type": "code",
   "execution_count": 41,
   "id": "13b528f5",
   "metadata": {},
   "outputs": [
    {
     "name": "stdout",
     "output_type": "stream",
     "text": [
      "-4.808291253559764\n",
      "5.2434129901498554e-05\n"
     ]
    }
   ],
   "source": [
    "result = adfuller(birthDF['Births'])\n",
    "print(result[0]) #adf (적을수록 귀무가설을 기각시킬 확률이 높음)\n",
    "print(result[1]) #p-value"
   ]
  },
  {
   "cell_type": "code",
   "execution_count": 42,
   "id": "7a469048",
   "metadata": {},
   "outputs": [
    {
     "name": "stdout",
     "output_type": "stream",
     "text": [
      "0.815368879206063\n",
      "0.9918802434376413\n"
     ]
    }
   ],
   "source": [
    "result = adfuller(airDF['passengers'])\n",
    "print(result[0]) #adf (적을수록 귀무가설을 기각시킬 확률이 높음)\n",
    "print(result[1]) #p-value"
   ]
  },
  {
   "cell_type": "code",
   "execution_count": 43,
   "id": "16024aa9",
   "metadata": {},
   "outputs": [
    {
     "name": "stdout",
     "output_type": "stream",
     "text": [
      "-4.444804924611691\n",
      "0.00024708263003610866\n"
     ]
    }
   ],
   "source": [
    "result = adfuller(tempDF['Temp'])\n",
    "print(result[0]) #adf (적을수록 귀무가설을 기각시킬 확률이 높음)\n",
    "print(result[1]) #p-value"
   ]
  },
  {
   "cell_type": "markdown",
   "id": "66509e09",
   "metadata": {},
   "source": [
    "#### ARIMA"
   ]
  },
  {
   "cell_type": "code",
   "execution_count": 44,
   "id": "7ae9b767",
   "metadata": {},
   "outputs": [
    {
     "data": {
      "text/html": [
       "<table class=\"simpletable\">\n",
       "<caption>ARIMA Model Results</caption>\n",
       "<tr>\n",
       "  <th>Dep. Variable:</th>   <td>D.passengers</td>   <th>  No. Observations:  </th>    <td>143</td>  \n",
       "</tr>\n",
       "<tr>\n",
       "  <th>Model:</th>          <td>ARIMA(2, 1, 2)</td>  <th>  Log Likelihood     </th> <td>-666.022</td>\n",
       "</tr>\n",
       "<tr>\n",
       "  <th>Method:</th>             <td>css-mle</td>     <th>  S.D. of innovations</th>  <td>24.711</td> \n",
       "</tr>\n",
       "<tr>\n",
       "  <th>Date:</th>          <td>Tue, 11 Jan 2022</td> <th>  AIC                </th> <td>1344.043</td>\n",
       "</tr>\n",
       "<tr>\n",
       "  <th>Time:</th>              <td>14:42:35</td>     <th>  BIC                </th> <td>1361.820</td>\n",
       "</tr>\n",
       "<tr>\n",
       "  <th>Sample:</th>           <td>02-01-1949</td>    <th>  HQIC               </th> <td>1351.267</td>\n",
       "</tr>\n",
       "<tr>\n",
       "  <th></th>                 <td>- 12-01-1960</td>   <th>                     </th>     <td> </td>   \n",
       "</tr>\n",
       "</table>\n",
       "<table class=\"simpletable\">\n",
       "<tr>\n",
       "           <td></td>             <th>coef</th>     <th>std err</th>      <th>z</th>      <th>P>|z|</th>  <th>[0.025</th>    <th>0.975]</th>  \n",
       "</tr>\n",
       "<tr>\n",
       "  <th>const</th>              <td>    2.5311</td> <td>    0.708</td> <td>    3.574</td> <td> 0.000</td> <td>    1.143</td> <td>    3.919</td>\n",
       "</tr>\n",
       "<tr>\n",
       "  <th>ar.L1.D.passengers</th> <td>    1.6477</td> <td>    0.033</td> <td>   49.933</td> <td> 0.000</td> <td>    1.583</td> <td>    1.712</td>\n",
       "</tr>\n",
       "<tr>\n",
       "  <th>ar.L2.D.passengers</th> <td>   -0.9094</td> <td>    0.033</td> <td>  -27.880</td> <td> 0.000</td> <td>   -0.973</td> <td>   -0.845</td>\n",
       "</tr>\n",
       "<tr>\n",
       "  <th>ma.L1.D.passengers</th> <td>   -1.9100</td> <td>    0.065</td> <td>  -29.529</td> <td> 0.000</td> <td>   -2.037</td> <td>   -1.783</td>\n",
       "</tr>\n",
       "<tr>\n",
       "  <th>ma.L2.D.passengers</th> <td>    0.9999</td> <td>    0.068</td> <td>   14.810</td> <td> 0.000</td> <td>    0.868</td> <td>    1.132</td>\n",
       "</tr>\n",
       "</table>\n",
       "<table class=\"simpletable\">\n",
       "<caption>Roots</caption>\n",
       "<tr>\n",
       "    <td></td>   <th>            Real</th>  <th>         Imaginary</th> <th>         Modulus</th>  <th>        Frequency</th>\n",
       "</tr>\n",
       "<tr>\n",
       "  <th>AR.1</th> <td>           0.9059</td> <td>          -0.5281j</td> <td>           1.0486</td> <td>          -0.0840</td>\n",
       "</tr>\n",
       "<tr>\n",
       "  <th>AR.2</th> <td>           0.9059</td> <td>          +0.5281j</td> <td>           1.0486</td> <td>           0.0840</td>\n",
       "</tr>\n",
       "<tr>\n",
       "  <th>MA.1</th> <td>           0.9551</td> <td>          -0.2964j</td> <td>           1.0001</td> <td>          -0.0479</td>\n",
       "</tr>\n",
       "<tr>\n",
       "  <th>MA.2</th> <td>           0.9551</td> <td>          +0.2964j</td> <td>           1.0001</td> <td>           0.0479</td>\n",
       "</tr>\n",
       "</table>"
      ],
      "text/plain": [
       "<class 'statsmodels.iolib.summary.Summary'>\n",
       "\"\"\"\n",
       "                             ARIMA Model Results                              \n",
       "==============================================================================\n",
       "Dep. Variable:           D.passengers   No. Observations:                  143\n",
       "Model:                 ARIMA(2, 1, 2)   Log Likelihood                -666.022\n",
       "Method:                       css-mle   S.D. of innovations             24.711\n",
       "Date:                Tue, 11 Jan 2022   AIC                           1344.043\n",
       "Time:                        14:42:35   BIC                           1361.820\n",
       "Sample:                    02-01-1949   HQIC                          1351.267\n",
       "                         - 12-01-1960                                         \n",
       "======================================================================================\n",
       "                         coef    std err          z      P>|z|      [0.025      0.975]\n",
       "--------------------------------------------------------------------------------------\n",
       "const                  2.5311      0.708      3.574      0.000       1.143       3.919\n",
       "ar.L1.D.passengers     1.6477      0.033     49.933      0.000       1.583       1.712\n",
       "ar.L2.D.passengers    -0.9094      0.033    -27.880      0.000      -0.973      -0.845\n",
       "ma.L1.D.passengers    -1.9100      0.065    -29.529      0.000      -2.037      -1.783\n",
       "ma.L2.D.passengers     0.9999      0.068     14.810      0.000       0.868       1.132\n",
       "                                    Roots                                    \n",
       "=============================================================================\n",
       "                  Real          Imaginary           Modulus         Frequency\n",
       "-----------------------------------------------------------------------------\n",
       "AR.1            0.9059           -0.5281j            1.0486           -0.0840\n",
       "AR.2            0.9059           +0.5281j            1.0486            0.0840\n",
       "MA.1            0.9551           -0.2964j            1.0001           -0.0479\n",
       "MA.2            0.9551           +0.2964j            1.0001            0.0479\n",
       "-----------------------------------------------------------------------------\n",
       "\"\"\""
      ]
     },
     "execution_count": 44,
     "metadata": {},
     "output_type": "execute_result"
    }
   ],
   "source": [
    "order = (2, 1, 2)\n",
    "model = ARIMA(airDF, order)\n",
    "rfit = model.fit()\n",
    "rfit.summary()"
   ]
  },
  {
   "cell_type": "code",
   "execution_count": 47,
   "id": "adc8afb9",
   "metadata": {},
   "outputs": [
    {
     "data": {
      "text/plain": [
       "1344.043386072241"
      ]
     },
     "execution_count": 47,
     "metadata": {},
     "output_type": "execute_result"
    }
   ],
   "source": [
    "rfit.aic"
   ]
  },
  {
   "cell_type": "markdown",
   "id": "5573db97",
   "metadata": {},
   "source": [
    "ARIMA(2,1,2)\n",
    "\\begin{equation}\n",
    "y_t = 1.6477 y'_{t-1} -0.9094 y'_{t-2} + e_t -1.9101e_{t-1} +0.9999e_{t-2}\n",
    "\\end{equation}\n",
    "</h3>\n",
    "를 따르는 ARIMA모델임을 확인할 수 있다."
   ]
  },
  {
   "cell_type": "code",
   "execution_count": 45,
   "id": "cd327d37",
   "metadata": {},
   "outputs": [],
   "source": [
    "def arima_aic_check(data, order, sort = 'AIC'):\n",
    "    order_list = []\n",
    "    aic_list = []\n",
    "    bic_lsit = []\n",
    "    for p in range(order[0]):\n",
    "        for d in range(order[1]):\n",
    "            for q in range(order[2]):\n",
    "                model = ARIMA(data, order=(p,d,q))\n",
    "                try:\n",
    "                    model_fit = model.fit()\n",
    "                    c_order = f'p:{p} d:{d} q:{q}'\n",
    "                    aic = model_fit.aic\n",
    "                    bic = model_fit.bic\n",
    "                    order_list.append(c_order)\n",
    "                    aic_list.append(aic)\n",
    "                    bic_list.append(bic)\n",
    "                except:\n",
    "                    pass\n",
    "    result_df = pd.DataFrame(list(zip(order_list, aic_list)),columns=['order','AIC'])\n",
    "    result_df.sort_values(sort, inplace=True)\n",
    "    return result_df"
   ]
  },
  {
   "cell_type": "code",
   "execution_count": 46,
   "id": "f9aa0d6c",
   "metadata": {
    "collapsed": true
   },
   "outputs": [
    {
     "data": {
      "text/html": [
       "<div>\n",
       "<style scoped>\n",
       "    .dataframe tbody tr th:only-of-type {\n",
       "        vertical-align: middle;\n",
       "    }\n",
       "\n",
       "    .dataframe tbody tr th {\n",
       "        vertical-align: top;\n",
       "    }\n",
       "\n",
       "    .dataframe thead th {\n",
       "        text-align: right;\n",
       "    }\n",
       "</style>\n",
       "<table border=\"1\" class=\"dataframe\">\n",
       "  <thead>\n",
       "    <tr style=\"text-align: right;\">\n",
       "      <th></th>\n",
       "      <th>order</th>\n",
       "      <th>AIC</th>\n",
       "    </tr>\n",
       "  </thead>\n",
       "  <tbody>\n",
       "    <tr>\n",
       "      <th>21</th>\n",
       "      <td>p:2 d:1 q:2</td>\n",
       "      <td>1344.043386</td>\n",
       "    </tr>\n",
       "    <tr>\n",
       "      <th>20</th>\n",
       "      <td>p:2 d:1 q:1</td>\n",
       "      <td>1361.695809</td>\n",
       "    </tr>\n",
       "    <tr>\n",
       "      <th>13</th>\n",
       "      <td>p:1 d:1 q:2</td>\n",
       "      <td>1371.815374</td>\n",
       "    </tr>\n",
       "    <tr>\n",
       "      <th>15</th>\n",
       "      <td>p:1 d:2 q:2</td>\n",
       "      <td>1393.908442</td>\n",
       "    </tr>\n",
       "    <tr>\n",
       "      <th>23</th>\n",
       "      <td>p:2 d:2 q:2</td>\n",
       "      <td>1394.656208</td>\n",
       "    </tr>\n",
       "    <tr>\n",
       "      <th>7</th>\n",
       "      <td>p:0 d:2 q:2</td>\n",
       "      <td>1396.371696</td>\n",
       "    </tr>\n",
       "    <tr>\n",
       "      <th>19</th>\n",
       "      <td>p:2 d:1 q:0</td>\n",
       "      <td>1397.975152</td>\n",
       "    </tr>\n",
       "    <tr>\n",
       "      <th>4</th>\n",
       "      <td>p:0 d:1 q:2</td>\n",
       "      <td>1398.385532</td>\n",
       "    </tr>\n",
       "    <tr>\n",
       "      <th>3</th>\n",
       "      <td>p:0 d:1 q:1</td>\n",
       "      <td>1398.827110</td>\n",
       "    </tr>\n",
       "    <tr>\n",
       "      <th>12</th>\n",
       "      <td>p:1 d:1 q:1</td>\n",
       "      <td>1402.145400</td>\n",
       "    </tr>\n",
       "    <tr>\n",
       "      <th>11</th>\n",
       "      <td>p:1 d:1 q:0</td>\n",
       "      <td>1403.472861</td>\n",
       "    </tr>\n",
       "    <tr>\n",
       "      <th>17</th>\n",
       "      <td>p:2 d:0 q:1</td>\n",
       "      <td>1408.249223</td>\n",
       "    </tr>\n",
       "    <tr>\n",
       "      <th>9</th>\n",
       "      <td>p:1 d:0 q:1</td>\n",
       "      <td>1409.748270</td>\n",
       "    </tr>\n",
       "    <tr>\n",
       "      <th>10</th>\n",
       "      <td>p:1 d:0 q:2</td>\n",
       "      <td>1411.050254</td>\n",
       "    </tr>\n",
       "    <tr>\n",
       "      <th>6</th>\n",
       "      <td>p:0 d:2 q:1</td>\n",
       "      <td>1413.362709</td>\n",
       "    </tr>\n",
       "    <tr>\n",
       "      <th>16</th>\n",
       "      <td>p:2 d:0 q:0</td>\n",
       "      <td>1413.638784</td>\n",
       "    </tr>\n",
       "    <tr>\n",
       "      <th>2</th>\n",
       "      <td>p:0 d:1 q:0</td>\n",
       "      <td>1415.277587</td>\n",
       "    </tr>\n",
       "    <tr>\n",
       "      <th>8</th>\n",
       "      <td>p:1 d:0 q:0</td>\n",
       "      <td>1428.179379</td>\n",
       "    </tr>\n",
       "    <tr>\n",
       "      <th>22</th>\n",
       "      <td>p:2 d:2 q:0</td>\n",
       "      <td>1442.077736</td>\n",
       "    </tr>\n",
       "    <tr>\n",
       "      <th>14</th>\n",
       "      <td>p:1 d:2 q:0</td>\n",
       "      <td>1449.026002</td>\n",
       "    </tr>\n",
       "    <tr>\n",
       "      <th>5</th>\n",
       "      <td>p:0 d:2 q:0</td>\n",
       "      <td>1452.590161</td>\n",
       "    </tr>\n",
       "    <tr>\n",
       "      <th>18</th>\n",
       "      <td>p:2 d:0 q:2</td>\n",
       "      <td>1472.748297</td>\n",
       "    </tr>\n",
       "    <tr>\n",
       "      <th>1</th>\n",
       "      <td>p:0 d:0 q:1</td>\n",
       "      <td>1618.862527</td>\n",
       "    </tr>\n",
       "    <tr>\n",
       "      <th>0</th>\n",
       "      <td>p:0 d:0 q:0</td>\n",
       "      <td>1790.367580</td>\n",
       "    </tr>\n",
       "  </tbody>\n",
       "</table>\n",
       "</div>"
      ],
      "text/plain": [
       "          order          AIC\n",
       "21  p:2 d:1 q:2  1344.043386\n",
       "20  p:2 d:1 q:1  1361.695809\n",
       "13  p:1 d:1 q:2  1371.815374\n",
       "15  p:1 d:2 q:2  1393.908442\n",
       "23  p:2 d:2 q:2  1394.656208\n",
       "7   p:0 d:2 q:2  1396.371696\n",
       "19  p:2 d:1 q:0  1397.975152\n",
       "4   p:0 d:1 q:2  1398.385532\n",
       "3   p:0 d:1 q:1  1398.827110\n",
       "12  p:1 d:1 q:1  1402.145400\n",
       "11  p:1 d:1 q:0  1403.472861\n",
       "17  p:2 d:0 q:1  1408.249223\n",
       "9   p:1 d:0 q:1  1409.748270\n",
       "10  p:1 d:0 q:2  1411.050254\n",
       "6   p:0 d:2 q:1  1413.362709\n",
       "16  p:2 d:0 q:0  1413.638784\n",
       "2   p:0 d:1 q:0  1415.277587\n",
       "8   p:1 d:0 q:0  1428.179379\n",
       "22  p:2 d:2 q:0  1442.077736\n",
       "14  p:1 d:2 q:0  1449.026002\n",
       "5   p:0 d:2 q:0  1452.590161\n",
       "18  p:2 d:0 q:2  1472.748297\n",
       "1   p:0 d:0 q:1  1618.862527\n",
       "0   p:0 d:0 q:0  1790.367580"
      ]
     },
     "execution_count": 46,
     "metadata": {},
     "output_type": "execute_result"
    }
   ],
   "source": [
    "arima_aic_check(airDF, [3, 3, 3])"
   ]
  },
  {
   "cell_type": "code",
   "execution_count": 49,
   "id": "b154821f",
   "metadata": {},
   "outputs": [
    {
     "data": {
      "text/plain": [
       "1949-02-01    114.531095\n",
       "1949-03-01    121.350895\n",
       "1949-04-01    137.221342\n",
       "1949-05-01    129.789527\n",
       "1949-06-01    119.169414\n",
       "1949-07-01    136.762407\n",
       "1949-08-01    149.739078\n",
       "1949-09-01    147.367310\n",
       "1949-10-01    134.798629\n",
       "1949-11-01    121.076958\n",
       "Freq: MS, dtype: float64"
      ]
     },
     "execution_count": 49,
     "metadata": {},
     "output_type": "execute_result"
    }
   ],
   "source": [
    "rfit.predict(1, 10, typ='levels')"
   ]
  },
  {
   "cell_type": "code",
   "execution_count": 50,
   "id": "5a933acb",
   "metadata": {},
   "outputs": [
    {
     "data": {
      "text/plain": [
       "1950-01-01    131.476250\n",
       "1950-02-01    132.058359\n",
       "1950-03-01    143.953622\n",
       "1950-04-01    156.328661\n",
       "1950-05-01    147.710842\n",
       "1950-06-01    136.542423\n",
       "1950-07-01    155.854096\n",
       "1950-08-01    168.939889\n",
       "1950-09-01    162.271156\n",
       "1950-10-01    147.633290\n",
       "1950-11-01    126.286612\n",
       "1950-12-01    115.225257\n",
       "Freq: MS, dtype: float64"
      ]
     },
     "execution_count": 50,
     "metadata": {},
     "output_type": "execute_result"
    }
   ],
   "source": [
    "rfit.predict('1950-01-01', '1950-12-01', typ = 'levels')"
   ]
  },
  {
   "cell_type": "code",
   "execution_count": 52,
   "id": "003ea6b1",
   "metadata": {},
   "outputs": [],
   "source": [
    "preds = rfit.predict('1960-07-01', '1961-07-01', typ = 'levels')"
   ]
  },
  {
   "cell_type": "code",
   "execution_count": 54,
   "id": "5515168b",
   "metadata": {
    "collapsed": true
   },
   "outputs": [
    {
     "data": {
      "text/html": [
       "<div>\n",
       "<style scoped>\n",
       "    .dataframe tbody tr th:only-of-type {\n",
       "        vertical-align: middle;\n",
       "    }\n",
       "\n",
       "    .dataframe tbody tr th {\n",
       "        vertical-align: top;\n",
       "    }\n",
       "\n",
       "    .dataframe thead th {\n",
       "        text-align: right;\n",
       "    }\n",
       "</style>\n",
       "<table border=\"1\" class=\"dataframe\">\n",
       "  <thead>\n",
       "    <tr style=\"text-align: right;\">\n",
       "      <th></th>\n",
       "      <th>passengers</th>\n",
       "    </tr>\n",
       "    <tr>\n",
       "      <th>time</th>\n",
       "      <th></th>\n",
       "    </tr>\n",
       "  </thead>\n",
       "  <tbody>\n",
       "    <tr>\n",
       "      <th>1960-07-01</th>\n",
       "      <td>622</td>\n",
       "    </tr>\n",
       "    <tr>\n",
       "      <th>1960-08-01</th>\n",
       "      <td>606</td>\n",
       "    </tr>\n",
       "    <tr>\n",
       "      <th>1960-09-01</th>\n",
       "      <td>508</td>\n",
       "    </tr>\n",
       "    <tr>\n",
       "      <th>1960-10-01</th>\n",
       "      <td>461</td>\n",
       "    </tr>\n",
       "    <tr>\n",
       "      <th>1960-11-01</th>\n",
       "      <td>390</td>\n",
       "    </tr>\n",
       "    <tr>\n",
       "      <th>1960-12-01</th>\n",
       "      <td>432</td>\n",
       "    </tr>\n",
       "  </tbody>\n",
       "</table>\n",
       "</div>"
      ],
      "text/plain": [
       "            passengers\n",
       "time                  \n",
       "1960-07-01         622\n",
       "1960-08-01         606\n",
       "1960-09-01         508\n",
       "1960-10-01         461\n",
       "1960-11-01         390\n",
       "1960-12-01         432"
      ]
     },
     "execution_count": 54,
     "metadata": {},
     "output_type": "execute_result"
    }
   ],
   "source": [
    "train = airDF[:'1960-07-01']\n",
    "test = airDF['1960-07-01':]\n",
    "test"
   ]
  },
  {
   "cell_type": "code",
   "execution_count": 56,
   "id": "3c972563",
   "metadata": {},
   "outputs": [
    {
     "data": {
      "image/png": "[encoded data removed]",
      "text/plain": [
       "<Figure size 432x288 with 1 Axes>"
      ]
     },
     "metadata": {},
     "output_type": "display_data"
    }
   ],
   "source": [
    "plt.plot(train)\n",
    "plt.plot(test, '--')\n",
    "plt.plot(preds)\n",
    "plt.show()"
   ]
  },
  {
   "cell_type": "markdown",
   "id": "ae429545",
   "metadata": {},
   "source": [
    "#### 연습문제\n",
    "    1. acf\n",
    "    2. adfuller : stationary/non-stationary?\n",
    "    3. 최적 p, d, q\n",
    "    4. arima 모델로 예측 (2001-11-13, 2001-11-20)\n",
    "        실제값 & 예측값을 그래프로 그리시오"
   ]
  },
  {
   "cell_type": "code",
   "execution_count": 57,
   "id": "486be779",
   "metadata": {},
   "outputs": [
    {
     "name": "stdout",
     "output_type": "stream",
     "text": [
      "                count\n",
      "date                 \n",
      "2001-11-01   0.998543\n",
      "2001-11-02   1.914526\n",
      "2001-11-03   3.057407\n",
      "2001-11-04   4.044301\n",
      "2001-11-05   4.952441\n",
      "2001-11-06   6.002932\n",
      "2001-11-07   6.930134\n",
      "2001-11-08   8.011137\n",
      "2001-11-09   9.040393\n",
      "2001-11-10  10.097007\n",
      "2001-11-11  11.063742\n",
      "2001-11-12  12.051951\n",
      "2001-11-13  13.062637\n",
      "2001-11-14  14.086016\n",
      "2001-11-15  15.096826\n",
      "2001-11-16  15.944886\n",
      "2001-11-17  17.027107\n",
      "2001-11-18  17.930240\n",
      "2001-11-19  18.984202\n",
      "2001-11-20  19.971603\n"
     ]
    }
   ],
   "source": [
    "df = pd.DataFrame([\n",
    "        ['2001-11-01', 0.998543],\n",
    "        ['2001-11-02', 1.914526],\n",
    "        ['2001-11-03', 3.057407],\n",
    "        ['2001-11-04', 4.044301],\n",
    "        ['2001-11-05', 4.952441],\n",
    "        ['2001-11-06', 6.002932],\n",
    "        ['2001-11-07', 6.930134],\n",
    "        ['2001-11-08', 8.011137],\n",
    "        ['2001-11-09', 9.040393],\n",
    "        ['2001-11-10', 10.097007],\n",
    "        ['2001-11-11', 11.063742],\n",
    "        ['2001-11-12', 12.051951],\n",
    "        ['2001-11-13', 13.062637],\n",
    "        ['2001-11-14', 14.086016],\n",
    "        ['2001-11-15', 15.096826],\n",
    "        ['2001-11-16', 15.944886],\n",
    "        ['2001-11-17', 17.027107],\n",
    "        ['2001-11-18', 17.930240],\n",
    "        ['2001-11-19', 18.984202],\n",
    "        ['2001-11-20', 19.971603]\n",
    "    ], columns=['date', 'count'])\n",
    "df['date'] = pd.to_datetime(df.date, format='%Y-%m-%d')\n",
    "df = df.set_index('date')\n",
    "print(df)"
   ]
  },
  {
   "cell_type": "code",
   "execution_count": 58,
   "id": "4280f1c5",
   "metadata": {},
   "outputs": [
    {
     "data": {
      "text/plain": [
       "array([ 1.        ,  0.85051096,  0.70111766,  0.55770427,  0.41727086,\n",
       "        0.28272744,  0.15409016,  0.03335875, -0.07545946, -0.17166745,\n",
       "       -0.25369122, -0.32166247, -0.37250429, -0.40465095, -0.41553391,\n",
       "       -0.40615602, -0.37568118, -0.32135199, -0.24323865, -0.13518252])"
      ]
     },
     "execution_count": 58,
     "metadata": {},
     "output_type": "execute_result"
    }
   ],
   "source": [
    "result = acf(df['count'])\n",
    "result"
   ]
  },
  {
   "cell_type": "code",
   "execution_count": 59,
   "id": "95a25300",
   "metadata": {
    "scrolled": true
   },
   "outputs": [
    {
     "data": {
      "image/png": "[encoded data removed]",
      "text/plain": [
       "<Figure size 432x288 with 1 Axes>"
      ]
     },
     "metadata": {},
     "output_type": "display_data"
    }
   ],
   "source": [
    "plot_acf(df['countb'])\n",
    "plt.show()"
   ]
  },
  {
   "cell_type": "markdown",
   "id": "d18d167b",
   "metadata": {},
   "source": [
    "non-stationary"
   ]
  },
  {
   "cell_type": "code",
   "execution_count": 60,
   "id": "f61ea9e0",
   "metadata": {},
   "outputs": [
    {
     "name": "stdout",
     "output_type": "stream",
     "text": [
      "-7.573269903544496\n",
      "2.804546459120648e-11\n"
     ]
    }
   ],
   "source": [
    "result = adfuller(df['count'])\n",
    "print(result[0]) #adf (적을수록 귀무가설을 기각시킬 확률이 높음)\n",
    "print(result[1]) #p-value"
   ]
  },
  {
   "cell_type": "code",
   "execution_count": 61,
   "id": "cd788a31",
   "metadata": {
    "collapsed": true
   },
   "outputs": [
    {
     "data": {
      "text/html": [
       "<div>\n",
       "<style scoped>\n",
       "    .dataframe tbody tr th:only-of-type {\n",
       "        vertical-align: middle;\n",
       "    }\n",
       "\n",
       "    .dataframe tbody tr th {\n",
       "        vertical-align: top;\n",
       "    }\n",
       "\n",
       "    .dataframe thead th {\n",
       "        text-align: right;\n",
       "    }\n",
       "</style>\n",
       "<table border=\"1\" class=\"dataframe\">\n",
       "  <thead>\n",
       "    <tr style=\"text-align: right;\">\n",
       "      <th></th>\n",
       "      <th>order</th>\n",
       "      <th>AIC</th>\n",
       "    </tr>\n",
       "  </thead>\n",
       "  <tbody>\n",
       "    <tr>\n",
       "      <th>4</th>\n",
       "      <td>p:0 d:1 q:1</td>\n",
       "      <td>-46.510330</td>\n",
       "    </tr>\n",
       "    <tr>\n",
       "      <th>10</th>\n",
       "      <td>p:1 d:1 q:0</td>\n",
       "      <td>-46.352253</td>\n",
       "    </tr>\n",
       "    <tr>\n",
       "      <th>11</th>\n",
       "      <td>p:1 d:1 q:1</td>\n",
       "      <td>-44.691545</td>\n",
       "    </tr>\n",
       "    <tr>\n",
       "      <th>5</th>\n",
       "      <td>p:0 d:1 q:2</td>\n",
       "      <td>-44.595638</td>\n",
       "    </tr>\n",
       "    <tr>\n",
       "      <th>17</th>\n",
       "      <td>p:2 d:1 q:0</td>\n",
       "      <td>-44.545073</td>\n",
       "    </tr>\n",
       "    <tr>\n",
       "      <th>18</th>\n",
       "      <td>p:2 d:1 q:1</td>\n",
       "      <td>-44.052351</td>\n",
       "    </tr>\n",
       "    <tr>\n",
       "      <th>12</th>\n",
       "      <td>p:1 d:1 q:2</td>\n",
       "      <td>-42.796456</td>\n",
       "    </tr>\n",
       "    <tr>\n",
       "      <th>3</th>\n",
       "      <td>p:0 d:1 q:0</td>\n",
       "      <td>-41.995440</td>\n",
       "    </tr>\n",
       "    <tr>\n",
       "      <th>19</th>\n",
       "      <td>p:2 d:1 q:2</td>\n",
       "      <td>-38.789645</td>\n",
       "    </tr>\n",
       "    <tr>\n",
       "      <th>8</th>\n",
       "      <td>p:0 d:2 q:2</td>\n",
       "      <td>-38.039368</td>\n",
       "    </tr>\n",
       "    <tr>\n",
       "      <th>14</th>\n",
       "      <td>p:1 d:2 q:1</td>\n",
       "      <td>-37.642422</td>\n",
       "    </tr>\n",
       "    <tr>\n",
       "      <th>15</th>\n",
       "      <td>p:1 d:2 q:2</td>\n",
       "      <td>-36.052055</td>\n",
       "    </tr>\n",
       "    <tr>\n",
       "      <th>21</th>\n",
       "      <td>p:2 d:2 q:1</td>\n",
       "      <td>-35.851557</td>\n",
       "    </tr>\n",
       "    <tr>\n",
       "      <th>22</th>\n",
       "      <td>p:2 d:2 q:2</td>\n",
       "      <td>-34.977004</td>\n",
       "    </tr>\n",
       "    <tr>\n",
       "      <th>7</th>\n",
       "      <td>p:0 d:2 q:1</td>\n",
       "      <td>-33.759830</td>\n",
       "    </tr>\n",
       "    <tr>\n",
       "      <th>20</th>\n",
       "      <td>p:2 d:2 q:0</td>\n",
       "      <td>-32.976247</td>\n",
       "    </tr>\n",
       "    <tr>\n",
       "      <th>13</th>\n",
       "      <td>p:1 d:2 q:0</td>\n",
       "      <td>-30.849871</td>\n",
       "    </tr>\n",
       "    <tr>\n",
       "      <th>6</th>\n",
       "      <td>p:0 d:2 q:0</td>\n",
       "      <td>-18.967009</td>\n",
       "    </tr>\n",
       "    <tr>\n",
       "      <th>16</th>\n",
       "      <td>p:2 d:0 q:0</td>\n",
       "      <td>4.230571</td>\n",
       "    </tr>\n",
       "    <tr>\n",
       "      <th>9</th>\n",
       "      <td>p:1 d:0 q:0</td>\n",
       "      <td>67.211518</td>\n",
       "    </tr>\n",
       "    <tr>\n",
       "      <th>2</th>\n",
       "      <td>p:0 d:0 q:2</td>\n",
       "      <td>93.021176</td>\n",
       "    </tr>\n",
       "    <tr>\n",
       "      <th>1</th>\n",
       "      <td>p:0 d:0 q:1</td>\n",
       "      <td>111.032398</td>\n",
       "    </tr>\n",
       "    <tr>\n",
       "      <th>0</th>\n",
       "      <td>p:0 d:0 q:0</td>\n",
       "      <td>130.860221</td>\n",
       "    </tr>\n",
       "  </tbody>\n",
       "</table>\n",
       "</div>"
      ],
      "text/plain": [
       "          order         AIC\n",
       "4   p:0 d:1 q:1  -46.510330\n",
       "10  p:1 d:1 q:0  -46.352253\n",
       "11  p:1 d:1 q:1  -44.691545\n",
       "5   p:0 d:1 q:2  -44.595638\n",
       "17  p:2 d:1 q:0  -44.545073\n",
       "18  p:2 d:1 q:1  -44.052351\n",
       "12  p:1 d:1 q:2  -42.796456\n",
       "3   p:0 d:1 q:0  -41.995440\n",
       "19  p:2 d:1 q:2  -38.789645\n",
       "8   p:0 d:2 q:2  -38.039368\n",
       "14  p:1 d:2 q:1  -37.642422\n",
       "15  p:1 d:2 q:2  -36.052055\n",
       "21  p:2 d:2 q:1  -35.851557\n",
       "22  p:2 d:2 q:2  -34.977004\n",
       "7   p:0 d:2 q:1  -33.759830\n",
       "20  p:2 d:2 q:0  -32.976247\n",
       "13  p:1 d:2 q:0  -30.849871\n",
       "6   p:0 d:2 q:0  -18.967009\n",
       "16  p:2 d:0 q:0    4.230571\n",
       "9   p:1 d:0 q:0   67.211518\n",
       "2   p:0 d:0 q:2   93.021176\n",
       "1   p:0 d:0 q:1  111.032398\n",
       "0   p:0 d:0 q:0  130.860221"
      ]
     },
     "execution_count": 61,
     "metadata": {},
     "output_type": "execute_result"
    }
   ],
   "source": [
    "arima_aic_check(df, [3, 3, 3])"
   ]
  },
  {
   "cell_type": "markdown",
   "id": "a880a582",
   "metadata": {},
   "source": [
    "최적 p, d, q = [0, 1, 1]"
   ]
  },
  {
   "cell_type": "code",
   "execution_count": 62,
   "id": "5e1b6544",
   "metadata": {},
   "outputs": [
    {
     "data": {
      "text/html": [
       "<table class=\"simpletable\">\n",
       "<caption>ARIMA Model Results</caption>\n",
       "<tr>\n",
       "  <th>Dep. Variable:</th>      <td>D.count</td>     <th>  No. Observations:  </th>   <td>19</td>   \n",
       "</tr>\n",
       "<tr>\n",
       "  <th>Model:</th>          <td>ARIMA(0, 1, 1)</td>  <th>  Log Likelihood     </th> <td>26.255</td> \n",
       "</tr>\n",
       "<tr>\n",
       "  <th>Method:</th>             <td>css-mle</td>     <th>  S.D. of innovations</th>  <td>0.060</td> \n",
       "</tr>\n",
       "<tr>\n",
       "  <th>Date:</th>          <td>Tue, 11 Jan 2022</td> <th>  AIC                </th> <td>-46.510</td>\n",
       "</tr>\n",
       "<tr>\n",
       "  <th>Time:</th>              <td>15:33:12</td>     <th>  BIC                </th> <td>-43.677</td>\n",
       "</tr>\n",
       "<tr>\n",
       "  <th>Sample:</th>           <td>11-02-2001</td>    <th>  HQIC               </th> <td>-46.031</td>\n",
       "</tr>\n",
       "<tr>\n",
       "  <th></th>                 <td>- 11-20-2001</td>   <th>                     </th>    <td> </td>   \n",
       "</tr>\n",
       "</table>\n",
       "<table class=\"simpletable\">\n",
       "<tr>\n",
       "        <td></td>           <th>coef</th>     <th>std err</th>      <th>z</th>      <th>P>|z|</th>  <th>[0.025</th>    <th>0.975]</th>  \n",
       "</tr>\n",
       "<tr>\n",
       "  <th>const</th>         <td>    0.9995</td> <td>    0.006</td> <td>  167.035</td> <td> 0.000</td> <td>    0.988</td> <td>    1.011</td>\n",
       "</tr>\n",
       "<tr>\n",
       "  <th>ma.L1.D.count</th> <td>   -0.6026</td> <td>    0.213</td> <td>   -2.830</td> <td> 0.005</td> <td>   -1.020</td> <td>   -0.185</td>\n",
       "</tr>\n",
       "</table>\n",
       "<table class=\"simpletable\">\n",
       "<caption>Roots</caption>\n",
       "<tr>\n",
       "    <td></td>   <th>            Real</th>  <th>         Imaginary</th> <th>         Modulus</th>  <th>        Frequency</th>\n",
       "</tr>\n",
       "<tr>\n",
       "  <th>MA.1</th> <td>           1.6596</td> <td>          +0.0000j</td> <td>           1.6596</td> <td>           0.0000</td>\n",
       "</tr>\n",
       "</table>"
      ],
      "text/plain": [
       "<class 'statsmodels.iolib.summary.Summary'>\n",
       "\"\"\"\n",
       "                             ARIMA Model Results                              \n",
       "==============================================================================\n",
       "Dep. Variable:                D.count   No. Observations:                   19\n",
       "Model:                 ARIMA(0, 1, 1)   Log Likelihood                  26.255\n",
       "Method:                       css-mle   S.D. of innovations              0.060\n",
       "Date:                Tue, 11 Jan 2022   AIC                            -46.510\n",
       "Time:                        15:33:12   BIC                            -43.677\n",
       "Sample:                    11-02-2001   HQIC                           -46.031\n",
       "                         - 11-20-2001                                         \n",
       "=================================================================================\n",
       "                    coef    std err          z      P>|z|      [0.025      0.975]\n",
       "---------------------------------------------------------------------------------\n",
       "const             0.9995      0.006    167.035      0.000       0.988       1.011\n",
       "ma.L1.D.count    -0.6026      0.213     -2.830      0.005      -1.020      -0.185\n",
       "                                    Roots                                    \n",
       "=============================================================================\n",
       "                  Real          Imaginary           Modulus         Frequency\n",
       "-----------------------------------------------------------------------------\n",
       "MA.1            1.6596           +0.0000j            1.6596            0.0000\n",
       "-----------------------------------------------------------------------------\n",
       "\"\"\""
      ]
     },
     "execution_count": 62,
     "metadata": {},
     "output_type": "execute_result"
    }
   ],
   "source": [
    "order = (0, 1, 1)\n",
    "model = ARIMA(df, order)\n",
    "rfit = model.fit()\n",
    "rfit.summary()"
   ]
  },
  {
   "cell_type": "code",
   "execution_count": 63,
   "id": "736cde83",
   "metadata": {},
   "outputs": [],
   "source": [
    "preds = rfit.predict('2001-11-13', '2001-11-20', typ = 'levels')"
   ]
  },
  {
   "cell_type": "code",
   "execution_count": 65,
   "id": "8f2d7d61",
   "metadata": {},
   "outputs": [],
   "source": [
    "train = df[:'2001-11-13']\n",
    "test = df['2001-11-13':]"
   ]
  },
  {
   "cell_type": "code",
   "execution_count": 66,
   "id": "b1d092f1",
   "metadata": {},
   "outputs": [
    {
     "data": {
      "image/png": "[encoded data removed]",
      "text/plain": [
       "<Figure size 432x288 with 1 Axes>"
      ]
     },
     "metadata": {},
     "output_type": "display_data"
    }
   ],
   "source": [
    "plt.plot(train)\n",
    "plt.plot(test, '--')\n",
    "plt.plot(preds)\n",
    "plt.show()"
   ]
  }
 ],
 "metadata": {
  "kernelspec": {
   "display_name": "Python 3",
   "language": "python",
   "name": "python3"
  },
  "language_info": {
   "codemirror_mode": {
    "name": "ipython",
    "version": 3
   },
   "file_extension": ".py",
   "mimetype": "text/x-python",
   "name": "python",
   "nbconvert_exporter": "python",
   "pygments_lexer": "ipython3",
   "version": "3.8.8"
  }
 },
 "nbformat": 4,
 "nbformat_minor": 5
}
