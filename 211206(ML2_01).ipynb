{
 "cells": [
  {
   "cell_type": "code",
   "execution_count": 3,
   "id": "c330af73",
   "metadata": {},
   "outputs": [],
   "source": [
    "# 주피터 노트북 환경설정\n",
    "import warnings\n",
    "warnings.filterwarnings('ignore')\n",
    "warnings.simplefilter('ignore')\n",
    "\n",
    "from IPython.display import set_matplotlib_formats\n",
    "set_matplotlib_formats(\"retina\")\n",
    "\n",
    "from IPython.core.display import display, HTML\n",
    "# display(HTML(\"<style>.container { font-weight: bold !important; font-family:'Malgun Gothic' !important;}</style>\"))\n",
    "#display(HTML(\"<style>.container { font-weight: bold !important;}</style>\"))\n",
    "#display(HTML(\"<style>.container { width: 98% !important; }</style>\"))"
   ]
  },
  {
   "cell_type": "code",
   "execution_count": 4,
   "id": "578a2554",
   "metadata": {},
   "outputs": [],
   "source": [
    "import numpy as np\n",
    "import pandas as pd\n",
    "import os\n",
    "\n",
    "import matplotlib\n",
    "import matplotlib.pyplot as plt\n",
    "import seaborn as sns\n",
    "\n",
    "%matplotlib inline\n",
    "\n",
    "# 관련 라이브러리 임포트 \n",
    "import matplotlib.font_manager as fm\n",
    "\n",
    "#  한글글꼴로 변경\n",
    "# plt.rcParams['font.family'] = '한글글꼴명'\n",
    "plt.rcParams['font.size'] = 11.0\n",
    "# plt.rcParams['font.family'] = 'batang'\n",
    "plt.rcParams['font.family'] = 'Malgun Gothic'\n",
    "\n",
    "# 그래프에서 마이너스 폰트 깨지는 문제에 대한 대처\n",
    "matplotlib.rcParams['axes.unicode_minus'] = False\n",
    "\n",
    "# 그래프 기본 크기 설정 \n",
    "plt.rcParams['figure.figsize'] = [10, 6]"
   ]
  },
  {
   "cell_type": "markdown",
   "id": "68f5ae9b",
   "metadata": {},
   "source": [
    "# 피처 스케일링\n",
    "\n",
    "- 두 특성(길이와 무게)의 값이 놓인 범위가 다르다. => 스케일(Scale)이 다르다 라고 한다. \n",
    "- 방의 넓이를 재는데 한사람은 cm, 다른사람은 inch로 재는것과 같다. \n",
    "- k-최근접 이웃 알고리즘은 샘플간의 거리에 영향을 많이 받는다. 반면 결정트리와 같은 알고리즘의 경우에는 스케일링에 그다지 많은 영향을 받지는 않는다\n",
    "- 표준점수(Standard Score) \n",
    "    - z 점수는 각 특성값이 0에서 표준편차의 몇배만큼 떨어져 있는지 표시한다. \n",
    "    - 실제 특성값의 크기와 상관없이 동일한 조건으로 비교할 수 있다. \n",
    "    - 각 데이터가 원점에서 몇 표준편차만큼 떨어져 있는지 나타낸다.\n",
    "- 분산 : 데이터에서 평균을 뺀 값을 모두 제곱한 다음 평균을 내어 구한다. \n",
    "- 표준편차 : 분산의 제곱근으로 데이터가 분산된 정도를 나타낸다. \n",
    "\n",
    "### 표준화와 정규화 \n",
    "- 표준화는 데이타의 피처 각각이 평균이 0이고 분산이 1인 가우시안 정규 분포를 가진 값으로 변환하는 것을 의미한다. \n",
    "- 정규화란 서로 다른 피처의 크기를 통일하기 위해 크기를 변환해주는 개념이다. "
   ]
  },
  {
   "cell_type": "markdown",
   "id": "2923d0f4",
   "metadata": {},
   "source": [
    "# 도미와 빙어 (스케일링 예시)\n",
    "\n",
    "- 스케일링에 따른 모델의 성능 테스트 \n",
    "\n",
    "#### 데이타수집\n",
    "http://bit.ly/bream_smelt"
   ]
  },
  {
   "cell_type": "code",
   "execution_count": 5,
   "id": "af0845f0",
   "metadata": {},
   "outputs": [],
   "source": [
    "#35 도미 + 14 빙어 길이(cm)\n",
    "fish_length = [25.4, 26.3, 26.5, 29.0, 29.0, 29.7, 29.7, 30.0, 30.0, 30.7, 31.0, 31.0, \n",
    "                31.5, 32.0, 32.0, 32.0, 33.0, 33.0, 33.5, 33.5, 34.0, 34.0, 34.5, 35.0, \n",
    "                35.0, 35.0, 35.0, 36.0, 36.0, 37.0, 38.5, 38.5, 39.5, 41.0, 41.0, 9.8, \n",
    "                10.5, 10.6, 11.0, 11.2, 11.3, 11.8, 11.8, 12.0, 12.2, 12.4, 13.0, 14.3, 15.0]\n",
    "\n",
    "#35 도미 + 14 빙어 무게(g)\n",
    "fish_weight = [242.0, 290.0, 340.0, 363.0, 430.0, 450.0, 500.0, 390.0, 450.0, 500.0, 475.0, 500.0, \n",
    "                500.0, 340.0, 600.0, 600.0, 700.0, 700.0, 610.0, 650.0, 575.0, 685.0, 620.0, 680.0, \n",
    "                700.0, 725.0, 720.0, 714.0, 850.0, 1000.0, 920.0, 955.0, 925.0, 975.0, 950.0, 6.7, \n",
    "                7.5, 7.0, 9.7, 9.8, 8.7, 10.0, 9.9, 9.8, 12.2, 13.4, 12.2, 19.7, 19.9]"
   ]
  },
  {
   "cell_type": "code",
   "execution_count": 6,
   "id": "74c04d40",
   "metadata": {},
   "outputs": [
    {
     "data": {
      "text/plain": [
       "(49, 49)"
      ]
     },
     "execution_count": 6,
     "metadata": {},
     "output_type": "execute_result"
    }
   ],
   "source": [
    "len(fish_length), len(fish_weight)"
   ]
  },
  {
   "cell_type": "code",
   "execution_count": 7,
   "id": "8b949d52",
   "metadata": {},
   "outputs": [
    {
     "data": {
      "text/plain": [
       "(49,)"
      ]
     },
     "execution_count": 7,
     "metadata": {},
     "output_type": "execute_result"
    }
   ],
   "source": [
    "#35 도미 -> 1, 14 빙어 -> 0 = 49\n",
    "fish_target = np.concatenate((np.ones(35), np.zeros(14)))\n",
    "fish_target.shape"
   ]
  },
  {
   "cell_type": "code",
   "execution_count": 8,
   "id": "87404239",
   "metadata": {},
   "outputs": [
    {
     "data": {
      "text/html": [
       "<div>\n",
       "<style scoped>\n",
       "    .dataframe tbody tr th:only-of-type {\n",
       "        vertical-align: middle;\n",
       "    }\n",
       "\n",
       "    .dataframe tbody tr th {\n",
       "        vertical-align: top;\n",
       "    }\n",
       "\n",
       "    .dataframe thead th {\n",
       "        text-align: right;\n",
       "    }\n",
       "</style>\n",
       "<table border=\"1\" class=\"dataframe\">\n",
       "  <thead>\n",
       "    <tr style=\"text-align: right;\">\n",
       "      <th></th>\n",
       "      <th>fish_length</th>\n",
       "      <th>fish_weight</th>\n",
       "      <th>label</th>\n",
       "    </tr>\n",
       "  </thead>\n",
       "  <tbody>\n",
       "    <tr>\n",
       "      <th>18</th>\n",
       "      <td>33.5</td>\n",
       "      <td>610.0</td>\n",
       "      <td>1.0</td>\n",
       "    </tr>\n",
       "    <tr>\n",
       "      <th>45</th>\n",
       "      <td>12.4</td>\n",
       "      <td>13.4</td>\n",
       "      <td>0.0</td>\n",
       "    </tr>\n",
       "    <tr>\n",
       "      <th>15</th>\n",
       "      <td>32.0</td>\n",
       "      <td>600.0</td>\n",
       "      <td>1.0</td>\n",
       "    </tr>\n",
       "    <tr>\n",
       "      <th>43</th>\n",
       "      <td>12.0</td>\n",
       "      <td>9.8</td>\n",
       "      <td>0.0</td>\n",
       "    </tr>\n",
       "    <tr>\n",
       "      <th>25</th>\n",
       "      <td>35.0</td>\n",
       "      <td>725.0</td>\n",
       "      <td>1.0</td>\n",
       "    </tr>\n",
       "  </tbody>\n",
       "</table>\n",
       "</div>"
      ],
      "text/plain": [
       "    fish_length  fish_weight  label\n",
       "18         33.5        610.0    1.0\n",
       "45         12.4         13.4    0.0\n",
       "15         32.0        600.0    1.0\n",
       "43         12.0          9.8    0.0\n",
       "25         35.0        725.0    1.0"
      ]
     },
     "execution_count": 8,
     "metadata": {},
     "output_type": "execute_result"
    }
   ],
   "source": [
    "#데이터프레임화\n",
    "#빈 데이터프레임 생성\n",
    "fish_data = pd.DataFrame(columns=['fish_length', 'fish_weight', 'label'])\n",
    "\n",
    "fish_data['fish_length'] = fish_length\n",
    "fish_data['fish_weight'] = fish_weight\n",
    "fish_data['label'] = fish_target\n",
    "\n",
    "fish_data.sample(5)"
   ]
  },
  {
   "cell_type": "code",
   "execution_count": 9,
   "id": "8eee2b97",
   "metadata": {},
   "outputs": [
    {
     "data": {
      "text/plain": [
       "Index(['fish_length', 'fish_weight', 'label'], dtype='object')"
      ]
     },
     "execution_count": 9,
     "metadata": {},
     "output_type": "execute_result"
    }
   ],
   "source": [
    "fish_data.columns"
   ]
  },
  {
   "cell_type": "code",
   "execution_count": 13,
   "id": "467f31f6",
   "metadata": {},
   "outputs": [
    {
     "data": {
      "text/html": [
       "<div>\n",
       "<style scoped>\n",
       "    .dataframe tbody tr th:only-of-type {\n",
       "        vertical-align: middle;\n",
       "    }\n",
       "\n",
       "    .dataframe tbody tr th {\n",
       "        vertical-align: top;\n",
       "    }\n",
       "\n",
       "    .dataframe thead th {\n",
       "        text-align: right;\n",
       "    }\n",
       "</style>\n",
       "<table border=\"1\" class=\"dataframe\">\n",
       "  <thead>\n",
       "    <tr style=\"text-align: right;\">\n",
       "      <th></th>\n",
       "      <th>fish_length</th>\n",
       "      <th>fish_weight</th>\n",
       "      <th>label</th>\n",
       "    </tr>\n",
       "  </thead>\n",
       "  <tbody>\n",
       "    <tr>\n",
       "      <th>0</th>\n",
       "      <td>25.4</td>\n",
       "      <td>242.0</td>\n",
       "      <td>1.0</td>\n",
       "    </tr>\n",
       "    <tr>\n",
       "      <th>1</th>\n",
       "      <td>26.3</td>\n",
       "      <td>290.0</td>\n",
       "      <td>1.0</td>\n",
       "    </tr>\n",
       "    <tr>\n",
       "      <th>2</th>\n",
       "      <td>26.5</td>\n",
       "      <td>340.0</td>\n",
       "      <td>1.0</td>\n",
       "    </tr>\n",
       "    <tr>\n",
       "      <th>3</th>\n",
       "      <td>29.0</td>\n",
       "      <td>363.0</td>\n",
       "      <td>1.0</td>\n",
       "    </tr>\n",
       "    <tr>\n",
       "      <th>4</th>\n",
       "      <td>29.0</td>\n",
       "      <td>430.0</td>\n",
       "      <td>1.0</td>\n",
       "    </tr>\n",
       "    <tr>\n",
       "      <th>5</th>\n",
       "      <td>29.7</td>\n",
       "      <td>450.0</td>\n",
       "      <td>1.0</td>\n",
       "    </tr>\n",
       "    <tr>\n",
       "      <th>6</th>\n",
       "      <td>29.7</td>\n",
       "      <td>500.0</td>\n",
       "      <td>1.0</td>\n",
       "    </tr>\n",
       "    <tr>\n",
       "      <th>7</th>\n",
       "      <td>30.0</td>\n",
       "      <td>390.0</td>\n",
       "      <td>1.0</td>\n",
       "    </tr>\n",
       "    <tr>\n",
       "      <th>8</th>\n",
       "      <td>30.0</td>\n",
       "      <td>450.0</td>\n",
       "      <td>1.0</td>\n",
       "    </tr>\n",
       "    <tr>\n",
       "      <th>9</th>\n",
       "      <td>30.7</td>\n",
       "      <td>500.0</td>\n",
       "      <td>1.0</td>\n",
       "    </tr>\n",
       "    <tr>\n",
       "      <th>10</th>\n",
       "      <td>31.0</td>\n",
       "      <td>475.0</td>\n",
       "      <td>1.0</td>\n",
       "    </tr>\n",
       "    <tr>\n",
       "      <th>11</th>\n",
       "      <td>31.0</td>\n",
       "      <td>500.0</td>\n",
       "      <td>1.0</td>\n",
       "    </tr>\n",
       "    <tr>\n",
       "      <th>12</th>\n",
       "      <td>31.5</td>\n",
       "      <td>500.0</td>\n",
       "      <td>1.0</td>\n",
       "    </tr>\n",
       "    <tr>\n",
       "      <th>13</th>\n",
       "      <td>32.0</td>\n",
       "      <td>340.0</td>\n",
       "      <td>1.0</td>\n",
       "    </tr>\n",
       "    <tr>\n",
       "      <th>14</th>\n",
       "      <td>32.0</td>\n",
       "      <td>600.0</td>\n",
       "      <td>1.0</td>\n",
       "    </tr>\n",
       "    <tr>\n",
       "      <th>15</th>\n",
       "      <td>32.0</td>\n",
       "      <td>600.0</td>\n",
       "      <td>1.0</td>\n",
       "    </tr>\n",
       "    <tr>\n",
       "      <th>16</th>\n",
       "      <td>33.0</td>\n",
       "      <td>700.0</td>\n",
       "      <td>1.0</td>\n",
       "    </tr>\n",
       "    <tr>\n",
       "      <th>17</th>\n",
       "      <td>33.0</td>\n",
       "      <td>700.0</td>\n",
       "      <td>1.0</td>\n",
       "    </tr>\n",
       "    <tr>\n",
       "      <th>18</th>\n",
       "      <td>33.5</td>\n",
       "      <td>610.0</td>\n",
       "      <td>1.0</td>\n",
       "    </tr>\n",
       "    <tr>\n",
       "      <th>19</th>\n",
       "      <td>33.5</td>\n",
       "      <td>650.0</td>\n",
       "      <td>1.0</td>\n",
       "    </tr>\n",
       "    <tr>\n",
       "      <th>20</th>\n",
       "      <td>34.0</td>\n",
       "      <td>575.0</td>\n",
       "      <td>1.0</td>\n",
       "    </tr>\n",
       "    <tr>\n",
       "      <th>21</th>\n",
       "      <td>34.0</td>\n",
       "      <td>685.0</td>\n",
       "      <td>1.0</td>\n",
       "    </tr>\n",
       "    <tr>\n",
       "      <th>22</th>\n",
       "      <td>34.5</td>\n",
       "      <td>620.0</td>\n",
       "      <td>1.0</td>\n",
       "    </tr>\n",
       "    <tr>\n",
       "      <th>23</th>\n",
       "      <td>35.0</td>\n",
       "      <td>680.0</td>\n",
       "      <td>1.0</td>\n",
       "    </tr>\n",
       "    <tr>\n",
       "      <th>24</th>\n",
       "      <td>35.0</td>\n",
       "      <td>700.0</td>\n",
       "      <td>1.0</td>\n",
       "    </tr>\n",
       "    <tr>\n",
       "      <th>25</th>\n",
       "      <td>35.0</td>\n",
       "      <td>725.0</td>\n",
       "      <td>1.0</td>\n",
       "    </tr>\n",
       "    <tr>\n",
       "      <th>26</th>\n",
       "      <td>35.0</td>\n",
       "      <td>720.0</td>\n",
       "      <td>1.0</td>\n",
       "    </tr>\n",
       "    <tr>\n",
       "      <th>27</th>\n",
       "      <td>36.0</td>\n",
       "      <td>714.0</td>\n",
       "      <td>1.0</td>\n",
       "    </tr>\n",
       "    <tr>\n",
       "      <th>28</th>\n",
       "      <td>36.0</td>\n",
       "      <td>850.0</td>\n",
       "      <td>1.0</td>\n",
       "    </tr>\n",
       "    <tr>\n",
       "      <th>29</th>\n",
       "      <td>37.0</td>\n",
       "      <td>1000.0</td>\n",
       "      <td>1.0</td>\n",
       "    </tr>\n",
       "    <tr>\n",
       "      <th>30</th>\n",
       "      <td>38.5</td>\n",
       "      <td>920.0</td>\n",
       "      <td>1.0</td>\n",
       "    </tr>\n",
       "    <tr>\n",
       "      <th>31</th>\n",
       "      <td>38.5</td>\n",
       "      <td>955.0</td>\n",
       "      <td>1.0</td>\n",
       "    </tr>\n",
       "    <tr>\n",
       "      <th>32</th>\n",
       "      <td>39.5</td>\n",
       "      <td>925.0</td>\n",
       "      <td>1.0</td>\n",
       "    </tr>\n",
       "    <tr>\n",
       "      <th>33</th>\n",
       "      <td>41.0</td>\n",
       "      <td>975.0</td>\n",
       "      <td>1.0</td>\n",
       "    </tr>\n",
       "    <tr>\n",
       "      <th>34</th>\n",
       "      <td>41.0</td>\n",
       "      <td>950.0</td>\n",
       "      <td>1.0</td>\n",
       "    </tr>\n",
       "  </tbody>\n",
       "</table>\n",
       "</div>"
      ],
      "text/plain": [
       "    fish_length  fish_weight  label\n",
       "0          25.4        242.0    1.0\n",
       "1          26.3        290.0    1.0\n",
       "2          26.5        340.0    1.0\n",
       "3          29.0        363.0    1.0\n",
       "4          29.0        430.0    1.0\n",
       "5          29.7        450.0    1.0\n",
       "6          29.7        500.0    1.0\n",
       "7          30.0        390.0    1.0\n",
       "8          30.0        450.0    1.0\n",
       "9          30.7        500.0    1.0\n",
       "10         31.0        475.0    1.0\n",
       "11         31.0        500.0    1.0\n",
       "12         31.5        500.0    1.0\n",
       "13         32.0        340.0    1.0\n",
       "14         32.0        600.0    1.0\n",
       "15         32.0        600.0    1.0\n",
       "16         33.0        700.0    1.0\n",
       "17         33.0        700.0    1.0\n",
       "18         33.5        610.0    1.0\n",
       "19         33.5        650.0    1.0\n",
       "20         34.0        575.0    1.0\n",
       "21         34.0        685.0    1.0\n",
       "22         34.5        620.0    1.0\n",
       "23         35.0        680.0    1.0\n",
       "24         35.0        700.0    1.0\n",
       "25         35.0        725.0    1.0\n",
       "26         35.0        720.0    1.0\n",
       "27         36.0        714.0    1.0\n",
       "28         36.0        850.0    1.0\n",
       "29         37.0       1000.0    1.0\n",
       "30         38.5        920.0    1.0\n",
       "31         38.5        955.0    1.0\n",
       "32         39.5        925.0    1.0\n",
       "33         41.0        975.0    1.0\n",
       "34         41.0        950.0    1.0"
      ]
     },
     "execution_count": 13,
     "metadata": {},
     "output_type": "execute_result"
    }
   ],
   "source": [
    "#도미\n",
    "fish_data.iloc[:35, :]"
   ]
  },
  {
   "cell_type": "code",
   "execution_count": 12,
   "id": "f82513bd",
   "metadata": {},
   "outputs": [
    {
     "data": {
      "text/html": [
       "<div>\n",
       "<style scoped>\n",
       "    .dataframe tbody tr th:only-of-type {\n",
       "        vertical-align: middle;\n",
       "    }\n",
       "\n",
       "    .dataframe tbody tr th {\n",
       "        vertical-align: top;\n",
       "    }\n",
       "\n",
       "    .dataframe thead th {\n",
       "        text-align: right;\n",
       "    }\n",
       "</style>\n",
       "<table border=\"1\" class=\"dataframe\">\n",
       "  <thead>\n",
       "    <tr style=\"text-align: right;\">\n",
       "      <th></th>\n",
       "      <th>fish_length</th>\n",
       "      <th>fish_weight</th>\n",
       "      <th>label</th>\n",
       "    </tr>\n",
       "  </thead>\n",
       "  <tbody>\n",
       "    <tr>\n",
       "      <th>35</th>\n",
       "      <td>9.8</td>\n",
       "      <td>6.7</td>\n",
       "      <td>0.0</td>\n",
       "    </tr>\n",
       "    <tr>\n",
       "      <th>36</th>\n",
       "      <td>10.5</td>\n",
       "      <td>7.5</td>\n",
       "      <td>0.0</td>\n",
       "    </tr>\n",
       "    <tr>\n",
       "      <th>37</th>\n",
       "      <td>10.6</td>\n",
       "      <td>7.0</td>\n",
       "      <td>0.0</td>\n",
       "    </tr>\n",
       "    <tr>\n",
       "      <th>38</th>\n",
       "      <td>11.0</td>\n",
       "      <td>9.7</td>\n",
       "      <td>0.0</td>\n",
       "    </tr>\n",
       "    <tr>\n",
       "      <th>39</th>\n",
       "      <td>11.2</td>\n",
       "      <td>9.8</td>\n",
       "      <td>0.0</td>\n",
       "    </tr>\n",
       "    <tr>\n",
       "      <th>40</th>\n",
       "      <td>11.3</td>\n",
       "      <td>8.7</td>\n",
       "      <td>0.0</td>\n",
       "    </tr>\n",
       "    <tr>\n",
       "      <th>41</th>\n",
       "      <td>11.8</td>\n",
       "      <td>10.0</td>\n",
       "      <td>0.0</td>\n",
       "    </tr>\n",
       "    <tr>\n",
       "      <th>42</th>\n",
       "      <td>11.8</td>\n",
       "      <td>9.9</td>\n",
       "      <td>0.0</td>\n",
       "    </tr>\n",
       "    <tr>\n",
       "      <th>43</th>\n",
       "      <td>12.0</td>\n",
       "      <td>9.8</td>\n",
       "      <td>0.0</td>\n",
       "    </tr>\n",
       "    <tr>\n",
       "      <th>44</th>\n",
       "      <td>12.2</td>\n",
       "      <td>12.2</td>\n",
       "      <td>0.0</td>\n",
       "    </tr>\n",
       "    <tr>\n",
       "      <th>45</th>\n",
       "      <td>12.4</td>\n",
       "      <td>13.4</td>\n",
       "      <td>0.0</td>\n",
       "    </tr>\n",
       "    <tr>\n",
       "      <th>46</th>\n",
       "      <td>13.0</td>\n",
       "      <td>12.2</td>\n",
       "      <td>0.0</td>\n",
       "    </tr>\n",
       "    <tr>\n",
       "      <th>47</th>\n",
       "      <td>14.3</td>\n",
       "      <td>19.7</td>\n",
       "      <td>0.0</td>\n",
       "    </tr>\n",
       "    <tr>\n",
       "      <th>48</th>\n",
       "      <td>15.0</td>\n",
       "      <td>19.9</td>\n",
       "      <td>0.0</td>\n",
       "    </tr>\n",
       "  </tbody>\n",
       "</table>\n",
       "</div>"
      ],
      "text/plain": [
       "    fish_length  fish_weight  label\n",
       "35          9.8          6.7    0.0\n",
       "36         10.5          7.5    0.0\n",
       "37         10.6          7.0    0.0\n",
       "38         11.0          9.7    0.0\n",
       "39         11.2          9.8    0.0\n",
       "40         11.3          8.7    0.0\n",
       "41         11.8         10.0    0.0\n",
       "42         11.8          9.9    0.0\n",
       "43         12.0          9.8    0.0\n",
       "44         12.2         12.2    0.0\n",
       "45         12.4         13.4    0.0\n",
       "46         13.0         12.2    0.0\n",
       "47         14.3         19.7    0.0\n",
       "48         15.0         19.9    0.0"
      ]
     },
     "execution_count": 12,
     "metadata": {},
     "output_type": "execute_result"
    }
   ],
   "source": [
    "#빙어\n",
    "fish_data.iloc[35:, :]"
   ]
  },
  {
   "cell_type": "code",
   "execution_count": 14,
   "id": "118a3587",
   "metadata": {},
   "outputs": [
    {
     "data": {
      "image/png": "[encoded data removed]",
      "text/plain": [
       "<Figure size 720x432 with 1 Axes>"
      ]
     },
     "metadata": {
      "image/png": {
       "height": 373,
       "width": 618
      },
      "needs_background": "light"
     },
     "output_type": "display_data"
    }
   ],
   "source": [
    "#시각화\n",
    "plt.scatter(fish_data.iloc[:35, 0], fish_data.iloc[:35, 1]) # 도미 \n",
    "plt.scatter(fish_data.iloc[35:, 0], fish_data.iloc[35:, 1]) # 빙어 \n",
    "plt.xlabel('length - cm')\n",
    "plt.ylabel('weight - g')\n",
    "plt.show()"
   ]
  },
  {
   "cell_type": "code",
   "execution_count": 15,
   "id": "febbe9fa",
   "metadata": {},
   "outputs": [],
   "source": [
    "#학습데이터와 테스트데이터 분리\n",
    "from sklearn.model_selection import train_test_split\n",
    "\n",
    "X_train, X_test, y_train, y_test = train_test_split(fish_data[['fish_length', 'fish_weight']] , fish_data['label'] , \n",
    "                                                    test_size=0.2, random_state=11, stratify=fish_data['label'])"
   ]
  },
  {
   "cell_type": "code",
   "execution_count": null,
   "id": "20141db8",
   "metadata": {},
   "outputs": [],
   "source": [
    "#X 데이터\n",
    "fish_data[['fish_length', 'fish_weight']]\n",
    "#y 데이터\n",
    "fish_data['label']"
   ]
  },
  {
   "cell_type": "code",
   "execution_count": 16,
   "id": "9410cf24",
   "metadata": {},
   "outputs": [
    {
     "name": "stdout",
     "output_type": "stream",
     "text": [
      "(39, 2) (39,)\n",
      "(10, 2) (10,)\n"
     ]
    }
   ],
   "source": [
    "print(X_train.shape, y_train.shape)\n",
    "print(X_test.shape, y_test.shape)"
   ]
  },
  {
   "cell_type": "code",
   "execution_count": 17,
   "id": "fe90fbe4",
   "metadata": {},
   "outputs": [
    {
     "data": {
      "text/plain": [
       "1.0"
      ]
     },
     "execution_count": 17,
     "metadata": {},
     "output_type": "execute_result"
    }
   ],
   "source": [
    "#모델 선정 및 학습\n",
    "from sklearn.neighbors import KNeighborsClassifier\n",
    "\n",
    "model_kn = KNeighborsClassifier()\n",
    "model_kn.fit(X_train, y_train)\n",
    "\n",
    "model_kn.score(X_test, y_test)"
   ]
  },
  {
   "cell_type": "markdown",
   "id": "ed700ac3",
   "metadata": {},
   "source": [
    "### KNeighborsClassifier 의 주요 메서드 및 속성"
   ]
  },
  {
   "cell_type": "code",
   "execution_count": 18,
   "id": "31b87395",
   "metadata": {},
   "outputs": [
    {
     "name": "stdout",
     "output_type": "stream",
     "text": [
      "['__abstractmethods__', '__class__', '__delattr__', '__dict__', '__dir__', '__doc__', '__eq__', '__format__', '__ge__', '__getattribute__', '__getstate__', '__gt__', '__hash__', '__init__', '__init_subclass__', '__le__', '__lt__', '__module__', '__ne__', '__new__', '__reduce__', '__reduce_ex__', '__repr__', '__setattr__', '__setstate__', '__sizeof__', '__str__', '__subclasshook__', '__weakref__', '_abc_impl', '_check_algorithm_metric', '_check_n_features', '_estimator_type', '_fit', '_get_param_names', '_get_tags', '_kneighbors_reduce_func', '_more_tags', '_pairwise', '_repr_html_', '_repr_html_inner', '_repr_mimebundle_', '_validate_data', 'fit', 'get_params', 'kneighbors', 'kneighbors_graph', 'predict', 'predict_proba', 'score', 'set_params']\n"
     ]
    }
   ],
   "source": [
    "print(dir(KNeighborsClassifier))"
   ]
  },
  {
   "cell_type": "code",
   "execution_count": 19,
   "id": "b6ca684d",
   "metadata": {},
   "outputs": [
    {
     "data": {
      "text/plain": [
       "{'algorithm': 'auto',\n",
       " 'leaf_size': 30,\n",
       " 'metric': 'minkowski',\n",
       " 'metric_params': None,\n",
       " 'n_jobs': None,\n",
       " 'n_neighbors': 5,\n",
       " 'p': 2,\n",
       " 'weights': 'uniform'}"
      ]
     },
     "execution_count": 19,
     "metadata": {},
     "output_type": "execute_result"
    }
   ],
   "source": [
    "model_kn.get_params()"
   ]
  },
  {
   "cell_type": "code",
   "execution_count": 20,
   "id": "c0b01b89",
   "metadata": {
    "scrolled": true
   },
   "outputs": [
    {
     "name": "stdout",
     "output_type": "stream",
     "text": [
      "    fish_length  fish_weight\n",
      "4          29.0        430.0\n",
      "35          9.8          6.7\n",
      "7          30.0        390.0\n",
      "46         13.0         12.2\n",
      "5          29.7        450.0\n",
      "21         34.0        685.0\n",
      "44         12.2         12.2\n",
      "1          26.3        290.0\n",
      "10         31.0        475.0\n",
      "12         31.5        500.0\n",
      "[1. 0. 1. 0. 1. 1. 0. 1. 1. 1.]\n",
      "[0.]\n",
      "[[1. 0.]]\n"
     ]
    }
   ],
   "source": [
    "#테스트 입력 데이터\n",
    "print(X_test)\n",
    "#테스트 입력 데이터 적용시 예측 -> 답안 리스트\n",
    "print(model_kn.predict(X_test))\n",
    "#임의 선정 테스트 입력 데이터 적용시 예측 -> 답안 1개 리스트\n",
    "print(model_kn.predict([[9.8,6.7]]))\n",
    "#임의 선정 테스트 입력 데이터 적용시 예측되는 확률 -> 타깃의 라벨갯수로 구성된 리스트\n",
    "print(model_kn.predict_proba([[9.8,6.7]]))"
   ]
  },
  {
   "cell_type": "code",
   "execution_count": null,
   "id": "ed2bcfec",
   "metadata": {},
   "outputs": [],
   "source": [
    "\n",
    "print(model_kn.score(X_test, y_test))"
   ]
  },
  {
   "cell_type": "code",
   "execution_count": 22,
   "id": "de89fcea",
   "metadata": {},
   "outputs": [
    {
     "name": "stdout",
     "output_type": "stream",
     "text": [
      "(array([[ 48.00843676,  50.0004    ,  50.3238512 ,  73.04991444,\n",
      "        160.04277553]]), array([[20, 21,  9, 29, 17]], dtype=int64))\n",
      "distance = [[ 48.00843676  50.0004      50.3238512   73.04991444 160.04277553]]\n",
      "indexes = [[20 21  9 29 17]]\n"
     ]
    }
   ],
   "source": [
    "#이웃찾기 메서드 -> 이웃과의 거리, 이웃의 인덱스\n",
    "#모델명.kneighbors([[값1, 값2, ...]])\n",
    "model_kn.kneighbors([[26.3,290.0]])\n",
    "\n",
    "print(model_kn.kneighbors([[26.3,290.0]]))\n",
    "\n",
    "#이웃의 거리와 이웃의 인덱스를 변도 변수로 저장\n",
    "distance, indexes = model_kn.kneighbors([[26.3,290.0]])\n",
    "\n",
    "print(f'distance = {distance}')\n",
    "print(f'indexes = {indexes}')"
   ]
  },
  {
   "cell_type": "code",
   "execution_count": 25,
   "id": "60a2cf6e",
   "metadata": {},
   "outputs": [
    {
     "data": {
      "text/plain": [
       "((1, 5), (5,))"
      ]
     },
     "execution_count": 25,
     "metadata": {},
     "output_type": "execute_result"
    }
   ],
   "source": [
    "#2차원 -> 1차원 flatten()\n",
    "indexes.shape, indexes.flatten().shape"
   ]
  },
  {
   "cell_type": "code",
   "execution_count": 26,
   "id": "67972700",
   "metadata": {},
   "outputs": [
    {
     "data": {
      "text/plain": [
       "(0     25.4\n",
       " 2     26.5\n",
       " 13    32.0\n",
       " 3     29.0\n",
       " 8     30.0\n",
       " Name: fish_length, dtype: float64,\n",
       " 0     242.0\n",
       " 2     340.0\n",
       " 13    340.0\n",
       " 3     363.0\n",
       " 8     450.0\n",
       " Name: fish_weight, dtype: float64)"
      ]
     },
     "execution_count": 26,
     "metadata": {},
     "output_type": "execute_result"
    }
   ],
   "source": [
    "#이웃점들의 길이, 무게 데이터\n",
    "X_train.iloc[indexes.flatten(), 0], X_train.iloc[indexes.flatten(), 1]"
   ]
  },
  {
   "cell_type": "code",
   "execution_count": 27,
   "id": "c08e0751",
   "metadata": {},
   "outputs": [
    {
     "data": {
      "image/png": "[encoded data removed]",
      "text/plain": [
       "<Figure size 720x432 with 1 Axes>"
      ]
     },
     "metadata": {
      "image/png": {
       "height": 373,
       "width": 618
      },
      "needs_background": "light"
     },
     "output_type": "display_data"
    }
   ],
   "source": [
    "#지정한 데이터에 대한 이웃점 시각화\n",
    "#전체\n",
    "plt.scatter(X_train['fish_length'], X_train['fish_weight'])\n",
    "#특정 데이터\n",
    "plt.scatter(26.3,290.0, marker='^')\n",
    "#특정 데이터의 이웃\n",
    "plt.scatter(X_train.iloc[indexes.flatten(), 0], X_train.iloc[indexes.flatten(), 1])\n",
    "\n",
    "plt.xlabel('length - cm')\n",
    "plt.ylabel('weight - g')\n",
    "plt.show()"
   ]
  },
  {
   "cell_type": "markdown",
   "id": "ce908e16",
   "metadata": {},
   "source": [
    "#### 테스트에 없는 새로운 데이타로 테스트 \n"
   ]
  },
  {
   "cell_type": "code",
   "execution_count": 29,
   "id": "b57a24a3",
   "metadata": {},
   "outputs": [
    {
     "name": "stdout",
     "output_type": "stream",
     "text": [
      "[0.]\n"
     ]
    }
   ],
   "source": [
    "#도미로 예측되는 입력값을 예측 메서드 적용\n",
    "#빙어로 나옴\n",
    "print(model_kn.predict([[25, 150]]))"
   ]
  },
  {
   "cell_type": "code",
   "execution_count": 30,
   "id": "bbb9d87b",
   "metadata": {},
   "outputs": [
    {
     "data": {
      "image/png": "[encoded data removed]",
      "text/plain": [
       "<Figure size 720x432 with 1 Axes>"
      ]
     },
     "metadata": {
      "image/png": {
       "height": 373,
       "width": 618
      },
      "needs_background": "light"
     },
     "output_type": "display_data"
    }
   ],
   "source": [
    "#시각화\n",
    "plt.scatter(X_train['fish_length'], X_train['fish_weight'])\n",
    "\n",
    "#새로운 데이터\n",
    "plt.scatter(25, 150, marker='^')\n",
    "\n",
    "plt.xlabel('length - cm')\n",
    "plt.ylabel('weight - g')\n",
    "plt.show()"
   ]
  },
  {
   "cell_type": "code",
   "execution_count": 31,
   "id": "71f41d2f",
   "metadata": {},
   "outputs": [
    {
     "data": {
      "text/plain": [
       "(array([[ 92.00086956, 130.48375378, 130.73859415, 137.17988191,\n",
       "         140.62090883]]),\n",
       " array([[20, 37, 38, 33, 27]], dtype=int64))"
      ]
     },
     "execution_count": 31,
     "metadata": {},
     "output_type": "execute_result"
    }
   ],
   "source": [
    "#이웃 찾기\n",
    "distances, indexes = model_kn.kneighbors([[25, 150]])\n",
    "distances, indexes"
   ]
  },
  {
   "cell_type": "code",
   "execution_count": 32,
   "id": "ab0a8ef4",
   "metadata": {},
   "outputs": [
    {
     "name": "stdout",
     "output_type": "stream",
     "text": [
      "    fish_length  fish_weight\n",
      "0          25.4        242.0\n",
      "48         15.0         19.9\n",
      "47         14.3         19.7\n",
      "45         12.4         13.4\n",
      "41         11.8         10.0\n"
     ]
    }
   ],
   "source": [
    "#이웃의 인덱스 적용\n",
    "print(X_train.iloc[[20, 37, 38, 33, 27]])"
   ]
  },
  {
   "cell_type": "code",
   "execution_count": 33,
   "id": "20a2f1fa",
   "metadata": {},
   "outputs": [
    {
     "data": {
      "image/png": "[encoded data removed]",
      "text/plain": [
       "<Figure size 720x432 with 1 Axes>"
      ]
     },
     "metadata": {
      "image/png": {
       "height": 373,
       "width": 618
      },
      "needs_background": "light"
     },
     "output_type": "display_data"
    }
   ],
   "source": [
    "#전체\n",
    "plt.scatter(X_train['fish_length'], X_train['fish_weight'])\n",
    "\n",
    "#새로운 테스트용 데이터 (테스트 데이터에 없음)\n",
    "plt.scatter(25, 150, marker='^')\n",
    "\n",
    "#이웃의 데이터\n",
    "plt.scatter(X_train.iloc[indexes.flatten(), 0], X_train.iloc[indexes.flatten(), 1])\n",
    "# plt.scatter(X_train.iloc[20, 0], X_train.iloc[20, 1], marker='D', color='r')\n",
    "# plt.scatter(X_train.iloc[37, 0], X_train.iloc[37, 1], marker='D', color='r')\n",
    "# plt.scatter(X_train.iloc[38, 0], X_train.iloc[38, 1], marker='D', color='r')\n",
    "# plt.scatter(X_train.iloc[33, 0], X_train.iloc[33, 1], marker='D', color='r')\n",
    "# plt.scatter(X_train.iloc[27, 0], X_train.iloc[27, 1], marker='D', color='r')\n",
    "\n",
    "plt.xlabel('length')\n",
    "plt.ylabel('weight')\n",
    "plt.show()\n",
    "\n"
   ]
  },
  {
   "cell_type": "code",
   "execution_count": 34,
   "id": "9d72ba16",
   "metadata": {},
   "outputs": [
    {
     "name": "stdout",
     "output_type": "stream",
     "text": [
      "[[ 92.00086956 130.48375378 130.73859415 137.17988191 140.62090883]]\n"
     ]
    }
   ],
   "source": [
    "print(distances)"
   ]
  },
  {
   "cell_type": "markdown",
   "id": "7b609f2d",
   "metadata": {},
   "source": []
  },
  {
   "cell_type": "code",
   "execution_count": 35,
   "id": "90b9e95b",
   "metadata": {},
   "outputs": [
    {
     "name": "stdout",
     "output_type": "stream",
     "text": [
      "fish_length     27.671795\n",
      "fish_weight    475.112821\n",
      "dtype: float64 \n",
      "\n",
      "fish_length     10.379416\n",
      "fish_weight    338.837654\n",
      "dtype: float64\n"
     ]
    }
   ],
   "source": [
    "#스케일링\n",
    "#평균 및 표준편차\n",
    "mean = np.mean(X_train, axis=0)\n",
    "std = np.std(X_train, axis=0)\n",
    "print(mean, '\\n')\n",
    "print(std)"
   ]
  },
  {
   "cell_type": "code",
   "execution_count": 37,
   "id": "a3f905db",
   "metadata": {},
   "outputs": [
    {
     "data": {
      "text/html": [
       "<div>\n",
       "<style scoped>\n",
       "    .dataframe tbody tr th:only-of-type {\n",
       "        vertical-align: middle;\n",
       "    }\n",
       "\n",
       "    .dataframe tbody tr th {\n",
       "        vertical-align: top;\n",
       "    }\n",
       "\n",
       "    .dataframe thead th {\n",
       "        text-align: right;\n",
       "    }\n",
       "</style>\n",
       "<table border=\"1\" class=\"dataframe\">\n",
       "  <thead>\n",
       "    <tr style=\"text-align: right;\">\n",
       "      <th></th>\n",
       "      <th>fish_length</th>\n",
       "      <th>fish_weight</th>\n",
       "    </tr>\n",
       "  </thead>\n",
       "  <tbody>\n",
       "    <tr>\n",
       "      <th>count</th>\n",
       "      <td>39.000000</td>\n",
       "      <td>39.000000</td>\n",
       "    </tr>\n",
       "    <tr>\n",
       "      <th>mean</th>\n",
       "      <td>27.671795</td>\n",
       "      <td>475.112821</td>\n",
       "    </tr>\n",
       "    <tr>\n",
       "      <th>std</th>\n",
       "      <td>10.515101</td>\n",
       "      <td>343.267093</td>\n",
       "    </tr>\n",
       "    <tr>\n",
       "      <th>min</th>\n",
       "      <td>10.500000</td>\n",
       "      <td>7.000000</td>\n",
       "    </tr>\n",
       "    <tr>\n",
       "      <th>25%</th>\n",
       "      <td>14.650000</td>\n",
       "      <td>19.800000</td>\n",
       "    </tr>\n",
       "    <tr>\n",
       "      <th>50%</th>\n",
       "      <td>32.000000</td>\n",
       "      <td>575.000000</td>\n",
       "    </tr>\n",
       "    <tr>\n",
       "      <th>75%</th>\n",
       "      <td>35.000000</td>\n",
       "      <td>707.000000</td>\n",
       "    </tr>\n",
       "    <tr>\n",
       "      <th>max</th>\n",
       "      <td>41.000000</td>\n",
       "      <td>1000.000000</td>\n",
       "    </tr>\n",
       "  </tbody>\n",
       "</table>\n",
       "</div>"
      ],
      "text/plain": [
       "       fish_length  fish_weight\n",
       "count    39.000000    39.000000\n",
       "mean     27.671795   475.112821\n",
       "std      10.515101   343.267093\n",
       "min      10.500000     7.000000\n",
       "25%      14.650000    19.800000\n",
       "50%      32.000000   575.000000\n",
       "75%      35.000000   707.000000\n",
       "max      41.000000  1000.000000"
      ]
     },
     "execution_count": 37,
     "metadata": {},
     "output_type": "execute_result"
    }
   ],
   "source": [
    "X_train.describe()"
   ]
  },
  {
   "cell_type": "code",
   "execution_count": 38,
   "id": "2559b10a",
   "metadata": {},
   "outputs": [
    {
     "data": {
      "text/html": [
       "<div>\n",
       "<style scoped>\n",
       "    .dataframe tbody tr th:only-of-type {\n",
       "        vertical-align: middle;\n",
       "    }\n",
       "\n",
       "    .dataframe tbody tr th {\n",
       "        vertical-align: top;\n",
       "    }\n",
       "\n",
       "    .dataframe thead th {\n",
       "        text-align: right;\n",
       "    }\n",
       "</style>\n",
       "<table border=\"1\" class=\"dataframe\">\n",
       "  <thead>\n",
       "    <tr style=\"text-align: right;\">\n",
       "      <th></th>\n",
       "      <th>fish_length</th>\n",
       "      <th>fish_weight</th>\n",
       "    </tr>\n",
       "  </thead>\n",
       "  <tbody>\n",
       "    <tr>\n",
       "      <th>20</th>\n",
       "      <td>0.609688</td>\n",
       "      <td>0.294794</td>\n",
       "    </tr>\n",
       "    <tr>\n",
       "      <th>42</th>\n",
       "      <td>-1.529161</td>\n",
       "      <td>-1.372967</td>\n",
       "    </tr>\n",
       "    <tr>\n",
       "      <th>6</th>\n",
       "      <td>0.195406</td>\n",
       "      <td>0.073449</td>\n",
       "    </tr>\n",
       "  </tbody>\n",
       "</table>\n",
       "</div>"
      ],
      "text/plain": [
       "    fish_length  fish_weight\n",
       "20     0.609688     0.294794\n",
       "42    -1.529161    -1.372967\n",
       "6      0.195406     0.073449"
      ]
     },
     "execution_count": 38,
     "metadata": {},
     "output_type": "execute_result"
    }
   ],
   "source": [
    "#(데이터 - 평균) / 표준편차\n",
    "X_train_scaled = (X_train - mean) / std\n",
    "X_train_scaled.head(3)"
   ]
  },
  {
   "cell_type": "markdown",
   "id": "ace71371",
   "metadata": {},
   "source": [
    "## 전처리 데이터로 모델 훈련하기"
   ]
  },
  {
   "cell_type": "code",
   "execution_count": 39,
   "id": "044c733e",
   "metadata": {},
   "outputs": [
    {
     "data": {
      "text/plain": [
       "fish_length   -0.257413\n",
       "fish_weight   -0.959494\n",
       "dtype: float64"
      ]
     },
     "execution_count": 39,
     "metadata": {},
     "output_type": "execute_result"
    }
   ],
   "source": [
    "#테스트 데이터 스케일링\n",
    "new = ([25, 150] - mean) / std\n",
    "new"
   ]
  },
  {
   "cell_type": "code",
   "execution_count": 40,
   "id": "c8d34e01",
   "metadata": {},
   "outputs": [
    {
     "data": {
      "text/plain": [
       "KNeighborsClassifier()"
      ]
     },
     "execution_count": 40,
     "metadata": {},
     "output_type": "execute_result"
    }
   ],
   "source": [
    "#재학습\n",
    "model_kn.fit(X_train_scaled, y_train)"
   ]
  },
  {
   "cell_type": "code",
   "execution_count": 41,
   "id": "cf0642b5",
   "metadata": {},
   "outputs": [],
   "source": [
    "#테스트용 데이터 스케일링\n",
    "X_test_scaled = (X_test - mean) / std"
   ]
  },
  {
   "cell_type": "code",
   "execution_count": 42,
   "id": "f44ac503",
   "metadata": {},
   "outputs": [
    {
     "data": {
      "text/html": [
       "<div>\n",
       "<style scoped>\n",
       "    .dataframe tbody tr th:only-of-type {\n",
       "        vertical-align: middle;\n",
       "    }\n",
       "\n",
       "    .dataframe tbody tr th {\n",
       "        vertical-align: top;\n",
       "    }\n",
       "\n",
       "    .dataframe thead th {\n",
       "        text-align: right;\n",
       "    }\n",
       "</style>\n",
       "<table border=\"1\" class=\"dataframe\">\n",
       "  <thead>\n",
       "    <tr style=\"text-align: right;\">\n",
       "      <th></th>\n",
       "      <th>fish_length</th>\n",
       "      <th>fish_weight</th>\n",
       "    </tr>\n",
       "  </thead>\n",
       "  <tbody>\n",
       "    <tr>\n",
       "      <th>21</th>\n",
       "      <td>0.609688</td>\n",
       "      <td>0.619433</td>\n",
       "    </tr>\n",
       "    <tr>\n",
       "      <th>7</th>\n",
       "      <td>0.224310</td>\n",
       "      <td>-0.251191</td>\n",
       "    </tr>\n",
       "    <tr>\n",
       "      <th>10</th>\n",
       "      <td>0.320654</td>\n",
       "      <td>-0.000333</td>\n",
       "    </tr>\n",
       "  </tbody>\n",
       "</table>\n",
       "</div>"
      ],
      "text/plain": [
       "    fish_length  fish_weight\n",
       "21     0.609688     0.619433\n",
       "7      0.224310    -0.251191\n",
       "10     0.320654    -0.000333"
      ]
     },
     "execution_count": 42,
     "metadata": {},
     "output_type": "execute_result"
    }
   ],
   "source": [
    "X_test_scaled.sample(3)"
   ]
  },
  {
   "cell_type": "code",
   "execution_count": 43,
   "id": "7d406820",
   "metadata": {},
   "outputs": [
    {
     "data": {
      "text/plain": [
       "1.0"
      ]
     },
     "execution_count": 43,
     "metadata": {},
     "output_type": "execute_result"
    }
   ],
   "source": [
    "model_kn.score(X_test_scaled, y_test)"
   ]
  },
  {
   "cell_type": "code",
   "execution_count": 44,
   "id": "f241b943",
   "metadata": {},
   "outputs": [
    {
     "name": "stdout",
     "output_type": "stream",
     "text": [
      "[1.]\n"
     ]
    }
   ],
   "source": [
    "#스케일링 후의 결화\n",
    "#빙어 -> 도미\n",
    "print(model_kn.predict([new]))"
   ]
  },
  {
   "cell_type": "code",
   "execution_count": 45,
   "id": "51a533fe",
   "metadata": {},
   "outputs": [
    {
     "data": {
      "text/plain": [
       "(array([[0.27423776, 0.57906392, 0.73734587, 0.87707531, 1.00794545]]),\n",
       " array([[20, 21, 29,  9, 17]], dtype=int64))"
      ]
     },
     "execution_count": 45,
     "metadata": {},
     "output_type": "execute_result"
    }
   ],
   "source": [
    "#이웃 찾기\n",
    "distances, indexes = model_kn.kneighbors([new])\n",
    "distances, indexes "
   ]
  },
  {
   "cell_type": "code",
   "execution_count": null,
   "id": "0578cce0",
   "metadata": {},
   "outputs": [],
   "source": [
    "#스케일링 이전 : [[20, 37, 38, 33, 27]]\n",
    "#스케일링 이후 : [[20, 21, 29,  9, 17]]"
   ]
  },
  {
   "cell_type": "code",
   "execution_count": 46,
   "id": "9ed1f3a3",
   "metadata": {},
   "outputs": [
    {
     "data": {
      "text/plain": [
       "array([20, 21, 29,  9, 17], dtype=int64)"
      ]
     },
     "execution_count": 46,
     "metadata": {},
     "output_type": "execute_result"
    }
   ],
   "source": [
    "indexes.flatten()"
   ]
  },
  {
   "cell_type": "code",
   "execution_count": 47,
   "id": "31ca80e9",
   "metadata": {},
   "outputs": [
    {
     "data": {
      "text/html": [
       "<div>\n",
       "<style scoped>\n",
       "    .dataframe tbody tr th:only-of-type {\n",
       "        vertical-align: middle;\n",
       "    }\n",
       "\n",
       "    .dataframe tbody tr th {\n",
       "        vertical-align: top;\n",
       "    }\n",
       "\n",
       "    .dataframe thead th {\n",
       "        text-align: right;\n",
       "    }\n",
       "</style>\n",
       "<table border=\"1\" class=\"dataframe\">\n",
       "  <thead>\n",
       "    <tr style=\"text-align: right;\">\n",
       "      <th></th>\n",
       "      <th>fish_length</th>\n",
       "      <th>fish_weight</th>\n",
       "    </tr>\n",
       "  </thead>\n",
       "  <tbody>\n",
       "    <tr>\n",
       "      <th>0</th>\n",
       "      <td>-0.218875</td>\n",
       "      <td>-0.687978</td>\n",
       "    </tr>\n",
       "    <tr>\n",
       "      <th>2</th>\n",
       "      <td>-0.112896</td>\n",
       "      <td>-0.398754</td>\n",
       "    </tr>\n",
       "    <tr>\n",
       "      <th>3</th>\n",
       "      <td>0.127965</td>\n",
       "      <td>-0.330875</td>\n",
       "    </tr>\n",
       "    <tr>\n",
       "      <th>13</th>\n",
       "      <td>0.416999</td>\n",
       "      <td>-0.398754</td>\n",
       "    </tr>\n",
       "    <tr>\n",
       "      <th>8</th>\n",
       "      <td>0.224310</td>\n",
       "      <td>-0.074115</td>\n",
       "    </tr>\n",
       "  </tbody>\n",
       "</table>\n",
       "</div>"
      ],
      "text/plain": [
       "    fish_length  fish_weight\n",
       "0     -0.218875    -0.687978\n",
       "2     -0.112896    -0.398754\n",
       "3      0.127965    -0.330875\n",
       "13     0.416999    -0.398754\n",
       "8      0.224310    -0.074115"
      ]
     },
     "execution_count": 47,
     "metadata": {},
     "output_type": "execute_result"
    }
   ],
   "source": [
    "X_train_scaled.iloc[indexes.flatten()]"
   ]
  },
  {
   "cell_type": "code",
   "execution_count": 49,
   "id": "4823fd96",
   "metadata": {},
   "outputs": [
    {
     "data": {
      "text/plain": [
       "fish_length   -0.257413\n",
       "fish_weight   -0.959494\n",
       "dtype: float64"
      ]
     },
     "execution_count": 49,
     "metadata": {},
     "output_type": "execute_result"
    }
   ],
   "source": [
    "type(new)\n",
    "new"
   ]
  },
  {
   "cell_type": "code",
   "execution_count": 48,
   "id": "baee394c",
   "metadata": {},
   "outputs": [
    {
     "data": {
      "image/png": "[encoded data removed]",
      "text/plain": [
       "<Figure size 720x432 with 1 Axes>"
      ]
     },
     "metadata": {
      "image/png": {
       "height": 373,
       "width": 613
      },
      "needs_background": "light"
     },
     "output_type": "display_data"
    }
   ],
   "source": [
    "#스케일링 후 시각화 [25, 150]\n",
    "plt.scatter(X_train_scaled['fish_length'], X_train_scaled['fish_weight'])\n",
    "plt.scatter(new[0], new[1], marker='^')\n",
    "\n",
    "#이웃\n",
    "plt.scatter(X_train_scaled.iloc[indexes.flatten(), 0], X_train_scaled.iloc[indexes.flatten(), 1], marker='D', color='r')\n",
    "\n",
    "plt.xlabel('length')\n",
    "plt.ylabel('weight')\n",
    "plt.show()"
   ]
  },
  {
   "cell_type": "code",
   "execution_count": 50,
   "id": "08ef35a1",
   "metadata": {
    "scrolled": true
   },
   "outputs": [
    {
     "name": "stdout",
     "output_type": "stream",
     "text": [
      "0     1.0\n",
      "2     1.0\n",
      "3     1.0\n",
      "13    1.0\n",
      "8     1.0\n",
      "Name: label, dtype: float64\n"
     ]
    }
   ],
   "source": [
    "#이웃의 라벨값\n",
    "print(y_train.iloc[indexes.flatten()])"
   ]
  },
  {
   "cell_type": "code",
   "execution_count": null,
   "id": "18ae14a5",
   "metadata": {},
   "outputs": [],
   "source": []
  },
  {
   "cell_type": "markdown",
   "id": "a839cbde",
   "metadata": {},
   "source": [
    "# ** skitlearn의 이용 - 스케일링 **"
   ]
  },
  {
   "cell_type": "markdown",
   "id": "37bc273e",
   "metadata": {},
   "source": [
    "### StandardScaler \n",
    "- 평균이 0이고 분산이 1인 정규분포 형태로 변환\n",
    "\n",
    "```\n",
    "from sklearn.preprocessing import StandardScaler\n",
    "\n",
    "scaler = StandardScaler()\n",
    "scaler.fit(Data)\n",
    "Data_scaled = scaler.transform(Data)\n",
    "```\n",
    "\n",
    "### MinMaxScaler\n",
    "\n",
    "- 데이타값을 0과 1 사이의 범위값으로 변환한다. 음수값이 있으면 -1에서 1값으로 변환한다 \n",
    "\n",
    "```\n",
    "from sklearn.preprocessing import MinMaxScaler\n",
    "\n",
    "scaler = MinMaxScaler()\n",
    "scaler.fit(Data)\n",
    "Data_scaled = scaler.transform(Data)\n",
    "```\n",
    "\n"
   ]
  },
  {
   "cell_type": "markdown",
   "id": "60988ba0",
   "metadata": {},
   "source": [
    "## iris 붓꽃 데이타셋으로 스케일링 실습"
   ]
  },
  {
   "cell_type": "code",
   "execution_count": 51,
   "id": "078b7d6a",
   "metadata": {},
   "outputs": [
    {
     "data": {
      "text/html": [
       "<div>\n",
       "<style scoped>\n",
       "    .dataframe tbody tr th:only-of-type {\n",
       "        vertical-align: middle;\n",
       "    }\n",
       "\n",
       "    .dataframe tbody tr th {\n",
       "        vertical-align: top;\n",
       "    }\n",
       "\n",
       "    .dataframe thead th {\n",
       "        text-align: right;\n",
       "    }\n",
       "</style>\n",
       "<table border=\"1\" class=\"dataframe\">\n",
       "  <thead>\n",
       "    <tr style=\"text-align: right;\">\n",
       "      <th></th>\n",
       "      <th>sepal length (cm)</th>\n",
       "      <th>sepal width (cm)</th>\n",
       "      <th>petal length (cm)</th>\n",
       "      <th>petal width (cm)</th>\n",
       "    </tr>\n",
       "  </thead>\n",
       "  <tbody>\n",
       "    <tr>\n",
       "      <th>0</th>\n",
       "      <td>5.1</td>\n",
       "      <td>3.5</td>\n",
       "      <td>1.4</td>\n",
       "      <td>0.2</td>\n",
       "    </tr>\n",
       "    <tr>\n",
       "      <th>1</th>\n",
       "      <td>4.9</td>\n",
       "      <td>3.0</td>\n",
       "      <td>1.4</td>\n",
       "      <td>0.2</td>\n",
       "    </tr>\n",
       "    <tr>\n",
       "      <th>2</th>\n",
       "      <td>4.7</td>\n",
       "      <td>3.2</td>\n",
       "      <td>1.3</td>\n",
       "      <td>0.2</td>\n",
       "    </tr>\n",
       "    <tr>\n",
       "      <th>3</th>\n",
       "      <td>4.6</td>\n",
       "      <td>3.1</td>\n",
       "      <td>1.5</td>\n",
       "      <td>0.2</td>\n",
       "    </tr>\n",
       "    <tr>\n",
       "      <th>4</th>\n",
       "      <td>5.0</td>\n",
       "      <td>3.6</td>\n",
       "      <td>1.4</td>\n",
       "      <td>0.2</td>\n",
       "    </tr>\n",
       "  </tbody>\n",
       "</table>\n",
       "</div>"
      ],
      "text/plain": [
       "   sepal length (cm)  sepal width (cm)  petal length (cm)  petal width (cm)\n",
       "0                5.1               3.5                1.4               0.2\n",
       "1                4.9               3.0                1.4               0.2\n",
       "2                4.7               3.2                1.3               0.2\n",
       "3                4.6               3.1                1.5               0.2\n",
       "4                5.0               3.6                1.4               0.2"
      ]
     },
     "execution_count": 51,
     "metadata": {},
     "output_type": "execute_result"
    }
   ],
   "source": [
    "#붓꽃 데이터셋 -> 데이터프레임\n",
    "from sklearn.datasets import load_iris\n",
    "\n",
    "iris = load_iris()\n",
    "iris_data = iris.data\n",
    "iris_df = pd.DataFrame(data=iris_data, columns=iris.feature_names)\n",
    "iris_df.head()"
   ]
  },
  {
   "cell_type": "code",
   "execution_count": 53,
   "id": "59ecc0a2",
   "metadata": {},
   "outputs": [
    {
     "data": {
      "text/plain": [
       "numpy.ndarray"
      ]
     },
     "execution_count": 53,
     "metadata": {},
     "output_type": "execute_result"
    }
   ],
   "source": [
    "#스케일링\n",
    "from sklearn.preprocessing import StandardScaler\n",
    "\n",
    "#스케일러 객체 생성\n",
    "scaler = StandardScaler()\n",
    "\n",
    "#스케일러에 데이터 입력\n",
    "scaler.fit(iris_df)\n",
    "\n",
    "#transform() 메서드를 이용해 스케일된 데이터를 별도 변수에 저장\n",
    "#데이터프레임 -> 넘파이 배열\n",
    "iris_scaled = scaler.transform(iris_df)\n",
    "\n",
    "type(iris_scaled)\n",
    "\n",
    "# 아래는 에러 발생 => 넘파이 배열이 됐기에 head 출력 불가\n",
    "# iris_scaled.head()"
   ]
  },
  {
   "cell_type": "code",
   "execution_count": 55,
   "id": "965fd79a",
   "metadata": {},
   "outputs": [
    {
     "name": "stdout",
     "output_type": "stream",
     "text": [
      "feature 들의 평균 값\n",
      "sepal length (cm)   -1.690315e-15\n",
      "sepal width (cm)    -1.842970e-15\n",
      "petal length (cm)   -1.698641e-15\n",
      "petal width (cm)    -1.409243e-15\n",
      "dtype: float64\n",
      "\n",
      "feature 들의 분산 값\n",
      "sepal length (cm)    1.006711\n",
      "sepal width (cm)     1.006711\n",
      "petal length (cm)    1.006711\n",
      "petal width (cm)     1.006711\n",
      "dtype: float64\n"
     ]
    },
    {
     "data": {
      "text/html": [
       "<div>\n",
       "<style scoped>\n",
       "    .dataframe tbody tr th:only-of-type {\n",
       "        vertical-align: middle;\n",
       "    }\n",
       "\n",
       "    .dataframe tbody tr th {\n",
       "        vertical-align: top;\n",
       "    }\n",
       "\n",
       "    .dataframe thead th {\n",
       "        text-align: right;\n",
       "    }\n",
       "</style>\n",
       "<table border=\"1\" class=\"dataframe\">\n",
       "  <thead>\n",
       "    <tr style=\"text-align: right;\">\n",
       "      <th></th>\n",
       "      <th>sepal length (cm)</th>\n",
       "      <th>sepal width (cm)</th>\n",
       "      <th>petal length (cm)</th>\n",
       "      <th>petal width (cm)</th>\n",
       "    </tr>\n",
       "  </thead>\n",
       "  <tbody>\n",
       "    <tr>\n",
       "      <th>0</th>\n",
       "      <td>-0.900681</td>\n",
       "      <td>1.019004</td>\n",
       "      <td>-1.340227</td>\n",
       "      <td>-1.315444</td>\n",
       "    </tr>\n",
       "    <tr>\n",
       "      <th>1</th>\n",
       "      <td>-1.143017</td>\n",
       "      <td>-0.131979</td>\n",
       "      <td>-1.340227</td>\n",
       "      <td>-1.315444</td>\n",
       "    </tr>\n",
       "    <tr>\n",
       "      <th>2</th>\n",
       "      <td>-1.385353</td>\n",
       "      <td>0.328414</td>\n",
       "      <td>-1.397064</td>\n",
       "      <td>-1.315444</td>\n",
       "    </tr>\n",
       "    <tr>\n",
       "      <th>3</th>\n",
       "      <td>-1.506521</td>\n",
       "      <td>0.098217</td>\n",
       "      <td>-1.283389</td>\n",
       "      <td>-1.315444</td>\n",
       "    </tr>\n",
       "    <tr>\n",
       "      <th>4</th>\n",
       "      <td>-1.021849</td>\n",
       "      <td>1.249201</td>\n",
       "      <td>-1.340227</td>\n",
       "      <td>-1.315444</td>\n",
       "    </tr>\n",
       "  </tbody>\n",
       "</table>\n",
       "</div>"
      ],
      "text/plain": [
       "   sepal length (cm)  sepal width (cm)  petal length (cm)  petal width (cm)\n",
       "0          -0.900681          1.019004          -1.340227         -1.315444\n",
       "1          -1.143017         -0.131979          -1.340227         -1.315444\n",
       "2          -1.385353          0.328414          -1.397064         -1.315444\n",
       "3          -1.506521          0.098217          -1.283389         -1.315444\n",
       "4          -1.021849          1.249201          -1.340227         -1.315444"
      ]
     },
     "execution_count": 55,
     "metadata": {},
     "output_type": "execute_result"
    }
   ],
   "source": [
    "#데이터프레임 형태로 변형\n",
    "iris_df_scaled = pd.DataFrame(data=iris_scaled, columns=iris.feature_names)\n",
    "print('feature 들의 평균 값')\n",
    "print(iris_df_scaled.mean())\n",
    "print('\\nfeature 들의 분산 값')\n",
    "print(iris_df_scaled.var())\n",
    "\n",
    "iris_df_scaled.head(5)"
   ]
  },
  {
   "cell_type": "code",
   "execution_count": 56,
   "id": "a9b2f3a4",
   "metadata": {},
   "outputs": [
    {
     "name": "stdout",
     "output_type": "stream",
     "text": [
      "iris target값: [0 0 0 0 0 0 0 0 0 0 0 0 0 0 0 0 0 0 0 0 0 0 0 0 0 0 0 0 0 0 0 0 0 0 0 0 0\n",
      " 0 0 0 0 0 0 0 0 0 0 0 0 0 1 1 1 1 1 1 1 1 1 1 1 1 1 1 1 1 1 1 1 1 1 1 1 1\n",
      " 1 1 1 1 1 1 1 1 1 1 1 1 1 1 1 1 1 1 1 1 1 1 1 1 1 1 2 2 2 2 2 2 2 2 2 2 2\n",
      " 2 2 2 2 2 2 2 2 2 2 2 2 2 2 2 2 2 2 2 2 2 2 2 2 2 2 2 2 2 2 2 2 2 2 2 2 2\n",
      " 2 2]\n",
      "iris target명: ['setosa' 'versicolor' 'virginica']\n"
     ]
    }
   ],
   "source": [
    "#y 타겟값 생성\n",
    "iris_label = iris.target\n",
    "print('iris target값:', iris_label)\n",
    "print('iris target명:', iris.target_names)"
   ]
  },
  {
   "cell_type": "code",
   "execution_count": 57,
   "id": "751401a8",
   "metadata": {},
   "outputs": [],
   "source": [
    "#X 데이터 -> 스케일링된 데이터프레임\n",
    "#y 타겟 -> 넘파이 배열\n",
    "X_train, X_test, y_train, y_test = train_test_split(iris_df_scaled, iris_label, \n",
    "                                                    test_size=0.2, random_state=11)"
   ]
  },
  {
   "cell_type": "code",
   "execution_count": 58,
   "id": "7aad7aba",
   "metadata": {},
   "outputs": [
    {
     "data": {
      "text/plain": [
       "(120, 30)"
      ]
     },
     "execution_count": 58,
     "metadata": {},
     "output_type": "execute_result"
    }
   ],
   "source": [
    "len(X_train), len(X_test)"
   ]
  },
  {
   "cell_type": "code",
   "execution_count": 59,
   "id": "beb64aa8",
   "metadata": {},
   "outputs": [
    {
     "data": {
      "text/html": [
       "<div>\n",
       "<style scoped>\n",
       "    .dataframe tbody tr th:only-of-type {\n",
       "        vertical-align: middle;\n",
       "    }\n",
       "\n",
       "    .dataframe tbody tr th {\n",
       "        vertical-align: top;\n",
       "    }\n",
       "\n",
       "    .dataframe thead th {\n",
       "        text-align: right;\n",
       "    }\n",
       "</style>\n",
       "<table border=\"1\" class=\"dataframe\">\n",
       "  <thead>\n",
       "    <tr style=\"text-align: right;\">\n",
       "      <th></th>\n",
       "      <th>sepal length (cm)</th>\n",
       "      <th>sepal width (cm)</th>\n",
       "      <th>petal length (cm)</th>\n",
       "      <th>petal width (cm)</th>\n",
       "    </tr>\n",
       "  </thead>\n",
       "  <tbody>\n",
       "    <tr>\n",
       "      <th>0</th>\n",
       "      <td>-0.900681</td>\n",
       "      <td>1.019004</td>\n",
       "      <td>-1.340227</td>\n",
       "      <td>-1.315444</td>\n",
       "    </tr>\n",
       "    <tr>\n",
       "      <th>120</th>\n",
       "      <td>1.280340</td>\n",
       "      <td>0.328414</td>\n",
       "      <td>1.103783</td>\n",
       "      <td>1.448832</td>\n",
       "    </tr>\n",
       "    <tr>\n",
       "      <th>122</th>\n",
       "      <td>2.249683</td>\n",
       "      <td>-0.592373</td>\n",
       "      <td>1.672157</td>\n",
       "      <td>1.053935</td>\n",
       "    </tr>\n",
       "  </tbody>\n",
       "</table>\n",
       "</div>"
      ],
      "text/plain": [
       "     sepal length (cm)  sepal width (cm)  petal length (cm)  petal width (cm)\n",
       "0            -0.900681          1.019004          -1.340227         -1.315444\n",
       "120           1.280340          0.328414           1.103783          1.448832\n",
       "122           2.249683         -0.592373           1.672157          1.053935"
      ]
     },
     "execution_count": 59,
     "metadata": {},
     "output_type": "execute_result"
    }
   ],
   "source": [
    "X_train[:3]"
   ]
  },
  {
   "cell_type": "code",
   "execution_count": 60,
   "id": "9540e1fc",
   "metadata": {},
   "outputs": [
    {
     "data": {
      "text/plain": [
       "KNeighborsClassifier()"
      ]
     },
     "execution_count": 60,
     "metadata": {},
     "output_type": "execute_result"
    }
   ],
   "source": [
    "#학습기 선정해서 학습\n",
    "model_kn = KNeighborsClassifier()\n",
    "#model_kn = KNeighborsClassifier(n_neighbors=7)\n",
    "#이웃값 홀수 단위로 변경 가능\n",
    "\n",
    "model_kn.fit(X_train, y_train)"
   ]
  },
  {
   "cell_type": "code",
   "execution_count": 61,
   "id": "bea098e3",
   "metadata": {},
   "outputs": [
    {
     "data": {
      "text/plain": [
       "{'algorithm': 'auto',\n",
       " 'leaf_size': 30,\n",
       " 'metric': 'minkowski',\n",
       " 'metric_params': None,\n",
       " 'n_jobs': None,\n",
       " 'n_neighbors': 5,\n",
       " 'p': 2,\n",
       " 'weights': 'uniform'}"
      ]
     },
     "execution_count": 61,
     "metadata": {},
     "output_type": "execute_result"
    }
   ],
   "source": [
    "model_kn.get_params()"
   ]
  },
  {
   "cell_type": "code",
   "execution_count": 62,
   "id": "4646c288",
   "metadata": {},
   "outputs": [
    {
     "data": {
      "text/plain": [
       "(0.9666666666666667, 0.9333333333333333)"
      ]
     },
     "execution_count": 62,
     "metadata": {},
     "output_type": "execute_result"
    }
   ],
   "source": [
    "#평가\n",
    "#train 데이터라 하더라도 꼭 1이 나오진 않음 (모의고사 개념)\n",
    "model_kn.score(X_train, y_train), model_kn.score(X_test, y_test)"
   ]
  },
  {
   "cell_type": "code",
   "execution_count": 63,
   "id": "8f119630",
   "metadata": {},
   "outputs": [
    {
     "data": {
      "text/plain": [
       "array([2, 2, 1, 1, 2, 0, 1, 0, 0, 1, 1, 1, 1, 2, 2, 0, 2, 1, 2, 2, 1, 0,\n",
       "       0, 1, 0, 0, 2, 1, 0, 1])"
      ]
     },
     "execution_count": 63,
     "metadata": {},
     "output_type": "execute_result"
    }
   ],
   "source": [
    "model_kn.predict(X_test)"
   ]
  },
  {
   "cell_type": "code",
   "execution_count": 64,
   "id": "6461a19b",
   "metadata": {},
   "outputs": [
    {
     "data": {
      "text/plain": [
       "array([2, 2, 2, 1, 2, 0, 1, 0, 0, 1, 2, 1, 1, 2, 2, 0, 2, 1, 2, 2, 1, 0,\n",
       "       0, 1, 0, 0, 2, 1, 0, 1])"
      ]
     },
     "execution_count": 64,
     "metadata": {},
     "output_type": "execute_result"
    }
   ],
   "source": [
    "y_test"
   ]
  },
  {
   "cell_type": "code",
   "execution_count": 65,
   "id": "7cc60fb7",
   "metadata": {},
   "outputs": [
    {
     "name": "stdout",
     "output_type": "stream",
     "text": [
      "예측 정확도: 0.9333\n"
     ]
    }
   ],
   "source": [
    "from sklearn.metrics import accuracy_score\n",
    "print('예측 정확도: {0:.4f}'.format(accuracy_score(y_test, model_kn.predict(X_test))))"
   ]
  },
  {
   "cell_type": "code",
   "execution_count": null,
   "id": "dd74fb0c",
   "metadata": {},
   "outputs": [],
   "source": []
  },
  {
   "cell_type": "code",
   "execution_count": null,
   "id": "d1a3c6b6",
   "metadata": {},
   "outputs": [],
   "source": []
  },
  {
   "cell_type": "markdown",
   "id": "bac6010d",
   "metadata": {},
   "source": [
    "## MinMaxScaler 적용하면 차이가 있을까?\n",
    "\n",
    "데이타값을 0과 1 사이의 범위값으로 변환한다. 음수값이 있으면 -1에서 1값으로 변환한다 "
   ]
  },
  {
   "cell_type": "code",
   "execution_count": 66,
   "id": "3b35bc86",
   "metadata": {},
   "outputs": [],
   "source": [
    "from sklearn.preprocessing import MinMaxScaler"
   ]
  },
  {
   "cell_type": "code",
   "execution_count": 67,
   "id": "9af03287",
   "metadata": {
    "scrolled": true
   },
   "outputs": [
    {
     "name": "stdout",
     "output_type": "stream",
     "text": [
      "feature들의 최소 값\n",
      "sepal length (cm)    4.3\n",
      "sepal width (cm)     2.0\n",
      "petal length (cm)    1.0\n",
      "petal width (cm)     0.1\n",
      "dtype: float64\n",
      "\n",
      "feature들의 최대 값\n",
      "sepal length (cm)    7.9\n",
      "sepal width (cm)     4.4\n",
      "petal length (cm)    6.9\n",
      "petal width (cm)     2.5\n",
      "dtype: float64\n",
      "\n",
      "\n",
      "\n",
      "feature들의 최소 값\n",
      "sepal length (cm)    0.0\n",
      "sepal width (cm)     0.0\n",
      "petal length (cm)    0.0\n",
      "petal width (cm)     0.0\n",
      "dtype: float64\n",
      "\n",
      "feature들의 최대 값\n",
      "sepal length (cm)    1.0\n",
      "sepal width (cm)     1.0\n",
      "petal length (cm)    1.0\n",
      "petal width (cm)     1.0\n",
      "dtype: float64\n"
     ]
    }
   ],
   "source": [
    "#데이터셋 생성\n",
    "iris = load_iris()\n",
    "iris_data = iris.data\n",
    "iris_df = pd.DataFrame(data=iris_data, columns=iris.feature_names)\n",
    "\n",
    "print('feature들의 최소 값')\n",
    "print(iris_df.min())\n",
    "print('\\nfeature들의 최대 값')\n",
    "print(iris_df.max())\n",
    "print('\\n'*2)\n",
    "\n",
    "#스케일러 객체 생성\n",
    "scaler = MinMaxScaler()\n",
    "#데이터 입력\n",
    "scaler.fit(iris_df)\n",
    "#변형된 데이터를 변수에 저장 -> 넘파이 배열\n",
    "iris_scaled2 = scaler.transform(iris_df)\n",
    "\n",
    "#데이터프레임화\n",
    "iris_df_scaled2 = pd.DataFrame(data=iris_scaled2, columns=iris.feature_names)\n",
    "print('feature들의 최소 값')\n",
    "print(iris_df_scaled2.min())\n",
    "print('\\nfeature들의 최대 값')\n",
    "print(iris_df_scaled2.max())\n"
   ]
  },
  {
   "cell_type": "code",
   "execution_count": 68,
   "id": "e18941c4",
   "metadata": {},
   "outputs": [
    {
     "data": {
      "text/html": [
       "<div>\n",
       "<style scoped>\n",
       "    .dataframe tbody tr th:only-of-type {\n",
       "        vertical-align: middle;\n",
       "    }\n",
       "\n",
       "    .dataframe tbody tr th {\n",
       "        vertical-align: top;\n",
       "    }\n",
       "\n",
       "    .dataframe thead th {\n",
       "        text-align: right;\n",
       "    }\n",
       "</style>\n",
       "<table border=\"1\" class=\"dataframe\">\n",
       "  <thead>\n",
       "    <tr style=\"text-align: right;\">\n",
       "      <th></th>\n",
       "      <th>sepal length (cm)</th>\n",
       "      <th>sepal width (cm)</th>\n",
       "      <th>petal length (cm)</th>\n",
       "      <th>petal width (cm)</th>\n",
       "    </tr>\n",
       "  </thead>\n",
       "  <tbody>\n",
       "    <tr>\n",
       "      <th>0</th>\n",
       "      <td>-0.900681</td>\n",
       "      <td>1.019004</td>\n",
       "      <td>-1.340227</td>\n",
       "      <td>-1.315444</td>\n",
       "    </tr>\n",
       "    <tr>\n",
       "      <th>1</th>\n",
       "      <td>-1.143017</td>\n",
       "      <td>-0.131979</td>\n",
       "      <td>-1.340227</td>\n",
       "      <td>-1.315444</td>\n",
       "    </tr>\n",
       "    <tr>\n",
       "      <th>2</th>\n",
       "      <td>-1.385353</td>\n",
       "      <td>0.328414</td>\n",
       "      <td>-1.397064</td>\n",
       "      <td>-1.315444</td>\n",
       "    </tr>\n",
       "    <tr>\n",
       "      <th>3</th>\n",
       "      <td>-1.506521</td>\n",
       "      <td>0.098217</td>\n",
       "      <td>-1.283389</td>\n",
       "      <td>-1.315444</td>\n",
       "    </tr>\n",
       "    <tr>\n",
       "      <th>4</th>\n",
       "      <td>-1.021849</td>\n",
       "      <td>1.249201</td>\n",
       "      <td>-1.340227</td>\n",
       "      <td>-1.315444</td>\n",
       "    </tr>\n",
       "  </tbody>\n",
       "</table>\n",
       "</div>"
      ],
      "text/plain": [
       "   sepal length (cm)  sepal width (cm)  petal length (cm)  petal width (cm)\n",
       "0          -0.900681          1.019004          -1.340227         -1.315444\n",
       "1          -1.143017         -0.131979          -1.340227         -1.315444\n",
       "2          -1.385353          0.328414          -1.397064         -1.315444\n",
       "3          -1.506521          0.098217          -1.283389         -1.315444\n",
       "4          -1.021849          1.249201          -1.340227         -1.315444"
      ]
     },
     "execution_count": 68,
     "metadata": {},
     "output_type": "execute_result"
    }
   ],
   "source": [
    "iris_df_scaled.head(5)"
   ]
  },
  {
   "cell_type": "code",
   "execution_count": 70,
   "id": "a2352715",
   "metadata": {},
   "outputs": [],
   "source": [
    "#y 라벨 생성\n",
    "iris_label = iris.target\n",
    "\n",
    "#학습 데이터와 테스트 데이터 분리\n",
    "X_train, X_test, y_train, y_test = train_test_split(iris_df_scaled2, iris_label, \n",
    "                                                    test_size=0.2, random_state=11)"
   ]
  },
  {
   "cell_type": "code",
   "execution_count": 71,
   "id": "347148e9",
   "metadata": {},
   "outputs": [
    {
     "data": {
      "text/plain": [
       "KNeighborsClassifier()"
      ]
     },
     "execution_count": 71,
     "metadata": {},
     "output_type": "execute_result"
    }
   ],
   "source": [
    "#학습기에 학습시킴\n",
    "model_kn = KNeighborsClassifier()\n",
    "\n",
    "model_kn.fit(X_train, y_train)"
   ]
  },
  {
   "cell_type": "code",
   "execution_count": null,
   "id": "9b6eb265",
   "metadata": {},
   "outputs": [],
   "source": [
    "# StandardScaler() 적용시 값 \n",
    "# 0.9666666666666667, 0.9333333333333333"
   ]
  },
  {
   "cell_type": "code",
   "execution_count": 72,
   "id": "1e817643",
   "metadata": {},
   "outputs": [
    {
     "data": {
      "text/plain": [
       "(0.975, 0.9333333333333333)"
      ]
     },
     "execution_count": 72,
     "metadata": {},
     "output_type": "execute_result"
    }
   ],
   "source": [
    "# MinMaxScaler() 적용시 값 \n",
    "#0.975, 0.9333333333333333\n",
    "model_kn.score(X_train, y_train), model_kn.score(X_test, y_test)"
   ]
  },
  {
   "cell_type": "code",
   "execution_count": 73,
   "id": "a6de46b8",
   "metadata": {},
   "outputs": [
    {
     "data": {
      "text/plain": [
       "2"
      ]
     },
     "execution_count": 73,
     "metadata": {},
     "output_type": "execute_result"
    }
   ],
   "source": [
    "#틀린 갯수\n",
    "len(y_test[y_test != model_kn.predict(X_test)])"
   ]
  },
  {
   "cell_type": "code",
   "execution_count": null,
   "id": "38647966",
   "metadata": {},
   "outputs": [],
   "source": []
  },
  {
   "cell_type": "markdown",
   "id": "15d099cc",
   "metadata": {},
   "source": [
    "## 스케일링 변환시 주의 사항 \n",
    "\n",
    "- 가능하다면 전체 데이터의 스케일링 변환을 적용한 뒤 학습과 테스트 데이터로 분리한다. \n",
    "- 1이 여의치 않다면 테스트 데이터 변환시에는 fit()을 적용하지 않고 \n",
    "<br>학습 데이터로 이미 fit()된 Scaler 객체를 이용해 transform() 으로 변경한다. "
   ]
  },
  {
   "cell_type": "code",
   "execution_count": 78,
   "id": "0d63f3a3",
   "metadata": {},
   "outputs": [
    {
     "name": "stdout",
     "output_type": "stream",
     "text": [
      "[[ 0]\n",
      " [ 1]\n",
      " [ 2]\n",
      " [ 3]\n",
      " [ 4]\n",
      " [ 5]\n",
      " [ 6]\n",
      " [ 7]\n",
      " [ 8]\n",
      " [ 9]\n",
      " [10]]\n",
      "\n",
      "[[0]\n",
      " [1]\n",
      " [2]\n",
      " [3]\n",
      " [4]\n",
      " [5]]\n",
      "\n",
      "2 2\n",
      "\n",
      "(11, 1) (6, 1)\n"
     ]
    }
   ],
   "source": [
    "train_array = np.arange(0, 11).reshape(-1, 1)\n",
    "test_array = np.arange(0, 6).reshape(-1, 1)\n",
    "\n",
    "print(train_array)\n",
    "print()\n",
    "print(test_array)\n",
    "print()\n",
    "print(train_array.ndim, test_array.ndim)\n",
    "print()\n",
    "print(train_array.shape, test_array.shape)"
   ]
  },
  {
   "cell_type": "code",
   "execution_count": 80,
   "id": "143913bd",
   "metadata": {},
   "outputs": [
    {
     "name": "stdout",
     "output_type": "stream",
     "text": [
      "[[0. ]\n",
      " [0.1]\n",
      " [0.2]\n",
      " [0.3]\n",
      " [0.4]\n",
      " [0.5]\n",
      " [0.6]\n",
      " [0.7]\n",
      " [0.8]\n",
      " [0.9]\n",
      " [1. ]]\n",
      "==================================================\n",
      "[[0. ]\n",
      " [0.1]\n",
      " [0.2]\n",
      " [0.3]\n",
      " [0.4]\n",
      " [0.5]]\n",
      "==================================================\n"
     ]
    }
   ],
   "source": [
    "#스케일러 생성\n",
    "scaler = MinMaxScaler()\n",
    "#입력 데이터로 스케일링\n",
    "scaler.fit(train_array)\n",
    "\n",
    "#변환 데이터를 변수에 저장\n",
    "train_scaled = scaler.transform(train_array)\n",
    "print(train_scaled)\n",
    "print('='*50)\n",
    "\n",
    "#fit() 대신 transform() 적용\n",
    "#scaler.fit(test_array)\n",
    "test_scaled1 = scaler.transform(test_array)\n",
    "print(test_scaled1)\n",
    "print('='*50)"
   ]
  },
  {
   "cell_type": "raw",
   "id": "0bf3ffea",
   "metadata": {},
   "source": [
    "\n",
    "\n",
    "\n"
   ]
  },
  {
   "cell_type": "markdown",
   "id": "1a199d1d",
   "metadata": {},
   "source": [
    "# 퀴즈 : 도미와  빙어 분류 : 스케일링 활용\n",
    "\n",
    "1) 아래의 데이타셋을 이용하여 사이킷런에서 제공되어지는 스케일러 StandardScaler() 를 이용하여 데이타 전처리 후 모델을 생성하여라 \n",
    "\n",
    "  : 훈련데이타 세트와 테스트 데이타세트 분리시 test_size=0.2, random_state=11\n",
    "  \n",
    "  : 모델은 KNeighborsClassifier()를 이용한다\n",
    "\n",
    "2) 새로운 데이타 (25, 150)와 (9.5 , 6.2)는 도미일까 빙어일까? (도미는 1, 빙어는 0)"
   ]
  },
  {
   "cell_type": "code",
   "execution_count": 115,
   "id": "57b316e4",
   "metadata": {},
   "outputs": [
    {
     "data": {
      "text/html": [
       "<div>\n",
       "<style scoped>\n",
       "    .dataframe tbody tr th:only-of-type {\n",
       "        vertical-align: middle;\n",
       "    }\n",
       "\n",
       "    .dataframe tbody tr th {\n",
       "        vertical-align: top;\n",
       "    }\n",
       "\n",
       "    .dataframe thead th {\n",
       "        text-align: right;\n",
       "    }\n",
       "</style>\n",
       "<table border=\"1\" class=\"dataframe\">\n",
       "  <thead>\n",
       "    <tr style=\"text-align: right;\">\n",
       "      <th></th>\n",
       "      <th>fish_length</th>\n",
       "      <th>fish_weight</th>\n",
       "      <th>label</th>\n",
       "    </tr>\n",
       "  </thead>\n",
       "  <tbody>\n",
       "    <tr>\n",
       "      <th>17</th>\n",
       "      <td>33.0</td>\n",
       "      <td>700.0</td>\n",
       "      <td>1.0</td>\n",
       "    </tr>\n",
       "    <tr>\n",
       "      <th>25</th>\n",
       "      <td>35.0</td>\n",
       "      <td>725.0</td>\n",
       "      <td>1.0</td>\n",
       "    </tr>\n",
       "    <tr>\n",
       "      <th>22</th>\n",
       "      <td>34.5</td>\n",
       "      <td>620.0</td>\n",
       "      <td>1.0</td>\n",
       "    </tr>\n",
       "    <tr>\n",
       "      <th>15</th>\n",
       "      <td>32.0</td>\n",
       "      <td>600.0</td>\n",
       "      <td>1.0</td>\n",
       "    </tr>\n",
       "    <tr>\n",
       "      <th>6</th>\n",
       "      <td>29.7</td>\n",
       "      <td>500.0</td>\n",
       "      <td>1.0</td>\n",
       "    </tr>\n",
       "  </tbody>\n",
       "</table>\n",
       "</div>"
      ],
      "text/plain": [
       "    fish_length  fish_weight  label\n",
       "17         33.0        700.0    1.0\n",
       "25         35.0        725.0    1.0\n",
       "22         34.5        620.0    1.0\n",
       "15         32.0        600.0    1.0\n",
       "6          29.7        500.0    1.0"
      ]
     },
     "execution_count": 115,
     "metadata": {},
     "output_type": "execute_result"
    }
   ],
   "source": [
    "fish_length = [25.4, 26.3, 26.5, 29.0, 29.0, 29.7, 29.7, 30.0, 30.0, 30.7, 31.0, 31.0, \n",
    "                31.5, 32.0, 32.0, 32.0, 33.0, 33.0, 33.5, 33.5, 34.0, 34.0, 34.5, 35.0, \n",
    "                35.0, 35.0, 35.0, 36.0, 36.0, 37.0, 38.5, 38.5, 39.5, 41.0, 41.0, 9.8, \n",
    "                10.5, 10.6, 11.0, 11.2, 11.3, 11.8, 11.8, 12.0, 12.2, 12.4, 13.0, 14.3, 15.0]\n",
    "\n",
    "fish_weight = [242.0, 290.0, 340.0, 363.0, 430.0, 450.0, 500.0, 390.0, 450.0, 500.0, 475.0, 500.0, \n",
    "                500.0, 340.0, 600.0, 600.0, 700.0, 700.0, 610.0, 650.0, 575.0, 685.0, 620.0, 680.0, \n",
    "                700.0, 725.0, 720.0, 714.0, 850.0, 1000.0, 920.0, 955.0, 925.0, 975.0, 950.0, 6.7, \n",
    "                7.5, 7.0, 9.7, 9.8, 8.7, 10.0, 9.9, 9.8, 12.2, 13.4, 12.2, 19.7, 19.9]\n",
    "\n",
    "fish_target = np.concatenate((np.ones(35), np.zeros(14)))\n",
    "\n",
    "\n",
    "fish_data = pd.DataFrame(columns=['fish_length', 'fish_weight', 'label'])\n",
    "\n",
    "\n",
    "fish_data['fish_length'] = fish_length\n",
    "fish_data['fish_weight'] = fish_weight\n",
    "\n",
    "\n",
    "fish_data['label'] = fish_target\n",
    "fish_data.sample(5)"
   ]
  },
  {
   "cell_type": "code",
   "execution_count": 116,
   "id": "d599aa79",
   "metadata": {},
   "outputs": [
    {
     "data": {
      "text/plain": [
       "array([[-0.16326134, -0.62350364],\n",
       "       [-0.07448421, -0.47571019],\n",
       "       [-0.05475596, -0.32175867]])"
      ]
     },
     "execution_count": 116,
     "metadata": {},
     "output_type": "execute_result"
    }
   ],
   "source": [
    "# 2) StandardScaler 적용 \n",
    "\n",
    "from sklearn.preprocessing import StandardScaler\n",
    "\n",
    "# StandardScaler객체 생성\n",
    "scaler = StandardScaler()\n",
    "\n",
    "# StandardScaler 로 데이터 셋 변환. fit( ) 과 transform( ) 호출.  \n",
    "# 타겟 라벨값은 스케일링변환해서는 안된다. \n",
    "# 'fish_length', 'fish_weight' 만 변경 \n",
    "# 넘파이 배열로 변환 \n",
    "scaler.fit(fish_data[['fish_length', 'fish_weight']])\n",
    "fish_data_scaled = scaler.transform(fish_data[['fish_length', 'fish_weight']])\n",
    "\n",
    "fish_data_scaled[:3]"
   ]
  },
  {
   "cell_type": "code",
   "execution_count": 117,
   "id": "6ba3ec1e",
   "metadata": {},
   "outputs": [
    {
     "data": {
      "text/html": [
       "<div>\n",
       "<style scoped>\n",
       "    .dataframe tbody tr th:only-of-type {\n",
       "        vertical-align: middle;\n",
       "    }\n",
       "\n",
       "    .dataframe tbody tr th {\n",
       "        vertical-align: top;\n",
       "    }\n",
       "\n",
       "    .dataframe thead th {\n",
       "        text-align: right;\n",
       "    }\n",
       "</style>\n",
       "<table border=\"1\" class=\"dataframe\">\n",
       "  <thead>\n",
       "    <tr style=\"text-align: right;\">\n",
       "      <th></th>\n",
       "      <th>fish_length</th>\n",
       "      <th>fish_weight</th>\n",
       "      <th>label</th>\n",
       "    </tr>\n",
       "  </thead>\n",
       "  <tbody>\n",
       "    <tr>\n",
       "      <th>0</th>\n",
       "      <td>-0.163261</td>\n",
       "      <td>-0.623504</td>\n",
       "      <td>1.0</td>\n",
       "    </tr>\n",
       "    <tr>\n",
       "      <th>1</th>\n",
       "      <td>-0.074484</td>\n",
       "      <td>-0.475710</td>\n",
       "      <td>1.0</td>\n",
       "    </tr>\n",
       "    <tr>\n",
       "      <th>2</th>\n",
       "      <td>-0.054756</td>\n",
       "      <td>-0.321759</td>\n",
       "      <td>1.0</td>\n",
       "    </tr>\n",
       "  </tbody>\n",
       "</table>\n",
       "</div>"
      ],
      "text/plain": [
       "   fish_length  fish_weight  label\n",
       "0    -0.163261    -0.623504    1.0\n",
       "1    -0.074484    -0.475710    1.0\n",
       "2    -0.054756    -0.321759    1.0"
      ]
     },
     "execution_count": 117,
     "metadata": {},
     "output_type": "execute_result"
    }
   ],
   "source": [
    "# 데이타프레임으로 변경 \n",
    "fish_df_scaled = pd.DataFrame(data=fish_data_scaled, columns=['fish_length', 'fish_weight'])\n",
    "fish_df_scaled['label'] = fish_target\n",
    "fish_df_scaled.head(3)"
   ]
  },
  {
   "cell_type": "code",
   "execution_count": 118,
   "id": "45a05429",
   "metadata": {},
   "outputs": [
    {
     "data": {
      "text/plain": [
       "KNeighborsClassifier()"
      ]
     },
     "execution_count": 118,
     "metadata": {},
     "output_type": "execute_result"
    }
   ],
   "source": [
    "# 3) 훈련데이타 세트와 테스트 데이타세트 분리 \n",
    "from sklearn.model_selection import train_test_split\n",
    "\n",
    "X_train, X_test, y_train, y_test = train_test_split(fish_df_scaled[['fish_length', 'fish_weight']] , \n",
    "                                                    fish_df_scaled['label'] , \n",
    "                                                    test_size=0.2, \n",
    "                                                    random_state=11, \n",
    "                                                    stratify=fish_df_scaled['label'])\n",
    "\n",
    "# 4) 모델 학습 \n",
    "model_kn = KNeighborsClassifier()\n",
    "model_kn.fit(X_train, y_train)"
   ]
  },
  {
   "cell_type": "code",
   "execution_count": 119,
   "id": "081bf2d3",
   "metadata": {},
   "outputs": [
    {
     "data": {
      "text/html": [
       "<div>\n",
       "<style scoped>\n",
       "    .dataframe tbody tr th:only-of-type {\n",
       "        vertical-align: middle;\n",
       "    }\n",
       "\n",
       "    .dataframe tbody tr th {\n",
       "        vertical-align: top;\n",
       "    }\n",
       "\n",
       "    .dataframe thead th {\n",
       "        text-align: right;\n",
       "    }\n",
       "</style>\n",
       "<table border=\"1\" class=\"dataframe\">\n",
       "  <thead>\n",
       "    <tr style=\"text-align: right;\">\n",
       "      <th></th>\n",
       "      <th>fish_length</th>\n",
       "      <th>fish_weight</th>\n",
       "    </tr>\n",
       "  </thead>\n",
       "  <tbody>\n",
       "    <tr>\n",
       "      <th>20</th>\n",
       "      <td>0.685053</td>\n",
       "      <td>0.401813</td>\n",
       "    </tr>\n",
       "    <tr>\n",
       "      <th>42</th>\n",
       "      <td>-1.504782</td>\n",
       "      <td>-1.338147</td>\n",
       "    </tr>\n",
       "  </tbody>\n",
       "</table>\n",
       "</div>"
      ],
      "text/plain": [
       "    fish_length  fish_weight\n",
       "20     0.685053     0.401813\n",
       "42    -1.504782    -1.338147"
      ]
     },
     "execution_count": 119,
     "metadata": {},
     "output_type": "execute_result"
    }
   ],
   "source": [
    "X_train.head(2)"
   ]
  },
  {
   "cell_type": "code",
   "execution_count": 120,
   "id": "ecbe0e81",
   "metadata": {},
   "outputs": [
    {
     "data": {
      "text/html": [
       "<div>\n",
       "<style scoped>\n",
       "    .dataframe tbody tr th:only-of-type {\n",
       "        vertical-align: middle;\n",
       "    }\n",
       "\n",
       "    .dataframe tbody tr th {\n",
       "        vertical-align: top;\n",
       "    }\n",
       "\n",
       "    .dataframe thead th {\n",
       "        text-align: right;\n",
       "    }\n",
       "</style>\n",
       "<table border=\"1\" class=\"dataframe\">\n",
       "  <thead>\n",
       "    <tr style=\"text-align: right;\">\n",
       "      <th></th>\n",
       "      <th>fish_length</th>\n",
       "      <th>fish_weight</th>\n",
       "    </tr>\n",
       "  </thead>\n",
       "  <tbody>\n",
       "    <tr>\n",
       "      <th>4</th>\n",
       "      <td>0.191847</td>\n",
       "      <td>-0.044646</td>\n",
       "    </tr>\n",
       "    <tr>\n",
       "      <th>35</th>\n",
       "      <td>-1.702065</td>\n",
       "      <td>-1.347999</td>\n",
       "    </tr>\n",
       "  </tbody>\n",
       "</table>\n",
       "</div>"
      ],
      "text/plain": [
       "    fish_length  fish_weight\n",
       "4      0.191847    -0.044646\n",
       "35    -1.702065    -1.347999"
      ]
     },
     "execution_count": 120,
     "metadata": {},
     "output_type": "execute_result"
    }
   ],
   "source": [
    "# 테스트도 확인 \n",
    "X_test.head(2)"
   ]
  },
  {
   "cell_type": "code",
   "execution_count": 121,
   "id": "c048bfc9",
   "metadata": {},
   "outputs": [
    {
     "data": {
      "text/plain": [
       "(1.0, 1.0)"
      ]
     },
     "execution_count": 121,
     "metadata": {},
     "output_type": "execute_result"
    }
   ],
   "source": [
    "# 4) 테스트 세트에 대한 점수 확인\n",
    "model_kn.score(X_train, y_train), model_kn.score(X_test, y_test)"
   ]
  },
  {
   "cell_type": "code",
   "execution_count": 122,
   "id": "faad5636",
   "metadata": {},
   "outputs": [
    {
     "data": {
      "text/plain": [
       "array([[-0.20271784, -0.90677444]])"
      ]
     },
     "execution_count": 122,
     "metadata": {},
     "output_type": "execute_result"
    }
   ],
   "source": [
    "# 5) 새로운 데이타 (25, 150) 은 도미일까 빙어일까?\n",
    "new = [25, 150]\n",
    "new_scaled = scaler.transform([new])\n",
    "new_scaled"
   ]
  },
  {
   "cell_type": "code",
   "execution_count": 123,
   "id": "b99777d1",
   "metadata": {},
   "outputs": [
    {
     "data": {
      "text/plain": [
       "array([1.])"
      ]
     },
     "execution_count": 123,
     "metadata": {},
     "output_type": "execute_result"
    }
   ],
   "source": [
    "model_kn.predict(new_scaled)"
   ]
  },
  {
   "cell_type": "code",
   "execution_count": 124,
   "id": "6ab3cf3d",
   "metadata": {},
   "outputs": [
    {
     "data": {
      "text/plain": [
       "array([[-1.73165724, -1.349539  ]])"
      ]
     },
     "execution_count": 124,
     "metadata": {},
     "output_type": "execute_result"
    }
   ],
   "source": [
    "#  6) 새로운 데이타 (9.5 , 6.2)는 도미일까 빙어일까? (도미는 1, 빙어는 0)\n",
    "new = [9.5 , 6.2]\n",
    "new_scaled = scaler.transform([new])\n",
    "new_scaled "
   ]
  },
  {
   "cell_type": "code",
   "execution_count": 125,
   "id": "6fcd27ab",
   "metadata": {},
   "outputs": [
    {
     "data": {
      "text/plain": [
       "array([0.])"
      ]
     },
     "execution_count": 125,
     "metadata": {},
     "output_type": "execute_result"
    }
   ],
   "source": [
    "model_kn.predict(new_scaled)"
   ]
  },
  {
   "cell_type": "code",
   "execution_count": 126,
   "id": "c3a042cf",
   "metadata": {},
   "outputs": [
    {
     "data": {
      "text/plain": [
       "array([1.])"
      ]
     },
     "execution_count": 126,
     "metadata": {},
     "output_type": "execute_result"
    }
   ],
   "source": [
    "# 스케일링을 하지 않는 원본 데이타라면? => 도미 \n",
    "model_kn.predict([[9.5 , 6.2]])"
   ]
  },
  {
   "cell_type": "code",
   "execution_count": null,
   "id": "d4dce0ed",
   "metadata": {},
   "outputs": [],
   "source": []
  },
  {
   "cell_type": "code",
   "execution_count": null,
   "id": "97d6c3d3",
   "metadata": {},
   "outputs": [],
   "source": []
  },
  {
   "cell_type": "code",
   "execution_count": null,
   "id": "6d81b87d",
   "metadata": {},
   "outputs": [],
   "source": []
  }
 ],
 "metadata": {
  "kernelspec": {
   "display_name": "Python 3",
   "language": "python",
   "name": "python3"
  },
  "language_info": {
   "codemirror_mode": {
    "name": "ipython",
    "version": 3
   },
   "file_extension": ".py",
   "mimetype": "text/x-python",
   "name": "python",
   "nbconvert_exporter": "python",
   "pygments_lexer": "ipython3",
   "version": "3.8.8"
  }
 },
 "nbformat": 4,
 "nbformat_minor": 5
}
