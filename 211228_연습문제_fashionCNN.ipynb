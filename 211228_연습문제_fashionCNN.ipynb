{
 "cells": [
  {
   "cell_type": "code",
   "execution_count": 1,
   "id": "7c280d51",
   "metadata": {},
   "outputs": [],
   "source": [
    "import tensorflow as tf\n",
    "import numpy as np\n",
    "import pandas as pd\n",
    "import matplotlib.pyplot as plt\n",
    "plt.style.use('ggplot')\n",
    "\n",
    "from tensorflow.keras.optimizers import Adam\n",
    "from tensorflow.keras import Sequential\n",
    "from tensorflow.keras.layers import Dense, Flatten, Conv2D, MaxPool2D\n",
    "from tensorflow.keras.datasets.mnist import load_data\n",
    "from tensorflow.keras.utils import to_categorical"
   ]
  },
  {
   "cell_type": "code",
   "execution_count": 5,
   "id": "ce7da617",
   "metadata": {},
   "outputs": [],
   "source": [
    "fashion_mnistData = load_data()\n",
    "(x_train,y_train), (x_test,y_test) = fashion_mnistData"
   ]
  },
  {
   "cell_type": "code",
   "execution_count": 6,
   "id": "e3e34529",
   "metadata": {},
   "outputs": [
    {
     "name": "stdout",
     "output_type": "stream",
     "text": [
      "(60000, 28, 28)\n"
     ]
    }
   ],
   "source": [
    "print(x_train.shape)"
   ]
  },
  {
   "cell_type": "code",
   "execution_count": 7,
   "id": "efeb4419",
   "metadata": {},
   "outputs": [
    {
     "name": "stdout",
     "output_type": "stream",
     "text": [
      "(60000,)\n",
      "[5 0 4 ... 5 6 8]\n"
     ]
    }
   ],
   "source": [
    "print(y_train.shape)\n",
    "print(y_train)"
   ]
  },
  {
   "cell_type": "code",
   "execution_count": 8,
   "id": "939ee3cb",
   "metadata": {},
   "outputs": [],
   "source": [
    "y_trainOne = to_categorical(y_train)"
   ]
  },
  {
   "cell_type": "code",
   "execution_count": 9,
   "id": "e080d10e",
   "metadata": {},
   "outputs": [
    {
     "name": "stdout",
     "output_type": "stream",
     "text": [
      "Epoch 1/10\n",
      "1875/1875 [==============================] - 45s 24ms/step - loss: 0.2472 - acc: 0.9537\n",
      "Epoch 2/10\n",
      "1875/1875 [==============================] - 43s 23ms/step - loss: 0.0521 - acc: 0.9841\n",
      "Epoch 3/10\n",
      "1875/1875 [==============================] - 45s 24ms/step - loss: 0.0371 - acc: 0.9887\n",
      "Epoch 4/10\n",
      "1875/1875 [==============================] - 45s 24ms/step - loss: 0.0314 - acc: 0.9900\n",
      "Epoch 5/10\n",
      "1875/1875 [==============================] - 43s 23ms/step - loss: 0.0256 - acc: 0.9923 0s - loss: 0.0255 - acc: \n",
      "Epoch 6/10\n",
      "1875/1875 [==============================] - 42s 23ms/step - loss: 0.0205 - acc: 0.9940\n",
      "Epoch 7/10\n",
      "1875/1875 [==============================] - 43s 23ms/step - loss: 0.0198 - acc: 0.9941\n",
      "Epoch 8/10\n",
      "1875/1875 [==============================] - 44s 24ms/step - loss: 0.0166 - acc: 0.9953\n",
      "Epoch 9/10\n",
      "1875/1875 [==============================] - 44s 24ms/step - loss: 0.0127 - acc: 0.9964\n",
      "Epoch 10/10\n",
      "1875/1875 [==============================] - 43s 23ms/step - loss: 0.0134 - acc: 0.9964\n"
     ]
    },
    {
     "data": {
      "text/plain": [
       "<keras.callbacks.History at 0x2559c1925b0>"
      ]
     },
     "execution_count": 9,
     "metadata": {},
     "output_type": "execute_result"
    }
   ],
   "source": [
    "model = Sequential()\n",
    "              #필터 갯수  #필터 사이즈  #몇칸씩 이동\n",
    "model.add( Conv2D(32, kernel_size=(3, 3), strides=1, input_shape=(28, 28, 1),\n",
    "                 activation = 'relu', padding='same') ) #padding : 데이터에 특정 값을 채워서 데이터의 크기를 조정\n",
    "model.add( Conv2D(64, kernel_size=(3, 3), activation='relu') )\n",
    "model.add( MaxPool2D(pool_size=(2, 2) ) )\n",
    "model.add( Flatten() )\n",
    "model.add( Dense( units=64, activation='relu'))\n",
    "model.add( Dense( units=10, activation='softmax'))\n",
    "model.compile(loss='categorical_crossentropy', optimizer='Adam', metrics=['acc'])\n",
    "model.fit(x_train.reshape(60000, 28, 28, 1), y_trainOne, epochs=10)"
   ]
  },
  {
   "cell_type": "code",
   "execution_count": 10,
   "id": "11df8e45",
   "metadata": {},
   "outputs": [
    {
     "data": {
      "text/plain": [
       "array([7], dtype=int64)"
      ]
     },
     "execution_count": 10,
     "metadata": {},
     "output_type": "execute_result"
    }
   ],
   "source": [
    "model.predict(x_test[0].reshape(1,28,28) ).argmax(axis=1)"
   ]
  },
  {
   "cell_type": "code",
   "execution_count": 11,
   "id": "cf13cd20",
   "metadata": {},
   "outputs": [
    {
     "data": {
      "text/plain": [
       "7"
      ]
     },
     "execution_count": 11,
     "metadata": {},
     "output_type": "execute_result"
    }
   ],
   "source": [
    "y_test[0]"
   ]
  },
  {
   "cell_type": "code",
   "execution_count": 14,
   "id": "0091b0a9",
   "metadata": {},
   "outputs": [
    {
     "data": {
      "text/plain": [
       "array([[ 966,    1,    1,    0,    0,    0,    8,    0,    3,    1],\n",
       "       [   0, 1122,    0,    5,    1,    2,    4,    0,    1,    0],\n",
       "       [   2,    0, 1012,    3,    1,    0,    1,   11,    2,    0],\n",
       "       [   0,    0,    1, 1001,    0,    4,    0,    2,    2,    0],\n",
       "       [   0,    0,    1,    0,  971,    0,    1,    0,    0,    9],\n",
       "       [   0,    0,    0,    6,    0,  883,    1,    0,    2,    0],\n",
       "       [   2,    2,    0,    0,    1,    6,  942,    0,    5,    0],\n",
       "       [   0,    4,    9,    0,    2,    0,    0, 1009,    3,    1],\n",
       "       [   0,    0,    2,    1,    3,    2,    1,    2,  960,    3],\n",
       "       [   1,    2,    0,    3,    9,    3,    0,    6,    3,  982]],\n",
       "      dtype=int64)"
      ]
     },
     "execution_count": 14,
     "metadata": {},
     "output_type": "execute_result"
    }
   ],
   "source": [
    "from sklearn.metrics import confusion_matrix \n",
    "conf_mat_k = confusion_matrix( y_test, model.predict( x_test.reshape(-1,28,28) ).argmax(axis=1))\n",
    "conf_mat_k"
   ]
  },
  {
   "cell_type": "code",
   "execution_count": 16,
   "id": "7d5acffd",
   "metadata": {},
   "outputs": [
    {
     "data": {
      "image/png": "[encoded data removed]",
      "text/plain": [
       "<Figure size 432x288 with 2 Axes>"
      ]
     },
     "metadata": {},
     "output_type": "display_data"
    }
   ],
   "source": [
    "import seaborn as sns\n",
    "sns.heatmap( conf_mat_k, annot=True, fmt='d', cmap='Blues')\n",
    "plt.show()"
   ]
  }
 ],
 "metadata": {
  "kernelspec": {
   "display_name": "Python 3",
   "language": "python",
   "name": "python3"
  },
  "language_info": {
   "codemirror_mode": {
    "name": "ipython",
    "version": 3
   },
   "file_extension": ".py",
   "mimetype": "text/x-python",
   "name": "python",
   "nbconvert_exporter": "python",
   "pygments_lexer": "ipython3",
   "version": "3.8.8"
  }
 },
 "nbformat": 4,
 "nbformat_minor": 5
}
