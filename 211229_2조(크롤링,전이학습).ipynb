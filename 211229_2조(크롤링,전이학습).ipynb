{
 "cells": [
  {
   "cell_type": "markdown",
   "id": "00b787de",
   "metadata": {},
   "source": [
    "# Library Import"
   ]
  },
  {
   "cell_type": "code",
   "execution_count": 1,
   "id": "ba02c6e9",
   "metadata": {
    "ExecuteTime": {
     "end_time": "2021-12-29T12:11:37.680148Z",
     "start_time": "2021-12-29T12:11:32.560045Z"
    }
   },
   "outputs": [],
   "source": [
    "import numpy as np\n",
    "\n",
    "# from tensorflow.keras.applications.resnet50 import ResNet50, preprocess_input, decode_predictions\n",
    "from tensorflow.keras.applications import resnet50\n",
    "\n",
    "# from tensorflow.keras.applications.vgg16 import VGG16, preprocess_input, decode_predictions\n",
    "from tensorflow.keras.applications import vgg16\n",
    "\n",
    "\n",
    "from tensorflow.keras.preprocessing import image\n",
    "\n",
    "from tensorflow.keras import Sequential\n",
    "from tensorflow.keras.layers import Dense, Flatten\n",
    "\n",
    "from tensorflow.keras.optimizers import RMSprop\n",
    "\n",
    "import matplotlib.pyplot as plt"
   ]
  },
  {
   "cell_type": "code",
   "execution_count": null,
   "id": "b4da9311",
   "metadata": {},
   "outputs": [],
   "source": []
  },
  {
   "cell_type": "code",
   "execution_count": null,
   "id": "801d6739",
   "metadata": {},
   "outputs": [],
   "source": []
  },
  {
   "cell_type": "code",
   "execution_count": null,
   "id": "f387c854",
   "metadata": {},
   "outputs": [],
   "source": []
  },
  {
   "cell_type": "markdown",
   "id": "177f6340",
   "metadata": {},
   "source": [
    "# (VGG16) 가져다 쓸 Model 객체 Load "
   ]
  },
  {
   "cell_type": "code",
   "execution_count": 2,
   "id": "1e06c077",
   "metadata": {
    "ExecuteTime": {
     "end_time": "2021-12-29T12:12:44.388594Z",
     "start_time": "2021-12-29T12:12:42.653972Z"
    }
   },
   "outputs": [],
   "source": [
    "model_vgg_conv = vgg16.VGG16( weights='imagenet', include_top=False, input_shape=(98,98,3) ) # input_shape은 우리가 지정"
   ]
  },
  {
   "cell_type": "markdown",
   "id": "a95b7f5a",
   "metadata": {},
   "source": [
    "## Load한 model summary( ) ==> Dense 부분이 없는 것을 알 수 있다.\n",
    "\n",
    "```\n",
    "왜 Dense 부분이 없을까?\n",
    "==> 우리는 feature extractor(특징 추출기)만 가져올 것이기 때문임\n",
    "==> Dense 부분은 우리가 학습할 것임\n",
    "==> 그래서 새로운 분류기를 만들 것임\n",
    "```"
   ]
  },
  {
   "cell_type": "code",
   "execution_count": 3,
   "id": "85912d79",
   "metadata": {
    "ExecuteTime": {
     "end_time": "2021-12-29T12:12:46.429839Z",
     "start_time": "2021-12-29T12:12:46.414899Z"
    },
    "scrolled": true
   },
   "outputs": [
    {
     "name": "stdout",
     "output_type": "stream",
     "text": [
      "Model: \"vgg16\"\n",
      "_________________________________________________________________\n",
      " Layer (type)                Output Shape              Param #   \n",
      "=================================================================\n",
      " input_1 (InputLayer)        [(None, 98, 98, 3)]       0         \n",
      "                                                                 \n",
      " block1_conv1 (Conv2D)       (None, 98, 98, 64)        1792      \n",
      "                                                                 \n",
      " block1_conv2 (Conv2D)       (None, 98, 98, 64)        36928     \n",
      "                                                                 \n",
      " block1_pool (MaxPooling2D)  (None, 49, 49, 64)        0         \n",
      "                                                                 \n",
      " block2_conv1 (Conv2D)       (None, 49, 49, 128)       73856     \n",
      "                                                                 \n",
      " block2_conv2 (Conv2D)       (None, 49, 49, 128)       147584    \n",
      "                                                                 \n",
      " block2_pool (MaxPooling2D)  (None, 24, 24, 128)       0         \n",
      "                                                                 \n",
      " block3_conv1 (Conv2D)       (None, 24, 24, 256)       295168    \n",
      "                                                                 \n",
      " block3_conv2 (Conv2D)       (None, 24, 24, 256)       590080    \n",
      "                                                                 \n",
      " block3_conv3 (Conv2D)       (None, 24, 24, 256)       590080    \n",
      "                                                                 \n",
      " block3_pool (MaxPooling2D)  (None, 12, 12, 256)       0         \n",
      "                                                                 \n",
      " block4_conv1 (Conv2D)       (None, 12, 12, 512)       1180160   \n",
      "                                                                 \n",
      " block4_conv2 (Conv2D)       (None, 12, 12, 512)       2359808   \n",
      "                                                                 \n",
      " block4_conv3 (Conv2D)       (None, 12, 12, 512)       2359808   \n",
      "                                                                 \n",
      " block4_pool (MaxPooling2D)  (None, 6, 6, 512)         0         \n",
      "                                                                 \n",
      " block5_conv1 (Conv2D)       (None, 6, 6, 512)         2359808   \n",
      "                                                                 \n",
      " block5_conv2 (Conv2D)       (None, 6, 6, 512)         2359808   \n",
      "                                                                 \n",
      " block5_conv3 (Conv2D)       (None, 6, 6, 512)         2359808   \n",
      "                                                                 \n",
      " block5_pool (MaxPooling2D)  (None, 3, 3, 512)         0         \n",
      "                                                                 \n",
      "=================================================================\n",
      "Total params: 14,714,688\n",
      "Trainable params: 14,714,688\n",
      "Non-trainable params: 0\n",
      "_________________________________________________________________\n"
     ]
    }
   ],
   "source": [
    "model_vgg_conv.summary()"
   ]
  },
  {
   "cell_type": "code",
   "execution_count": null,
   "id": "c0433153",
   "metadata": {},
   "outputs": [],
   "source": []
  },
  {
   "cell_type": "markdown",
   "id": "87111cd8",
   "metadata": {},
   "source": [
    "## 특징 추출기(feature extractor)는 학습 시 제외하겠다는 뜻"
   ]
  },
  {
   "cell_type": "markdown",
   "id": "92bf2445",
   "metadata": {},
   "source": [
    "### (주의!!) model_vgg_conv에 대해서 해야함 ==> model명 헷갈리지 않기"
   ]
  },
  {
   "cell_type": "code",
   "execution_count": 4,
   "id": "83bad50a",
   "metadata": {
    "ExecuteTime": {
     "end_time": "2021-12-29T12:12:50.401534Z",
     "start_time": "2021-12-29T12:12:50.389630Z"
    }
   },
   "outputs": [],
   "source": [
    "for layer in model_vgg_conv.layers:\n",
    "    layer.trainable = False"
   ]
  },
  {
   "cell_type": "code",
   "execution_count": null,
   "id": "a8cd01df",
   "metadata": {},
   "outputs": [],
   "source": []
  },
  {
   "cell_type": "markdown",
   "id": "cafe58eb",
   "metadata": {},
   "source": [
    "## Modeling (vgg16)\n",
    "\n",
    "\n",
    "```\n",
    "- model_vgg_conv는 특징추출기만을 가져온거다\n",
    "```"
   ]
  },
  {
   "cell_type": "markdown",
   "id": "06428415",
   "metadata": {},
   "source": [
    "### 전체 Data 가져오기\n",
    "\n",
    "```\n",
    "- batch_size가 default로 32라서 바꿔줘야함 ==> 32개의 데이터밖에 못가져오므로!!\n",
    "- 우리는 각 class당 50개의 데이터를 가지고 있고, class가 3개이므로 ==> 총 150개의 데이터가 있으므로 => batch_size=150\n",
    "```"
   ]
  },
  {
   "cell_type": "code",
   "execution_count": 10,
   "id": "a018a0ce",
   "metadata": {
    "ExecuteTime": {
     "end_time": "2021-12-29T12:13:45.385877Z",
     "start_time": "2021-12-29T12:13:31.953670Z"
    }
   },
   "outputs": [
    {
     "name": "stdout",
     "output_type": "stream",
     "text": [
      "Found 1904 images belonging to 2 classes.\n"
     ]
    }
   ],
   "source": [
    "dataGen = image.ImageDataGenerator( rescale=1./255)\n",
    "trainGen = dataGen.flow_from_directory( 'image3', target_size=(98,98), batch_size=1908) # (98,98)인 이유는 model_conv.summary()의 맨 처음을 봐라\n",
    "x_train, y_train = trainGen.next()"
   ]
  },
  {
   "cell_type": "markdown",
   "id": "3b94e06a",
   "metadata": {},
   "source": [
    "#### Train data shape 확인"
   ]
  },
  {
   "cell_type": "code",
   "execution_count": 11,
   "id": "a8e9e97c",
   "metadata": {
    "ExecuteTime": {
     "end_time": "2021-12-29T12:13:46.682127Z",
     "start_time": "2021-12-29T12:13:46.665143Z"
    }
   },
   "outputs": [
    {
     "data": {
      "text/plain": [
       "(1904, 98, 98, 3)"
      ]
     },
     "execution_count": 11,
     "metadata": {},
     "output_type": "execute_result"
    }
   ],
   "source": [
    "x_train.shape"
   ]
  },
  {
   "cell_type": "markdown",
   "id": "0431e984",
   "metadata": {},
   "source": [
    "### Train / Test Data split"
   ]
  },
  {
   "cell_type": "code",
   "execution_count": 12,
   "id": "de2e362a",
   "metadata": {
    "ExecuteTime": {
     "end_time": "2021-12-29T12:13:49.476292Z",
     "start_time": "2021-12-29T12:13:48.766718Z"
    }
   },
   "outputs": [],
   "source": [
    "from sklearn.model_selection import train_test_split"
   ]
  },
  {
   "cell_type": "code",
   "execution_count": 13,
   "id": "5c736880",
   "metadata": {
    "ExecuteTime": {
     "end_time": "2021-12-29T12:13:50.605606Z",
     "start_time": "2021-12-29T12:13:50.528789Z"
    }
   },
   "outputs": [],
   "source": [
    "x_train, x_test, y_train, y_test = train_test_split(x_train,\n",
    "                                                    y_train,\n",
    "                                                    test_size=0.3,\n",
    "                                                    stratify=y_train)"
   ]
  },
  {
   "cell_type": "code",
   "execution_count": 14,
   "id": "2da88c48",
   "metadata": {
    "ExecuteTime": {
     "end_time": "2021-12-29T12:13:51.235652Z",
     "start_time": "2021-12-29T12:13:51.227674Z"
    }
   },
   "outputs": [
    {
     "data": {
      "text/plain": [
       "((1332, 98, 98, 3), (1332, 2))"
      ]
     },
     "execution_count": 14,
     "metadata": {},
     "output_type": "execute_result"
    }
   ],
   "source": [
    "x_train.shape, y_train.shape"
   ]
  },
  {
   "cell_type": "code",
   "execution_count": 15,
   "id": "0586be49",
   "metadata": {
    "ExecuteTime": {
     "end_time": "2021-12-29T12:13:51.850676Z",
     "start_time": "2021-12-29T12:13:51.840751Z"
    }
   },
   "outputs": [
    {
     "data": {
      "text/plain": [
       "((572, 98, 98, 3), (572, 2))"
      ]
     },
     "execution_count": 15,
     "metadata": {},
     "output_type": "execute_result"
    }
   ],
   "source": [
    "x_test.shape, y_test.shape"
   ]
  },
  {
   "cell_type": "markdown",
   "id": "f3590bdc",
   "metadata": {},
   "source": [
    "#### Train / validation data split"
   ]
  },
  {
   "cell_type": "code",
   "execution_count": 16,
   "id": "cabe15b9",
   "metadata": {
    "ExecuteTime": {
     "end_time": "2021-12-29T12:13:54.699661Z",
     "start_time": "2021-12-29T12:13:54.640650Z"
    }
   },
   "outputs": [],
   "source": [
    "x_train, x_valid, y_train, y_valid = train_test_split(x_train,\n",
    "                                                      y_train,\n",
    "                                                      test_size=0.3,\n",
    "                                                      stratify=y_train)"
   ]
  },
  {
   "cell_type": "code",
   "execution_count": 17,
   "id": "154d4506",
   "metadata": {
    "ExecuteTime": {
     "end_time": "2021-12-29T12:13:55.190739Z",
     "start_time": "2021-12-29T12:13:55.177818Z"
    }
   },
   "outputs": [
    {
     "data": {
      "text/plain": [
       "((932, 98, 98, 3), (932, 2))"
      ]
     },
     "execution_count": 17,
     "metadata": {},
     "output_type": "execute_result"
    }
   ],
   "source": [
    "x_train.shape, y_train.shape"
   ]
  },
  {
   "cell_type": "code",
   "execution_count": 18,
   "id": "3855092f",
   "metadata": {
    "ExecuteTime": {
     "end_time": "2021-12-29T12:13:55.987665Z",
     "start_time": "2021-12-29T12:13:55.978675Z"
    }
   },
   "outputs": [
    {
     "data": {
      "text/plain": [
       "((400, 98, 98, 3), (400, 2))"
      ]
     },
     "execution_count": 18,
     "metadata": {},
     "output_type": "execute_result"
    }
   ],
   "source": [
    "x_valid.shape, y_valid.shape"
   ]
  },
  {
   "cell_type": "code",
   "execution_count": null,
   "id": "e1f2030a",
   "metadata": {},
   "outputs": [],
   "source": []
  },
  {
   "cell_type": "markdown",
   "id": "9fcb0c01",
   "metadata": {},
   "source": [
    "### conduct modeling"
   ]
  },
  {
   "cell_type": "code",
   "execution_count": null,
   "id": "06f87d3e",
   "metadata": {
    "ExecuteTime": {
     "end_time": "2021-12-29T12:40:24.265814Z",
     "start_time": "2021-12-29T12:14:07.868592Z"
    }
   },
   "outputs": [
    {
     "name": "stdout",
     "output_type": "stream",
     "text": [
      "Epoch 1/100\n",
      "30/30 [==============================] - 17s 560ms/step - loss: 0.5239 - acc: 0.7554 - val_loss: 0.4016 - val_acc: 0.8325\n",
      "Epoch 2/100\n",
      "30/30 [==============================] - 16s 554ms/step - loss: 0.3469 - acc: 0.8573 - val_loss: 0.4188 - val_acc: 0.8025\n",
      "Epoch 3/100\n",
      "30/30 [==============================] - 17s 560ms/step - loss: 0.2918 - acc: 0.8798 - val_loss: 0.2984 - val_acc: 0.8675\n",
      "Epoch 4/100\n",
      "13/30 [============>.................] - ETA: 6s - loss: 0.2488 - acc: 0.9087"
     ]
    }
   ],
   "source": [
    "model = Sequential()\n",
    "model.add( model_vgg_conv) # model_vgg_conv는 특징추출기만을 가져온거다. ( con, relu, pool )\n",
    "\n",
    "model.add( Flatten())\n",
    "model.add( Dense( units=128, activation='relu'))\n",
    "model.add(Dense(units = 64, activation='relu'))\n",
    "model.add(Dense(units = 32, activation='relu'))\n",
    "model.add( Dense( units=2, activation='softmax'))\n",
    "\n",
    "# model.compile( loss=\"categorical_crossentropy\", optimizer='adam', metrics=['acc'])\n",
    "model.compile( loss=\"categorical_crossentropy\",\n",
    "              optimizer=RMSprop(learning_rate=1e-4),\n",
    "              metrics=['acc'])\n",
    "\n",
    "model.fit( x_train, y_train, epochs=100, validation_data=(x_valid, y_valid))"
   ]
  },
  {
   "cell_type": "code",
   "execution_count": null,
   "id": "65f481ab",
   "metadata": {},
   "outputs": [],
   "source": []
  },
  {
   "cell_type": "markdown",
   "id": "827f6d3a",
   "metadata": {},
   "source": [
    "## Prediction"
   ]
  },
  {
   "cell_type": "markdown",
   "id": "c80fa6fd",
   "metadata": {},
   "source": [
    "### Test data"
   ]
  },
  {
   "cell_type": "code",
   "execution_count": 16,
   "id": "dfaa6f3e",
   "metadata": {
    "ExecuteTime": {
     "end_time": "2021-12-29T12:40:47.218763Z",
     "start_time": "2021-12-29T12:40:47.199860Z"
    }
   },
   "outputs": [
    {
     "data": {
      "text/plain": [
       "((543, 98, 98, 3),\n",
       " array([[[[0.00392157, 0.00392157, 0.00392157],\n",
       "          [0.00392157, 0.00392157, 0.00392157],\n",
       "          [0.00392157, 0.00392157, 0.00392157],\n",
       "          ...,\n",
       "          [0.        , 0.        , 0.        ],\n",
       "          [0.        , 0.        , 0.        ],\n",
       "          [0.00392157, 0.00392157, 0.00392157]],\n",
       " \n",
       "         [[0.00392157, 0.00392157, 0.00392157],\n",
       "          [0.00392157, 0.00392157, 0.00392157],\n",
       "          [0.00392157, 0.00392157, 0.00392157],\n",
       "          ...,\n",
       "          [0.01568628, 0.01176471, 0.00392157],\n",
       "          [0.00784314, 0.00784314, 0.00784314],\n",
       "          [0.00392157, 0.00392157, 0.00392157]],\n",
       " \n",
       "         [[0.00392157, 0.00392157, 0.00392157],\n",
       "          [0.00392157, 0.00392157, 0.00392157],\n",
       "          [0.00392157, 0.00392157, 0.00392157],\n",
       "          ...,\n",
       "          [0.01568628, 0.01176471, 0.00392157],\n",
       "          [0.00784314, 0.00784314, 0.00784314],\n",
       "          [0.00392157, 0.00392157, 0.00392157]],\n",
       " \n",
       "         ...,\n",
       " \n",
       "         [[0.10196079, 0.08235294, 0.05882353],\n",
       "          [0.05490196, 0.03529412, 0.01176471],\n",
       "          [0.05490196, 0.03529412, 0.02352941],\n",
       "          ...,\n",
       "          [0.00392157, 0.00392157, 0.00392157],\n",
       "          [0.00392157, 0.00392157, 0.00392157],\n",
       "          [0.00392157, 0.00392157, 0.00392157]],\n",
       " \n",
       "         [[0.08627451, 0.06666667, 0.05490196],\n",
       "          [0.05882353, 0.03921569, 0.02745098],\n",
       "          [0.02352941, 0.00784314, 0.        ],\n",
       "          ...,\n",
       "          [0.00392157, 0.00392157, 0.00392157],\n",
       "          [0.00392157, 0.00392157, 0.00392157],\n",
       "          [0.00392157, 0.00392157, 0.00392157]],\n",
       " \n",
       "         [[0.05490196, 0.03529412, 0.02352941],\n",
       "          [0.03137255, 0.01176471, 0.        ],\n",
       "          [0.01960784, 0.00392157, 0.        ],\n",
       "          ...,\n",
       "          [0.00392157, 0.00392157, 0.00392157],\n",
       "          [0.00392157, 0.00392157, 0.00392157],\n",
       "          [0.00392157, 0.00392157, 0.00392157]]],\n",
       " \n",
       " \n",
       "        [[[0.21176472, 0.20000002, 0.13333334],\n",
       "          [0.21176472, 0.20000002, 0.1254902 ],\n",
       "          [0.23137257, 0.21960786, 0.14509805],\n",
       "          ...,\n",
       "          [0.3254902 , 0.30980393, 0.21176472],\n",
       "          [0.30980393, 0.2901961 , 0.1764706 ],\n",
       "          [0.30980393, 0.2901961 , 0.1764706 ]],\n",
       " \n",
       "         [[0.21568629, 0.20392159, 0.13725491],\n",
       "          [0.21960786, 0.20784315, 0.13333334],\n",
       "          [0.227451  , 0.21568629, 0.14117648],\n",
       "          ...,\n",
       "          [0.30980393, 0.29411766, 0.19607845],\n",
       "          [0.32156864, 0.3019608 , 0.18823531],\n",
       "          [0.31764707, 0.29803923, 0.18431373]],\n",
       " \n",
       "         [[0.21176472, 0.20392159, 0.12156864],\n",
       "          [0.22352943, 0.20392159, 0.1254902 ],\n",
       "          [0.23529413, 0.21568629, 0.13725491],\n",
       "          ...,\n",
       "          [0.3019608 , 0.28627452, 0.18039216],\n",
       "          [0.31764707, 0.29803923, 0.18431373],\n",
       "          [0.3254902 , 0.3019608 , 0.20000002]],\n",
       " \n",
       "         ...,\n",
       " \n",
       "         [[0.91372555, 0.91372555, 0.9607844 ],\n",
       "          [0.909804  , 0.909804  , 0.9490197 ],\n",
       "          [0.8862746 , 0.8862746 , 0.92549026],\n",
       "          ...,\n",
       "          [0.34117648, 0.20392159, 0.04705883],\n",
       "          [0.2627451 , 0.19607845, 0.07843138],\n",
       "          [0.19215688, 0.11764707, 0.        ]],\n",
       " \n",
       "         [[0.9215687 , 0.9176471 , 0.9725491 ],\n",
       "          [0.9058824 , 0.9058824 , 0.9450981 ],\n",
       "          [0.8941177 , 0.8941177 , 0.9333334 ],\n",
       "          ...,\n",
       "          [0.3803922 , 0.27058825, 0.1137255 ],\n",
       "          [0.21960786, 0.1254902 , 0.        ],\n",
       "          [0.19215688, 0.13725491, 0.02352941]],\n",
       " \n",
       "         [[0.9058824 , 0.90196085, 0.9568628 ],\n",
       "          [0.89019614, 0.89019614, 0.9294118 ],\n",
       "          [0.8980393 , 0.8980393 , 0.93725497],\n",
       "          ...,\n",
       "          [0.29803923, 0.19215688, 0.01568628],\n",
       "          [0.24705884, 0.16862746, 0.03921569],\n",
       "          [0.12156864, 0.10196079, 0.01568628]]],\n",
       " \n",
       " \n",
       "        [[[0.34509805, 0.3921569 , 0.43921572],\n",
       "          [0.36862746, 0.4156863 , 0.46274513],\n",
       "          [0.34509805, 0.3921569 , 0.43921572],\n",
       "          ...,\n",
       "          [0.58431375, 0.5882353 , 0.5686275 ],\n",
       "          [0.6627451 , 0.6666667 , 0.64705884],\n",
       "          [0.63529414, 0.6392157 , 0.61960787]],\n",
       " \n",
       "         [[0.32156864, 0.37254903, 0.40784317],\n",
       "          [0.3019608 , 0.3529412 , 0.38823533],\n",
       "          [0.3019608 , 0.3529412 , 0.38823533],\n",
       "          ...,\n",
       "          [0.6039216 , 0.60784316, 0.5882353 ],\n",
       "          [0.6117647 , 0.6156863 , 0.59607846],\n",
       "          [0.6862745 , 0.6901961 , 0.67058825]],\n",
       " \n",
       "         [[0.30588236, 0.37254903, 0.4039216 ],\n",
       "          [0.28627452, 0.34901962, 0.40000004],\n",
       "          [0.31764707, 0.3803922 , 0.43921572],\n",
       "          ...,\n",
       "          [0.5568628 , 0.5647059 , 0.56078434],\n",
       "          [0.65882355, 0.654902  , 0.64705884],\n",
       "          [0.72156864, 0.72156864, 0.68235296]],\n",
       " \n",
       "         ...,\n",
       " \n",
       "         [[0.23529413, 0.27450982, 0.30980393],\n",
       "          [0.3529412 , 0.3921569 , 0.427451  ],\n",
       "          [0.30588236, 0.34509805, 0.3803922 ],\n",
       "          ...,\n",
       "          [0.33333334, 0.36862746, 0.35686275],\n",
       "          [0.32156864, 0.36862746, 0.36862746],\n",
       "          [0.34117648, 0.37254903, 0.38431376]],\n",
       " \n",
       "         [[0.27058825, 0.3372549 , 0.37647063],\n",
       "          [0.28627452, 0.3372549 , 0.36862746],\n",
       "          [0.2901961 , 0.33333334, 0.35686275],\n",
       "          ...,\n",
       "          [0.32941177, 0.36862746, 0.3647059 ],\n",
       "          [0.3019608 , 0.37254903, 0.37254903],\n",
       "          [0.32156864, 0.3921569 , 0.40000004]],\n",
       " \n",
       "         [[0.41176474, 0.47450984, 0.53333336],\n",
       "          [0.31764707, 0.3647059 , 0.41176474],\n",
       "          [0.25882354, 0.29803923, 0.3372549 ],\n",
       "          ...,\n",
       "          [0.3647059 , 0.4039216 , 0.40000004],\n",
       "          [0.31764707, 0.38823533, 0.38823533],\n",
       "          [0.3372549 , 0.3803922 , 0.39607847]]],\n",
       " \n",
       " \n",
       "        ...,\n",
       " \n",
       " \n",
       "        [[[0.56078434, 0.5058824 , 0.47058827],\n",
       "          [0.5764706 , 0.52156866, 0.48627454],\n",
       "          [0.57254905, 0.5294118 , 0.5058824 ],\n",
       "          ...,\n",
       "          [0.49803925, 0.49803925, 0.49803925],\n",
       "          [0.48235297, 0.48235297, 0.48235297],\n",
       "          [0.46274513, 0.47058827, 0.45882356]],\n",
       " \n",
       "         [[0.5686275 , 0.5137255 , 0.4784314 ],\n",
       "          [0.58431375, 0.5294118 , 0.49411768],\n",
       "          [0.6039216 , 0.54509807, 0.5176471 ],\n",
       "          ...,\n",
       "          [0.5411765 , 0.5176471 , 0.5254902 ],\n",
       "          [0.5294118 , 0.50980395, 0.49411768],\n",
       "          [0.5294118 , 0.4901961 , 0.48235297]],\n",
       " \n",
       "         [[0.5686275 , 0.5137255 , 0.4784314 ],\n",
       "          [0.58431375, 0.5294118 , 0.49411768],\n",
       "          [0.6039216 , 0.54509807, 0.5176471 ],\n",
       "          ...,\n",
       "          [0.5764706 , 0.5254902 , 0.4901961 ],\n",
       "          [0.56078434, 0.5137255 , 0.45098042],\n",
       "          [0.5411765 , 0.4901961 , 0.427451  ]],\n",
       " \n",
       "         ...,\n",
       " \n",
       "         [[0.27058825, 0.26666668, 0.25882354],\n",
       "          [0.21960786, 0.227451  , 0.20784315],\n",
       "          [0.3137255 , 0.31764707, 0.3254902 ],\n",
       "          ...,\n",
       "          [0.454902  , 0.36078432, 0.25882354],\n",
       "          [0.5764706 , 0.48235297, 0.3803922 ],\n",
       "          [0.54509807, 0.45098042, 0.34901962]],\n",
       " \n",
       "         [[0.27450982, 0.26666668, 0.21568629],\n",
       "          [0.23137257, 0.22352943, 0.1764706 ],\n",
       "          [0.31764707, 0.29803923, 0.28235295],\n",
       "          ...,\n",
       "          [0.54509807, 0.4666667 , 0.36862746],\n",
       "          [0.3372549 , 0.27450982, 0.22352943],\n",
       "          [0.46274513, 0.36862746, 0.32941177]],\n",
       " \n",
       "         [[0.40000004, 0.35686275, 0.33333334],\n",
       "          [0.28235295, 0.26666668, 0.2627451 ],\n",
       "          [0.27058825, 0.29411766, 0.29411766],\n",
       "          ...,\n",
       "          [0.59607846, 0.454902  , 0.40000004],\n",
       "          [0.21568629, 0.20000002, 0.19607845],\n",
       "          [0.2627451 , 0.24705884, 0.21176472]]],\n",
       " \n",
       " \n",
       "        [[[0.65882355, 0.5568628 , 0.427451  ],\n",
       "          [0.60784316, 0.47058827, 0.3529412 ],\n",
       "          [0.7058824 , 0.5686275 , 0.45098042],\n",
       "          ...,\n",
       "          [0.5294118 , 0.4784314 , 0.4039216 ],\n",
       "          [0.38823533, 0.3372549 , 0.2627451 ],\n",
       "          [0.45098042, 0.28627452, 0.23137257]],\n",
       " \n",
       "         [[0.6666667 , 0.5803922 , 0.38823533],\n",
       "          [0.7411765 , 0.5803922 , 0.47058827],\n",
       "          [0.7372549 , 0.5764706 , 0.4666667 ],\n",
       "          ...,\n",
       "          [0.53333336, 0.38823533, 0.31764707],\n",
       "          [0.3529412 , 0.3019608 , 0.2392157 ],\n",
       "          [0.43137258, 0.37254903, 0.28235295]],\n",
       " \n",
       "         [[0.75294125, 0.6       , 0.47058827],\n",
       "          [0.74509805, 0.6039216 , 0.46274513],\n",
       "          [0.7372549 , 0.59607846, 0.454902  ],\n",
       "          ...,\n",
       "          [0.44705886, 0.3647059 , 0.28235295],\n",
       "          [0.2627451 , 0.20000002, 0.14117648],\n",
       "          [0.41176474, 0.3019608 , 0.20784315]],\n",
       " \n",
       "         ...,\n",
       " \n",
       "         [[0.67058825, 0.5686275 , 0.43921572],\n",
       "          [0.60784316, 0.49803925, 0.4039216 ],\n",
       "          [0.5254902 , 0.42352945, 0.29411766],\n",
       "          ...,\n",
       "          [0.5254902 , 0.45882356, 0.2901961 ],\n",
       "          [0.5882353 , 0.45882356, 0.32941177],\n",
       "          [0.6117647 , 0.4784314 , 0.32941177]],\n",
       " \n",
       "         [[0.59607846, 0.4666667 , 0.3372549 ],\n",
       "          [0.5019608 , 0.3803922 , 0.26666668],\n",
       "          [0.72156864, 0.59607846, 0.5058824 ],\n",
       "          ...,\n",
       "          [0.5647059 , 0.427451  , 0.30980393],\n",
       "          [0.7058824 , 0.6039216 , 0.4666667 ],\n",
       "          [0.67058825, 0.5372549 , 0.40000004]],\n",
       " \n",
       "         [[0.4666667 , 0.4039216 , 0.27450982],\n",
       "          [0.5764706 , 0.4784314 , 0.35686275],\n",
       "          [0.6313726 , 0.5294118 , 0.43137258],\n",
       "          ...,\n",
       "          [0.5254902 , 0.38823533, 0.27058825],\n",
       "          [0.58431375, 0.48235297, 0.3372549 ],\n",
       "          [0.5921569 , 0.48235297, 0.3254902 ]]],\n",
       " \n",
       " \n",
       "        [[[0.5176471 , 0.67058825, 0.46274513],\n",
       "          [0.49803925, 0.62352943, 0.427451  ],\n",
       "          [0.5411765 , 0.6509804 , 0.45882356],\n",
       "          ...,\n",
       "          [0.4431373 , 0.6313726 , 0.39607847],\n",
       "          [0.43921572, 0.62352943, 0.40784317],\n",
       "          [0.40000004, 0.6156863 , 0.36078432]],\n",
       " \n",
       "         [[0.5294118 , 0.6666667 , 0.43921572],\n",
       "          [0.5137255 , 0.6431373 , 0.41960788],\n",
       "          [0.5372549 , 0.6666667 , 0.4431373 ],\n",
       "          ...,\n",
       "          [0.4431373 , 0.61960787, 0.38823533],\n",
       "          [0.427451  , 0.6039216 , 0.38823533],\n",
       "          [0.39607847, 0.6       , 0.35686275]],\n",
       " \n",
       "         [[0.54901963, 0.6666667 , 0.47058827],\n",
       "          [0.54901963, 0.68235296, 0.48235297],\n",
       "          [0.54901963, 0.69411767, 0.4901961 ],\n",
       "          ...,\n",
       "          [0.43921572, 0.6117647 , 0.3803922 ],\n",
       "          [0.43137258, 0.6       , 0.38823533],\n",
       "          [0.40000004, 0.58431375, 0.36862746]],\n",
       " \n",
       "         ...,\n",
       " \n",
       "         [[0.19607845, 0.19607845, 0.24313727],\n",
       "          [0.17254902, 0.1764706 , 0.19607845],\n",
       "          [0.23137257, 0.23529413, 0.24313727],\n",
       "          ...,\n",
       "          [0.41960788, 0.41176474, 0.4156863 ],\n",
       "          [0.3803922 , 0.37254903, 0.37647063],\n",
       "          [0.4901961 , 0.48235297, 0.49411768]],\n",
       " \n",
       "         [[0.2509804 , 0.24705884, 0.26666668],\n",
       "          [0.24705884, 0.2392157 , 0.28235295],\n",
       "          [0.3803922 , 0.3803922 , 0.37254903],\n",
       "          ...,\n",
       "          [0.3921569 , 0.38823533, 0.3803922 ],\n",
       "          [0.43921572, 0.43529415, 0.427451  ],\n",
       "          [0.42352945, 0.41960788, 0.41176474]],\n",
       " \n",
       "         [[0.09803922, 0.09411766, 0.1137255 ],\n",
       "          [0.07058824, 0.06666667, 0.09019608],\n",
       "          [0.23137257, 0.227451  , 0.24705884],\n",
       "          ...,\n",
       "          [0.34509805, 0.34117648, 0.33333334],\n",
       "          [0.454902  , 0.45098042, 0.4431373 ],\n",
       "          [0.5019608 , 0.49803925, 0.48235297]]]], dtype=float32))"
      ]
     },
     "execution_count": 16,
     "metadata": {},
     "output_type": "execute_result"
    }
   ],
   "source": [
    "x_test.shape, x_test"
   ]
  },
  {
   "cell_type": "markdown",
   "id": "98d3cefe",
   "metadata": {},
   "source": [
    "### make a prediction"
   ]
  },
  {
   "cell_type": "markdown",
   "id": "8d8ad73d",
   "metadata": {},
   "source": [
    "#### probability"
   ]
  },
  {
   "cell_type": "code",
   "execution_count": 17,
   "id": "80070cd8",
   "metadata": {
    "ExecuteTime": {
     "end_time": "2021-12-29T12:40:57.453102Z",
     "start_time": "2021-12-29T12:40:50.612415Z"
    },
    "scrolled": true
   },
   "outputs": [
    {
     "data": {
      "text/plain": [
       "array([[1.8207908e-13, 1.0000000e+00],\n",
       "       [6.8637696e-10, 1.0000000e+00],\n",
       "       [1.6027747e-03, 9.9839717e-01],\n",
       "       ...,\n",
       "       [1.0000000e+00, 4.1200221e-09],\n",
       "       [9.9999928e-01, 7.3730746e-07],\n",
       "       [3.7327605e-01, 6.2672395e-01]], dtype=float32)"
      ]
     },
     "execution_count": 17,
     "metadata": {},
     "output_type": "execute_result"
    }
   ],
   "source": [
    "model.predict( x_test)"
   ]
  },
  {
   "cell_type": "markdown",
   "id": "fbf8b559",
   "metadata": {},
   "source": [
    "#### 최종 class"
   ]
  },
  {
   "cell_type": "code",
   "execution_count": 18,
   "id": "627fc8fb",
   "metadata": {
    "ExecuteTime": {
     "end_time": "2021-12-29T12:41:06.570213Z",
     "start_time": "2021-12-29T12:40:59.773243Z"
    },
    "scrolled": true
   },
   "outputs": [
    {
     "data": {
      "text/plain": [
       "array([1, 1, 1, 1, 0, 0, 0, 1, 1, 1, 1, 1, 0, 0, 1, 1, 0, 1, 0, 0, 0, 0,\n",
       "       1, 0, 1, 0, 0, 0, 1, 0, 0, 0, 1, 1, 0, 1, 0, 1, 0, 0, 1, 0, 1, 1,\n",
       "       0, 0, 0, 0, 0, 0, 0, 0, 1, 1, 1, 0, 0, 0, 1, 0, 1, 0, 0, 0, 1, 0,\n",
       "       0, 0, 1, 1, 0, 0, 1, 0, 0, 0, 1, 1, 0, 0, 1, 1, 1, 0, 0, 1, 1, 0,\n",
       "       0, 1, 0, 1, 1, 1, 1, 1, 1, 1, 1, 1, 0, 1, 0, 1, 0, 0, 1, 0, 1, 1,\n",
       "       1, 0, 1, 1, 1, 0, 1, 1, 1, 1, 0, 0, 1, 1, 1, 0, 0, 0, 1, 1, 0, 0,\n",
       "       0, 0, 0, 1, 0, 1, 0, 0, 0, 0, 1, 0, 1, 1, 1, 1, 0, 1, 1, 0, 0, 0,\n",
       "       0, 0, 1, 1, 0, 0, 1, 0, 0, 1, 1, 1, 0, 0, 0, 1, 0, 1, 0, 1, 1, 1,\n",
       "       1, 0, 0, 0, 1, 1, 1, 0, 0, 1, 0, 0, 1, 0, 1, 1, 1, 1, 0, 0, 1, 0,\n",
       "       1, 1, 0, 1, 1, 1, 0, 1, 0, 0, 1, 1, 1, 1, 1, 0, 1, 0, 0, 0, 0, 0,\n",
       "       1, 0, 1, 0, 1, 0, 1, 0, 0, 0, 0, 1, 0, 1, 0, 0, 1, 1, 0, 0, 1, 1,\n",
       "       0, 0, 0, 0, 1, 1, 1, 0, 0, 0, 1, 1, 1, 1, 0, 0, 1, 0, 0, 0, 0, 1,\n",
       "       0, 0, 1, 1, 1, 1, 0, 0, 1, 1, 1, 0, 1, 1, 1, 1, 1, 1, 0, 1, 0, 1,\n",
       "       1, 0, 0, 0, 0, 0, 0, 0, 0, 0, 1, 0, 1, 0, 0, 1, 0, 0, 0, 1, 1, 1,\n",
       "       0, 0, 0, 1, 0, 0, 0, 1, 0, 0, 1, 0, 1, 1, 1, 0, 1, 1, 0, 1, 0, 0,\n",
       "       0, 1, 1, 0, 0, 1, 0, 0, 0, 0, 1, 1, 0, 1, 0, 1, 1, 0, 1, 1, 0, 0,\n",
       "       0, 0, 1, 1, 0, 0, 1, 0, 1, 0, 0, 0, 0, 1, 1, 1, 1, 1, 0, 0, 0, 1,\n",
       "       0, 0, 1, 0, 1, 1, 1, 0, 0, 1, 1, 0, 0, 1, 1, 0, 1, 1, 1, 0, 1, 1,\n",
       "       1, 1, 1, 0, 1, 1, 1, 0, 0, 0, 1, 0, 0, 0, 1, 0, 0, 0, 0, 1, 1, 1,\n",
       "       0, 1, 0, 0, 1, 0, 0, 1, 1, 0, 0, 0, 0, 0, 1, 0, 0, 0, 0, 0, 0, 0,\n",
       "       0, 0, 1, 1, 1, 1, 0, 1, 1, 1, 1, 0, 1, 0, 1, 1, 0, 0, 1, 0, 0, 0,\n",
       "       1, 0, 1, 1, 1, 0, 1, 1, 1, 0, 0, 1, 0, 0, 0, 0, 0, 1, 1, 0, 0, 0,\n",
       "       1, 0, 0, 0, 0, 1, 0, 0, 1, 1, 1, 0, 1, 0, 0, 1, 0, 1, 1, 0, 1, 1,\n",
       "       0, 1, 1, 1, 0, 1, 1, 1, 0, 1, 0, 0, 0, 1, 1, 0, 0, 1, 0, 1, 1, 1,\n",
       "       0, 0, 1, 0, 0, 0, 0, 1, 0, 1, 1, 1, 0, 0, 1], dtype=int64)"
      ]
     },
     "execution_count": 18,
     "metadata": {},
     "output_type": "execute_result"
    }
   ],
   "source": [
    "model.predict( x_test).argmax(axis=1)"
   ]
  },
  {
   "cell_type": "markdown",
   "id": "ad289e0d",
   "metadata": {},
   "source": [
    "### Label(정답) 확인"
   ]
  },
  {
   "cell_type": "code",
   "execution_count": 19,
   "id": "3885078b",
   "metadata": {
    "ExecuteTime": {
     "end_time": "2021-12-29T12:41:07.897322Z",
     "start_time": "2021-12-29T12:41:07.887409Z"
    }
   },
   "outputs": [
    {
     "data": {
      "text/plain": [
       "{'lion': 0, 'tiger': 1}"
      ]
     },
     "execution_count": 19,
     "metadata": {},
     "output_type": "execute_result"
    }
   ],
   "source": [
    "trainGen.class_indices"
   ]
  },
  {
   "cell_type": "code",
   "execution_count": null,
   "id": "6acfc954",
   "metadata": {},
   "outputs": [],
   "source": []
  },
  {
   "cell_type": "markdown",
   "id": "ff131d27",
   "metadata": {},
   "source": [
    "## Confusion Matrix"
   ]
  },
  {
   "cell_type": "code",
   "execution_count": 20,
   "id": "3d018bd7",
   "metadata": {
    "ExecuteTime": {
     "end_time": "2021-12-29T12:41:16.757540Z",
     "start_time": "2021-12-29T12:41:16.587641Z"
    }
   },
   "outputs": [],
   "source": [
    "from sklearn.metrics import confusion_matrix, accuracy_score,  f1_score\n",
    "import seaborn as sns"
   ]
  },
  {
   "cell_type": "code",
   "execution_count": 22,
   "id": "63e5711b",
   "metadata": {
    "ExecuteTime": {
     "end_time": "2021-12-29T12:41:17.932474Z",
     "start_time": "2021-12-29T12:41:17.924490Z"
    }
   },
   "outputs": [],
   "source": [
    "import numpy as np\n",
    "import pandas as pd\n",
    "import os\n",
    "\n",
    "import matplotlib\n",
    "import matplotlib.pyplot as plt\n",
    "import seaborn as sns\n",
    "\n",
    "%matplotlib inline\n",
    "\n",
    "# 관련 라이브러리 임포트 \n",
    "import matplotlib.font_manager as fm\n",
    "\n",
    "#  한글글꼴로 변경\n",
    "# plt.rcParams['font.family'] = '한글글꼴명'\n",
    "plt.rcParams['font.size'] = 11.0\n",
    "# plt.rcParams['font.family'] = 'batang'\n",
    "plt.rcParams['font.family'] = 'Malgun Gothic'\n",
    "\n",
    "# 그래프에서 마이너스 폰트 깨지는 문제에 대한 대처\n",
    "matplotlib.rcParams['axes.unicode_minus'] = False"
   ]
  },
  {
   "cell_type": "code",
   "execution_count": 29,
   "id": "e84df43b",
   "metadata": {
    "ExecuteTime": {
     "end_time": "2021-12-29T12:44:11.358504Z",
     "start_time": "2021-12-29T12:44:11.346537Z"
    }
   },
   "outputs": [],
   "source": [
    "plt.rcParams['figure.figsize'] = [14, 9]\n",
    "plt.rcParams['xtick.labelsize'] = 15\n",
    "plt.rcParams['ytick.labelsize'] = 15\n",
    "plt.rcParams['axes.titlesize'] = 30\n",
    "plt.rcParams['axes.labelsize'] = 25"
   ]
  },
  {
   "cell_type": "markdown",
   "id": "18057d8c",
   "metadata": {},
   "source": [
    "### Train data"
   ]
  },
  {
   "cell_type": "code",
   "execution_count": 26,
   "id": "508014e1",
   "metadata": {
    "ExecuteTime": {
     "end_time": "2021-12-29T12:43:33.811373Z",
     "start_time": "2021-12-29T12:43:22.738844Z"
    }
   },
   "outputs": [
    {
     "data": {
      "text/plain": [
       "array([[442,   0],\n",
       "       [  0, 443]], dtype=int64)"
      ]
     },
     "execution_count": 26,
     "metadata": {},
     "output_type": "execute_result"
    }
   ],
   "source": [
    "confusion_matrix(y_train.argmax(axis=1), model.predict( x_train).argmax(axis=1))"
   ]
  },
  {
   "cell_type": "code",
   "execution_count": 30,
   "id": "63eb692e",
   "metadata": {
    "ExecuteTime": {
     "end_time": "2021-12-29T12:44:24.569334Z",
     "start_time": "2021-12-29T12:44:13.364923Z"
    }
   },
   "outputs": [
    {
     "data": {
      "image/png": "[encoded data removed]",
      "text/plain": [
       "<Figure size 1008x648 with 2 Axes>"
      ]
     },
     "metadata": {
      "needs_background": "light"
     },
     "output_type": "display_data"
    }
   ],
   "source": [
    "sns.heatmap(confusion_matrix(y_train.argmax(axis=1), model.predict( x_train).argmax(axis=1)),\n",
    "            annot=True,\n",
    "            annot_kws={'size': 20},\n",
    "            cmap='Reds',\n",
    "            fmt = 'd',                             # 지수로 안나오고 정수로 나오게\n",
    "            linewidths=0.5\n",
    "           );"
   ]
  },
  {
   "cell_type": "markdown",
   "id": "14e90e41",
   "metadata": {},
   "source": [
    "### Test data"
   ]
  },
  {
   "cell_type": "code",
   "execution_count": 32,
   "id": "6467b947",
   "metadata": {
    "ExecuteTime": {
     "end_time": "2021-12-29T12:45:17.307107Z",
     "start_time": "2021-12-29T12:45:10.414699Z"
    }
   },
   "outputs": [
    {
     "data": {
      "text/plain": [
       "array([[250,  22],\n",
       "       [ 33, 238]], dtype=int64)"
      ]
     },
     "execution_count": 32,
     "metadata": {},
     "output_type": "execute_result"
    }
   ],
   "source": [
    "confusion_matrix(y_test.argmax(axis=1), model.predict( x_test).argmax(axis=1))"
   ]
  },
  {
   "cell_type": "code",
   "execution_count": 33,
   "id": "05ae54a3",
   "metadata": {
    "ExecuteTime": {
     "end_time": "2021-12-29T12:45:31.497524Z",
     "start_time": "2021-12-29T12:45:24.419773Z"
    }
   },
   "outputs": [
    {
     "data": {
      "image/png": "[encoded data removed]",
      "text/plain": [
       "<Figure size 1008x648 with 2 Axes>"
      ]
     },
     "metadata": {
      "needs_background": "light"
     },
     "output_type": "display_data"
    }
   ],
   "source": [
    "sns.heatmap(confusion_matrix(y_test.argmax(axis=1), model.predict( x_test).argmax(axis=1)),\n",
    "            annot=True,\n",
    "            annot_kws={'size': 20},\n",
    "            cmap='Reds',\n",
    "            fmt = 'd',                             # 지수로 안나오고 정수로 나오게\n",
    "            linewidths=0.5\n",
    "           );"
   ]
  },
  {
   "cell_type": "code",
   "execution_count": null,
   "id": "306dcf57",
   "metadata": {},
   "outputs": [],
   "source": []
  },
  {
   "cell_type": "markdown",
   "id": "80b8c115",
   "metadata": {},
   "source": [
    "## Accuracy"
   ]
  },
  {
   "cell_type": "markdown",
   "id": "6bc3b1be",
   "metadata": {},
   "source": [
    "### Train data"
   ]
  },
  {
   "cell_type": "code",
   "execution_count": 34,
   "id": "a9ed4ea4",
   "metadata": {
    "ExecuteTime": {
     "end_time": "2021-12-29T12:45:45.734115Z",
     "start_time": "2021-12-29T12:45:34.615958Z"
    }
   },
   "outputs": [
    {
     "name": "stdout",
     "output_type": "stream",
     "text": [
      "28/28 [==============================] - 11s 395ms/step - loss: 2.1013e-08 - acc: 1.0000\n"
     ]
    },
    {
     "data": {
      "text/plain": [
       "[2.1013160989014068e-08, 1.0]"
      ]
     },
     "execution_count": 34,
     "metadata": {},
     "output_type": "execute_result"
    }
   ],
   "source": [
    "model.evaluate(x_train, y_train)"
   ]
  },
  {
   "cell_type": "markdown",
   "id": "63fb3dbd",
   "metadata": {},
   "source": [
    "### Test data"
   ]
  },
  {
   "cell_type": "code",
   "execution_count": 35,
   "id": "288a7bec",
   "metadata": {
    "ExecuteTime": {
     "end_time": "2021-12-29T12:45:53.562827Z",
     "start_time": "2021-12-29T12:45:46.740713Z"
    }
   },
   "outputs": [
    {
     "name": "stdout",
     "output_type": "stream",
     "text": [
      "17/17 [==============================] - 7s 399ms/step - loss: 0.8314 - acc: 0.8987\n"
     ]
    },
    {
     "data": {
      "text/plain": [
       "[0.8314428329467773, 0.8987108469009399]"
      ]
     },
     "execution_count": 35,
     "metadata": {},
     "output_type": "execute_result"
    }
   ],
   "source": [
    "model.evaluate(x_test, y_test)"
   ]
  },
  {
   "cell_type": "code",
   "execution_count": null,
   "id": "e74f9d09",
   "metadata": {},
   "outputs": [],
   "source": []
  },
  {
   "cell_type": "markdown",
   "id": "1ce73142",
   "metadata": {},
   "source": [
    "## f1 score"
   ]
  },
  {
   "cell_type": "markdown",
   "id": "af997ad9",
   "metadata": {},
   "source": [
    "### Train data"
   ]
  },
  {
   "cell_type": "code",
   "execution_count": 37,
   "id": "58eee742",
   "metadata": {
    "ExecuteTime": {
     "end_time": "2021-12-29T12:47:13.931969Z",
     "start_time": "2021-12-29T12:47:02.915793Z"
    }
   },
   "outputs": [
    {
     "name": "stdout",
     "output_type": "stream",
     "text": [
      "F1 스코어: 1.0000\n"
     ]
    }
   ],
   "source": [
    "f1 = f1_score(y_train.argmax(axis=1), model.predict( x_train).argmax(axis=1))\n",
    "print(f'F1 스코어: {f1:.4f}')"
   ]
  },
  {
   "cell_type": "markdown",
   "id": "a9e20523",
   "metadata": {},
   "source": [
    "### Test data"
   ]
  },
  {
   "cell_type": "code",
   "execution_count": 36,
   "id": "5a495b28",
   "metadata": {
    "ExecuteTime": {
     "end_time": "2021-12-29T12:46:33.181799Z",
     "start_time": "2021-12-29T12:46:26.377860Z"
    }
   },
   "outputs": [
    {
     "name": "stdout",
     "output_type": "stream",
     "text": [
      "F1 스코어: 0.8964\n"
     ]
    }
   ],
   "source": [
    "f1 = f1_score(y_test.argmax(axis=1), model.predict( x_test).argmax(axis=1))\n",
    "print(f'F1 스코어: {f1:.4f}')"
   ]
  },
  {
   "cell_type": "code",
   "execution_count": null,
   "id": "7eb314b7",
   "metadata": {},
   "outputs": [],
   "source": []
  },
  {
   "cell_type": "code",
   "execution_count": null,
   "id": "514cd5aa",
   "metadata": {},
   "outputs": [],
   "source": []
  },
  {
   "cell_type": "code",
   "execution_count": null,
   "id": "0a788335",
   "metadata": {},
   "outputs": [],
   "source": []
  },
  {
   "cell_type": "code",
   "execution_count": null,
   "id": "0cf22f9f",
   "metadata": {},
   "outputs": [],
   "source": []
  },
  {
   "cell_type": "code",
   "execution_count": null,
   "id": "a489e2b9",
   "metadata": {},
   "outputs": [],
   "source": []
  },
  {
   "cell_type": "markdown",
   "id": "31ddeb41",
   "metadata": {},
   "source": [
    "## 전혀 다른 새로운 데이터 Test\n",
    "\n",
    "```\n",
    "새로운 데이터를 다시 크롤링 ==> 새로운 Test data ==> accuracy 계산\n",
    "```"
   ]
  },
  {
   "cell_type": "code",
   "execution_count": 38,
   "id": "30d3db4b",
   "metadata": {
    "ExecuteTime": {
     "end_time": "2021-12-29T12:47:28.377606Z",
     "start_time": "2021-12-29T12:47:26.516673Z"
    }
   },
   "outputs": [
    {
     "name": "stdout",
     "output_type": "stream",
     "text": [
      "Found 270 images belonging to 2 classes.\n"
     ]
    }
   ],
   "source": [
    "dataGen = image.ImageDataGenerator( rescale=1./255)\n",
    "testGen = dataGen.flow_from_directory( 'image5', target_size=(98,98), batch_size=270) # (98,98)인 이유는 model_conv.summary()의 맨 처음을 봐라\n",
    "x_test_new, y_test_new = testGen.next()"
   ]
  },
  {
   "cell_type": "markdown",
   "id": "8329d8d8",
   "metadata": {},
   "source": [
    "### Accuracy"
   ]
  },
  {
   "cell_type": "code",
   "execution_count": 39,
   "id": "eab73f55",
   "metadata": {
    "ExecuteTime": {
     "end_time": "2021-12-29T12:47:35.528761Z",
     "start_time": "2021-12-29T12:47:32.102995Z"
    }
   },
   "outputs": [
    {
     "name": "stdout",
     "output_type": "stream",
     "text": [
      "9/9 [==============================] - 3s 373ms/step - loss: 1.6636 - acc: 0.8741\n"
     ]
    },
    {
     "data": {
      "text/plain": [
       "[1.6635879278182983, 0.8740741014480591]"
      ]
     },
     "execution_count": 39,
     "metadata": {},
     "output_type": "execute_result"
    }
   ],
   "source": [
    "model.evaluate(x_test_new, y_test_new)"
   ]
  },
  {
   "cell_type": "code",
   "execution_count": null,
   "id": "3297a199",
   "metadata": {},
   "outputs": [],
   "source": []
  },
  {
   "cell_type": "markdown",
   "id": "9d9081b7",
   "metadata": {},
   "source": [
    "### Confusion Matrix"
   ]
  },
  {
   "cell_type": "code",
   "execution_count": 43,
   "id": "f00d331f",
   "metadata": {
    "ExecuteTime": {
     "end_time": "2021-12-29T12:50:22.925947Z",
     "start_time": "2021-12-29T12:50:19.324889Z"
    }
   },
   "outputs": [
    {
     "data": {
      "text/plain": [
       "array([[116,  19],\n",
       "       [ 15, 120]], dtype=int64)"
      ]
     },
     "execution_count": 43,
     "metadata": {},
     "output_type": "execute_result"
    }
   ],
   "source": [
    "confusion_matrix(y_test_new.argmax(axis=1) ,model.predict( x_test_new).argmax(axis=1))"
   ]
  },
  {
   "cell_type": "code",
   "execution_count": 44,
   "id": "ad5433fd",
   "metadata": {
    "ExecuteTime": {
     "end_time": "2021-12-29T12:50:30.886058Z",
     "start_time": "2021-12-29T12:50:27.268911Z"
    }
   },
   "outputs": [
    {
     "data": {
      "image/png": "[encoded data removed]",
      "text/plain": [
       "<Figure size 1008x648 with 2 Axes>"
      ]
     },
     "metadata": {
      "needs_background": "light"
     },
     "output_type": "display_data"
    }
   ],
   "source": [
    "sns.heatmap(confusion_matrix(y_test_new.argmax(axis=1) ,model.predict( x_test_new).argmax(axis=1)),\n",
    "            annot=True,\n",
    "            annot_kws={'size': 20},\n",
    "            cmap='Reds',\n",
    "            fmt = 'd',                             # 지수로 안나오고 정수로 나오게\n",
    "            linewidths=0.5\n",
    "           );"
   ]
  },
  {
   "cell_type": "code",
   "execution_count": null,
   "id": "2edc047e",
   "metadata": {},
   "outputs": [],
   "source": []
  },
  {
   "cell_type": "markdown",
   "id": "5e5b8883",
   "metadata": {},
   "source": [
    "### f1 score"
   ]
  },
  {
   "cell_type": "code",
   "execution_count": 42,
   "id": "7bb11903",
   "metadata": {
    "ExecuteTime": {
     "end_time": "2021-12-29T12:49:13.491272Z",
     "start_time": "2021-12-29T12:49:10.092671Z"
    }
   },
   "outputs": [
    {
     "name": "stdout",
     "output_type": "stream",
     "text": [
      "F1 스코어: 0.8759\n"
     ]
    }
   ],
   "source": [
    "f1 = f1_score(y_test_new.argmax(axis=1) ,model.predict( x_test_new).argmax(axis=1))\n",
    "print(f'F1 스코어: {f1:.4f}')"
   ]
  },
  {
   "cell_type": "code",
   "execution_count": null,
   "id": "19e58b4b",
   "metadata": {},
   "outputs": [],
   "source": []
  }
 ],
 "metadata": {
  "kernelspec": {
   "display_name": "Python 3",
   "language": "python",
   "name": "python3"
  },
  "language_info": {
   "codemirror_mode": {
    "name": "ipython",
    "version": 3
   },
   "file_extension": ".py",
   "mimetype": "text/x-python",
   "name": "python",
   "nbconvert_exporter": "python",
   "pygments_lexer": "ipython3",
   "version": "3.8.8"
  },
  "toc": {
   "base_numbering": 1,
   "nav_menu": {},
   "number_sections": true,
   "sideBar": true,
   "skip_h1_title": false,
   "title_cell": "Table of Contents",
   "title_sidebar": "Contents",
   "toc_cell": false,
   "toc_position": {
    "height": "calc(100% - 180px)",
    "left": "10px",
    "top": "150px",
    "width": "426.667px"
   },
   "toc_section_display": true,
   "toc_window_display": true
  },
  "varInspector": {
   "cols": {
    "lenName": 16,
    "lenType": 16,
    "lenVar": 40
   },
   "kernels_config": {
    "python": {
     "delete_cmd_postfix": "",
     "delete_cmd_prefix": "del ",
     "library": "var_list.py",
     "varRefreshCmd": "print(var_dic_list())"
    },
    "r": {
     "delete_cmd_postfix": ") ",
     "delete_cmd_prefix": "rm(",
     "library": "var_list.r",
     "varRefreshCmd": "cat(var_dic_list()) "
    }
   },
   "types_to_exclude": [
    "module",
    "function",
    "builtin_function_or_method",
    "instance",
    "_Feature"
   ],
   "window_display": false
  }
 },
 "nbformat": 4,
 "nbformat_minor": 5
}
