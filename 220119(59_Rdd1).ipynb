{
 "cells": [
  {
   "cell_type": "code",
   "execution_count": 1,
   "id": "d962c484",
   "metadata": {},
   "outputs": [],
   "source": [
    "from pyspark import SparkContext"
   ]
  },
  {
   "cell_type": "code",
   "execution_count": 2,
   "id": "31ed6fca",
   "metadata": {},
   "outputs": [],
   "source": [
    "sc = SparkContext('local') #단일 worker thread"
   ]
  },
  {
   "cell_type": "markdown",
   "id": "f3a03ced",
   "metadata": {},
   "source": [
    "#### rdd : 분산리스트"
   ]
  },
  {
   "cell_type": "code",
   "execution_count": 3,
   "id": "c53c5238",
   "metadata": {},
   "outputs": [
    {
     "data": {
      "text/plain": [
       "data/aa.txt MapPartitionsRDD[1] at textFile at NativeMethodAccessorImpl.java:0"
      ]
     },
     "execution_count": 3,
     "metadata": {},
     "output_type": "execute_result"
    }
   ],
   "source": [
    "rdd1 = sc.textFile('data/aa.txt') #'hdfs://localhost:9000/data/aa.txt' (실제 읽어오는 방식)\n",
    "rdd1"
   ]
  },
  {
   "cell_type": "code",
   "execution_count": 4,
   "id": "0b4fb3a4",
   "metadata": {},
   "outputs": [
    {
     "data": {
      "text/plain": [
       "['나는 자랑스런', '태극기 앞에', '조국과 태극기', '몸과 나는']"
      ]
     },
     "execution_count": 4,
     "metadata": {},
     "output_type": "execute_result"
    }
   ],
   "source": [
    "rdd1.collect() #action 함수 -> 함부로 사용하면 메모리 쥬금"
   ]
  },
  {
   "cell_type": "code",
   "execution_count": 5,
   "id": "c33367af",
   "metadata": {},
   "outputs": [
    {
     "data": {
      "text/plain": [
       "ParallelCollectionRDD[2] at readRDDFromFile at PythonRDD.scala:262"
      ]
     },
     "execution_count": 5,
     "metadata": {},
     "output_type": "execute_result"
    }
   ],
   "source": [
    "my = [10, 20, 30, 40, 50]\n",
    "nRdd = sc.parallelize(my) #리스트를 rdd로\n",
    "nRdd"
   ]
  },
  {
   "cell_type": "code",
   "execution_count": 6,
   "id": "effde7df",
   "metadata": {},
   "outputs": [
    {
     "data": {
      "text/plain": [
       "[10, 20, 30, 40, 50]"
      ]
     },
     "execution_count": 6,
     "metadata": {},
     "output_type": "execute_result"
    }
   ],
   "source": [
    "nRdd.collect()"
   ]
  },
  {
   "cell_type": "code",
   "execution_count": 7,
   "id": "5a7c567e",
   "metadata": {},
   "outputs": [],
   "source": [
    "sc.stop()"
   ]
  }
 ],
 "metadata": {
  "kernelspec": {
   "display_name": "Python 3",
   "language": "python",
   "name": "python3"
  },
  "language_info": {
   "codemirror_mode": {
    "name": "ipython",
    "version": 3
   },
   "file_extension": ".py",
   "mimetype": "text/x-python",
   "name": "python",
   "nbconvert_exporter": "python",
   "pygments_lexer": "ipython3",
   "version": "3.8.8"
  }
 },
 "nbformat": 4,
 "nbformat_minor": 5
}
