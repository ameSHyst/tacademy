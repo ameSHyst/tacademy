{
 "cells": [
  {
   "cell_type": "code",
   "execution_count": 1,
   "id": "b1375872",
   "metadata": {},
   "outputs": [],
   "source": [
    "from pyspark import SparkContext"
   ]
  },
  {
   "cell_type": "code",
   "execution_count": 2,
   "id": "81f9fc3a",
   "metadata": {},
   "outputs": [],
   "source": [
    "sc = SparkContext('local')"
   ]
  },
  {
   "cell_type": "code",
   "execution_count": 3,
   "id": "0247359e",
   "metadata": {},
   "outputs": [
    {
     "data": {
      "text/plain": [
       "['10,20', '30,40', '50,60', '20,40']"
      ]
     },
     "execution_count": 3,
     "metadata": {},
     "output_type": "execute_result"
    }
   ],
   "source": [
    "rdd1 = sc.textFile('data/bb.txt') #라인 단위로 읽어와서 분산 메모리에 적재\n",
    "rdd1.collect()"
   ]
  },
  {
   "cell_type": "code",
   "execution_count": 5,
   "id": "f8529cce",
   "metadata": {},
   "outputs": [
    {
     "data": {
      "text/plain": [
       "['10', '20', '30', '40', '50', '60', '20', '40']"
      ]
     },
     "execution_count": 5,
     "metadata": {},
     "output_type": "execute_result"
    }
   ],
   "source": [
    "rdd2 = rdd1.flatMap(lambda v: v.split(','))\n",
    "rdd2.collect()"
   ]
  },
  {
   "cell_type": "code",
   "execution_count": 6,
   "id": "1eb0d985",
   "metadata": {},
   "outputs": [
    {
     "data": {
      "text/plain": [
       "[10, 20, 30, 40, 50, 60, 20, 40]"
      ]
     },
     "execution_count": 6,
     "metadata": {},
     "output_type": "execute_result"
    }
   ],
   "source": [
    "rdd3 = rdd2.map(lambda v: int(v))\n",
    "rdd3.collect()"
   ]
  },
  {
   "cell_type": "code",
   "execution_count": 7,
   "id": "841b28fa",
   "metadata": {},
   "outputs": [
    {
     "data": {
      "text/plain": [
       "[10, 20, 30, 40, 50, 60]"
      ]
     },
     "execution_count": 7,
     "metadata": {},
     "output_type": "execute_result"
    }
   ],
   "source": [
    "rdd4 = rdd3.distinct() #transformation함수\n",
    "rdd4.collect()"
   ]
  },
  {
   "cell_type": "code",
   "execution_count": 8,
   "id": "eef79139",
   "metadata": {},
   "outputs": [
    {
     "data": {
      "text/plain": [
       "[10, 20, 30, 40, 50, 60]"
      ]
     },
     "execution_count": 8,
     "metadata": {},
     "output_type": "execute_result"
    }
   ],
   "source": [
    "myr = rdd1.flatMap(lambda v: v.split(',')).map(lambda v:int(v)).distinct()\n",
    "myr.collect()"
   ]
  },
  {
   "cell_type": "code",
   "execution_count": 9,
   "id": "7dad966e",
   "metadata": {},
   "outputs": [
    {
     "data": {
      "text/plain": [
       "10"
      ]
     },
     "execution_count": 9,
     "metadata": {},
     "output_type": "execute_result"
    }
   ],
   "source": [
    "myr.first() #action함수"
   ]
  },
  {
   "cell_type": "code",
   "execution_count": 10,
   "id": "f307d0bd",
   "metadata": {},
   "outputs": [
    {
     "data": {
      "text/plain": [
       "210"
      ]
     },
     "execution_count": 10,
     "metadata": {},
     "output_type": "execute_result"
    }
   ],
   "source": [
    "myr.sum() #action함수"
   ]
  },
  {
   "cell_type": "code",
   "execution_count": 11,
   "id": "74574f17",
   "metadata": {},
   "outputs": [
    {
     "data": {
      "text/plain": [
       "35.0"
      ]
     },
     "execution_count": 11,
     "metadata": {},
     "output_type": "execute_result"
    }
   ],
   "source": [
    "myr.mean() #action함수"
   ]
  },
  {
   "cell_type": "code",
   "execution_count": 12,
   "id": "94073eb1",
   "metadata": {},
   "outputs": [
    {
     "data": {
      "text/plain": [
       "60"
      ]
     },
     "execution_count": 12,
     "metadata": {},
     "output_type": "execute_result"
    }
   ],
   "source": [
    "myr.max() #action함수"
   ]
  },
  {
   "cell_type": "code",
   "execution_count": 13,
   "id": "06d00c8e",
   "metadata": {},
   "outputs": [
    {
     "data": {
      "text/plain": [
       "10"
      ]
     },
     "execution_count": 13,
     "metadata": {},
     "output_type": "execute_result"
    }
   ],
   "source": [
    "myr.min() #action함수"
   ]
  },
  {
   "cell_type": "code",
   "execution_count": 14,
   "id": "9722a986",
   "metadata": {},
   "outputs": [
    {
     "data": {
      "text/plain": [
       "17.07825127659933"
      ]
     },
     "execution_count": 14,
     "metadata": {},
     "output_type": "execute_result"
    }
   ],
   "source": [
    "myr.stdev() #action함수"
   ]
  },
  {
   "cell_type": "code",
   "execution_count": 15,
   "id": "504f0097",
   "metadata": {},
   "outputs": [
    {
     "data": {
      "text/plain": [
       "([1, 50, 100], [4, 2])"
      ]
     },
     "execution_count": 15,
     "metadata": {},
     "output_type": "execute_result"
    }
   ],
   "source": [
    "myr.histogram([1, 50, 100]) #1<=data<50, 50<=data<100"
   ]
  },
  {
   "cell_type": "code",
   "execution_count": 16,
   "id": "56b6ff3b",
   "metadata": {},
   "outputs": [
    {
     "data": {
      "text/plain": [
       "(count: 6, mean: 35.0, stdev: 17.07825127659933, max: 60.0, min: 10.0)"
      ]
     },
     "execution_count": 16,
     "metadata": {},
     "output_type": "execute_result"
    }
   ],
   "source": [
    "myr.stats()"
   ]
  },
  {
   "cell_type": "code",
   "execution_count": 19,
   "id": "100eae80",
   "metadata": {},
   "outputs": [],
   "source": [
    "def fn(a, b):\n",
    "    print('a=', a)\n",
    "    print('b=', b)\n",
    "    return a+b"
   ]
  },
  {
   "cell_type": "code",
   "execution_count": 20,
   "id": "f17c051c",
   "metadata": {},
   "outputs": [
    {
     "data": {
      "text/plain": [
       "210"
      ]
     },
     "execution_count": 20,
     "metadata": {},
     "output_type": "execute_result"
    }
   ],
   "source": [
    "# myr.reduce(lambda a,b: a+b)\n",
    "myr.reduce(fn) #transformation함수, 누적값"
   ]
  },
  {
   "cell_type": "code",
   "execution_count": null,
   "id": "ae858632",
   "metadata": {},
   "outputs": [],
   "source": [
    "[10, 20, 30, 40, 50, 60]"
   ]
  },
  {
   "cell_type": "code",
   "execution_count": 21,
   "id": "f1f70824",
   "metadata": {},
   "outputs": [],
   "source": [
    "sc.stop()"
   ]
  }
 ],
 "metadata": {
  "kernelspec": {
   "display_name": "Python 3",
   "language": "python",
   "name": "python3"
  },
  "language_info": {
   "codemirror_mode": {
    "name": "ipython",
    "version": 3
   },
   "file_extension": ".py",
   "mimetype": "text/x-python",
   "name": "python",
   "nbconvert_exporter": "python",
   "pygments_lexer": "ipython3",
   "version": "3.8.8"
  }
 },
 "nbformat": 4,
 "nbformat_minor": 5
}
