{
 "cells": [
  {
   "cell_type": "code",
   "execution_count": 1,
   "id": "1fbf0c3a",
   "metadata": {},
   "outputs": [],
   "source": [
    "from pyspark import SparkContext"
   ]
  },
  {
   "cell_type": "code",
   "execution_count": 2,
   "id": "ea236032",
   "metadata": {},
   "outputs": [],
   "source": [
    "sc = SparkContext('local')"
   ]
  },
  {
   "cell_type": "code",
   "execution_count": 3,
   "id": "5d0467bf",
   "metadata": {},
   "outputs": [],
   "source": [
    "my = [10, 20, 30, 40, 50]\n",
    "nRdd = sc.parallelize(my) #리스트를 rdd로"
   ]
  },
  {
   "cell_type": "code",
   "execution_count": 4,
   "id": "5aaa74ca",
   "metadata": {},
   "outputs": [
    {
     "data": {
      "text/plain": [
       "[10, 20]"
      ]
     },
     "execution_count": 4,
     "metadata": {},
     "output_type": "execute_result"
    }
   ],
   "source": [
    "nRdd.take(2) #action함수, = head(2)"
   ]
  },
  {
   "cell_type": "code",
   "execution_count": 5,
   "id": "09e5aea3",
   "metadata": {},
   "outputs": [],
   "source": [
    "nRdd.foreach(lambda v: print(v) ) #action함수, 개별 데이터 출력"
   ]
  },
  {
   "cell_type": "code",
   "execution_count": 6,
   "id": "a583b55d",
   "metadata": {},
   "outputs": [
    {
     "data": {
      "text/plain": [
       "PythonRDD[3] at RDD at PythonRDD.scala:53"
      ]
     },
     "execution_count": 6,
     "metadata": {},
     "output_type": "execute_result"
    }
   ],
   "source": [
    "newRdd = nRdd.map(lambda v: v+1 ) #transformation함수, (변형된)rdd 반환\n",
    "newRdd"
   ]
  },
  {
   "cell_type": "code",
   "execution_count": 7,
   "id": "9e8ddfa5",
   "metadata": {},
   "outputs": [
    {
     "data": {
      "text/plain": [
       "[11, 21, 31, 41, 51]"
      ]
     },
     "execution_count": 7,
     "metadata": {},
     "output_type": "execute_result"
    }
   ],
   "source": [
    "newRdd.collect()"
   ]
  },
  {
   "cell_type": "markdown",
   "id": "d9ac58f0",
   "metadata": {},
   "source": [
    "#### 30보다 크면 1을 더하고 이하면 2를 더한 rdd 생성하기"
   ]
  },
  {
   "cell_type": "code",
   "execution_count": 14,
   "id": "a70f3e4b",
   "metadata": {},
   "outputs": [
    {
     "data": {
      "text/plain": [
       "[12, 22, 31, 41, 51]"
      ]
     },
     "execution_count": 14,
     "metadata": {},
     "output_type": "execute_result"
    }
   ],
   "source": [
    "nuwRdd = nRdd.map(lambda v: v+1 if v >= 30 else v+2)\n",
    "nuwRdd.collect()"
   ]
  },
  {
   "cell_type": "code",
   "execution_count": 12,
   "id": "91f37b87",
   "metadata": {},
   "outputs": [],
   "source": [
    "txtRdd = sc.textFile('data/aa.txt')"
   ]
  },
  {
   "cell_type": "code",
   "execution_count": 13,
   "id": "821ae32d",
   "metadata": {},
   "outputs": [
    {
     "data": {
      "text/plain": [
       "['나는 자랑스런', '태극기 앞에', '조국과 태극기', '몸과 나는']"
      ]
     },
     "execution_count": 13,
     "metadata": {},
     "output_type": "execute_result"
    }
   ],
   "source": [
    "txtRdd.collect()"
   ]
  },
  {
   "cell_type": "code",
   "execution_count": 15,
   "id": "4ab646bb",
   "metadata": {},
   "outputs": [
    {
     "data": {
      "text/plain": [
       "[['나는', '자랑스런'], ['태극기', '앞에'], ['조국과', '태극기'], ['몸과', '나는']]"
      ]
     },
     "execution_count": 15,
     "metadata": {},
     "output_type": "execute_result"
    }
   ],
   "source": [
    "txtRdd1 = txtRdd.map(lambda v: v.split() )\n",
    "txtRdd1.collect()"
   ]
  },
  {
   "cell_type": "code",
   "execution_count": 16,
   "id": "0e572ef9",
   "metadata": {},
   "outputs": [
    {
     "data": {
      "text/plain": [
       "['나는', '자랑스런', '태극기', '앞에', '조국과', '태극기', '몸과', '나는']"
      ]
     },
     "execution_count": 16,
     "metadata": {},
     "output_type": "execute_result"
    }
   ],
   "source": [
    "txtRdd2 = txtRdd.flatMap(lambda v: v.split() ) #transformation함수\n",
    "txtRdd2.collect() #map의 리스트 대괄호를 제거"
   ]
  },
  {
   "cell_type": "code",
   "execution_count": 18,
   "id": "11fc6c45",
   "metadata": {},
   "outputs": [
    {
     "data": {
      "text/plain": [
       "8"
      ]
     },
     "execution_count": 18,
     "metadata": {},
     "output_type": "execute_result"
    }
   ],
   "source": [
    "txtRdd2.count() #action함수"
   ]
  },
  {
   "cell_type": "code",
   "execution_count": 19,
   "id": "8d6279d4",
   "metadata": {},
   "outputs": [],
   "source": [
    "sc.stop()"
   ]
  }
 ],
 "metadata": {
  "kernelspec": {
   "display_name": "Python 3",
   "language": "python",
   "name": "python3"
  },
  "language_info": {
   "codemirror_mode": {
    "name": "ipython",
    "version": 3
   },
   "file_extension": ".py",
   "mimetype": "text/x-python",
   "name": "python",
   "nbconvert_exporter": "python",
   "pygments_lexer": "ipython3",
   "version": "3.8.8"
  }
 },
 "nbformat": 4,
 "nbformat_minor": 5
}
